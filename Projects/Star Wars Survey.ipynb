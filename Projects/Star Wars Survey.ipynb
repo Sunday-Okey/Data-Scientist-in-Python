{
 "cells": [
  {
   "cell_type": "markdown",
   "id": "d1d43ef9-8c86-473c-b78b-53eb96ed779b",
   "metadata": {},
   "source": [
    "# Star Wars Survey"
   ]
  },
  {
   "cell_type": "markdown",
   "id": "5b57da35-b5af-438e-aa17-8390d5b653d8",
   "metadata": {},
   "source": [
    "While waiting for [Star Wars: The Force Awakens](https://en.wikipedia.org/wiki/Star_Wars:_The_Force_Awakens) to come out, the team at [FiveThirtyEight](https://fivethirtyeight.com/features/americas-favorite-star-wars-movies-and-least-favorite-characters/) became interested in answering some questions about Star Wars fans. In particular, they wondered: does the rest of America realize that “The Empire Strikes Back” is clearly the best of the bunch?"
   ]
  },
  {
   "cell_type": "markdown",
   "id": "14edf37e-b708-4a81-8483-e8e06eddc6b0",
   "metadata": {},
   "source": [
    "The team needed to collect data addressing this question. To do this, they surveyed Star Wars fans using the online tool SurveyMonkey. They received 835 total responses, which you can download from [their GitHub repository](https://github.com/fivethirtyeight/data/tree/master/star-wars-survey)."
   ]
  },
  {
   "cell_type": "code",
   "execution_count": 1,
   "id": "a4d3f74f-5209-45c7-a13f-c29ea4f8beeb",
   "metadata": {},
   "outputs": [
    {
     "data": {
      "text/html": [
       "<div>\n",
       "<style scoped>\n",
       "    .dataframe tbody tr th:only-of-type {\n",
       "        vertical-align: middle;\n",
       "    }\n",
       "\n",
       "    .dataframe tbody tr th {\n",
       "        vertical-align: top;\n",
       "    }\n",
       "\n",
       "    .dataframe thead th {\n",
       "        text-align: right;\n",
       "    }\n",
       "</style>\n",
       "<table border=\"1\" class=\"dataframe\">\n",
       "  <thead>\n",
       "    <tr style=\"text-align: right;\">\n",
       "      <th></th>\n",
       "      <th>RespondentID</th>\n",
       "      <th>Have you seen any of the 6 films in the Star Wars franchise?</th>\n",
       "      <th>Do you consider yourself to be a fan of the Star Wars film franchise?</th>\n",
       "      <th>Which of the following Star Wars films have you seen? Please select all that apply.</th>\n",
       "      <th>Unnamed: 4</th>\n",
       "      <th>Unnamed: 5</th>\n",
       "      <th>Unnamed: 6</th>\n",
       "      <th>Unnamed: 7</th>\n",
       "      <th>Unnamed: 8</th>\n",
       "      <th>Please rank the Star Wars films in order of preference with 1 being your favorite film in the franchise and 6 being your least favorite film.</th>\n",
       "      <th>...</th>\n",
       "      <th>Unnamed: 28</th>\n",
       "      <th>Which character shot first?</th>\n",
       "      <th>Are you familiar with the Expanded Universe?</th>\n",
       "      <th>Do you consider yourself to be a fan of the Expanded Universe?</th>\n",
       "      <th>Do you consider yourself to be a fan of the Star Trek franchise?</th>\n",
       "      <th>Gender</th>\n",
       "      <th>Age</th>\n",
       "      <th>Household Income</th>\n",
       "      <th>Education</th>\n",
       "      <th>Location (Census Region)</th>\n",
       "    </tr>\n",
       "  </thead>\n",
       "  <tbody>\n",
       "    <tr>\n",
       "      <th>0</th>\n",
       "      <td>3292879998</td>\n",
       "      <td>Yes</td>\n",
       "      <td>Yes</td>\n",
       "      <td>Star Wars: Episode I  The Phantom Menace</td>\n",
       "      <td>Star Wars: Episode II  Attack of the Clones</td>\n",
       "      <td>Star Wars: Episode III  Revenge of the Sith</td>\n",
       "      <td>Star Wars: Episode IV  A New Hope</td>\n",
       "      <td>Star Wars: Episode V The Empire Strikes Back</td>\n",
       "      <td>Star Wars: Episode VI Return of the Jedi</td>\n",
       "      <td>3.0</td>\n",
       "      <td>...</td>\n",
       "      <td>Very favorably</td>\n",
       "      <td>I don't understand this question</td>\n",
       "      <td>Yes</td>\n",
       "      <td>No</td>\n",
       "      <td>No</td>\n",
       "      <td>Male</td>\n",
       "      <td>18-29</td>\n",
       "      <td>NaN</td>\n",
       "      <td>High school degree</td>\n",
       "      <td>South Atlantic</td>\n",
       "    </tr>\n",
       "    <tr>\n",
       "      <th>1</th>\n",
       "      <td>3292879538</td>\n",
       "      <td>No</td>\n",
       "      <td>NaN</td>\n",
       "      <td>NaN</td>\n",
       "      <td>NaN</td>\n",
       "      <td>NaN</td>\n",
       "      <td>NaN</td>\n",
       "      <td>NaN</td>\n",
       "      <td>NaN</td>\n",
       "      <td>NaN</td>\n",
       "      <td>...</td>\n",
       "      <td>NaN</td>\n",
       "      <td>NaN</td>\n",
       "      <td>NaN</td>\n",
       "      <td>NaN</td>\n",
       "      <td>Yes</td>\n",
       "      <td>Male</td>\n",
       "      <td>18-29</td>\n",
       "      <td>$0 - $24,999</td>\n",
       "      <td>Bachelor degree</td>\n",
       "      <td>West South Central</td>\n",
       "    </tr>\n",
       "    <tr>\n",
       "      <th>2</th>\n",
       "      <td>3292765271</td>\n",
       "      <td>Yes</td>\n",
       "      <td>No</td>\n",
       "      <td>Star Wars: Episode I  The Phantom Menace</td>\n",
       "      <td>Star Wars: Episode II  Attack of the Clones</td>\n",
       "      <td>Star Wars: Episode III  Revenge of the Sith</td>\n",
       "      <td>NaN</td>\n",
       "      <td>NaN</td>\n",
       "      <td>NaN</td>\n",
       "      <td>1.0</td>\n",
       "      <td>...</td>\n",
       "      <td>Unfamiliar (N/A)</td>\n",
       "      <td>I don't understand this question</td>\n",
       "      <td>No</td>\n",
       "      <td>NaN</td>\n",
       "      <td>No</td>\n",
       "      <td>Male</td>\n",
       "      <td>18-29</td>\n",
       "      <td>$0 - $24,999</td>\n",
       "      <td>High school degree</td>\n",
       "      <td>West North Central</td>\n",
       "    </tr>\n",
       "    <tr>\n",
       "      <th>3</th>\n",
       "      <td>3292763116</td>\n",
       "      <td>Yes</td>\n",
       "      <td>Yes</td>\n",
       "      <td>Star Wars: Episode I  The Phantom Menace</td>\n",
       "      <td>Star Wars: Episode II  Attack of the Clones</td>\n",
       "      <td>Star Wars: Episode III  Revenge of the Sith</td>\n",
       "      <td>Star Wars: Episode IV  A New Hope</td>\n",
       "      <td>Star Wars: Episode V The Empire Strikes Back</td>\n",
       "      <td>Star Wars: Episode VI Return of the Jedi</td>\n",
       "      <td>5.0</td>\n",
       "      <td>...</td>\n",
       "      <td>Very favorably</td>\n",
       "      <td>I don't understand this question</td>\n",
       "      <td>No</td>\n",
       "      <td>NaN</td>\n",
       "      <td>Yes</td>\n",
       "      <td>Male</td>\n",
       "      <td>18-29</td>\n",
       "      <td>$100,000 - $149,999</td>\n",
       "      <td>Some college or Associate degree</td>\n",
       "      <td>West North Central</td>\n",
       "    </tr>\n",
       "    <tr>\n",
       "      <th>4</th>\n",
       "      <td>3292731220</td>\n",
       "      <td>Yes</td>\n",
       "      <td>Yes</td>\n",
       "      <td>Star Wars: Episode I  The Phantom Menace</td>\n",
       "      <td>Star Wars: Episode II  Attack of the Clones</td>\n",
       "      <td>Star Wars: Episode III  Revenge of the Sith</td>\n",
       "      <td>Star Wars: Episode IV  A New Hope</td>\n",
       "      <td>Star Wars: Episode V The Empire Strikes Back</td>\n",
       "      <td>Star Wars: Episode VI Return of the Jedi</td>\n",
       "      <td>5.0</td>\n",
       "      <td>...</td>\n",
       "      <td>Somewhat favorably</td>\n",
       "      <td>Greedo</td>\n",
       "      <td>Yes</td>\n",
       "      <td>No</td>\n",
       "      <td>No</td>\n",
       "      <td>Male</td>\n",
       "      <td>18-29</td>\n",
       "      <td>$100,000 - $149,999</td>\n",
       "      <td>Some college or Associate degree</td>\n",
       "      <td>West North Central</td>\n",
       "    </tr>\n",
       "  </tbody>\n",
       "</table>\n",
       "<p>5 rows × 38 columns</p>\n",
       "</div>"
      ],
      "text/plain": [
       "   RespondentID Have you seen any of the 6 films in the Star Wars franchise?  \\\n",
       "0    3292879998                                                Yes             \n",
       "1    3292879538                                                 No             \n",
       "2    3292765271                                                Yes             \n",
       "3    3292763116                                                Yes             \n",
       "4    3292731220                                                Yes             \n",
       "\n",
       "  Do you consider yourself to be a fan of the Star Wars film franchise?  \\\n",
       "0                                                Yes                      \n",
       "1                                                NaN                      \n",
       "2                                                 No                      \n",
       "3                                                Yes                      \n",
       "4                                                Yes                      \n",
       "\n",
       "  Which of the following Star Wars films have you seen? Please select all that apply.  \\\n",
       "0           Star Wars: Episode I  The Phantom Menace                                    \n",
       "1                                                NaN                                    \n",
       "2           Star Wars: Episode I  The Phantom Menace                                    \n",
       "3           Star Wars: Episode I  The Phantom Menace                                    \n",
       "4           Star Wars: Episode I  The Phantom Menace                                    \n",
       "\n",
       "                                    Unnamed: 4  \\\n",
       "0  Star Wars: Episode II  Attack of the Clones   \n",
       "1                                          NaN   \n",
       "2  Star Wars: Episode II  Attack of the Clones   \n",
       "3  Star Wars: Episode II  Attack of the Clones   \n",
       "4  Star Wars: Episode II  Attack of the Clones   \n",
       "\n",
       "                                    Unnamed: 5  \\\n",
       "0  Star Wars: Episode III  Revenge of the Sith   \n",
       "1                                          NaN   \n",
       "2  Star Wars: Episode III  Revenge of the Sith   \n",
       "3  Star Wars: Episode III  Revenge of the Sith   \n",
       "4  Star Wars: Episode III  Revenge of the Sith   \n",
       "\n",
       "                          Unnamed: 6  \\\n",
       "0  Star Wars: Episode IV  A New Hope   \n",
       "1                                NaN   \n",
       "2                                NaN   \n",
       "3  Star Wars: Episode IV  A New Hope   \n",
       "4  Star Wars: Episode IV  A New Hope   \n",
       "\n",
       "                                     Unnamed: 7  \\\n",
       "0  Star Wars: Episode V The Empire Strikes Back   \n",
       "1                                           NaN   \n",
       "2                                           NaN   \n",
       "3  Star Wars: Episode V The Empire Strikes Back   \n",
       "4  Star Wars: Episode V The Empire Strikes Back   \n",
       "\n",
       "                                 Unnamed: 8  \\\n",
       "0  Star Wars: Episode VI Return of the Jedi   \n",
       "1                                       NaN   \n",
       "2                                       NaN   \n",
       "3  Star Wars: Episode VI Return of the Jedi   \n",
       "4  Star Wars: Episode VI Return of the Jedi   \n",
       "\n",
       "   Please rank the Star Wars films in order of preference with 1 being your favorite film in the franchise and 6 being your least favorite film.  \\\n",
       "0                                                3.0                                                                                               \n",
       "1                                                NaN                                                                                               \n",
       "2                                                1.0                                                                                               \n",
       "3                                                5.0                                                                                               \n",
       "4                                                5.0                                                                                               \n",
       "\n",
       "   ...         Unnamed: 28       Which character shot first?  \\\n",
       "0  ...      Very favorably  I don't understand this question   \n",
       "1  ...                 NaN                               NaN   \n",
       "2  ...    Unfamiliar (N/A)  I don't understand this question   \n",
       "3  ...      Very favorably  I don't understand this question   \n",
       "4  ...  Somewhat favorably                            Greedo   \n",
       "\n",
       "   Are you familiar with the Expanded Universe?  \\\n",
       "0                                           Yes   \n",
       "1                                           NaN   \n",
       "2                                            No   \n",
       "3                                            No   \n",
       "4                                           Yes   \n",
       "\n",
       "   Do you consider yourself to be a fan of the Expanded Universe?  \\\n",
       "0                                                 No                \n",
       "1                                                NaN                \n",
       "2                                                NaN                \n",
       "3                                                NaN                \n",
       "4                                                 No                \n",
       "\n",
       "   Do you consider yourself to be a fan of the Star Trek franchise? Gender  \\\n",
       "0                                                 No                  Male   \n",
       "1                                                Yes                  Male   \n",
       "2                                                 No                  Male   \n",
       "3                                                Yes                  Male   \n",
       "4                                                 No                  Male   \n",
       "\n",
       "     Age     Household Income                         Education  \\\n",
       "0  18-29                  NaN                High school degree   \n",
       "1  18-29         $0 - $24,999                   Bachelor degree   \n",
       "2  18-29         $0 - $24,999                High school degree   \n",
       "3  18-29  $100,000 - $149,999  Some college or Associate degree   \n",
       "4  18-29  $100,000 - $149,999  Some college or Associate degree   \n",
       "\n",
       "  Location (Census Region)  \n",
       "0           South Atlantic  \n",
       "1       West South Central  \n",
       "2       West North Central  \n",
       "3       West North Central  \n",
       "4       West North Central  \n",
       "\n",
       "[5 rows x 38 columns]"
      ]
     },
     "execution_count": 1,
     "metadata": {},
     "output_type": "execute_result"
    }
   ],
   "source": [
    "import pandas as pd\n",
    "star_wars = pd.read_csv(\"../Datasets/star_wars.csv\", encoding=\"ISO-8859-1\")\n",
    "star_wars.head()"
   ]
  },
  {
   "cell_type": "markdown",
   "id": "3f3ed0c6-f7e6-441f-b557-343881bb43cf",
   "metadata": {},
   "source": [
    "The data has several columns, including the following:"
   ]
  },
  {
   "cell_type": "code",
   "execution_count": 2,
   "id": "d6884118-f617-43fc-9ae4-0133522f1f41",
   "metadata": {},
   "outputs": [
    {
     "data": {
      "text/plain": [
       "Index(['RespondentID',\n",
       "       'Have you seen any of the 6 films in the Star Wars franchise?',\n",
       "       'Do you consider yourself to be a fan of the Star Wars film franchise?',\n",
       "       'Which of the following Star Wars films have you seen? Please select all that apply.',\n",
       "       'Unnamed: 4', 'Unnamed: 5', 'Unnamed: 6', 'Unnamed: 7', 'Unnamed: 8',\n",
       "       'Please rank the Star Wars films in order of preference with 1 being your favorite film in the franchise and 6 being your least favorite film.',\n",
       "       'Unnamed: 10', 'Unnamed: 11', 'Unnamed: 12', 'Unnamed: 13',\n",
       "       'Unnamed: 14',\n",
       "       'Please state whether you view the following characters favorably, unfavorably, or are unfamiliar with him/her.',\n",
       "       'Unnamed: 16', 'Unnamed: 17', 'Unnamed: 18', 'Unnamed: 19',\n",
       "       'Unnamed: 20', 'Unnamed: 21', 'Unnamed: 22', 'Unnamed: 23',\n",
       "       'Unnamed: 24', 'Unnamed: 25', 'Unnamed: 26', 'Unnamed: 27',\n",
       "       'Unnamed: 28', 'Which character shot first?',\n",
       "       'Are you familiar with the Expanded Universe?',\n",
       "       'Do you consider yourself to be a fan of the Expanded Universe?',\n",
       "       'Do you consider yourself to be a fan of the Star Trek franchise?',\n",
       "       'Gender', 'Age', 'Household Income', 'Education',\n",
       "       'Location (Census Region)'],\n",
       "      dtype='object')"
      ]
     },
     "execution_count": 2,
     "metadata": {},
     "output_type": "execute_result"
    }
   ],
   "source": [
    "star_wars.columns"
   ]
  },
  {
   "cell_type": "markdown",
   "id": "945c4052-45f3-4d77-a5c2-c481de9efde7",
   "metadata": {},
   "source": [
    "- RespondentID — An anonymized ID for the respondent (person taking the survey)\n",
    "- Gender — the respondent's gender\n",
    "- Age — the respondent's age\n",
    "- Household Income — the respondent's income\n",
    "- Education — the respondent's education level\n",
    "- Location (Census Region) — the respondent's location\n",
    "- Have you seen any of the 6 films in the Star Wars franchise? — a Yes or No response\n",
    "- Do you consider yourself to be a fan of the Star Wars film franchise? — a Yes or No response"
   ]
  },
  {
   "cell_type": "markdown",
   "id": "ac71d1d5-0351-4d48-8380-99d81a679d62",
   "metadata": {},
   "source": [
    "There are several other columns containing answers to questions about the Star Wars movies. For some questions, the respondent had to check one or more boxes. This type of data is difficult to represent in a column. As a result, this dataset needs a lot of cleaning."
   ]
  },
  {
   "cell_type": "code",
   "execution_count": 3,
   "id": "372787b9-9a9f-4ee7-915e-f7301d640179",
   "metadata": {},
   "outputs": [
    {
     "data": {
      "text/plain": [
       "0                                    Very favorably\n",
       "1                                               NaN\n",
       "2                                Somewhat favorably\n",
       "3                                    Very favorably\n",
       "4                                Somewhat favorably\n",
       "                           ...                     \n",
       "1181                             Somewhat favorably\n",
       "1182                             Somewhat favorably\n",
       "1183                                            NaN\n",
       "1184    Neither favorably nor unfavorably (neutral)\n",
       "1185                                 Very favorably\n",
       "Name: Unnamed: 16, Length: 1186, dtype: object"
      ]
     },
     "execution_count": 3,
     "metadata": {},
     "output_type": "execute_result"
    }
   ],
   "source": [
    "star_wars['Unnamed: 16']"
   ]
  },
  {
   "cell_type": "code",
   "execution_count": 4,
   "id": "8fae9fe0-335a-434f-b448-ddd3ff03e861",
   "metadata": {},
   "outputs": [
    {
     "data": {
      "text/plain": [
       "0           Very favorably\n",
       "1                      NaN\n",
       "2       Somewhat favorably\n",
       "3           Very favorably\n",
       "4           Very favorably\n",
       "               ...        \n",
       "1181        Very favorably\n",
       "1182        Very favorably\n",
       "1183                   NaN\n",
       "1184        Very favorably\n",
       "1185        Very favorably\n",
       "Name: Please state whether you view the following characters favorably, unfavorably, or are unfamiliar with him/her., Length: 1186, dtype: object"
      ]
     },
     "execution_count": 4,
     "metadata": {},
     "output_type": "execute_result"
    }
   ],
   "source": [
    "star_wars['Please state whether you view the following characters favorably, unfavorably, or are unfamiliar with him/her.']"
   ]
  },
  {
   "cell_type": "markdown",
   "id": "8d339b1e-8097-4eb1-9ea6-7e27f1891371",
   "metadata": {},
   "source": [
    "## Cleaning and Mapping Yes/No Columns"
   ]
  },
  {
   "cell_type": "markdown",
   "id": "75eb0a06-1161-4ed2-9117-a30a6a986c7f",
   "metadata": {},
   "source": [
    "Take a look at the next two columns:"
   ]
  },
  {
   "cell_type": "markdown",
   "id": "7e596dd3-b739-4858-b2f4-95fa72ca24ad",
   "metadata": {},
   "source": [
    "- Have you seen any of the 6 films in the Star Wars franchise?\n",
    "- Do you consider yourself to be a fan of the Star Wars film franchise?"
   ]
  },
  {
   "cell_type": "markdown",
   "id": "b3dac6bb-f971-49ef-8ea1-7c2ff1d667be",
   "metadata": {},
   "source": [
    "Both represent Yes/No questions. They can also be NaN where a respondent chooses not to answer a question. We can use the [pandas.Series.value_counts()](https://pandas.pydata.org/pandas-docs/stable/reference/api/pandas.Series.value_counts.html) method on a series to see all of the unique values in a column, along with the total number of times each value appears."
   ]
  },
  {
   "cell_type": "markdown",
   "id": "c92a50de-6193-4b3a-8722-b7ee3d9ec9b9",
   "metadata": {},
   "source": [
    "Both columns are currently string types, because the main values they contain are Yes and No. We can make the data a bit easier to analyze later by converting each column to a Boolean with only the values True, False, and NaN. Booleans are easier to work with because we can select the rows that are True or False without having to do a string comparison."
   ]
  },
  {
   "cell_type": "markdown",
   "id": "f4f647af-2426-4ba2-b409-c17e71d11428",
   "metadata": {},
   "source": [
    "We can use the pandas.Series.map() method on series objects to perform the conversion."
   ]
  },
  {
   "cell_type": "markdown",
   "id": "0c93a37c-cfa4-4a25-a53e-f49cdcc2cc21",
   "metadata": {},
   "source": [
    "For example, imagine we have a series that looks like this:"
   ]
  },
  {
   "cell_type": "code",
   "execution_count": 5,
   "id": "09c37133-d634-45a0-9007-9ce0f423ec69",
   "metadata": {},
   "outputs": [],
   "source": [
    "# series = [\"Yes\", \"No\", NaN, \"Yes\"]"
   ]
  },
  {
   "cell_type": "markdown",
   "id": "233853c0-a990-42b1-b095-f4380b2cee2b",
   "metadata": {},
   "source": [
    "We can use a dictionary to define a mapping from each value in series to a new value:"
   ]
  },
  {
   "cell_type": "code",
   "execution_count": 6,
   "id": "0a1504a2-c3ce-4de3-958c-9b3d5e9aa037",
   "metadata": {},
   "outputs": [],
   "source": [
    "yes_no = {\n",
    "    \"Yes\": True,\n",
    "    \"No\": False\n",
    "}"
   ]
  },
  {
   "cell_type": "markdown",
   "id": "a5746434-f8d9-46c4-9a0a-7696b20a59c5",
   "metadata": {},
   "source": [
    "Then, we can call the map() function to perform the mapping:"
   ]
  },
  {
   "cell_type": "code",
   "execution_count": 7,
   "id": "2dd2ebf2-d3e0-4625-b3e0-bb201f272d77",
   "metadata": {},
   "outputs": [],
   "source": [
    "# series = series.map(yes_no)"
   ]
  },
  {
   "cell_type": "markdown",
   "id": "e5f7eb77-883f-4828-8449-1bb43cd1117e",
   "metadata": {},
   "source": [
    "series will look like this:"
   ]
  },
  {
   "cell_type": "code",
   "execution_count": 8,
   "id": "abf3b492-a874-47cf-a2dc-9bac9b40adba",
   "metadata": {},
   "outputs": [],
   "source": [
    "# [True, False, NaN, True]"
   ]
  },
  {
   "cell_type": "code",
   "execution_count": 9,
   "id": "d9cc5011-0455-4794-868c-a122034be62d",
   "metadata": {},
   "outputs": [],
   "source": [
    "yes_no = {\n",
    "    \"Yes\": True,\n",
    "    \"No\": False\n",
    "}"
   ]
  },
  {
   "cell_type": "code",
   "execution_count": 10,
   "id": "4b8efd92-2e7d-4382-994a-707c8e8eb0af",
   "metadata": {},
   "outputs": [],
   "source": [
    "star_wars['Have you seen any of the 6 films in the Star Wars franchise?'] = star_wars['Have you seen any of the 6 films in the Star Wars franchise?'].map(yes_no)\n",
    "star_wars['Do you consider yourself to be a fan of the Star Wars film franchise?'] = star_wars['Do you consider yourself to be a fan of the Star Wars film franchise?'].map(yes_no)"
   ]
  },
  {
   "cell_type": "markdown",
   "id": "5dfa2dd2-546c-4354-b520-1c216a4cea89",
   "metadata": {},
   "source": [
    "## Cleaning and Mapping Checkbox Columns"
   ]
  },
  {
   "cell_type": "markdown",
   "id": "833d15bd-ac7c-46db-9622-d6ddc5af828d",
   "metadata": {},
   "source": [
    "The next six columns represent a single checkbox question. The respondent checked off a series of boxes in response to the question, Which of the following Star Wars films have you seen? Please select all that apply."
   ]
  },
  {
   "cell_type": "code",
   "execution_count": 11,
   "id": "306acf65-7b72-42f9-bb69-18ffd96379c2",
   "metadata": {},
   "outputs": [
    {
     "data": {
      "text/plain": [
       "array(['Star Wars: Episode I  The Phantom Menace', nan], dtype=object)"
      ]
     },
     "execution_count": 11,
     "metadata": {},
     "output_type": "execute_result"
    }
   ],
   "source": [
    "star_wars['Which of the following Star Wars films have you seen? Please select all that apply.'].unique()"
   ]
  },
  {
   "cell_type": "markdown",
   "id": "1e57af2a-e00b-49da-b48d-52c685d4d353",
   "metadata": {},
   "source": [
    "The columns for this question are:"
   ]
  },
  {
   "cell_type": "markdown",
   "id": "eae7ccca-99d4-4a9a-99ed-2631bc1dd8d4",
   "metadata": {},
   "source": [
    "- Which of the following Star Wars films have you seen? Please select all that apply. — whether or not the respondent saw Star Wars: Episode I The Phantom Menace.\n",
    "- Unnamed: 4 — whether or not the respondent saw Star Wars: Episode II Attack of the Clones.\n",
    "- Unnamed: 5 — whether or not the respondent saw Star Wars: Episode III Revenge of the Sith.\n",
    "- Unnamed: 6 — whether or not the respondent saw Star Wars: Episode IV A New Hope.\n",
    "- Unnamed: 7 — whether or not the respondent saw Star Wars: Episode V The Empire Strikes Back.\n",
    "- Unnamed: 8 — whether or not the respondent saw Star Wars: Episode VI Return of the Jedi."
   ]
  },
  {
   "cell_type": "markdown",
   "id": "a87c8da5-7173-426c-87cf-acab096578c7",
   "metadata": {},
   "source": [
    "For each of these columns, if the value in a cell is the name of the movie, that means the respondent saw the movie. If the value is NaN, the respondent either didn't answer or didn't see the movie. We'll assume that they didn't see the movie."
   ]
  },
  {
   "cell_type": "markdown",
   "id": "7f9c3131-05a5-4de3-b278-1047624f5398",
   "metadata": {},
   "source": [
    "We'll need to convert each of these columns to a Boolean, then rename the column something more intuitive. We can convert the values the same way we did earlier, except that we'll need to include the movie title and NaN in the mapping dictionary."
   ]
  },
  {
   "cell_type": "markdown",
   "id": "690936f8-3418-4ad4-8cd6-efa713371ceb",
   "metadata": {},
   "source": [
    "For example, imagine we had this column series:"
   ]
  },
  {
   "cell_type": "code",
   "execution_count": 12,
   "id": "aa00f6f4-0caf-4731-a969-5b45c348b0b6",
   "metadata": {},
   "outputs": [],
   "source": [
    "# [\"Star Wars: Episode I  The Phantom Menace\", NaN, \"Star Wars: Episode I  The Phantom Menace\"]"
   ]
  },
  {
   "cell_type": "markdown",
   "id": "8c4eacb7-0fa7-42b0-8f1b-27e46d5ed59e",
   "metadata": {},
   "source": [
    "We could convert the values using this mapping dictionary:"
   ]
  },
  {
   "cell_type": "code",
   "execution_count": 13,
   "id": "ac642246-37d0-40e1-93b9-dd70d214d65d",
   "metadata": {},
   "outputs": [
    {
     "data": {
      "text/plain": [
       "{'Star Wars: Episode I  The Phantom Menace': True, nan: False}"
      ]
     },
     "execution_count": 13,
     "metadata": {},
     "output_type": "execute_result"
    }
   ],
   "source": [
    "import numpy as np\n",
    "{\n",
    "    \"Star Wars: Episode I  The Phantom Menace\": True,\n",
    "    np.NaN: False\n",
    "}"
   ]
  },
  {
   "cell_type": "markdown",
   "id": "7d46fb6f-e565-472d-b312-301713aaa5f1",
   "metadata": {},
   "source": [
    "After calling the map() method on a series, the column should only contain the values True and False."
   ]
  },
  {
   "cell_type": "markdown",
   "id": "26d673a4-e7a8-4f76-a05c-d2defca397b4",
   "metadata": {},
   "source": [
    "Next, we'll need to rename the columns to reflect what they represent. We can use the [pandas.DataFrame.rename()](https://pandas.pydata.org/pandas-docs/stable/reference/api/pandas.DataFrame.rename.html) method on DataFrames to do this."
   ]
  },
  {
   "cell_type": "markdown",
   "id": "53af6002-2bcd-4931-9db8-d5820ca810d7",
   "metadata": {},
   "source": [
    "The df.rename() method works a lot like map(). We pass it a dictionary that maps the current column names to new ones:"
   ]
  },
  {
   "cell_type": "code",
   "execution_count": 14,
   "id": "b7242fd3-78c3-4d07-98fd-1a74b680f158",
   "metadata": {},
   "outputs": [],
   "source": [
    "# star_wars = star_wars.rename(columns={\n",
    "#     \"Which of the following Star Wars films have you seen? Please select all that apply.\": \"seen_1\"\n",
    "# })"
   ]
  },
  {
   "cell_type": "markdown",
   "id": "aa3d9987-1101-420b-a3cf-2ee714b75510",
   "metadata": {},
   "source": [
    "The pandas.DataFrame.rename() method only renames the columns we specify in the dictionary; it won't change the names of other columns. The code above renames the Which of the following Star Wars films have you seen? Please select all that apply. column to seen_1."
   ]
  },
  {
   "cell_type": "code",
   "execution_count": 25,
   "id": "060606e0-23a4-4663-b058-3043e6ffd983",
   "metadata": {},
   "outputs": [],
   "source": [
    "star_wars.iloc[:, 3:9] = star_wars.iloc[:, 3:9].map(lambda x: False if pd.isnull(x) else True )"
   ]
  },
  {
   "cell_type": "code",
   "execution_count": 26,
   "id": "5c6c1e16-8b38-49d1-9b16-2a522a2e7f04",
   "metadata": {},
   "outputs": [
    {
     "data": {
      "text/html": [
       "<div>\n",
       "<style scoped>\n",
       "    .dataframe tbody tr th:only-of-type {\n",
       "        vertical-align: middle;\n",
       "    }\n",
       "\n",
       "    .dataframe tbody tr th {\n",
       "        vertical-align: top;\n",
       "    }\n",
       "\n",
       "    .dataframe thead th {\n",
       "        text-align: right;\n",
       "    }\n",
       "</style>\n",
       "<table border=\"1\" class=\"dataframe\">\n",
       "  <thead>\n",
       "    <tr style=\"text-align: right;\">\n",
       "      <th></th>\n",
       "      <th>RespondentID</th>\n",
       "      <th>Have you seen any of the 6 films in the Star Wars franchise?</th>\n",
       "      <th>Do you consider yourself to be a fan of the Star Wars film franchise?</th>\n",
       "      <th>Which of the following Star Wars films have you seen? Please select all that apply.</th>\n",
       "      <th>Unnamed: 4</th>\n",
       "      <th>Unnamed: 5</th>\n",
       "      <th>Unnamed: 6</th>\n",
       "      <th>Unnamed: 7</th>\n",
       "      <th>Unnamed: 8</th>\n",
       "      <th>Please rank the Star Wars films in order of preference with 1 being your favorite film in the franchise and 6 being your least favorite film.</th>\n",
       "      <th>...</th>\n",
       "      <th>Unnamed: 28</th>\n",
       "      <th>Which character shot first?</th>\n",
       "      <th>Are you familiar with the Expanded Universe?</th>\n",
       "      <th>Do you consider yourself to be a fan of the Expanded Universe?</th>\n",
       "      <th>Do you consider yourself to be a fan of the Star Trek franchise?</th>\n",
       "      <th>Gender</th>\n",
       "      <th>Age</th>\n",
       "      <th>Household Income</th>\n",
       "      <th>Education</th>\n",
       "      <th>Location (Census Region)</th>\n",
       "    </tr>\n",
       "  </thead>\n",
       "  <tbody>\n",
       "    <tr>\n",
       "      <th>0</th>\n",
       "      <td>3292879998</td>\n",
       "      <td>True</td>\n",
       "      <td>True</td>\n",
       "      <td>True</td>\n",
       "      <td>True</td>\n",
       "      <td>True</td>\n",
       "      <td>True</td>\n",
       "      <td>True</td>\n",
       "      <td>True</td>\n",
       "      <td>3.0</td>\n",
       "      <td>...</td>\n",
       "      <td>Very favorably</td>\n",
       "      <td>I don't understand this question</td>\n",
       "      <td>Yes</td>\n",
       "      <td>No</td>\n",
       "      <td>No</td>\n",
       "      <td>Male</td>\n",
       "      <td>18-29</td>\n",
       "      <td>NaN</td>\n",
       "      <td>High school degree</td>\n",
       "      <td>South Atlantic</td>\n",
       "    </tr>\n",
       "    <tr>\n",
       "      <th>1</th>\n",
       "      <td>3292879538</td>\n",
       "      <td>False</td>\n",
       "      <td>NaN</td>\n",
       "      <td>False</td>\n",
       "      <td>False</td>\n",
       "      <td>False</td>\n",
       "      <td>False</td>\n",
       "      <td>False</td>\n",
       "      <td>False</td>\n",
       "      <td>NaN</td>\n",
       "      <td>...</td>\n",
       "      <td>NaN</td>\n",
       "      <td>NaN</td>\n",
       "      <td>NaN</td>\n",
       "      <td>NaN</td>\n",
       "      <td>Yes</td>\n",
       "      <td>Male</td>\n",
       "      <td>18-29</td>\n",
       "      <td>$0 - $24,999</td>\n",
       "      <td>Bachelor degree</td>\n",
       "      <td>West South Central</td>\n",
       "    </tr>\n",
       "    <tr>\n",
       "      <th>2</th>\n",
       "      <td>3292765271</td>\n",
       "      <td>True</td>\n",
       "      <td>False</td>\n",
       "      <td>True</td>\n",
       "      <td>True</td>\n",
       "      <td>True</td>\n",
       "      <td>False</td>\n",
       "      <td>False</td>\n",
       "      <td>False</td>\n",
       "      <td>1.0</td>\n",
       "      <td>...</td>\n",
       "      <td>Unfamiliar (N/A)</td>\n",
       "      <td>I don't understand this question</td>\n",
       "      <td>No</td>\n",
       "      <td>NaN</td>\n",
       "      <td>No</td>\n",
       "      <td>Male</td>\n",
       "      <td>18-29</td>\n",
       "      <td>$0 - $24,999</td>\n",
       "      <td>High school degree</td>\n",
       "      <td>West North Central</td>\n",
       "    </tr>\n",
       "    <tr>\n",
       "      <th>3</th>\n",
       "      <td>3292763116</td>\n",
       "      <td>True</td>\n",
       "      <td>True</td>\n",
       "      <td>True</td>\n",
       "      <td>True</td>\n",
       "      <td>True</td>\n",
       "      <td>True</td>\n",
       "      <td>True</td>\n",
       "      <td>True</td>\n",
       "      <td>5.0</td>\n",
       "      <td>...</td>\n",
       "      <td>Very favorably</td>\n",
       "      <td>I don't understand this question</td>\n",
       "      <td>No</td>\n",
       "      <td>NaN</td>\n",
       "      <td>Yes</td>\n",
       "      <td>Male</td>\n",
       "      <td>18-29</td>\n",
       "      <td>$100,000 - $149,999</td>\n",
       "      <td>Some college or Associate degree</td>\n",
       "      <td>West North Central</td>\n",
       "    </tr>\n",
       "    <tr>\n",
       "      <th>4</th>\n",
       "      <td>3292731220</td>\n",
       "      <td>True</td>\n",
       "      <td>True</td>\n",
       "      <td>True</td>\n",
       "      <td>True</td>\n",
       "      <td>True</td>\n",
       "      <td>True</td>\n",
       "      <td>True</td>\n",
       "      <td>True</td>\n",
       "      <td>5.0</td>\n",
       "      <td>...</td>\n",
       "      <td>Somewhat favorably</td>\n",
       "      <td>Greedo</td>\n",
       "      <td>Yes</td>\n",
       "      <td>No</td>\n",
       "      <td>No</td>\n",
       "      <td>Male</td>\n",
       "      <td>18-29</td>\n",
       "      <td>$100,000 - $149,999</td>\n",
       "      <td>Some college or Associate degree</td>\n",
       "      <td>West North Central</td>\n",
       "    </tr>\n",
       "    <tr>\n",
       "      <th>...</th>\n",
       "      <td>...</td>\n",
       "      <td>...</td>\n",
       "      <td>...</td>\n",
       "      <td>...</td>\n",
       "      <td>...</td>\n",
       "      <td>...</td>\n",
       "      <td>...</td>\n",
       "      <td>...</td>\n",
       "      <td>...</td>\n",
       "      <td>...</td>\n",
       "      <td>...</td>\n",
       "      <td>...</td>\n",
       "      <td>...</td>\n",
       "      <td>...</td>\n",
       "      <td>...</td>\n",
       "      <td>...</td>\n",
       "      <td>...</td>\n",
       "      <td>...</td>\n",
       "      <td>...</td>\n",
       "      <td>...</td>\n",
       "      <td>...</td>\n",
       "    </tr>\n",
       "    <tr>\n",
       "      <th>1181</th>\n",
       "      <td>3288388730</td>\n",
       "      <td>True</td>\n",
       "      <td>True</td>\n",
       "      <td>True</td>\n",
       "      <td>True</td>\n",
       "      <td>True</td>\n",
       "      <td>True</td>\n",
       "      <td>True</td>\n",
       "      <td>True</td>\n",
       "      <td>5.0</td>\n",
       "      <td>...</td>\n",
       "      <td>Very favorably</td>\n",
       "      <td>Han</td>\n",
       "      <td>No</td>\n",
       "      <td>NaN</td>\n",
       "      <td>Yes</td>\n",
       "      <td>Female</td>\n",
       "      <td>18-29</td>\n",
       "      <td>$0 - $24,999</td>\n",
       "      <td>Some college or Associate degree</td>\n",
       "      <td>East North Central</td>\n",
       "    </tr>\n",
       "    <tr>\n",
       "      <th>1182</th>\n",
       "      <td>3288378779</td>\n",
       "      <td>True</td>\n",
       "      <td>True</td>\n",
       "      <td>True</td>\n",
       "      <td>True</td>\n",
       "      <td>True</td>\n",
       "      <td>True</td>\n",
       "      <td>True</td>\n",
       "      <td>True</td>\n",
       "      <td>4.0</td>\n",
       "      <td>...</td>\n",
       "      <td>Very favorably</td>\n",
       "      <td>I don't understand this question</td>\n",
       "      <td>No</td>\n",
       "      <td>NaN</td>\n",
       "      <td>Yes</td>\n",
       "      <td>Female</td>\n",
       "      <td>30-44</td>\n",
       "      <td>$50,000 - $99,999</td>\n",
       "      <td>Bachelor degree</td>\n",
       "      <td>Mountain</td>\n",
       "    </tr>\n",
       "    <tr>\n",
       "      <th>1183</th>\n",
       "      <td>3288375286</td>\n",
       "      <td>False</td>\n",
       "      <td>NaN</td>\n",
       "      <td>False</td>\n",
       "      <td>False</td>\n",
       "      <td>False</td>\n",
       "      <td>False</td>\n",
       "      <td>False</td>\n",
       "      <td>False</td>\n",
       "      <td>NaN</td>\n",
       "      <td>...</td>\n",
       "      <td>NaN</td>\n",
       "      <td>NaN</td>\n",
       "      <td>NaN</td>\n",
       "      <td>NaN</td>\n",
       "      <td>No</td>\n",
       "      <td>Female</td>\n",
       "      <td>30-44</td>\n",
       "      <td>$50,000 - $99,999</td>\n",
       "      <td>Bachelor degree</td>\n",
       "      <td>Middle Atlantic</td>\n",
       "    </tr>\n",
       "    <tr>\n",
       "      <th>1184</th>\n",
       "      <td>3288373068</td>\n",
       "      <td>True</td>\n",
       "      <td>True</td>\n",
       "      <td>True</td>\n",
       "      <td>True</td>\n",
       "      <td>True</td>\n",
       "      <td>True</td>\n",
       "      <td>True</td>\n",
       "      <td>True</td>\n",
       "      <td>4.0</td>\n",
       "      <td>...</td>\n",
       "      <td>Very favorably</td>\n",
       "      <td>Han</td>\n",
       "      <td>No</td>\n",
       "      <td>NaN</td>\n",
       "      <td>Yes</td>\n",
       "      <td>Female</td>\n",
       "      <td>45-60</td>\n",
       "      <td>$100,000 - $149,999</td>\n",
       "      <td>Some college or Associate degree</td>\n",
       "      <td>East North Central</td>\n",
       "    </tr>\n",
       "    <tr>\n",
       "      <th>1185</th>\n",
       "      <td>3288372923</td>\n",
       "      <td>True</td>\n",
       "      <td>False</td>\n",
       "      <td>True</td>\n",
       "      <td>True</td>\n",
       "      <td>False</td>\n",
       "      <td>False</td>\n",
       "      <td>True</td>\n",
       "      <td>True</td>\n",
       "      <td>6.0</td>\n",
       "      <td>...</td>\n",
       "      <td>Very unfavorably</td>\n",
       "      <td>I don't understand this question</td>\n",
       "      <td>No</td>\n",
       "      <td>NaN</td>\n",
       "      <td>No</td>\n",
       "      <td>Female</td>\n",
       "      <td>&gt; 60</td>\n",
       "      <td>$50,000 - $99,999</td>\n",
       "      <td>Graduate degree</td>\n",
       "      <td>Pacific</td>\n",
       "    </tr>\n",
       "  </tbody>\n",
       "</table>\n",
       "<p>1186 rows × 38 columns</p>\n",
       "</div>"
      ],
      "text/plain": [
       "      RespondentID  \\\n",
       "0       3292879998   \n",
       "1       3292879538   \n",
       "2       3292765271   \n",
       "3       3292763116   \n",
       "4       3292731220   \n",
       "...            ...   \n",
       "1181    3288388730   \n",
       "1182    3288378779   \n",
       "1183    3288375286   \n",
       "1184    3288373068   \n",
       "1185    3288372923   \n",
       "\n",
       "      Have you seen any of the 6 films in the Star Wars franchise?  \\\n",
       "0                                                  True              \n",
       "1                                                 False              \n",
       "2                                                  True              \n",
       "3                                                  True              \n",
       "4                                                  True              \n",
       "...                                                 ...              \n",
       "1181                                               True              \n",
       "1182                                               True              \n",
       "1183                                              False              \n",
       "1184                                               True              \n",
       "1185                                               True              \n",
       "\n",
       "     Do you consider yourself to be a fan of the Star Wars film franchise?  \\\n",
       "0                                                  True                      \n",
       "1                                                   NaN                      \n",
       "2                                                 False                      \n",
       "3                                                  True                      \n",
       "4                                                  True                      \n",
       "...                                                 ...                      \n",
       "1181                                               True                      \n",
       "1182                                               True                      \n",
       "1183                                                NaN                      \n",
       "1184                                               True                      \n",
       "1185                                              False                      \n",
       "\n",
       "     Which of the following Star Wars films have you seen? Please select all that apply.  \\\n",
       "0                                                  True                                    \n",
       "1                                                 False                                    \n",
       "2                                                  True                                    \n",
       "3                                                  True                                    \n",
       "4                                                  True                                    \n",
       "...                                                 ...                                    \n",
       "1181                                               True                                    \n",
       "1182                                               True                                    \n",
       "1183                                              False                                    \n",
       "1184                                               True                                    \n",
       "1185                                               True                                    \n",
       "\n",
       "     Unnamed: 4 Unnamed: 5 Unnamed: 6 Unnamed: 7 Unnamed: 8  \\\n",
       "0          True       True       True       True       True   \n",
       "1         False      False      False      False      False   \n",
       "2          True       True      False      False      False   \n",
       "3          True       True       True       True       True   \n",
       "4          True       True       True       True       True   \n",
       "...         ...        ...        ...        ...        ...   \n",
       "1181       True       True       True       True       True   \n",
       "1182       True       True       True       True       True   \n",
       "1183      False      False      False      False      False   \n",
       "1184       True       True       True       True       True   \n",
       "1185       True      False      False       True       True   \n",
       "\n",
       "      Please rank the Star Wars films in order of preference with 1 being your favorite film in the franchise and 6 being your least favorite film.  \\\n",
       "0                                                   3.0                                                                                               \n",
       "1                                                   NaN                                                                                               \n",
       "2                                                   1.0                                                                                               \n",
       "3                                                   5.0                                                                                               \n",
       "4                                                   5.0                                                                                               \n",
       "...                                                 ...                                                                                               \n",
       "1181                                                5.0                                                                                               \n",
       "1182                                                4.0                                                                                               \n",
       "1183                                                NaN                                                                                               \n",
       "1184                                                4.0                                                                                               \n",
       "1185                                                6.0                                                                                               \n",
       "\n",
       "      ...         Unnamed: 28       Which character shot first?  \\\n",
       "0     ...      Very favorably  I don't understand this question   \n",
       "1     ...                 NaN                               NaN   \n",
       "2     ...    Unfamiliar (N/A)  I don't understand this question   \n",
       "3     ...      Very favorably  I don't understand this question   \n",
       "4     ...  Somewhat favorably                            Greedo   \n",
       "...   ...                 ...                               ...   \n",
       "1181  ...      Very favorably                               Han   \n",
       "1182  ...      Very favorably  I don't understand this question   \n",
       "1183  ...                 NaN                               NaN   \n",
       "1184  ...      Very favorably                               Han   \n",
       "1185  ...    Very unfavorably  I don't understand this question   \n",
       "\n",
       "      Are you familiar with the Expanded Universe?  \\\n",
       "0                                              Yes   \n",
       "1                                              NaN   \n",
       "2                                               No   \n",
       "3                                               No   \n",
       "4                                              Yes   \n",
       "...                                            ...   \n",
       "1181                                            No   \n",
       "1182                                            No   \n",
       "1183                                           NaN   \n",
       "1184                                            No   \n",
       "1185                                            No   \n",
       "\n",
       "      Do you consider yourself to be a fan of the Expanded Universe?  \\\n",
       "0                                                    No                \n",
       "1                                                   NaN                \n",
       "2                                                   NaN                \n",
       "3                                                   NaN                \n",
       "4                                                    No                \n",
       "...                                                 ...                \n",
       "1181                                                NaN                \n",
       "1182                                                NaN                \n",
       "1183                                                NaN                \n",
       "1184                                                NaN                \n",
       "1185                                                NaN                \n",
       "\n",
       "      Do you consider yourself to be a fan of the Star Trek franchise?  \\\n",
       "0                                                    No                  \n",
       "1                                                   Yes                  \n",
       "2                                                    No                  \n",
       "3                                                   Yes                  \n",
       "4                                                    No                  \n",
       "...                                                 ...                  \n",
       "1181                                                Yes                  \n",
       "1182                                                Yes                  \n",
       "1183                                                 No                  \n",
       "1184                                                Yes                  \n",
       "1185                                                 No                  \n",
       "\n",
       "      Gender    Age     Household Income                         Education  \\\n",
       "0       Male  18-29                  NaN                High school degree   \n",
       "1       Male  18-29         $0 - $24,999                   Bachelor degree   \n",
       "2       Male  18-29         $0 - $24,999                High school degree   \n",
       "3       Male  18-29  $100,000 - $149,999  Some college or Associate degree   \n",
       "4       Male  18-29  $100,000 - $149,999  Some college or Associate degree   \n",
       "...      ...    ...                  ...                               ...   \n",
       "1181  Female  18-29         $0 - $24,999  Some college or Associate degree   \n",
       "1182  Female  30-44    $50,000 - $99,999                   Bachelor degree   \n",
       "1183  Female  30-44    $50,000 - $99,999                   Bachelor degree   \n",
       "1184  Female  45-60  $100,000 - $149,999  Some college or Associate degree   \n",
       "1185  Female   > 60    $50,000 - $99,999                   Graduate degree   \n",
       "\n",
       "     Location (Census Region)  \n",
       "0              South Atlantic  \n",
       "1          West South Central  \n",
       "2          West North Central  \n",
       "3          West North Central  \n",
       "4          West North Central  \n",
       "...                       ...  \n",
       "1181       East North Central  \n",
       "1182                 Mountain  \n",
       "1183          Middle Atlantic  \n",
       "1184       East North Central  \n",
       "1185                  Pacific  \n",
       "\n",
       "[1186 rows x 38 columns]"
      ]
     },
     "execution_count": 26,
     "metadata": {},
     "output_type": "execute_result"
    }
   ],
   "source": [
    "star_wars"
   ]
  },
  {
   "cell_type": "code",
   "execution_count": 27,
   "id": "1897f29d-75c9-4640-b37a-0146f8b8b6c1",
   "metadata": {},
   "outputs": [
    {
     "data": {
      "text/html": [
       "<div>\n",
       "<style scoped>\n",
       "    .dataframe tbody tr th:only-of-type {\n",
       "        vertical-align: middle;\n",
       "    }\n",
       "\n",
       "    .dataframe tbody tr th {\n",
       "        vertical-align: top;\n",
       "    }\n",
       "\n",
       "    .dataframe thead th {\n",
       "        text-align: right;\n",
       "    }\n",
       "</style>\n",
       "<table border=\"1\" class=\"dataframe\">\n",
       "  <thead>\n",
       "    <tr style=\"text-align: right;\">\n",
       "      <th></th>\n",
       "      <th>RespondentID</th>\n",
       "      <th>Have you seen any of the 6 films in the Star Wars franchise?</th>\n",
       "      <th>Do you consider yourself to be a fan of the Star Wars film franchise?</th>\n",
       "      <th>seen_1</th>\n",
       "      <th>seen_2</th>\n",
       "      <th>seen_3</th>\n",
       "      <th>seen_4</th>\n",
       "      <th>seen_5</th>\n",
       "      <th>seen_6</th>\n",
       "      <th>Please rank the Star Wars films in order of preference with 1 being your favorite film in the franchise and 6 being your least favorite film.</th>\n",
       "      <th>...</th>\n",
       "      <th>Unnamed: 28</th>\n",
       "      <th>Which character shot first?</th>\n",
       "      <th>Are you familiar with the Expanded Universe?</th>\n",
       "      <th>Do you consider yourself to be a fan of the Expanded Universe?</th>\n",
       "      <th>Do you consider yourself to be a fan of the Star Trek franchise?</th>\n",
       "      <th>Gender</th>\n",
       "      <th>Age</th>\n",
       "      <th>Household Income</th>\n",
       "      <th>Education</th>\n",
       "      <th>Location (Census Region)</th>\n",
       "    </tr>\n",
       "  </thead>\n",
       "  <tbody>\n",
       "    <tr>\n",
       "      <th>0</th>\n",
       "      <td>3292879998</td>\n",
       "      <td>True</td>\n",
       "      <td>True</td>\n",
       "      <td>True</td>\n",
       "      <td>True</td>\n",
       "      <td>True</td>\n",
       "      <td>True</td>\n",
       "      <td>True</td>\n",
       "      <td>True</td>\n",
       "      <td>3.0</td>\n",
       "      <td>...</td>\n",
       "      <td>Very favorably</td>\n",
       "      <td>I don't understand this question</td>\n",
       "      <td>Yes</td>\n",
       "      <td>No</td>\n",
       "      <td>No</td>\n",
       "      <td>Male</td>\n",
       "      <td>18-29</td>\n",
       "      <td>NaN</td>\n",
       "      <td>High school degree</td>\n",
       "      <td>South Atlantic</td>\n",
       "    </tr>\n",
       "    <tr>\n",
       "      <th>1</th>\n",
       "      <td>3292879538</td>\n",
       "      <td>False</td>\n",
       "      <td>NaN</td>\n",
       "      <td>False</td>\n",
       "      <td>False</td>\n",
       "      <td>False</td>\n",
       "      <td>False</td>\n",
       "      <td>False</td>\n",
       "      <td>False</td>\n",
       "      <td>NaN</td>\n",
       "      <td>...</td>\n",
       "      <td>NaN</td>\n",
       "      <td>NaN</td>\n",
       "      <td>NaN</td>\n",
       "      <td>NaN</td>\n",
       "      <td>Yes</td>\n",
       "      <td>Male</td>\n",
       "      <td>18-29</td>\n",
       "      <td>$0 - $24,999</td>\n",
       "      <td>Bachelor degree</td>\n",
       "      <td>West South Central</td>\n",
       "    </tr>\n",
       "    <tr>\n",
       "      <th>2</th>\n",
       "      <td>3292765271</td>\n",
       "      <td>True</td>\n",
       "      <td>False</td>\n",
       "      <td>True</td>\n",
       "      <td>True</td>\n",
       "      <td>True</td>\n",
       "      <td>False</td>\n",
       "      <td>False</td>\n",
       "      <td>False</td>\n",
       "      <td>1.0</td>\n",
       "      <td>...</td>\n",
       "      <td>Unfamiliar (N/A)</td>\n",
       "      <td>I don't understand this question</td>\n",
       "      <td>No</td>\n",
       "      <td>NaN</td>\n",
       "      <td>No</td>\n",
       "      <td>Male</td>\n",
       "      <td>18-29</td>\n",
       "      <td>$0 - $24,999</td>\n",
       "      <td>High school degree</td>\n",
       "      <td>West North Central</td>\n",
       "    </tr>\n",
       "    <tr>\n",
       "      <th>3</th>\n",
       "      <td>3292763116</td>\n",
       "      <td>True</td>\n",
       "      <td>True</td>\n",
       "      <td>True</td>\n",
       "      <td>True</td>\n",
       "      <td>True</td>\n",
       "      <td>True</td>\n",
       "      <td>True</td>\n",
       "      <td>True</td>\n",
       "      <td>5.0</td>\n",
       "      <td>...</td>\n",
       "      <td>Very favorably</td>\n",
       "      <td>I don't understand this question</td>\n",
       "      <td>No</td>\n",
       "      <td>NaN</td>\n",
       "      <td>Yes</td>\n",
       "      <td>Male</td>\n",
       "      <td>18-29</td>\n",
       "      <td>$100,000 - $149,999</td>\n",
       "      <td>Some college or Associate degree</td>\n",
       "      <td>West North Central</td>\n",
       "    </tr>\n",
       "    <tr>\n",
       "      <th>4</th>\n",
       "      <td>3292731220</td>\n",
       "      <td>True</td>\n",
       "      <td>True</td>\n",
       "      <td>True</td>\n",
       "      <td>True</td>\n",
       "      <td>True</td>\n",
       "      <td>True</td>\n",
       "      <td>True</td>\n",
       "      <td>True</td>\n",
       "      <td>5.0</td>\n",
       "      <td>...</td>\n",
       "      <td>Somewhat favorably</td>\n",
       "      <td>Greedo</td>\n",
       "      <td>Yes</td>\n",
       "      <td>No</td>\n",
       "      <td>No</td>\n",
       "      <td>Male</td>\n",
       "      <td>18-29</td>\n",
       "      <td>$100,000 - $149,999</td>\n",
       "      <td>Some college or Associate degree</td>\n",
       "      <td>West North Central</td>\n",
       "    </tr>\n",
       "  </tbody>\n",
       "</table>\n",
       "<p>5 rows × 38 columns</p>\n",
       "</div>"
      ],
      "text/plain": [
       "   RespondentID  Have you seen any of the 6 films in the Star Wars franchise?  \\\n",
       "0    3292879998                                               True              \n",
       "1    3292879538                                              False              \n",
       "2    3292765271                                               True              \n",
       "3    3292763116                                               True              \n",
       "4    3292731220                                               True              \n",
       "\n",
       "  Do you consider yourself to be a fan of the Star Wars film franchise?  \\\n",
       "0                                               True                      \n",
       "1                                                NaN                      \n",
       "2                                              False                      \n",
       "3                                               True                      \n",
       "4                                               True                      \n",
       "\n",
       "  seen_1 seen_2 seen_3 seen_4 seen_5 seen_6  \\\n",
       "0   True   True   True   True   True   True   \n",
       "1  False  False  False  False  False  False   \n",
       "2   True   True   True  False  False  False   \n",
       "3   True   True   True   True   True   True   \n",
       "4   True   True   True   True   True   True   \n",
       "\n",
       "   Please rank the Star Wars films in order of preference with 1 being your favorite film in the franchise and 6 being your least favorite film.  \\\n",
       "0                                                3.0                                                                                               \n",
       "1                                                NaN                                                                                               \n",
       "2                                                1.0                                                                                               \n",
       "3                                                5.0                                                                                               \n",
       "4                                                5.0                                                                                               \n",
       "\n",
       "   ...         Unnamed: 28       Which character shot first?  \\\n",
       "0  ...      Very favorably  I don't understand this question   \n",
       "1  ...                 NaN                               NaN   \n",
       "2  ...    Unfamiliar (N/A)  I don't understand this question   \n",
       "3  ...      Very favorably  I don't understand this question   \n",
       "4  ...  Somewhat favorably                            Greedo   \n",
       "\n",
       "   Are you familiar with the Expanded Universe?  \\\n",
       "0                                           Yes   \n",
       "1                                           NaN   \n",
       "2                                            No   \n",
       "3                                            No   \n",
       "4                                           Yes   \n",
       "\n",
       "   Do you consider yourself to be a fan of the Expanded Universe?  \\\n",
       "0                                                 No                \n",
       "1                                                NaN                \n",
       "2                                                NaN                \n",
       "3                                                NaN                \n",
       "4                                                 No                \n",
       "\n",
       "   Do you consider yourself to be a fan of the Star Trek franchise? Gender  \\\n",
       "0                                                 No                  Male   \n",
       "1                                                Yes                  Male   \n",
       "2                                                 No                  Male   \n",
       "3                                                Yes                  Male   \n",
       "4                                                 No                  Male   \n",
       "\n",
       "     Age     Household Income                         Education  \\\n",
       "0  18-29                  NaN                High school degree   \n",
       "1  18-29         $0 - $24,999                   Bachelor degree   \n",
       "2  18-29         $0 - $24,999                High school degree   \n",
       "3  18-29  $100,000 - $149,999  Some college or Associate degree   \n",
       "4  18-29  $100,000 - $149,999  Some college or Associate degree   \n",
       "\n",
       "  Location (Census Region)  \n",
       "0           South Atlantic  \n",
       "1       West South Central  \n",
       "2       West North Central  \n",
       "3       West North Central  \n",
       "4       West North Central  \n",
       "\n",
       "[5 rows x 38 columns]"
      ]
     },
     "execution_count": 27,
     "metadata": {},
     "output_type": "execute_result"
    }
   ],
   "source": [
    "star_wars = star_wars.rename(columns={\n",
    "        \"Which of the following Star Wars films have you seen? Please select all that apply.\": \"seen_1\",\n",
    "        \"Unnamed: 4\": \"seen_2\",\n",
    "        \"Unnamed: 5\": \"seen_3\",\n",
    "        \"Unnamed: 6\": \"seen_4\",\n",
    "        \"Unnamed: 7\": \"seen_5\",\n",
    "        \"Unnamed: 8\": \"seen_6\"\n",
    "        })\n",
    "\n",
    "star_wars.head()"
   ]
  },
  {
   "cell_type": "markdown",
   "id": "f21ed721-5d3f-4d79-8864-6a466baa52a8",
   "metadata": {},
   "source": [
    "## Cleaning the Ranking Columns"
   ]
  },
  {
   "cell_type": "markdown",
   "id": "67d3d4d5-0c6c-4cd6-8585-e9d92a8e6f53",
   "metadata": {},
   "source": [
    "The next six columns ask the respondent to rank the Star Wars movies in order from least to most favorite. 1 means the film was the most favorite, and 6 means it was the least favorite. Each of the following columns can contain the value 1, 2, 3, 4, 5, 6, or NaN:"
   ]
  },
  {
   "cell_type": "markdown",
   "id": "e124eada-cc77-45c0-8f12-946512aaefb1",
   "metadata": {},
   "source": [
    "- Please rank the Star Wars films in order of preference with 1 being your favorite film in the franchise and 6 being your least favorite film. - How much the respondent liked Star Wars: Episode I The Phantom Menace\n",
    "- Unnamed: 10 — How much the respondent liked Star Wars: Episode II Attack of the Clones\n",
    "- Unnamed: 11 — How much the respondent liked Star Wars: Episode III Revenge of the Sith\n",
    "- Unnamed: 12 — How much the respondent liked Star Wars: Episode IV A New Hope\n",
    "- Unnamed: 13 — How much the respondent liked Star Wars: Episode V The Empire Strikes Back\n",
    "- Unnamed: 14 — How much the respondent liked Star Wars: Episode VI Return of the Jedi"
   ]
  },
  {
   "cell_type": "markdown",
   "id": "173ae442-d9fd-4cac-bf5c-572346d82339",
   "metadata": {},
   "source": [
    "Fortunately, these columns don't require much cleaning. We'll need to convert each column to a numeric type, then rename the columns so that we can tell what they represent more easily."
   ]
  },
  {
   "cell_type": "code",
   "execution_count": 31,
   "id": "d3247a2e-bb1d-4730-851e-fe1b0d330d11",
   "metadata": {},
   "outputs": [
    {
     "data": {
      "text/plain": [
       "0       2.0\n",
       "1       NaN\n",
       "2       2.0\n",
       "3       6.0\n",
       "4       4.0\n",
       "       ... \n",
       "1181    4.0\n",
       "1182    5.0\n",
       "1183    NaN\n",
       "1184    3.0\n",
       "1185    1.0\n",
       "Name: Unnamed: 10, Length: 1186, dtype: float64"
      ]
     },
     "execution_count": 31,
     "metadata": {},
     "output_type": "execute_result"
    }
   ],
   "source": [
    "star_wars['Unnamed: 10']"
   ]
  },
  {
   "cell_type": "markdown",
   "id": "2b098a65-2b76-4f44-a2be-d14617d32b3b",
   "metadata": {},
   "source": [
    "We can do the numeric conversion with the[pandas.DataFrame.astype()](https://pandas.pydata.org/pandas-docs/stable/reference/api/pandas.DataFrame.astype.html) method on DataFrames. In this case, we can use code that looks like this:"
   ]
  },
  {
   "cell_type": "code",
   "execution_count": 32,
   "id": "3d289eb6-9e85-42cd-8a5b-00d437c5189a",
   "metadata": {},
   "outputs": [],
   "source": [
    "star_wars[star_wars.columns[9:15]] = star_wars[star_wars.columns[9:15]].astype(float)"
   ]
  },
  {
   "cell_type": "markdown",
   "id": "a41dd60b-262a-4cfa-af11-3413a2cb5cb5",
   "metadata": {},
   "source": [
    "The code above converts column 9 up to but not including column 15 to the float data type."
   ]
  },
  {
   "cell_type": "code",
   "execution_count": 33,
   "id": "2a0e5d02-1540-4359-afd0-8e6722eb4c01",
   "metadata": {},
   "outputs": [
    {
     "data": {
      "text/html": [
       "<div>\n",
       "<style scoped>\n",
       "    .dataframe tbody tr th:only-of-type {\n",
       "        vertical-align: middle;\n",
       "    }\n",
       "\n",
       "    .dataframe tbody tr th {\n",
       "        vertical-align: top;\n",
       "    }\n",
       "\n",
       "    .dataframe thead th {\n",
       "        text-align: right;\n",
       "    }\n",
       "</style>\n",
       "<table border=\"1\" class=\"dataframe\">\n",
       "  <thead>\n",
       "    <tr style=\"text-align: right;\">\n",
       "      <th></th>\n",
       "      <th>RespondentID</th>\n",
       "      <th>Have you seen any of the 6 films in the Star Wars franchise?</th>\n",
       "      <th>Do you consider yourself to be a fan of the Star Wars film franchise?</th>\n",
       "      <th>seen_1</th>\n",
       "      <th>seen_2</th>\n",
       "      <th>seen_3</th>\n",
       "      <th>seen_4</th>\n",
       "      <th>seen_5</th>\n",
       "      <th>seen_6</th>\n",
       "      <th>ranking_1</th>\n",
       "      <th>...</th>\n",
       "      <th>Unnamed: 28</th>\n",
       "      <th>Which character shot first?</th>\n",
       "      <th>Are you familiar with the Expanded Universe?</th>\n",
       "      <th>Do you consider yourself to be a fan of the Expanded Universe?</th>\n",
       "      <th>Do you consider yourself to be a fan of the Star Trek franchise?</th>\n",
       "      <th>Gender</th>\n",
       "      <th>Age</th>\n",
       "      <th>Household Income</th>\n",
       "      <th>Education</th>\n",
       "      <th>Location (Census Region)</th>\n",
       "    </tr>\n",
       "  </thead>\n",
       "  <tbody>\n",
       "    <tr>\n",
       "      <th>0</th>\n",
       "      <td>3292879998</td>\n",
       "      <td>True</td>\n",
       "      <td>True</td>\n",
       "      <td>True</td>\n",
       "      <td>True</td>\n",
       "      <td>True</td>\n",
       "      <td>True</td>\n",
       "      <td>True</td>\n",
       "      <td>True</td>\n",
       "      <td>3.0</td>\n",
       "      <td>...</td>\n",
       "      <td>Very favorably</td>\n",
       "      <td>I don't understand this question</td>\n",
       "      <td>Yes</td>\n",
       "      <td>No</td>\n",
       "      <td>No</td>\n",
       "      <td>Male</td>\n",
       "      <td>18-29</td>\n",
       "      <td>NaN</td>\n",
       "      <td>High school degree</td>\n",
       "      <td>South Atlantic</td>\n",
       "    </tr>\n",
       "    <tr>\n",
       "      <th>1</th>\n",
       "      <td>3292879538</td>\n",
       "      <td>False</td>\n",
       "      <td>NaN</td>\n",
       "      <td>False</td>\n",
       "      <td>False</td>\n",
       "      <td>False</td>\n",
       "      <td>False</td>\n",
       "      <td>False</td>\n",
       "      <td>False</td>\n",
       "      <td>NaN</td>\n",
       "      <td>...</td>\n",
       "      <td>NaN</td>\n",
       "      <td>NaN</td>\n",
       "      <td>NaN</td>\n",
       "      <td>NaN</td>\n",
       "      <td>Yes</td>\n",
       "      <td>Male</td>\n",
       "      <td>18-29</td>\n",
       "      <td>$0 - $24,999</td>\n",
       "      <td>Bachelor degree</td>\n",
       "      <td>West South Central</td>\n",
       "    </tr>\n",
       "    <tr>\n",
       "      <th>2</th>\n",
       "      <td>3292765271</td>\n",
       "      <td>True</td>\n",
       "      <td>False</td>\n",
       "      <td>True</td>\n",
       "      <td>True</td>\n",
       "      <td>True</td>\n",
       "      <td>False</td>\n",
       "      <td>False</td>\n",
       "      <td>False</td>\n",
       "      <td>1.0</td>\n",
       "      <td>...</td>\n",
       "      <td>Unfamiliar (N/A)</td>\n",
       "      <td>I don't understand this question</td>\n",
       "      <td>No</td>\n",
       "      <td>NaN</td>\n",
       "      <td>No</td>\n",
       "      <td>Male</td>\n",
       "      <td>18-29</td>\n",
       "      <td>$0 - $24,999</td>\n",
       "      <td>High school degree</td>\n",
       "      <td>West North Central</td>\n",
       "    </tr>\n",
       "    <tr>\n",
       "      <th>3</th>\n",
       "      <td>3292763116</td>\n",
       "      <td>True</td>\n",
       "      <td>True</td>\n",
       "      <td>True</td>\n",
       "      <td>True</td>\n",
       "      <td>True</td>\n",
       "      <td>True</td>\n",
       "      <td>True</td>\n",
       "      <td>True</td>\n",
       "      <td>5.0</td>\n",
       "      <td>...</td>\n",
       "      <td>Very favorably</td>\n",
       "      <td>I don't understand this question</td>\n",
       "      <td>No</td>\n",
       "      <td>NaN</td>\n",
       "      <td>Yes</td>\n",
       "      <td>Male</td>\n",
       "      <td>18-29</td>\n",
       "      <td>$100,000 - $149,999</td>\n",
       "      <td>Some college or Associate degree</td>\n",
       "      <td>West North Central</td>\n",
       "    </tr>\n",
       "    <tr>\n",
       "      <th>4</th>\n",
       "      <td>3292731220</td>\n",
       "      <td>True</td>\n",
       "      <td>True</td>\n",
       "      <td>True</td>\n",
       "      <td>True</td>\n",
       "      <td>True</td>\n",
       "      <td>True</td>\n",
       "      <td>True</td>\n",
       "      <td>True</td>\n",
       "      <td>5.0</td>\n",
       "      <td>...</td>\n",
       "      <td>Somewhat favorably</td>\n",
       "      <td>Greedo</td>\n",
       "      <td>Yes</td>\n",
       "      <td>No</td>\n",
       "      <td>No</td>\n",
       "      <td>Male</td>\n",
       "      <td>18-29</td>\n",
       "      <td>$100,000 - $149,999</td>\n",
       "      <td>Some college or Associate degree</td>\n",
       "      <td>West North Central</td>\n",
       "    </tr>\n",
       "  </tbody>\n",
       "</table>\n",
       "<p>5 rows × 38 columns</p>\n",
       "</div>"
      ],
      "text/plain": [
       "   RespondentID  Have you seen any of the 6 films in the Star Wars franchise?  \\\n",
       "0    3292879998                                               True              \n",
       "1    3292879538                                              False              \n",
       "2    3292765271                                               True              \n",
       "3    3292763116                                               True              \n",
       "4    3292731220                                               True              \n",
       "\n",
       "  Do you consider yourself to be a fan of the Star Wars film franchise?  \\\n",
       "0                                               True                      \n",
       "1                                                NaN                      \n",
       "2                                              False                      \n",
       "3                                               True                      \n",
       "4                                               True                      \n",
       "\n",
       "  seen_1 seen_2 seen_3 seen_4 seen_5 seen_6  ranking_1  ...  \\\n",
       "0   True   True   True   True   True   True        3.0  ...   \n",
       "1  False  False  False  False  False  False        NaN  ...   \n",
       "2   True   True   True  False  False  False        1.0  ...   \n",
       "3   True   True   True   True   True   True        5.0  ...   \n",
       "4   True   True   True   True   True   True        5.0  ...   \n",
       "\n",
       "          Unnamed: 28       Which character shot first?  \\\n",
       "0      Very favorably  I don't understand this question   \n",
       "1                 NaN                               NaN   \n",
       "2    Unfamiliar (N/A)  I don't understand this question   \n",
       "3      Very favorably  I don't understand this question   \n",
       "4  Somewhat favorably                            Greedo   \n",
       "\n",
       "   Are you familiar with the Expanded Universe?  \\\n",
       "0                                           Yes   \n",
       "1                                           NaN   \n",
       "2                                            No   \n",
       "3                                            No   \n",
       "4                                           Yes   \n",
       "\n",
       "   Do you consider yourself to be a fan of the Expanded Universe?  \\\n",
       "0                                                 No                \n",
       "1                                                NaN                \n",
       "2                                                NaN                \n",
       "3                                                NaN                \n",
       "4                                                 No                \n",
       "\n",
       "   Do you consider yourself to be a fan of the Star Trek franchise? Gender  \\\n",
       "0                                                 No                  Male   \n",
       "1                                                Yes                  Male   \n",
       "2                                                 No                  Male   \n",
       "3                                                Yes                  Male   \n",
       "4                                                 No                  Male   \n",
       "\n",
       "     Age     Household Income                         Education  \\\n",
       "0  18-29                  NaN                High school degree   \n",
       "1  18-29         $0 - $24,999                   Bachelor degree   \n",
       "2  18-29         $0 - $24,999                High school degree   \n",
       "3  18-29  $100,000 - $149,999  Some college or Associate degree   \n",
       "4  18-29  $100,000 - $149,999  Some college or Associate degree   \n",
       "\n",
       "  Location (Census Region)  \n",
       "0           South Atlantic  \n",
       "1       West South Central  \n",
       "2       West North Central  \n",
       "3       West North Central  \n",
       "4       West North Central  \n",
       "\n",
       "[5 rows x 38 columns]"
      ]
     },
     "execution_count": 33,
     "metadata": {},
     "output_type": "execute_result"
    }
   ],
   "source": [
    "star_wars = star_wars.rename(columns={\n",
    "        \"Please rank the Star Wars films in order of preference with 1 being your favorite film in the franchise and 6 being your least favorite film.\": \"ranking_1\",\n",
    "        \"Unnamed: 10\": \"ranking_2\",\n",
    "        \"Unnamed: 11\": \"ranking_3\",\n",
    "        \"Unnamed: 12\": \"ranking_4\",\n",
    "        \"Unnamed: 13\": \"ranking_5\",\n",
    "        \"Unnamed: 14\": \"ranking_6\"\n",
    "        })\n",
    "\n",
    "star_wars.head()"
   ]
  },
  {
   "cell_type": "markdown",
   "id": "5ff4a61d-9a27-4db3-a497-0c99452698f3",
   "metadata": {},
   "source": [
    "## Finding the Highest-Ranked Movie"
   ]
  },
  {
   "cell_type": "markdown",
   "id": "6ba1b056-9b7a-422c-a59b-193a825c35a5",
   "metadata": {},
   "source": [
    "Now that we've cleaned up the ranking columns, we can find the highest-ranked movie quicker. To do this, take the mean of each ranking columns using the [pandas.DataFrame.mean()](https://pandas.pydata.org/pandas-docs/stable/reference/api/pandas.DataFrame.mean.html) method on DataFrames."
   ]
  },
  {
   "cell_type": "code",
   "execution_count": 36,
   "id": "9d55a522-10ac-42c5-9c7f-3032640c7f34",
   "metadata": {},
   "outputs": [
    {
     "data": {
      "text/plain": [
       "ranking_1    3.732934\n",
       "ranking_2    4.087321\n",
       "ranking_3    4.341317\n",
       "ranking_4    3.272727\n",
       "ranking_5    2.513158\n",
       "dtype: float64"
      ]
     },
     "execution_count": 36,
     "metadata": {},
     "output_type": "execute_result"
    }
   ],
   "source": [
    "star_wars[['ranking_1', 'ranking_2', 'ranking_3', 'ranking_4', 'ranking_5']].mean()"
   ]
  },
  {
   "cell_type": "code",
   "execution_count": 37,
   "id": "108a2f62-3976-4bf6-ad61-a2a56cf69dcd",
   "metadata": {},
   "outputs": [
    {
     "data": {
      "text/plain": [
       "<Axes: >"
      ]
     },
     "execution_count": 37,
     "metadata": {},
     "output_type": "execute_result"
    },
    {
     "data": {
      "image/png": "[encoded data removed]",
      "text/plain": [
       "<Figure size 640x480 with 1 Axes>"
      ]
     },
     "metadata": {},
     "output_type": "display_data"
    }
   ],
   "source": [
    "star_wars[['ranking_1', 'ranking_2', 'ranking_3', 'ranking_4', 'ranking_5']].mean().plot.bar()"
   ]
  },
  {
   "cell_type": "code",
   "execution_count": 38,
   "id": "a2de1b28-dee0-4e5b-b8d1-89e49f02a596",
   "metadata": {},
   "outputs": [
    {
     "data": {
      "text/plain": [
       "<BarContainer object of 6 artists>"
      ]
     },
     "execution_count": 38,
     "metadata": {},
     "output_type": "execute_result"
    },
    {
     "data": {
      "image/png": "[encoded data removed]",
      "text/plain": [
       "<Figure size 640x480 with 1 Axes>"
      ]
     },
     "metadata": {},
     "output_type": "display_data"
    }
   ],
   "source": [
    "%matplotlib inline\n",
    "import matplotlib.pyplot as plt\n",
    "\n",
    "plt.bar(range(6), star_wars[star_wars.columns[9:15]].mean())"
   ]
  },
  {
   "cell_type": "markdown",
   "id": "1811978c-74c0-4129-a170-40ef60cf4997",
   "metadata": {},
   "source": [
    "## Finding the Most Viewed Movie"
   ]
  },
  {
   "cell_type": "markdown",
   "id": "326f1e42-2df3-4227-af69-d3ea087fa692",
   "metadata": {},
   "source": [
    "Earlier in this project, we cleaned up the seen columns and converted their values to the Boolean type. When we call methods like [pandas.DataFrame.sum()](https://pandas.pydata.org/pandas-docs/stable/reference/api/pandas.DataFrame.sum.html) or mean(), they treat Booleans like integers. They consider True a 1 and False a 0. That means we can figure out how many people have seen each movie just by taking the sum of the column (even though they contain Boolean values)."
   ]
  },
  {
   "cell_type": "markdown",
   "id": "e7affe62-28e6-4ca8-8468-0d7b51e1445b",
   "metadata": {},
   "source": [
    "## Rankings\r\n",
    "\r\n",
    "So far, we've cleaned up the data, renamed several columns, and computed the average ranking of each movie. As we suspected, it looks like the \"original\" movies are rated much more highly than the newer ones."
   ]
  },
  {
   "cell_type": "code",
   "execution_count": 45,
   "id": "96beb329-4eff-4d6b-ab9e-44fdbf755363",
   "metadata": {},
   "outputs": [
    {
     "data": {
      "text/plain": [
       "<Axes: >"
      ]
     },
     "execution_count": 45,
     "metadata": {},
     "output_type": "execute_result"
    },
    {
     "data": {
      "image/png": "[encoded data removed]",
      "text/plain": [
       "<Figure size 640x480 with 1 Axes>"
      ]
     },
     "metadata": {},
     "output_type": "display_data"
    }
   ],
   "source": [
    "star_wars.iloc[:, 3:9].sum().plot.bar()"
   ]
  },
  {
   "cell_type": "markdown",
   "id": "2e135203-3c76-4d65-8789-ee8e1dbee820",
   "metadata": {},
   "source": [
    "## Exploring the Data by Binary Segments"
   ]
  },
  {
   "cell_type": "markdown",
   "id": "1a6b6494-ca6d-4710-9a1d-076a60375eb1",
   "metadata": {},
   "source": [
    "We know which movies the survey population as a whole has ranked the highest. Now let's examine how certain segments of the survey population responded. There are several columns that segment our data into two groups. Here are a few examples:"
   ]
  },
  {
   "cell_type": "markdown",
   "id": "e2275a26-50af-4965-8644-9098db9a093a",
   "metadata": {},
   "source": [
    "- Do you consider yourself to be a fan of the Star Wars film franchise? — True or False\n",
    "- Do you consider yourself to be a fan of the Star Trek franchise? — Yes or No\n",
    "- Gender — Male or Female"
   ]
  },
  {
   "cell_type": "markdown",
   "id": "d209b0bc-366b-4eb6-8e97-358914d13fbc",
   "metadata": {},
   "source": [
    "We can split a DataFrame into two groups based on a binary column by creating two subsets of that column. For example, we can split on the Gender column like this:"
   ]
  },
  {
   "cell_type": "code",
   "execution_count": 46,
   "id": "a610aec3-5094-4b99-af1b-f8a59ab12e83",
   "metadata": {},
   "outputs": [],
   "source": [
    "males = star_wars[star_wars[\"Gender\"] == \"Male\"]\n",
    "females = star_wars[star_wars[\"Gender\"] == \"Female\"]"
   ]
  },
  {
   "cell_type": "markdown",
   "id": "71d403e8-8374-43ba-be78-891ddab8da71",
   "metadata": {},
   "source": [
    "The subsets allow us to compute the most viewed movie, the highest-ranked movie, and other statistics separately for each group."
   ]
  },
  {
   "cell_type": "markdown",
   "id": "35306e5f-a396-4d20-a9d5-98e3388b8b93",
   "metadata": {},
   "source": [
    "## View counts\r\n",
    "\r\n",
    "It appears that more respondents aw the original movies than the newer movies. This reinforces what we saw in the rankings, where the earlier movies seem to be more popular."
   ]
  },
  {
   "cell_type": "code",
   "execution_count": 47,
   "id": "3b88c764-80b4-44fb-beaa-4f1057bb44e8",
   "metadata": {},
   "outputs": [
    {
     "data": {
      "image/png": "[encoded data removed]",
      "text/plain": [
       "<Figure size 640x480 with 1 Axes>"
      ]
     },
     "metadata": {},
     "output_type": "display_data"
    },
    {
     "data": {
      "image/png": "[encoded data removed]",
      "text/plain": [
       "<Figure size 640x480 with 1 Axes>"
      ]
     },
     "metadata": {},
     "output_type": "display_data"
    }
   ],
   "source": [
    "plt.bar(range(6), males[males.columns[9:15]].mean())\n",
    "plt.show()\n",
    "\n",
    "plt.bar(range(6), females[females.columns[9:15]].mean())\n",
    "plt.show()"
   ]
  },
  {
   "cell_type": "code",
   "execution_count": 48,
   "id": "c6de78c7-87fb-4f1b-af17-c5a8100c0268",
   "metadata": {},
   "outputs": [
    {
     "data": {
      "image/png": "[encoded data removed]",
      "text/plain": [
       "<Figure size 640x480 with 1 Axes>"
      ]
     },
     "metadata": {},
     "output_type": "display_data"
    },
    {
     "data": {
      "image/png": "[encoded data removed]",
      "text/plain": [
       "<Figure size 640x480 with 1 Axes>"
      ]
     },
     "metadata": {},
     "output_type": "display_data"
    }
   ],
   "source": [
    "plt.bar(range(6), males[males.columns[3:9]].sum())\n",
    "plt.show()\n",
    "\n",
    "plt.bar(range(6), females[females.columns[3:9]].sum())\n",
    "plt.show()"
   ]
  },
  {
   "cell_type": "markdown",
   "id": "5da67204-4f00-46d5-8d11-4a48e7409444",
   "metadata": {},
   "source": [
    "## Male/female differences in favorite Star Wars movie and most-seen movie\n",
    "\n",
    "Interestingly, more males watches episodes 1-3, but males liked them far less than females did."
   ]
  },
  {
   "cell_type": "markdown",
   "id": "9e182742-4f4e-4b14-92c3-57a64e512881",
   "metadata": {},
   "source": [
    "## Next Steps"
   ]
  },
  {
   "cell_type": "markdown",
   "id": "f9ab4620-b393-4050-bf6b-57715c99d874",
   "metadata": {},
   "source": [
    "Here are some potential next steps:"
   ]
  },
  {
   "cell_type": "markdown",
   "id": "e40a48d1-b372-4b9c-ac9a-7e86ac4fbe09",
   "metadata": {},
   "source": [
    "- Try to segment the data based on columns like Education, Location (Census Region), and Which character shot first?, which aren't binary. Are there any interesting patterns?\n",
    "- Clean columns 15 through 28, which contain data on the characters respondents view favorably and unfavorably.\n",
    "  - Which character do respondents like the most?\n",
    "  - Which character do respondents dislike the most?\n",
    "  - Which character is the most controversial (split between likes and dislikes)?"
   ]
  },
  {
   "cell_type": "code",
   "execution_count": null,
   "id": "fbc33146-576d-4dfa-b402-3692b26d4b54",
   "metadata": {},
   "outputs": [],
   "source": []
  }
 ],
 "metadata": {
  "kernelspec": {
   "display_name": "Python 3 (ipykernel)",
   "language": "python",
   "name": "python3"
  },
  "language_info": {
   "codemirror_mode": {
    "name": "ipython",
    "version": 3
   },
   "file_extension": ".py",
   "mimetype": "text/x-python",
   "name": "python",
   "nbconvert_exporter": "python",
   "pygments_lexer": "ipython3",
   "version": "3.12.4"
  }
 },
 "nbformat": 4,
 "nbformat_minor": 5
}
