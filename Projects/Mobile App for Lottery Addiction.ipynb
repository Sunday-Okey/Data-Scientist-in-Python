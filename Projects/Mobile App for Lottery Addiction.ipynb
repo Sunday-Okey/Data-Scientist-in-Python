{
 "cells": [
  {
   "cell_type": "markdown",
   "id": "16170f92-0ff7-4e43-80b6-e55d0c6a261b",
   "metadata": {},
   "source": [
    "# Mobile App for Lottery Addiction"
   ]
  },
  {
   "cell_type": "markdown",
   "id": "19515e7f-83c5-4293-b25f-5df74b839321",
   "metadata": {},
   "source": [
    "In this project, we are going to contribute to the development of a mobile app by writing a couple of functions that are mostly focused on calculating probabilities. The app is aimed to both prevent and treat lottery addiction by helping people better estimate their chances of winning."
   ]
  },
  {
   "cell_type": "markdown",
   "id": "9e185072-42b1-4dc0-84d3-dbcb409787d3",
   "metadata": {},
   "source": [
    "The app idea comes from a medical institute which is specialized in treating gambling addictions. The institute already has a team of engineers that will build the app, but they need us to create the logical core of the app and calculate probabilities. For the first version of the app, they want us to focus on the 6/49 lottery and build functions that can answer users the following questions"
   ]
  },
  {
   "cell_type": "markdown",
   "id": "7e9d5000-fd1d-4de7-8e08-e41b21669121",
   "metadata": {},
   "source": [
    "- What is the probability of winning the big prize with a single ticket?\n",
    "- What is the probability of winning the big prize if we play 40 different tickets (or any other number)?\n",
    "- What is the probability of having at least five (or four, or three, or two) winning numbers on a single ticket?"
   ]
  },
  {
   "cell_type": "markdown",
   "id": "965be84c-681a-4826-9eb3-4b28930da7e9",
   "metadata": {},
   "source": [
    "## Core Functions"
   ]
  },
  {
   "cell_type": "markdown",
   "id": "997d0a09-93cf-4552-987c-90187352ba36",
   "metadata": {},
   "source": [
    "Below, we're going to write two functions that we'll be using frequently:"
   ]
  },
  {
   "cell_type": "markdown",
   "id": "8e79fa11-95d1-4827-b569-634e06302b97",
   "metadata": {},
   "source": [
    "- `factorial()` — a function that calculates factorials\n",
    "- `combinations()` — a function that calculates combinations"
   ]
  },
  {
   "cell_type": "code",
   "execution_count": 1,
   "id": "fb99edf4-7c3e-447c-918e-a2e2ed58a1df",
   "metadata": {},
   "outputs": [],
   "source": [
    "\n",
    "def factorial(n):\n",
    "    final_product = 1\n",
    "    for i in range(n, 0, -1):\n",
    "        final_product *= i\n",
    "    return final_product\n",
    "\n",
    "def combinations(n, k):\n",
    "    numerator = factorial(n)\n",
    "    denominator = factorial(k) * factorial(n-k)\n",
    "    return numerator/denominator"
   ]
  },
  {
   "cell_type": "markdown",
   "id": "5e0440f3-301a-470b-b812-d6a8d27064e7",
   "metadata": {},
   "source": [
    "## One-ticket Probability"
   ]
  },
  {
   "cell_type": "markdown",
   "id": "2da6d905-f4ff-4261-96ec-ecb676284478",
   "metadata": {},
   "source": [
    "We need to build a function that calculates the probability of winning the big prize for any given ticket. For each drawing, six numbers are drawn from a set of 49, and a player wins the big prize if the six numbers on their tickets match all six numbers."
   ]
  },
  {
   "cell_type": "markdown",
   "id": "5b1952ea-fae5-49ab-a4df-ae316159ab78",
   "metadata": {},
   "source": [
    "The engineer team told us that we need to be aware of the following details when we write the function:"
   ]
  },
  {
   "cell_type": "markdown",
   "id": "6802033e-4e94-496d-82d5-ebc56eed457d",
   "metadata": {},
   "source": [
    "- Inside the app, the user inputs six different numbers from 1 to 49.\n",
    "- Under the hood, the six numbers will come as a Python list and serve as an input to our function.\n",
    "- The engineering team wants the function to print the probability value in a friendly way — in a way that people without any probability training are able to understand."
   ]
  },
  {
   "cell_type": "markdown",
   "id": "eb4f9fcb-1a61-4e16-8124-d43f42a68578",
   "metadata": {},
   "source": [
    "Below, we write the `one_ticket_probability()` function, which takes in a list of six unique numbers and prints the probability of winning in a way that's easy to understand."
   ]
  },
  {
   "cell_type": "code",
   "execution_count": 5,
   "id": "8c99843c-ea15-4c15-9c3e-175a6aa53f48",
   "metadata": {},
   "outputs": [],
   "source": [
    "def one_ticket_probability(user_numbers):\n",
    "    n_combinations = combinations(49, 6)\n",
    "    probability_one_ticket = 1/n_combinations\n",
    "    percentage_form = probability_one_ticket * 100\n",
    "\n",
    "    print('''Your chances to win the big prize with the numbers {} are {:.7f}%.\n",
    "In other words, you have a 1 in {:,} chances to win.'''.format(user_numbers,\n",
    "                    percentage_form, int(n_combinations)))"
   ]
  },
  {
   "cell_type": "markdown",
   "id": "2f0557ed-5b7d-4519-815b-a22b7aaff172",
   "metadata": {},
   "source": [
    "We now test a bit the function on two different outputs."
   ]
  },
  {
   "cell_type": "code",
   "execution_count": 7,
   "id": "99d04371-bd8f-4e6c-9a53-4cb0491e3e71",
   "metadata": {},
   "outputs": [
    {
     "name": "stdout",
     "output_type": "stream",
     "text": [
      "Your chances to win the big prize with the numbers [2, 43, 24, 23, 11, 5] are 0.0000072%.\n",
      "In other words, you have a 1 in 13,983,816 chances to win.\n"
     ]
    }
   ],
   "source": [
    "test_input_1 = [2, 43, 24, 23, 11, 5]\n",
    "one_ticket_probability(test_input_1)"
   ]
  },
  {
   "cell_type": "code",
   "execution_count": 9,
   "id": "3ba43011-2419-4c5d-9cd3-1630688949c2",
   "metadata": {},
   "outputs": [
    {
     "name": "stdout",
     "output_type": "stream",
     "text": [
      "Your chances to win the big prize with the numbers [9, 26, 41, 7, 15, 6] are 0.0000072%.\n",
      "In other words, you have a 1 in 13,983,816 chances to win.\n"
     ]
    }
   ],
   "source": [
    "test_input_2 = [9, 26, 41, 7, 15, 6]\n",
    "one_ticket_probability(test_input_2)"
   ]
  },
  {
   "cell_type": "markdown",
   "id": "d98836b8-e63f-4abf-9f0d-673ea011f29d",
   "metadata": {},
   "source": [
    "## Historical Data Check for Canada Lottery"
   ]
  },
  {
   "cell_type": "markdown",
   "id": "9f1d54fd-1746-4148-95e8-5bdf4410f1c6",
   "metadata": {},
   "source": [
    "The institute also wants us to consider the data coming from the national 6/49 lottery game in Canada. The data set contains historical data for 3,665 drawings, dating from 1982 to 2018 (the data set can be downloaded from [here](https://www.kaggle.com/datascienceai/lottery-dataset))."
   ]
  },
  {
   "cell_type": "code",
   "execution_count": 10,
   "id": "97c3ba7e-5410-4d27-8ecd-308f566df3fd",
   "metadata": {},
   "outputs": [
    {
     "data": {
      "text/plain": [
       "(3665, 11)"
      ]
     },
     "execution_count": 10,
     "metadata": {},
     "output_type": "execute_result"
    }
   ],
   "source": [
    "import pandas as pd\n",
    "\n",
    "lottery_canada = pd.read_csv('../Datasets/649.csv')\n",
    "lottery_canada.shape"
   ]
  },
  {
   "cell_type": "code",
   "execution_count": 11,
   "id": "5c12950d-6ffd-46ef-8530-7b72a4e9a5af",
   "metadata": {},
   "outputs": [
    {
     "data": {
      "text/html": [
       "<div>\n",
       "<style scoped>\n",
       "    .dataframe tbody tr th:only-of-type {\n",
       "        vertical-align: middle;\n",
       "    }\n",
       "\n",
       "    .dataframe tbody tr th {\n",
       "        vertical-align: top;\n",
       "    }\n",
       "\n",
       "    .dataframe thead th {\n",
       "        text-align: right;\n",
       "    }\n",
       "</style>\n",
       "<table border=\"1\" class=\"dataframe\">\n",
       "  <thead>\n",
       "    <tr style=\"text-align: right;\">\n",
       "      <th></th>\n",
       "      <th>PRODUCT</th>\n",
       "      <th>DRAW NUMBER</th>\n",
       "      <th>SEQUENCE NUMBER</th>\n",
       "      <th>DRAW DATE</th>\n",
       "      <th>NUMBER DRAWN 1</th>\n",
       "      <th>NUMBER DRAWN 2</th>\n",
       "      <th>NUMBER DRAWN 3</th>\n",
       "      <th>NUMBER DRAWN 4</th>\n",
       "      <th>NUMBER DRAWN 5</th>\n",
       "      <th>NUMBER DRAWN 6</th>\n",
       "      <th>BONUS NUMBER</th>\n",
       "    </tr>\n",
       "  </thead>\n",
       "  <tbody>\n",
       "    <tr>\n",
       "      <th>0</th>\n",
       "      <td>649</td>\n",
       "      <td>1</td>\n",
       "      <td>0</td>\n",
       "      <td>6/12/1982</td>\n",
       "      <td>3</td>\n",
       "      <td>11</td>\n",
       "      <td>12</td>\n",
       "      <td>14</td>\n",
       "      <td>41</td>\n",
       "      <td>43</td>\n",
       "      <td>13</td>\n",
       "    </tr>\n",
       "    <tr>\n",
       "      <th>1</th>\n",
       "      <td>649</td>\n",
       "      <td>2</td>\n",
       "      <td>0</td>\n",
       "      <td>6/19/1982</td>\n",
       "      <td>8</td>\n",
       "      <td>33</td>\n",
       "      <td>36</td>\n",
       "      <td>37</td>\n",
       "      <td>39</td>\n",
       "      <td>41</td>\n",
       "      <td>9</td>\n",
       "    </tr>\n",
       "    <tr>\n",
       "      <th>2</th>\n",
       "      <td>649</td>\n",
       "      <td>3</td>\n",
       "      <td>0</td>\n",
       "      <td>6/26/1982</td>\n",
       "      <td>1</td>\n",
       "      <td>6</td>\n",
       "      <td>23</td>\n",
       "      <td>24</td>\n",
       "      <td>27</td>\n",
       "      <td>39</td>\n",
       "      <td>34</td>\n",
       "    </tr>\n",
       "    <tr>\n",
       "      <th>3</th>\n",
       "      <td>649</td>\n",
       "      <td>4</td>\n",
       "      <td>0</td>\n",
       "      <td>7/3/1982</td>\n",
       "      <td>3</td>\n",
       "      <td>9</td>\n",
       "      <td>10</td>\n",
       "      <td>13</td>\n",
       "      <td>20</td>\n",
       "      <td>43</td>\n",
       "      <td>34</td>\n",
       "    </tr>\n",
       "    <tr>\n",
       "      <th>4</th>\n",
       "      <td>649</td>\n",
       "      <td>5</td>\n",
       "      <td>0</td>\n",
       "      <td>7/10/1982</td>\n",
       "      <td>5</td>\n",
       "      <td>14</td>\n",
       "      <td>21</td>\n",
       "      <td>31</td>\n",
       "      <td>34</td>\n",
       "      <td>47</td>\n",
       "      <td>45</td>\n",
       "    </tr>\n",
       "  </tbody>\n",
       "</table>\n",
       "</div>"
      ],
      "text/plain": [
       "   PRODUCT  DRAW NUMBER  SEQUENCE NUMBER  DRAW DATE  NUMBER DRAWN 1  \\\n",
       "0      649            1                0  6/12/1982               3   \n",
       "1      649            2                0  6/19/1982               8   \n",
       "2      649            3                0  6/26/1982               1   \n",
       "3      649            4                0   7/3/1982               3   \n",
       "4      649            5                0  7/10/1982               5   \n",
       "\n",
       "   NUMBER DRAWN 2  NUMBER DRAWN 3  NUMBER DRAWN 4  NUMBER DRAWN 5  \\\n",
       "0              11              12              14              41   \n",
       "1              33              36              37              39   \n",
       "2               6              23              24              27   \n",
       "3               9              10              13              20   \n",
       "4              14              21              31              34   \n",
       "\n",
       "   NUMBER DRAWN 6  BONUS NUMBER  \n",
       "0              43            13  \n",
       "1              41             9  \n",
       "2              39            34  \n",
       "3              43            34  \n",
       "4              47            45  "
      ]
     },
     "execution_count": 11,
     "metadata": {},
     "output_type": "execute_result"
    }
   ],
   "source": [
    "lottery_canada.head()"
   ]
  },
  {
   "cell_type": "code",
   "execution_count": 13,
   "id": "a43e6c9b-46e5-4292-aae5-6085c03ab21c",
   "metadata": {},
   "outputs": [
    {
     "data": {
      "text/plain": [
       "array([0, 1, 2, 3], dtype=int64)"
      ]
     },
     "execution_count": 13,
     "metadata": {},
     "output_type": "execute_result"
    }
   ],
   "source": [
    "lottery_canada['SEQUENCE NUMBER'].unique()"
   ]
  },
  {
   "cell_type": "markdown",
   "id": "ce083ec8-349f-4c28-8317-3c177259d8c3",
   "metadata": {},
   "source": [
    "## Function for Historical Data Check"
   ]
  },
  {
   "cell_type": "markdown",
   "id": "6cb7f789-dcce-4c36-b18f-e491177497ee",
   "metadata": {},
   "source": [
    "The engineering team tells us that we need to write a function that can help users determine whether they would have ever won by now using a certain combination of six numbers. These are the details we'll need to be aware of:"
   ]
  },
  {
   "cell_type": "markdown",
   "id": "5698afe2-ddc5-4779-98e6-d01db23e6dd4",
   "metadata": {},
   "source": [
    "- Inside the app, the user inputs six different numbers from 1 to 49.\n",
    "- Under the hood, the six numbers will come as a Python list and serve as an input to our function.\n",
    "- The engineering team wants us to write a function that prints:\n",
    "    - the number of times the combination selected occurred; and\n",
    "    - the probability of winning the big prize in the next drawing with that combination."
   ]
  },
  {
   "cell_type": "markdown",
   "id": "8886b105-df85-4fbf-a15a-0e8ca9cd2699",
   "metadata": {},
   "source": [
    "We're going to begin by extracting all the winning numbers from the lottery data set. The `extract_numbers()` function will go over each row of the dataframe and extract the six winning numbers as a Python set."
   ]
  },
  {
   "cell_type": "code",
   "execution_count": 36,
   "id": "238354fb-0e04-40fd-882b-862942cf234b",
   "metadata": {},
   "outputs": [],
   "source": [
    "def extract_numbers(row):\n",
    "    return set(row[4:10].values)"
   ]
  },
  {
   "cell_type": "code",
   "execution_count": 46,
   "id": "8b7b1dcc-3e24-42d2-8951-90388aacfd4e",
   "metadata": {},
   "outputs": [
    {
     "data": {
      "text/plain": [
       "0    {3, 41, 11, 12, 43, 14}\n",
       "1    {33, 36, 37, 39, 8, 41}\n",
       "2     {1, 6, 39, 23, 24, 27}\n",
       "3     {3, 9, 10, 43, 13, 20}\n",
       "4    {34, 5, 14, 47, 21, 31}\n",
       "dtype: object"
      ]
     },
     "execution_count": 46,
     "metadata": {},
     "output_type": "execute_result"
    }
   ],
   "source": [
    "winning_numbers = lottery_canada.apply(extract_numbers, axis=1)\n",
    "winning_numbers.head()"
   ]
  },
  {
   "cell_type": "markdown",
   "id": "3f688949-6494-4745-9c01-a7eb494fcf24",
   "metadata": {},
   "source": [
    "Below, we write the `check_historical_occurrence()` function that takes in the user numbers and the historical numbers and prints information with respect to the number of occurrences and the probability of winning in the next drawing."
   ]
  },
  {
   "cell_type": "code",
   "execution_count": 47,
   "id": "2bdccc38-0dd3-4b1a-9ad0-36426713b06d",
   "metadata": {},
   "outputs": [],
   "source": [
    "def check_historical_occurrence(user_numbers, historical_numbers):   \n",
    "    '''\n",
    "    user_numbers: a Python list\n",
    "    historical numbers: a pandas Series\n",
    "    '''\n",
    "    \n",
    "    user_numbers_set = set(user_numbers)\n",
    "    check_occurrence = historical_numbers == user_numbers_set\n",
    "    n_occurrences = check_occurrence.sum()\n",
    "    \n",
    "    if n_occurrences == 0:\n",
    "        print('''The combination {} has never occured.\n",
    "This doesn't mean it's more likely to occur now. Your chances to win the big prize in the next drawing using the combination {} are 0.0000072%.\n",
    "In other words, you have a 1 in 13,983,816 chances to win.'''.format(user_numbers, user_numbers))\n",
    "        \n",
    "    else:\n",
    "        print('''The number of times combination {} has occured in the past is {}.\n",
    "Your chances to win the big prize in the next drawing using the combination {} are 0.0000072%.\n",
    "In other words, you have a 1 in 13,983,816 chances to win.'''.format(user_numbers, n_occurrences,\n",
    "                                                                            user_numbers))"
   ]
  },
  {
   "cell_type": "code",
   "execution_count": 48,
   "id": "4232fcd1-636f-4837-bc13-7975e4c6fb53",
   "metadata": {},
   "outputs": [
    {
     "name": "stdout",
     "output_type": "stream",
     "text": [
      "The number of times combination [33, 36, 37, 39, 8, 41] has occured in the past is 1.\n",
      "Your chances to win the big prize in the next drawing using the combination [33, 36, 37, 39, 8, 41] are 0.0000072%.\n",
      "In other words, you have a 1 in 13,983,816 chances to win.\n"
     ]
    }
   ],
   "source": [
    "test_input_3 = [33, 36, 37, 39, 8, 41]\n",
    "check_historical_occurrence(test_input_3, winning_numbers)"
   ]
  },
  {
   "cell_type": "markdown",
   "id": "7591dce5-7d96-45b2-bfb1-fa61be40554e",
   "metadata": {},
   "source": [
    "## Multi-ticket Probability"
   ]
  },
  {
   "cell_type": "markdown",
   "id": "2826e194-65ee-4097-bb1b-e1f38704166d",
   "metadata": {},
   "source": [
    "For the first version of the app, users should also be able to find the probability of winning if they play multiple different tickets. For instance, someone might intend to play 15 different tickets and they want to know the probability of winning the big prize."
   ]
  },
  {
   "cell_type": "markdown",
   "id": "a961bf4c-4e25-43f3-b9d9-329d622622fc",
   "metadata": {},
   "source": [
    "The engineering team wants us to be aware of the following details when we're writing the function:"
   ]
  },
  {
   "cell_type": "markdown",
   "id": "986dd13f-29fb-4950-948b-01c1b76e80bd",
   "metadata": {},
   "source": [
    "- The user will input the number of different tickets they want to play (without inputting the specific combinations they intend to play).\n",
    "- Our function will see an integer between 1 and 13,983,816 (the maximum number of different tickets).\n",
    "- The function should print information about the probability of winning the big prize depending on the number of different tickets played."
   ]
  },
  {
   "cell_type": "markdown",
   "id": "69454026-a86a-4ebf-89ed-896ae568e6fd",
   "metadata": {},
   "source": [
    "The `multi_ticket_probability()` function below takes in the number of tickets and prints probability information depending on the input."
   ]
  },
  {
   "cell_type": "code",
   "execution_count": 50,
   "id": "1ebf869a-2e8b-4889-b3b2-2529b0b1125d",
   "metadata": {},
   "outputs": [],
   "source": [
    "def multi_ticket_probability(n_tickets):\n",
    "    \n",
    "    n_combinations = combinations(49, 6)\n",
    "\n",
    "    probability = n_tickets / n_combinations\n",
    "    percentage_form = probability * 100\n",
    "\n",
    "    if n_tickets == 1:\n",
    "        print('''Your chances to win the big prize with one ticket are {:.6f}%.\n",
    "In other words, you have a 1 in {:,} chances to win.'''.format(percentage_form, int(n_combinations)))\n",
    "    \n",
    "    else:\n",
    "        combinations_simplified = round(n_combinations / n_tickets)   \n",
    "        print('''Your chances to win the big prize with {:,} different tickets are {:.6f}%.\n",
    "In other words, you have a 1 in {:,} chances to win.'''.format(n_tickets, percentage_form,\n",
    "                                                               combinations_simplified))\n"
   ]
  },
  {
   "cell_type": "markdown",
   "id": "c5b0b820-af06-4246-8a09-80e63f5a5b31",
   "metadata": {},
   "source": [
    "\r\n",
    "Below, we run a couple of tests for our function."
   ]
  },
  {
   "cell_type": "code",
   "execution_count": 51,
   "id": "9cc57ad6-7940-4aaf-934c-f868b6164a7f",
   "metadata": {},
   "outputs": [
    {
     "name": "stdout",
     "output_type": "stream",
     "text": [
      "Your chances to win the big prize with one ticket are 0.000007%.\n",
      "In other words, you have a 1 in 13,983,816 chances to win.\n",
      "------------------------\n",
      "Your chances to win the big prize with 10 different tickets are 0.000072%.\n",
      "In other words, you have a 1 in 1,398,382 chances to win.\n",
      "------------------------\n",
      "Your chances to win the big prize with 100 different tickets are 0.000715%.\n",
      "In other words, you have a 1 in 139,838 chances to win.\n",
      "------------------------\n",
      "Your chances to win the big prize with 10,000 different tickets are 0.071511%.\n",
      "In other words, you have a 1 in 1,398 chances to win.\n",
      "------------------------\n",
      "Your chances to win the big prize with 1,000,000 different tickets are 7.151124%.\n",
      "In other words, you have a 1 in 14 chances to win.\n",
      "------------------------\n",
      "Your chances to win the big prize with 6,991,908 different tickets are 50.000000%.\n",
      "In other words, you have a 1 in 2 chances to win.\n",
      "------------------------\n",
      "Your chances to win the big prize with 13,983,816 different tickets are 100.000000%.\n",
      "In other words, you have a 1 in 1 chances to win.\n",
      "------------------------\n"
     ]
    }
   ],
   "source": [
    "test_inputs = [1, 10, 100, 10000, 1000000, 6991908, 13983816]\n",
    "\n",
    "for test_input in test_inputs:\n",
    "    multi_ticket_probability(test_input)\n",
    "    print('------------------------') # output delimiter"
   ]
  },
  {
   "cell_type": "markdown",
   "id": "04321fa8-6bc7-480b-b2e3-ed62643225ab",
   "metadata": {},
   "source": [
    "## Less Winning Numbers — Function\n",
    "    "
   ]
  },
  {
   "cell_type": "markdown",
   "id": "0b146603-3258-4cdb-ab13-ee572e28632c",
   "metadata": {},
   "source": [
    "In most 6/49 lotteries, there are smaller prizes if a player's ticket match two, three, four, or five of the six numbers drawn. This means that players might be interested in finding out the probability of having two, three, four, or five winning numbers — for the first version of the app, users should be able to find those probabilities.\n"
   ]
  },
  {
   "cell_type": "markdown",
   "id": "7e9a561e-1c55-41c3-9f3b-c1c2eaf4657d",
   "metadata": {},
   "source": [
    "These are the details we need to be aware of when we write a function to make the calculations of those probabilities possible:"
   ]
  },
  {
   "cell_type": "markdown",
   "id": "289a398d-71aa-454c-b6f8-485ee89fa1ba",
   "metadata": {},
   "source": [
    "- Inside the app, the user inputs:\n",
    "    - six different numbers from 1 to 49; and\n",
    "    - an integer between 2 and 5 that represents the number of winning  numbers expected\n",
    "\n",
    "- Our function prints information about the probability of having a certain number of winning numbers\n"
   ]
  },
  {
   "cell_type": "markdown",
   "id": "c6e8404c-cb78-4829-b953-3f810cf15989",
   "metadata": {},
   "source": [
    "To calculate the probabilities, we tell the engineering team that the specific combination on the ticket is irrelevant and we only need the integer between 2 and 5 representing the number of winning numbers expected. Consequently, we will write a function named `probability_less_6()` which takes in an integer and prints information about the chances of winning depending on the value of that integer."
   ]
  },
  {
   "cell_type": "markdown",
   "id": "509f4d2e-df19-43a5-adf2-1513ca0533cb",
   "metadata": {},
   "source": [
    "The function below calculates the probability that a player's ticket matches exactly the given number of winning numbers. If the player wants to find out the probability of having five winning numbers, the function will return the probability of having five winning numbers exactly (no more and no less). The function will not return the probability of having at least five winning numbers."
   ]
  },
  {
   "cell_type": "code",
   "execution_count": 52,
   "id": "ae78dbe2-4942-4113-9471-56462b0e187b",
   "metadata": {},
   "outputs": [],
   "source": [
    "def probability_less_6(n_winning_numbers):\r\n",
    "    \r\n",
    "    n_combinations_ticket = combinations(6, n_winning_numbers)\r\n",
    "    n_combinations_remaining = combinations(43, 6 - n_winning_numbers)\r\n",
    "    successful_outcomes = n_combinations_ticket * n_combinations_remaining\r\n",
    "    \r\n",
    "    n_combinations_total = combinations(49, 6)    \r\n",
    "    probability = successful_outcomes / n_combinations_total\r\n",
    "    \r\n",
    "    probability_percentage = probability * 100    \r\n",
    "    combinations_simplified = round(n_combinations_total/successful_outcomes)    \r\n",
    "    print('''Your chances of having {} winning numbers with this ticket are {:.6f}%.\r\n",
    "In other words, you have a 1 in {:,} chances to win.'''.format(n_winning_numbers, probability_percentage,\r\n",
    "                                                               int(combinations_simplified)))"
   ]
  },
  {
   "cell_type": "markdown",
   "id": "d0686343-b111-45d5-8a2b-e646ad57be65",
   "metadata": {},
   "source": [
    "Now, let's test the function on all the three possible inputs."
   ]
  },
  {
   "cell_type": "code",
   "execution_count": 53,
   "id": "39135050-778f-47d5-90e9-8180d96bc735",
   "metadata": {},
   "outputs": [
    {
     "name": "stdout",
     "output_type": "stream",
     "text": [
      "Your chances of having 2 winning numbers with this ticket are 13.237803%.\n",
      "In other words, you have a 1 in 8 chances to win.\n",
      "--------------------------\n",
      "Your chances of having 3 winning numbers with this ticket are 1.765040%.\n",
      "In other words, you have a 1 in 57 chances to win.\n",
      "--------------------------\n",
      "Your chances of having 4 winning numbers with this ticket are 0.096862%.\n",
      "In other words, you have a 1 in 1,032 chances to win.\n",
      "--------------------------\n",
      "Your chances of having 5 winning numbers with this ticket are 0.001845%.\n",
      "In other words, you have a 1 in 54,201 chances to win.\n",
      "--------------------------\n"
     ]
    }
   ],
   "source": [
    "for test_input in [2, 3, 4, 5]:\n",
    "    probability_less_6(test_input)\n",
    "    print('--------------------------') # output delimiter"
   ]
  },
  {
   "cell_type": "markdown",
   "id": "d7c4a9c1-94fa-4392-a805-b9af1ab4fa48",
   "metadata": {},
   "source": [
    "## Next steps"
   ]
  },
  {
   "cell_type": "markdown",
   "id": "a76f4b23-98f1-4976-8755-c00a68ef6687",
   "metadata": {},
   "source": [
    "For the first version of the app, we coded four main functions:"
   ]
  },
  {
   "cell_type": "markdown",
   "id": "610badb8-fcb3-448b-b032-e8a4bb3afbc1",
   "metadata": {},
   "source": [
    "- `one_ticket_probability()` — calculates the probability of winning the big prize with a single ticket\n",
    "- `check_historical_occurrence()` — checks whether a certain combination has occurred in the Canada lottery data set\n",
    "- `multi_ticket_probability()` — calculates the probability for any number of of tickets between 1 and 13,983,816\n",
    "- `probability_less_6()` — calculates the probability of having two, three, four or five winning numbers exactly"
   ]
  },
  {
   "cell_type": "markdown",
   "id": "8db54c8e-f68f-4ef1-96b5-79ba34bd1e41",
   "metadata": {},
   "source": [
    "Possible features for a second version of the app include:"
   ]
  },
  {
   "cell_type": "markdown",
   "id": "6337bed6-09f1-470e-9ccc-c2eaa5f770a5",
   "metadata": {},
   "source": [
    "- Making the outputs even easier to understand by adding fun analogies (for - example, we can find probabilities for strange events and compare with the chances of winning in lottery; for instance, we can output something along the lines \"You are 100 times more likely to be the victim of a shark attack than winning the lottery\")\n",
    "\n",
    "- Combining the `one_ticket_probability()` and `check_historical_occurrence()` to output information on probability and historical occurrence at the same time\n",
    "    - The number of successful outcomes for having four winning numbers exactly\n",
    "    - The number of successful outcomes for having five winning numbers exactly\n",
    "    - The number of successful outcomes for having six winning numbers exactly"
   ]
  },
  {
   "cell_type": "code",
   "execution_count": null,
   "id": "b75e2835-4263-4dd5-a26c-1e2a3839a0c4",
   "metadata": {},
   "outputs": [],
   "source": []
  }
 ],
 "metadata": {
  "kernelspec": {
   "display_name": "Python 3 (ipykernel)",
   "language": "python",
   "name": "python3"
  },
  "language_info": {
   "codemirror_mode": {
    "name": "ipython",
    "version": 3
   },
   "file_extension": ".py",
   "mimetype": "text/x-python",
   "name": "python",
   "nbconvert_exporter": "python",
   "pygments_lexer": "ipython3",
   "version": "3.12.4"
  }
 },
 "nbformat": 4,
 "nbformat_minor": 5
}
