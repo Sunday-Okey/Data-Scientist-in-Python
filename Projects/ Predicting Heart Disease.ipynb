{
 "cells": [
  {
   "cell_type": "markdown",
   "id": "ba4bd614-bf70-4ea6-83be-fa2bce87e60b",
   "metadata": {},
   "source": [
    "##  Predicting Heart Disease"
   ]
  },
  {
   "cell_type": "markdown",
   "id": "697f8a9f-7aa1-4cdf-b397-8b23c587816e",
   "metadata": {},
   "source": [
    "The [World Health Organization (WHO)](https://www.who.int/health-topics/cardiovascular-diseases) estimates that 17.9 million people die from cardiovascular diseases (CVDs) every year. \n",
    "\n",
    "There are multiple risk factors that could contribute to CVD in an individual, such as unhealthy diet, lack of physical activity, or mental illness. Identifying these risk factors early on could help prevent many premature deaths."
   ]
  },
  {
   "cell_type": "markdown",
   "id": "b0ca7df6-9696-40cc-8b6d-ff9f484911b5",
   "metadata": {},
   "source": [
    "Let's say we are working for an R&D company that focuses on providing healthcare solutions. The company has collected anonymized data from multiple hospitals on several patients. The dataset includes relevant information for each patient, such as their personal information and some medical data, including whether or not they have had heart disease before."
   ]
  },
  {
   "cell_type": "markdown",
   "id": "736175b2-5cc7-4be2-a9e0-8c2be767b3d7",
   "metadata": {},
   "source": [
    "We are tasked with using the dataset to accurately predict the likelihood of a new patient having heart disease in the future. The dataset has the following features:"
   ]
  },
  {
   "cell_type": "markdown",
   "id": "70432f71-fd88-4040-8837-2a8050a161f6",
   "metadata": {},
   "source": [
    "- `Age`: age of the patient [years]\n",
    "- `Sex`: sex of the patient [M: Male, F: Female]\n",
    "- `ChestPainType`: chest pain type [TA: Typical Angina, ATA: Atypical Angina, NAP: Non-Anginal Pain, ASY: Asymptomatic]\n",
    "- `RestingBP`: resting blood pressure [mm Hg]\n",
    "-` Cholesterol`: serum cholesterol [mm/dl]\n",
    "- `FastingBS`: fasting blood sugar [1: if FastingBS > 120 mg/dl, 0: otherwise]\n",
    "-` RestingECG`: resting electrocardiogram results [Normal: Normal, ST: having ST-T wave abnormality (T wave inversions and/or ST elevation or depression of > 0.05 mV), LVH: showing probable or definite left ventricular hypertrophy by Estes' criteria]\n",
    "- `MaxHR`: maximum heart rate achieved [Numeric value between 60 and 202]\n",
    "- `ExerciseAngina`: exercise-induced angina [Y: Yes, N: No]\n",
    "- `Oldpeak`: oldpeak = ST [Numeric value measured in depression]\n",
    "- `ST_Slope`: the slope of the peak exercise ST segment [Up: upsloping, Flat: flat, Down: downsloping]\n",
    "- `HeartDisease`: output class [1: heart disease, 0: Normal]"
   ]
  },
  {
   "cell_type": "code",
   "execution_count": 1,
   "id": "0d0e2b72-5802-41d1-aca9-bdb60ebf44c7",
   "metadata": {},
   "outputs": [],
   "source": [
    "import pandas as pd\n",
    "import numpy as np\n",
    "import matplotlib.pyplot as plt\n",
    "import seaborn as sns\n",
    "from sklearn.preprocessing import MinMaxScaler\n",
    "from sklearn.model_selection import GridSearchCV, train_test_split\n",
    "from sklearn.neighbors import KNeighborsClassifier\n",
    "from sklearn.metrics import accuracy_score\n",
    "%matplotlib inline"
   ]
  },
  {
   "cell_type": "code",
   "execution_count": 2,
   "id": "8bfbeb45-8563-4164-bca7-094cf2f2dc29",
   "metadata": {},
   "outputs": [
    {
     "data": {
      "text/html": [
       "<div>\n",
       "<style scoped>\n",
       "    .dataframe tbody tr th:only-of-type {\n",
       "        vertical-align: middle;\n",
       "    }\n",
       "\n",
       "    .dataframe tbody tr th {\n",
       "        vertical-align: top;\n",
       "    }\n",
       "\n",
       "    .dataframe thead th {\n",
       "        text-align: right;\n",
       "    }\n",
       "</style>\n",
       "<table border=\"1\" class=\"dataframe\">\n",
       "  <thead>\n",
       "    <tr style=\"text-align: right;\">\n",
       "      <th></th>\n",
       "      <th>Age</th>\n",
       "      <th>Sex</th>\n",
       "      <th>ChestPainType</th>\n",
       "      <th>RestingBP</th>\n",
       "      <th>Cholesterol</th>\n",
       "      <th>FastingBS</th>\n",
       "      <th>RestingECG</th>\n",
       "      <th>MaxHR</th>\n",
       "      <th>ExerciseAngina</th>\n",
       "      <th>Oldpeak</th>\n",
       "      <th>ST_Slope</th>\n",
       "      <th>HeartDisease</th>\n",
       "    </tr>\n",
       "  </thead>\n",
       "  <tbody>\n",
       "    <tr>\n",
       "      <th>0</th>\n",
       "      <td>40</td>\n",
       "      <td>M</td>\n",
       "      <td>ATA</td>\n",
       "      <td>140</td>\n",
       "      <td>289</td>\n",
       "      <td>0</td>\n",
       "      <td>Normal</td>\n",
       "      <td>172</td>\n",
       "      <td>N</td>\n",
       "      <td>0.0</td>\n",
       "      <td>Up</td>\n",
       "      <td>0</td>\n",
       "    </tr>\n",
       "    <tr>\n",
       "      <th>1</th>\n",
       "      <td>49</td>\n",
       "      <td>F</td>\n",
       "      <td>NAP</td>\n",
       "      <td>160</td>\n",
       "      <td>180</td>\n",
       "      <td>0</td>\n",
       "      <td>Normal</td>\n",
       "      <td>156</td>\n",
       "      <td>N</td>\n",
       "      <td>1.0</td>\n",
       "      <td>Flat</td>\n",
       "      <td>1</td>\n",
       "    </tr>\n",
       "    <tr>\n",
       "      <th>2</th>\n",
       "      <td>37</td>\n",
       "      <td>M</td>\n",
       "      <td>ATA</td>\n",
       "      <td>130</td>\n",
       "      <td>283</td>\n",
       "      <td>0</td>\n",
       "      <td>ST</td>\n",
       "      <td>98</td>\n",
       "      <td>N</td>\n",
       "      <td>0.0</td>\n",
       "      <td>Up</td>\n",
       "      <td>0</td>\n",
       "    </tr>\n",
       "    <tr>\n",
       "      <th>3</th>\n",
       "      <td>48</td>\n",
       "      <td>F</td>\n",
       "      <td>ASY</td>\n",
       "      <td>138</td>\n",
       "      <td>214</td>\n",
       "      <td>0</td>\n",
       "      <td>Normal</td>\n",
       "      <td>108</td>\n",
       "      <td>Y</td>\n",
       "      <td>1.5</td>\n",
       "      <td>Flat</td>\n",
       "      <td>1</td>\n",
       "    </tr>\n",
       "    <tr>\n",
       "      <th>4</th>\n",
       "      <td>54</td>\n",
       "      <td>M</td>\n",
       "      <td>NAP</td>\n",
       "      <td>150</td>\n",
       "      <td>195</td>\n",
       "      <td>0</td>\n",
       "      <td>Normal</td>\n",
       "      <td>122</td>\n",
       "      <td>N</td>\n",
       "      <td>0.0</td>\n",
       "      <td>Up</td>\n",
       "      <td>0</td>\n",
       "    </tr>\n",
       "  </tbody>\n",
       "</table>\n",
       "</div>"
      ],
      "text/plain": [
       "   Age Sex ChestPainType  RestingBP  Cholesterol  FastingBS RestingECG  MaxHR  \\\n",
       "0   40   M           ATA        140          289          0     Normal    172   \n",
       "1   49   F           NAP        160          180          0     Normal    156   \n",
       "2   37   M           ATA        130          283          0         ST     98   \n",
       "3   48   F           ASY        138          214          0     Normal    108   \n",
       "4   54   M           NAP        150          195          0     Normal    122   \n",
       "\n",
       "  ExerciseAngina  Oldpeak ST_Slope  HeartDisease  \n",
       "0              N      0.0       Up             0  \n",
       "1              N      1.0     Flat             1  \n",
       "2              N      0.0       Up             0  \n",
       "3              Y      1.5     Flat             1  \n",
       "4              N      0.0       Up             0  "
      ]
     },
     "execution_count": 2,
     "metadata": {},
     "output_type": "execute_result"
    }
   ],
   "source": [
    "heart_df = pd.read_csv('../Datasets/heart_disease_prediction.csv')\n",
    "heart_df.head()"
   ]
  },
  {
   "cell_type": "code",
   "execution_count": 3,
   "id": "4a611c64-c294-4704-af10-b5df005bf682",
   "metadata": {},
   "outputs": [
    {
     "data": {
      "text/plain": [
       "(918, 12)"
      ]
     },
     "execution_count": 3,
     "metadata": {},
     "output_type": "execute_result"
    }
   ],
   "source": [
    "heart_df.shape"
   ]
  },
  {
   "cell_type": "markdown",
   "id": "a7107d2a-16c7-4c22-b924-d338fcf6eb8d",
   "metadata": {},
   "source": [
    "##  EDA: Descriptive Statistics"
   ]
  },
  {
   "cell_type": "markdown",
   "id": "fba6176b-0eb8-416e-95ec-1b6b559b40fc",
   "metadata": {},
   "source": [
    "Before we jump into building a model, let's conduct exploratory data analysis on the dataset."
   ]
  },
  {
   "cell_type": "markdown",
   "id": "3276f53f-c8cd-4d24-964d-84b7bab49810",
   "metadata": {},
   "source": [
    "We will start by exploring and analyzing the numerical columns."
   ]
  },
  {
   "cell_type": "markdown",
   "id": "f01c6c71-9517-41c8-8556-5ed74ad80d7b",
   "metadata": {},
   "source": [
    "Given the list of features and looking at some of the rows from the dataset, we see that we have both categorical and numerical features."
   ]
  },
  {
   "cell_type": "code",
   "execution_count": 4,
   "id": "07d580ac-1348-492a-84c1-6820de7b002b",
   "metadata": {},
   "outputs": [
    {
     "data": {
      "text/plain": [
       "Age                 int64\n",
       "Sex                object\n",
       "ChestPainType      object\n",
       "RestingBP           int64\n",
       "Cholesterol         int64\n",
       "FastingBS           int64\n",
       "RestingECG         object\n",
       "MaxHR               int64\n",
       "ExerciseAngina     object\n",
       "Oldpeak           float64\n",
       "ST_Slope           object\n",
       "HeartDisease        int64\n",
       "dtype: object"
      ]
     },
     "execution_count": 4,
     "metadata": {},
     "output_type": "execute_result"
    }
   ],
   "source": [
    "heart_df.dtypes"
   ]
  },
  {
   "cell_type": "markdown",
   "id": "49e50266-51f9-4f5b-baf5-dcd91471ed36",
   "metadata": {},
   "source": [
    "The categorical columns will be dtype object for this dataset. We need to note that a couple of columns -- `FastingBS` and `HeartDisease` -- have the dtype int64, but are also categorical variables, since they only take the values 0 and 1."
   ]
  },
  {
   "cell_type": "markdown",
   "id": "773e0cb1-0941-48ac-9eac-f8895846974e",
   "metadata": {},
   "source": [
    "\r\n",
    "The dataset seems to contain both numerical and categorical features. Let's look at the datatype for each column."
   ]
  },
  {
   "cell_type": "code",
   "execution_count": 5,
   "id": "7bff6deb-c697-4ae9-9d01-c3b272d0fd63",
   "metadata": {},
   "outputs": [
    {
     "data": {
      "text/plain": [
       "int64      6\n",
       "object     5\n",
       "float64    1\n",
       "Name: count, dtype: int64"
      ]
     },
     "execution_count": 5,
     "metadata": {},
     "output_type": "execute_result"
    }
   ],
   "source": [
    "heart_df.dtypes.value_counts()"
   ]
  },
  {
   "cell_type": "markdown",
   "id": "9e8285fe-4e90-40ca-936a-3ef5422a6996",
   "metadata": {},
   "source": [
    "`7` features in total are numerical while `5` are categorical. However, two of the numerical features, `FastingBS` and `HeartDisease` are categorical as well.\n",
    "\n",
    "We will focus on the numerical variables first."
   ]
  },
  {
   "cell_type": "code",
   "execution_count": 6,
   "id": "8c2645db-74be-4bcf-ac0a-dd376bead43b",
   "metadata": {},
   "outputs": [
    {
     "data": {
      "text/html": [
       "<div>\n",
       "<style scoped>\n",
       "    .dataframe tbody tr th:only-of-type {\n",
       "        vertical-align: middle;\n",
       "    }\n",
       "\n",
       "    .dataframe tbody tr th {\n",
       "        vertical-align: top;\n",
       "    }\n",
       "\n",
       "    .dataframe thead th {\n",
       "        text-align: right;\n",
       "    }\n",
       "</style>\n",
       "<table border=\"1\" class=\"dataframe\">\n",
       "  <thead>\n",
       "    <tr style=\"text-align: right;\">\n",
       "      <th></th>\n",
       "      <th>Age</th>\n",
       "      <th>RestingBP</th>\n",
       "      <th>Cholesterol</th>\n",
       "      <th>FastingBS</th>\n",
       "      <th>MaxHR</th>\n",
       "      <th>Oldpeak</th>\n",
       "      <th>HeartDisease</th>\n",
       "    </tr>\n",
       "  </thead>\n",
       "  <tbody>\n",
       "    <tr>\n",
       "      <th>count</th>\n",
       "      <td>918.000000</td>\n",
       "      <td>918.000000</td>\n",
       "      <td>918.000000</td>\n",
       "      <td>918.000000</td>\n",
       "      <td>918.000000</td>\n",
       "      <td>918.000000</td>\n",
       "      <td>918.000000</td>\n",
       "    </tr>\n",
       "    <tr>\n",
       "      <th>mean</th>\n",
       "      <td>53.510893</td>\n",
       "      <td>132.396514</td>\n",
       "      <td>198.799564</td>\n",
       "      <td>0.233115</td>\n",
       "      <td>136.809368</td>\n",
       "      <td>0.887364</td>\n",
       "      <td>0.553377</td>\n",
       "    </tr>\n",
       "    <tr>\n",
       "      <th>std</th>\n",
       "      <td>9.432617</td>\n",
       "      <td>18.514154</td>\n",
       "      <td>109.384145</td>\n",
       "      <td>0.423046</td>\n",
       "      <td>25.460334</td>\n",
       "      <td>1.066570</td>\n",
       "      <td>0.497414</td>\n",
       "    </tr>\n",
       "    <tr>\n",
       "      <th>min</th>\n",
       "      <td>28.000000</td>\n",
       "      <td>0.000000</td>\n",
       "      <td>0.000000</td>\n",
       "      <td>0.000000</td>\n",
       "      <td>60.000000</td>\n",
       "      <td>-2.600000</td>\n",
       "      <td>0.000000</td>\n",
       "    </tr>\n",
       "    <tr>\n",
       "      <th>25%</th>\n",
       "      <td>47.000000</td>\n",
       "      <td>120.000000</td>\n",
       "      <td>173.250000</td>\n",
       "      <td>0.000000</td>\n",
       "      <td>120.000000</td>\n",
       "      <td>0.000000</td>\n",
       "      <td>0.000000</td>\n",
       "    </tr>\n",
       "    <tr>\n",
       "      <th>50%</th>\n",
       "      <td>54.000000</td>\n",
       "      <td>130.000000</td>\n",
       "      <td>223.000000</td>\n",
       "      <td>0.000000</td>\n",
       "      <td>138.000000</td>\n",
       "      <td>0.600000</td>\n",
       "      <td>1.000000</td>\n",
       "    </tr>\n",
       "    <tr>\n",
       "      <th>75%</th>\n",
       "      <td>60.000000</td>\n",
       "      <td>140.000000</td>\n",
       "      <td>267.000000</td>\n",
       "      <td>0.000000</td>\n",
       "      <td>156.000000</td>\n",
       "      <td>1.500000</td>\n",
       "      <td>1.000000</td>\n",
       "    </tr>\n",
       "    <tr>\n",
       "      <th>max</th>\n",
       "      <td>77.000000</td>\n",
       "      <td>200.000000</td>\n",
       "      <td>603.000000</td>\n",
       "      <td>1.000000</td>\n",
       "      <td>202.000000</td>\n",
       "      <td>6.200000</td>\n",
       "      <td>1.000000</td>\n",
       "    </tr>\n",
       "  </tbody>\n",
       "</table>\n",
       "</div>"
      ],
      "text/plain": [
       "              Age   RestingBP  Cholesterol   FastingBS       MaxHR  \\\n",
       "count  918.000000  918.000000   918.000000  918.000000  918.000000   \n",
       "mean    53.510893  132.396514   198.799564    0.233115  136.809368   \n",
       "std      9.432617   18.514154   109.384145    0.423046   25.460334   \n",
       "min     28.000000    0.000000     0.000000    0.000000   60.000000   \n",
       "25%     47.000000  120.000000   173.250000    0.000000  120.000000   \n",
       "50%     54.000000  130.000000   223.000000    0.000000  138.000000   \n",
       "75%     60.000000  140.000000   267.000000    0.000000  156.000000   \n",
       "max     77.000000  200.000000   603.000000    1.000000  202.000000   \n",
       "\n",
       "          Oldpeak  HeartDisease  \n",
       "count  918.000000    918.000000  \n",
       "mean     0.887364      0.553377  \n",
       "std      1.066570      0.497414  \n",
       "min     -2.600000      0.000000  \n",
       "25%      0.000000      0.000000  \n",
       "50%      0.600000      1.000000  \n",
       "75%      1.500000      1.000000  \n",
       "max      6.200000      1.000000  "
      ]
     },
     "execution_count": 6,
     "metadata": {},
     "output_type": "execute_result"
    }
   ],
   "source": [
    "heart_df.describe()"
   ]
  },
  {
   "cell_type": "markdown",
   "id": "2df9528c-1e75-4645-a2c4-e0cc10f241d4",
   "metadata": {},
   "source": [
    "From the table above, we can observe that:\n",
    "\n",
    "- The average age of patients is ~`53` years.\n",
    "- The median for `Cholesterol` is higher than its mean by roughly 25 mm/dl, indicating that it could be a left-skewed distribution with a possibility of outliers skewing the distribution.\n",
    "- `RestingBP` and `Cholesterol` have a minimum value of zero.\n",
    "- There don't seem to be any missing values in these columns. But we will have to confirm it across the entire dataset as well."
   ]
  },
  {
   "cell_type": "markdown",
   "id": "1a799939-577b-4ddf-8071-690d1cb09dbc",
   "metadata": {},
   "source": [
    "`RestingBP` can't be `0`. And, as per the [American Heart Association](), serum cholesterol is a composite of different measurements. So, it is unlikely that `Cholesterol` would be 0 as well. We will have to clean both of these up later."
   ]
  },
  {
   "cell_type": "markdown",
   "id": "98a0fb12-9c45-4bb8-af02-3ae30163018b",
   "metadata": {},
   "source": [
    "Next, we will look at the categorical variables. It would also be beneficial to look at how the target feature, `HeartDisease`, is related to those categories. Before that, let's quickly check if there are any missing values in the dataset or not."
   ]
  },
  {
   "cell_type": "code",
   "execution_count": 7,
   "id": "7f05e1e2-631e-4aa8-a391-ad7de2fd6455",
   "metadata": {},
   "outputs": [
    {
     "data": {
      "text/plain": [
       "Age               0\n",
       "Sex               0\n",
       "ChestPainType     0\n",
       "RestingBP         0\n",
       "Cholesterol       0\n",
       "FastingBS         0\n",
       "RestingECG        0\n",
       "MaxHR             0\n",
       "ExerciseAngina    0\n",
       "Oldpeak           0\n",
       "ST_Slope          0\n",
       "HeartDisease      0\n",
       "dtype: int64"
      ]
     },
     "execution_count": 7,
     "metadata": {},
     "output_type": "execute_result"
    }
   ],
   "source": [
    "# check for missing values\n",
    "heart_df.isna().sum()"
   ]
  },
  {
   "cell_type": "markdown",
   "id": "5372ca6e-86cb-444d-81dc-d8fde54b0079",
   "metadata": {},
   "source": [
    "There are no missing values in this dataset!"
   ]
  },
  {
   "cell_type": "markdown",
   "id": "52640b2c-4ea1-49d0-a7cb-cf38f721a929",
   "metadata": {},
   "source": [
    "## EDA: Categorical Data"
   ]
  },
  {
   "cell_type": "markdown",
   "id": "54764a3f-a605-4140-abea-8f6ccd3f3dab",
   "metadata": {},
   "source": [
    "We identified that most of the categorical columns are all of dtype `object`."
   ]
  },
  {
   "cell_type": "code",
   "execution_count": 8,
   "id": "5053a3b2-55a2-44a1-818d-7338e6107782",
   "metadata": {},
   "outputs": [
    {
     "data": {
      "text/html": [
       "<div>\n",
       "<style scoped>\n",
       "    .dataframe tbody tr th:only-of-type {\n",
       "        vertical-align: middle;\n",
       "    }\n",
       "\n",
       "    .dataframe tbody tr th {\n",
       "        vertical-align: top;\n",
       "    }\n",
       "\n",
       "    .dataframe thead th {\n",
       "        text-align: right;\n",
       "    }\n",
       "</style>\n",
       "<table border=\"1\" class=\"dataframe\">\n",
       "  <thead>\n",
       "    <tr style=\"text-align: right;\">\n",
       "      <th></th>\n",
       "      <th>Sex</th>\n",
       "      <th>ChestPainType</th>\n",
       "      <th>RestingECG</th>\n",
       "      <th>ExerciseAngina</th>\n",
       "      <th>ST_Slope</th>\n",
       "    </tr>\n",
       "  </thead>\n",
       "  <tbody>\n",
       "    <tr>\n",
       "      <th>count</th>\n",
       "      <td>918</td>\n",
       "      <td>918</td>\n",
       "      <td>918</td>\n",
       "      <td>918</td>\n",
       "      <td>918</td>\n",
       "    </tr>\n",
       "    <tr>\n",
       "      <th>unique</th>\n",
       "      <td>2</td>\n",
       "      <td>4</td>\n",
       "      <td>3</td>\n",
       "      <td>2</td>\n",
       "      <td>3</td>\n",
       "    </tr>\n",
       "    <tr>\n",
       "      <th>top</th>\n",
       "      <td>M</td>\n",
       "      <td>ASY</td>\n",
       "      <td>Normal</td>\n",
       "      <td>N</td>\n",
       "      <td>Flat</td>\n",
       "    </tr>\n",
       "    <tr>\n",
       "      <th>freq</th>\n",
       "      <td>725</td>\n",
       "      <td>496</td>\n",
       "      <td>552</td>\n",
       "      <td>547</td>\n",
       "      <td>460</td>\n",
       "    </tr>\n",
       "  </tbody>\n",
       "</table>\n",
       "</div>"
      ],
      "text/plain": [
       "        Sex ChestPainType RestingECG ExerciseAngina ST_Slope\n",
       "count   918           918        918            918      918\n",
       "unique    2             4          3              2        3\n",
       "top       M           ASY     Normal              N     Flat\n",
       "freq    725           496        552            547      460"
      ]
     },
     "execution_count": 8,
     "metadata": {},
     "output_type": "execute_result"
    }
   ],
   "source": [
    "heart_df.describe(include='object')"
   ]
  },
  {
   "cell_type": "markdown",
   "id": "2635f9c3-f79d-41fd-8732-12dd379d9e71",
   "metadata": {},
   "source": [
    "We can confirm that those columns are indeed categorical given the number of unique values in each of them. But, we can't gather much else. Also, `FastingBS` and `HeartDisease` are categorical as well since they only contain binary values. We can confirm that quickly as well."
   ]
  },
  {
   "cell_type": "code",
   "execution_count": 9,
   "id": "c72c6786-780c-46a0-870d-3d71d1d954dd",
   "metadata": {},
   "outputs": [
    {
     "data": {
      "text/plain": [
       "(array([0, 1], dtype=int64), array([0, 1], dtype=int64))"
      ]
     },
     "execution_count": 9,
     "metadata": {},
     "output_type": "execute_result"
    }
   ],
   "source": [
    "heart_df['FastingBS'].unique(), heart_df['HeartDisease'].unique()"
   ]
  },
  {
   "cell_type": "markdown",
   "id": "b71dd0c1-9814-457d-abf0-1b6a0f338cf7",
   "metadata": {},
   "source": [
    "Based on the descriptive statistics, here are some of the observations that we can make:"
   ]
  },
  {
   "cell_type": "markdown",
   "id": "edc1deb2-2ad6-4ab2-b1a6-029be563fb86",
   "metadata": {},
   "source": [
    "- The average age of patients is ~`53` years.\n",
    "- The median for `Cholesterol` is higher than its mean by roughly `25` mm/dl, indicating that it could be a left-skewed distribution with a possibility of outliers skewing the distribution.\n",
    "- `RestingBP` and `Cholesterol` have a minimum value of zero.\n",
    "- There don't seem to be any missing values in these columns."
   ]
  },
  {
   "cell_type": "markdown",
   "id": "dd0b6693-f7e5-48bd-bff2-2c23b9eb092e",
   "metadata": {},
   "source": [
    "A couple of observations stand out. RestingBP is the resting blood pressure, and it's unlikely to be zero. But what about `Cholesterol`?"
   ]
  },
  {
   "cell_type": "markdown",
   "id": "26b4a85d-4916-427a-afbd-41eaa974c2b5",
   "metadata": {},
   "source": [
    "Low cholesterol certainly sounds like a good thing, but can it be zero?"
   ]
  },
  {
   "cell_type": "markdown",
   "id": "a5a0f290-69d4-4161-93bf-e873e6e1d336",
   "metadata": {},
   "source": [
    "This is where domain expertise can help us. Since we might not be suited to answer the question, we could reach out to a subject matter expert or research it on our own."
   ]
  },
  {
   "cell_type": "markdown",
   "id": "20eabb5a-8709-47a4-8714-000f9b12dce0",
   "metadata": {},
   "source": [
    "As per the dataset description, Cholesterol contains the serum cholesterol values. And per the [American Heart Association](https://www.heart.org/en/health-topics/cholesterol/about-cholesterol/what-your-cholesterol-levels-mean), serum cholesterol:"
   ]
  },
  {
   "cell_type": "markdown",
   "id": "5dfc74e3-99cd-4987-a6e2-72fb4bbc543b",
   "metadata": {},
   "source": [
    "is a composite of different measurements. Your total blood cholesterol is calculated by adding your HDL and LDL cholesterol levels, plus 20% of your triglyceride level."
   ]
  },
  {
   "cell_type": "markdown",
   "id": "4c9c1bd5-1c17-4e42-9ce4-4990617801a4",
   "metadata": {},
   "source": [
    "The above information is enough to let us know that a 0 value for serum cholesterol is unlikely."
   ]
  },
  {
   "cell_type": "markdown",
   "id": "25dfc3a3-a432-42f0-aabb-a9dfafd3ce95",
   "metadata": {},
   "source": [
    "\r\n",
    "Let's start looking at the categories in more detail."
   ]
  },
  {
   "cell_type": "markdown",
   "id": "a6a94a1a-89fe-4779-8266-649639357c0c",
   "metadata": {},
   "source": [
    "Our observations so far were only for a subset of the columns. Additionally, we don't know how the dataset is distributed in relation to our target variable -- `HeartDisease`. For example, how many patients had a resting ECG categorized as ST? How many female patients had heart disease?"
   ]
  },
  {
   "cell_type": "markdown",
   "id": "eef26204-f172-42cd-8c54-03f0cf3ad514",
   "metadata": {},
   "source": [
    "We'll explore the categorical features next, but we'll rely on creating visualizations to understand how the data is distributed."
   ]
  },
  {
   "cell_type": "code",
   "execution_count": 10,
   "id": "99d7045f-3dcd-4d0c-8dd8-5643e2b90f07",
   "metadata": {},
   "outputs": [
    {
     "data": {
      "text/plain": [
       "['Sex',\n",
       " 'ChestPainType',\n",
       " 'RestingECG',\n",
       " 'ExerciseAngina',\n",
       " 'ST_Slope',\n",
       " 'HeartDisease',\n",
       " 'FastingBS']"
      ]
     },
     "execution_count": 10,
     "metadata": {},
     "output_type": "execute_result"
    }
   ],
   "source": [
    "cat_cols = list(heart_df.select_dtypes(include='O').columns) + ['HeartDisease', 'FastingBS']\n",
    "cat_cols"
   ]
  },
  {
   "cell_type": "code",
   "execution_count": 11,
   "id": "7d6cfb6f-2375-471c-ab6b-3119941897d9",
   "metadata": {},
   "outputs": [
    {
     "data": {
      "image/png": "[encoded data removed]",
      "text/plain": [
       "<Figure size 1600x1600 with 7 Axes>"
      ]
     },
     "metadata": {},
     "output_type": "display_data"
    }
   ],
   "source": [
    "fig = plt.figure(figsize=(16, 16))\n",
    "\n",
    "for i, col in enumerate(cat_cols):\n",
    "    ax = plt.subplot(4, 2, i+1)\n",
    "    sns.countplot(x=heart_df[col], ax=ax, hue=heart_df[col], legend=False)\n",
    "    # add data labels to each bar\n",
    "    for container in ax.containers:\n",
    "        ax.bar_label(container, label_type=\"center\")"
   ]
  },
  {
   "cell_type": "markdown",
   "id": "5605443f-14b6-4ca6-96dc-80fda381c97a",
   "metadata": {},
   "source": [
    "- The dataset is highly skewed towards male patients. There are `725` male patients and `193` female patients. This could potentially induce a bias in our model.\n",
    "- `496` patients had ASY (asymptotic) chest pain type.\n",
    "- `552` patients had a normal restin ECG.\n",
    "- `704` patients had blood sugar lower than `120` mg/dl"
   ]
  },
  {
   "cell_type": "markdown",
   "id": "9e5324c5-5a7e-409e-a825-a0b5670948f1",
   "metadata": {},
   "source": [
    "Grouping these by `HeartDisease` will give us a better idea about the data distribution."
   ]
  },
  {
   "cell_type": "code",
   "execution_count": 12,
   "id": "c0c07edc-24e9-4f94-b334-498acadfbfad",
   "metadata": {},
   "outputs": [
    {
     "data": {
      "image/png": "[encoded data removed]",
      "text/plain": [
       "<Figure size 1600x1500 with 6 Axes>"
      ]
     },
     "metadata": {},
     "output_type": "display_data"
    }
   ],
   "source": [
    "cat_cols = list(heart_df.select_dtypes(include='O').columns) + ['FastingBS']\n",
    "fig = plt.figure(figsize=(16, 15))\n",
    "\n",
    "for i, col in enumerate(cat_cols):\n",
    "    ax = plt.subplot(4, 2, i+1)\n",
    "    # group by HeartDisease\n",
    "    sns.countplot(data=heart_df, x=col, hue='HeartDisease', ax=ax)\n",
    "    # add data label\n",
    "    for container in ax.containers:\n",
    "        ax.bar_label(container, label_type='center')"
   ]
  },
  {
   "cell_type": "markdown",
   "id": "e69e57a4-5b17-41e0-965c-b1fa1be10f4f",
   "metadata": {},
   "source": [
    "- We can further notice how skewed the dataset is towards male patients. Only `50` female patients in the dataset have been diagnosed with heart disease.\n",
    "- A significant number of patients, `392`, diagnosed with heart disease have asymptomatic (ASY) chest pain. While chest pain could be a relevant feature for our model, asymptomatic implies that those patients who had a heart disease did not have chest pain as a symptom.\n",
    "- A high number (`170`) of patients with blood sugar greater than 120 mg/dl were diagnosed with heart disease in relation to those who were not diagnosed as such.\n",
    "- Out of all patients who had an exercise-induced angina, `316` were diagnosed with a heart disease.\n",
    "- Out of all patients with a flat ST slope, `381` were diagnosed with a heart disease."
   ]
  },
  {
   "cell_type": "markdown",
   "id": "4abbaeda-d839-455d-a709-13e3cbce734b",
   "metadata": {},
   "source": [
    "Looking at the data distribution from the above plots, we can start to identify some features that could be relevant to us. We will clean up the dataset a bit first before narrowing down on our features."
   ]
  },
  {
   "cell_type": "code",
   "execution_count": 13,
   "id": "ce5b1e37-4c8e-4e18-9ed8-82b67fb1e5d7",
   "metadata": {},
   "outputs": [],
   "source": [
    "# What is the median age of patients who were diagnosed with heart disease?"
   ]
  },
  {
   "cell_type": "code",
   "execution_count": 14,
   "id": "995877b9-c7fe-43ec-8544-ef9abe346040",
   "metadata": {},
   "outputs": [
    {
     "data": {
      "image/png": "[encoded data removed]",
      "text/plain": [
       "<Figure size 640x480 with 1 Axes>"
      ]
     },
     "metadata": {},
     "output_type": "display_data"
    }
   ],
   "source": [
    "heart_df.groupby('HeartDisease')['Age'].median().plot.bar()\n",
    "plt.show()"
   ]
  },
  {
   "cell_type": "code",
   "execution_count": 15,
   "id": "889b69aa-1167-4ffc-8398-5db31b8f66d3",
   "metadata": {},
   "outputs": [],
   "source": [
    "# What percentage of patients with heart disease are male and over 50 years old?"
   ]
  },
  {
   "cell_type": "code",
   "execution_count": 16,
   "id": "d0653419-212d-4bb8-bf69-ecfc893bcbf0",
   "metadata": {},
   "outputs": [
    {
     "data": {
      "image/png": "[encoded data removed]",
      "text/plain": [
       "<Figure size 640x480 with 1 Axes>"
      ]
     },
     "metadata": {},
     "output_type": "display_data"
    }
   ],
   "source": [
    "(heart_df[(heart_df['Sex'] == 'M') & (heart_df['Age'] > 50)]['HeartDisease'].value_counts(normalize=True) * 100).plot.bar()\n",
    "plt.show()"
   ]
  },
  {
   "cell_type": "markdown",
   "id": "44d074ab-c47f-4c0d-84af-594c7b2dc640",
   "metadata": {},
   "source": [
    "## Data Cleaning\n"
   ]
  },
  {
   "cell_type": "markdown",
   "id": "a2a1b65b-4db4-47de-b54d-e551bb36f7de",
   "metadata": {},
   "source": [
    "In the previous screen, we calculated the number of missing values in our entire dataset and didn't find any. We also plotted our categorical columns and observed a few details:"
   ]
  },
  {
   "cell_type": "markdown",
   "id": "d576d1d1-7cc0-4461-a3ce-098f5a037f74",
   "metadata": {},
   "source": [
    "- The dataset is highly skewed towards male patients. `725` rows correspond to male patients, whereas only `193` correspond to female patients. This could potentially induce a bias in our model and impact predictions for any female patients in any unseen data.\n",
    "- `410` patients were not diagnosed with heart disease, whereas `508` patients were. The target variable is somewhat evenly distributed, which is beneficial for training our model.\n",
    "- A significant number of patients, `392`, diagnosed with heart disease have asymptomatic (`ASY`) chest pain. While chest pain could be a relevant feature for our model, it's should be noted that asymptomatic implies that those patients who had heart disease did not have chest pain as a symptom.\n",
    "- A high number (`170`) of patients with blood sugar greater than 120 mg/dl were diagnosed with heart disease in relation to those who were not."
   ]
  },
  {
   "cell_type": "markdown",
   "id": "53659420-1695-4888-a865-3bc98fa26028",
   "metadata": {},
   "source": [
    "There are a lot of similar patterns that we can observe when we start grouping our data. These patterns can help us narrow down the features we want for training our model."
   ]
  },
  {
   "cell_type": "markdown",
   "id": "53d44dff-76f1-47e9-a347-40dad7873989",
   "metadata": {},
   "source": [
    "Before we move on to that, let's clean up the data. We identified that there are no missing values. However, as we noticed earlier, a couple of columns have `0` values that don't make sense."
   ]
  },
  {
   "cell_type": "markdown",
   "id": "d6f61666-171c-476b-9103-af9e83d1e6cf",
   "metadata": {},
   "source": [
    "There are a few ways we can handle these values:"
   ]
  },
  {
   "cell_type": "markdown",
   "id": "7459c60f-688e-4a2d-9151-5a42ce7b7487",
   "metadata": {},
   "source": [
    "- We could remove those rows entirely if their frequency of occurrence is low.\n",
    "- We could impute those zeros with the median value of that column or the median value of the column grouped by HeartDisease.\n",
    "- We could try some complex approaches. For example, instead of using the median of the entire column, maybe we could look at the median of the values grouped by the age, sex, and/or resting ECG of the patient. The resting blood pressure of a female in her 30s with a normal ECG might be lower than what we would get from the median of the entire column."
   ]
  },
  {
   "cell_type": "markdown",
   "id": "f9f67ecd-6458-496c-9005-5d2741d6b4c1",
   "metadata": {},
   "source": [
    "The third option might give us a slightly more accurate result, but given the small size of our dataset, we can ignore it for now. We'll identify how many of these values exist in our dataset and approach accordingly."
   ]
  },
  {
   "cell_type": "markdown",
   "id": "c3cde411-54ab-4357-bf02-07d2723a448b",
   "metadata": {},
   "source": [
    "We identified that there are no missing values. However, as we noticed earlier, a couple of columns have 0 values which don't make sense.\n",
    "\n",
    "We will look at how many zero values `RestingBP` and `Cholesterol` contain and decide how to handle those."
   ]
  },
  {
   "cell_type": "code",
   "execution_count": 17,
   "id": "e93b0a9a-c444-41ea-a513-ec6743343676",
   "metadata": {},
   "outputs": [
    {
     "data": {
      "text/html": [
       "<div>\n",
       "<style scoped>\n",
       "    .dataframe tbody tr th:only-of-type {\n",
       "        vertical-align: middle;\n",
       "    }\n",
       "\n",
       "    .dataframe tbody tr th {\n",
       "        vertical-align: top;\n",
       "    }\n",
       "\n",
       "    .dataframe thead th {\n",
       "        text-align: right;\n",
       "    }\n",
       "</style>\n",
       "<table border=\"1\" class=\"dataframe\">\n",
       "  <thead>\n",
       "    <tr style=\"text-align: right;\">\n",
       "      <th></th>\n",
       "      <th>Age</th>\n",
       "      <th>Sex</th>\n",
       "      <th>ChestPainType</th>\n",
       "      <th>RestingBP</th>\n",
       "      <th>Cholesterol</th>\n",
       "      <th>FastingBS</th>\n",
       "      <th>RestingECG</th>\n",
       "      <th>MaxHR</th>\n",
       "      <th>ExerciseAngina</th>\n",
       "      <th>Oldpeak</th>\n",
       "      <th>ST_Slope</th>\n",
       "      <th>HeartDisease</th>\n",
       "    </tr>\n",
       "  </thead>\n",
       "  <tbody>\n",
       "    <tr>\n",
       "      <th>449</th>\n",
       "      <td>55</td>\n",
       "      <td>M</td>\n",
       "      <td>NAP</td>\n",
       "      <td>0</td>\n",
       "      <td>0</td>\n",
       "      <td>0</td>\n",
       "      <td>Normal</td>\n",
       "      <td>155</td>\n",
       "      <td>N</td>\n",
       "      <td>1.5</td>\n",
       "      <td>Flat</td>\n",
       "      <td>1</td>\n",
       "    </tr>\n",
       "  </tbody>\n",
       "</table>\n",
       "</div>"
      ],
      "text/plain": [
       "     Age Sex ChestPainType  RestingBP  Cholesterol  FastingBS RestingECG  \\\n",
       "449   55   M           NAP          0            0          0     Normal   \n",
       "\n",
       "     MaxHR ExerciseAngina  Oldpeak ST_Slope  HeartDisease  \n",
       "449    155              N      1.5     Flat             1  "
      ]
     },
     "execution_count": 17,
     "metadata": {},
     "output_type": "execute_result"
    }
   ],
   "source": [
    "heart_df[heart_df['RestingBP'] == 0]"
   ]
  },
  {
   "cell_type": "code",
   "execution_count": 18,
   "id": "f3934a93-3169-4e89-ba4f-099d1d419fa6",
   "metadata": {},
   "outputs": [
    {
     "data": {
      "text/plain": [
       "172"
      ]
     },
     "execution_count": 18,
     "metadata": {},
     "output_type": "execute_result"
    }
   ],
   "source": [
    "heart_df[heart_df['Cholesterol'] == 0].shape[0]"
   ]
  },
  {
   "cell_type": "markdown",
   "id": "eb59af77-af3c-4827-a2eb-f2e1d7a83d53",
   "metadata": {},
   "source": [
    "`RestingBP` has only one zero value. We can remove that row from consideration. There are `172` zero values for `Cholesterol`. That's a relatively high number. We can't remove them all and replacing those values with the median might not be an ideal approach, but that's what we will go for now."
   ]
  },
  {
   "cell_type": "markdown",
   "id": "974ae98d-11c3-4e32-bec9-f99d1cfa9029",
   "metadata": {},
   "source": [
    "To be more accurate, we will replace the zero values in `Cholesterol` in relation to `HeartDisease`. So, the 0 values in `Cholesterol` for patients who were diagnosed with a heart disease will be replaced by the median of the non-zero values for patients who were diagnosed with a heart disase. And we'll do the same for those who were not diagnosed with a heart disease."
   ]
  },
  {
   "cell_type": "code",
   "execution_count": 19,
   "id": "ff0beb42-6519-40c2-8fad-7f8709cfc5de",
   "metadata": {},
   "outputs": [],
   "source": [
    "heart_df_clean = heart_df.copy()\n",
    "\n",
    "# only keep non-zero values for RestingBP\n",
    "heart_df_clean = heart_df_clean[heart_df_clean['RestingBP'] != 0]\n"
   ]
  },
  {
   "cell_type": "code",
   "execution_count": 35,
   "id": "77aacfd5-1436-4e95-b299-b0739e71fa1b",
   "metadata": {},
   "outputs": [],
   "source": [
    "heartdisease_mask = heart_df_clean[\"HeartDisease\"]==0\n",
    "\n",
    "cholesterol_without_heartdisease = heart_df_clean.loc[heartdisease_mask, \"Cholesterol\"]\n",
    "cholesterol_with_heartdisease = heart_df_clean.loc[~heartdisease_mask, \"Cholesterol\"]\n",
    "\n",
    "heart_df_clean.loc[heartdisease_mask, \"Cholesterol\"] = cholesterol_without_heartdisease.replace(to_replace = 0, value = cholesterol_without_heartdisease.median())\n",
    "heart_df_clean.loc[~heartdisease_mask, \"Cholesterol\"] = cholesterol_with_heartdisease.replace(to_replace = 0, value = cholesterol_with_heartdisease.median()) "
   ]
  },
  {
   "cell_type": "code",
   "execution_count": 36,
   "id": "1d50028d-05a0-43b5-9f93-7330bac54121",
   "metadata": {},
   "outputs": [
    {
     "data": {
      "text/html": [
       "<div>\n",
       "<style scoped>\n",
       "    .dataframe tbody tr th:only-of-type {\n",
       "        vertical-align: middle;\n",
       "    }\n",
       "\n",
       "    .dataframe tbody tr th {\n",
       "        vertical-align: top;\n",
       "    }\n",
       "\n",
       "    .dataframe thead th {\n",
       "        text-align: right;\n",
       "    }\n",
       "</style>\n",
       "<table border=\"1\" class=\"dataframe\">\n",
       "  <thead>\n",
       "    <tr style=\"text-align: right;\">\n",
       "      <th></th>\n",
       "      <th>Cholesterol</th>\n",
       "      <th>RestingBP</th>\n",
       "    </tr>\n",
       "  </thead>\n",
       "  <tbody>\n",
       "    <tr>\n",
       "      <th>count</th>\n",
       "      <td>917.000000</td>\n",
       "      <td>917.000000</td>\n",
       "    </tr>\n",
       "    <tr>\n",
       "      <th>mean</th>\n",
       "      <td>239.700109</td>\n",
       "      <td>132.540894</td>\n",
       "    </tr>\n",
       "    <tr>\n",
       "      <th>std</th>\n",
       "      <td>54.352727</td>\n",
       "      <td>17.999749</td>\n",
       "    </tr>\n",
       "    <tr>\n",
       "      <th>min</th>\n",
       "      <td>85.000000</td>\n",
       "      <td>80.000000</td>\n",
       "    </tr>\n",
       "    <tr>\n",
       "      <th>25%</th>\n",
       "      <td>214.000000</td>\n",
       "      <td>120.000000</td>\n",
       "    </tr>\n",
       "    <tr>\n",
       "      <th>50%</th>\n",
       "      <td>225.000000</td>\n",
       "      <td>130.000000</td>\n",
       "    </tr>\n",
       "    <tr>\n",
       "      <th>75%</th>\n",
       "      <td>267.000000</td>\n",
       "      <td>140.000000</td>\n",
       "    </tr>\n",
       "    <tr>\n",
       "      <th>max</th>\n",
       "      <td>603.000000</td>\n",
       "      <td>200.000000</td>\n",
       "    </tr>\n",
       "  </tbody>\n",
       "</table>\n",
       "</div>"
      ],
      "text/plain": [
       "       Cholesterol   RestingBP\n",
       "count   917.000000  917.000000\n",
       "mean    239.700109  132.540894\n",
       "std      54.352727   17.999749\n",
       "min      85.000000   80.000000\n",
       "25%     214.000000  120.000000\n",
       "50%     225.000000  130.000000\n",
       "75%     267.000000  140.000000\n",
       "max     603.000000  200.000000"
      ]
     },
     "execution_count": 36,
     "metadata": {},
     "output_type": "execute_result"
    }
   ],
   "source": [
    "heart_df_clean[['Cholesterol', 'RestingBP']].describe()"
   ]
  },
  {
   "cell_type": "code",
   "execution_count": null,
   "id": "484b3f15-69cf-4da0-8d7e-661dfa112da5",
   "metadata": {},
   "outputs": [],
   "source": []
  }
 ],
 "metadata": {
  "kernelspec": {
   "display_name": "Python 3 (ipykernel)",
   "language": "python",
   "name": "python3"
  },
  "language_info": {
   "codemirror_mode": {
    "name": "ipython",
    "version": 3
   },
   "file_extension": ".py",
   "mimetype": "text/x-python",
   "name": "python",
   "nbconvert_exporter": "python",
   "pygments_lexer": "ipython3",
   "version": "3.12.4"
  }
 },
 "nbformat": 4,
 "nbformat_minor": 5
}
