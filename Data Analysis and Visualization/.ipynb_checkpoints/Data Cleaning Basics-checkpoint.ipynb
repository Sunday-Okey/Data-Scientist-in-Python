{
 "cells": [
  {
   "cell_type": "markdown",
   "id": "8055c5ac",
   "metadata": {},
   "source": [
    "## Reading CSV Files with Encodings"
   ]
  },
  {
   "cell_type": "markdown",
   "id": "af623dfb",
   "metadata": {},
   "source": [
    "We've learned how to select, assign, and analyze data with pandas using pre-cleaned data. In reality, data is rarely in the format needed to perform analysis. Data scientists commonly spend [over half their time cleaning data](https://www.forbes.com/sites/gilpress/2016/03/23/data-preparation-most-time-consuming-least-enjoyable-data-science-task-survey-says/), so knowing how to clean \"messy\" data is an extremely important skill."
   ]
  },
  {
   "cell_type": "markdown",
   "id": "be19e46a",
   "metadata": {},
   "source": [
    "We'll learn the basics of data cleaning with pandas as we work with laptops.csv, a CSV file containing information about 1,300 laptop computers. The first five rows of the CSV file are shown below:"
   ]
  },
  {
   "cell_type": "markdown",
   "id": "500e0241",
   "metadata": {},
   "source": [
    "We can start by reading the data into pandas. Let's look at what happens when we use the pandas.read_csv() function with only the filename as an argument:"
   ]
  },
  {
   "cell_type": "code",
   "execution_count": 108,
   "id": "f69bf796",
   "metadata": {},
   "outputs": [],
   "source": [
    "import pandas as pd"
   ]
  },
  {
   "cell_type": "markdown",
   "id": "28d1be69",
   "metadata": {},
   "source": [
    "laptops = pd.read_csv('../Datasets/laptops.csv')"
   ]
  },
  {
   "cell_type": "markdown",
   "id": "21284196",
   "metadata": {},
   "source": [
    "We get an error! Reading the traceback, we can see it references UTF-8, which is a type of encoding. "
   ]
  },
  {
   "cell_type": "markdown",
   "id": "96b065e2",
   "metadata": {},
   "source": [
    "Computers, at their lowest levels, can only understand binary (0 and 1) and encodings are systems for representing characters in binary."
   ]
  },
  {
   "cell_type": "markdown",
   "id": "7e15c536",
   "metadata": {},
   "source": [
    "This error is telling us that the encoding it used (utf-8) failed to convert the data into binary."
   ]
  },
  {
   "cell_type": "markdown",
   "id": "dd872564",
   "metadata": {},
   "source": [
    "Thankfully, the pandas.read_csv() function has an encoding argument we can use to specify an encoding:"
   ]
  },
  {
   "cell_type": "code",
   "execution_count": 110,
   "id": "d632e2cb",
   "metadata": {},
   "outputs": [],
   "source": [
    "# df = pd.read_csv(\"filename.csv\", encoding=\"encoding_type\")"
   ]
  },
  {
   "cell_type": "markdown",
   "id": "c1a85849",
   "metadata": {},
   "source": [
    "The top four most popular encodings, which we can use to set the encoding parameter of pandas.read_csv() above, are:"
   ]
  },
  {
   "cell_type": "markdown",
   "id": "8fa92955",
   "metadata": {},
   "source": [
    "- utf-8 - Universal Coded Character Set Transformation Format—8-bit, a dominant character encoding for the web.\n",
    "- latin1 - Also known as 'ISO-8859-1', a part of the ISO/IEC 8859 series.\n",
    "- Windows-1252 - A character encoding of the Windows family, also known as 'cp1252' or sometimes ANSI.\n",
    "- utf-16 - Similar to 'utf-8' but uses 16 bits to represent each character instead of 8."
   ]
  },
  {
   "cell_type": "markdown",
   "id": "123cccad",
   "metadata": {},
   "source": [
    "Since the pandas.read_csv() function already tried to read in the laptops.csv file using the default encoding type (utf-8) and failed, we know the file's not encoded using that format!"
   ]
  },
  {
   "cell_type": "markdown",
   "id": "16239a9a",
   "metadata": {},
   "source": [
    "Let's try another popular encoding type to see if that works."
   ]
  },
  {
   "cell_type": "code",
   "execution_count": 111,
   "id": "38b2dc65",
   "metadata": {},
   "outputs": [],
   "source": [
    "laptops = pd.read_csv('../Datasets/laptops.csv', encoding='latin1')"
   ]
  },
  {
   "cell_type": "code",
   "execution_count": 112,
   "id": "85e44060",
   "metadata": {},
   "outputs": [
    {
     "data": {
      "text/html": [
       "<div>\n",
       "<style scoped>\n",
       "    .dataframe tbody tr th:only-of-type {\n",
       "        vertical-align: middle;\n",
       "    }\n",
       "\n",
       "    .dataframe tbody tr th {\n",
       "        vertical-align: top;\n",
       "    }\n",
       "\n",
       "    .dataframe thead th {\n",
       "        text-align: right;\n",
       "    }\n",
       "</style>\n",
       "<table border=\"1\" class=\"dataframe\">\n",
       "  <thead>\n",
       "    <tr style=\"text-align: right;\">\n",
       "      <th></th>\n",
       "      <th>Manufacturer</th>\n",
       "      <th>Model Name</th>\n",
       "      <th>Category</th>\n",
       "      <th>Screen Size</th>\n",
       "      <th>Screen</th>\n",
       "      <th>CPU</th>\n",
       "      <th>RAM</th>\n",
       "      <th>Storage</th>\n",
       "      <th>GPU</th>\n",
       "      <th>Operating System</th>\n",
       "      <th>Operating System Version</th>\n",
       "      <th>Weight</th>\n",
       "      <th>Price (Euros)</th>\n",
       "    </tr>\n",
       "  </thead>\n",
       "  <tbody>\n",
       "    <tr>\n",
       "      <th>0</th>\n",
       "      <td>Apple</td>\n",
       "      <td>MacBook Pro</td>\n",
       "      <td>Ultrabook</td>\n",
       "      <td>13.3\"</td>\n",
       "      <td>IPS Panel Retina Display 2560x1600</td>\n",
       "      <td>Intel Core i5 2.3GHz</td>\n",
       "      <td>8GB</td>\n",
       "      <td>128GB SSD</td>\n",
       "      <td>Intel Iris Plus Graphics 640</td>\n",
       "      <td>macOS</td>\n",
       "      <td>NaN</td>\n",
       "      <td>1.37kg</td>\n",
       "      <td>1339,69</td>\n",
       "    </tr>\n",
       "    <tr>\n",
       "      <th>1</th>\n",
       "      <td>Apple</td>\n",
       "      <td>Macbook Air</td>\n",
       "      <td>Ultrabook</td>\n",
       "      <td>13.3\"</td>\n",
       "      <td>1440x900</td>\n",
       "      <td>Intel Core i5 1.8GHz</td>\n",
       "      <td>8GB</td>\n",
       "      <td>128GB Flash Storage</td>\n",
       "      <td>Intel HD Graphics 6000</td>\n",
       "      <td>macOS</td>\n",
       "      <td>NaN</td>\n",
       "      <td>1.34kg</td>\n",
       "      <td>898,94</td>\n",
       "    </tr>\n",
       "  </tbody>\n",
       "</table>\n",
       "</div>"
      ],
      "text/plain": [
       "  Manufacturer   Model Name   Category Screen Size  \\\n",
       "0        Apple  MacBook Pro  Ultrabook       13.3\"   \n",
       "1        Apple  Macbook Air  Ultrabook       13.3\"   \n",
       "\n",
       "                               Screen                   CPU  RAM  \\\n",
       "0  IPS Panel Retina Display 2560x1600  Intel Core i5 2.3GHz  8GB   \n",
       "1                            1440x900  Intel Core i5 1.8GHz  8GB   \n",
       "\n",
       "               Storage                           GPU Operating System  \\\n",
       "0            128GB SSD  Intel Iris Plus Graphics 640            macOS   \n",
       "1  128GB Flash Storage        Intel HD Graphics 6000            macOS   \n",
       "\n",
       "  Operating System Version  Weight Price (Euros)  \n",
       "0                      NaN  1.37kg       1339,69  \n",
       "1                      NaN  1.34kg        898,94  "
      ]
     },
     "execution_count": 112,
     "metadata": {},
     "output_type": "execute_result"
    }
   ],
   "source": [
    "laptops.head(2)"
   ]
  },
  {
   "cell_type": "code",
   "execution_count": 113,
   "id": "2d013ec7",
   "metadata": {
    "scrolled": true
   },
   "outputs": [
    {
     "name": "stdout",
     "output_type": "stream",
     "text": [
      "<class 'pandas.core.frame.DataFrame'>\n",
      "RangeIndex: 1303 entries, 0 to 1302\n",
      "Data columns (total 13 columns):\n",
      " #   Column                    Non-Null Count  Dtype \n",
      "---  ------                    --------------  ----- \n",
      " 0   Manufacturer              1303 non-null   object\n",
      " 1   Model Name                1303 non-null   object\n",
      " 2   Category                  1303 non-null   object\n",
      " 3   Screen Size               1303 non-null   object\n",
      " 4   Screen                    1303 non-null   object\n",
      " 5   CPU                       1303 non-null   object\n",
      " 6   RAM                       1303 non-null   object\n",
      " 7    Storage                  1303 non-null   object\n",
      " 8   GPU                       1303 non-null   object\n",
      " 9   Operating System          1303 non-null   object\n",
      " 10  Operating System Version  1133 non-null   object\n",
      " 11  Weight                    1303 non-null   object\n",
      " 12  Price (Euros)             1303 non-null   object\n",
      "dtypes: object(13)\n",
      "memory usage: 132.5+ KB\n"
     ]
    }
   ],
   "source": [
    "laptops.info()"
   ]
  },
  {
   "cell_type": "markdown",
   "id": "ae2df01d",
   "metadata": {},
   "source": [
    "## Cleaning Column Names"
   ]
  },
  {
   "cell_type": "markdown",
   "id": "587a98cc",
   "metadata": {},
   "source": [
    "We can see that all columns are represented by the object dtype, indicating that they store string values, not numerical values. Also, one of the columns, Operating System Version, contains some null values."
   ]
  },
  {
   "cell_type": "markdown",
   "id": "17418e5c",
   "metadata": {},
   "source": [
    "The column labels also have a mix of upper and lowercase letters, as well as spaces and parentheses, which will make them harder to work with and read. One noticeable issue is that the \" Storage\" column name has a leading space in front of it. These quirks with column labels can sometimes be hard to spot, so removing extra whitespaces from all column names will avoid headaches in the long run."
   ]
  },
  {
   "cell_type": "markdown",
   "id": "996353b6",
   "metadata": {},
   "source": [
    "We can access the column axis labels of a dataframe using the [DataFrame.columns attribute](https://pandas.pydata.org/pandas-docs/stable/basics.html#attributes-and-the-raw-ndarray-s). This returns an index object—a special type of NumPy ndarray—with the label (name) of each column:"
   ]
  },
  {
   "cell_type": "code",
   "execution_count": 114,
   "id": "d709fd61",
   "metadata": {},
   "outputs": [
    {
     "data": {
      "text/plain": [
       "Index(['Manufacturer', 'Model Name', 'Category', 'Screen Size', 'Screen',\n",
       "       'CPU', 'RAM', ' Storage', 'GPU', 'Operating System',\n",
       "       'Operating System Version', 'Weight', 'Price (Euros)'],\n",
       "      dtype='object')"
      ]
     },
     "execution_count": 114,
     "metadata": {},
     "output_type": "execute_result"
    }
   ],
   "source": [
    "laptops.columns"
   ]
  },
  {
   "cell_type": "markdown",
   "id": "1cac1738",
   "metadata": {},
   "source": [
    "Not only can we use the attribute to view the column labels, we can also assign new ones with it:"
   ]
  },
  {
   "cell_type": "code",
   "execution_count": 115,
   "id": "415f4763",
   "metadata": {},
   "outputs": [
    {
     "name": "stdout",
     "output_type": "stream",
     "text": [
      "Index(['A', 'B', 'C', 'D', 'E', 'F', 'G', 'H', 'I', 'J', 'K', 'L', 'M'], dtype='object')\n"
     ]
    }
   ],
   "source": [
    "laptops_test = laptops.copy()\n",
    "laptops_test.columns = ['A', 'B', 'C', 'D', 'E',\n",
    "                        'F', 'G', 'H', 'I', 'J',\n",
    "                        'K', 'L', 'M']\n",
    "print(laptops_test.columns)"
   ]
  },
  {
   "cell_type": "markdown",
   "id": "41c13ee6",
   "metadata": {},
   "source": [
    "Next, let's use the DataFrame.columns attribute to remove whitespaces from the column names."
   ]
  },
  {
   "cell_type": "code",
   "execution_count": 116,
   "id": "3fc9847b",
   "metadata": {},
   "outputs": [],
   "source": [
    "laptops.columns = [col.strip() for col in laptops.columns]"
   ]
  },
  {
   "cell_type": "code",
   "execution_count": 117,
   "id": "46c096c1",
   "metadata": {},
   "outputs": [
    {
     "name": "stdout",
     "output_type": "stream",
     "text": [
      "<class 'pandas.core.frame.DataFrame'>\n",
      "RangeIndex: 1303 entries, 0 to 1302\n",
      "Data columns (total 13 columns):\n",
      " #   Column                    Non-Null Count  Dtype \n",
      "---  ------                    --------------  ----- \n",
      " 0   Manufacturer              1303 non-null   object\n",
      " 1   Model Name                1303 non-null   object\n",
      " 2   Category                  1303 non-null   object\n",
      " 3   Screen Size               1303 non-null   object\n",
      " 4   Screen                    1303 non-null   object\n",
      " 5   CPU                       1303 non-null   object\n",
      " 6   RAM                       1303 non-null   object\n",
      " 7   Storage                   1303 non-null   object\n",
      " 8   GPU                       1303 non-null   object\n",
      " 9   Operating System          1303 non-null   object\n",
      " 10  Operating System Version  1133 non-null   object\n",
      " 11  Weight                    1303 non-null   object\n",
      " 12  Price (Euros)             1303 non-null   object\n",
      "dtypes: object(13)\n",
      "memory usage: 132.5+ KB\n"
     ]
    }
   ],
   "source": [
    "laptops.info()"
   ]
  },
  {
   "cell_type": "markdown",
   "id": "187417be",
   "metadata": {},
   "source": [
    "This is good start, but we still need to standardize the column labels a bit more. Let's finish cleaning them up by:"
   ]
  },
  {
   "cell_type": "markdown",
   "id": "73525327",
   "metadata": {},
   "source": [
    "- Replacing spaces between words with underscores.\n",
    "- Removing any special characters, like parentheses.\n",
    "- Making all labels lowercase.\n",
    "- Shortening any long column names."
   ]
  },
  {
   "cell_type": "markdown",
   "id": "cb3c76eb",
   "metadata": {},
   "source": [
    "Since we need to perform these steps on each of our column labels, it makes sense for us to create a helper function that uses [Python string methods](https://docs.python.org/3/library/stdtypes.html#string-methods) to clean our column labels as described above. Then we can use a for loop to apply that function to each column label. Let's look at an example:"
   ]
  },
  {
   "cell_type": "code",
   "execution_count": 118,
   "id": "525557a2",
   "metadata": {},
   "outputs": [],
   "source": [
    "def clean_col(col):\n",
    "    col = col.replace('(', '').replace(')', '').lower().strip()\n",
    "    col = col.replace('operating system', 'os').replace(' ', '_')\n",
    "    return col\n",
    "\n",
    "new_columns = [clean_col(c) for c in laptops.columns]"
   ]
  },
  {
   "cell_type": "code",
   "execution_count": 119,
   "id": "5b52d80a",
   "metadata": {},
   "outputs": [
    {
     "data": {
      "text/plain": [
       "['manufacturer',\n",
       " 'model_name',\n",
       " 'category',\n",
       " 'screen_size',\n",
       " 'screen',\n",
       " 'cpu',\n",
       " 'ram',\n",
       " 'storage',\n",
       " 'gpu',\n",
       " 'os',\n",
       " 'os_version',\n",
       " 'weight',\n",
       " 'price_euros']"
      ]
     },
     "execution_count": 119,
     "metadata": {},
     "output_type": "execute_result"
    }
   ],
   "source": [
    "new_columns"
   ]
  },
  {
   "cell_type": "code",
   "execution_count": 120,
   "id": "3ee487e6",
   "metadata": {},
   "outputs": [],
   "source": [
    "laptops.columns = new_columns"
   ]
  },
  {
   "cell_type": "code",
   "execution_count": 121,
   "id": "242e8696",
   "metadata": {},
   "outputs": [
    {
     "data": {
      "text/html": [
       "<div>\n",
       "<style scoped>\n",
       "    .dataframe tbody tr th:only-of-type {\n",
       "        vertical-align: middle;\n",
       "    }\n",
       "\n",
       "    .dataframe tbody tr th {\n",
       "        vertical-align: top;\n",
       "    }\n",
       "\n",
       "    .dataframe thead th {\n",
       "        text-align: right;\n",
       "    }\n",
       "</style>\n",
       "<table border=\"1\" class=\"dataframe\">\n",
       "  <thead>\n",
       "    <tr style=\"text-align: right;\">\n",
       "      <th></th>\n",
       "      <th>manufacturer</th>\n",
       "      <th>model_name</th>\n",
       "      <th>category</th>\n",
       "      <th>screen_size</th>\n",
       "      <th>screen</th>\n",
       "      <th>cpu</th>\n",
       "      <th>ram</th>\n",
       "      <th>storage</th>\n",
       "      <th>gpu</th>\n",
       "      <th>os</th>\n",
       "      <th>os_version</th>\n",
       "      <th>weight</th>\n",
       "      <th>price_euros</th>\n",
       "    </tr>\n",
       "  </thead>\n",
       "  <tbody>\n",
       "    <tr>\n",
       "      <th>0</th>\n",
       "      <td>Apple</td>\n",
       "      <td>MacBook Pro</td>\n",
       "      <td>Ultrabook</td>\n",
       "      <td>13.3\"</td>\n",
       "      <td>IPS Panel Retina Display 2560x1600</td>\n",
       "      <td>Intel Core i5 2.3GHz</td>\n",
       "      <td>8GB</td>\n",
       "      <td>128GB SSD</td>\n",
       "      <td>Intel Iris Plus Graphics 640</td>\n",
       "      <td>macOS</td>\n",
       "      <td>NaN</td>\n",
       "      <td>1.37kg</td>\n",
       "      <td>1339,69</td>\n",
       "    </tr>\n",
       "    <tr>\n",
       "      <th>1</th>\n",
       "      <td>Apple</td>\n",
       "      <td>Macbook Air</td>\n",
       "      <td>Ultrabook</td>\n",
       "      <td>13.3\"</td>\n",
       "      <td>1440x900</td>\n",
       "      <td>Intel Core i5 1.8GHz</td>\n",
       "      <td>8GB</td>\n",
       "      <td>128GB Flash Storage</td>\n",
       "      <td>Intel HD Graphics 6000</td>\n",
       "      <td>macOS</td>\n",
       "      <td>NaN</td>\n",
       "      <td>1.34kg</td>\n",
       "      <td>898,94</td>\n",
       "    </tr>\n",
       "  </tbody>\n",
       "</table>\n",
       "</div>"
      ],
      "text/plain": [
       "  manufacturer   model_name   category screen_size  \\\n",
       "0        Apple  MacBook Pro  Ultrabook       13.3\"   \n",
       "1        Apple  Macbook Air  Ultrabook       13.3\"   \n",
       "\n",
       "                               screen                   cpu  ram  \\\n",
       "0  IPS Panel Retina Display 2560x1600  Intel Core i5 2.3GHz  8GB   \n",
       "1                            1440x900  Intel Core i5 1.8GHz  8GB   \n",
       "\n",
       "               storage                           gpu     os os_version  \\\n",
       "0            128GB SSD  Intel Iris Plus Graphics 640  macOS        NaN   \n",
       "1  128GB Flash Storage        Intel HD Graphics 6000  macOS        NaN   \n",
       "\n",
       "   weight price_euros  \n",
       "0  1.37kg     1339,69  \n",
       "1  1.34kg      898,94  "
      ]
     },
     "execution_count": 121,
     "metadata": {},
     "output_type": "execute_result"
    }
   ],
   "source": [
    "laptops.head(2)"
   ]
  },
  {
   "cell_type": "markdown",
   "id": "f7bdaea9",
   "metadata": {},
   "source": [
    "## Converting String Columns to Numeric"
   ]
  },
  {
   "cell_type": "markdown",
   "id": "68229d7b",
   "metadata": {},
   "source": [
    "We observed earlier that all 13 columns have the object dtype, indicating they're storing strings. Let's look at the first few rows of some of our columns:"
   ]
  },
  {
   "cell_type": "code",
   "execution_count": 122,
   "id": "2f19487a",
   "metadata": {},
   "outputs": [
    {
     "name": "stdout",
     "output_type": "stream",
     "text": [
      "    category screen_size                              screen\n",
      "0  Ultrabook       13.3\"  IPS Panel Retina Display 2560x1600\n",
      "1  Ultrabook       13.3\"                            1440x900\n",
      "2   Notebook       15.6\"                   Full HD 1920x1080\n",
      "3  Ultrabook       15.4\"  IPS Panel Retina Display 2880x1800\n",
      "4  Ultrabook       13.3\"  IPS Panel Retina Display 2560x1600\n"
     ]
    }
   ],
   "source": [
    "print(laptops.iloc[:5, 2:5])"
   ]
  },
  {
   "cell_type": "markdown",
   "id": "c4d029d2",
   "metadata": {},
   "source": [
    "Of these three columns, we have three different types of text data:\n",
    "\n",
    "- category: Purely text data; it has no numeric values.\n",
    "- screen_size: Numeric data stored as text data because of the \" character that represents \"inches.\"\n",
    "- screen: A combination of text data (screen type) and numeric data (screen size)."
   ]
  },
  {
   "cell_type": "markdown",
   "id": "0446e39f",
   "metadata": {},
   "source": [
    "Because the values in the screen_size column are stored as text data, we can't easily sort them numerically. For instance, if we wanted to select laptops with screens 15\" or larger, we'd be unable to do so without using some clever tricks."
   ]
  },
  {
   "cell_type": "markdown",
   "id": "d020b1f9",
   "metadata": {},
   "source": [
    "Let's address this problem by converting the screen_size column to purely numeric values. Whenever we convert text to numeric data, we can follow this data cleaning workflow:"
   ]
  },
  {
   "attachments": {
    "image.png": {
     "image/png": "[encoded data removed]"
    }
   },
   "cell_type": "markdown",
   "id": "3c6f4aac",
   "metadata": {},
   "source": [
    "![image.png](attachment:image.png)"
   ]
  },
  {
   "cell_type": "markdown",
   "id": "08407f55",
   "metadata": {},
   "source": [
    "The first step is to explore the data. One of the best ways to start exploring the data is to use the Series.unique() method to view all of the unique values in the column:"
   ]
  },
  {
   "cell_type": "code",
   "execution_count": 123,
   "id": "d49332cb",
   "metadata": {},
   "outputs": [
    {
     "data": {
      "text/plain": [
       "array(['13.3\"', '15.6\"', '15.4\"', '14.0\"', '12.0\"', '11.6\"', '17.3\"',\n",
       "       '10.1\"', '13.5\"', '12.5\"', '13.0\"', '18.4\"', '13.9\"', '12.3\"',\n",
       "       '17.0\"', '15.0\"', '14.1\"', '11.3\"'], dtype=object)"
      ]
     },
     "execution_count": 123,
     "metadata": {},
     "output_type": "execute_result"
    }
   ],
   "source": [
    "laptops['screen_size'].unique()"
   ]
  },
  {
   "cell_type": "markdown",
   "id": "96615f3f",
   "metadata": {},
   "source": [
    "Our next step is to identify patterns and special cases that block us from converting the column to numeric. Looking at the results above, we can observe the following:"
   ]
  },
  {
   "cell_type": "markdown",
   "id": "20f9c59c",
   "metadata": {},
   "source": [
    "- All values in this column follow a pattern: two digits, followed by a decimal (.), followed by a single digit, followed by a double quotation mark (\"). We'll eventually need to remove that \" so we can convert the column to numeric.\n",
    "- There are no special cases; every unique value in the column matches this pattern.\n",
    "- Because the int dtype won't be able to store these decimal values, we'll eventually need to convert the column to a float dtype."
   ]
  },
  {
   "cell_type": "markdown",
   "id": "83bd010d",
   "metadata": {},
   "source": [
    "Let's see if we can identify any patterns and special cases in the ram column next."
   ]
  },
  {
   "cell_type": "code",
   "execution_count": 125,
   "id": "408336a5",
   "metadata": {},
   "outputs": [
    {
     "data": {
      "text/plain": [
       "array(['8GB', '16GB', '4GB', '2GB', '12GB', '6GB', '32GB', '24GB', '64GB'],\n",
       "      dtype=object)"
      ]
     },
     "execution_count": 125,
     "metadata": {},
     "output_type": "execute_result"
    }
   ],
   "source": [
    "laptops['ram'].unique()"
   ]
  },
  {
   "cell_type": "markdown",
   "id": "ebe7430b",
   "metadata": {},
   "source": [
    "A note about Series.unique(): The Series.unique() method returns a numpy array, not a list or pandas series. This means that we can't use the Series methods we've learned so far, like Series.head(). If you want to convert the result to a list, you can use the tolist() method of the numpy array:"
   ]
  },
  {
   "cell_type": "code",
   "execution_count": 126,
   "id": "bf350a4e",
   "metadata": {},
   "outputs": [],
   "source": [
    "unique_ram = laptops[\"ram\"].unique().tolist()"
   ]
  },
  {
   "cell_type": "code",
   "execution_count": 127,
   "id": "d041ba58",
   "metadata": {},
   "outputs": [
    {
     "data": {
      "text/plain": [
       "['8GB', '16GB', '4GB', '2GB', '12GB', '6GB', '32GB', '24GB', '64GB']"
      ]
     },
     "execution_count": 127,
     "metadata": {},
     "output_type": "execute_result"
    }
   ],
   "source": [
    "unique_ram"
   ]
  },
  {
   "cell_type": "markdown",
   "id": "50c66ab6",
   "metadata": {},
   "source": [
    "## Removing Non-Digit Characters"
   ]
  },
  {
   "cell_type": "markdown",
   "id": "10528537",
   "metadata": {},
   "source": [
    "We identified a clear pattern in the ram column; all values were integers, followed by the characters GB (gigabyte) at the end of the string:"
   ]
  },
  {
   "cell_type": "markdown",
   "id": "01bf3778",
   "metadata": {},
   "source": [
    "To be able to convert both the ram and screen_size columns to numeric dtypes, we'll have to first remove the non-digit characters, GB and \", respectively."
   ]
  },
  {
   "attachments": {
    "image.png": {
     "image/png": "[encoded data removed]"
    }
   },
   "cell_type": "markdown",
   "id": "b2ec0901",
   "metadata": {},
   "source": [
    "![image.png](attachment:image.png)"
   ]
  },
  {
   "cell_type": "markdown",
   "id": "2f872240",
   "metadata": {},
   "source": [
    "Thankfully, the pandas library contains dozens of [vectorized string methods](https://pandas.pydata.org/pandas-docs/stable/user_guide/text.html#method-summary) we can use to manipulate text data. Many of them perform the same operations as the Python string methods we've used already. Most pandas vectorized string methods are available using the [Series.str accessor](http://pandas.pydata.org/pandas-docs/stable/api.html#string-handling). This means we can access them by adding str between the series object name and the method name:"
   ]
  },
  {
   "attachments": {
    "image.png": {
     "image/png": "[encoded data removed]"
    }
   },
   "cell_type": "markdown",
   "id": "85b7e5d3",
   "metadata": {},
   "source": [
    "![image.png](attachment:image.png)"
   ]
  },
  {
   "cell_type": "markdown",
   "id": "e164f41f",
   "metadata": {},
   "source": [
    "In our case, we can use the Series.str.replace() method, which is a vectorized version of the Python str.replace() method we used earlier when cleaning up column labels. Here's how we use it to clean up the screen_size column:"
   ]
  },
  {
   "cell_type": "code",
   "execution_count": 128,
   "id": "d87ebb20",
   "metadata": {},
   "outputs": [
    {
     "name": "stdout",
     "output_type": "stream",
     "text": [
      "['13.3' '15.6' '15.4' '14.0' '12.0' '11.6' '17.3' '10.1' '13.5' '12.5'\n",
      " '13.0' '18.4' '13.9' '12.3' '17.0' '15.0' '14.1' '11.3']\n",
      "`screen_size` dtype: object\n"
     ]
    }
   ],
   "source": [
    "laptops[\"screen_size\"] = laptops[\"screen_size\"].str.replace('\"', '')\n",
    "print(laptops[\"screen_size\"].unique())\n",
    "print(\"`screen_size` dtype:\", laptops[\"screen_size\"].dtype)"
   ]
  },
  {
   "cell_type": "markdown",
   "id": "f01b4cb0",
   "metadata": {},
   "source": [
    "Although screen_size still has an object dtype, the unique string values it contains are clearly ready to be converted to numeric values. "
   ]
  },
  {
   "cell_type": "markdown",
   "id": "a1e336db",
   "metadata": {},
   "source": [
    "We'll handle that step on the following screen."
   ]
  },
  {
   "cell_type": "markdown",
   "id": "e92ca8b7",
   "metadata": {},
   "source": [
    "But first, let's remove the non-digit characters from the ram column like we've done for the screen_size column in the provided code."
   ]
  },
  {
   "cell_type": "code",
   "execution_count": 129,
   "id": "b1c5de4b",
   "metadata": {},
   "outputs": [
    {
     "data": {
      "text/plain": [
       "array(['8', '16', '4', '2', '12', '6', '32', '24', '64'], dtype=object)"
      ]
     },
     "execution_count": 129,
     "metadata": {},
     "output_type": "execute_result"
    }
   ],
   "source": [
    "laptops['ram'] = laptops['ram'].str.replace('GB', '')\n",
    "laptops['ram'].unique()"
   ]
  },
  {
   "cell_type": "markdown",
   "id": "c99e645f",
   "metadata": {},
   "source": [
    "## Converting Columns to Numeric dtypes"
   ]
  },
  {
   "cell_type": "markdown",
   "id": "4eee4de3",
   "metadata": {},
   "source": [
    "Now, we can convert the columns to a numeric dtype. This is also referred to as type casting or changing the data type."
   ]
  },
  {
   "attachments": {
    "image.png": {
     "image/png": "[encoded data removed]"
    }
   },
   "cell_type": "markdown",
   "id": "6d70f066",
   "metadata": {},
   "source": [
    "![image.png](attachment:image.png)"
   ]
  },
  {
   "cell_type": "markdown",
   "id": "b5193172",
   "metadata": {},
   "source": [
    "To do this, we use the Series.astype() method. To convert the column to a numeric dtype, we can pass either int or float as the argument for the method. Since the int dtype can't handle decimal values, we'll convert the screen_size column to the float dtype:"
   ]
  },
  {
   "cell_type": "code",
   "execution_count": 130,
   "id": "fbe92425",
   "metadata": {},
   "outputs": [
    {
     "name": "stdout",
     "output_type": "stream",
     "text": [
      "[13.3 15.6 15.4 14.  12.  11.6 17.3 10.1 13.5 12.5 13.  18.4 13.9 12.3\n",
      " 17.  15.  14.1 11.3]\n",
      "`screen_size` dtype: float64\n"
     ]
    }
   ],
   "source": [
    "laptops[\"screen_size\"] = laptops[\"screen_size\"].astype(float)\n",
    "print(laptops[\"screen_size\"].unique())\n",
    "print(\"`screen_size` dtype:\", laptops[\"screen_size\"].dtype)"
   ]
  },
  {
   "cell_type": "markdown",
   "id": "8a0ed036",
   "metadata": {},
   "source": [
    "Our screen_size column is now the float64 dtype. Let's convert the dtype of the ram column to numeric next."
   ]
  },
  {
   "cell_type": "code",
   "execution_count": 131,
   "id": "22e8e36b",
   "metadata": {},
   "outputs": [
    {
     "data": {
      "text/plain": [
       "array([ 8., 16.,  4.,  2., 12.,  6., 32., 24., 64.])"
      ]
     },
     "execution_count": 131,
     "metadata": {},
     "output_type": "execute_result"
    }
   ],
   "source": [
    "laptops['ram'] = laptops['ram'].astype(float)\n",
    "laptops['ram'].unique()"
   ]
  },
  {
   "cell_type": "code",
   "execution_count": 132,
   "id": "9216e74f",
   "metadata": {
    "scrolled": true
   },
   "outputs": [
    {
     "data": {
      "text/plain": [
       "manufacturer     object\n",
       "model_name       object\n",
       "category         object\n",
       "screen_size     float64\n",
       "screen           object\n",
       "cpu              object\n",
       "ram             float64\n",
       "storage          object\n",
       "gpu              object\n",
       "os               object\n",
       "os_version       object\n",
       "weight           object\n",
       "price_euros      object\n",
       "dtype: object"
      ]
     },
     "execution_count": 132,
     "metadata": {},
     "output_type": "execute_result"
    }
   ],
   "source": [
    "laptops.dtypes"
   ]
  },
  {
   "cell_type": "markdown",
   "id": "ed3da128",
   "metadata": {},
   "source": [
    "Now that we've converted our columns to numeric dtypes, the final step is to rename the columns. This is an optional step, and can be useful if the non-digit values contain information that helps us understand the data."
   ]
  },
  {
   "attachments": {
    "image.png": {
     "image/png": "[encoded data removed]"
    }
   },
   "cell_type": "markdown",
   "id": "dd7e1b07",
   "metadata": {},
   "source": [
    "![image.png](attachment:image.png)"
   ]
  },
  {
   "cell_type": "markdown",
   "id": "224c23fb",
   "metadata": {},
   "source": [
    "In our case, the quote characters we removed from the screen_size column denoted that the screen size was in inches."
   ]
  },
  {
   "cell_type": "markdown",
   "id": "b2396cc2",
   "metadata": {},
   "source": [
    "To stop us from losing information that helps us understand the data, we can use the [DataFrame.rename() method](http://pandas.pydata.org/pandas-docs/stable/generated/pandas.DataFrame.rename.html) to rename the column from screen_size to screen_size_inches."
   ]
  },
  {
   "cell_type": "markdown",
   "id": "353b7aae",
   "metadata": {},
   "source": [
    "Below, we specify the axis=1 parameter so pandas knows that we want to rename labels in the column axis as opposed to the index axis (axis=0):"
   ]
  },
  {
   "cell_type": "code",
   "execution_count": 133,
   "id": "82ac8efd",
   "metadata": {},
   "outputs": [
    {
     "name": "stdout",
     "output_type": "stream",
     "text": [
      "manufacturer           object\n",
      "model_name             object\n",
      "category               object\n",
      "screen_size_inches    float64\n",
      "screen                 object\n",
      "cpu                    object\n",
      "ram                   float64\n",
      "storage                object\n",
      "gpu                    object\n",
      "os                     object\n",
      "os_version             object\n",
      "weight                 object\n",
      "price_euros            object\n",
      "dtype: object\n"
     ]
    }
   ],
   "source": [
    "laptops.rename({\"screen_size\": \"screen_size_inches\"}, axis=1, inplace=True)\n",
    "print(laptops.dtypes)"
   ]
  },
  {
   "cell_type": "markdown",
   "id": "a8c9babd",
   "metadata": {},
   "source": [
    "Note that we can either use inplace=True or assign the result back to the dataframe; both will give us the same results.\n",
    "\n",
    "Let's rename the ram column next and analyze the results."
   ]
  },
  {
   "cell_type": "code",
   "execution_count": 134,
   "id": "c29cace3",
   "metadata": {
    "scrolled": true
   },
   "outputs": [
    {
     "data": {
      "text/plain": [
       "count    1303.000000\n",
       "mean        8.382195\n",
       "std         5.084665\n",
       "min         2.000000\n",
       "25%         4.000000\n",
       "50%         8.000000\n",
       "75%         8.000000\n",
       "max        64.000000\n",
       "Name: ram_gb, dtype: float64"
      ]
     },
     "execution_count": 134,
     "metadata": {},
     "output_type": "execute_result"
    }
   ],
   "source": [
    "laptops.rename({'ram': 'ram_gb'}, axis=1, inplace=True)\n",
    "\n",
    "laptops.ram_gb.describe()"
   ]
  },
  {
   "cell_type": "markdown",
   "id": "62dc1519",
   "metadata": {},
   "source": [
    "## Extracting Values from Strings"
   ]
  },
  {
   "cell_type": "markdown",
   "id": "98c4861d",
   "metadata": {},
   "source": [
    "Columns often contain useful information that's buried within some text so it's useful to be able to extract these values (substrings) from strings. For example, let's look at the first five values from the gpu (graphics processing unit) column to see if there's any useful information we can extract from it:"
   ]
  },
  {
   "cell_type": "code",
   "execution_count": 135,
   "id": "e73c6ff3",
   "metadata": {},
   "outputs": [
    {
     "name": "stdout",
     "output_type": "stream",
     "text": [
      "0    Intel Iris Plus Graphics 640\n",
      "1          Intel HD Graphics 6000\n",
      "2           Intel HD Graphics 620\n",
      "3              AMD Radeon Pro 455\n",
      "4    Intel Iris Plus Graphics 650\n",
      "Name: gpu, dtype: object\n"
     ]
    }
   ],
   "source": [
    "print(laptops[\"gpu\"].head())"
   ]
  },
  {
   "cell_type": "markdown",
   "id": "3c11ed1f",
   "metadata": {},
   "source": [
    "The information in this column tells us the chip manufacturer (e.g., Intel, AMD) followed by its model name/number. Being able to analyze the data by the manufacturer could be useful to us so let's extract it, with the idea that we'll store it in a new column, gpu_manufacturer."
   ]
  },
  {
   "cell_type": "markdown",
   "id": "121e4669",
   "metadata": {},
   "source": [
    "The pandas library has a great vectorized string method for this situation: [Series.str.split() method](http://pandas.pydata.org/pandas-docs/stable/generated/pandas.Series.str.split.html). We can use it to split the column on any character (or pattern), and store the results in a pandas series that contains a list of each element after splitting. By default, the method splits on a whitespace character (space) so that text is broken into individual words, like in this example:"
   ]
  },
  {
   "cell_type": "code",
   "execution_count": 136,
   "id": "143564d7",
   "metadata": {
    "scrolled": true
   },
   "outputs": [
    {
     "name": "stdout",
     "output_type": "stream",
     "text": [
      "0    [Intel, Iris, Plus, Graphics, 640]\n",
      "1           [Intel, HD, Graphics, 6000]\n",
      "2            [Intel, HD, Graphics, 620]\n",
      "3               [AMD, Radeon, Pro, 455]\n",
      "4    [Intel, Iris, Plus, Graphics, 650]\n",
      "Name: gpu, dtype: object\n"
     ]
    }
   ],
   "source": [
    "gpu_head_split = laptops[\"gpu\"].head().str.split()\n",
    "print(gpu_head_split)"
   ]
  },
  {
   "cell_type": "markdown",
   "id": "b2d05ce1",
   "metadata": {},
   "source": [
    "Notice how the method returns a series object containing a list of the words from the original gpu column. Now all we need to do is select the first element in each list to create our new gpu_manufacturer column."
   ]
  },
  {
   "cell_type": "markdown",
   "id": "580da6bd",
   "metadata": {},
   "source": [
    "The pandas library comes to the rescue with another vectorized string method we can leverage here! The [Series.str accessor](https://pandas.pydata.org/pandas-docs/stable/user_guide/text.html#indexing-with-str) can be used with [] notation to directly index by position locations:"
   ]
  },
  {
   "cell_type": "code",
   "execution_count": 137,
   "id": "8b0f3414",
   "metadata": {
    "scrolled": true
   },
   "outputs": [
    {
     "name": "stdout",
     "output_type": "stream",
     "text": [
      "0    Intel\n",
      "1    Intel\n",
      "2    Intel\n",
      "3      AMD\n",
      "4    Intel\n",
      "Name: gpu, dtype: object\n"
     ]
    }
   ],
   "source": [
    "print(gpu_head_split.str[0])"
   ]
  },
  {
   "cell_type": "markdown",
   "id": "63713b9b",
   "metadata": {},
   "source": [
    "Since we've been working on laptops[\"gpu\"].head(), we're only seeing the first five rows of laptops[\"gpu\"]. We could easily apply this technique to the entire dataframe by dropping the call to head(). Then, we could assign our results from str[0] to a new column, gpu_manufacturer."
   ]
  },
  {
   "cell_type": "markdown",
   "id": "1a6f2b63",
   "metadata": {},
   "source": [
    "Let's do that now in the exercise below."
   ]
  },
  {
   "cell_type": "code",
   "execution_count": 140,
   "id": "cfa7750f",
   "metadata": {},
   "outputs": [
    {
     "data": {
      "text/plain": [
       "cpu_manufacturer\n",
       "Intel      1240\n",
       "AMD          62\n",
       "Samsung       1\n",
       "Name: count, dtype: int64"
      ]
     },
     "execution_count": 140,
     "metadata": {},
     "output_type": "execute_result"
    }
   ],
   "source": [
    "laptops[\"gpu_manufacturer\"] = (laptops[\"gpu\"]\n",
    "                                       .str.split()\n",
    "                                       .str[0]\n",
    "                              )\n",
    "laptops[\"cpu_manufacturer\"] = (laptops[\"cpu\"]\n",
    "                                       .str.split()\n",
    "                                       .str[0]\n",
    "                              )\n",
    "\n",
    "laptops[\"cpu_manufacturer\"].value_counts()"
   ]
  },
  {
   "cell_type": "markdown",
   "id": "9aa1dde2",
   "metadata": {},
   "source": [
    "##  Correcting Bad Values"
   ]
  },
  {
   "cell_type": "markdown",
   "id": "9a0495c8",
   "metadata": {},
   "source": [
    "In the previous exercise, we saw that although Intel was the top cpu and gpu manufacturer, it truly domniates the cpu manufacturing market! It's always a good idea to question your data to make sure it makes sense, because sometimes it may have issues we need to address."
   ]
  },
  {
   "cell_type": "markdown",
   "id": "2942e204",
   "metadata": {},
   "source": [
    "If our data has been scraped from a webpage or if there was manual data entry involved at some point, we may end up with inconsistent values in our dataset. This can make it difficult to analyze our data holistically. Let's look at an example from our os column:"
   ]
  },
  {
   "cell_type": "code",
   "execution_count": 141,
   "id": "98c22c06",
   "metadata": {},
   "outputs": [
    {
     "name": "stdout",
     "output_type": "stream",
     "text": [
      "os\n",
      "Windows      1125\n",
      "No OS          66\n",
      "Linux          62\n",
      "Chrome OS      27\n",
      "macOS          13\n",
      "Mac OS          8\n",
      "Android         2\n",
      "Name: count, dtype: int64\n"
     ]
    }
   ],
   "source": [
    "print(laptops[\"os\"].value_counts())"
   ]
  },
  {
   "cell_type": "markdown",
   "id": "187be4d4",
   "metadata": {},
   "source": [
    "We can see that there are two representations of the Apple operating system in our dataset: Mac OS and macOS. One way we can fix this is with the [Series.map() method](http://pandas.pydata.org/pandas-docs/stable/generated/pandas.Series.map.html). While we could use the Series.str.replace() method to fix this particular issue, the Series.map() method is ideal when we want to change multiple values in a column at once, so let's take this opportunity to learn how this other method works."
   ]
  },
  {
   "cell_type": "markdown",
   "id": "a328562d",
   "metadata": {},
   "source": [
    "The most common way to use Series.map() is with a mapping dictionary. Let's look at an example using a series of misspelled fruit that's being stored in a series called s:"
   ]
  },
  {
   "attachments": {
    "image.png": {
     "image/png": "[encoded data removed]"
    }
   },
   "cell_type": "markdown",
   "id": "79544ebd",
   "metadata": {},
   "source": [
    "![image.png](attachment:image.png)"
   ]
  },
  {
   "cell_type": "markdown",
   "id": "4a12a0ee",
   "metadata": {},
   "source": [
    "To fix all the spelling mistakes at the same time, we create a dictionary called corrections and pass that dictionary as an argument to Series.map() to map the incorrect words (keys) onto the correct ones (values):"
   ]
  },
  {
   "cell_type": "markdown",
   "id": "93218ad3",
   "metadata": {},
   "source": [
    "corrections = {\n",
    "    \"pair\": \"pear\",\n",
    "    \"oranje\": \"orange\",\n",
    "    \"bananna\": \"banana\"\n",
    "}\n",
    "s_fixed = s.map(corrections)\n",
    "print(s_fixed)"
   ]
  },
  {
   "attachments": {
    "image.png": {
     "image/png": "[encoded data removed]"
    }
   },
   "cell_type": "markdown",
   "id": "0269dfb0",
   "metadata": {},
   "source": [
    "![image.png](attachment:image.png)"
   ]
  },
  {
   "cell_type": "markdown",
   "id": "73b02629",
   "metadata": {},
   "source": [
    "Notice that each string key was replaced by its corresponding string value. One important thing to remember with the Series.map() method is that if a value from the series doesn't exist as a key in the dictionary, it will convert that value to NaN. To see this \"mistake\" in action, let's see what happens when we call map() on s_fixed using the same corrections dictionary:"
   ]
  },
  {
   "cell_type": "code",
   "execution_count": null,
   "id": "12e9b085",
   "metadata": {},
   "outputs": [],
   "source": [
    "s_fixed_again = s_fixed.map(corrections)\n",
    "print(s_fixed_again)"
   ]
  },
  {
   "attachments": {
    "image.png": {
     "image/png": "[encoded data removed]"
    }
   },
   "cell_type": "markdown",
   "id": "a1c0137d",
   "metadata": {},
   "source": [
    "![image.png](attachment:image.png)"
   ]
  },
  {
   "cell_type": "markdown",
   "id": "3092a902",
   "metadata": {},
   "source": [
    "Because none of the values in the s_fixed series matched any of the keys in our corrections dictionary, all the values in s_fixed have became NaN values! This is a very common occurence, especially when working in a Jupyter notebook environment where we can easily re-run cells accidentally."
   ]
  },
  {
   "cell_type": "markdown",
   "id": "2115dda2",
   "metadata": {},
   "source": [
    "When using the map() method, make sure that each unique value in the series is represented as a key in the dictionary being passed to the map() method, otherwise you'll get NaN values in your resulting series. If there are values in the series you don't want to change, ensure you set their keys and values equal to each other so that \"no changes are mapped\" but each unique value appears as a key in the dictionary."
   ]
  },
  {
   "cell_type": "markdown",
   "id": "571cd095",
   "metadata": {},
   "source": [
    "Let's use Series.map() to clean the values in the os column."
   ]
  },
  {
   "cell_type": "code",
   "execution_count": 143,
   "id": "3f570d1f",
   "metadata": {},
   "outputs": [
    {
     "data": {
      "text/plain": [
       "array(['macOS', 'No OS', 'Windows', 'Mac OS', 'Linux', 'Android',\n",
       "       'Chrome OS'], dtype=object)"
      ]
     },
     "execution_count": 143,
     "metadata": {},
     "output_type": "execute_result"
    }
   ],
   "source": [
    "laptops['os'].unique()"
   ]
  },
  {
   "cell_type": "code",
   "execution_count": 144,
   "id": "695bec90",
   "metadata": {},
   "outputs": [],
   "source": [
    "list_of_os = laptops['os'].unique()"
   ]
  },
  {
   "cell_type": "code",
   "execution_count": 145,
   "id": "5f7d1fc9",
   "metadata": {},
   "outputs": [
    {
     "data": {
      "text/plain": [
       "{'macOS': 'macOS',\n",
       " 'No OS': 'No OS',\n",
       " 'Windows': 'Windows',\n",
       " 'Mac OS': 'macOS',\n",
       " 'Linux': 'Linux',\n",
       " 'Android': 'Android',\n",
       " 'Chrome OS': 'Chrome OS'}"
      ]
     },
     "execution_count": 145,
     "metadata": {},
     "output_type": "execute_result"
    }
   ],
   "source": [
    "corrections = {}\n",
    "\n",
    "for os in list_of_os:\n",
    "    if os == 'Mac OS':\n",
    "        corrections[os] = 'macOS'\n",
    "    else:\n",
    "        corrections[os] = os\n",
    "corrections"
   ]
  },
  {
   "cell_type": "code",
   "execution_count": 146,
   "id": "a6e15a36",
   "metadata": {},
   "outputs": [
    {
     "data": {
      "text/plain": [
       "os\n",
       "Windows      1125\n",
       "No OS          66\n",
       "Linux          62\n",
       "Chrome OS      27\n",
       "macOS          21\n",
       "Android         2\n",
       "Name: count, dtype: int64"
      ]
     },
     "execution_count": 146,
     "metadata": {},
     "output_type": "execute_result"
    }
   ],
   "source": [
    "laptops['os'].map(corrections)\n",
    "\n",
    "laptops['os'].map(corrections).value_counts()"
   ]
  },
  {
   "cell_type": "markdown",
   "id": "7c7a2f3b",
   "metadata": {},
   "source": [
    "##  Dropping Missing Values"
   ]
  },
  {
   "cell_type": "markdown",
   "id": "dbbb8742",
   "metadata": {},
   "source": [
    "In previous lessons, we talked briefly about missing values and how both NumPy and pandas represent these as null values. In pandas, null values will be indicated by either NaN or None."
   ]
  },
  {
   "cell_type": "markdown",
   "id": "9cadb85c",
   "metadata": {},
   "source": [
    "Recall that we can use the [DataFrame.isnull() method](http://pandas.pydata.org/pandas-docs/stable/generated/pandas.DataFrame.isnull.html) to identify missing values in each column. The method returns a boolean dataframe, which we can then use the DataFrame.sum() method on to give us a count of the True values for each column:"
   ]
  },
  {
   "cell_type": "code",
   "execution_count": 147,
   "id": "d9b972ca",
   "metadata": {},
   "outputs": [
    {
     "name": "stdout",
     "output_type": "stream",
     "text": [
      "manufacturer            0\n",
      "model_name              0\n",
      "category                0\n",
      "screen_size_inches      0\n",
      "screen                  0\n",
      "cpu                     0\n",
      "ram_gb                  0\n",
      "storage                 0\n",
      "gpu                     0\n",
      "os                      0\n",
      "os_version            170\n",
      "weight                  0\n",
      "price_euros             0\n",
      "gpu_manufacturer        0\n",
      "cpu_manufacturer        0\n",
      "dtype: int64\n"
     ]
    }
   ],
   "source": [
    "print(laptops.isnull().sum())"
   ]
  },
  {
   "cell_type": "markdown",
   "id": "bb89788a",
   "metadata": {},
   "source": [
    "It's clear that we have only one column with null values, os_version, which has 170 missing values."
   ]
  },
  {
   "cell_type": "markdown",
   "id": "8c4e237b",
   "metadata": {},
   "source": [
    "There are a few options for handling these missing values:\n",
    "\n",
    "- Remove all rows that contain missing values.\n",
    "- Remove all columns that contain missing values.\n",
    "- Fill each missing value with some other value.\n",
    "- Leave the missing values as they are."
   ]
  },
  {
   "cell_type": "markdown",
   "id": "e185b81c",
   "metadata": {},
   "source": [
    "The first two options are often used when preparing data for machine learning algorithms, which are unable to handle data with null values. We can use the [DataFrame.dropna() method](http://pandas.pydata.org/pandas-docs/stable/generated/pandas.DataFrame.dropna.html) if we wanted to remove or drop rows and/or columns with null values."
   ]
  },
  {
   "cell_type": "markdown",
   "id": "002a9869",
   "metadata": {},
   "source": [
    "The DataFrame.dropna() method accepts an axis parameter, which indicates whether we want to drop along the index axis (axis=0) or the column axis (axis=1). Let's look at an example:"
   ]
  },
  {
   "attachments": {
    "image.png": {
     "image/png": "[encoded data removed]"
    }
   },
   "cell_type": "markdown",
   "id": "bd8a2b22",
   "metadata": {},
   "source": [
    "![image.png](attachment:image.png)"
   ]
  },
  {
   "cell_type": "markdown",
   "id": "3e550c6a",
   "metadata": {},
   "source": [
    "The default value for the axis parameter is 0, so df.dropna() is equivalent to df.dropna(axis=0):"
   ]
  },
  {
   "attachments": {
    "image.png": {
     "image/png": "[encoded data removed]"
    }
   },
   "cell_type": "markdown",
   "id": "7d7aa86c",
   "metadata": {},
   "source": [
    "![image.png](attachment:image.png)"
   ]
  },
  {
   "cell_type": "markdown",
   "id": "ea3b3d5d",
   "metadata": {},
   "source": [
    "The rows with index labels x and z contain null values, so those rows were dropped. Let's look at what happens when we pass axis=1 to specify the column axis instead:"
   ]
  },
  {
   "attachments": {
    "image.png": {
     "image/png": "[encoded data removed]"
    }
   },
   "cell_type": "markdown",
   "id": "683e6590",
   "metadata": {},
   "source": [
    "![image.png](attachment:image.png)"
   ]
  },
  {
   "cell_type": "markdown",
   "id": "d9d6a41c",
   "metadata": {},
   "source": [
    "Only the column with label C contains null values, so, in this case, just that one column was removed.\n",
    "\n",
    "Let's practice using DataFrame.dropna() to remove rows and columns:"
   ]
  },
  {
   "cell_type": "code",
   "execution_count": 148,
   "id": "1c431984",
   "metadata": {},
   "outputs": [],
   "source": [
    "laptops_no_null_rows = laptops.dropna()\n",
    "laptops_no_null_cols = laptops.dropna(axis=1)"
   ]
  },
  {
   "cell_type": "markdown",
   "id": "a88243f5",
   "metadata": {},
   "source": [
    "## Filling Missing Values"
   ]
  },
  {
   "cell_type": "markdown",
   "id": "bb778b54",
   "metadata": {},
   "source": [
    "On the previous screen, we listed a few ways we can deal with missing values:\n",
    "\n",
    "- Remove all rows that contain missing values.\n",
    "- Remove all columns that contain missing values.\n",
    "- Fill each missing value with some other value.\n",
    "- Leave the missing values as they are."
   ]
  },
  {
   "cell_type": "markdown",
   "id": "dcf98ca7",
   "metadata": {},
   "source": [
    "While dropping rows or columns is the easiest approach to dealing with missing values, it may not always be the best approach. For example, removing a disproportionate amount of one manufacturer's laptops could impact our analysis."
   ]
  },
  {
   "cell_type": "markdown",
   "id": "e3386b48",
   "metadata": {},
   "source": [
    "With this in mind, it's a good idea to explore the missing values in the os_version column before we make a decision. As we've seen, the Series.value_counts() method is a great way to explore all of the unique values in a column. Let's use it again here, but this time we'll use a parameter we haven't seen before:"
   ]
  },
  {
   "cell_type": "code",
   "execution_count": 149,
   "id": "94dfba79",
   "metadata": {},
   "outputs": [
    {
     "name": "stdout",
     "output_type": "stream",
     "text": [
      "os_version\n",
      "10      1072\n",
      "NaN      170\n",
      "7         45\n",
      "X          8\n",
      "10 S       8\n",
      "Name: count, dtype: int64\n"
     ]
    }
   ],
   "source": [
    "print(laptops[\"os_version\"].value_counts(dropna=False))"
   ]
  },
  {
   "cell_type": "markdown",
   "id": "458a3cc9",
   "metadata": {},
   "source": [
    "Because we set the dropna parameter to False, the result includes null (NaN) values. Analyzing the restults, we can see that 10 is the most frequent value in the column, follwed by our NaN missing values."
   ]
  },
  {
   "cell_type": "markdown",
   "id": "6f84e479",
   "metadata": {},
   "source": [
    "Since it's so closely related to the os_version column, let's also explore the os column. We'll only look at rows where the os_version is missing:"
   ]
  },
  {
   "cell_type": "code",
   "execution_count": 150,
   "id": "f54bfb69",
   "metadata": {},
   "outputs": [
    {
     "name": "stdout",
     "output_type": "stream",
     "text": [
      "os\n",
      "No OS        66\n",
      "Linux        62\n",
      "Chrome OS    27\n",
      "macOS        13\n",
      "Android       2\n",
      "Name: count, dtype: int64\n"
     ]
    }
   ],
   "source": [
    "os_with_null_v = laptops.loc[laptops[\"os_version\"].isnull(), \"os\"]\n",
    "print(os_with_null_v.value_counts())"
   ]
  },
  {
   "cell_type": "markdown",
   "id": "63cd2921",
   "metadata": {},
   "source": [
    "From these results, we can conclude a couple of important things:\n",
    "\n",
    "- The most frequent value is No OS. This is important to note because if there is no operating system on the laptop, there shouldn't be a version defined in the os_version column.\n",
    "- Thirteen of the laptops that come with macOS do not specify the version. We can use our knowledge of MacOS to confirm that os_version should be equal to X for these rows."
   ]
  },
  {
   "cell_type": "markdown",
   "id": "6e56a7f1",
   "metadata": {},
   "source": [
    "In both of these cases, we can fill in the missing values to make our data more complete. For the rest of the values, it's probably best to leave them as NaN so we don't remove important values."
   ]
  },
  {
   "cell_type": "code",
   "execution_count": 151,
   "id": "a482d386",
   "metadata": {},
   "outputs": [],
   "source": [
    "laptops.loc[laptops[\"os\"] == \"macOS\", \"os_version\"] = \"X\""
   ]
  },
  {
   "cell_type": "markdown",
   "id": "d1348eaf",
   "metadata": {},
   "source": [
    "For rows with No OS values in the os column, let's replace the missing value in the os_version column with the value Not Applicable."
   ]
  },
  {
   "cell_type": "code",
   "execution_count": 152,
   "id": "e091d385",
   "metadata": {},
   "outputs": [
    {
     "data": {
      "text/plain": [
       "os_version\n",
       "10      1072\n",
       "7         45\n",
       "X         21\n",
       "10 S       8\n",
       "Name: count, dtype: int64"
      ]
     },
     "execution_count": 152,
     "metadata": {},
     "output_type": "execute_result"
    }
   ],
   "source": [
    "laptops['os_version'].value_counts()"
   ]
  },
  {
   "cell_type": "code",
   "execution_count": 153,
   "id": "bdc4c55b",
   "metadata": {},
   "outputs": [
    {
     "data": {
      "text/plain": [
       "os\n",
       "Windows      1125\n",
       "No OS          66\n",
       "Linux          62\n",
       "Chrome OS      27\n",
       "macOS          13\n",
       "Mac OS          8\n",
       "Android         2\n",
       "Name: count, dtype: int64"
      ]
     },
     "execution_count": 153,
     "metadata": {},
     "output_type": "execute_result"
    }
   ],
   "source": [
    "laptops['os'].value_counts()"
   ]
  },
  {
   "cell_type": "code",
   "execution_count": 154,
   "id": "b3e168bd",
   "metadata": {},
   "outputs": [
    {
     "data": {
      "text/plain": [
       "os_version\n",
       "10      1072\n",
       "NaN      157\n",
       "7         45\n",
       "X         21\n",
       "10 S       8\n",
       "Name: count, dtype: int64"
      ]
     },
     "execution_count": 154,
     "metadata": {},
     "output_type": "execute_result"
    }
   ],
   "source": [
    "laptops['os_version'].value_counts(dropna=False)"
   ]
  },
  {
   "cell_type": "code",
   "execution_count": 155,
   "id": "baad8d0b",
   "metadata": {},
   "outputs": [],
   "source": [
    "laptops.loc[laptops['os'] == 'No OS', 'os_version'] = 'Not Applicabe'"
   ]
  },
  {
   "cell_type": "code",
   "execution_count": 156,
   "id": "69cdb0c1",
   "metadata": {},
   "outputs": [
    {
     "data": {
      "text/plain": [
       "os_version\n",
       "10               1072\n",
       "NaN                91\n",
       "Not Applicabe      66\n",
       "7                  45\n",
       "X                  21\n",
       "10 S                8\n",
       "Name: count, dtype: int64"
      ]
     },
     "execution_count": 156,
     "metadata": {},
     "output_type": "execute_result"
    }
   ],
   "source": [
    "laptops['os_version'].value_counts(dropna=False)"
   ]
  },
  {
   "cell_type": "markdown",
   "id": "ddc9f3a3",
   "metadata": {},
   "source": [
    "## Challenge: Clean a String Column"
   ]
  },
  {
   "cell_type": "markdown",
   "id": "48f93448",
   "metadata": {},
   "source": [
    "Now it's time to practice what we've learned so far! In this challenge, we'll clean the weight column. Let's look at a sample of the data in that column:"
   ]
  },
  {
   "cell_type": "code",
   "execution_count": 157,
   "id": "f8683cc4",
   "metadata": {},
   "outputs": [
    {
     "name": "stdout",
     "output_type": "stream",
     "text": [
      "0    1.37kg\n",
      "1    1.34kg\n",
      "2    1.86kg\n",
      "3    1.83kg\n",
      "4    1.37kg\n",
      "Name: weight, dtype: object\n"
     ]
    }
   ],
   "source": [
    "print(laptops[\"weight\"].head())"
   ]
  },
  {
   "cell_type": "markdown",
   "id": "c26ed570",
   "metadata": {},
   "source": [
    "Your challenge is to convert the values in this column to numeric values. As a reminder, here's the data cleaning workflow you can use:"
   ]
  },
  {
   "attachments": {
    "image.png": {
     "image/png": "[encoded data removed]"
    }
   },
   "cell_type": "markdown",
   "id": "f046eb1f",
   "metadata": {},
   "source": [
    "![image.png](attachment:image.png)"
   ]
  },
  {
   "cell_type": "markdown",
   "id": "cd871e97",
   "metadata": {},
   "source": [
    "While it appears that the weight column may just need the kg characters removed from the end of each string, there is one special case ― one of the values ends with kgs, so you'll have to remove both kg and kgs characters."
   ]
  },
  {
   "cell_type": "markdown",
   "id": "38eb329c",
   "metadata": {},
   "source": [
    "In the last step of this challenge, we'll also ask you to use the [DataFrame.to_csv() method](http://pandas.pydata.org/pandas-docs/stable/generated/pandas.DataFrame.to_csv.html) to save the cleaned data to a CSV file. It's a good idea to save your dataframe as a CSV file when you finish cleaning in case you wish to perform your analysis later."
   ]
  },
  {
   "cell_type": "markdown",
   "id": "543b6810",
   "metadata": {},
   "source": [
    "We can use the following syntax to save a dataframe as a CSV file:"
   ]
  },
  {
   "cell_type": "markdown",
   "id": "6fd5afa6",
   "metadata": {},
   "source": [
    "df.to_csv('filename.csv', index=False)"
   ]
  },
  {
   "cell_type": "markdown",
   "id": "274a1497",
   "metadata": {},
   "source": [
    "By default, pandas will save the index labels as a column in the CSV file. Our dataset has integer labels that don't contain any data, so we don't need to save the index."
   ]
  },
  {
   "cell_type": "code",
   "execution_count": 159,
   "id": "1eed9b59",
   "metadata": {},
   "outputs": [],
   "source": [
    "laptops['weight_kg'] = laptops['weight'].str.replace('kg', '').str.replace('s', '').astype(float)\n",
    "\n",
    "laptops.to_csv('laptops_cleaned.csv', index=False)"
   ]
  },
  {
   "cell_type": "markdown",
   "id": "38d28427",
   "metadata": {},
   "source": [
    "Our dataset is almost ready for analysis, but there are still some data cleaning tasks left! Here are your next steps:\n",
    "\n",
    "- Convert the price_euros column to a numeric dtype.\n",
    "- Extract the screen resolution from the screen column.\n",
    "- Extract the processor speed from the cpu column.\n",
    "\n",
    "Here are some questions you might attempt answering by analyzing the cleaned data:\n",
    "\n",
    "- Are laptops made by Apple more expensive than those made by other manufacturers?\n",
    "- What is the best value laptop with a screen size of 15\" or more?\n",
    "- Which laptop has the most storage space?"
   ]
  },
  {
   "cell_type": "code",
   "execution_count": null,
   "id": "0e455bef",
   "metadata": {},
   "outputs": [],
   "source": []
  }
 ],
 "metadata": {
  "kernelspec": {
   "display_name": "Python 3 (ipykernel)",
   "language": "python",
   "name": "python3"
  },
  "language_info": {
   "codemirror_mode": {
    "name": "ipython",
    "version": 3
   },
   "file_extension": ".py",
   "mimetype": "text/x-python",
   "name": "python",
   "nbconvert_exporter": "python",
   "pygments_lexer": "ipython3",
   "version": "3.11.5"
  }
 },
 "nbformat": 4,
 "nbformat_minor": 5
}
