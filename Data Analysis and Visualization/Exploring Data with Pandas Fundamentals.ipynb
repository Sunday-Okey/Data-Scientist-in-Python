{
 "cells": [
  {
   "cell_type": "markdown",
   "id": "fa5f940a",
   "metadata": {},
   "source": [
    "# Exploring Data with Pandas: Fundamentals"
   ]
  },
  {
   "cell_type": "markdown",
   "id": "89799dda",
   "metadata": {},
   "source": [
    "In the last lesson, we learned the basics of the pandas library. We explored the primary data structure in pandas, the dataframe, and learned some of the ways pandas makes working with data easier than NumPy:"
   ]
  },
  {
   "cell_type": "markdown",
   "id": "5bc054c8",
   "metadata": {},
   "source": [
    "- Axis values in dataframes can have string labels, not just numeric ones, which makes selecting data much easier.\n",
    "- Dataframes can contain columns with multiple data types: including integer, float, and string."
   ]
  },
  {
   "cell_type": "markdown",
   "id": "05671e8b",
   "metadata": {},
   "source": [
    "In this lesson, we'll learn another way pandas makes working with data easier. It has many built-in methods and functions for common exploration and analysis tasks. As we learn these, we'll also explore how pandas uses many of the concepts we learned in the NumPy lessons, including vectorized operations and boolean indexing."
   ]
  },
  {
   "cell_type": "markdown",
   "id": "0f59a929",
   "metadata": {},
   "source": [
    "We'll continue working with a data set from [Fortune](http://fortune.com/) magazine's [Global 500 list](https://en.wikipedia.org/wiki/Fortune_Global_500) 2017, which ranks the top 500 corporations worldwide by revenue. The data set was originally compiled [here](https://data.world/chasewillden/fortune-500-companies-2017); however, we modified the original data set to make it more accessible."
   ]
  },
  {
   "cell_type": "markdown",
   "id": "4d5b8b57",
   "metadata": {},
   "source": [
    "Here is a data dictionary for some of the columns in the CSV:\n",
    "\n",
    "- company: Name of the company.\n",
    "- rank: Global 500 rank for the company.\n",
    "- revenues: Company's total revenue for the fiscal year, in millions of dollars (USD).\n",
    "- revenue_change: Percentage change in revenue between the current and prior fiscal year.\n",
    "- profits: Net income for the fiscal year, in millions of dollars (USD).\n",
    "- ceo: Company's Chief Executive Officer.\n",
    "- industry: Industry in which the company operates.\n",
    "- sector: Sector in which the company operates.\n",
    "- previous_rank: Global 500 rank for the company for the prior year.\n",
    "- country: Country in which the company is headquartered.\n",
    "- hq_location: City and Country, (or City and State for the USA) where the company is headquarted.\n",
    "- employees: Total employees (full-time equivalent, if available) at fiscal year-end."
   ]
  },
  {
   "cell_type": "code",
   "execution_count": 1,
   "id": "a8038065",
   "metadata": {},
   "outputs": [],
   "source": [
    "import pandas as pd"
   ]
  },
  {
   "cell_type": "code",
   "execution_count": 6,
   "id": "453d2530",
   "metadata": {},
   "outputs": [],
   "source": [
    "f500 = pd.read_csv('../Datasets/f500.csv', index_col=0)\n",
    "f500.index.name = 0"
   ]
  },
  {
   "cell_type": "code",
   "execution_count": 7,
   "id": "47b48123",
   "metadata": {},
   "outputs": [
    {
     "data": {
      "text/html": [
       "<div>\n",
       "<style scoped>\n",
       "    .dataframe tbody tr th:only-of-type {\n",
       "        vertical-align: middle;\n",
       "    }\n",
       "\n",
       "    .dataframe tbody tr th {\n",
       "        vertical-align: top;\n",
       "    }\n",
       "\n",
       "    .dataframe thead th {\n",
       "        text-align: right;\n",
       "    }\n",
       "</style>\n",
       "<table border=\"1\" class=\"dataframe\">\n",
       "  <thead>\n",
       "    <tr style=\"text-align: right;\">\n",
       "      <th></th>\n",
       "      <th>rank</th>\n",
       "      <th>revenues</th>\n",
       "      <th>revenue_change</th>\n",
       "      <th>profits</th>\n",
       "      <th>assets</th>\n",
       "      <th>profit_change</th>\n",
       "      <th>ceo</th>\n",
       "      <th>industry</th>\n",
       "      <th>sector</th>\n",
       "      <th>previous_rank</th>\n",
       "      <th>country</th>\n",
       "      <th>hq_location</th>\n",
       "      <th>website</th>\n",
       "      <th>years_on_global_500_list</th>\n",
       "      <th>employees</th>\n",
       "      <th>total_stockholder_equity</th>\n",
       "    </tr>\n",
       "    <tr>\n",
       "      <th>0</th>\n",
       "      <th></th>\n",
       "      <th></th>\n",
       "      <th></th>\n",
       "      <th></th>\n",
       "      <th></th>\n",
       "      <th></th>\n",
       "      <th></th>\n",
       "      <th></th>\n",
       "      <th></th>\n",
       "      <th></th>\n",
       "      <th></th>\n",
       "      <th></th>\n",
       "      <th></th>\n",
       "      <th></th>\n",
       "      <th></th>\n",
       "      <th></th>\n",
       "    </tr>\n",
       "  </thead>\n",
       "  <tbody>\n",
       "    <tr>\n",
       "      <th>Walmart</th>\n",
       "      <td>1</td>\n",
       "      <td>485873</td>\n",
       "      <td>0.8</td>\n",
       "      <td>13643.0</td>\n",
       "      <td>198825</td>\n",
       "      <td>-7.2</td>\n",
       "      <td>C. Douglas McMillon</td>\n",
       "      <td>General Merchandisers</td>\n",
       "      <td>Retailing</td>\n",
       "      <td>1</td>\n",
       "      <td>USA</td>\n",
       "      <td>Bentonville, AR</td>\n",
       "      <td>http://www.walmart.com</td>\n",
       "      <td>23</td>\n",
       "      <td>2300000</td>\n",
       "      <td>77798</td>\n",
       "    </tr>\n",
       "    <tr>\n",
       "      <th>State Grid</th>\n",
       "      <td>2</td>\n",
       "      <td>315199</td>\n",
       "      <td>-4.4</td>\n",
       "      <td>9571.3</td>\n",
       "      <td>489838</td>\n",
       "      <td>-6.2</td>\n",
       "      <td>Kou Wei</td>\n",
       "      <td>Utilities</td>\n",
       "      <td>Energy</td>\n",
       "      <td>2</td>\n",
       "      <td>China</td>\n",
       "      <td>Beijing, China</td>\n",
       "      <td>http://www.sgcc.com.cn</td>\n",
       "      <td>17</td>\n",
       "      <td>926067</td>\n",
       "      <td>209456</td>\n",
       "    </tr>\n",
       "    <tr>\n",
       "      <th>Sinopec Group</th>\n",
       "      <td>3</td>\n",
       "      <td>267518</td>\n",
       "      <td>-9.1</td>\n",
       "      <td>1257.9</td>\n",
       "      <td>310726</td>\n",
       "      <td>-65.0</td>\n",
       "      <td>Wang Yupu</td>\n",
       "      <td>Petroleum Refining</td>\n",
       "      <td>Energy</td>\n",
       "      <td>4</td>\n",
       "      <td>China</td>\n",
       "      <td>Beijing, China</td>\n",
       "      <td>http://www.sinopec.com</td>\n",
       "      <td>19</td>\n",
       "      <td>713288</td>\n",
       "      <td>106523</td>\n",
       "    </tr>\n",
       "    <tr>\n",
       "      <th>China National Petroleum</th>\n",
       "      <td>4</td>\n",
       "      <td>262573</td>\n",
       "      <td>-12.3</td>\n",
       "      <td>1867.5</td>\n",
       "      <td>585619</td>\n",
       "      <td>-73.7</td>\n",
       "      <td>Zhang Jianhua</td>\n",
       "      <td>Petroleum Refining</td>\n",
       "      <td>Energy</td>\n",
       "      <td>3</td>\n",
       "      <td>China</td>\n",
       "      <td>Beijing, China</td>\n",
       "      <td>http://www.cnpc.com.cn</td>\n",
       "      <td>17</td>\n",
       "      <td>1512048</td>\n",
       "      <td>301893</td>\n",
       "    </tr>\n",
       "    <tr>\n",
       "      <th>Toyota Motor</th>\n",
       "      <td>5</td>\n",
       "      <td>254694</td>\n",
       "      <td>7.7</td>\n",
       "      <td>16899.3</td>\n",
       "      <td>437575</td>\n",
       "      <td>-12.3</td>\n",
       "      <td>Akio Toyoda</td>\n",
       "      <td>Motor Vehicles and Parts</td>\n",
       "      <td>Motor Vehicles &amp; Parts</td>\n",
       "      <td>8</td>\n",
       "      <td>Japan</td>\n",
       "      <td>Toyota, Japan</td>\n",
       "      <td>http://www.toyota-global.com</td>\n",
       "      <td>23</td>\n",
       "      <td>364445</td>\n",
       "      <td>157210</td>\n",
       "    </tr>\n",
       "  </tbody>\n",
       "</table>\n",
       "</div>"
      ],
      "text/plain": [
       "                          rank  revenues  revenue_change  profits  assets  \\\n",
       "0                                                                           \n",
       "Walmart                      1    485873             0.8  13643.0  198825   \n",
       "State Grid                   2    315199            -4.4   9571.3  489838   \n",
       "Sinopec Group                3    267518            -9.1   1257.9  310726   \n",
       "China National Petroleum     4    262573           -12.3   1867.5  585619   \n",
       "Toyota Motor                 5    254694             7.7  16899.3  437575   \n",
       "\n",
       "                          profit_change                  ceo  \\\n",
       "0                                                              \n",
       "Walmart                            -7.2  C. Douglas McMillon   \n",
       "State Grid                         -6.2              Kou Wei   \n",
       "Sinopec Group                     -65.0            Wang Yupu   \n",
       "China National Petroleum          -73.7        Zhang Jianhua   \n",
       "Toyota Motor                      -12.3          Akio Toyoda   \n",
       "\n",
       "                                          industry                  sector  \\\n",
       "0                                                                            \n",
       "Walmart                      General Merchandisers               Retailing   \n",
       "State Grid                               Utilities                  Energy   \n",
       "Sinopec Group                   Petroleum Refining                  Energy   \n",
       "China National Petroleum        Petroleum Refining                  Energy   \n",
       "Toyota Motor              Motor Vehicles and Parts  Motor Vehicles & Parts   \n",
       "\n",
       "                          previous_rank country      hq_location  \\\n",
       "0                                                                  \n",
       "Walmart                               1     USA  Bentonville, AR   \n",
       "State Grid                            2   China   Beijing, China   \n",
       "Sinopec Group                         4   China   Beijing, China   \n",
       "China National Petroleum              3   China   Beijing, China   \n",
       "Toyota Motor                          8   Japan    Toyota, Japan   \n",
       "\n",
       "                                               website  \\\n",
       "0                                                        \n",
       "Walmart                         http://www.walmart.com   \n",
       "State Grid                      http://www.sgcc.com.cn   \n",
       "Sinopec Group                   http://www.sinopec.com   \n",
       "China National Petroleum        http://www.cnpc.com.cn   \n",
       "Toyota Motor              http://www.toyota-global.com   \n",
       "\n",
       "                          years_on_global_500_list  employees  \\\n",
       "0                                                               \n",
       "Walmart                                         23    2300000   \n",
       "State Grid                                      17     926067   \n",
       "Sinopec Group                                   19     713288   \n",
       "China National Petroleum                        17    1512048   \n",
       "Toyota Motor                                    23     364445   \n",
       "\n",
       "                          total_stockholder_equity  \n",
       "0                                                   \n",
       "Walmart                                      77798  \n",
       "State Grid                                  209456  \n",
       "Sinopec Group                               106523  \n",
       "China National Petroleum                    301893  \n",
       "Toyota Motor                                157210  "
      ]
     },
     "execution_count": 7,
     "metadata": {},
     "output_type": "execute_result"
    }
   ],
   "source": [
    "f500.head()"
   ]
  },
  {
   "cell_type": "code",
   "execution_count": 8,
   "id": "ad3ec2c3",
   "metadata": {},
   "outputs": [
    {
     "name": "stdout",
     "output_type": "stream",
     "text": [
      "<class 'pandas.core.frame.DataFrame'>\n",
      "Index: 500 entries, Walmart to AutoNation\n",
      "Data columns (total 16 columns):\n",
      " #   Column                    Non-Null Count  Dtype  \n",
      "---  ------                    --------------  -----  \n",
      " 0   rank                      500 non-null    int64  \n",
      " 1   revenues                  500 non-null    int64  \n",
      " 2   revenue_change            498 non-null    float64\n",
      " 3   profits                   499 non-null    float64\n",
      " 4   assets                    500 non-null    int64  \n",
      " 5   profit_change             436 non-null    float64\n",
      " 6   ceo                       500 non-null    object \n",
      " 7   industry                  500 non-null    object \n",
      " 8   sector                    500 non-null    object \n",
      " 9   previous_rank             500 non-null    int64  \n",
      " 10  country                   500 non-null    object \n",
      " 11  hq_location               500 non-null    object \n",
      " 12  website                   500 non-null    object \n",
      " 13  years_on_global_500_list  500 non-null    int64  \n",
      " 14  employees                 500 non-null    int64  \n",
      " 15  total_stockholder_equity  500 non-null    int64  \n",
      "dtypes: float64(3), int64(7), object(6)\n",
      "memory usage: 66.4+ KB\n"
     ]
    }
   ],
   "source": [
    "f500.info()"
   ]
  },
  {
   "cell_type": "markdown",
   "id": "1f53c7b1",
   "metadata": {},
   "source": [
    "## Vectorized Operations"
   ]
  },
  {
   "cell_type": "markdown",
   "id": "8a249a75",
   "metadata": {},
   "source": [
    "Because pandas is designed to operate like NumPy, a lot of concepts and methods from Numpy are supported. Recall that one of the ways NumPy makes working with data easier is with vectorized operations, or operations applied to multiple data points at once:"
   ]
  },
  {
   "attachments": {
    "image.png": {
     "image/png": "[encoded data removed]"
    }
   },
   "cell_type": "markdown",
   "id": "e2c9239d",
   "metadata": {},
   "source": [
    "![image.png](attachment:image.png)"
   ]
  },
  {
   "cell_type": "markdown",
   "id": "c1be479c",
   "metadata": {},
   "source": [
    "Vectorization not only improves our code's performance, but also enables us to write code more quickly."
   ]
  },
  {
   "cell_type": "markdown",
   "id": "42c094af",
   "metadata": {},
   "source": [
    "Because pandas is an extension of NumPy, it also supports vectorized operations. Let's look at an example of how this would work with a pandas series:"
   ]
  },
  {
   "attachments": {
    "image.png": {
     "image/png": "[encoded data removed]"
    }
   },
   "cell_type": "markdown",
   "id": "d28e8e70",
   "metadata": {},
   "source": [
    "![image.png](attachment:image.png)"
   ]
  },
  {
   "attachments": {
    "image.png": {
     "image/png": "[encoded data removed]"
    }
   },
   "cell_type": "markdown",
   "id": "299cb7e5",
   "metadata": {},
   "source": [
    "![image.png](attachment:image.png)"
   ]
  },
  {
   "cell_type": "markdown",
   "id": "c5772745",
   "metadata": {},
   "source": [
    "Just like with NumPy, we can use any of the standard [Python numeric operators](https://docs.python.org/3/library/stdtypes.html#numeric-types-int-float-complex) with series, including:\n",
    "\n",
    "- series_a + series_b - Addition\n",
    "- series_a - series_b - Subtraction\n",
    "- series_a * series_b - Multiplication (this is unrelated to - the multiplications used in linear algebra).\n",
    "series_a / series_b - Division"
   ]
  },
  {
   "cell_type": "markdown",
   "id": "427e0f90",
   "metadata": {},
   "source": [
    "Recall that our f500 dataframe includes each company's current and previous year's rank on the Fortune 500 list. Let's use vectorized operations to calculate the changes in rank for each company. To achieve this, we'll subtract the current rank column from the previous_rank column. This determines whether a particular company moved upwards or downwards. A positive result indicates improved ranking, while a negative result indicates a drop in ranking. A zero result means the company retained its position."
   ]
  },
  {
   "cell_type": "code",
   "execution_count": 11,
   "id": "3323fd3b",
   "metadata": {},
   "outputs": [
    {
     "data": {
      "text/plain": [
       "0\n",
       "Walmart                             0\n",
       "State Grid                          0\n",
       "Sinopec Group                       1\n",
       "China National Petroleum           -1\n",
       "Toyota Motor                        3\n",
       "                                 ... \n",
       "Teva Pharmaceutical Industries   -496\n",
       "New China Life Insurance          -70\n",
       "Wm. Morrison Supermarkets         -61\n",
       "TUI                               -32\n",
       "AutoNation                       -500\n",
       "Length: 500, dtype: int64"
      ]
     },
     "execution_count": 11,
     "metadata": {},
     "output_type": "execute_result"
    }
   ],
   "source": [
    "rank_change = f500['previous_rank'] - f500['rank']\n",
    "rank_change"
   ]
  },
  {
   "cell_type": "markdown",
   "id": "df1b838c",
   "metadata": {},
   "source": [
    "##  Series Data Exploration Methods"
   ]
  },
  {
   "cell_type": "markdown",
   "id": "83436a08",
   "metadata": {},
   "source": [
    "We can observe from the results that Sinopec Group and Toyota Motor each increased in rank from the previous year, while China National Petroleum dropped a spot. However, what if we wanted to find the biggest increase or decrease in rank?"
   ]
  },
  {
   "cell_type": "markdown",
   "id": "a5ea8a4b",
   "metadata": {},
   "source": [
    "Like NumPy, pandas supports many descriptive stats methods that can help us answer these questions. Here are a few of the most useful ones (with links to documentation):"
   ]
  },
  {
   "cell_type": "markdown",
   "id": "099849d3",
   "metadata": {},
   "source": [
    "- Series.max()\n",
    "- Series.min()\n",
    "- Series.mean()\n",
    "- Series.median()\n",
    "- Series.mode()\n",
    "- Series.sum()"
   ]
  },
  {
   "cell_type": "markdown",
   "id": "f020b27b",
   "metadata": {},
   "source": [
    "Let's use some of these methods to confirm the biggest increase and biggest decrease in rank!"
   ]
  },
  {
   "cell_type": "code",
   "execution_count": 12,
   "id": "6d79de3c",
   "metadata": {},
   "outputs": [
    {
     "data": {
      "text/plain": [
       "-500"
      ]
     },
     "execution_count": 12,
     "metadata": {},
     "output_type": "execute_result"
    }
   ],
   "source": [
    "rank_change.min()"
   ]
  },
  {
   "cell_type": "code",
   "execution_count": 13,
   "id": "562f1ae2",
   "metadata": {},
   "outputs": [
    {
     "data": {
      "text/plain": [
       "226"
      ]
     },
     "execution_count": 13,
     "metadata": {},
     "output_type": "execute_result"
    }
   ],
   "source": [
    "rank_change.max()"
   ]
  },
  {
   "cell_type": "markdown",
   "id": "6dddc10a",
   "metadata": {},
   "source": [
    "- Biggest increase in rank: 226\n",
    "- Biggest decrease in rank: -500"
   ]
  },
  {
   "cell_type": "markdown",
   "id": "ed90cbd0",
   "metadata": {},
   "source": [
    "However, according to the data dictionary, this list should only rank companies on a scale of 1 to 500. Even if the company ranked 1st in the previous year moved to 500th this year, the rank change calculated would be -499. This indicates that there is incorrect data in either the rank column or previous_rank column."
   ]
  },
  {
   "cell_type": "markdown",
   "id": "63bd20a3",
   "metadata": {},
   "source": [
    "Next, we'll learn another method that can help us more quickly investigate this issue - the Series.describe() method. This method tells us how many non-null values are contained in the series, along with the mean, minimum, maximum, and other statistics we'll learn about later in this path."
   ]
  },
  {
   "cell_type": "markdown",
   "id": "8053c9b8",
   "metadata": {},
   "source": [
    "Let's look at an example:"
   ]
  },
  {
   "cell_type": "code",
   "execution_count": 14,
   "id": "7956d7f8",
   "metadata": {},
   "outputs": [
    {
     "name": "stdout",
     "output_type": "stream",
     "text": [
      "count    5.000000e+02\n",
      "mean     2.436323e+05\n",
      "std      4.851937e+05\n",
      "min      3.717000e+03\n",
      "25%      3.658850e+04\n",
      "50%      7.326150e+04\n",
      "75%      1.805640e+05\n",
      "max      3.473238e+06\n",
      "Name: assets, dtype: float64\n"
     ]
    }
   ],
   "source": [
    "assets = f500[\"assets\"]\n",
    "print(assets.describe())"
   ]
  },
  {
   "cell_type": "markdown",
   "id": "f2b5ac07",
   "metadata": {},
   "source": [
    "You may notice that the values in the code segment above look a little bit different. Because the values for this column are too long to neatly display, pandas has displayed them in E-notation, a type of [scientific notation](https://en.wikipedia.org/wiki/Scientific_notation):"
   ]
  },
  {
   "attachments": {
    "image.png": {
     "image/png": "[encoded data removed]"
    }
   },
   "cell_type": "markdown",
   "id": "efa56b8d",
   "metadata": {},
   "source": [
    "![image.png](attachment:image.png)"
   ]
  },
  {
   "cell_type": "markdown",
   "id": "2e6138cd",
   "metadata": {},
   "source": [
    "If we use describe() on a column that contains non-numeric values, we get some different statistics. Let's look at an example:"
   ]
  },
  {
   "cell_type": "code",
   "execution_count": 15,
   "id": "2bf4f5a2",
   "metadata": {},
   "outputs": [
    {
     "data": {
      "text/plain": [
       "count     500\n",
       "unique     34\n",
       "top       USA\n",
       "freq      132\n",
       "Name: country, dtype: object"
      ]
     },
     "execution_count": 15,
     "metadata": {},
     "output_type": "execute_result"
    }
   ],
   "source": [
    "f500['country'].describe()"
   ]
  },
  {
   "cell_type": "markdown",
   "id": "ef66b403",
   "metadata": {},
   "source": [
    "The first statistic, count, is the same as for numeric columns, showing us the number of non-null values. The other three statistics are new:\n",
    "\n",
    "- unique: Number of unique values in the series. In this case, it tells us that there are 34 different countries represented in the Fortune 500.\n",
    "- top: Most common value in the series. The USA is the country that headquarters the most Fortune 500 companies.\n",
    "- freq: Frequency of the most common value. Exactly 132 companies from the Fortune 500 are headquartered in the USA.\n",
    "\n",
    "\n",
    "Let's use this method to gather more information about the rank and previous_rank series."
   ]
  },
  {
   "cell_type": "code",
   "execution_count": 16,
   "id": "d634510c",
   "metadata": {},
   "outputs": [
    {
     "data": {
      "text/plain": [
       "count    500.000000\n",
       "mean     250.500000\n",
       "std      144.481833\n",
       "min        1.000000\n",
       "25%      125.750000\n",
       "50%      250.500000\n",
       "75%      375.250000\n",
       "max      500.000000\n",
       "Name: rank, dtype: float64"
      ]
     },
     "execution_count": 16,
     "metadata": {},
     "output_type": "execute_result"
    }
   ],
   "source": [
    "f500['rank'].describe()"
   ]
  },
  {
   "cell_type": "code",
   "execution_count": 18,
   "id": "b284c66f",
   "metadata": {},
   "outputs": [
    {
     "data": {
      "text/plain": [
       "count    500.000000\n",
       "mean     222.134000\n",
       "std      146.941961\n",
       "min        0.000000\n",
       "25%       92.750000\n",
       "50%      219.500000\n",
       "75%      347.250000\n",
       "max      500.000000\n",
       "Name: previous_rank, dtype: float64"
      ]
     },
     "execution_count": 18,
     "metadata": {},
     "output_type": "execute_result"
    }
   ],
   "source": [
    "f500['previous_rank'].describe()"
   ]
  },
  {
   "cell_type": "markdown",
   "id": "1f69911d",
   "metadata": {},
   "source": [
    "## Method Chaining"
   ]
  },
  {
   "cell_type": "markdown",
   "id": "63e25825",
   "metadata": {},
   "source": [
    "When you reviewed the results you might have noticed something odd - the minimum value for the previous_rank column is 0:"
   ]
  },
  {
   "cell_type": "code",
   "execution_count": 19,
   "id": "24fec713",
   "metadata": {},
   "outputs": [
    {
     "name": "stdout",
     "output_type": "stream",
     "text": [
      "count    500.000000\n",
      "mean     222.134000\n",
      "std      146.941961\n",
      "min        0.000000\n",
      "25%       92.750000\n",
      "50%      219.500000\n",
      "75%      347.250000\n",
      "max      500.000000\n",
      "Name: previous_rank, dtype: float64\n"
     ]
    }
   ],
   "source": [
    "prev_rank = f500[\"previous_rank\"]\n",
    "print(prev_rank.describe())"
   ]
  },
  {
   "cell_type": "markdown",
   "id": "891b5123",
   "metadata": {},
   "source": [
    "However, this column should only have values between 1 and 500 (inclusive), so a value of 0 doesn't make sense. To investigate the possible cause of this issue, let's confirm the number of 0 values that appear in the previous_rank column."
   ]
  },
  {
   "cell_type": "markdown",
   "id": "3a37b68f",
   "metadata": {},
   "source": [
    "Recall that in the last lesson, we learned how to use the Series.value_counts() method to display the counts of the unique values in a column:"
   ]
  },
  {
   "cell_type": "code",
   "execution_count": 20,
   "id": "d7192bc3",
   "metadata": {},
   "outputs": [
    {
     "data": {
      "text/plain": [
       "country\n",
       "USA             132\n",
       "China           109\n",
       "Japan            51\n",
       "Germany          29\n",
       "France           29\n",
       "Britain          24\n",
       "South Korea      15\n",
       "Netherlands      14\n",
       "Switzerland      14\n",
       "Canada           11\n",
       "Spain             9\n",
       "Australia         7\n",
       "Brazil            7\n",
       "India             7\n",
       "Italy             7\n",
       "Taiwan            6\n",
       "Russia            4\n",
       "Ireland           4\n",
       "Singapore         3\n",
       "Sweden            3\n",
       "Mexico            2\n",
       "Malaysia          1\n",
       "Thailand          1\n",
       "Belgium           1\n",
       "Norway            1\n",
       "Luxembourg        1\n",
       "Indonesia         1\n",
       "Denmark           1\n",
       "Saudi Arabia      1\n",
       "Finland           1\n",
       "Venezuela         1\n",
       "Turkey            1\n",
       "U.A.E             1\n",
       "Israel            1\n",
       "Name: count, dtype: int64"
      ]
     },
     "execution_count": 20,
     "metadata": {},
     "output_type": "execute_result"
    }
   ],
   "source": [
    "countries = f500[\"country\"]\n",
    "countries_counts = countries.value_counts()\n",
    "countries_counts"
   ]
  },
  {
   "cell_type": "markdown",
   "id": "3377a25a",
   "metadata": {},
   "source": [
    "Rather than assigning the countries series to it's own variable, we can actually skip that step and use the method directly on the result of the column selection:"
   ]
  },
  {
   "cell_type": "code",
   "execution_count": 21,
   "id": "4e9c8336",
   "metadata": {},
   "outputs": [],
   "source": [
    "countries_counts = f500[\"country\"].value_counts()"
   ]
  },
  {
   "cell_type": "markdown",
   "id": "6e072225",
   "metadata": {},
   "source": [
    "This is called `method chaining` — a way to combine multiple methods together in a single line.\n",
    "\n",
    "In the last lesson, we also learned how to use Series.loc[] to select just one item from a series by label. For example, in order to select just the counts for China, we would use the following line of code:"
   ]
  },
  {
   "cell_type": "code",
   "execution_count": 22,
   "id": "3262061c",
   "metadata": {},
   "outputs": [
    {
     "name": "stdout",
     "output_type": "stream",
     "text": [
      "109\n"
     ]
    }
   ],
   "source": [
    "print(f500[\"country\"].value_counts().loc[\"China\"])"
   ]
  },
  {
   "cell_type": "markdown",
   "id": "36f0c8c7",
   "metadata": {},
   "source": [
    "From here, you'll see method chaining more often in our lessons. When writing code, always assess whether method chaining will make your code harder to read. If it does, it's always preferable to break the code into more than one line.\n",
    "\n",
    "Let's use the Series.value_counts() method and Series.loc next to confirm the number of 0 values in the previous_rank column."
   ]
  },
  {
   "cell_type": "code",
   "execution_count": 25,
   "id": "aac426b3",
   "metadata": {},
   "outputs": [
    {
     "data": {
      "text/plain": [
       "33"
      ]
     },
     "execution_count": 25,
     "metadata": {},
     "output_type": "execute_result"
    }
   ],
   "source": [
    "f500['previous_rank'].value_counts().loc[0]"
   ]
  },
  {
   "cell_type": "markdown",
   "id": "d6dea10e",
   "metadata": {},
   "source": [
    "## Dataframe Exploration Methods"
   ]
  },
  {
   "cell_type": "markdown",
   "id": "162a383f",
   "metadata": {},
   "source": [
    "Given that multiple companies have a 0 rank, we might (correctly) conclude that these companies didn't have a rank at all for the previous year. By definition, this means that the previous_rank for these companies is not a number! Therefore, it makes sense for us to replace these values with a NaN value instead of using a 0 to represent missing data. There are many advantages to doing this. A few of them are listed below:"
   ]
  },
  {
   "cell_type": "markdown",
   "id": "42ec1956",
   "metadata": {},
   "source": [
    "- Improved data analysis: By using NaN values to represent missing data, the rest of the data can still be analyzed and processed, allowing for a better understanding of the patterns and relationships in the data.\n",
    "\n",
    "- Improved readability: Datasets that use NaN values to represent missing data are more readable, as it clearly indicates the presence of missing values in the dataset.\n",
    "\n",
    "- Easy representation of missing data: By using NaN values, missing data in a dataset can be easily represented and identified, rather than using placeholder values such as 0 or -1 which can make interpreting results of calculations very difficult or misleading."
   ]
  },
  {
   "cell_type": "markdown",
   "id": "d96f738c",
   "metadata": {},
   "source": [
    "Before we correct these values, let's explore the rest of our dataframe to make sure there are no other data issues. Just like we used descriptive stats methods to explore individual series, we can also use descriptive stats methods to explore our f500 dataframe."
   ]
  },
  {
   "cell_type": "markdown",
   "id": "6163727e",
   "metadata": {},
   "source": [
    "Because series and dataframes are two distinct objects, they have their own unique methods. However, there are many times where both series and dataframe objects have a method of the same name that behaves in similar ways. Below are some examples:"
   ]
  },
  {
   "cell_type": "markdown",
   "id": "7d618d46",
   "metadata": {},
   "source": [
    "- Series.min() and DataFrame.min()\n",
    "- Series.mean() and DataFrame.mean()\n",
    "- Series.median() and DataFrame.median()\n",
    "- Series.mode() and DataFrame.mode()\n",
    "- Series.sum() and DataFrame.sum()"
   ]
  },
  {
   "cell_type": "markdown",
   "id": "eba9d04e",
   "metadata": {},
   "source": [
    "Unlike their series counterparts, dataframe methods require an axis parameter so we know which axis to calculate across. While you can use integers to refer to the first and second axis, pandas dataframe methods also accept the strings \"index\" and \"columns\" for the axis parameter:"
   ]
  },
  {
   "attachments": {
    "image.png": {
     "image/png": "[encoded data removed]"
    }
   },
   "cell_type": "markdown",
   "id": "59393243",
   "metadata": {},
   "source": [
    "![image.png](attachment:image.png)"
   ]
  },
  {
   "cell_type": "markdown",
   "id": "51e9e9cc",
   "metadata": {},
   "source": [
    "For instance, if we wanted to find the median (middle) value for the revenues and profits columns, we could use the following code:"
   ]
  },
  {
   "cell_type": "code",
   "execution_count": 26,
   "id": "b6b67b2a",
   "metadata": {},
   "outputs": [
    {
     "name": "stdout",
     "output_type": "stream",
     "text": [
      "revenues    40236.0\n",
      "profits      1761.6\n",
      "dtype: float64\n"
     ]
    }
   ],
   "source": [
    "medians = f500[[\"revenues\", \"profits\"]].median(axis=0)\n",
    "# we could also use .median(axis=\"index\")\n",
    "print(medians)"
   ]
  },
  {
   "cell_type": "markdown",
   "id": "08894fd6",
   "metadata": {},
   "source": [
    "In fact, the default value for the axis parameter with these methods is axis=0. We could have just used the median() method without a parameter to get the same result!"
   ]
  },
  {
   "cell_type": "code",
   "execution_count": 27,
   "id": "ee09dc3f",
   "metadata": {},
   "outputs": [
    {
     "data": {
      "text/plain": [
       "rank                            500.0\n",
       "revenues                     485873.0\n",
       "revenue_change                  442.3\n",
       "profits                       45687.0\n",
       "assets                      3473238.0\n",
       "profit_change                  8909.5\n",
       "previous_rank                   500.0\n",
       "years_on_global_500_list         23.0\n",
       "employees                   2300000.0\n",
       "total_stockholder_equity     301893.0\n",
       "dtype: float64"
      ]
     },
     "execution_count": 27,
     "metadata": {},
     "output_type": "execute_result"
    }
   ],
   "source": [
    "f500.max(numeric_only=True)"
   ]
  },
  {
   "cell_type": "markdown",
   "id": "8c6ffa02",
   "metadata": {},
   "source": [
    "## Dataframe Describe Method"
   ]
  },
  {
   "cell_type": "markdown",
   "id": "d126a584",
   "metadata": {},
   "source": [
    "Based on the column descriptions, the maximum for each of these columns seems reasonable."
   ]
  },
  {
   "cell_type": "markdown",
   "id": "f414f49d",
   "metadata": {},
   "source": [
    "Like series objects, dataframe objects also have a [DataFrame.describe() method](http://pandas.pydata.org/pandas-docs/stable/generated/pandas.DataFrame.describe.html) that we can use to explore the dataframe more quickly. We encourage you to take a look at the documentation using the link in the previous sentence to familiarize yourself with some of the differences between the two methods."
   ]
  },
  {
   "cell_type": "markdown",
   "id": "58b31b49",
   "metadata": {},
   "source": [
    "One difference is that we need to manually specify if you want to see the statistics for the non-numeric columns. By default, DataFrame.describe() will return statistics for only numeric columns. If we wanted to get just the object columns, we need to use the include=['O'] parameter:"
   ]
  },
  {
   "cell_type": "code",
   "execution_count": 28,
   "id": "190fa494",
   "metadata": {},
   "outputs": [
    {
     "data": {
      "text/html": [
       "<div>\n",
       "<style scoped>\n",
       "    .dataframe tbody tr th:only-of-type {\n",
       "        vertical-align: middle;\n",
       "    }\n",
       "\n",
       "    .dataframe tbody tr th {\n",
       "        vertical-align: top;\n",
       "    }\n",
       "\n",
       "    .dataframe thead th {\n",
       "        text-align: right;\n",
       "    }\n",
       "</style>\n",
       "<table border=\"1\" class=\"dataframe\">\n",
       "  <thead>\n",
       "    <tr style=\"text-align: right;\">\n",
       "      <th></th>\n",
       "      <th>ceo</th>\n",
       "      <th>industry</th>\n",
       "      <th>sector</th>\n",
       "      <th>country</th>\n",
       "      <th>hq_location</th>\n",
       "      <th>website</th>\n",
       "    </tr>\n",
       "  </thead>\n",
       "  <tbody>\n",
       "    <tr>\n",
       "      <th>count</th>\n",
       "      <td>500</td>\n",
       "      <td>500</td>\n",
       "      <td>500</td>\n",
       "      <td>500</td>\n",
       "      <td>500</td>\n",
       "      <td>500</td>\n",
       "    </tr>\n",
       "    <tr>\n",
       "      <th>unique</th>\n",
       "      <td>500</td>\n",
       "      <td>58</td>\n",
       "      <td>21</td>\n",
       "      <td>34</td>\n",
       "      <td>235</td>\n",
       "      <td>500</td>\n",
       "    </tr>\n",
       "    <tr>\n",
       "      <th>top</th>\n",
       "      <td>C. Douglas McMillon</td>\n",
       "      <td>Banks: Commercial and Savings</td>\n",
       "      <td>Financials</td>\n",
       "      <td>USA</td>\n",
       "      <td>Beijing, China</td>\n",
       "      <td>http://www.walmart.com</td>\n",
       "    </tr>\n",
       "    <tr>\n",
       "      <th>freq</th>\n",
       "      <td>1</td>\n",
       "      <td>51</td>\n",
       "      <td>118</td>\n",
       "      <td>132</td>\n",
       "      <td>56</td>\n",
       "      <td>1</td>\n",
       "    </tr>\n",
       "  </tbody>\n",
       "</table>\n",
       "</div>"
      ],
      "text/plain": [
       "                        ceo                       industry      sector  \\\n",
       "count                   500                            500         500   \n",
       "unique                  500                             58          21   \n",
       "top     C. Douglas McMillon  Banks: Commercial and Savings  Financials   \n",
       "freq                      1                             51         118   \n",
       "\n",
       "       country     hq_location                 website  \n",
       "count      500             500                     500  \n",
       "unique      34             235                     500  \n",
       "top        USA  Beijing, China  http://www.walmart.com  \n",
       "freq       132              56                       1  "
      ]
     },
     "execution_count": 28,
     "metadata": {},
     "output_type": "execute_result"
    }
   ],
   "source": [
    "f500.describe(include=['O'])"
   ]
  },
  {
   "cell_type": "code",
   "execution_count": 29,
   "id": "5c29e8d4",
   "metadata": {},
   "outputs": [
    {
     "data": {
      "text/html": [
       "<div>\n",
       "<style scoped>\n",
       "    .dataframe tbody tr th:only-of-type {\n",
       "        vertical-align: middle;\n",
       "    }\n",
       "\n",
       "    .dataframe tbody tr th {\n",
       "        vertical-align: top;\n",
       "    }\n",
       "\n",
       "    .dataframe thead th {\n",
       "        text-align: right;\n",
       "    }\n",
       "</style>\n",
       "<table border=\"1\" class=\"dataframe\">\n",
       "  <thead>\n",
       "    <tr style=\"text-align: right;\">\n",
       "      <th></th>\n",
       "      <th>rank</th>\n",
       "      <th>revenues</th>\n",
       "      <th>revenue_change</th>\n",
       "      <th>profits</th>\n",
       "      <th>assets</th>\n",
       "      <th>profit_change</th>\n",
       "      <th>previous_rank</th>\n",
       "      <th>years_on_global_500_list</th>\n",
       "      <th>employees</th>\n",
       "      <th>total_stockholder_equity</th>\n",
       "    </tr>\n",
       "  </thead>\n",
       "  <tbody>\n",
       "    <tr>\n",
       "      <th>count</th>\n",
       "      <td>500.000000</td>\n",
       "      <td>500.000000</td>\n",
       "      <td>498.000000</td>\n",
       "      <td>499.000000</td>\n",
       "      <td>5.000000e+02</td>\n",
       "      <td>436.000000</td>\n",
       "      <td>500.000000</td>\n",
       "      <td>500.000000</td>\n",
       "      <td>5.000000e+02</td>\n",
       "      <td>500.000000</td>\n",
       "    </tr>\n",
       "    <tr>\n",
       "      <th>mean</th>\n",
       "      <td>250.500000</td>\n",
       "      <td>55416.358000</td>\n",
       "      <td>4.538353</td>\n",
       "      <td>3055.203206</td>\n",
       "      <td>2.436323e+05</td>\n",
       "      <td>24.152752</td>\n",
       "      <td>222.134000</td>\n",
       "      <td>15.036000</td>\n",
       "      <td>1.339983e+05</td>\n",
       "      <td>30628.076000</td>\n",
       "    </tr>\n",
       "    <tr>\n",
       "      <th>std</th>\n",
       "      <td>144.481833</td>\n",
       "      <td>45725.478963</td>\n",
       "      <td>28.549067</td>\n",
       "      <td>5171.981071</td>\n",
       "      <td>4.851937e+05</td>\n",
       "      <td>437.509566</td>\n",
       "      <td>146.941961</td>\n",
       "      <td>7.932752</td>\n",
       "      <td>1.700878e+05</td>\n",
       "      <td>43642.576833</td>\n",
       "    </tr>\n",
       "    <tr>\n",
       "      <th>min</th>\n",
       "      <td>1.000000</td>\n",
       "      <td>21609.000000</td>\n",
       "      <td>-67.300000</td>\n",
       "      <td>-13038.000000</td>\n",
       "      <td>3.717000e+03</td>\n",
       "      <td>-793.700000</td>\n",
       "      <td>0.000000</td>\n",
       "      <td>1.000000</td>\n",
       "      <td>3.280000e+02</td>\n",
       "      <td>-59909.000000</td>\n",
       "    </tr>\n",
       "    <tr>\n",
       "      <th>25%</th>\n",
       "      <td>125.750000</td>\n",
       "      <td>29003.000000</td>\n",
       "      <td>-5.900000</td>\n",
       "      <td>556.950000</td>\n",
       "      <td>3.658850e+04</td>\n",
       "      <td>-22.775000</td>\n",
       "      <td>92.750000</td>\n",
       "      <td>7.000000</td>\n",
       "      <td>4.293250e+04</td>\n",
       "      <td>7553.750000</td>\n",
       "    </tr>\n",
       "    <tr>\n",
       "      <th>50%</th>\n",
       "      <td>250.500000</td>\n",
       "      <td>40236.000000</td>\n",
       "      <td>0.550000</td>\n",
       "      <td>1761.600000</td>\n",
       "      <td>7.326150e+04</td>\n",
       "      <td>-0.350000</td>\n",
       "      <td>219.500000</td>\n",
       "      <td>17.000000</td>\n",
       "      <td>9.291050e+04</td>\n",
       "      <td>15809.500000</td>\n",
       "    </tr>\n",
       "    <tr>\n",
       "      <th>75%</th>\n",
       "      <td>375.250000</td>\n",
       "      <td>63926.750000</td>\n",
       "      <td>6.975000</td>\n",
       "      <td>3954.000000</td>\n",
       "      <td>1.805640e+05</td>\n",
       "      <td>17.700000</td>\n",
       "      <td>347.250000</td>\n",
       "      <td>23.000000</td>\n",
       "      <td>1.689172e+05</td>\n",
       "      <td>37828.500000</td>\n",
       "    </tr>\n",
       "    <tr>\n",
       "      <th>max</th>\n",
       "      <td>500.000000</td>\n",
       "      <td>485873.000000</td>\n",
       "      <td>442.300000</td>\n",
       "      <td>45687.000000</td>\n",
       "      <td>3.473238e+06</td>\n",
       "      <td>8909.500000</td>\n",
       "      <td>500.000000</td>\n",
       "      <td>23.000000</td>\n",
       "      <td>2.300000e+06</td>\n",
       "      <td>301893.000000</td>\n",
       "    </tr>\n",
       "  </tbody>\n",
       "</table>\n",
       "</div>"
      ],
      "text/plain": [
       "             rank       revenues  revenue_change       profits        assets  \\\n",
       "count  500.000000     500.000000      498.000000    499.000000  5.000000e+02   \n",
       "mean   250.500000   55416.358000        4.538353   3055.203206  2.436323e+05   \n",
       "std    144.481833   45725.478963       28.549067   5171.981071  4.851937e+05   \n",
       "min      1.000000   21609.000000      -67.300000 -13038.000000  3.717000e+03   \n",
       "25%    125.750000   29003.000000       -5.900000    556.950000  3.658850e+04   \n",
       "50%    250.500000   40236.000000        0.550000   1761.600000  7.326150e+04   \n",
       "75%    375.250000   63926.750000        6.975000   3954.000000  1.805640e+05   \n",
       "max    500.000000  485873.000000      442.300000  45687.000000  3.473238e+06   \n",
       "\n",
       "       profit_change  previous_rank  years_on_global_500_list     employees  \\\n",
       "count     436.000000     500.000000                500.000000  5.000000e+02   \n",
       "mean       24.152752     222.134000                 15.036000  1.339983e+05   \n",
       "std       437.509566     146.941961                  7.932752  1.700878e+05   \n",
       "min      -793.700000       0.000000                  1.000000  3.280000e+02   \n",
       "25%       -22.775000      92.750000                  7.000000  4.293250e+04   \n",
       "50%        -0.350000     219.500000                 17.000000  9.291050e+04   \n",
       "75%        17.700000     347.250000                 23.000000  1.689172e+05   \n",
       "max      8909.500000     500.000000                 23.000000  2.300000e+06   \n",
       "\n",
       "       total_stockholder_equity  \n",
       "count                500.000000  \n",
       "mean               30628.076000  \n",
       "std                43642.576833  \n",
       "min               -59909.000000  \n",
       "25%                 7553.750000  \n",
       "50%                15809.500000  \n",
       "75%                37828.500000  \n",
       "max               301893.000000  "
      ]
     },
     "execution_count": 29,
     "metadata": {},
     "output_type": "execute_result"
    }
   ],
   "source": [
    "f500.describe()"
   ]
  },
  {
   "cell_type": "markdown",
   "id": "b00bc441",
   "metadata": {},
   "source": [
    "Keep in mind that whereas the Series.describe() method returns a series object, the DataFrame.describe() method returns a dataframe object."
   ]
  },
  {
   "cell_type": "markdown",
   "id": "a353d703",
   "metadata": {},
   "source": [
    "## Assignment with pandas"
   ]
  },
  {
   "cell_type": "markdown",
   "id": "e5aecd39",
   "metadata": {},
   "source": [
    "After reviewing the descriptive statistics for the numeric columns in f500, we can conclude that no values look unusual besides the 0 values in the previous_rank column. Previously, we concluded that companies with a rank of zero didn't have a rank at all. Next, we'll replace these values with a null value to clearly indicate that the value is missing."
   ]
  },
  {
   "cell_type": "markdown",
   "id": "d7ca03ac",
   "metadata": {},
   "source": [
    "We'll learn how to do two things so we can correct these values:\n",
    "\n",
    "- Perform assignment in pandas.\n",
    "- Use boolean indexing in pandas."
   ]
  },
  {
   "cell_type": "markdown",
   "id": "96e71bb3",
   "metadata": {},
   "source": [
    "Let's start by learning assignment, starting with the following example:"
   ]
  },
  {
   "cell_type": "code",
   "execution_count": 30,
   "id": "452d699e",
   "metadata": {},
   "outputs": [
    {
     "name": "stdout",
     "output_type": "stream",
     "text": [
      "                          rank  revenues\n",
      "0                                       \n",
      "Walmart                      1    485873\n",
      "State Grid                   2    315199\n",
      "Sinopec Group                3    267518\n",
      "China National Petroleum     4    262573\n",
      "Toyota Motor                 5    254694\n"
     ]
    }
   ],
   "source": [
    "top5_rank_revenue = f500[[\"rank\", \"revenues\"]].head()\n",
    "print(top5_rank_revenue)"
   ]
  },
  {
   "cell_type": "code",
   "execution_count": 31,
   "id": "b35c3fe7",
   "metadata": {},
   "outputs": [
    {
     "name": "stdout",
     "output_type": "stream",
     "text": [
      "                          rank  revenues\n",
      "0                                       \n",
      "Walmart                      1         0\n",
      "State Grid                   2         0\n",
      "Sinopec Group                3         0\n",
      "China National Petroleum     4         0\n",
      "Toyota Motor                 5         0\n"
     ]
    }
   ],
   "source": [
    "top5_rank_revenue[\"revenues\"] = 0\n",
    "print(top5_rank_revenue)"
   ]
  },
  {
   "cell_type": "code",
   "execution_count": 32,
   "id": "0f5d3322",
   "metadata": {},
   "outputs": [
    {
     "name": "stdout",
     "output_type": "stream",
     "text": [
      "                          rank  revenues\n",
      "0                                       \n",
      "Walmart                      1         0\n",
      "State Grid                   2         0\n",
      "Sinopec Group                3         0\n",
      "China National Petroleum     4         0\n",
      "Toyota Motor                 5         0\n"
     ]
    }
   ],
   "source": [
    "top5_rank_revenue[\"revenues\"] = 0\n",
    "print(top5_rank_revenue)"
   ]
  },
  {
   "cell_type": "markdown",
   "id": "8f08412d",
   "metadata": {},
   "source": [
    "Just like in NumPy, the same techniques that we use to select data could be used for assignment. When we selected a whole column by label and used assignment, we assigned the value to every item in that column.\n",
    "\n",
    "By providing labels for both axes, we can assign them to a single value within our dataframe."
   ]
  },
  {
   "cell_type": "code",
   "execution_count": 33,
   "id": "17c2ad4f",
   "metadata": {},
   "outputs": [
    {
     "name": "stdout",
     "output_type": "stream",
     "text": [
      "                          rank  revenues\n",
      "0                                       \n",
      "Walmart                      1         0\n",
      "State Grid                   2         0\n",
      "Sinopec Group                3       999\n",
      "China National Petroleum     4         0\n",
      "Toyota Motor                 5         0\n"
     ]
    }
   ],
   "source": [
    "top5_rank_revenue.loc[\"Sinopec Group\", \"revenues\"] = 999\n",
    "print(top5_rank_revenue)"
   ]
  },
  {
   "cell_type": "markdown",
   "id": "04a97401",
   "metadata": {},
   "source": [
    "Let's practice assigning values using our full Fortune 500 dataframe:"
   ]
  },
  {
   "cell_type": "code",
   "execution_count": 37,
   "id": "7a41ac3e",
   "metadata": {},
   "outputs": [],
   "source": [
    "f500.loc['Dow Chemical', 'ceo'] = 'Jim Fitterling'"
   ]
  },
  {
   "cell_type": "markdown",
   "id": "d130045d",
   "metadata": {},
   "source": [
    "## Using Boolean Indexing with pandas Objects"
   ]
  },
  {
   "cell_type": "markdown",
   "id": "5e0fa8ab",
   "metadata": {},
   "source": [
    "Now that we know how to assign values in pandas, we're one step closer to correcting the 0 values in the previous_rank column."
   ]
  },
  {
   "cell_type": "markdown",
   "id": "529e2fc5",
   "metadata": {},
   "source": [
    "While it's helpful to be able to replace specific values when we know the row label ahead of time, this can be cumbersome when we need to replace many values. Instead, we can use boolean indexing to change all rows that meet the same criteria, just like we did with NumPy."
   ]
  },
  {
   "cell_type": "markdown",
   "id": "82acecda",
   "metadata": {},
   "source": [
    "Let's look at two examples of how boolean indexing works in pandas. For our example, we'll work with this dataframe of people and their favorite numbers:"
   ]
  },
  {
   "attachments": {
    "image.png": {
     "image/png": "[encoded data removed]"
    }
   },
   "cell_type": "markdown",
   "id": "47aea946",
   "metadata": {},
   "source": [
    "![image.png](attachment:image.png)"
   ]
  },
  {
   "cell_type": "markdown",
   "id": "2644d57b",
   "metadata": {},
   "source": [
    "Let's check which people have a favorite number of 8. First, we perform a vectorized boolean operation that produces a boolean series:"
   ]
  },
  {
   "attachments": {
    "image.png": {
     "image/png": "[encoded data removed]"
    }
   },
   "cell_type": "markdown",
   "id": "a4466ea3",
   "metadata": {},
   "source": [
    "![image.png](attachment:image.png)"
   ]
  },
  {
   "cell_type": "markdown",
   "id": "8e747d53",
   "metadata": {},
   "source": [
    "We can use that series to index the whole dataframe, leaving us with the rows that correspond only to people whose favorite number is 8:"
   ]
  },
  {
   "attachments": {
    "image.png": {
     "image/png": "[encoded data removed]"
    }
   },
   "cell_type": "markdown",
   "id": "825cd564",
   "metadata": {},
   "source": [
    "![image.png](attachment:image.png)"
   ]
  },
  {
   "cell_type": "markdown",
   "id": "721634a4",
   "metadata": {},
   "source": [
    "Note that we didn't use loc[]. This is because boolean arrays use the same shortcut as slices to select along the index axis. We can also use the boolean series to index just one column of the dataframe:"
   ]
  },
  {
   "attachments": {
    "image.png": {
     "image/png": "[encoded data removed]"
    }
   },
   "cell_type": "markdown",
   "id": "2b168184",
   "metadata": {},
   "source": [
    "![image.png](attachment:image.png)"
   ]
  },
  {
   "cell_type": "markdown",
   "id": "1521a7ea",
   "metadata": {},
   "source": [
    "In this case, we used df.loc[] to specify both axes.\n",
    "\n",
    "Next, let's use boolean indexing to identify companies belonging to the \"Motor Vehicles and Parts\" industry in our Fortune 500 dataset."
   ]
  },
  {
   "cell_type": "code",
   "execution_count": 44,
   "id": "467bef0c",
   "metadata": {},
   "outputs": [],
   "source": [
    "motor_bool = f500['industry'] =='Motor Vehicles and Parts'\n",
    "\n",
    "motor_countries = f500.loc[motor_bool, 'country']"
   ]
  },
  {
   "cell_type": "code",
   "execution_count": 45,
   "id": "85a16738",
   "metadata": {},
   "outputs": [
    {
     "data": {
      "text/plain": [
       "0\n",
       "Toyota Motor                                 Japan\n",
       "Volkswagen                                 Germany\n",
       "Daimler                                    Germany\n",
       "General Motors                                 USA\n",
       "Ford Motor                                     USA\n",
       "Honda Motor                                  Japan\n",
       "SAIC Motor                                   China\n",
       "Nissan Motor                                 Japan\n",
       "BMW Group                                  Germany\n",
       "Dongfeng Motor                               China\n",
       "Robert Bosch                               Germany\n",
       "Hyundai Motor                          South Korea\n",
       "China FAW Group                              China\n",
       "Beijing Automotive Group                     China\n",
       "Peugeot                                     France\n",
       "Renault                                     France\n",
       "Kia Motors                             South Korea\n",
       "Continental                                Germany\n",
       "Denso                                        Japan\n",
       "Guangzhou Automobile Industry Group          China\n",
       "Tata Motors                                  India\n",
       "ZF Friedrichshafen                         Germany\n",
       "Jardine Matheson                             China\n",
       "Magna International                         Canada\n",
       "Volvo                                       Sweden\n",
       "Hyundai Mobis                          South Korea\n",
       "Aisin Seiki                                  Japan\n",
       "Zhejiang Geely Holding Group                 China\n",
       "Subaru                                       Japan\n",
       "Bridgestone                                  Japan\n",
       "Mazda Motor                                  Japan\n",
       "Suzuki Motor                                 Japan\n",
       "Sumitomo Electric Industries                 Japan\n",
       "Michelin                                    France\n",
       "Name: country, dtype: object"
      ]
     },
     "execution_count": 45,
     "metadata": {},
     "output_type": "execute_result"
    }
   ],
   "source": [
    "motor_countries"
   ]
  },
  {
   "cell_type": "markdown",
   "id": "e5889faa",
   "metadata": {},
   "source": [
    "## Using Boolean Arrays to Assign Values"
   ]
  },
  {
   "cell_type": "markdown",
   "id": "157441c8",
   "metadata": {},
   "source": [
    "We now have all the knowledge we need to fix the 0 values in the previous_rank column:\n",
    "\n"
   ]
  },
  {
   "cell_type": "markdown",
   "id": "91f4dbd8",
   "metadata": {},
   "source": [
    "- Perform assignment in pandas.\n",
    "- Use boolean indexing in pandas."
   ]
  },
  {
   "cell_type": "markdown",
   "id": "91a5a144",
   "metadata": {},
   "source": [
    "Let's look at an example of how we combine these two operations together. For our example, we'll change the 'Motor Vehicles & Parts' values in the sector column to 'Motor Vehicles and Parts'– i.e. we will change the ampersand (&) to and."
   ]
  },
  {
   "cell_type": "code",
   "execution_count": 46,
   "id": "71d709ad",
   "metadata": {},
   "outputs": [],
   "source": [
    "ampersand_bool = f500[\"sector\"] == \"Motor Vehicles & Parts\""
   ]
  },
  {
   "cell_type": "markdown",
   "id": "ed04747d",
   "metadata": {},
   "source": [
    "Next, we use that boolean series and the string \"sector\" to perform the assignment."
   ]
  },
  {
   "cell_type": "code",
   "execution_count": 47,
   "id": "3aa96a7e",
   "metadata": {},
   "outputs": [],
   "source": [
    "f500.loc[ampersand_bool,\"sector\"] = \"Motor Vehicles and Parts\""
   ]
  },
  {
   "cell_type": "markdown",
   "id": "43c85ecc",
   "metadata": {},
   "source": [
    "Just like we saw in the NumPy lesson earlier in this course, we can remove the intermediate step of creating a boolean series, and combine everything into one line. This is the most common way to write pandas code to perform assignment using boolean arrays:"
   ]
  },
  {
   "cell_type": "code",
   "execution_count": 48,
   "id": "ff1c3f01",
   "metadata": {},
   "outputs": [],
   "source": [
    "f500.loc[f500[\"sector\"] == \"Motor Vehicles & Parts\",\"sector\"] = \"Motor Vehicles and Parts\""
   ]
  },
  {
   "cell_type": "markdown",
   "id": "0e4c5f91",
   "metadata": {},
   "source": [
    "Now we can follow this pattern to replace the values in the previous_rank column. We'll replace these values with np.nan. Just like in NumPy, np.nan is used in pandas to represent values that can't be represented numerically, most commonly missing values."
   ]
  },
  {
   "cell_type": "code",
   "execution_count": 55,
   "id": "a3a94f0d",
   "metadata": {},
   "outputs": [],
   "source": [
    "import numpy as np\n",
    "f500.loc[f500['previous_rank'] == 0, 'previous_rank'] = np.nan"
   ]
  },
  {
   "cell_type": "code",
   "execution_count": 56,
   "id": "de0730a2",
   "metadata": {},
   "outputs": [],
   "source": [
    "prev_rank_before = f500[\"previous_rank\"].value_counts(dropna=False).head()"
   ]
  },
  {
   "cell_type": "markdown",
   "id": "500c8446",
   "metadata": {},
   "source": [
    "This uses Series.value_counts() and Series.head() to display the 5 most common values in the previous_rank column, but adds an additional dropna=False parameter, which stops the Series.value_counts() method from excluding null values when it makes its calculation, as shown in the [Series.value_counts() documentation](http://pandas.pydata.org/pandas-docs/stable/generated/pandas.Series.value_counts.html#pandas.Series.value_counts)."
   ]
  },
  {
   "cell_type": "code",
   "execution_count": 57,
   "id": "04192cb6",
   "metadata": {
    "scrolled": true
   },
   "outputs": [
    {
     "data": {
      "text/plain": [
       "previous_rank\n",
       "NaN      33\n",
       "1.0       1\n",
       "302.0     1\n",
       "334.0     1\n",
       "325.0     1\n",
       "Name: count, dtype: int64"
      ]
     },
     "execution_count": 57,
     "metadata": {},
     "output_type": "execute_result"
    }
   ],
   "source": [
    "prev_rank_before"
   ]
  },
  {
   "cell_type": "markdown",
   "id": "3c84d350",
   "metadata": {},
   "source": [
    "## Creating New Columns"
   ]
  },
  {
   "cell_type": "markdown",
   "id": "0d7bd821",
   "metadata": {},
   "source": [
    "The index of the series that Series.value_counts() produces now shows us floats like 471.0 instead of integers. The reason behind this is that pandas uses the NumPy integer dtype, which does not support NaN values. Pandas inherits this behavior, and in instances where you try and assign a NaN value to an integer column, pandas will silently convert that column to a float dtype. If you're interested in finding out more about this, there is a [specific section on integer NaN values in the pandas documentation](http://pandas.pydata.org/pandas-docs/stable/gotchas.html#nan-integer-na-values-and-na-type-promotions)."
   ]
  },
  {
   "cell_type": "markdown",
   "id": "7be391b1",
   "metadata": {},
   "source": [
    "Now that we've corrected the data, let's create the rank_change series again. This time, we'll add it to our f500 dataframe as a new column."
   ]
  },
  {
   "cell_type": "markdown",
   "id": "ff5d08f3",
   "metadata": {},
   "source": [
    "When we assign a value or values to a new column label, pandas will create a new column in our dataframe. For example, below we add a new column to a dataframe named top5_rank_revenue:"
   ]
  },
  {
   "cell_type": "markdown",
   "id": "463e306d",
   "metadata": {},
   "source": [
    "Let's create a rank_change column in our f500 dataframe next."
   ]
  },
  {
   "cell_type": "code",
   "execution_count": 59,
   "id": "33241e01",
   "metadata": {},
   "outputs": [],
   "source": [
    "f500['rank_change'] = f500['previous_rank'] - f500['rank']"
   ]
  },
  {
   "cell_type": "code",
   "execution_count": 60,
   "id": "495b9da5",
   "metadata": {},
   "outputs": [
    {
     "data": {
      "text/plain": [
       "count    467.000000\n",
       "mean      -3.533191\n",
       "std       44.293603\n",
       "min     -199.000000\n",
       "25%      -21.000000\n",
       "50%       -2.000000\n",
       "75%       10.000000\n",
       "max      226.000000\n",
       "Name: rank_change, dtype: float64"
      ]
     },
     "execution_count": 60,
     "metadata": {},
     "output_type": "execute_result"
    }
   ],
   "source": [
    "f500['rank_change'].describe()"
   ]
  },
  {
   "cell_type": "markdown",
   "id": "565f6d49",
   "metadata": {},
   "source": [
    "## Challenge: Top Performers by Country"
   ]
  },
  {
   "cell_type": "markdown",
   "id": "383c185f",
   "metadata": {},
   "source": [
    "We'll finish this lesson with a challenge. "
   ]
  },
  {
   "cell_type": "markdown",
   "id": "76c3f45c",
   "metadata": {},
   "source": [
    "In this challenge, we'll calculate a specific statistic or attribute of each of the two most common countries from our f500 dataframe."
   ]
  },
  {
   "cell_type": "markdown",
   "id": "4265246c",
   "metadata": {},
   "source": [
    "Like the DataFrame.head() method, the Series.head() method returns the first five items from a series by default, or a different number if you provide an argument, like above."
   ]
  },
  {
   "cell_type": "code",
   "execution_count": 66,
   "id": "f9e2748a",
   "metadata": {},
   "outputs": [
    {
     "data": {
      "text/plain": [
       "industry\n",
       "Banks: Commercial and Savings               8\n",
       "Insurance: Property and Casualty (Stock)    7\n",
       "Name: count, dtype: int64"
      ]
     },
     "execution_count": 66,
     "metadata": {},
     "output_type": "execute_result"
    }
   ],
   "source": [
    "f500.loc[f500['country'] == 'USA', 'industry'].value_counts().head(2)"
   ]
  },
  {
   "cell_type": "code",
   "execution_count": 69,
   "id": "965eb3eb",
   "metadata": {},
   "outputs": [
    {
     "data": {
      "text/plain": [
       "sector\n",
       "Financials     25\n",
       "Energy         22\n",
       "Wholesalers     9\n",
       "Name: count, dtype: int64"
      ]
     },
     "execution_count": 69,
     "metadata": {},
     "output_type": "execute_result"
    }
   ],
   "source": [
    "f500.loc[f500['country'] == 'China', 'sector'].value_counts().head(3)"
   ]
  },
  {
   "cell_type": "markdown",
   "id": "c7d13640",
   "metadata": {},
   "source": [
    "In this lesson, we learned:\n",
    "\n",
    "- How to select data from pandas objects using boolean arrays.\n",
    "- How to assign data using labels and boolean arrays.\n",
    "- How to create new columns in pandas.\n",
    "- Many new methods to make data analysis easier in pandas."
   ]
  },
  {
   "cell_type": "code",
   "execution_count": null,
   "id": "c5442e9d",
   "metadata": {},
   "outputs": [],
   "source": []
  }
 ],
 "metadata": {
  "kernelspec": {
   "display_name": "Python 3 (ipykernel)",
   "language": "python",
   "name": "python3"
  },
  "language_info": {
   "codemirror_mode": {
    "name": "ipython",
    "version": 3
   },
   "file_extension": ".py",
   "mimetype": "text/x-python",
   "name": "python",
   "nbconvert_exporter": "python",
   "pygments_lexer": "ipython3",
   "version": "3.11.5"
  }
 },
 "nbformat": 4,
 "nbformat_minor": 5
}
