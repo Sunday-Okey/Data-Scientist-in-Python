{
 "cells": [
  {
   "cell_type": "markdown",
   "id": "8055c5ac",
   "metadata": {},
   "source": [
    "## Reading CSV Files with Encodings"
   ]
  },
  {
   "cell_type": "markdown",
   "id": "af623dfb",
   "metadata": {},
   "source": [
    "We've learned how to select, assign, and analyze data with pandas using pre-cleaned data. In reality, data is rarely in the format needed to perform analysis. Data scientists commonly spend [over half their time cleaning data](https://www.forbes.com/sites/gilpress/2016/03/23/data-preparation-most-time-consuming-least-enjoyable-data-science-task-survey-says/), so knowing how to clean \"messy\" data is an extremely important skill."
   ]
  },
  {
   "cell_type": "markdown",
   "id": "be19e46a",
   "metadata": {},
   "source": [
    "We'll learn the basics of data cleaning with pandas as we work with laptops.csv, a CSV file containing information about 1,300 laptop computers. The first five rows of the CSV file are shown below:"
   ]
  },
  {
   "cell_type": "markdown",
   "id": "500e0241",
   "metadata": {},
   "source": [
    "We can start by reading the data into pandas. Let's look at what happens when we use the pandas.read_csv() function with only the filename as an argument:"
   ]
  },
  {
   "cell_type": "code",
   "execution_count": 1,
   "id": "f69bf796",
   "metadata": {},
   "outputs": [],
   "source": [
    "import pandas as pd"
   ]
  },
  {
   "cell_type": "markdown",
   "id": "0746d77f",
   "metadata": {},
   "source": [
    "laptops = pd.read_csv('../Datasets/laptops.csv')"
   ]
  },
  {
   "cell_type": "markdown",
   "id": "21284196",
   "metadata": {},
   "source": [
    "We get an error! Reading the traceback, we can see it references UTF-8, which is a type of encoding. "
   ]
  },
  {
   "cell_type": "markdown",
   "id": "96b065e2",
   "metadata": {},
   "source": [
    "Computers, at their lowest levels, can only understand binary (0 and 1) and encodings are systems for representing characters in binary."
   ]
  },
  {
   "cell_type": "markdown",
   "id": "7e15c536",
   "metadata": {},
   "source": [
    "This error is telling us that the encoding it used (utf-8) failed to convert the data into binary."
   ]
  },
  {
   "cell_type": "markdown",
   "id": "dd872564",
   "metadata": {},
   "source": [
    "Thankfully, the pandas.read_csv() function has an encoding argument we can use to specify an encoding:"
   ]
  },
  {
   "cell_type": "code",
   "execution_count": null,
   "id": "d632e2cb",
   "metadata": {},
   "outputs": [],
   "source": [
    "df = pd.read_csv(\"filename.csv\", encoding=\"encoding_type\")"
   ]
  },
  {
   "cell_type": "markdown",
   "id": "c1a85849",
   "metadata": {},
   "source": [
    "The top four most popular encodings, which we can use to set the encoding parameter of pandas.read_csv() above, are:"
   ]
  },
  {
   "cell_type": "markdown",
   "id": "8fa92955",
   "metadata": {},
   "source": [
    "- utf-8 - Universal Coded Character Set Transformation Format—8-bit, a dominant character encoding for the web.\n",
    "- latin1 - Also known as 'ISO-8859-1', a part of the ISO/IEC 8859 series.\n",
    "- Windows-1252 - A character encoding of the Windows family, also known as 'cp1252' or sometimes ANSI.\n",
    "- utf-16 - Similar to 'utf-8' but uses 16 bits to represent each character instead of 8."
   ]
  },
  {
   "cell_type": "markdown",
   "id": "123cccad",
   "metadata": {},
   "source": [
    "Since the pandas.read_csv() function already tried to read in the laptops.csv file using the default encoding type (utf-8) and failed, we know the file's not encoded using that format!"
   ]
  },
  {
   "cell_type": "markdown",
   "id": "16239a9a",
   "metadata": {},
   "source": [
    "Let's try another popular encoding type to see if that works."
   ]
  },
  {
   "cell_type": "code",
   "execution_count": 3,
   "id": "38b2dc65",
   "metadata": {},
   "outputs": [],
   "source": [
    "laptops = pd.read_csv('../Datasets/laptops.csv', encoding='latin1')"
   ]
  },
  {
   "cell_type": "code",
   "execution_count": 5,
   "id": "85e44060",
   "metadata": {},
   "outputs": [
    {
     "data": {
      "text/html": [
       "<div>\n",
       "<style scoped>\n",
       "    .dataframe tbody tr th:only-of-type {\n",
       "        vertical-align: middle;\n",
       "    }\n",
       "\n",
       "    .dataframe tbody tr th {\n",
       "        vertical-align: top;\n",
       "    }\n",
       "\n",
       "    .dataframe thead th {\n",
       "        text-align: right;\n",
       "    }\n",
       "</style>\n",
       "<table border=\"1\" class=\"dataframe\">\n",
       "  <thead>\n",
       "    <tr style=\"text-align: right;\">\n",
       "      <th></th>\n",
       "      <th>Manufacturer</th>\n",
       "      <th>Model Name</th>\n",
       "      <th>Category</th>\n",
       "      <th>Screen Size</th>\n",
       "      <th>Screen</th>\n",
       "      <th>CPU</th>\n",
       "      <th>RAM</th>\n",
       "      <th>Storage</th>\n",
       "      <th>GPU</th>\n",
       "      <th>Operating System</th>\n",
       "      <th>Operating System Version</th>\n",
       "      <th>Weight</th>\n",
       "      <th>Price (Euros)</th>\n",
       "    </tr>\n",
       "  </thead>\n",
       "  <tbody>\n",
       "    <tr>\n",
       "      <th>0</th>\n",
       "      <td>Apple</td>\n",
       "      <td>MacBook Pro</td>\n",
       "      <td>Ultrabook</td>\n",
       "      <td>13.3\"</td>\n",
       "      <td>IPS Panel Retina Display 2560x1600</td>\n",
       "      <td>Intel Core i5 2.3GHz</td>\n",
       "      <td>8GB</td>\n",
       "      <td>128GB SSD</td>\n",
       "      <td>Intel Iris Plus Graphics 640</td>\n",
       "      <td>macOS</td>\n",
       "      <td>NaN</td>\n",
       "      <td>1.37kg</td>\n",
       "      <td>1339,69</td>\n",
       "    </tr>\n",
       "    <tr>\n",
       "      <th>1</th>\n",
       "      <td>Apple</td>\n",
       "      <td>Macbook Air</td>\n",
       "      <td>Ultrabook</td>\n",
       "      <td>13.3\"</td>\n",
       "      <td>1440x900</td>\n",
       "      <td>Intel Core i5 1.8GHz</td>\n",
       "      <td>8GB</td>\n",
       "      <td>128GB Flash Storage</td>\n",
       "      <td>Intel HD Graphics 6000</td>\n",
       "      <td>macOS</td>\n",
       "      <td>NaN</td>\n",
       "      <td>1.34kg</td>\n",
       "      <td>898,94</td>\n",
       "    </tr>\n",
       "  </tbody>\n",
       "</table>\n",
       "</div>"
      ],
      "text/plain": [
       "  Manufacturer   Model Name   Category Screen Size  \\\n",
       "0        Apple  MacBook Pro  Ultrabook       13.3\"   \n",
       "1        Apple  Macbook Air  Ultrabook       13.3\"   \n",
       "\n",
       "                               Screen                   CPU  RAM  \\\n",
       "0  IPS Panel Retina Display 2560x1600  Intel Core i5 2.3GHz  8GB   \n",
       "1                            1440x900  Intel Core i5 1.8GHz  8GB   \n",
       "\n",
       "               Storage                           GPU Operating System  \\\n",
       "0            128GB SSD  Intel Iris Plus Graphics 640            macOS   \n",
       "1  128GB Flash Storage        Intel HD Graphics 6000            macOS   \n",
       "\n",
       "  Operating System Version  Weight Price (Euros)  \n",
       "0                      NaN  1.37kg       1339,69  \n",
       "1                      NaN  1.34kg        898,94  "
      ]
     },
     "execution_count": 5,
     "metadata": {},
     "output_type": "execute_result"
    }
   ],
   "source": [
    "laptops.head(2)"
   ]
  },
  {
   "cell_type": "code",
   "execution_count": 4,
   "id": "2d013ec7",
   "metadata": {
    "scrolled": true
   },
   "outputs": [
    {
     "name": "stdout",
     "output_type": "stream",
     "text": [
      "<class 'pandas.core.frame.DataFrame'>\n",
      "RangeIndex: 1303 entries, 0 to 1302\n",
      "Data columns (total 13 columns):\n",
      " #   Column                    Non-Null Count  Dtype \n",
      "---  ------                    --------------  ----- \n",
      " 0   Manufacturer              1303 non-null   object\n",
      " 1   Model Name                1303 non-null   object\n",
      " 2   Category                  1303 non-null   object\n",
      " 3   Screen Size               1303 non-null   object\n",
      " 4   Screen                    1303 non-null   object\n",
      " 5   CPU                       1303 non-null   object\n",
      " 6   RAM                       1303 non-null   object\n",
      " 7    Storage                  1303 non-null   object\n",
      " 8   GPU                       1303 non-null   object\n",
      " 9   Operating System          1303 non-null   object\n",
      " 10  Operating System Version  1133 non-null   object\n",
      " 11  Weight                    1303 non-null   object\n",
      " 12  Price (Euros)             1303 non-null   object\n",
      "dtypes: object(13)\n",
      "memory usage: 132.5+ KB\n"
     ]
    }
   ],
   "source": [
    "laptops.info()"
   ]
  },
  {
   "cell_type": "markdown",
   "id": "ae2df01d",
   "metadata": {},
   "source": [
    "## Cleaning Column Names"
   ]
  },
  {
   "cell_type": "markdown",
   "id": "587a98cc",
   "metadata": {},
   "source": [
    "We can see that all columns are represented by the object dtype, indicating that they store string values, not numerical values. Also, one of the columns, Operating System Version, contains some null values."
   ]
  },
  {
   "cell_type": "markdown",
   "id": "17418e5c",
   "metadata": {},
   "source": [
    "The column labels also have a mix of upper and lowercase letters, as well as spaces and parentheses, which will make them harder to work with and read. One noticeable issue is that the \" Storage\" column name has a leading space in front of it. These quirks with column labels can sometimes be hard to spot, so removing extra whitespaces from all column names will avoid headaches in the long run."
   ]
  },
  {
   "cell_type": "markdown",
   "id": "996353b6",
   "metadata": {},
   "source": [
    "We can access the column axis labels of a dataframe using the [DataFrame.columns attribute](https://pandas.pydata.org/pandas-docs/stable/basics.html#attributes-and-the-raw-ndarray-s). This returns an index object—a special type of NumPy ndarray—with the label (name) of each column:"
   ]
  },
  {
   "cell_type": "code",
   "execution_count": 6,
   "id": "d709fd61",
   "metadata": {},
   "outputs": [
    {
     "data": {
      "text/plain": [
       "Index(['Manufacturer', 'Model Name', 'Category', 'Screen Size', 'Screen',\n",
       "       'CPU', 'RAM', ' Storage', 'GPU', 'Operating System',\n",
       "       'Operating System Version', 'Weight', 'Price (Euros)'],\n",
       "      dtype='object')"
      ]
     },
     "execution_count": 6,
     "metadata": {},
     "output_type": "execute_result"
    }
   ],
   "source": [
    "laptops.columns"
   ]
  },
  {
   "cell_type": "markdown",
   "id": "1cac1738",
   "metadata": {},
   "source": [
    "Not only can we use the attribute to view the column labels, we can also assign new ones with it:"
   ]
  },
  {
   "cell_type": "code",
   "execution_count": 8,
   "id": "415f4763",
   "metadata": {},
   "outputs": [
    {
     "name": "stdout",
     "output_type": "stream",
     "text": [
      "Index(['A', 'B', 'C', 'D', 'E', 'F', 'G', 'H', 'I', 'J', 'K', 'L', 'M'], dtype='object')\n"
     ]
    }
   ],
   "source": [
    "laptops_test = laptops.copy()\n",
    "laptops_test.columns = ['A', 'B', 'C', 'D', 'E',\n",
    "                        'F', 'G', 'H', 'I', 'J',\n",
    "                        'K', 'L', 'M']\n",
    "print(laptops_test.columns)"
   ]
  },
  {
   "cell_type": "markdown",
   "id": "41c13ee6",
   "metadata": {},
   "source": [
    "Next, let's use the DataFrame.columns attribute to remove whitespaces from the column names."
   ]
  },
  {
   "cell_type": "code",
   "execution_count": 9,
   "id": "3fc9847b",
   "metadata": {},
   "outputs": [],
   "source": [
    "laptops.columns = [col.strip() for col in laptops.columns]"
   ]
  },
  {
   "cell_type": "code",
   "execution_count": 11,
   "id": "46c096c1",
   "metadata": {},
   "outputs": [
    {
     "name": "stdout",
     "output_type": "stream",
     "text": [
      "<class 'pandas.core.frame.DataFrame'>\n",
      "RangeIndex: 1303 entries, 0 to 1302\n",
      "Data columns (total 13 columns):\n",
      " #   Column                    Non-Null Count  Dtype \n",
      "---  ------                    --------------  ----- \n",
      " 0   Manufacturer              1303 non-null   object\n",
      " 1   Model Name                1303 non-null   object\n",
      " 2   Category                  1303 non-null   object\n",
      " 3   Screen Size               1303 non-null   object\n",
      " 4   Screen                    1303 non-null   object\n",
      " 5   CPU                       1303 non-null   object\n",
      " 6   RAM                       1303 non-null   object\n",
      " 7   Storage                   1303 non-null   object\n",
      " 8   GPU                       1303 non-null   object\n",
      " 9   Operating System          1303 non-null   object\n",
      " 10  Operating System Version  1133 non-null   object\n",
      " 11  Weight                    1303 non-null   object\n",
      " 12  Price (Euros)             1303 non-null   object\n",
      "dtypes: object(13)\n",
      "memory usage: 132.5+ KB\n"
     ]
    }
   ],
   "source": [
    "laptops.info()"
   ]
  },
  {
   "cell_type": "markdown",
   "id": "187417be",
   "metadata": {},
   "source": [
    "This is good start, but we still need to standardize the column labels a bit more. Let's finish cleaning them up by:"
   ]
  },
  {
   "cell_type": "markdown",
   "id": "73525327",
   "metadata": {},
   "source": [
    "- Replacing spaces between words with underscores.\n",
    "- Removing any special characters, like parentheses.\n",
    "- Making all labels lowercase.\n",
    "- Shortening any long column names."
   ]
  },
  {
   "cell_type": "markdown",
   "id": "cb3c76eb",
   "metadata": {},
   "source": [
    "Since we need to perform these steps on each of our column labels, it makes sense for us to create a helper function that uses [Python string methods](https://docs.python.org/3/library/stdtypes.html#string-methods) to clean our column labels as described above. Then we can use a for loop to apply that function to each column label. Let's look at an example:"
   ]
  },
  {
   "cell_type": "code",
   "execution_count": 19,
   "id": "525557a2",
   "metadata": {},
   "outputs": [],
   "source": [
    "def clean_col(col):\n",
    "    col = col.replace('(', '').replace(')', '').lower().strip()\n",
    "    col = col.replace('operating system', 'os').replace(' ', '_')\n",
    "    return col\n",
    "\n",
    "new_columns = [clean_col(c) for c in laptops.columns]"
   ]
  },
  {
   "cell_type": "code",
   "execution_count": 20,
   "id": "5b52d80a",
   "metadata": {},
   "outputs": [
    {
     "data": {
      "text/plain": [
       "['manufacturer',\n",
       " 'model_name',\n",
       " 'category',\n",
       " 'screen_size',\n",
       " 'screen',\n",
       " 'cpu',\n",
       " 'ram',\n",
       " 'storage',\n",
       " 'gpu',\n",
       " 'os',\n",
       " 'os_version',\n",
       " 'weight',\n",
       " 'price_euros']"
      ]
     },
     "execution_count": 20,
     "metadata": {},
     "output_type": "execute_result"
    }
   ],
   "source": [
    "new_columns"
   ]
  },
  {
   "cell_type": "code",
   "execution_count": 21,
   "id": "3ee487e6",
   "metadata": {},
   "outputs": [],
   "source": [
    "laptops.columns = new_columns"
   ]
  },
  {
   "cell_type": "code",
   "execution_count": 22,
   "id": "242e8696",
   "metadata": {},
   "outputs": [
    {
     "data": {
      "text/html": [
       "<div>\n",
       "<style scoped>\n",
       "    .dataframe tbody tr th:only-of-type {\n",
       "        vertical-align: middle;\n",
       "    }\n",
       "\n",
       "    .dataframe tbody tr th {\n",
       "        vertical-align: top;\n",
       "    }\n",
       "\n",
       "    .dataframe thead th {\n",
       "        text-align: right;\n",
       "    }\n",
       "</style>\n",
       "<table border=\"1\" class=\"dataframe\">\n",
       "  <thead>\n",
       "    <tr style=\"text-align: right;\">\n",
       "      <th></th>\n",
       "      <th>manufacturer</th>\n",
       "      <th>model_name</th>\n",
       "      <th>category</th>\n",
       "      <th>screen_size</th>\n",
       "      <th>screen</th>\n",
       "      <th>cpu</th>\n",
       "      <th>ram</th>\n",
       "      <th>storage</th>\n",
       "      <th>gpu</th>\n",
       "      <th>os</th>\n",
       "      <th>os_version</th>\n",
       "      <th>weight</th>\n",
       "      <th>price_euros</th>\n",
       "    </tr>\n",
       "  </thead>\n",
       "  <tbody>\n",
       "    <tr>\n",
       "      <th>0</th>\n",
       "      <td>Apple</td>\n",
       "      <td>MacBook Pro</td>\n",
       "      <td>Ultrabook</td>\n",
       "      <td>13.3\"</td>\n",
       "      <td>IPS Panel Retina Display 2560x1600</td>\n",
       "      <td>Intel Core i5 2.3GHz</td>\n",
       "      <td>8GB</td>\n",
       "      <td>128GB SSD</td>\n",
       "      <td>Intel Iris Plus Graphics 640</td>\n",
       "      <td>macOS</td>\n",
       "      <td>NaN</td>\n",
       "      <td>1.37kg</td>\n",
       "      <td>1339,69</td>\n",
       "    </tr>\n",
       "    <tr>\n",
       "      <th>1</th>\n",
       "      <td>Apple</td>\n",
       "      <td>Macbook Air</td>\n",
       "      <td>Ultrabook</td>\n",
       "      <td>13.3\"</td>\n",
       "      <td>1440x900</td>\n",
       "      <td>Intel Core i5 1.8GHz</td>\n",
       "      <td>8GB</td>\n",
       "      <td>128GB Flash Storage</td>\n",
       "      <td>Intel HD Graphics 6000</td>\n",
       "      <td>macOS</td>\n",
       "      <td>NaN</td>\n",
       "      <td>1.34kg</td>\n",
       "      <td>898,94</td>\n",
       "    </tr>\n",
       "  </tbody>\n",
       "</table>\n",
       "</div>"
      ],
      "text/plain": [
       "  manufacturer   model_name   category screen_size  \\\n",
       "0        Apple  MacBook Pro  Ultrabook       13.3\"   \n",
       "1        Apple  Macbook Air  Ultrabook       13.3\"   \n",
       "\n",
       "                               screen                   cpu  ram  \\\n",
       "0  IPS Panel Retina Display 2560x1600  Intel Core i5 2.3GHz  8GB   \n",
       "1                            1440x900  Intel Core i5 1.8GHz  8GB   \n",
       "\n",
       "               storage                           gpu     os os_version  \\\n",
       "0            128GB SSD  Intel Iris Plus Graphics 640  macOS        NaN   \n",
       "1  128GB Flash Storage        Intel HD Graphics 6000  macOS        NaN   \n",
       "\n",
       "   weight price_euros  \n",
       "0  1.37kg     1339,69  \n",
       "1  1.34kg      898,94  "
      ]
     },
     "execution_count": 22,
     "metadata": {},
     "output_type": "execute_result"
    }
   ],
   "source": [
    "laptops.head(2)"
   ]
  },
  {
   "cell_type": "markdown",
   "id": "f7bdaea9",
   "metadata": {},
   "source": [
    "## Converting String Columns to Numeric"
   ]
  },
  {
   "cell_type": "markdown",
   "id": "68229d7b",
   "metadata": {},
   "source": [
    "We observed earlier that all 13 columns have the object dtype, indicating they're storing strings. Let's look at the first few rows of some of our columns:"
   ]
  },
  {
   "cell_type": "code",
   "execution_count": 23,
   "id": "2f19487a",
   "metadata": {},
   "outputs": [
    {
     "name": "stdout",
     "output_type": "stream",
     "text": [
      "    category screen_size                              screen\n",
      "0  Ultrabook       13.3\"  IPS Panel Retina Display 2560x1600\n",
      "1  Ultrabook       13.3\"                            1440x900\n",
      "2   Notebook       15.6\"                   Full HD 1920x1080\n",
      "3  Ultrabook       15.4\"  IPS Panel Retina Display 2880x1800\n",
      "4  Ultrabook       13.3\"  IPS Panel Retina Display 2560x1600\n"
     ]
    }
   ],
   "source": [
    "print(laptops.iloc[:5, 2:5])"
   ]
  },
  {
   "cell_type": "markdown",
   "id": "c4d029d2",
   "metadata": {},
   "source": [
    "Of these three columns, we have three different types of text data:\n",
    "\n",
    "- category: Purely text data; it has no numeric values.\n",
    "- screen_size: Numeric data stored as text data because of the \" character that represents \"inches.\"\n",
    "- screen: A combination of text data (screen type) and numeric data (screen size)."
   ]
  },
  {
   "cell_type": "markdown",
   "id": "0446e39f",
   "metadata": {},
   "source": [
    "Because the values in the screen_size column are stored as text data, we can't easily sort them numerically. For instance, if we wanted to select laptops with screens 15\" or larger, we'd be unable to do so without using some clever tricks."
   ]
  },
  {
   "cell_type": "markdown",
   "id": "d020b1f9",
   "metadata": {},
   "source": [
    "Let's address this problem by converting the screen_size column to purely numeric values. Whenever we convert text to numeric data, we can follow this data cleaning workflow:"
   ]
  },
  {
   "attachments": {
    "image.png": {
     "image/png": "[encoded data removed]"
    }
   },
   "cell_type": "markdown",
   "id": "3c6f4aac",
   "metadata": {},
   "source": [
    "![image.png](attachment:image.png)"
   ]
  },
  {
   "cell_type": "markdown",
   "id": "08407f55",
   "metadata": {},
   "source": [
    "The first step is to explore the data. One of the best ways to start exploring the data is to use the Series.unique() method to view all of the unique values in the column:"
   ]
  },
  {
   "cell_type": "code",
   "execution_count": 24,
   "id": "d49332cb",
   "metadata": {},
   "outputs": [
    {
     "data": {
      "text/plain": [
       "array(['13.3\"', '15.6\"', '15.4\"', '14.0\"', '12.0\"', '11.6\"', '17.3\"',\n",
       "       '10.1\"', '13.5\"', '12.5\"', '13.0\"', '18.4\"', '13.9\"', '12.3\"',\n",
       "       '17.0\"', '15.0\"', '14.1\"', '11.3\"'], dtype=object)"
      ]
     },
     "execution_count": 24,
     "metadata": {},
     "output_type": "execute_result"
    }
   ],
   "source": [
    "laptops['screen_size'].unique()"
   ]
  },
  {
   "cell_type": "markdown",
   "id": "96615f3f",
   "metadata": {},
   "source": [
    "Our next step is to identify patterns and special cases that block us from converting the column to numeric. Looking at the results above, we can observe the following:"
   ]
  },
  {
   "cell_type": "markdown",
   "id": "20f9c59c",
   "metadata": {},
   "source": [
    "- All values in this column follow a pattern: two digits, followed by a decimal (.), followed by a single digit, followed by a double quotation mark (\"). We'll eventually need to remove that \" so we can convert the column to numeric.\n",
    "- There are no special cases; every unique value in the column matches this pattern.\n",
    "- Because the int dtype won't be able to store these decimal values, we'll eventually need to convert the column to a float dtype."
   ]
  },
  {
   "cell_type": "markdown",
   "id": "83bd010d",
   "metadata": {},
   "source": [
    "Let's see if we can identify any patterns and special cases in the ram column next."
   ]
  },
  {
   "cell_type": "code",
   "execution_count": 25,
   "id": "408336a5",
   "metadata": {},
   "outputs": [
    {
     "data": {
      "text/plain": [
       "array(['8GB', '16GB', '4GB', '2GB', '12GB', '6GB', '32GB', '24GB', '64GB'],\n",
       "      dtype=object)"
      ]
     },
     "execution_count": 25,
     "metadata": {},
     "output_type": "execute_result"
    }
   ],
   "source": [
    "laptops['ram'].uniqueque()"
   ]
  },
  {
   "cell_type": "markdown",
   "id": "ebe7430b",
   "metadata": {},
   "source": [
    "A note about Series.unique(): The Series.unique() method returns a numpy array, not a list or pandas series. This means that we can't use the Series methods we've learned so far, like Series.head(). If you want to convert the result to a list, you can use the tolist() method of the numpy array:"
   ]
  },
  {
   "cell_type": "code",
   "execution_count": 26,
   "id": "bf350a4e",
   "metadata": {},
   "outputs": [],
   "source": [
    "unique_ram = laptops[\"ram\"].unique().tolist()"
   ]
  },
  {
   "cell_type": "code",
   "execution_count": 27,
   "id": "d041ba58",
   "metadata": {},
   "outputs": [
    {
     "data": {
      "text/plain": [
       "['8GB', '16GB', '4GB', '2GB', '12GB', '6GB', '32GB', '24GB', '64GB']"
      ]
     },
     "execution_count": 27,
     "metadata": {},
     "output_type": "execute_result"
    }
   ],
   "source": [
    "unique_ram"
   ]
  },
  {
   "cell_type": "markdown",
   "id": "50c66ab6",
   "metadata": {},
   "source": [
    "## Removing Non-Digit Characters"
   ]
  },
  {
   "cell_type": "markdown",
   "id": "10528537",
   "metadata": {},
   "source": [
    "We identified a clear pattern in the ram column; all values were integers, followed by the characters GB (gigabyte) at the end of the string:"
   ]
  },
  {
   "cell_type": "markdown",
   "id": "01bf3778",
   "metadata": {},
   "source": [
    "To be able to convert both the ram and screen_size columns to numeric dtypes, we'll have to first remove the non-digit characters, GB and \", respectively."
   ]
  },
  {
   "attachments": {
    "image.png": {
     "image/png": "[encoded data removed]"
    }
   },
   "cell_type": "markdown",
   "id": "b2ec0901",
   "metadata": {},
   "source": [
    "![image.png](attachment:image.png)"
   ]
  },
  {
   "cell_type": "markdown",
   "id": "2f872240",
   "metadata": {},
   "source": [
    "Thankfully, the pandas library contains dozens of [vectorized string methods](https://pandas.pydata.org/pandas-docs/stable/user_guide/text.html#method-summary) we can use to manipulate text data. Many of them perform the same operations as the Python string methods we've used already. Most pandas vectorized string methods are available using the [Series.str accessor](http://pandas.pydata.org/pandas-docs/stable/api.html#string-handling). This means we can access them by adding str between the series object name and the method name:"
   ]
  },
  {
   "attachments": {
    "image.png": {
     "image/png": "[encoded data removed]"
    }
   },
   "cell_type": "markdown",
   "id": "85b7e5d3",
   "metadata": {},
   "source": [
    "![image.png](attachment:image.png)"
   ]
  },
  {
   "cell_type": "markdown",
   "id": "e164f41f",
   "metadata": {},
   "source": [
    "In our case, we can use the Series.str.replace() method, which is a vectorized version of the Python str.replace() method we used earlier when cleaning up column labels. Here's how we use it to clean up the screen_size column:"
   ]
  },
  {
   "cell_type": "code",
   "execution_count": 28,
   "id": "d87ebb20",
   "metadata": {},
   "outputs": [
    {
     "name": "stdout",
     "output_type": "stream",
     "text": [
      "['13.3' '15.6' '15.4' '14.0' '12.0' '11.6' '17.3' '10.1' '13.5' '12.5'\n",
      " '13.0' '18.4' '13.9' '12.3' '17.0' '15.0' '14.1' '11.3']\n",
      "`screen_size` dtype: object\n"
     ]
    }
   ],
   "source": [
    "laptops[\"screen_size\"] = laptops[\"screen_size\"].str.replace('\"', '')\n",
    "print(laptops[\"screen_size\"].unique())\n",
    "print(\"`screen_size` dtype:\", laptops[\"screen_size\"].dtype)"
   ]
  },
  {
   "cell_type": "markdown",
   "id": "f01b4cb0",
   "metadata": {},
   "source": [
    "Although screen_size still has an object dtype, the unique string values it contains are clearly ready to be converted to numeric values. "
   ]
  },
  {
   "cell_type": "markdown",
   "id": "a1e336db",
   "metadata": {},
   "source": [
    "We'll handle that step on the following screen."
   ]
  },
  {
   "cell_type": "markdown",
   "id": "e92ca8b7",
   "metadata": {},
   "source": [
    "But first, let's remove the non-digit characters from the ram column like we've done for the screen_size column in the provided code."
   ]
  },
  {
   "cell_type": "code",
   "execution_count": 32,
   "id": "b1c5de4b",
   "metadata": {},
   "outputs": [
    {
     "data": {
      "text/plain": [
       "array(['8', '16', '4', '2', '12', '6', '32', '24', '64'], dtype=object)"
      ]
     },
     "execution_count": 32,
     "metadata": {},
     "output_type": "execute_result"
    }
   ],
   "source": [
    "laptops['ram'] = laptops['ram'].str.replace('GB', '')\n",
    "laptops['ram'].unique()"
   ]
  },
  {
   "cell_type": "markdown",
   "id": "c99e645f",
   "metadata": {},
   "source": [
    "## Converting Columns to Numeric dtypes"
   ]
  },
  {
   "cell_type": "markdown",
   "id": "4eee4de3",
   "metadata": {},
   "source": [
    "Now, we can convert the columns to a numeric dtype. This is also referred to as type casting or changing the data type."
   ]
  },
  {
   "attachments": {
    "image.png": {
     "image/png": "[encoded data removed]"
    }
   },
   "cell_type": "markdown",
   "id": "6d70f066",
   "metadata": {},
   "source": [
    "![image.png](attachment:image.png)"
   ]
  },
  {
   "cell_type": "markdown",
   "id": "b5193172",
   "metadata": {},
   "source": [
    "To do this, we use the Series.astype() method. To convert the column to a numeric dtype, we can pass either int or float as the argument for the method. Since the int dtype can't handle decimal values, we'll convert the screen_size column to the float dtype:"
   ]
  },
  {
   "cell_type": "code",
   "execution_count": 33,
   "id": "fbe92425",
   "metadata": {},
   "outputs": [
    {
     "name": "stdout",
     "output_type": "stream",
     "text": [
      "[13.3 15.6 15.4 14.  12.  11.6 17.3 10.1 13.5 12.5 13.  18.4 13.9 12.3\n",
      " 17.  15.  14.1 11.3]\n",
      "`screen_size` dtype: float64\n"
     ]
    }
   ],
   "source": [
    "laptops[\"screen_size\"] = laptops[\"screen_size\"].astype(float)\n",
    "print(laptops[\"screen_size\"].unique())\n",
    "print(\"`screen_size` dtype:\", laptops[\"screen_size\"].dtype)"
   ]
  },
  {
   "cell_type": "markdown",
   "id": "8a0ed036",
   "metadata": {},
   "source": [
    "Our screen_size column is now the float64 dtype. Let's convert the dtype of the ram column to numeric next."
   ]
  },
  {
   "cell_type": "code",
   "execution_count": 35,
   "id": "22e8e36b",
   "metadata": {},
   "outputs": [
    {
     "data": {
      "text/plain": [
       "array([ 8., 16.,  4.,  2., 12.,  6., 32., 24., 64.])"
      ]
     },
     "execution_count": 35,
     "metadata": {},
     "output_type": "execute_result"
    }
   ],
   "source": [
    "laptops['ram'] = laptops['ram'].astype(float)\n",
    "laptops['ram'].unique()"
   ]
  },
  {
   "cell_type": "code",
   "execution_count": 36,
   "id": "9216e74f",
   "metadata": {
    "scrolled": true
   },
   "outputs": [
    {
     "data": {
      "text/plain": [
       "manufacturer     object\n",
       "model_name       object\n",
       "category         object\n",
       "screen_size     float64\n",
       "screen           object\n",
       "cpu              object\n",
       "ram             float64\n",
       "storage          object\n",
       "gpu              object\n",
       "os               object\n",
       "os_version       object\n",
       "weight           object\n",
       "price_euros      object\n",
       "scr              object\n",
       "dtype: object"
      ]
     },
     "execution_count": 36,
     "metadata": {},
     "output_type": "execute_result"
    }
   ],
   "source": [
    "laptops.dtypes"
   ]
  },
  {
   "cell_type": "code",
   "execution_count": null,
   "id": "0fb50e98",
   "metadata": {},
   "outputs": [],
   "source": []
  }
 ],
 "metadata": {
  "kernelspec": {
   "display_name": "Python 3 (ipykernel)",
   "language": "python",
   "name": "python3"
  },
  "language_info": {
   "codemirror_mode": {
    "name": "ipython",
    "version": 3
   },
   "file_extension": ".py",
   "mimetype": "text/x-python",
   "name": "python",
   "nbconvert_exporter": "python",
   "pygments_lexer": "ipython3",
   "version": "3.11.5"
  }
 },
 "nbformat": 4,
 "nbformat_minor": 5
}
