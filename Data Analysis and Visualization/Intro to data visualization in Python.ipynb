{
 "cells": [
  {
   "cell_type": "markdown",
   "id": "4bdbe870",
   "metadata": {},
   "source": [
    "## Line Graphs and Time Series"
   ]
  },
  {
   "cell_type": "markdown",
   "id": "7ff20036",
   "metadata": {},
   "source": [
    "At the heart of any data science workflow is data exploration. Most commonly, we explore data by using the following:"
   ]
  },
  {
   "cell_type": "markdown",
   "id": "12672904",
   "metadata": {},
   "source": [
    "- Statistical methods (measuring averages, measuring variability, etc.)\n",
    "- Data visualization (transforming data into a visual form)"
   ]
  },
  {
   "cell_type": "markdown",
   "id": "7ba9a499",
   "metadata": {},
   "source": [
    "This indicates that one of the central tasks of data visualization is to help us explore data.\n",
    "\n",
    "The other central task is to help us communicate and explain the results we've found through exploring data. That being said, we have two kinds of data visualization:"
   ]
  },
  {
   "cell_type": "code",
   "execution_count": null,
   "id": "6565bedf",
   "metadata": {},
   "outputs": [],
   "source": []
  }
 ],
 "metadata": {
  "kernelspec": {
   "display_name": "Python 3 (ipykernel)",
   "language": "python",
   "name": "python3"
  },
  "language_info": {
   "codemirror_mode": {
    "name": "ipython",
    "version": 3
   },
   "file_extension": ".py",
   "mimetype": "text/x-python",
   "name": "python",
   "nbconvert_exporter": "python",
   "pygments_lexer": "ipython3",
   "version": "3.11.5"
  }
 },
 "nbformat": 4,
 "nbformat_minor": 5
}
