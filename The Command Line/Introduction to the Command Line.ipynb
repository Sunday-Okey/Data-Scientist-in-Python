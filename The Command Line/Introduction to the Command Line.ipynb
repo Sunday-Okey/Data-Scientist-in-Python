{
 "cells": [
  {
   "cell_type": "markdown",
   "id": "68ab1ea9-ef46-44a8-a20d-89ec0f68de19",
   "metadata": {},
   "source": [
    "## What Is the Command Line?"
   ]
  },
  {
   "cell_type": "markdown",
   "id": "49258be3-80fd-42f7-a4e5-8fd79d746520",
   "metadata": {},
   "source": [
    "The command line. What is it, and why is it so important? In this lesson, we'll answer a few fundamental questions, including the following:"
   ]
  },
  {
   "cell_type": "markdown",
   "id": "3b3ab550-df46-4d80-95c8-8156f85cb1ee",
   "metadata": {},
   "source": [
    "- What is the command line?\n",
    "- Why is it important?\n",
    "- How do we use it?"
   ]
  },
  {
   "cell_type": "markdown",
   "id": "1fc13f49-1d7b-4ba6-8048-bbfc1e07e015",
   "metadata": {},
   "source": [
    "We've provided many hyperlinks in this lesson in case you want to explore anything we introduce in more detail, but it's not necessary to read them to complete this lesson. We recommend that you wait to explore the hyperlinks until after you've completed the lesson."
   ]
  },
  {
   "cell_type": "markdown",
   "id": "3ecfa5ff-9535-4ea8-a405-0e79ca70e64c",
   "metadata": {},
   "source": [
    "Let's get started!"
   ]
  },
  {
   "cell_type": "markdown",
   "id": "5754e373-f56e-41e0-9a21-0e4b7f155d2a",
   "metadata": {},
   "source": [
    "Most people interact with computers using [graphical user interfaces](https://en.wikipedia.org/wiki/Graphical_user_interface) (GUIs). A GUI is an interface that allows its users to interact with computers using icons and [pointing devices](https://en.wikipedia.org/wiki/Pointing_device), like mouses and track pads."
   ]
  },
  {
   "cell_type": "markdown",
   "id": "20ce8b5d-c963-4488-81cf-5294676f7160",
   "metadata": {},
   "source": [
    "Examples of GUIs include familiar operating systems like Android (phones are computers, too!), iOS, OS X, Ubuntu, and Windows, as well as the most popular internet browsers like Google Chrome and Mozilla Firefox — even the Dataquest platform you're using now!"
   ]
  },
  {
   "cell_type": "markdown",
   "id": "adabb618-7fe0-41e5-aaff-cb404c4e72f6",
   "metadata": {},
   "source": [
    "Below are some screenshots of GUIs. We can see on the left a file explorer on an Android phone, and on the right, we can see the desktop of a laptop running Ubuntu - both of which are based on the [Linux kernel](https://en.wikipedia.org/wiki/Linux_kernel) (the computer program that makes Linux what it is).\r\n",
    "\r\n"
   ]
  },
  {
   "cell_type": "markdown",
   "id": "45d3e481-8657-4adf-9888-7fcfc22f4249",
   "metadata": {},
   "source": [
    "But people haven't always interacted with computers this way. Historically, when computers were expensive, monstrosities only owned by large institutions and shared by multiple people, we worked on computers using [command-line interfaces](https://en.wikipedia.org/wiki/Command-line_interface) (CLIs). A CLI is a text-only interface into which users type text-based instructions in a [console](http://www.linfo.org/console.html) (or terminal), using specific syntax."
   ]
  },
  {
   "cell_type": "markdown",
   "id": "e1626ebc-e5d8-47c7-88de-a2d6241ca11e",
   "metadata": {},
   "source": [
    "As computers became more common, we began [emulating terminals](https://en.wikipedia.org/wiki/Terminal_emulator) within GUIs (also known as a terminal window or just a terminal). These terminal emulators look like the window you see on the right side of the following screenshot. On the left, we see a browser window — another GUI."
   ]
  },
  {
   "cell_type": "markdown",
   "id": "b641fc51-3c95-40d1-b4f9-d7f38f2a4ec1",
   "metadata": {},
   "source": [
    "The instructions mentioned above are commands, which, once input, are [interpreted](https://en.wikipedia.org/wiki/Interpreter_(computing)) by a type of program called a [shell](https://en.wikipedia.org/wiki/Shell_(computing)) or command language interpreter, and then your machine runs the commands. Some of the most popular shells are Bash, Z shell, KornShell, Command Prompt, and Windows PowerShell. If you have installed Anaconda on Windows, then you might have noticed one of its programs is Anaconda Prompt, which is another shell. It's basically the Command Prompt with a few settings on top."
   ]
  },
  {
   "cell_type": "markdown",
   "id": "c2fb8956-ad08-40e5-9969-ce8d2fae15a6",
   "metadata": {},
   "source": [
    "Even though they don't all mean the same thing, the terms command-line interface, command language interpreter, shell, console, terminal window, are all interchangeable."
   ]
  },
  {
   "cell_type": "markdown",
   "id": "b94f01c9-ce27-478e-bd6d-7be4ad59dcdc",
   "metadata": {},
   "source": [
    "The most common operating systems for laptops and desktop computers are Linux, OS X and Windows, and they all come equipped with a terminal. Linux and OS X are Unix-like (or *nix) operating systems; that means they behave like Unix (an old, still-in-use operating system), and this similarity is shared by their respective command language interpreters, whereas Windows' shells are very different from the others."
   ]
  },
  {
   "cell_type": "markdown",
   "id": "6b0ea8e6-2f9c-4107-852d-a5b33c0ee569",
   "metadata": {},
   "source": [
    "Because it's more common to use Unix-like operating systems in data science, in this lesson, we'll use a Unix shell called Bash. It's also possible to run Unix shells on Windows by using a compatibility layer like Windows Subsystem for Linux (displayed in the screenshot above) — an official Windows tool, if you're using Windows 10 and have a 64-bit CPU, or Cygwin. (You can access our installation guides for these tools here and here.) If you're using Windows, we recommend you wait until the end of the lesson before installing one of these alternatives."
   ]
  },
  {
   "cell_type": "markdown",
   "id": "e80fbfb3-ebdb-4054-9115-fc4af34107b8",
   "metadata": {},
   "source": [
    "Despite the fact that Unix shells are very similar, there are still some differences between them. In order to ensure that what you learn here is as universally applicable as possible, we'll focus on learning portable commands, by following a set of standards for Unix-like operating systems called POSIX. This way, we'll actually be studying several shells simultaneously. We'll let you know when a command isn't POSIX-compliant."
   ]
  },
  {
   "cell_type": "markdown",
   "id": "52fd95f2-8348-4e0c-9723-733ac9f32dc9",
   "metadata": {},
   "source": [
    "Now that you know about the CLI is, let's talk about why you should learn it.\r\n",
    "\r\n",
    "\r\n"
   ]
  },
  {
   "cell_type": "code",
   "execution_count": null,
   "id": "5e4ae9cd-f7da-428f-b161-61e90d4ea9fe",
   "metadata": {},
   "outputs": [],
   "source": []
  }
 ],
 "metadata": {
  "kernelspec": {
   "display_name": "",
   "name": ""
  },
  "language_info": {
   "name": ""
  }
 },
 "nbformat": 4,
 "nbformat_minor": 5
}
