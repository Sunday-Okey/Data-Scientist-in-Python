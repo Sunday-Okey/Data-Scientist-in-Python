{
 "cells": [
  {
   "cell_type": "markdown",
   "id": "04937cd8-9507-4948-901b-d15f074ad8b2",
   "metadata": {},
   "source": [
    "# Introduction to K-Nearest Neighbors"
   ]
  },
  {
   "cell_type": "markdown",
   "id": "4ee9db30-f895-4d4f-bf54-0ba1e2413d2d",
   "metadata": {},
   "source": [
    "## Introduction to the Dataset"
   ]
  },
  {
   "cell_type": "markdown",
   "id": "7614e5b4-5b94-4e3a-8f3a-20a8eca97b27",
   "metadata": {},
   "source": [
    "In the previous lesson, we looked at the machine learning workflow and trained a simple classifier to predict if a patient has breast cancer. We learned how we can quickly prototype a machine learning model and experiment with it to get reasonable results."
   ]
  },
  {
   "attachments": {
    "5982c7df-f2b1-492b-a5fe-a5874cb597aa.png": {
     "image/png": "[encoded data removed]"
    }
   },
   "cell_type": "markdown",
   "id": "7cfd4e82-98e8-4eb5-bacb-3b0cdf52186a",
   "metadata": {},
   "source": [
    "![image.png](attachment:5982c7df-f2b1-492b-a5fe-a5874cb597aa.png)"
   ]
  },
  {
   "cell_type": "markdown",
   "id": "75a44ed3-0889-48dd-a4aa-970cf2fc000b",
   "metadata": {},
   "source": [
    "While there is a benefit to being able to quickly experiment and iterate, not understanding how the algorithm for a model actually works can impact the outcome of those random experiments."
   ]
  },
  {
   "cell_type": "markdown",
   "id": "59678120-58e2-4aa8-8d8d-f94b447d9ac9",
   "metadata": {},
   "source": [
    "In this lesson, we'll learn a different machine learning algorithm and implement it from scratch. We'll use it to build and train a classifier that can predict whether a bank customer will subscribe to a term deposit or not."
   ]
  },
  {
   "cell_type": "markdown",
   "id": "aea7bb50-3683-4065-a5e1-9e599fbb37fe",
   "metadata": {},
   "source": [
    "We'll use a modified version of the [Bank Marketing Dataset](https://archive.ics.uci.edu/ml/datasets/bank+marketing). It contains data on customers of a Portuguese banking institution that ran marketing campaigns to assess whether customers would subscribe to their product. The dataset consists of 21 columns, including the target variable:\r\n",
    "\r\n"
   ]
  },
  {
   "cell_type": "markdown",
   "id": "2f800106-cb0d-4831-b957-95eaa9387572",
   "metadata": {},
   "source": [
    "- age: (numeric)\n",
    "- job: type of job (categorical: 'admin','blue collar','entrepreneur','housemaid','management','retired','self employed','services','student','technician','unemployed','unknown')\n",
    "- marital: marital status (categorical: 'divorced','married','single','unknown'; note: 'divorced' means divorced or widowed)\n",
    "- education: (categorical: 'basic.4y','basic.6y','basic.9y','high.school','illiterate','professional.course','university.degree','unknown')\n",
    "- default: has credit in default? (categorical: 'no','yes','unknown')\n",
    "- housing: has housing loan? (categorical: 'no','yes','unknown')\n",
    "- loan: has personal loan? (categorical: 'no','yes','unknown')\n",
    "- contact: contact communication type (categorical: 'cellular','telephone')\n",
    "- month: last contact month of year (categorical: 'jan', 'feb', 'mar', ..., 'nov', 'dec')\n",
    "- day_of_week: last contact day of the week (categorical: 'mon','tue','wed','thu','fri')\n",
    "- duration: last contact duration, in seconds (numeric).\n",
    "- campaign: number of contacts performed during this campaign and for this client (numeric, includes last contact)\n",
    "- pdays: number of days that passed by after the client was last contacted from a previous campaign (numeric; 999 means client was not previously contacted)\n",
    "- previous: number of contacts performed before this campaign and for this client (numeric)\n",
    "- poutcome: outcome of the previous marketing campaign (categorical: 'failure','nonexistent','success')\n",
    "- emp.var.rate: employment variation rate - quarterly indicator (numeric)\n",
    "- cons.price.idx: consumer price index - monthly indicator (numeric)\n",
    "- cons.conf.idx: consumer confidence index - monthly indicator (numeric)\n",
    "- euribor3m: euribor 3 month rate - daily indicator (numeric)\n",
    "- nr.employed: number of employees - quarterly indicator (numeric)\n",
    "- y: has the client subscribed a term deposit? (binary: 'yes','no')"
   ]
  },
  {
   "cell_type": "code",
   "execution_count": 1,
   "id": "3c2917db-bcd7-48e1-a1a6-1435f7450569",
   "metadata": {},
   "outputs": [],
   "source": [
    "import pandas as pd\n",
    "import numpy as np\n",
    "import matplotlib.pyplot as plt"
   ]
  },
  {
   "cell_type": "code",
   "execution_count": 2,
   "id": "b0144fe0-5e9d-4410-9c90-6a95823a3404",
   "metadata": {},
   "outputs": [
    {
     "data": {
      "text/html": [
       "<div>\n",
       "<style scoped>\n",
       "    .dataframe tbody tr th:only-of-type {\n",
       "        vertical-align: middle;\n",
       "    }\n",
       "\n",
       "    .dataframe tbody tr th {\n",
       "        vertical-align: top;\n",
       "    }\n",
       "\n",
       "    .dataframe thead th {\n",
       "        text-align: right;\n",
       "    }\n",
       "</style>\n",
       "<table border=\"1\" class=\"dataframe\">\n",
       "  <thead>\n",
       "    <tr style=\"text-align: right;\">\n",
       "      <th></th>\n",
       "      <th>age</th>\n",
       "      <th>job</th>\n",
       "      <th>marital</th>\n",
       "      <th>education</th>\n",
       "      <th>default</th>\n",
       "      <th>housing</th>\n",
       "      <th>loan</th>\n",
       "      <th>contact</th>\n",
       "      <th>month</th>\n",
       "      <th>day_of_week</th>\n",
       "      <th>...</th>\n",
       "      <th>campaign</th>\n",
       "      <th>pdays</th>\n",
       "      <th>previous</th>\n",
       "      <th>poutcome</th>\n",
       "      <th>emp.var.rate</th>\n",
       "      <th>cons.price.idx</th>\n",
       "      <th>cons.conf.idx</th>\n",
       "      <th>euribor3m</th>\n",
       "      <th>nr.employed</th>\n",
       "      <th>y</th>\n",
       "    </tr>\n",
       "  </thead>\n",
       "  <tbody>\n",
       "    <tr>\n",
       "      <th>0</th>\n",
       "      <td>40</td>\n",
       "      <td>admin.</td>\n",
       "      <td>married</td>\n",
       "      <td>basic.6y</td>\n",
       "      <td>no</td>\n",
       "      <td>no</td>\n",
       "      <td>no</td>\n",
       "      <td>telephone</td>\n",
       "      <td>may</td>\n",
       "      <td>mon</td>\n",
       "      <td>...</td>\n",
       "      <td>1</td>\n",
       "      <td>999</td>\n",
       "      <td>0</td>\n",
       "      <td>nonexistent</td>\n",
       "      <td>1.1</td>\n",
       "      <td>93.994</td>\n",
       "      <td>-36.4</td>\n",
       "      <td>4.857</td>\n",
       "      <td>5191.0</td>\n",
       "      <td>no</td>\n",
       "    </tr>\n",
       "    <tr>\n",
       "      <th>1</th>\n",
       "      <td>56</td>\n",
       "      <td>services</td>\n",
       "      <td>married</td>\n",
       "      <td>high.school</td>\n",
       "      <td>no</td>\n",
       "      <td>no</td>\n",
       "      <td>yes</td>\n",
       "      <td>telephone</td>\n",
       "      <td>may</td>\n",
       "      <td>mon</td>\n",
       "      <td>...</td>\n",
       "      <td>1</td>\n",
       "      <td>999</td>\n",
       "      <td>0</td>\n",
       "      <td>nonexistent</td>\n",
       "      <td>1.1</td>\n",
       "      <td>93.994</td>\n",
       "      <td>-36.4</td>\n",
       "      <td>4.857</td>\n",
       "      <td>5191.0</td>\n",
       "      <td>no</td>\n",
       "    </tr>\n",
       "    <tr>\n",
       "      <th>2</th>\n",
       "      <td>41</td>\n",
       "      <td>blue-collar</td>\n",
       "      <td>married</td>\n",
       "      <td>unknown</td>\n",
       "      <td>unknown</td>\n",
       "      <td>no</td>\n",
       "      <td>no</td>\n",
       "      <td>telephone</td>\n",
       "      <td>may</td>\n",
       "      <td>mon</td>\n",
       "      <td>...</td>\n",
       "      <td>1</td>\n",
       "      <td>999</td>\n",
       "      <td>0</td>\n",
       "      <td>nonexistent</td>\n",
       "      <td>1.1</td>\n",
       "      <td>93.994</td>\n",
       "      <td>-36.4</td>\n",
       "      <td>4.857</td>\n",
       "      <td>5191.0</td>\n",
       "      <td>no</td>\n",
       "    </tr>\n",
       "    <tr>\n",
       "      <th>3</th>\n",
       "      <td>57</td>\n",
       "      <td>housemaid</td>\n",
       "      <td>divorced</td>\n",
       "      <td>basic.4y</td>\n",
       "      <td>no</td>\n",
       "      <td>yes</td>\n",
       "      <td>no</td>\n",
       "      <td>telephone</td>\n",
       "      <td>may</td>\n",
       "      <td>mon</td>\n",
       "      <td>...</td>\n",
       "      <td>1</td>\n",
       "      <td>999</td>\n",
       "      <td>0</td>\n",
       "      <td>nonexistent</td>\n",
       "      <td>1.1</td>\n",
       "      <td>93.994</td>\n",
       "      <td>-36.4</td>\n",
       "      <td>4.857</td>\n",
       "      <td>5191.0</td>\n",
       "      <td>no</td>\n",
       "    </tr>\n",
       "    <tr>\n",
       "      <th>4</th>\n",
       "      <td>39</td>\n",
       "      <td>management</td>\n",
       "      <td>single</td>\n",
       "      <td>basic.9y</td>\n",
       "      <td>unknown</td>\n",
       "      <td>no</td>\n",
       "      <td>no</td>\n",
       "      <td>telephone</td>\n",
       "      <td>may</td>\n",
       "      <td>mon</td>\n",
       "      <td>...</td>\n",
       "      <td>1</td>\n",
       "      <td>999</td>\n",
       "      <td>0</td>\n",
       "      <td>nonexistent</td>\n",
       "      <td>1.1</td>\n",
       "      <td>93.994</td>\n",
       "      <td>-36.4</td>\n",
       "      <td>4.857</td>\n",
       "      <td>5191.0</td>\n",
       "      <td>no</td>\n",
       "    </tr>\n",
       "  </tbody>\n",
       "</table>\n",
       "<p>5 rows × 21 columns</p>\n",
       "</div>"
      ],
      "text/plain": [
       "   age          job   marital    education  default housing loan    contact  \\\n",
       "0   40       admin.   married     basic.6y       no      no   no  telephone   \n",
       "1   56     services   married  high.school       no      no  yes  telephone   \n",
       "2   41  blue-collar   married      unknown  unknown      no   no  telephone   \n",
       "3   57    housemaid  divorced     basic.4y       no     yes   no  telephone   \n",
       "4   39   management    single     basic.9y  unknown      no   no  telephone   \n",
       "\n",
       "  month day_of_week  ...  campaign  pdays  previous     poutcome emp.var.rate  \\\n",
       "0   may         mon  ...         1    999         0  nonexistent          1.1   \n",
       "1   may         mon  ...         1    999         0  nonexistent          1.1   \n",
       "2   may         mon  ...         1    999         0  nonexistent          1.1   \n",
       "3   may         mon  ...         1    999         0  nonexistent          1.1   \n",
       "4   may         mon  ...         1    999         0  nonexistent          1.1   \n",
       "\n",
       "   cons.price.idx  cons.conf.idx  euribor3m  nr.employed   y  \n",
       "0          93.994          -36.4      4.857       5191.0  no  \n",
       "1          93.994          -36.4      4.857       5191.0  no  \n",
       "2          93.994          -36.4      4.857       5191.0  no  \n",
       "3          93.994          -36.4      4.857       5191.0  no  \n",
       "4          93.994          -36.4      4.857       5191.0  no  \n",
       "\n",
       "[5 rows x 21 columns]"
      ]
     },
     "execution_count": 2,
     "metadata": {},
     "output_type": "execute_result"
    }
   ],
   "source": [
    "banking_df = pd.read_csv('../../Datasets/subscription_prediction.csv')\n",
    "banking_df.head()"
   ]
  },
  {
   "cell_type": "code",
   "execution_count": 3,
   "id": "48f3c2f7-be30-46cc-b1b5-2c6993b429df",
   "metadata": {},
   "outputs": [
    {
     "data": {
      "text/html": [
       "<div>\n",
       "<style scoped>\n",
       "    .dataframe tbody tr th:only-of-type {\n",
       "        vertical-align: middle;\n",
       "    }\n",
       "\n",
       "    .dataframe tbody tr th {\n",
       "        vertical-align: top;\n",
       "    }\n",
       "\n",
       "    .dataframe thead th {\n",
       "        text-align: right;\n",
       "    }\n",
       "</style>\n",
       "<table border=\"1\" class=\"dataframe\">\n",
       "  <thead>\n",
       "    <tr style=\"text-align: right;\">\n",
       "      <th></th>\n",
       "      <th>job</th>\n",
       "      <th>marital</th>\n",
       "      <th>education</th>\n",
       "      <th>default</th>\n",
       "      <th>housing</th>\n",
       "      <th>loan</th>\n",
       "      <th>contact</th>\n",
       "      <th>month</th>\n",
       "      <th>day_of_week</th>\n",
       "      <th>poutcome</th>\n",
       "      <th>y</th>\n",
       "    </tr>\n",
       "  </thead>\n",
       "  <tbody>\n",
       "    <tr>\n",
       "      <th>0</th>\n",
       "      <td>admin.</td>\n",
       "      <td>married</td>\n",
       "      <td>basic.6y</td>\n",
       "      <td>no</td>\n",
       "      <td>no</td>\n",
       "      <td>no</td>\n",
       "      <td>telephone</td>\n",
       "      <td>may</td>\n",
       "      <td>mon</td>\n",
       "      <td>nonexistent</td>\n",
       "      <td>no</td>\n",
       "    </tr>\n",
       "    <tr>\n",
       "      <th>1</th>\n",
       "      <td>services</td>\n",
       "      <td>married</td>\n",
       "      <td>high.school</td>\n",
       "      <td>no</td>\n",
       "      <td>no</td>\n",
       "      <td>yes</td>\n",
       "      <td>telephone</td>\n",
       "      <td>may</td>\n",
       "      <td>mon</td>\n",
       "      <td>nonexistent</td>\n",
       "      <td>no</td>\n",
       "    </tr>\n",
       "    <tr>\n",
       "      <th>2</th>\n",
       "      <td>blue-collar</td>\n",
       "      <td>married</td>\n",
       "      <td>unknown</td>\n",
       "      <td>unknown</td>\n",
       "      <td>no</td>\n",
       "      <td>no</td>\n",
       "      <td>telephone</td>\n",
       "      <td>may</td>\n",
       "      <td>mon</td>\n",
       "      <td>nonexistent</td>\n",
       "      <td>no</td>\n",
       "    </tr>\n",
       "    <tr>\n",
       "      <th>3</th>\n",
       "      <td>housemaid</td>\n",
       "      <td>divorced</td>\n",
       "      <td>basic.4y</td>\n",
       "      <td>no</td>\n",
       "      <td>yes</td>\n",
       "      <td>no</td>\n",
       "      <td>telephone</td>\n",
       "      <td>may</td>\n",
       "      <td>mon</td>\n",
       "      <td>nonexistent</td>\n",
       "      <td>no</td>\n",
       "    </tr>\n",
       "    <tr>\n",
       "      <th>4</th>\n",
       "      <td>management</td>\n",
       "      <td>single</td>\n",
       "      <td>basic.9y</td>\n",
       "      <td>unknown</td>\n",
       "      <td>no</td>\n",
       "      <td>no</td>\n",
       "      <td>telephone</td>\n",
       "      <td>may</td>\n",
       "      <td>mon</td>\n",
       "      <td>nonexistent</td>\n",
       "      <td>no</td>\n",
       "    </tr>\n",
       "    <tr>\n",
       "      <th>...</th>\n",
       "      <td>...</td>\n",
       "      <td>...</td>\n",
       "      <td>...</td>\n",
       "      <td>...</td>\n",
       "      <td>...</td>\n",
       "      <td>...</td>\n",
       "      <td>...</td>\n",
       "      <td>...</td>\n",
       "      <td>...</td>\n",
       "      <td>...</td>\n",
       "      <td>...</td>\n",
       "    </tr>\n",
       "    <tr>\n",
       "      <th>10117</th>\n",
       "      <td>retired</td>\n",
       "      <td>divorced</td>\n",
       "      <td>professional.course</td>\n",
       "      <td>no</td>\n",
       "      <td>yes</td>\n",
       "      <td>no</td>\n",
       "      <td>cellular</td>\n",
       "      <td>nov</td>\n",
       "      <td>fri</td>\n",
       "      <td>nonexistent</td>\n",
       "      <td>no</td>\n",
       "    </tr>\n",
       "    <tr>\n",
       "      <th>10118</th>\n",
       "      <td>admin.</td>\n",
       "      <td>married</td>\n",
       "      <td>university.degree</td>\n",
       "      <td>no</td>\n",
       "      <td>yes</td>\n",
       "      <td>no</td>\n",
       "      <td>cellular</td>\n",
       "      <td>nov</td>\n",
       "      <td>fri</td>\n",
       "      <td>nonexistent</td>\n",
       "      <td>yes</td>\n",
       "    </tr>\n",
       "    <tr>\n",
       "      <th>10119</th>\n",
       "      <td>retired</td>\n",
       "      <td>married</td>\n",
       "      <td>professional.course</td>\n",
       "      <td>no</td>\n",
       "      <td>yes</td>\n",
       "      <td>no</td>\n",
       "      <td>cellular</td>\n",
       "      <td>nov</td>\n",
       "      <td>fri</td>\n",
       "      <td>nonexistent</td>\n",
       "      <td>yes</td>\n",
       "    </tr>\n",
       "    <tr>\n",
       "      <th>10120</th>\n",
       "      <td>technician</td>\n",
       "      <td>married</td>\n",
       "      <td>professional.course</td>\n",
       "      <td>no</td>\n",
       "      <td>no</td>\n",
       "      <td>no</td>\n",
       "      <td>cellular</td>\n",
       "      <td>nov</td>\n",
       "      <td>fri</td>\n",
       "      <td>nonexistent</td>\n",
       "      <td>yes</td>\n",
       "    </tr>\n",
       "    <tr>\n",
       "      <th>10121</th>\n",
       "      <td>retired</td>\n",
       "      <td>married</td>\n",
       "      <td>professional.course</td>\n",
       "      <td>no</td>\n",
       "      <td>yes</td>\n",
       "      <td>no</td>\n",
       "      <td>cellular</td>\n",
       "      <td>nov</td>\n",
       "      <td>fri</td>\n",
       "      <td>failure</td>\n",
       "      <td>no</td>\n",
       "    </tr>\n",
       "  </tbody>\n",
       "</table>\n",
       "<p>10122 rows × 11 columns</p>\n",
       "</div>"
      ],
      "text/plain": [
       "               job   marital            education  default housing loan  \\\n",
       "0           admin.   married             basic.6y       no      no   no   \n",
       "1         services   married          high.school       no      no  yes   \n",
       "2      blue-collar   married              unknown  unknown      no   no   \n",
       "3        housemaid  divorced             basic.4y       no     yes   no   \n",
       "4       management    single             basic.9y  unknown      no   no   \n",
       "...            ...       ...                  ...      ...     ...  ...   \n",
       "10117      retired  divorced  professional.course       no     yes   no   \n",
       "10118       admin.   married    university.degree       no     yes   no   \n",
       "10119      retired   married  professional.course       no     yes   no   \n",
       "10120   technician   married  professional.course       no      no   no   \n",
       "10121      retired   married  professional.course       no     yes   no   \n",
       "\n",
       "         contact month day_of_week     poutcome    y  \n",
       "0      telephone   may         mon  nonexistent   no  \n",
       "1      telephone   may         mon  nonexistent   no  \n",
       "2      telephone   may         mon  nonexistent   no  \n",
       "3      telephone   may         mon  nonexistent   no  \n",
       "4      telephone   may         mon  nonexistent   no  \n",
       "...          ...   ...         ...          ...  ...  \n",
       "10117   cellular   nov         fri  nonexistent   no  \n",
       "10118   cellular   nov         fri  nonexistent  yes  \n",
       "10119   cellular   nov         fri  nonexistent  yes  \n",
       "10120   cellular   nov         fri  nonexistent  yes  \n",
       "10121   cellular   nov         fri      failure   no  \n",
       "\n",
       "[10122 rows x 11 columns]"
      ]
     },
     "execution_count": 3,
     "metadata": {},
     "output_type": "execute_result"
    }
   ],
   "source": [
    "# Select the categorical features\n",
    "banking_df.select_dtypes(include='O')"
   ]
  },
  {
   "cell_type": "code",
   "execution_count": 4,
   "id": "9a8a9094-5e3b-4890-ac76-2ea4b3179483",
   "metadata": {},
   "outputs": [
    {
     "data": {
      "text/html": [
       "<div>\n",
       "<style scoped>\n",
       "    .dataframe tbody tr th:only-of-type {\n",
       "        vertical-align: middle;\n",
       "    }\n",
       "\n",
       "    .dataframe tbody tr th {\n",
       "        vertical-align: top;\n",
       "    }\n",
       "\n",
       "    .dataframe thead th {\n",
       "        text-align: right;\n",
       "    }\n",
       "</style>\n",
       "<table border=\"1\" class=\"dataframe\">\n",
       "  <thead>\n",
       "    <tr style=\"text-align: right;\">\n",
       "      <th></th>\n",
       "      <th>age</th>\n",
       "      <th>duration</th>\n",
       "      <th>campaign</th>\n",
       "      <th>pdays</th>\n",
       "      <th>previous</th>\n",
       "      <th>emp.var.rate</th>\n",
       "      <th>cons.price.idx</th>\n",
       "      <th>cons.conf.idx</th>\n",
       "      <th>euribor3m</th>\n",
       "      <th>nr.employed</th>\n",
       "    </tr>\n",
       "  </thead>\n",
       "  <tbody>\n",
       "    <tr>\n",
       "      <th>0</th>\n",
       "      <td>40</td>\n",
       "      <td>151</td>\n",
       "      <td>1</td>\n",
       "      <td>999</td>\n",
       "      <td>0</td>\n",
       "      <td>1.1</td>\n",
       "      <td>93.994</td>\n",
       "      <td>-36.4</td>\n",
       "      <td>4.857</td>\n",
       "      <td>5191.0</td>\n",
       "    </tr>\n",
       "    <tr>\n",
       "      <th>1</th>\n",
       "      <td>56</td>\n",
       "      <td>307</td>\n",
       "      <td>1</td>\n",
       "      <td>999</td>\n",
       "      <td>0</td>\n",
       "      <td>1.1</td>\n",
       "      <td>93.994</td>\n",
       "      <td>-36.4</td>\n",
       "      <td>4.857</td>\n",
       "      <td>5191.0</td>\n",
       "    </tr>\n",
       "    <tr>\n",
       "      <th>2</th>\n",
       "      <td>41</td>\n",
       "      <td>217</td>\n",
       "      <td>1</td>\n",
       "      <td>999</td>\n",
       "      <td>0</td>\n",
       "      <td>1.1</td>\n",
       "      <td>93.994</td>\n",
       "      <td>-36.4</td>\n",
       "      <td>4.857</td>\n",
       "      <td>5191.0</td>\n",
       "    </tr>\n",
       "    <tr>\n",
       "      <th>3</th>\n",
       "      <td>57</td>\n",
       "      <td>293</td>\n",
       "      <td>1</td>\n",
       "      <td>999</td>\n",
       "      <td>0</td>\n",
       "      <td>1.1</td>\n",
       "      <td>93.994</td>\n",
       "      <td>-36.4</td>\n",
       "      <td>4.857</td>\n",
       "      <td>5191.0</td>\n",
       "    </tr>\n",
       "    <tr>\n",
       "      <th>4</th>\n",
       "      <td>39</td>\n",
       "      <td>195</td>\n",
       "      <td>1</td>\n",
       "      <td>999</td>\n",
       "      <td>0</td>\n",
       "      <td>1.1</td>\n",
       "      <td>93.994</td>\n",
       "      <td>-36.4</td>\n",
       "      <td>4.857</td>\n",
       "      <td>5191.0</td>\n",
       "    </tr>\n",
       "    <tr>\n",
       "      <th>...</th>\n",
       "      <td>...</td>\n",
       "      <td>...</td>\n",
       "      <td>...</td>\n",
       "      <td>...</td>\n",
       "      <td>...</td>\n",
       "      <td>...</td>\n",
       "      <td>...</td>\n",
       "      <td>...</td>\n",
       "      <td>...</td>\n",
       "      <td>...</td>\n",
       "    </tr>\n",
       "    <tr>\n",
       "      <th>10117</th>\n",
       "      <td>64</td>\n",
       "      <td>151</td>\n",
       "      <td>3</td>\n",
       "      <td>999</td>\n",
       "      <td>0</td>\n",
       "      <td>-1.1</td>\n",
       "      <td>94.767</td>\n",
       "      <td>-50.8</td>\n",
       "      <td>1.028</td>\n",
       "      <td>4963.6</td>\n",
       "    </tr>\n",
       "    <tr>\n",
       "      <th>10118</th>\n",
       "      <td>37</td>\n",
       "      <td>281</td>\n",
       "      <td>1</td>\n",
       "      <td>999</td>\n",
       "      <td>0</td>\n",
       "      <td>-1.1</td>\n",
       "      <td>94.767</td>\n",
       "      <td>-50.8</td>\n",
       "      <td>1.028</td>\n",
       "      <td>4963.6</td>\n",
       "    </tr>\n",
       "    <tr>\n",
       "      <th>10119</th>\n",
       "      <td>73</td>\n",
       "      <td>334</td>\n",
       "      <td>1</td>\n",
       "      <td>999</td>\n",
       "      <td>0</td>\n",
       "      <td>-1.1</td>\n",
       "      <td>94.767</td>\n",
       "      <td>-50.8</td>\n",
       "      <td>1.028</td>\n",
       "      <td>4963.6</td>\n",
       "    </tr>\n",
       "    <tr>\n",
       "      <th>10120</th>\n",
       "      <td>44</td>\n",
       "      <td>442</td>\n",
       "      <td>1</td>\n",
       "      <td>999</td>\n",
       "      <td>0</td>\n",
       "      <td>-1.1</td>\n",
       "      <td>94.767</td>\n",
       "      <td>-50.8</td>\n",
       "      <td>1.028</td>\n",
       "      <td>4963.6</td>\n",
       "    </tr>\n",
       "    <tr>\n",
       "      <th>10121</th>\n",
       "      <td>74</td>\n",
       "      <td>239</td>\n",
       "      <td>3</td>\n",
       "      <td>999</td>\n",
       "      <td>1</td>\n",
       "      <td>-1.1</td>\n",
       "      <td>94.767</td>\n",
       "      <td>-50.8</td>\n",
       "      <td>1.028</td>\n",
       "      <td>4963.6</td>\n",
       "    </tr>\n",
       "  </tbody>\n",
       "</table>\n",
       "<p>10122 rows × 10 columns</p>\n",
       "</div>"
      ],
      "text/plain": [
       "       age  duration  campaign  pdays  previous  emp.var.rate  cons.price.idx  \\\n",
       "0       40       151         1    999         0           1.1          93.994   \n",
       "1       56       307         1    999         0           1.1          93.994   \n",
       "2       41       217         1    999         0           1.1          93.994   \n",
       "3       57       293         1    999         0           1.1          93.994   \n",
       "4       39       195         1    999         0           1.1          93.994   \n",
       "...    ...       ...       ...    ...       ...           ...             ...   \n",
       "10117   64       151         3    999         0          -1.1          94.767   \n",
       "10118   37       281         1    999         0          -1.1          94.767   \n",
       "10119   73       334         1    999         0          -1.1          94.767   \n",
       "10120   44       442         1    999         0          -1.1          94.767   \n",
       "10121   74       239         3    999         1          -1.1          94.767   \n",
       "\n",
       "       cons.conf.idx  euribor3m  nr.employed  \n",
       "0              -36.4      4.857       5191.0  \n",
       "1              -36.4      4.857       5191.0  \n",
       "2              -36.4      4.857       5191.0  \n",
       "3              -36.4      4.857       5191.0  \n",
       "4              -36.4      4.857       5191.0  \n",
       "...              ...        ...          ...  \n",
       "10117          -50.8      1.028       4963.6  \n",
       "10118          -50.8      1.028       4963.6  \n",
       "10119          -50.8      1.028       4963.6  \n",
       "10120          -50.8      1.028       4963.6  \n",
       "10121          -50.8      1.028       4963.6  \n",
       "\n",
       "[10122 rows x 10 columns]"
      ]
     },
     "execution_count": 4,
     "metadata": {},
     "output_type": "execute_result"
    }
   ],
   "source": [
    "# select numerical values\n",
    "banking_df.select_dtypes(exclude='O')"
   ]
  },
  {
   "cell_type": "code",
   "execution_count": 5,
   "id": "7bc63eaa-3d9f-48fb-b677-49b96d90f666",
   "metadata": {},
   "outputs": [
    {
     "data": {
      "text/plain": [
       "object     11\n",
       "int64       5\n",
       "float64     5\n",
       "Name: count, dtype: int64"
      ]
     },
     "execution_count": 5,
     "metadata": {},
     "output_type": "execute_result"
    }
   ],
   "source": [
    "banking_df.dtypes.value_counts()"
   ]
  },
  {
   "cell_type": "code",
   "execution_count": 6,
   "id": "a74d0594-2321-41cd-95f6-3e0727b55030",
   "metadata": {},
   "outputs": [
    {
     "data": {
      "text/plain": [
       "(10122, 21)"
      ]
     },
     "execution_count": 6,
     "metadata": {},
     "output_type": "execute_result"
    }
   ],
   "source": [
    "banking_df.shape"
   ]
  },
  {
   "cell_type": "code",
   "execution_count": 7,
   "id": "536ccccf-2e88-4f75-80a0-f921913921cd",
   "metadata": {},
   "outputs": [
    {
     "data": {
      "text/plain": [
       "age               0\n",
       "job               0\n",
       "marital           0\n",
       "education         0\n",
       "default           0\n",
       "housing           0\n",
       "loan              0\n",
       "contact           0\n",
       "month             0\n",
       "day_of_week       0\n",
       "duration          0\n",
       "campaign          0\n",
       "pdays             0\n",
       "previous          0\n",
       "poutcome          0\n",
       "emp.var.rate      0\n",
       "cons.price.idx    0\n",
       "cons.conf.idx     0\n",
       "euribor3m         0\n",
       "nr.employed       0\n",
       "y                 0\n",
       "dtype: int64"
      ]
     },
     "execution_count": 7,
     "metadata": {},
     "output_type": "execute_result"
    }
   ],
   "source": [
    "# check misssing values\n",
    "banking_df.isnull().sum()"
   ]
  },
  {
   "cell_type": "code",
   "execution_count": 8,
   "id": "f5f5cd53-1de9-457f-80e7-b66fe3280cda",
   "metadata": {},
   "outputs": [
    {
     "data": {
      "text/plain": [
       "y\n",
       "no     5482\n",
       "yes    4640\n",
       "Name: count, dtype: int64"
      ]
     },
     "execution_count": 8,
     "metadata": {},
     "output_type": "execute_result"
    }
   ],
   "source": [
    "banking_df['y'].value_counts()"
   ]
  },
  {
   "cell_type": "code",
   "execution_count": 9,
   "id": "30d733da-ab34-47ef-8c7f-6696c4811a63",
   "metadata": {},
   "outputs": [
    {
     "data": {
      "text/html": [
       "<div>\n",
       "<style scoped>\n",
       "    .dataframe tbody tr th:only-of-type {\n",
       "        vertical-align: middle;\n",
       "    }\n",
       "\n",
       "    .dataframe tbody tr th {\n",
       "        vertical-align: top;\n",
       "    }\n",
       "\n",
       "    .dataframe thead th {\n",
       "        text-align: right;\n",
       "    }\n",
       "</style>\n",
       "<table border=\"1\" class=\"dataframe\">\n",
       "  <thead>\n",
       "    <tr style=\"text-align: right;\">\n",
       "      <th></th>\n",
       "      <th>age</th>\n",
       "      <th>duration</th>\n",
       "      <th>campaign</th>\n",
       "      <th>pdays</th>\n",
       "      <th>previous</th>\n",
       "      <th>emp.var.rate</th>\n",
       "      <th>cons.price.idx</th>\n",
       "      <th>cons.conf.idx</th>\n",
       "      <th>euribor3m</th>\n",
       "      <th>nr.employed</th>\n",
       "    </tr>\n",
       "  </thead>\n",
       "  <tbody>\n",
       "    <tr>\n",
       "      <th>count</th>\n",
       "      <td>10122.000000</td>\n",
       "      <td>10122.000000</td>\n",
       "      <td>10122.000000</td>\n",
       "      <td>10122.000000</td>\n",
       "      <td>10122.000000</td>\n",
       "      <td>10122.000000</td>\n",
       "      <td>10122.000000</td>\n",
       "      <td>10122.000000</td>\n",
       "      <td>10122.000000</td>\n",
       "      <td>10122.000000</td>\n",
       "    </tr>\n",
       "    <tr>\n",
       "      <th>mean</th>\n",
       "      <td>40.313673</td>\n",
       "      <td>373.414049</td>\n",
       "      <td>2.369789</td>\n",
       "      <td>896.476882</td>\n",
       "      <td>0.297471</td>\n",
       "      <td>-0.432671</td>\n",
       "      <td>93.492407</td>\n",
       "      <td>-40.250573</td>\n",
       "      <td>3.035134</td>\n",
       "      <td>5138.838975</td>\n",
       "    </tr>\n",
       "    <tr>\n",
       "      <th>std</th>\n",
       "      <td>11.855014</td>\n",
       "      <td>353.277755</td>\n",
       "      <td>2.472392</td>\n",
       "      <td>302.175859</td>\n",
       "      <td>0.680535</td>\n",
       "      <td>1.714657</td>\n",
       "      <td>0.628615</td>\n",
       "      <td>5.271326</td>\n",
       "      <td>1.884191</td>\n",
       "      <td>85.859595</td>\n",
       "    </tr>\n",
       "    <tr>\n",
       "      <th>min</th>\n",
       "      <td>17.000000</td>\n",
       "      <td>0.000000</td>\n",
       "      <td>1.000000</td>\n",
       "      <td>0.000000</td>\n",
       "      <td>0.000000</td>\n",
       "      <td>-3.400000</td>\n",
       "      <td>92.201000</td>\n",
       "      <td>-50.800000</td>\n",
       "      <td>0.634000</td>\n",
       "      <td>4963.600000</td>\n",
       "    </tr>\n",
       "    <tr>\n",
       "      <th>25%</th>\n",
       "      <td>31.000000</td>\n",
       "      <td>140.000000</td>\n",
       "      <td>1.000000</td>\n",
       "      <td>999.000000</td>\n",
       "      <td>0.000000</td>\n",
       "      <td>-1.800000</td>\n",
       "      <td>92.963000</td>\n",
       "      <td>-42.700000</td>\n",
       "      <td>1.252000</td>\n",
       "      <td>5076.200000</td>\n",
       "    </tr>\n",
       "    <tr>\n",
       "      <th>50%</th>\n",
       "      <td>38.000000</td>\n",
       "      <td>252.000000</td>\n",
       "      <td>2.000000</td>\n",
       "      <td>999.000000</td>\n",
       "      <td>0.000000</td>\n",
       "      <td>-0.100000</td>\n",
       "      <td>93.444000</td>\n",
       "      <td>-41.800000</td>\n",
       "      <td>4.076000</td>\n",
       "      <td>5191.000000</td>\n",
       "    </tr>\n",
       "    <tr>\n",
       "      <th>75%</th>\n",
       "      <td>48.000000</td>\n",
       "      <td>498.000000</td>\n",
       "      <td>3.000000</td>\n",
       "      <td>999.000000</td>\n",
       "      <td>0.000000</td>\n",
       "      <td>1.400000</td>\n",
       "      <td>93.994000</td>\n",
       "      <td>-36.400000</td>\n",
       "      <td>4.959000</td>\n",
       "      <td>5228.100000</td>\n",
       "    </tr>\n",
       "    <tr>\n",
       "      <th>max</th>\n",
       "      <td>98.000000</td>\n",
       "      <td>4199.000000</td>\n",
       "      <td>42.000000</td>\n",
       "      <td>999.000000</td>\n",
       "      <td>6.000000</td>\n",
       "      <td>1.400000</td>\n",
       "      <td>94.767000</td>\n",
       "      <td>-26.900000</td>\n",
       "      <td>5.045000</td>\n",
       "      <td>5228.100000</td>\n",
       "    </tr>\n",
       "  </tbody>\n",
       "</table>\n",
       "</div>"
      ],
      "text/plain": [
       "                age      duration      campaign         pdays      previous  \\\n",
       "count  10122.000000  10122.000000  10122.000000  10122.000000  10122.000000   \n",
       "mean      40.313673    373.414049      2.369789    896.476882      0.297471   \n",
       "std       11.855014    353.277755      2.472392    302.175859      0.680535   \n",
       "min       17.000000      0.000000      1.000000      0.000000      0.000000   \n",
       "25%       31.000000    140.000000      1.000000    999.000000      0.000000   \n",
       "50%       38.000000    252.000000      2.000000    999.000000      0.000000   \n",
       "75%       48.000000    498.000000      3.000000    999.000000      0.000000   \n",
       "max       98.000000   4199.000000     42.000000    999.000000      6.000000   \n",
       "\n",
       "       emp.var.rate  cons.price.idx  cons.conf.idx     euribor3m   nr.employed  \n",
       "count  10122.000000    10122.000000   10122.000000  10122.000000  10122.000000  \n",
       "mean      -0.432671       93.492407     -40.250573      3.035134   5138.838975  \n",
       "std        1.714657        0.628615       5.271326      1.884191     85.859595  \n",
       "min       -3.400000       92.201000     -50.800000      0.634000   4963.600000  \n",
       "25%       -1.800000       92.963000     -42.700000      1.252000   5076.200000  \n",
       "50%       -0.100000       93.444000     -41.800000      4.076000   5191.000000  \n",
       "75%        1.400000       93.994000     -36.400000      4.959000   5228.100000  \n",
       "max        1.400000       94.767000     -26.900000      5.045000   5228.100000  "
      ]
     },
     "execution_count": 9,
     "metadata": {},
     "output_type": "execute_result"
    }
   ],
   "source": [
    "banking_df.describe()"
   ]
  },
  {
   "cell_type": "markdown",
   "id": "b8c4f58d-e2ad-4cdd-abca-7e655dcdd2cf",
   "metadata": {},
   "source": [
    "## K-Nearest Neighbors (k-NN)"
   ]
  },
  {
   "cell_type": "markdown",
   "id": "be7ed37a-e7f3-4993-9776-0d96a8995a77",
   "metadata": {},
   "source": [
    "Upon exploring the data, we discovered that the dataset has:"
   ]
  },
  {
   "cell_type": "markdown",
   "id": "17ba00f5-d177-43e3-be72-7c149f4b92b7",
   "metadata": {},
   "source": [
    "- 10122 observations, 20 features, and 1 target variable.\n",
    "- No missing values in the dataset.\n",
    "- 5482 customers who didn't subscribe and 4640 who did.\n",
    "- 10 categorical columns and 10 numeric columns, excluding the target column."
   ]
  },
  {
   "cell_type": "markdown",
   "id": "e439ff4a-cc88-448c-83e6-bff74942309c",
   "metadata": {},
   "source": [
    "If we explore our dataset further, we could ask several questions to better analyze it. For example:"
   ]
  },
  {
   "cell_type": "markdown",
   "id": "569ad2d5-f6ce-4227-99fa-1e802ceb8c37",
   "metadata": {},
   "source": [
    "- How many customers under the age of 30 subscribed to the product?\n",
    "- Were the customers who subscribed contacted more often than those who weren't during the marketing campaign?\n",
    "- Which customers were contacted more often before this campaign?"
   ]
  },
  {
   "cell_type": "markdown",
   "id": "be1610e4-ef03-46ec-8cf0-1074d0509000",
   "metadata": {},
   "source": [
    "We could potentially answer each of these questions ourselves and develop a complex set of rules that could tell us which customers are likely to subscribe given all the features available to us.\r\n",
    "\r\n"
   ]
  },
  {
   "cell_type": "markdown",
   "id": "cc6bee08-41a5-4b72-ab30-c6296c87f556",
   "metadata": {},
   "source": [
    "Let's look at a visual representation of the above. The following plot depicts customers who subscribed (purple) and those who didn't (blue). Our two axes correspond to two features. For example, one could be age and another campaign."
   ]
  },
  {
   "attachments": {
    "ad390314-b44e-4db3-82b1-3eb03e061014.png": {
     "image/png": "[encoded data removed]"
    }
   },
   "cell_type": "markdown",
   "id": "8cf186fc-6b9b-4d54-8c90-3a3a811bf15d",
   "metadata": {},
   "source": [
    "![image.png](attachment:ad390314-b44e-4db3-82b1-3eb03e061014.png)"
   ]
  },
  {
   "cell_type": "markdown",
   "id": "c0b2d365-0d7e-4192-b1cb-0731a278c8d3",
   "metadata": {},
   "source": [
    "Each customer is a data point in a 2-dimensional feature space and is defined by two numerical values. If we know the age of a customer and how many times they were contacted during the campaign, we can locate that point in that space."
   ]
  },
  {
   "cell_type": "markdown",
   "id": "c2af8b4c-a1c3-41a4-8315-af36b87ec870",
   "metadata": {},
   "source": [
    "The proximity of those customers in the feature space can tell us how similar they are to one another in relation to their label. For example, let's say that 3 out of 5 customers who are 30 to 32 years old and were contacted 2 to 4 times during the campaign subscribed to the product. In the plot, the data points for those customers would be relatively close to one another. We could say that customers within that age and campaign range of values are more likely to subscribe to the bank's product."
   ]
  },
  {
   "cell_type": "markdown",
   "id": "65001c57-f889-4607-b57c-4116dbda82a8",
   "metadata": {},
   "source": [
    "That's the kind of rule we could develop through our analysis and by looking at the data points in the feature space."
   ]
  },
  {
   "attachments": {
    "9f615637-a208-4d5b-83ab-7b1f51e41231.png": {
     "image/png": "[encoded data removed]"
    }
   },
   "cell_type": "markdown",
   "id": "cde20602-500c-430a-abc3-e1f7b75e6638",
   "metadata": {},
   "source": [
    "![image.png](attachment:9f615637-a208-4d5b-83ab-7b1f51e41231.png)"
   ]
  },
  {
   "cell_type": "markdown",
   "id": "79912c74-0ba1-4a01-a493-46f0bc54ba17",
   "metadata": {},
   "source": [
    "What if we add another customer (blue dot) to our feature space above?"
   ]
  },
  {
   "attachments": {
    "d4b03bcc-7d18-453e-bcc0-6ba07c7f550c.png": {
     "image/png": "[encoded data removed]"
    }
   },
   "cell_type": "markdown",
   "id": "2a8fafff-380b-492e-9e89-4c483f9cd154",
   "metadata": {},
   "source": [
    "![image.png](attachment:d4b03bcc-7d18-453e-bcc0-6ba07c7f550c.png)"
   ]
  },
  {
   "cell_type": "markdown",
   "id": "1ef95816-1d54-4073-8867-556b83161790",
   "metadata": {},
   "source": [
    "How can we predict if this new customer is going to subscribe, given just those two features?"
   ]
  },
  {
   "cell_type": "markdown",
   "id": "e0741a68-13ee-4e77-873a-d17fdccc3809",
   "metadata": {},
   "source": [
    "With what we learned above, we can calculate the distance of that blue dot from all the other points and look at the ones closest to it. If a majority of the points closest to it are purple, we can classify the new point as purple. If they are blue, we can classify it as blue."
   ]
  },
  {
   "attachments": {
    "99dd64e4-efea-4d69-974d-05dc6d14b2de.png": {
     "image/png": "[encoded data removed]"
    }
   },
   "cell_type": "markdown",
   "id": "dae57a60-cf8b-4726-8fad-1e8db80dc33a",
   "metadata": {},
   "source": [
    "![image.png](attachment:99dd64e4-efea-4d69-974d-05dc6d14b2de.png)"
   ]
  },
  {
   "cell_type": "markdown",
   "id": "1e51b8ee-d234-4faf-976b-d16e0135f242",
   "metadata": {},
   "source": [
    "By looking at how closely-related those data points are in context of their labels, we are allowing those rules, like the ones we mentioned above, to develop on their own. This is the K-Nearest Neighbors algorithm."
   ]
  },
  {
   "cell_type": "markdown",
   "id": "113e6dbc-a3f6-4333-aab4-73e73ae8a451",
   "metadata": {},
   "source": [
    "1. For an unseen data point, the algorithm calculates the distance between that point and all the observations across all features in the training dataset.\n",
    "\n",
    "2. It sorts those distances in ascending order.\n",
    "\n",
    "3. It selects \n",
    "K\n",
    " observations with the smallest distances from the above step. These \n",
    "K\n",
    " observations are the K-nearest neighbors of that unseen data point."
   ]
  },
  {
   "cell_type": "markdown",
   "id": "15b09ae5-c28e-4a52-9698-c547c1600775",
   "metadata": {},
   "source": [
    "Note that there should be at least \r\n",
    "K\r\n",
    "≥\r\n",
    "1\r\n",
    " observations in the dataset."
   ]
  },
  {
   "cell_type": "markdown",
   "id": "a9616b4a-9999-461d-a965-13fba00b8b48",
   "metadata": {},
   "source": [
    "It calculates which labels of those neighbors is the most common, and assigns that label to the unseen data point."
   ]
  },
  {
   "cell_type": "markdown",
   "id": "6814854c-6c44-403c-b13a-2419417e9107",
   "metadata": {},
   "source": [
    "Before we implement the algorithm, let's prepare our data."
   ]
  },
  {
   "cell_type": "markdown",
   "id": "2b15a0ba-7c42-4836-ab7c-64edd3846c64",
   "metadata": {},
   "source": [
    "## Data Preparation"
   ]
  },
  {
   "cell_type": "markdown",
   "id": "67c01dc6-9ce7-400b-92b6-aab6cd855873",
   "metadata": {},
   "source": [
    "When we explored our data, we noticed that our target column, y, stores the labels as yes or no strings. While those are reasonable categories and we can continue working with them as is, we'll encode those strings as the numbers 0 for no and 1 for yes."
   ]
  },
  {
   "cell_type": "markdown",
   "id": "5ec03ca7-500d-4ee1-9cd8-99fb5546618d",
   "metadata": {},
   "source": [
    "In the previous lesson, we learned how to split the dataset into a training and test set. Instead of using scikit-learn's `train_test_split()` function, we'll implement the split ourselves. We'll opt for a `85-15%` split."
   ]
  },
  {
   "cell_type": "markdown",
   "id": "69267799-4be9-4653-abbc-5a4d22d234cf",
   "metadata": {},
   "source": [
    "In order to split the dataset, we could take a direct approach of selecting the first N observations as the training set and the rest as the test set. But that poses a problem.  We don't know how many observations of those N have a label of 0 and how many have a label of 1."
   ]
  },
  {
   "cell_type": "markdown",
   "id": "403ae27e-2d8c-4edc-8d69-acba2af31324",
   "metadata": {},
   "source": [
    "Let's say N = 100. What if, out of those 100, only 5 observations had a label of 1?"
   ]
  },
  {
   "cell_type": "markdown",
   "id": "6c58ea7d-554e-4e58-8c60-cc772be60ac0",
   "metadata": {},
   "source": [
    "When the dataset is imbalanced, a machine learning model might struggle to accurately predict the labels because it hasn't had enough information to learn to distinguish between the classes. Ideally, the model should have enough data corresponding to each class so it can learn from the data effectively."
   ]
  },
  {
   "cell_type": "markdown",
   "id": "a3154f98-5bfd-4647-a384-ec142dacb18e",
   "metadata": {},
   "source": [
    "Even though our dataset has a reasonably balanced class distribution, we need to make sure that both the train and test sets have a similar percentage of subscribed customers."
   ]
  },
  {
   "cell_type": "markdown",
   "id": "b0d526b9-ecda-4ad7-b5b1-3295cf325d4c",
   "metadata": {},
   "source": [
    "The data collection process can also introduce certain biases. It's possible that the clients were selected in a specific order. For example, the collection process could've added the newest clients first. If we were to select the first N observations, we could be introducing bias into our model. That's why, when creating our training and test sets, randomly selecting observations is important, as it can help reduce any such biases."
   ]
  },
  {
   "cell_type": "markdown",
   "id": "14ce3c79-2047-46f6-85be-2f14942d34d6",
   "metadata": {},
   "source": [
    "Fortunately for us, this isn't complicated to implement in pandas."
   ]
  },
  {
   "cell_type": "code",
   "execution_count": 10,
   "id": "9445645e-616f-4134-a5bc-58ce48eb7cfe",
   "metadata": {},
   "outputs": [],
   "source": [
    "banking_df['y'] = banking_df['y'].apply(lambda x: 1 if x == 'yes' else 0)\n",
    "\n",
    "# Randomize the sample\n",
    "train_df = banking_df.sample(frac=0.85,random_state=417)\n",
    "test_df = banking_df.drop(train_df.index)"
   ]
  },
  {
   "cell_type": "code",
   "execution_count": 11,
   "id": "8c844962-5b81-4fc1-b3d8-baeb33ffcf93",
   "metadata": {},
   "outputs": [
    {
     "data": {
      "text/plain": [
       "y\n",
       "0    54.159257\n",
       "1    45.840743\n",
       "Name: proportion, dtype: float64"
      ]
     },
     "execution_count": 11,
     "metadata": {},
     "output_type": "execute_result"
    }
   ],
   "source": [
    "banking_df['y'].value_counts(normalize=True) * 100"
   ]
  },
  {
   "cell_type": "code",
   "execution_count": 12,
   "id": "1ca299aa-f696-45f3-ab5e-7ea1a469320e",
   "metadata": {},
   "outputs": [
    {
     "data": {
      "text/plain": [
       "y\n",
       "0    54.009763\n",
       "1    45.990237\n",
       "Name: proportion, dtype: float64"
      ]
     },
     "execution_count": 12,
     "metadata": {},
     "output_type": "execute_result"
    }
   ],
   "source": [
    "train_df['y'].value_counts(normalize=True) * 100"
   ]
  },
  {
   "cell_type": "code",
   "execution_count": 13,
   "id": "2b0420ab-c8b9-48e4-9b17-663d286e0b72",
   "metadata": {},
   "outputs": [
    {
     "data": {
      "text/plain": [
       "y\n",
       "0    55.006588\n",
       "1    44.993412\n",
       "Name: proportion, dtype: float64"
      ]
     },
     "execution_count": 13,
     "metadata": {},
     "output_type": "execute_result"
    }
   ],
   "source": [
    "test_df['y'].value_counts(normalize=True) * 100"
   ]
  },
  {
   "cell_type": "code",
   "execution_count": null,
   "id": "c242a8e6-7ff0-43fe-b9f5-0893f3fec992",
   "metadata": {},
   "outputs": [],
   "source": []
  }
 ],
 "metadata": {
  "kernelspec": {
   "display_name": "Python 3 (ipykernel)",
   "language": "python",
   "name": "python3"
  },
  "language_info": {
   "codemirror_mode": {
    "name": "ipython",
    "version": 3
   },
   "file_extension": ".py",
   "mimetype": "text/x-python",
   "name": "python",
   "nbconvert_exporter": "python",
   "pygments_lexer": "ipython3",
   "version": "3.12.4"
  }
 },
 "nbformat": 4,
 "nbformat_minor": 5
}
