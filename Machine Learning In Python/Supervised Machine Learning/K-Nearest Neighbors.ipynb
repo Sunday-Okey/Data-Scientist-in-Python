{
 "cells": [
  {
   "cell_type": "markdown",
   "id": "04937cd8-9507-4948-901b-d15f074ad8b2",
   "metadata": {},
   "source": [
    "# Introduction to K-Nearest Neighbors"
   ]
  },
  {
   "cell_type": "markdown",
   "id": "4ee9db30-f895-4d4f-bf54-0ba1e2413d2d",
   "metadata": {},
   "source": [
    "## Introduction to the Dataset"
   ]
  },
  {
   "cell_type": "markdown",
   "id": "7614e5b4-5b94-4e3a-8f3a-20a8eca97b27",
   "metadata": {},
   "source": [
    "In the previous lesson, we looked at the machine learning workflow and trained a simple classifier to predict if a patient has breast cancer. We learned how we can quickly prototype a machine learning model and experiment with it to get reasonable results."
   ]
  },
  {
   "attachments": {
    "5982c7df-f2b1-492b-a5fe-a5874cb597aa.png": {
     "image/png": "[encoded data removed]"
    }
   },
   "cell_type": "markdown",
   "id": "7cfd4e82-98e8-4eb5-bacb-3b0cdf52186a",
   "metadata": {},
   "source": [
    "![image.png](attachment:5982c7df-f2b1-492b-a5fe-a5874cb597aa.png)"
   ]
  },
  {
   "cell_type": "markdown",
   "id": "75a44ed3-0889-48dd-a4aa-970cf2fc000b",
   "metadata": {},
   "source": [
    "While there is a benefit to being able to quickly experiment and iterate, not understanding how the algorithm for a model actually works can impact the outcome of those random experiments."
   ]
  },
  {
   "cell_type": "markdown",
   "id": "59678120-58e2-4aa8-8d8d-f94b447d9ac9",
   "metadata": {},
   "source": [
    "In this lesson, we'll learn a different machine learning algorithm and implement it from scratch. We'll use it to build and train a classifier that can predict whether a bank customer will subscribe to a term deposit or not."
   ]
  },
  {
   "cell_type": "markdown",
   "id": "aea7bb50-3683-4065-a5e1-9e599fbb37fe",
   "metadata": {},
   "source": [
    "We'll use a modified version of the [Bank Marketing Dataset](https://archive.ics.uci.edu/ml/datasets/bank+marketing). It contains data on customers of a Portuguese banking institution that ran marketing campaigns to assess whether customers would subscribe to their product. The dataset consists of 21 columns, including the target variable:\r\n",
    "\r\n"
   ]
  },
  {
   "cell_type": "markdown",
   "id": "2f800106-cb0d-4831-b957-95eaa9387572",
   "metadata": {},
   "source": [
    "- age: (numeric)\n",
    "- job: type of job (categorical: 'admin','blue collar','entrepreneur','housemaid','management','retired','self employed','services','student','technician','unemployed','unknown')\n",
    "- marital: marital status (categorical: 'divorced','married','single','unknown'; note: 'divorced' means divorced or widowed)\n",
    "- education: (categorical: 'basic.4y','basic.6y','basic.9y','high.school','illiterate','professional.course','university.degree','unknown')\n",
    "- default: has credit in default? (categorical: 'no','yes','unknown')\n",
    "- housing: has housing loan? (categorical: 'no','yes','unknown')\n",
    "- loan: has personal loan? (categorical: 'no','yes','unknown')\n",
    "- contact: contact communication type (categorical: 'cellular','telephone')\n",
    "- month: last contact month of year (categorical: 'jan', 'feb', 'mar', ..., 'nov', 'dec')\n",
    "- day_of_week: last contact day of the week (categorical: 'mon','tue','wed','thu','fri')\n",
    "- duration: last contact duration, in seconds (numeric).\n",
    "- campaign: number of contacts performed during this campaign and for this client (numeric, includes last contact)\n",
    "- pdays: number of days that passed by after the client was last contacted from a previous campaign (numeric; 999 means client was not previously contacted)\n",
    "- previous: number of contacts performed before this campaign and for this client (numeric)\n",
    "- poutcome: outcome of the previous marketing campaign (categorical: 'failure','nonexistent','success')\n",
    "- emp.var.rate: employment variation rate - quarterly indicator (numeric)\n",
    "- cons.price.idx: consumer price index - monthly indicator (numeric)\n",
    "- cons.conf.idx: consumer confidence index - monthly indicator (numeric)\n",
    "- euribor3m: euribor 3 month rate - daily indicator (numeric)\n",
    "- nr.employed: number of employees - quarterly indicator (numeric)\n",
    "- y: has the client subscribed a term deposit? (binary: 'yes','no')"
   ]
  },
  {
   "cell_type": "code",
   "execution_count": 317,
   "id": "3c2917db-bcd7-48e1-a1a6-1435f7450569",
   "metadata": {},
   "outputs": [],
   "source": [
    "import pandas as pd\n",
    "import numpy as np\n",
    "import matplotlib.pyplot as plt"
   ]
  },
  {
   "cell_type": "code",
   "execution_count": 318,
   "id": "b0144fe0-5e9d-4410-9c90-6a95823a3404",
   "metadata": {},
   "outputs": [
    {
     "data": {
      "text/html": [
       "<div>\n",
       "<style scoped>\n",
       "    .dataframe tbody tr th:only-of-type {\n",
       "        vertical-align: middle;\n",
       "    }\n",
       "\n",
       "    .dataframe tbody tr th {\n",
       "        vertical-align: top;\n",
       "    }\n",
       "\n",
       "    .dataframe thead th {\n",
       "        text-align: right;\n",
       "    }\n",
       "</style>\n",
       "<table border=\"1\" class=\"dataframe\">\n",
       "  <thead>\n",
       "    <tr style=\"text-align: right;\">\n",
       "      <th></th>\n",
       "      <th>age</th>\n",
       "      <th>job</th>\n",
       "      <th>marital</th>\n",
       "      <th>education</th>\n",
       "      <th>default</th>\n",
       "      <th>housing</th>\n",
       "      <th>loan</th>\n",
       "      <th>contact</th>\n",
       "      <th>month</th>\n",
       "      <th>day_of_week</th>\n",
       "      <th>...</th>\n",
       "      <th>campaign</th>\n",
       "      <th>pdays</th>\n",
       "      <th>previous</th>\n",
       "      <th>poutcome</th>\n",
       "      <th>emp.var.rate</th>\n",
       "      <th>cons.price.idx</th>\n",
       "      <th>cons.conf.idx</th>\n",
       "      <th>euribor3m</th>\n",
       "      <th>nr.employed</th>\n",
       "      <th>y</th>\n",
       "    </tr>\n",
       "  </thead>\n",
       "  <tbody>\n",
       "    <tr>\n",
       "      <th>0</th>\n",
       "      <td>40</td>\n",
       "      <td>admin.</td>\n",
       "      <td>married</td>\n",
       "      <td>basic.6y</td>\n",
       "      <td>no</td>\n",
       "      <td>no</td>\n",
       "      <td>no</td>\n",
       "      <td>telephone</td>\n",
       "      <td>may</td>\n",
       "      <td>mon</td>\n",
       "      <td>...</td>\n",
       "      <td>1</td>\n",
       "      <td>999</td>\n",
       "      <td>0</td>\n",
       "      <td>nonexistent</td>\n",
       "      <td>1.1</td>\n",
       "      <td>93.994</td>\n",
       "      <td>-36.4</td>\n",
       "      <td>4.857</td>\n",
       "      <td>5191.0</td>\n",
       "      <td>no</td>\n",
       "    </tr>\n",
       "    <tr>\n",
       "      <th>1</th>\n",
       "      <td>56</td>\n",
       "      <td>services</td>\n",
       "      <td>married</td>\n",
       "      <td>high.school</td>\n",
       "      <td>no</td>\n",
       "      <td>no</td>\n",
       "      <td>yes</td>\n",
       "      <td>telephone</td>\n",
       "      <td>may</td>\n",
       "      <td>mon</td>\n",
       "      <td>...</td>\n",
       "      <td>1</td>\n",
       "      <td>999</td>\n",
       "      <td>0</td>\n",
       "      <td>nonexistent</td>\n",
       "      <td>1.1</td>\n",
       "      <td>93.994</td>\n",
       "      <td>-36.4</td>\n",
       "      <td>4.857</td>\n",
       "      <td>5191.0</td>\n",
       "      <td>no</td>\n",
       "    </tr>\n",
       "    <tr>\n",
       "      <th>2</th>\n",
       "      <td>41</td>\n",
       "      <td>blue-collar</td>\n",
       "      <td>married</td>\n",
       "      <td>unknown</td>\n",
       "      <td>unknown</td>\n",
       "      <td>no</td>\n",
       "      <td>no</td>\n",
       "      <td>telephone</td>\n",
       "      <td>may</td>\n",
       "      <td>mon</td>\n",
       "      <td>...</td>\n",
       "      <td>1</td>\n",
       "      <td>999</td>\n",
       "      <td>0</td>\n",
       "      <td>nonexistent</td>\n",
       "      <td>1.1</td>\n",
       "      <td>93.994</td>\n",
       "      <td>-36.4</td>\n",
       "      <td>4.857</td>\n",
       "      <td>5191.0</td>\n",
       "      <td>no</td>\n",
       "    </tr>\n",
       "    <tr>\n",
       "      <th>3</th>\n",
       "      <td>57</td>\n",
       "      <td>housemaid</td>\n",
       "      <td>divorced</td>\n",
       "      <td>basic.4y</td>\n",
       "      <td>no</td>\n",
       "      <td>yes</td>\n",
       "      <td>no</td>\n",
       "      <td>telephone</td>\n",
       "      <td>may</td>\n",
       "      <td>mon</td>\n",
       "      <td>...</td>\n",
       "      <td>1</td>\n",
       "      <td>999</td>\n",
       "      <td>0</td>\n",
       "      <td>nonexistent</td>\n",
       "      <td>1.1</td>\n",
       "      <td>93.994</td>\n",
       "      <td>-36.4</td>\n",
       "      <td>4.857</td>\n",
       "      <td>5191.0</td>\n",
       "      <td>no</td>\n",
       "    </tr>\n",
       "    <tr>\n",
       "      <th>4</th>\n",
       "      <td>39</td>\n",
       "      <td>management</td>\n",
       "      <td>single</td>\n",
       "      <td>basic.9y</td>\n",
       "      <td>unknown</td>\n",
       "      <td>no</td>\n",
       "      <td>no</td>\n",
       "      <td>telephone</td>\n",
       "      <td>may</td>\n",
       "      <td>mon</td>\n",
       "      <td>...</td>\n",
       "      <td>1</td>\n",
       "      <td>999</td>\n",
       "      <td>0</td>\n",
       "      <td>nonexistent</td>\n",
       "      <td>1.1</td>\n",
       "      <td>93.994</td>\n",
       "      <td>-36.4</td>\n",
       "      <td>4.857</td>\n",
       "      <td>5191.0</td>\n",
       "      <td>no</td>\n",
       "    </tr>\n",
       "  </tbody>\n",
       "</table>\n",
       "<p>5 rows × 21 columns</p>\n",
       "</div>"
      ],
      "text/plain": [
       "   age          job   marital    education  default housing loan    contact  \\\n",
       "0   40       admin.   married     basic.6y       no      no   no  telephone   \n",
       "1   56     services   married  high.school       no      no  yes  telephone   \n",
       "2   41  blue-collar   married      unknown  unknown      no   no  telephone   \n",
       "3   57    housemaid  divorced     basic.4y       no     yes   no  telephone   \n",
       "4   39   management    single     basic.9y  unknown      no   no  telephone   \n",
       "\n",
       "  month day_of_week  ...  campaign  pdays  previous     poutcome emp.var.rate  \\\n",
       "0   may         mon  ...         1    999         0  nonexistent          1.1   \n",
       "1   may         mon  ...         1    999         0  nonexistent          1.1   \n",
       "2   may         mon  ...         1    999         0  nonexistent          1.1   \n",
       "3   may         mon  ...         1    999         0  nonexistent          1.1   \n",
       "4   may         mon  ...         1    999         0  nonexistent          1.1   \n",
       "\n",
       "   cons.price.idx  cons.conf.idx  euribor3m  nr.employed   y  \n",
       "0          93.994          -36.4      4.857       5191.0  no  \n",
       "1          93.994          -36.4      4.857       5191.0  no  \n",
       "2          93.994          -36.4      4.857       5191.0  no  \n",
       "3          93.994          -36.4      4.857       5191.0  no  \n",
       "4          93.994          -36.4      4.857       5191.0  no  \n",
       "\n",
       "[5 rows x 21 columns]"
      ]
     },
     "execution_count": 318,
     "metadata": {},
     "output_type": "execute_result"
    }
   ],
   "source": [
    "banking_df = pd.read_csv('../../Datasets/subscription_prediction.csv')\n",
    "banking_df.head()"
   ]
  },
  {
   "cell_type": "code",
   "execution_count": 3,
   "id": "48f3c2f7-be30-46cc-b1b5-2c6993b429df",
   "metadata": {},
   "outputs": [
    {
     "data": {
      "text/html": [
       "<div>\n",
       "<style scoped>\n",
       "    .dataframe tbody tr th:only-of-type {\n",
       "        vertical-align: middle;\n",
       "    }\n",
       "\n",
       "    .dataframe tbody tr th {\n",
       "        vertical-align: top;\n",
       "    }\n",
       "\n",
       "    .dataframe thead th {\n",
       "        text-align: right;\n",
       "    }\n",
       "</style>\n",
       "<table border=\"1\" class=\"dataframe\">\n",
       "  <thead>\n",
       "    <tr style=\"text-align: right;\">\n",
       "      <th></th>\n",
       "      <th>job</th>\n",
       "      <th>marital</th>\n",
       "      <th>education</th>\n",
       "      <th>default</th>\n",
       "      <th>housing</th>\n",
       "      <th>loan</th>\n",
       "      <th>contact</th>\n",
       "      <th>month</th>\n",
       "      <th>day_of_week</th>\n",
       "      <th>poutcome</th>\n",
       "      <th>y</th>\n",
       "    </tr>\n",
       "  </thead>\n",
       "  <tbody>\n",
       "    <tr>\n",
       "      <th>0</th>\n",
       "      <td>admin.</td>\n",
       "      <td>married</td>\n",
       "      <td>basic.6y</td>\n",
       "      <td>no</td>\n",
       "      <td>no</td>\n",
       "      <td>no</td>\n",
       "      <td>telephone</td>\n",
       "      <td>may</td>\n",
       "      <td>mon</td>\n",
       "      <td>nonexistent</td>\n",
       "      <td>no</td>\n",
       "    </tr>\n",
       "    <tr>\n",
       "      <th>1</th>\n",
       "      <td>services</td>\n",
       "      <td>married</td>\n",
       "      <td>high.school</td>\n",
       "      <td>no</td>\n",
       "      <td>no</td>\n",
       "      <td>yes</td>\n",
       "      <td>telephone</td>\n",
       "      <td>may</td>\n",
       "      <td>mon</td>\n",
       "      <td>nonexistent</td>\n",
       "      <td>no</td>\n",
       "    </tr>\n",
       "    <tr>\n",
       "      <th>2</th>\n",
       "      <td>blue-collar</td>\n",
       "      <td>married</td>\n",
       "      <td>unknown</td>\n",
       "      <td>unknown</td>\n",
       "      <td>no</td>\n",
       "      <td>no</td>\n",
       "      <td>telephone</td>\n",
       "      <td>may</td>\n",
       "      <td>mon</td>\n",
       "      <td>nonexistent</td>\n",
       "      <td>no</td>\n",
       "    </tr>\n",
       "    <tr>\n",
       "      <th>3</th>\n",
       "      <td>housemaid</td>\n",
       "      <td>divorced</td>\n",
       "      <td>basic.4y</td>\n",
       "      <td>no</td>\n",
       "      <td>yes</td>\n",
       "      <td>no</td>\n",
       "      <td>telephone</td>\n",
       "      <td>may</td>\n",
       "      <td>mon</td>\n",
       "      <td>nonexistent</td>\n",
       "      <td>no</td>\n",
       "    </tr>\n",
       "    <tr>\n",
       "      <th>4</th>\n",
       "      <td>management</td>\n",
       "      <td>single</td>\n",
       "      <td>basic.9y</td>\n",
       "      <td>unknown</td>\n",
       "      <td>no</td>\n",
       "      <td>no</td>\n",
       "      <td>telephone</td>\n",
       "      <td>may</td>\n",
       "      <td>mon</td>\n",
       "      <td>nonexistent</td>\n",
       "      <td>no</td>\n",
       "    </tr>\n",
       "    <tr>\n",
       "      <th>...</th>\n",
       "      <td>...</td>\n",
       "      <td>...</td>\n",
       "      <td>...</td>\n",
       "      <td>...</td>\n",
       "      <td>...</td>\n",
       "      <td>...</td>\n",
       "      <td>...</td>\n",
       "      <td>...</td>\n",
       "      <td>...</td>\n",
       "      <td>...</td>\n",
       "      <td>...</td>\n",
       "    </tr>\n",
       "    <tr>\n",
       "      <th>10117</th>\n",
       "      <td>retired</td>\n",
       "      <td>divorced</td>\n",
       "      <td>professional.course</td>\n",
       "      <td>no</td>\n",
       "      <td>yes</td>\n",
       "      <td>no</td>\n",
       "      <td>cellular</td>\n",
       "      <td>nov</td>\n",
       "      <td>fri</td>\n",
       "      <td>nonexistent</td>\n",
       "      <td>no</td>\n",
       "    </tr>\n",
       "    <tr>\n",
       "      <th>10118</th>\n",
       "      <td>admin.</td>\n",
       "      <td>married</td>\n",
       "      <td>university.degree</td>\n",
       "      <td>no</td>\n",
       "      <td>yes</td>\n",
       "      <td>no</td>\n",
       "      <td>cellular</td>\n",
       "      <td>nov</td>\n",
       "      <td>fri</td>\n",
       "      <td>nonexistent</td>\n",
       "      <td>yes</td>\n",
       "    </tr>\n",
       "    <tr>\n",
       "      <th>10119</th>\n",
       "      <td>retired</td>\n",
       "      <td>married</td>\n",
       "      <td>professional.course</td>\n",
       "      <td>no</td>\n",
       "      <td>yes</td>\n",
       "      <td>no</td>\n",
       "      <td>cellular</td>\n",
       "      <td>nov</td>\n",
       "      <td>fri</td>\n",
       "      <td>nonexistent</td>\n",
       "      <td>yes</td>\n",
       "    </tr>\n",
       "    <tr>\n",
       "      <th>10120</th>\n",
       "      <td>technician</td>\n",
       "      <td>married</td>\n",
       "      <td>professional.course</td>\n",
       "      <td>no</td>\n",
       "      <td>no</td>\n",
       "      <td>no</td>\n",
       "      <td>cellular</td>\n",
       "      <td>nov</td>\n",
       "      <td>fri</td>\n",
       "      <td>nonexistent</td>\n",
       "      <td>yes</td>\n",
       "    </tr>\n",
       "    <tr>\n",
       "      <th>10121</th>\n",
       "      <td>retired</td>\n",
       "      <td>married</td>\n",
       "      <td>professional.course</td>\n",
       "      <td>no</td>\n",
       "      <td>yes</td>\n",
       "      <td>no</td>\n",
       "      <td>cellular</td>\n",
       "      <td>nov</td>\n",
       "      <td>fri</td>\n",
       "      <td>failure</td>\n",
       "      <td>no</td>\n",
       "    </tr>\n",
       "  </tbody>\n",
       "</table>\n",
       "<p>10122 rows × 11 columns</p>\n",
       "</div>"
      ],
      "text/plain": [
       "               job   marital            education  default housing loan  \\\n",
       "0           admin.   married             basic.6y       no      no   no   \n",
       "1         services   married          high.school       no      no  yes   \n",
       "2      blue-collar   married              unknown  unknown      no   no   \n",
       "3        housemaid  divorced             basic.4y       no     yes   no   \n",
       "4       management    single             basic.9y  unknown      no   no   \n",
       "...            ...       ...                  ...      ...     ...  ...   \n",
       "10117      retired  divorced  professional.course       no     yes   no   \n",
       "10118       admin.   married    university.degree       no     yes   no   \n",
       "10119      retired   married  professional.course       no     yes   no   \n",
       "10120   technician   married  professional.course       no      no   no   \n",
       "10121      retired   married  professional.course       no     yes   no   \n",
       "\n",
       "         contact month day_of_week     poutcome    y  \n",
       "0      telephone   may         mon  nonexistent   no  \n",
       "1      telephone   may         mon  nonexistent   no  \n",
       "2      telephone   may         mon  nonexistent   no  \n",
       "3      telephone   may         mon  nonexistent   no  \n",
       "4      telephone   may         mon  nonexistent   no  \n",
       "...          ...   ...         ...          ...  ...  \n",
       "10117   cellular   nov         fri  nonexistent   no  \n",
       "10118   cellular   nov         fri  nonexistent  yes  \n",
       "10119   cellular   nov         fri  nonexistent  yes  \n",
       "10120   cellular   nov         fri  nonexistent  yes  \n",
       "10121   cellular   nov         fri      failure   no  \n",
       "\n",
       "[10122 rows x 11 columns]"
      ]
     },
     "execution_count": 3,
     "metadata": {},
     "output_type": "execute_result"
    }
   ],
   "source": [
    "# Select the categorical features\n",
    "banking_df.select_dtypes(include='O')"
   ]
  },
  {
   "cell_type": "code",
   "execution_count": 4,
   "id": "9a8a9094-5e3b-4890-ac76-2ea4b3179483",
   "metadata": {},
   "outputs": [
    {
     "data": {
      "text/html": [
       "<div>\n",
       "<style scoped>\n",
       "    .dataframe tbody tr th:only-of-type {\n",
       "        vertical-align: middle;\n",
       "    }\n",
       "\n",
       "    .dataframe tbody tr th {\n",
       "        vertical-align: top;\n",
       "    }\n",
       "\n",
       "    .dataframe thead th {\n",
       "        text-align: right;\n",
       "    }\n",
       "</style>\n",
       "<table border=\"1\" class=\"dataframe\">\n",
       "  <thead>\n",
       "    <tr style=\"text-align: right;\">\n",
       "      <th></th>\n",
       "      <th>age</th>\n",
       "      <th>duration</th>\n",
       "      <th>campaign</th>\n",
       "      <th>pdays</th>\n",
       "      <th>previous</th>\n",
       "      <th>emp.var.rate</th>\n",
       "      <th>cons.price.idx</th>\n",
       "      <th>cons.conf.idx</th>\n",
       "      <th>euribor3m</th>\n",
       "      <th>nr.employed</th>\n",
       "    </tr>\n",
       "  </thead>\n",
       "  <tbody>\n",
       "    <tr>\n",
       "      <th>0</th>\n",
       "      <td>40</td>\n",
       "      <td>151</td>\n",
       "      <td>1</td>\n",
       "      <td>999</td>\n",
       "      <td>0</td>\n",
       "      <td>1.1</td>\n",
       "      <td>93.994</td>\n",
       "      <td>-36.4</td>\n",
       "      <td>4.857</td>\n",
       "      <td>5191.0</td>\n",
       "    </tr>\n",
       "    <tr>\n",
       "      <th>1</th>\n",
       "      <td>56</td>\n",
       "      <td>307</td>\n",
       "      <td>1</td>\n",
       "      <td>999</td>\n",
       "      <td>0</td>\n",
       "      <td>1.1</td>\n",
       "      <td>93.994</td>\n",
       "      <td>-36.4</td>\n",
       "      <td>4.857</td>\n",
       "      <td>5191.0</td>\n",
       "    </tr>\n",
       "    <tr>\n",
       "      <th>2</th>\n",
       "      <td>41</td>\n",
       "      <td>217</td>\n",
       "      <td>1</td>\n",
       "      <td>999</td>\n",
       "      <td>0</td>\n",
       "      <td>1.1</td>\n",
       "      <td>93.994</td>\n",
       "      <td>-36.4</td>\n",
       "      <td>4.857</td>\n",
       "      <td>5191.0</td>\n",
       "    </tr>\n",
       "    <tr>\n",
       "      <th>3</th>\n",
       "      <td>57</td>\n",
       "      <td>293</td>\n",
       "      <td>1</td>\n",
       "      <td>999</td>\n",
       "      <td>0</td>\n",
       "      <td>1.1</td>\n",
       "      <td>93.994</td>\n",
       "      <td>-36.4</td>\n",
       "      <td>4.857</td>\n",
       "      <td>5191.0</td>\n",
       "    </tr>\n",
       "    <tr>\n",
       "      <th>4</th>\n",
       "      <td>39</td>\n",
       "      <td>195</td>\n",
       "      <td>1</td>\n",
       "      <td>999</td>\n",
       "      <td>0</td>\n",
       "      <td>1.1</td>\n",
       "      <td>93.994</td>\n",
       "      <td>-36.4</td>\n",
       "      <td>4.857</td>\n",
       "      <td>5191.0</td>\n",
       "    </tr>\n",
       "    <tr>\n",
       "      <th>...</th>\n",
       "      <td>...</td>\n",
       "      <td>...</td>\n",
       "      <td>...</td>\n",
       "      <td>...</td>\n",
       "      <td>...</td>\n",
       "      <td>...</td>\n",
       "      <td>...</td>\n",
       "      <td>...</td>\n",
       "      <td>...</td>\n",
       "      <td>...</td>\n",
       "    </tr>\n",
       "    <tr>\n",
       "      <th>10117</th>\n",
       "      <td>64</td>\n",
       "      <td>151</td>\n",
       "      <td>3</td>\n",
       "      <td>999</td>\n",
       "      <td>0</td>\n",
       "      <td>-1.1</td>\n",
       "      <td>94.767</td>\n",
       "      <td>-50.8</td>\n",
       "      <td>1.028</td>\n",
       "      <td>4963.6</td>\n",
       "    </tr>\n",
       "    <tr>\n",
       "      <th>10118</th>\n",
       "      <td>37</td>\n",
       "      <td>281</td>\n",
       "      <td>1</td>\n",
       "      <td>999</td>\n",
       "      <td>0</td>\n",
       "      <td>-1.1</td>\n",
       "      <td>94.767</td>\n",
       "      <td>-50.8</td>\n",
       "      <td>1.028</td>\n",
       "      <td>4963.6</td>\n",
       "    </tr>\n",
       "    <tr>\n",
       "      <th>10119</th>\n",
       "      <td>73</td>\n",
       "      <td>334</td>\n",
       "      <td>1</td>\n",
       "      <td>999</td>\n",
       "      <td>0</td>\n",
       "      <td>-1.1</td>\n",
       "      <td>94.767</td>\n",
       "      <td>-50.8</td>\n",
       "      <td>1.028</td>\n",
       "      <td>4963.6</td>\n",
       "    </tr>\n",
       "    <tr>\n",
       "      <th>10120</th>\n",
       "      <td>44</td>\n",
       "      <td>442</td>\n",
       "      <td>1</td>\n",
       "      <td>999</td>\n",
       "      <td>0</td>\n",
       "      <td>-1.1</td>\n",
       "      <td>94.767</td>\n",
       "      <td>-50.8</td>\n",
       "      <td>1.028</td>\n",
       "      <td>4963.6</td>\n",
       "    </tr>\n",
       "    <tr>\n",
       "      <th>10121</th>\n",
       "      <td>74</td>\n",
       "      <td>239</td>\n",
       "      <td>3</td>\n",
       "      <td>999</td>\n",
       "      <td>1</td>\n",
       "      <td>-1.1</td>\n",
       "      <td>94.767</td>\n",
       "      <td>-50.8</td>\n",
       "      <td>1.028</td>\n",
       "      <td>4963.6</td>\n",
       "    </tr>\n",
       "  </tbody>\n",
       "</table>\n",
       "<p>10122 rows × 10 columns</p>\n",
       "</div>"
      ],
      "text/plain": [
       "       age  duration  campaign  pdays  previous  emp.var.rate  cons.price.idx  \\\n",
       "0       40       151         1    999         0           1.1          93.994   \n",
       "1       56       307         1    999         0           1.1          93.994   \n",
       "2       41       217         1    999         0           1.1          93.994   \n",
       "3       57       293         1    999         0           1.1          93.994   \n",
       "4       39       195         1    999         0           1.1          93.994   \n",
       "...    ...       ...       ...    ...       ...           ...             ...   \n",
       "10117   64       151         3    999         0          -1.1          94.767   \n",
       "10118   37       281         1    999         0          -1.1          94.767   \n",
       "10119   73       334         1    999         0          -1.1          94.767   \n",
       "10120   44       442         1    999         0          -1.1          94.767   \n",
       "10121   74       239         3    999         1          -1.1          94.767   \n",
       "\n",
       "       cons.conf.idx  euribor3m  nr.employed  \n",
       "0              -36.4      4.857       5191.0  \n",
       "1              -36.4      4.857       5191.0  \n",
       "2              -36.4      4.857       5191.0  \n",
       "3              -36.4      4.857       5191.0  \n",
       "4              -36.4      4.857       5191.0  \n",
       "...              ...        ...          ...  \n",
       "10117          -50.8      1.028       4963.6  \n",
       "10118          -50.8      1.028       4963.6  \n",
       "10119          -50.8      1.028       4963.6  \n",
       "10120          -50.8      1.028       4963.6  \n",
       "10121          -50.8      1.028       4963.6  \n",
       "\n",
       "[10122 rows x 10 columns]"
      ]
     },
     "execution_count": 4,
     "metadata": {},
     "output_type": "execute_result"
    }
   ],
   "source": [
    "# select numerical values\n",
    "banking_df.select_dtypes(exclude='O')"
   ]
  },
  {
   "cell_type": "code",
   "execution_count": 5,
   "id": "7bc63eaa-3d9f-48fb-b677-49b96d90f666",
   "metadata": {},
   "outputs": [
    {
     "data": {
      "text/plain": [
       "object     11\n",
       "int64       5\n",
       "float64     5\n",
       "Name: count, dtype: int64"
      ]
     },
     "execution_count": 5,
     "metadata": {},
     "output_type": "execute_result"
    }
   ],
   "source": [
    "banking_df.dtypes.value_counts()"
   ]
  },
  {
   "cell_type": "code",
   "execution_count": 6,
   "id": "a74d0594-2321-41cd-95f6-3e0727b55030",
   "metadata": {},
   "outputs": [
    {
     "data": {
      "text/plain": [
       "(10122, 21)"
      ]
     },
     "execution_count": 6,
     "metadata": {},
     "output_type": "execute_result"
    }
   ],
   "source": [
    "banking_df.shape"
   ]
  },
  {
   "cell_type": "code",
   "execution_count": 7,
   "id": "536ccccf-2e88-4f75-80a0-f921913921cd",
   "metadata": {},
   "outputs": [
    {
     "data": {
      "text/plain": [
       "age               0\n",
       "job               0\n",
       "marital           0\n",
       "education         0\n",
       "default           0\n",
       "housing           0\n",
       "loan              0\n",
       "contact           0\n",
       "month             0\n",
       "day_of_week       0\n",
       "duration          0\n",
       "campaign          0\n",
       "pdays             0\n",
       "previous          0\n",
       "poutcome          0\n",
       "emp.var.rate      0\n",
       "cons.price.idx    0\n",
       "cons.conf.idx     0\n",
       "euribor3m         0\n",
       "nr.employed       0\n",
       "y                 0\n",
       "dtype: int64"
      ]
     },
     "execution_count": 7,
     "metadata": {},
     "output_type": "execute_result"
    }
   ],
   "source": [
    "# check misssing values\n",
    "banking_df.isnull().sum()"
   ]
  },
  {
   "cell_type": "code",
   "execution_count": 8,
   "id": "f5f5cd53-1de9-457f-80e7-b66fe3280cda",
   "metadata": {},
   "outputs": [
    {
     "data": {
      "text/plain": [
       "y\n",
       "no     5482\n",
       "yes    4640\n",
       "Name: count, dtype: int64"
      ]
     },
     "execution_count": 8,
     "metadata": {},
     "output_type": "execute_result"
    }
   ],
   "source": [
    "banking_df['y'].value_counts()"
   ]
  },
  {
   "cell_type": "code",
   "execution_count": 9,
   "id": "30d733da-ab34-47ef-8c7f-6696c4811a63",
   "metadata": {},
   "outputs": [
    {
     "data": {
      "text/html": [
       "<div>\n",
       "<style scoped>\n",
       "    .dataframe tbody tr th:only-of-type {\n",
       "        vertical-align: middle;\n",
       "    }\n",
       "\n",
       "    .dataframe tbody tr th {\n",
       "        vertical-align: top;\n",
       "    }\n",
       "\n",
       "    .dataframe thead th {\n",
       "        text-align: right;\n",
       "    }\n",
       "</style>\n",
       "<table border=\"1\" class=\"dataframe\">\n",
       "  <thead>\n",
       "    <tr style=\"text-align: right;\">\n",
       "      <th></th>\n",
       "      <th>age</th>\n",
       "      <th>duration</th>\n",
       "      <th>campaign</th>\n",
       "      <th>pdays</th>\n",
       "      <th>previous</th>\n",
       "      <th>emp.var.rate</th>\n",
       "      <th>cons.price.idx</th>\n",
       "      <th>cons.conf.idx</th>\n",
       "      <th>euribor3m</th>\n",
       "      <th>nr.employed</th>\n",
       "    </tr>\n",
       "  </thead>\n",
       "  <tbody>\n",
       "    <tr>\n",
       "      <th>count</th>\n",
       "      <td>10122.000000</td>\n",
       "      <td>10122.000000</td>\n",
       "      <td>10122.000000</td>\n",
       "      <td>10122.000000</td>\n",
       "      <td>10122.000000</td>\n",
       "      <td>10122.000000</td>\n",
       "      <td>10122.000000</td>\n",
       "      <td>10122.000000</td>\n",
       "      <td>10122.000000</td>\n",
       "      <td>10122.000000</td>\n",
       "    </tr>\n",
       "    <tr>\n",
       "      <th>mean</th>\n",
       "      <td>40.313673</td>\n",
       "      <td>373.414049</td>\n",
       "      <td>2.369789</td>\n",
       "      <td>896.476882</td>\n",
       "      <td>0.297471</td>\n",
       "      <td>-0.432671</td>\n",
       "      <td>93.492407</td>\n",
       "      <td>-40.250573</td>\n",
       "      <td>3.035134</td>\n",
       "      <td>5138.838975</td>\n",
       "    </tr>\n",
       "    <tr>\n",
       "      <th>std</th>\n",
       "      <td>11.855014</td>\n",
       "      <td>353.277755</td>\n",
       "      <td>2.472392</td>\n",
       "      <td>302.175859</td>\n",
       "      <td>0.680535</td>\n",
       "      <td>1.714657</td>\n",
       "      <td>0.628615</td>\n",
       "      <td>5.271326</td>\n",
       "      <td>1.884191</td>\n",
       "      <td>85.859595</td>\n",
       "    </tr>\n",
       "    <tr>\n",
       "      <th>min</th>\n",
       "      <td>17.000000</td>\n",
       "      <td>0.000000</td>\n",
       "      <td>1.000000</td>\n",
       "      <td>0.000000</td>\n",
       "      <td>0.000000</td>\n",
       "      <td>-3.400000</td>\n",
       "      <td>92.201000</td>\n",
       "      <td>-50.800000</td>\n",
       "      <td>0.634000</td>\n",
       "      <td>4963.600000</td>\n",
       "    </tr>\n",
       "    <tr>\n",
       "      <th>25%</th>\n",
       "      <td>31.000000</td>\n",
       "      <td>140.000000</td>\n",
       "      <td>1.000000</td>\n",
       "      <td>999.000000</td>\n",
       "      <td>0.000000</td>\n",
       "      <td>-1.800000</td>\n",
       "      <td>92.963000</td>\n",
       "      <td>-42.700000</td>\n",
       "      <td>1.252000</td>\n",
       "      <td>5076.200000</td>\n",
       "    </tr>\n",
       "    <tr>\n",
       "      <th>50%</th>\n",
       "      <td>38.000000</td>\n",
       "      <td>252.000000</td>\n",
       "      <td>2.000000</td>\n",
       "      <td>999.000000</td>\n",
       "      <td>0.000000</td>\n",
       "      <td>-0.100000</td>\n",
       "      <td>93.444000</td>\n",
       "      <td>-41.800000</td>\n",
       "      <td>4.076000</td>\n",
       "      <td>5191.000000</td>\n",
       "    </tr>\n",
       "    <tr>\n",
       "      <th>75%</th>\n",
       "      <td>48.000000</td>\n",
       "      <td>498.000000</td>\n",
       "      <td>3.000000</td>\n",
       "      <td>999.000000</td>\n",
       "      <td>0.000000</td>\n",
       "      <td>1.400000</td>\n",
       "      <td>93.994000</td>\n",
       "      <td>-36.400000</td>\n",
       "      <td>4.959000</td>\n",
       "      <td>5228.100000</td>\n",
       "    </tr>\n",
       "    <tr>\n",
       "      <th>max</th>\n",
       "      <td>98.000000</td>\n",
       "      <td>4199.000000</td>\n",
       "      <td>42.000000</td>\n",
       "      <td>999.000000</td>\n",
       "      <td>6.000000</td>\n",
       "      <td>1.400000</td>\n",
       "      <td>94.767000</td>\n",
       "      <td>-26.900000</td>\n",
       "      <td>5.045000</td>\n",
       "      <td>5228.100000</td>\n",
       "    </tr>\n",
       "  </tbody>\n",
       "</table>\n",
       "</div>"
      ],
      "text/plain": [
       "                age      duration      campaign         pdays      previous  \\\n",
       "count  10122.000000  10122.000000  10122.000000  10122.000000  10122.000000   \n",
       "mean      40.313673    373.414049      2.369789    896.476882      0.297471   \n",
       "std       11.855014    353.277755      2.472392    302.175859      0.680535   \n",
       "min       17.000000      0.000000      1.000000      0.000000      0.000000   \n",
       "25%       31.000000    140.000000      1.000000    999.000000      0.000000   \n",
       "50%       38.000000    252.000000      2.000000    999.000000      0.000000   \n",
       "75%       48.000000    498.000000      3.000000    999.000000      0.000000   \n",
       "max       98.000000   4199.000000     42.000000    999.000000      6.000000   \n",
       "\n",
       "       emp.var.rate  cons.price.idx  cons.conf.idx     euribor3m   nr.employed  \n",
       "count  10122.000000    10122.000000   10122.000000  10122.000000  10122.000000  \n",
       "mean      -0.432671       93.492407     -40.250573      3.035134   5138.838975  \n",
       "std        1.714657        0.628615       5.271326      1.884191     85.859595  \n",
       "min       -3.400000       92.201000     -50.800000      0.634000   4963.600000  \n",
       "25%       -1.800000       92.963000     -42.700000      1.252000   5076.200000  \n",
       "50%       -0.100000       93.444000     -41.800000      4.076000   5191.000000  \n",
       "75%        1.400000       93.994000     -36.400000      4.959000   5228.100000  \n",
       "max        1.400000       94.767000     -26.900000      5.045000   5228.100000  "
      ]
     },
     "execution_count": 9,
     "metadata": {},
     "output_type": "execute_result"
    }
   ],
   "source": [
    "banking_df.describe()"
   ]
  },
  {
   "cell_type": "markdown",
   "id": "b8c4f58d-e2ad-4cdd-abca-7e655dcdd2cf",
   "metadata": {},
   "source": [
    "## K-Nearest Neighbors (k-NN)"
   ]
  },
  {
   "cell_type": "markdown",
   "id": "be7ed37a-e7f3-4993-9776-0d96a8995a77",
   "metadata": {},
   "source": [
    "Upon exploring the data, we discovered that the dataset has:"
   ]
  },
  {
   "cell_type": "markdown",
   "id": "17ba00f5-d177-43e3-be72-7c149f4b92b7",
   "metadata": {},
   "source": [
    "- 10122 observations, 20 features, and 1 target variable.\n",
    "- No missing values in the dataset.\n",
    "- 5482 customers who didn't subscribe and 4640 who did.\n",
    "- 10 categorical columns and 10 numeric columns, excluding the target column."
   ]
  },
  {
   "cell_type": "markdown",
   "id": "e439ff4a-cc88-448c-83e6-bff74942309c",
   "metadata": {},
   "source": [
    "If we explore our dataset further, we could ask several questions to better analyze it. For example:"
   ]
  },
  {
   "cell_type": "markdown",
   "id": "569ad2d5-f6ce-4227-99fa-1e802ceb8c37",
   "metadata": {},
   "source": [
    "- How many customers under the age of 30 subscribed to the product?\n",
    "- Were the customers who subscribed contacted more often than those who weren't during the marketing campaign?\n",
    "- Which customers were contacted more often before this campaign?"
   ]
  },
  {
   "cell_type": "markdown",
   "id": "be1610e4-ef03-46ec-8cf0-1074d0509000",
   "metadata": {},
   "source": [
    "We could potentially answer each of these questions ourselves and develop a complex set of rules that could tell us which customers are likely to subscribe given all the features available to us.\r\n",
    "\r\n"
   ]
  },
  {
   "cell_type": "markdown",
   "id": "cc6bee08-41a5-4b72-ab30-c6296c87f556",
   "metadata": {},
   "source": [
    "Let's look at a visual representation of the above. The following plot depicts customers who subscribed (purple) and those who didn't (blue). Our two axes correspond to two features. For example, one could be age and another campaign."
   ]
  },
  {
   "attachments": {
    "ad390314-b44e-4db3-82b1-3eb03e061014.png": {
     "image/png": "[encoded data removed]"
    }
   },
   "cell_type": "markdown",
   "id": "8cf186fc-6b9b-4d54-8c90-3a3a811bf15d",
   "metadata": {},
   "source": [
    "![image.png](attachment:ad390314-b44e-4db3-82b1-3eb03e061014.png)"
   ]
  },
  {
   "cell_type": "markdown",
   "id": "c0b2d365-0d7e-4192-b1cb-0731a278c8d3",
   "metadata": {},
   "source": [
    "Each customer is a data point in a 2-dimensional feature space and is defined by two numerical values. If we know the age of a customer and how many times they were contacted during the campaign, we can locate that point in that space."
   ]
  },
  {
   "cell_type": "markdown",
   "id": "c2af8b4c-a1c3-41a4-8315-af36b87ec870",
   "metadata": {},
   "source": [
    "The proximity of those customers in the feature space can tell us how similar they are to one another in relation to their label. For example, let's say that 3 out of 5 customers who are 30 to 32 years old and were contacted 2 to 4 times during the campaign subscribed to the product. In the plot, the data points for those customers would be relatively close to one another. We could say that customers within that age and campaign range of values are more likely to subscribe to the bank's product."
   ]
  },
  {
   "cell_type": "markdown",
   "id": "65001c57-f889-4607-b57c-4116dbda82a8",
   "metadata": {},
   "source": [
    "That's the kind of rule we could develop through our analysis and by looking at the data points in the feature space."
   ]
  },
  {
   "attachments": {
    "9f615637-a208-4d5b-83ab-7b1f51e41231.png": {
     "image/png": "[encoded data removed]"
    }
   },
   "cell_type": "markdown",
   "id": "cde20602-500c-430a-abc3-e1f7b75e6638",
   "metadata": {},
   "source": [
    "![image.png](attachment:9f615637-a208-4d5b-83ab-7b1f51e41231.png)"
   ]
  },
  {
   "cell_type": "markdown",
   "id": "79912c74-0ba1-4a01-a493-46f0bc54ba17",
   "metadata": {},
   "source": [
    "What if we add another customer (blue dot) to our feature space above?"
   ]
  },
  {
   "attachments": {
    "d4b03bcc-7d18-453e-bcc0-6ba07c7f550c.png": {
     "image/png": "[encoded data removed]"
    }
   },
   "cell_type": "markdown",
   "id": "2a8fafff-380b-492e-9e89-4c483f9cd154",
   "metadata": {},
   "source": [
    "![image.png](attachment:d4b03bcc-7d18-453e-bcc0-6ba07c7f550c.png)"
   ]
  },
  {
   "cell_type": "markdown",
   "id": "1ef95816-1d54-4073-8867-556b83161790",
   "metadata": {},
   "source": [
    "How can we predict if this new customer is going to subscribe, given just those two features?"
   ]
  },
  {
   "cell_type": "markdown",
   "id": "e0741a68-13ee-4e77-873a-d17fdccc3809",
   "metadata": {},
   "source": [
    "With what we learned above, we can calculate the distance of that blue dot from all the other points and look at the ones closest to it. If a majority of the points closest to it are purple, we can classify the new point as purple. If they are blue, we can classify it as blue."
   ]
  },
  {
   "attachments": {
    "99dd64e4-efea-4d69-974d-05dc6d14b2de.png": {
     "image/png": "[encoded data removed]"
    }
   },
   "cell_type": "markdown",
   "id": "dae57a60-cf8b-4726-8fad-1e8db80dc33a",
   "metadata": {},
   "source": [
    "![image.png](attachment:99dd64e4-efea-4d69-974d-05dc6d14b2de.png)"
   ]
  },
  {
   "cell_type": "markdown",
   "id": "1e51b8ee-d234-4faf-976b-d16e0135f242",
   "metadata": {},
   "source": [
    "By looking at how closely-related those data points are in context of their labels, we are allowing those rules, like the ones we mentioned above, to develop on their own. This is the K-Nearest Neighbors algorithm."
   ]
  },
  {
   "cell_type": "markdown",
   "id": "113e6dbc-a3f6-4333-aab4-73e73ae8a451",
   "metadata": {},
   "source": [
    "1. For an unseen data point, the algorithm calculates the distance between that point and all the observations across all features in the training dataset.\n",
    "\n",
    "2. It sorts those distances in ascending order.\n",
    "\n",
    "3. It selects \n",
    "K\n",
    " observations with the smallest distances from the above step. These \n",
    "K\n",
    " observations are the K-nearest neighbors of that unseen data point."
   ]
  },
  {
   "cell_type": "markdown",
   "id": "15b09ae5-c28e-4a52-9698-c547c1600775",
   "metadata": {},
   "source": [
    "Note that there should be at least \r\n",
    "K\r\n",
    "≥\r\n",
    "1\r\n",
    " observations in the dataset."
   ]
  },
  {
   "cell_type": "markdown",
   "id": "a9616b4a-9999-461d-a965-13fba00b8b48",
   "metadata": {},
   "source": [
    "It calculates which labels of those neighbors is the most common, and assigns that label to the unseen data point."
   ]
  },
  {
   "cell_type": "markdown",
   "id": "6814854c-6c44-403c-b13a-2419417e9107",
   "metadata": {},
   "source": [
    "Before we implement the algorithm, let's prepare our data."
   ]
  },
  {
   "cell_type": "markdown",
   "id": "2b15a0ba-7c42-4836-ab7c-64edd3846c64",
   "metadata": {},
   "source": [
    "## Data Preparation"
   ]
  },
  {
   "cell_type": "markdown",
   "id": "67c01dc6-9ce7-400b-92b6-aab6cd855873",
   "metadata": {},
   "source": [
    "When we explored our data, we noticed that our target column, y, stores the labels as yes or no strings. While those are reasonable categories and we can continue working with them as is, we'll encode those strings as the numbers 0 for no and 1 for yes."
   ]
  },
  {
   "cell_type": "markdown",
   "id": "5ec03ca7-500d-4ee1-9cd8-99fb5546618d",
   "metadata": {},
   "source": [
    "In the previous lesson, we learned how to split the dataset into a training and test set. Instead of using scikit-learn's `train_test_split()` function, we'll implement the split ourselves. We'll opt for a `85-15%` split."
   ]
  },
  {
   "cell_type": "markdown",
   "id": "69267799-4be9-4653-abbc-5a4d22d234cf",
   "metadata": {},
   "source": [
    "In order to split the dataset, we could take a direct approach of selecting the first N observations as the training set and the rest as the test set. But that poses a problem.  We don't know how many observations of those N have a label of 0 and how many have a label of 1."
   ]
  },
  {
   "cell_type": "markdown",
   "id": "403ae27e-2d8c-4edc-8d69-acba2af31324",
   "metadata": {},
   "source": [
    "Let's say N = 100. What if, out of those 100, only 5 observations had a label of 1?"
   ]
  },
  {
   "cell_type": "markdown",
   "id": "6c58ea7d-554e-4e58-8c60-cc772be60ac0",
   "metadata": {},
   "source": [
    "When the dataset is imbalanced, a machine learning model might struggle to accurately predict the labels because it hasn't had enough information to learn to distinguish between the classes. Ideally, the model should have enough data corresponding to each class so it can learn from the data effectively."
   ]
  },
  {
   "cell_type": "markdown",
   "id": "a3154f98-5bfd-4647-a384-ec142dacb18e",
   "metadata": {},
   "source": [
    "Even though our dataset has a reasonably balanced class distribution, we need to make sure that both the train and test sets have a similar percentage of subscribed customers."
   ]
  },
  {
   "cell_type": "markdown",
   "id": "b0d526b9-ecda-4ad7-b5b1-3295cf325d4c",
   "metadata": {},
   "source": [
    "The data collection process can also introduce certain biases. It's possible that the clients were selected in a specific order. For example, the collection process could've added the newest clients first. If we were to select the first N observations, we could be introducing bias into our model. That's why, when creating our training and test sets, randomly selecting observations is important, as it can help reduce any such biases."
   ]
  },
  {
   "cell_type": "markdown",
   "id": "14ce3c79-2047-46f6-85be-2f14942d34d6",
   "metadata": {},
   "source": [
    "Fortunately for us, this isn't complicated to implement in pandas."
   ]
  },
  {
   "cell_type": "code",
   "execution_count": 10,
   "id": "9445645e-616f-4134-a5bc-58ce48eb7cfe",
   "metadata": {},
   "outputs": [],
   "source": [
    "banking_df['y'] = banking_df['y'].apply(lambda x: 1 if x == 'yes' else 0)\n",
    "\n",
    "# Randomize the sample\n",
    "train_df = banking_df.sample(frac=0.85,random_state=417)\n",
    "test_df = banking_df.drop(train_df.index)"
   ]
  },
  {
   "cell_type": "code",
   "execution_count": 11,
   "id": "8c844962-5b81-4fc1-b3d8-baeb33ffcf93",
   "metadata": {},
   "outputs": [
    {
     "data": {
      "text/plain": [
       "y\n",
       "0    54.159257\n",
       "1    45.840743\n",
       "Name: proportion, dtype: float64"
      ]
     },
     "execution_count": 11,
     "metadata": {},
     "output_type": "execute_result"
    }
   ],
   "source": [
    "banking_df['y'].value_counts(normalize=True) * 100"
   ]
  },
  {
   "cell_type": "code",
   "execution_count": 12,
   "id": "1ca299aa-f696-45f3-ab5e-7ea1a469320e",
   "metadata": {},
   "outputs": [
    {
     "data": {
      "text/plain": [
       "y\n",
       "0    54.009763\n",
       "1    45.990237\n",
       "Name: proportion, dtype: float64"
      ]
     },
     "execution_count": 12,
     "metadata": {},
     "output_type": "execute_result"
    }
   ],
   "source": [
    "train_df['y'].value_counts(normalize=True) * 100"
   ]
  },
  {
   "cell_type": "code",
   "execution_count": 13,
   "id": "2b0420ab-c8b9-48e4-9b17-663d286e0b72",
   "metadata": {},
   "outputs": [
    {
     "data": {
      "text/plain": [
       "y\n",
       "0    55.006588\n",
       "1    44.993412\n",
       "Name: proportion, dtype: float64"
      ]
     },
     "execution_count": 13,
     "metadata": {},
     "output_type": "execute_result"
    }
   ],
   "source": [
    "test_df['y'].value_counts(normalize=True) * 100"
   ]
  },
  {
   "cell_type": "code",
   "execution_count": 14,
   "id": "c242a8e6-7ff0-43fe-b9f5-0893f3fec992",
   "metadata": {},
   "outputs": [],
   "source": [
    "X_train = train_df.drop('y', axis=1)\n",
    "X_test = test_df.drop('y', axis=1)\n",
    "y_train = train_df['y']\n",
    "y_test = test_df['y']"
   ]
  },
  {
   "cell_type": "markdown",
   "id": "aa75359a-bcca-47f9-981e-a06ef98a0844",
   "metadata": {},
   "source": [
    "## k-NN for One Feature"
   ]
  },
  {
   "cell_type": "markdown",
   "id": "182ea921-09ae-4768-bf7c-aa81ee6dd420",
   "metadata": {},
   "source": [
    "Now that we have our training and test sets, we can implement our algorithm!"
   ]
  },
  {
   "cell_type": "markdown",
   "id": "484d0249-9163-443d-9a1a-02042369a16b",
   "metadata": {},
   "source": [
    "Before we begin, we need to select a `distance metric` to calculate the distance between observations."
   ]
  },
  {
   "attachments": {
    "4da2482b-977a-4f49-9a3b-e676622140f4.png": {
     "image/png": "[encoded data removed]"
    }
   },
   "cell_type": "markdown",
   "id": "0cdce70a-3f06-485c-9483-89c91c431fea",
   "metadata": {},
   "source": [
    "![image.png](attachment:4da2482b-977a-4f49-9a3b-e676622140f4.png)s:"
   ]
  },
  {
   "attachments": {
    "59cf62e1-17d4-4e61-8f7f-e9915bda1ac9.png": {
     "image/png": "[encoded data removed]"
    }
   },
   "cell_type": "markdown",
   "id": "635e9438-5843-4d20-8265-a60514cd1dd3",
   "metadata": {},
   "source": [
    "![image.png](attachment:59cf62e1-17d4-4e61-8f7f-e9915bda1ac9.png)"
   ]
  },
  {
   "cell_type": "markdown",
   "id": "cb6d3eef-90af-4fa3-b244-d58790917ebf",
   "metadata": {},
   "source": [
    "When we are working with only one feature, the above formula simplifies to:"
   ]
  },
  {
   "attachments": {
    "b9400f88-78e5-4478-a177-b5a6be2e2612.png": {
     "image/png": "[encoded data removed]"
    }
   },
   "cell_type": "markdown",
   "id": "a47b92dd-a633-401d-a76b-cdbece209719",
   "metadata": {},
   "source": [
    "![image.png](attachment:b9400f88-78e5-4478-a177-b5a6be2e2612.png)"
   ]
  },
  {
   "cell_type": "markdown",
   "id": "12ad935a-108d-48af-84de-16af20b2644a",
   "metadata": {},
   "source": [
    "We'll implement our algorithm with this distance metric. You're encouraged to learn about some of the other distance metrics that can be used as well:"
   ]
  },
  {
   "cell_type": "markdown",
   "id": "c076551d-70e2-4fb4-ad51-7a65eba1bbec",
   "metadata": {},
   "source": [
    "- [Manhattan distance](https://en.wikipedia.org/wiki/Taxicab_geometry)\n",
    "- [Minkowski distance](https://en.wikipedia.org/wiki/Minkowski_distance)\n",
    "- [Hamming distance](https://en.wikipedia.org/wiki/Hamming_distance)"
   ]
  },
  {
   "cell_type": "markdown",
   "id": "8ddb002e-98e7-4354-84e0-9fc766ff3149",
   "metadata": {},
   "source": [
    "As per the algorithm, we'll calculate how far an unseen observation is from all the observations in the training data for a specific feature."
   ]
  },
  {
   "cell_type": "markdown",
   "id": "0ff59837-408e-4e9d-90ce-bf084c840cad",
   "metadata": {},
   "source": [
    "But wait a minute. We learned that a machine learning model is trained over some data and then the trained model can be used to classify unseen data."
   ]
  },
  {
   "cell_type": "markdown",
   "id": "7079b78c-2492-4608-8d9c-227dc19ac741",
   "metadata": {},
   "source": [
    "Why are we using an unseen observation to implement the k-NN algorithm? Aren't we training the model using unseen data?"
   ]
  },
  {
   "cell_type": "markdown",
   "id": "db6b975b-b1d1-4edf-8f96-7de5de56661f",
   "metadata": {},
   "source": [
    "K-nearest neighbors is a bit of a unique case. It works at the time of prediction and it doesn't technically have a \"training phase.\" The model classifies every new input by comparing it to its neighbors. Those neighbors are from the training set."
   ]
  },
  {
   "cell_type": "markdown",
   "id": "59bb0f66-dcf2-4bfa-970c-a7b58cef458e",
   "metadata": {},
   "source": [
    "As a result, the algorithm can be time-consuming depending on the number of observations and features in our dataset."
   ]
  },
  {
   "cell_type": "markdown",
   "id": "79a3ec27-29df-4981-8a05-890fb6711887",
   "metadata": {},
   "source": [
    "So why did we have to create a separate test set?"
   ]
  },
  {
   "cell_type": "markdown",
   "id": "9cf94193-2670-43d9-aa94-38f40b890dda",
   "metadata": {},
   "source": [
    "Even though there's no training phase, the algorithm does rely on an unseen observation to be able to make a prediction. In the next exercise, we'll use a random value from our test set to implement the algorithm."
   ]
  },
  {
   "cell_type": "code",
   "execution_count": 113,
   "id": "088b3f33-f2eb-4469-8247-f176779850d3",
   "metadata": {},
   "outputs": [],
   "source": [
    "def knn(feature, single_test_input, k):\n",
    "    X_train['distance'] = abs(X_train[feature] - single_test_input[feature])\n",
    "    prediction = y_train[X_train['distance'].nsmallest(n=k).index].mode()[0]\n",
    "    return prediction"
   ]
  },
  {
   "cell_type": "code",
   "execution_count": 120,
   "id": "d9ee946d-43d5-47d0-b3f6-fcba72a98e89",
   "metadata": {},
   "outputs": [
    {
     "data": {
      "text/plain": [
       "0"
      ]
     },
     "execution_count": 120,
     "metadata": {},
     "output_type": "execute_result"
    }
   ],
   "source": [
    "feature = 'age'\n",
    "knn('age', X_test, k=3)"
   ]
  },
  {
   "cell_type": "code",
   "execution_count": 118,
   "id": "5460d47f-d8c6-4294-9eb4-c3f663cb14fe",
   "metadata": {},
   "outputs": [
    {
     "data": {
      "text/plain": [
       "1"
      ]
     },
     "execution_count": 118,
     "metadata": {},
     "output_type": "execute_result"
    }
   ],
   "source": [
    "knn(feature, test, 3)"
   ]
  },
  {
   "cell_type": "markdown",
   "id": "24e50ed3-fea8-4cdf-b4af-d64853825bb0",
   "metadata": {},
   "source": [
    "## Evaluating the Model"
   ]
  },
  {
   "cell_type": "markdown",
   "id": "22252b40-6886-47da-a70f-133f26502ef0",
   "metadata": {},
   "source": [
    "On the previous screen, we implemented the algorithm and used it to classify a sample input from the test set."
   ]
  },
  {
   "cell_type": "markdown",
   "id": "8966b81c-53b8-4676-87d3-7e8fce0de81e",
   "metadata": {},
   "source": [
    "We'll now evaluate our model's performance by calculating how accurately it is able to correctly classify a given value. We can calculate the accuracy by comparing how many predictions the model gets correct compared to the total number of predictions."
   ]
  },
  {
   "attachments": {
    "5a6a037f-cb2b-4eaf-9868-3476d711d12a.png": {
     "image/png": "[encoded data removed]"
    }
   },
   "cell_type": "markdown",
   "id": "60a6c287-1741-4325-aea8-d615457e6133",
   "metadata": {},
   "source": [
    "![image.png](attachment:5a6a037f-cb2b-4eaf-9868-3476d711d12a.png)"
   ]
  },
  {
   "cell_type": "markdown",
   "id": "6333e103-8343-4fa3-a077-6b6b92032f2f",
   "metadata": {},
   "source": [
    "In order to do that, we'll classify every data point in our test set and compare the predictions to the actual labels for those data points."
   ]
  },
  {
   "cell_type": "code",
   "execution_count": 128,
   "id": "17acea8d-8bbb-4867-8dfe-4247a9ab9033",
   "metadata": {},
   "outputs": [],
   "source": [
    "X_test['age_predicted_y'] = X_test.apply(lambda x: knn('age', x, k=3), axis=1)"
   ]
  },
  {
   "cell_type": "code",
   "execution_count": 133,
   "id": "85cf95c7-15e8-4df4-8045-c1d35e05dcd9",
   "metadata": {},
   "outputs": [
    {
     "data": {
      "text/plain": [
       "0.538866930171278"
      ]
     },
     "execution_count": 133,
     "metadata": {},
     "output_type": "execute_result"
    }
   ],
   "source": [
    "correct_preds = (X_test['age_predicted_y'] == y_test).sum()\n",
    "total = X_test.shape[0]\n",
    "accuracy = correct_preds / total\n",
    "accuracy"
   ]
  },
  {
   "cell_type": "code",
   "execution_count": 138,
   "id": "86412000-5475-4e8f-84c2-a4ba59e9e6fa",
   "metadata": {},
   "outputs": [
    {
     "name": "stdout",
     "output_type": "stream",
     "text": [
      "Accuracy of model trained on the column 'age': 53.89%\n"
     ]
    }
   ],
   "source": [
    "model_accuracy = (X_test[\"age_predicted_y\"] == y_test).value_counts(normalize=True)[True]*100\n",
    "print(f\"Accuracy of model trained on the column 'age': {model_accuracy:.2f}%\")"
   ]
  },
  {
   "cell_type": "code",
   "execution_count": 136,
   "id": "072d56e9-cb28-4680-91c2-b26b7b84a8a9",
   "metadata": {},
   "outputs": [
    {
     "name": "stdout",
     "output_type": "stream",
     "text": [
      "Accuracy of model trained on the column 'campaign': 55.14%\n"
     ]
    }
   ],
   "source": [
    "# using the campgain feature\n",
    "\n",
    "X_test['campaign_predicted_y'] = X_test.apply(lambda x: knn('campaign', x, k=3), axis=1)\n",
    "\n",
    "model_accuracy = (X_test[\"campaign_predicted_y\"] == y_test).value_counts(normalize=True)[True]*100\n",
    "print(f\"Accuracy of model trained on the column 'campaign': {model_accuracy:.2f}%\")"
   ]
  },
  {
   "cell_type": "code",
   "execution_count": 137,
   "id": "1e41b514-49a3-4f1d-8e66-1f52747a6205",
   "metadata": {},
   "outputs": [
    {
     "data": {
      "text/plain": [
       "True     0.551383\n",
       "False    0.448617\n",
       "Name: proportion, dtype: float64"
      ]
     },
     "execution_count": 137,
     "metadata": {},
     "output_type": "execute_result"
    }
   ],
   "source": [
    "(X_test[\"campaign_predicted_y\"] == y_test).value_counts(normalize=True)"
   ]
  },
  {
   "cell_type": "markdown",
   "id": "7604e7a7-9c61-4d64-aa2a-83334f9bcc0c",
   "metadata": {},
   "source": [
    "## Feature Engineering I"
   ]
  },
  {
   "cell_type": "markdown",
   "id": "b128b1bf-36db-4269-810e-e2b1f7ee46c0",
   "metadata": {},
   "source": [
    "For a single feature, age, our model got an accuracy of ~54%! It's not performing too well."
   ]
  },
  {
   "cell_type": "markdown",
   "id": "52500fdb-1cd7-468a-981b-ba1c44feb862",
   "metadata": {},
   "source": [
    "Fortunately, we don't have to rely on using just one feature at a time. We can use multiple at the same time, which might improve our model's performance."
   ]
  },
  {
   "cell_type": "markdown",
   "id": "71b758f6-2b2c-4bf9-9987-fbad827e9c20",
   "metadata": {},
   "source": [
    "When building machine learning models, we'll often have to transform features so they can be effectively used to train models and yield better performance. The process of transforming those features is called feature engineering. Feature engineering will often be part of the data preparation step of the machine learning workflow."
   ]
  },
  {
   "cell_type": "markdown",
   "id": "2084f2f5-8773-4268-b723-c2f285825fa0",
   "metadata": {},
   "source": [
    "We'll work through a couple of commonly used techniques in this lesson."
   ]
  },
  {
   "cell_type": "markdown",
   "id": "c495a51e-ef2e-4e97-b4c7-4da6963752c7",
   "metadata": {},
   "source": [
    "Both age and campaign are numerical features. There are several categorical variables in our data set as well. However, all the categorical variables in our data set contain string values."
   ]
  },
  {
   "cell_type": "markdown",
   "id": "8908d970-f569-480b-9021-944a56bfe7e3",
   "metadata": {},
   "source": [
    "We can't calculate the distance between two strings. That's another limitation of the k-nearest neighbor algorithm. We can work around it without much effort."
   ]
  },
  {
   "cell_type": "markdown",
   "id": "083b4f07-ee6c-4d59-b029-2a1278adf7d7",
   "metadata": {},
   "source": [
    "Just like we encoded the yes and no values as 0 and 1 for our target variable, we can encode our categorical features."
   ]
  },
  {
   "cell_type": "markdown",
   "id": "07bbd736-3b77-4f3e-a9fe-e70b27f92466",
   "metadata": {},
   "source": [
    "What values could we use for the categories in the marital column, for example? Maybe 1 to 4 for all 4 categories?"
   ]
  },
  {
   "attachments": {
    "c18bd749-fd29-4e98-ac7b-bdef7dbe5be8.png": {
     "image/png": "[encoded data removed]"
    }
   },
   "cell_type": "markdown",
   "id": "cdf395db-8c9e-45b8-a243-d92a8a7a7eab",
   "metadata": {},
   "source": [
    "![image.png](attachment:c18bd749-fd29-4e98-ac7b-bdef7dbe5be8.png)"
   ]
  },
  {
   "cell_type": "markdown",
   "id": "81da67d6-67fc-485a-854b-47b364c63240",
   "metadata": {},
   "source": [
    "While that sounds like a good approach, it's not suitable in practice."
   ]
  },
  {
   "cell_type": "markdown",
   "id": "94535876-2b98-4f78-bdd8-49acbb8d6a05",
   "metadata": {},
   "source": [
    "We're calculating the distance between the feature(s) of two observations. By assigning each category a unique number, we're inadvertently turning the feature into an ordinal variable. The distance between a 4 and a 1 is higher than that between a 1 and a 2, even though there is no inherent order or rank to those categories."
   ]
  },
  {
   "cell_type": "markdown",
   "id": "1059ce06-90ab-444e-aa72-98f9f7f2735d",
   "metadata": {},
   "source": [
    "An alternative approach is to convert each category into its own column. For every observation in each column, we set a binary value, 0 or 1, for that observation, depending on how the observation was originally categorized."
   ]
  },
  {
   "cell_type": "markdown",
   "id": "f93686cd-b61c-45de-96c3-47814b6f2982",
   "metadata": {},
   "source": [
    "This is what the outcome would look like:"
   ]
  },
  {
   "attachments": {
    "fd1d49fb-9516-4f2b-82d2-a436d4c8b0d2.png": {
     "image/png": "[encoded data removed]"
    }
   },
   "cell_type": "markdown",
   "id": "285f0f06-46ca-4207-af20-49df4adb6a6a",
   "metadata": {},
   "source": [
    "![image.png](attachment:fd1d49fb-9516-4f2b-82d2-a436d4c8b0d2.png)"
   ]
  },
  {
   "cell_type": "markdown",
   "id": "1b03755d-94a8-48f5-bd75-a2d313d81b34",
   "metadata": {},
   "source": [
    "Each row above represents an observation. The Marital column lists the category for each observation. The rest of the columns store a 0 or 1, depending on the category for that observation."
   ]
  },
  {
   "cell_type": "markdown",
   "id": "79938bf6-8e10-4c36-b3ac-b835210fbb9e",
   "metadata": {},
   "source": [
    "This process is known as one-hot encoding. The new columns that get created in this process are called dummy variables."
   ]
  },
  {
   "cell_type": "markdown",
   "id": "b2faf66e-a3ff-4c77-9a18-b9dfe8b27d28",
   "metadata": {},
   "source": [
    "There are two ways we can implement one-hot encoding. We discussed the first way above. The second way is to drop the first category encountered when performing one-hot encoding instead of creating a dummy variable for it. This is possible because we can encode n categories of a categorical column with just n-1 dummy variables. Using this approach, any observation with a 0 for each dummy variable indicates that the observation belongs to the category that's been dropped. For example, if Unknown is the first category encountered in the Marital column, it will be dropped and produce the following table:"
   ]
  },
  {
   "cell_type": "markdown",
   "id": "436e0a94-0a1b-4933-b946-dfb17eff5357",
   "metadata": {},
   "source": [
    "Notice how the Unknown observation has a 0 value for each dummy variable created. This shows us how four categories can be encoded with just three dummy variables.\n",
    "\n",
    "We will convert the marital categorical column in our dataset to dummy variables using the second approach."
   ]
  },
  {
   "cell_type": "code",
   "execution_count": 164,
   "id": "8cc3f2e7-11c6-432c-b346-deaab942fdd6",
   "metadata": {},
   "outputs": [],
   "source": [
    "banking_df_copy = banking_df.copy()\n",
    "banking_df_copy = pd.get_dummies(banking_df_copy, columns=['marital'], drop_first=True, dtype=int)"
   ]
  },
  {
   "cell_type": "markdown",
   "id": "d4d0935c-28f5-4c29-8c38-07f0643cdc5d",
   "metadata": {},
   "source": [
    "## k-NN for Multiple Features"
   ]
  },
  {
   "cell_type": "markdown",
   "id": "d4a03420-c6ea-4a08-8da8-2312f2c6496f",
   "metadata": {},
   "source": [
    "We'll now implement the k-nearest neighbor algorithm for multiple features."
   ]
  },
  {
   "cell_type": "markdown",
   "id": "914f4c4d-fddd-4e9b-ae35-e5eb43b7245b",
   "metadata": {},
   "source": [
    "The only change we need to make is to our distance calculation. As we discussed on the fourth screen, the Euclidean distance for \r\n",
    "n\r\n",
    " features is calculated as:"
   ]
  },
  {
   "attachments": {
    "aa1ccd85-0fe0-4f8e-a75e-77907d3219d7.png": {
     "image/png": "[encoded data removed]"
    }
   },
   "cell_type": "markdown",
   "id": "2e031783-d44a-4321-be53-58084bae7ab3",
   "metadata": {},
   "source": [
    "![image.png](attachment:aa1ccd85-0fe0-4f8e-a75e-77907d3219d7.png)"
   ]
  },
  {
   "attachments": {
    "b3ae0ffd-9ed5-4194-aea1-077bba9720e7.png": {
     "image/png": "[encoded data removed]"
    }
   },
   "cell_type": "markdown",
   "id": "3f9e65f6-c9b6-48ca-ad35-4057fdfc7caa",
   "metadata": {},
   "source": [
    "![image.png](attachment:b3ae0ffd-9ed5-4194-aea1-077bba9720e7.png)"
   ]
  },
  {
   "cell_type": "markdown",
   "id": "5eb5fb8c-6cdf-4c2a-968c-7013f6cd2852",
   "metadata": {},
   "source": [
    "We'll modify our knn() function to account for this and select the following features for the model:"
   ]
  },
  {
   "cell_type": "markdown",
   "id": "5b95d8da-871f-405e-bd1b-fed30112e139",
   "metadata": {},
   "source": [
    "- age\n",
    "- campaign\n",
    "- marital_married\n",
    "- marital_single"
   ]
  },
  {
   "cell_type": "code",
   "execution_count": 225,
   "id": "38f92e4f-a203-496e-b6c5-d626f1c911cf",
   "metadata": {},
   "outputs": [],
   "source": [
    "from sklearn.model_selection import train_test_split\n",
    "X = banking_df_copy.drop('y', axis=1)\n",
    "y = banking_df_copy['y']\n",
    "X_train, X_test, y_train, y_test = train_test_split(X, y, random_state=417)"
   ]
  },
  {
   "cell_type": "code",
   "execution_count": 226,
   "id": "ae910015-0698-4250-9aaf-eca3180f9bed",
   "metadata": {},
   "outputs": [
    {
     "data": {
      "text/plain": [
       "((7591, 22), (2531, 22), (7591,), (2531,))"
      ]
     },
     "execution_count": 226,
     "metadata": {},
     "output_type": "execute_result"
    }
   ],
   "source": [
    "X_train.shape, X_test.shape, y_train.shape, y_test.shape"
   ]
  },
  {
   "cell_type": "code",
   "execution_count": 227,
   "id": "f620bfc2-ba4c-4214-a92f-8029a596d67f",
   "metadata": {},
   "outputs": [
    {
     "data": {
      "text/html": [
       "<div>\n",
       "<style scoped>\n",
       "    .dataframe tbody tr th:only-of-type {\n",
       "        vertical-align: middle;\n",
       "    }\n",
       "\n",
       "    .dataframe tbody tr th {\n",
       "        vertical-align: top;\n",
       "    }\n",
       "\n",
       "    .dataframe thead th {\n",
       "        text-align: right;\n",
       "    }\n",
       "</style>\n",
       "<table border=\"1\" class=\"dataframe\">\n",
       "  <thead>\n",
       "    <tr style=\"text-align: right;\">\n",
       "      <th></th>\n",
       "      <th>age</th>\n",
       "      <th>job</th>\n",
       "      <th>education</th>\n",
       "      <th>default</th>\n",
       "      <th>housing</th>\n",
       "      <th>loan</th>\n",
       "      <th>contact</th>\n",
       "      <th>month</th>\n",
       "      <th>day_of_week</th>\n",
       "      <th>duration</th>\n",
       "      <th>...</th>\n",
       "      <th>previous</th>\n",
       "      <th>poutcome</th>\n",
       "      <th>emp.var.rate</th>\n",
       "      <th>cons.price.idx</th>\n",
       "      <th>cons.conf.idx</th>\n",
       "      <th>euribor3m</th>\n",
       "      <th>nr.employed</th>\n",
       "      <th>marital_married</th>\n",
       "      <th>marital_single</th>\n",
       "      <th>marital_unknown</th>\n",
       "    </tr>\n",
       "  </thead>\n",
       "  <tbody>\n",
       "    <tr>\n",
       "      <th>7472</th>\n",
       "      <td>38</td>\n",
       "      <td>technician</td>\n",
       "      <td>university.degree</td>\n",
       "      <td>no</td>\n",
       "      <td>yes</td>\n",
       "      <td>no</td>\n",
       "      <td>cellular</td>\n",
       "      <td>may</td>\n",
       "      <td>tue</td>\n",
       "      <td>118</td>\n",
       "      <td>...</td>\n",
       "      <td>0</td>\n",
       "      <td>nonexistent</td>\n",
       "      <td>-1.8</td>\n",
       "      <td>92.893</td>\n",
       "      <td>-46.2</td>\n",
       "      <td>1.266</td>\n",
       "      <td>5099.1</td>\n",
       "      <td>1</td>\n",
       "      <td>0</td>\n",
       "      <td>0</td>\n",
       "    </tr>\n",
       "    <tr>\n",
       "      <th>3408</th>\n",
       "      <td>55</td>\n",
       "      <td>retired</td>\n",
       "      <td>high.school</td>\n",
       "      <td>no</td>\n",
       "      <td>yes</td>\n",
       "      <td>yes</td>\n",
       "      <td>cellular</td>\n",
       "      <td>jul</td>\n",
       "      <td>tue</td>\n",
       "      <td>394</td>\n",
       "      <td>...</td>\n",
       "      <td>0</td>\n",
       "      <td>nonexistent</td>\n",
       "      <td>1.4</td>\n",
       "      <td>93.918</td>\n",
       "      <td>-42.7</td>\n",
       "      <td>4.961</td>\n",
       "      <td>5228.1</td>\n",
       "      <td>1</td>\n",
       "      <td>0</td>\n",
       "      <td>0</td>\n",
       "    </tr>\n",
       "    <tr>\n",
       "      <th>5851</th>\n",
       "      <td>29</td>\n",
       "      <td>technician</td>\n",
       "      <td>university.degree</td>\n",
       "      <td>no</td>\n",
       "      <td>no</td>\n",
       "      <td>yes</td>\n",
       "      <td>cellular</td>\n",
       "      <td>apr</td>\n",
       "      <td>mon</td>\n",
       "      <td>222</td>\n",
       "      <td>...</td>\n",
       "      <td>0</td>\n",
       "      <td>nonexistent</td>\n",
       "      <td>-1.8</td>\n",
       "      <td>93.075</td>\n",
       "      <td>-47.1</td>\n",
       "      <td>1.405</td>\n",
       "      <td>5099.1</td>\n",
       "      <td>0</td>\n",
       "      <td>1</td>\n",
       "      <td>0</td>\n",
       "    </tr>\n",
       "    <tr>\n",
       "      <th>9132</th>\n",
       "      <td>80</td>\n",
       "      <td>retired</td>\n",
       "      <td>basic.4y</td>\n",
       "      <td>no</td>\n",
       "      <td>yes</td>\n",
       "      <td>yes</td>\n",
       "      <td>cellular</td>\n",
       "      <td>apr</td>\n",
       "      <td>wed</td>\n",
       "      <td>654</td>\n",
       "      <td>...</td>\n",
       "      <td>0</td>\n",
       "      <td>nonexistent</td>\n",
       "      <td>-1.8</td>\n",
       "      <td>93.749</td>\n",
       "      <td>-34.6</td>\n",
       "      <td>0.642</td>\n",
       "      <td>5008.7</td>\n",
       "      <td>0</td>\n",
       "      <td>0</td>\n",
       "      <td>0</td>\n",
       "    </tr>\n",
       "    <tr>\n",
       "      <th>3790</th>\n",
       "      <td>45</td>\n",
       "      <td>blue-collar</td>\n",
       "      <td>basic.4y</td>\n",
       "      <td>no</td>\n",
       "      <td>no</td>\n",
       "      <td>no</td>\n",
       "      <td>cellular</td>\n",
       "      <td>aug</td>\n",
       "      <td>fri</td>\n",
       "      <td>507</td>\n",
       "      <td>...</td>\n",
       "      <td>0</td>\n",
       "      <td>nonexistent</td>\n",
       "      <td>1.4</td>\n",
       "      <td>93.444</td>\n",
       "      <td>-36.1</td>\n",
       "      <td>4.966</td>\n",
       "      <td>5228.1</td>\n",
       "      <td>1</td>\n",
       "      <td>0</td>\n",
       "      <td>0</td>\n",
       "    </tr>\n",
       "    <tr>\n",
       "      <th>...</th>\n",
       "      <td>...</td>\n",
       "      <td>...</td>\n",
       "      <td>...</td>\n",
       "      <td>...</td>\n",
       "      <td>...</td>\n",
       "      <td>...</td>\n",
       "      <td>...</td>\n",
       "      <td>...</td>\n",
       "      <td>...</td>\n",
       "      <td>...</td>\n",
       "      <td>...</td>\n",
       "      <td>...</td>\n",
       "      <td>...</td>\n",
       "      <td>...</td>\n",
       "      <td>...</td>\n",
       "      <td>...</td>\n",
       "      <td>...</td>\n",
       "      <td>...</td>\n",
       "      <td>...</td>\n",
       "      <td>...</td>\n",
       "      <td>...</td>\n",
       "    </tr>\n",
       "    <tr>\n",
       "      <th>6460</th>\n",
       "      <td>32</td>\n",
       "      <td>admin.</td>\n",
       "      <td>university.degree</td>\n",
       "      <td>no</td>\n",
       "      <td>yes</td>\n",
       "      <td>yes</td>\n",
       "      <td>cellular</td>\n",
       "      <td>may</td>\n",
       "      <td>thu</td>\n",
       "      <td>195</td>\n",
       "      <td>...</td>\n",
       "      <td>0</td>\n",
       "      <td>nonexistent</td>\n",
       "      <td>-1.8</td>\n",
       "      <td>92.893</td>\n",
       "      <td>-46.2</td>\n",
       "      <td>1.327</td>\n",
       "      <td>5099.1</td>\n",
       "      <td>0</td>\n",
       "      <td>1</td>\n",
       "      <td>0</td>\n",
       "    </tr>\n",
       "    <tr>\n",
       "      <th>8588</th>\n",
       "      <td>34</td>\n",
       "      <td>admin.</td>\n",
       "      <td>university.degree</td>\n",
       "      <td>no</td>\n",
       "      <td>no</td>\n",
       "      <td>no</td>\n",
       "      <td>cellular</td>\n",
       "      <td>oct</td>\n",
       "      <td>thu</td>\n",
       "      <td>401</td>\n",
       "      <td>...</td>\n",
       "      <td>0</td>\n",
       "      <td>nonexistent</td>\n",
       "      <td>-3.4</td>\n",
       "      <td>92.431</td>\n",
       "      <td>-26.9</td>\n",
       "      <td>0.722</td>\n",
       "      <td>5017.5</td>\n",
       "      <td>1</td>\n",
       "      <td>0</td>\n",
       "      <td>0</td>\n",
       "    </tr>\n",
       "    <tr>\n",
       "      <th>5614</th>\n",
       "      <td>32</td>\n",
       "      <td>unemployed</td>\n",
       "      <td>university.degree</td>\n",
       "      <td>no</td>\n",
       "      <td>no</td>\n",
       "      <td>no</td>\n",
       "      <td>cellular</td>\n",
       "      <td>apr</td>\n",
       "      <td>wed</td>\n",
       "      <td>110</td>\n",
       "      <td>...</td>\n",
       "      <td>0</td>\n",
       "      <td>nonexistent</td>\n",
       "      <td>-1.8</td>\n",
       "      <td>93.075</td>\n",
       "      <td>-47.1</td>\n",
       "      <td>1.415</td>\n",
       "      <td>5099.1</td>\n",
       "      <td>0</td>\n",
       "      <td>1</td>\n",
       "      <td>0</td>\n",
       "    </tr>\n",
       "    <tr>\n",
       "      <th>8205</th>\n",
       "      <td>87</td>\n",
       "      <td>retired</td>\n",
       "      <td>basic.4y</td>\n",
       "      <td>no</td>\n",
       "      <td>no</td>\n",
       "      <td>no</td>\n",
       "      <td>cellular</td>\n",
       "      <td>aug</td>\n",
       "      <td>fri</td>\n",
       "      <td>273</td>\n",
       "      <td>...</td>\n",
       "      <td>0</td>\n",
       "      <td>nonexistent</td>\n",
       "      <td>-2.9</td>\n",
       "      <td>92.201</td>\n",
       "      <td>-31.4</td>\n",
       "      <td>0.849</td>\n",
       "      <td>5076.2</td>\n",
       "      <td>0</td>\n",
       "      <td>0</td>\n",
       "      <td>0</td>\n",
       "    </tr>\n",
       "    <tr>\n",
       "      <th>5784</th>\n",
       "      <td>33</td>\n",
       "      <td>self-employed</td>\n",
       "      <td>university.degree</td>\n",
       "      <td>no</td>\n",
       "      <td>yes</td>\n",
       "      <td>no</td>\n",
       "      <td>cellular</td>\n",
       "      <td>apr</td>\n",
       "      <td>fri</td>\n",
       "      <td>254</td>\n",
       "      <td>...</td>\n",
       "      <td>0</td>\n",
       "      <td>nonexistent</td>\n",
       "      <td>-1.8</td>\n",
       "      <td>93.075</td>\n",
       "      <td>-47.1</td>\n",
       "      <td>1.405</td>\n",
       "      <td>5099.1</td>\n",
       "      <td>0</td>\n",
       "      <td>1</td>\n",
       "      <td>0</td>\n",
       "    </tr>\n",
       "  </tbody>\n",
       "</table>\n",
       "<p>2531 rows × 22 columns</p>\n",
       "</div>"
      ],
      "text/plain": [
       "      age            job          education default housing loan   contact  \\\n",
       "7472   38     technician  university.degree      no     yes   no  cellular   \n",
       "3408   55        retired        high.school      no     yes  yes  cellular   \n",
       "5851   29     technician  university.degree      no      no  yes  cellular   \n",
       "9132   80        retired           basic.4y      no     yes  yes  cellular   \n",
       "3790   45    blue-collar           basic.4y      no      no   no  cellular   \n",
       "...   ...            ...                ...     ...     ...  ...       ...   \n",
       "6460   32         admin.  university.degree      no     yes  yes  cellular   \n",
       "8588   34         admin.  university.degree      no      no   no  cellular   \n",
       "5614   32     unemployed  university.degree      no      no   no  cellular   \n",
       "8205   87        retired           basic.4y      no      no   no  cellular   \n",
       "5784   33  self-employed  university.degree      no     yes   no  cellular   \n",
       "\n",
       "     month day_of_week  duration  ...  previous     poutcome  emp.var.rate  \\\n",
       "7472   may         tue       118  ...         0  nonexistent          -1.8   \n",
       "3408   jul         tue       394  ...         0  nonexistent           1.4   \n",
       "5851   apr         mon       222  ...         0  nonexistent          -1.8   \n",
       "9132   apr         wed       654  ...         0  nonexistent          -1.8   \n",
       "3790   aug         fri       507  ...         0  nonexistent           1.4   \n",
       "...    ...         ...       ...  ...       ...          ...           ...   \n",
       "6460   may         thu       195  ...         0  nonexistent          -1.8   \n",
       "8588   oct         thu       401  ...         0  nonexistent          -3.4   \n",
       "5614   apr         wed       110  ...         0  nonexistent          -1.8   \n",
       "8205   aug         fri       273  ...         0  nonexistent          -2.9   \n",
       "5784   apr         fri       254  ...         0  nonexistent          -1.8   \n",
       "\n",
       "     cons.price.idx  cons.conf.idx  euribor3m  nr.employed  marital_married  \\\n",
       "7472         92.893          -46.2      1.266       5099.1                1   \n",
       "3408         93.918          -42.7      4.961       5228.1                1   \n",
       "5851         93.075          -47.1      1.405       5099.1                0   \n",
       "9132         93.749          -34.6      0.642       5008.7                0   \n",
       "3790         93.444          -36.1      4.966       5228.1                1   \n",
       "...             ...            ...        ...          ...              ...   \n",
       "6460         92.893          -46.2      1.327       5099.1                0   \n",
       "8588         92.431          -26.9      0.722       5017.5                1   \n",
       "5614         93.075          -47.1      1.415       5099.1                0   \n",
       "8205         92.201          -31.4      0.849       5076.2                0   \n",
       "5784         93.075          -47.1      1.405       5099.1                0   \n",
       "\n",
       "      marital_single  marital_unknown  \n",
       "7472               0                0  \n",
       "3408               0                0  \n",
       "5851               1                0  \n",
       "9132               0                0  \n",
       "3790               0                0  \n",
       "...              ...              ...  \n",
       "6460               1                0  \n",
       "8588               0                0  \n",
       "5614               1                0  \n",
       "8205               0                0  \n",
       "5784               1                0  \n",
       "\n",
       "[2531 rows x 22 columns]"
      ]
     },
     "execution_count": 227,
     "metadata": {},
     "output_type": "execute_result"
    }
   ],
   "source": [
    "X_test"
   ]
  },
  {
   "cell_type": "code",
   "execution_count": 234,
   "id": "9a519a50-2b4a-479c-a107-51585e380fca",
   "metadata": {},
   "outputs": [],
   "source": [
    "def knn(features, single_test_input, k):\n",
    "    X_train['distance'] = sum([(X_train[feature] - single_test_input[feature]) ** 2 for feature in features]) ** 0.5\n",
    "    # prediction = y_train[X_train['distance'].nsmallest(n=k).index].mean() for regression\n",
    "    prediction = y_train[X_train['distance'].nsmallest(n=k).index].mode()[0] # for classification\n",
    "    return prediction"
   ]
  },
  {
   "cell_type": "code",
   "execution_count": 235,
   "id": "9e8af1a7-f363-482d-aba5-498faeb3e109",
   "metadata": {},
   "outputs": [
    {
     "data": {
      "text/plain": [
       "5"
      ]
     },
     "execution_count": 235,
     "metadata": {},
     "output_type": "execute_result"
    }
   ],
   "source": [
    "sum([2, 3])"
   ]
  },
  {
   "cell_type": "code",
   "execution_count": 236,
   "id": "355907da-9861-4f5e-9fa8-99585f85f912",
   "metadata": {},
   "outputs": [],
   "source": [
    "features = ['age', 'campaign', 'marital_married', 'marital_single']"
   ]
  },
  {
   "cell_type": "code",
   "execution_count": 237,
   "id": "58a1e0b3-29ab-41b2-8f6e-1bc89d650be3",
   "metadata": {},
   "outputs": [],
   "source": [
    "y_preds = X_test.head().apply(lambda x: knn(features, x, k=3), axis=1)"
   ]
  },
  {
   "cell_type": "code",
   "execution_count": 238,
   "id": "57cd87bd-f22e-406c-8f5c-b3559ff186f3",
   "metadata": {},
   "outputs": [
    {
     "data": {
      "text/plain": [
       "7472    1\n",
       "3408    0\n",
       "5851    1\n",
       "9132    1\n",
       "3790    1\n",
       "dtype: int64"
      ]
     },
     "execution_count": 238,
     "metadata": {},
     "output_type": "execute_result"
    }
   ],
   "source": [
    "y_preds"
   ]
  },
  {
   "cell_type": "code",
   "execution_count": 239,
   "id": "c7660a67-e64e-4406-9f1e-ce51492a03f7",
   "metadata": {},
   "outputs": [
    {
     "data": {
      "text/plain": [
       "7472    0\n",
       "3408    0\n",
       "5851    0\n",
       "9132    1\n",
       "3790    1\n",
       "Name: y, dtype: int64"
      ]
     },
     "execution_count": 239,
     "metadata": {},
     "output_type": "execute_result"
    }
   ],
   "source": [
    "y_test.head()"
   ]
  },
  {
   "cell_type": "code",
   "execution_count": 240,
   "id": "99f52a8e-3a54-4770-844c-eb0eb3ef3bd6",
   "metadata": {},
   "outputs": [
    {
     "data": {
      "text/plain": [
       "0"
      ]
     },
     "execution_count": 240,
     "metadata": {},
     "output_type": "execute_result"
    }
   ],
   "source": [
    "knn(features, X_test.iloc[417], k=3)"
   ]
  },
  {
   "cell_type": "code",
   "execution_count": 242,
   "id": "6430b2ef-5385-4c70-bdc5-df57761d5405",
   "metadata": {},
   "outputs": [
    {
     "data": {
      "text/plain": [
       "0"
      ]
     },
     "execution_count": 242,
     "metadata": {},
     "output_type": "execute_result"
    }
   ],
   "source": [
    "y_test.iloc[417]"
   ]
  },
  {
   "cell_type": "code",
   "execution_count": 243,
   "id": "3d70ea8a-3748-4a62-badd-4ea195f256dd",
   "metadata": {},
   "outputs": [],
   "source": [
    "X_test['predicted_y'] = X_test.apply(lambda x: knn(features, x, k=3), axis=1)"
   ]
  },
  {
   "cell_type": "code",
   "execution_count": 244,
   "id": "a6a1cae2-4313-4b20-a690-3e9f3afd89b6",
   "metadata": {},
   "outputs": [
    {
     "data": {
      "text/plain": [
       "55.59067562228368"
      ]
     },
     "execution_count": 244,
     "metadata": {},
     "output_type": "execute_result"
    }
   ],
   "source": [
    "(X_test['predicted_y'] == y_test).value_counts(normalize=True)[True] * 100"
   ]
  },
  {
   "cell_type": "code",
   "execution_count": 246,
   "id": "e4aa5ee3-76f3-4557-b7e8-2686e49f97b6",
   "metadata": {},
   "outputs": [
    {
     "name": "stdout",
     "output_type": "stream",
     "text": [
      "Predicted label: 0\n",
      "Actual label: 0\n",
      "Accuracy of the model: 55.59%\n"
     ]
    }
   ],
   "source": [
    "def knn(features, single_test_input, k):\n",
    "    squared_distance = 0\n",
    "    for feature in features:\n",
    "        squared_distance += (X_train[feature] - single_test_input[feature])**2\n",
    "    X_train[\"distance\"] = squared_distance**0.5\n",
    "    \n",
    "    prediction = y_train[X_train[\"distance\"].nsmallest(n=k).index].mode()[0]\n",
    "    return prediction\n",
    "\n",
    "model_prediction = knn([\"age\", \"campaign\", \"marital_married\", \"marital_single\"], X_test.iloc[417], 3)\n",
    "print(f\"Predicted label: {model_prediction}\")\n",
    "print(f\"Actual label: {y_test.iloc[417]}\")\n",
    "\n",
    "X_test[\"predicted_y\"] = X_test.apply(lambda x: knn([\"age\", \"campaign\", \"marital_married\", \"marital_single\"], x, 3), axis=1)\n",
    "\n",
    "model_accuracy = (X_test[\"predicted_y\"] == y_test).value_counts(normalize=True)[True]*100\n",
    "print(f\"Accuracy of the model: {model_accuracy:.2f}%\")"
   ]
  },
  {
   "cell_type": "markdown",
   "id": "816fc53a-b86b-4743-9385-0e0e4247e2d5",
   "metadata": {},
   "source": [
    "## Feature Engineering II"
   ]
  },
  {
   "cell_type": "markdown",
   "id": "3b32483d-b988-4269-b7d7-6c9d2401b60e",
   "metadata": {},
   "source": [
    "On the previous screen, we calculated the distance between multiple features. Let's look at how the distance column we created is distributed in two different situations."
   ]
  },
  {
   "cell_type": "markdown",
   "id": "a1518258-1ad4-45c9-b1ad-f7fbf132a0fc",
   "metadata": {},
   "source": [
    "If we only used the features age and campaign, the distance column, when calculated using a single data point, would have the following distribution:"
   ]
  },
  {
   "attachments": {
    "688d3975-ee57-455b-b58e-bdeccd4abeed.png": {
     "image/png": "[encoded data removed]"
    }
   },
   "cell_type": "markdown",
   "id": "79c0ac00-f56b-4996-9a13-766c5379d3e8",
   "metadata": {},
   "source": [
    "![image.png](attachment:688d3975-ee57-455b-b58e-bdeccd4abeed.png)"
   ]
  },
  {
   "cell_type": "markdown",
   "id": "6185ac60-58fb-43f2-bae0-1bca3c11d1a3",
   "metadata": {},
   "source": [
    "Now, what if we used age and nr.employed?"
   ]
  },
  {
   "attachments": {
    "6b050503-a0f9-41c1-a73f-9b11833544a1.png": {
     "image/png": "[encoded data removed]"
    }
   },
   "cell_type": "markdown",
   "id": "cc2bbe50-81d1-48cc-8b6e-64c33383eec0",
   "metadata": {},
   "source": [
    "![image.png](attachment:6b050503-a0f9-41c1-a73f-9b11833544a1.png)"
   ]
  },
  {
   "cell_type": "markdown",
   "id": "c9320559-2098-4ab7-8edf-17ccad1764dc",
   "metadata": {},
   "source": [
    "The distance calculated using age and nr.employed has a lot of variation in its values. There are distance values in the range 125 to 160 and also in the range 200 to 280. In contrast, most of the distance values for age and campaign are between 0 and 20."
   ]
  },
  {
   "cell_type": "markdown",
   "id": "e9f70fc7-9883-4151-918e-6eb41c149501",
   "metadata": {},
   "source": [
    "If we go back to our summary statistics, we notice that the maximum value in nr.employed is 5228, while the maximum of age is only 98. Any distance calculated using the two will result in a large value because of nr.employed."
   ]
  },
  {
   "cell_type": "markdown",
   "id": "b128e482-07e0-4c6c-a6ec-422cc1ed2fa1",
   "metadata": {},
   "source": [
    "That wouldn't yield a fair estimate of the similarity between two observations. Especially when we add more features into the mix. One feature will continue to have a larger contribution to the distance calculation, and that could negatively impact our model's performance."
   ]
  },
  {
   "cell_type": "markdown",
   "id": "10ce1185-6147-45ad-9373-bf045a3e6db4",
   "metadata": {},
   "source": [
    "In order to address this, we can normalize our features by rescaling their values to a specific range. One common approach is to normalize the features to the range [0, 1]; this is called min-max scaling or min-max normalization."
   ]
  },
  {
   "cell_type": "markdown",
   "id": "37ab288b-fe2c-4b14-848e-45ab8fb98548",
   "metadata": {},
   "source": [
    "We can scale our features using the following formula:"
   ]
  },
  {
   "attachments": {
    "89d44d0d-0577-491c-bb00-8bda7e8106f9.png": {
     "image/png": "[encoded data removed]"
    }
   },
   "cell_type": "markdown",
   "id": "abf27761-e8cb-462e-8d71-0a0996380d5e",
   "metadata": {},
   "source": [
    "![image.png](attachment:89d44d0d-0577-491c-bb00-8bda7e8106f9.png)"
   ]
  },
  {
   "cell_type": "markdown",
   "id": "648247dd-6e2c-4d59-af74-f0cb296785fc",
   "metadata": {},
   "source": [
    "Where \r\n",
    "x\r\n",
    " is the original value of the feature."
   ]
  },
  {
   "cell_type": "markdown",
   "id": "6007e6dc-27f9-4403-b064-29104c0d2951",
   "metadata": {},
   "source": [
    "It's crucial to remember that when you scale the features in your training dataset, you need to save these parameters (min(x) and max(x) in this case). "
   ]
  },
  {
   "cell_type": "markdown",
   "id": "4ee2c900-65fb-4f21-b3d4-ebb3ceb8285e",
   "metadata": {},
   "source": [
    "The reason is that we need to apply the same scaling to our test dataset as well. We must use the summary statistics from the training data to scale the test data."
   ]
  },
  {
   "cell_type": "markdown",
   "id": "419a312d-d74a-49c5-a3d1-e1f4fa9885d5",
   "metadata": {},
   "source": [
    "This ensures that the model sees the test data on the same scale as the training data, allowing for consistent interpretation and performance."
   ]
  },
  {
   "cell_type": "markdown",
   "id": "647a1fe0-319e-4657-8122-4e3a51c7bfc7",
   "metadata": {},
   "source": [
    "In this final exercise, we'll normalize our age and campaign features using the min and max values from our training data and implement the algorithm using the same features as before."
   ]
  },
  {
   "cell_type": "markdown",
   "id": "d5af7aa4-1b8a-40dd-8a27-4501800a7a94",
   "metadata": {},
   "source": [
    "Note that the distance values calculated using age and campaign do not vary drastically. Even with normalization, our model might not show a significant improvement. However, this standard practice of scaling ensures that our model's performance remains consistent across both training and test sets."
   ]
  },
  {
   "cell_type": "markdown",
   "id": "78561a58-9ef7-4332-8f29-4e3df4adcfaf",
   "metadata": {},
   "source": [
    "Using the formula discussed above, normalize age and campaign so their values are between 0 and 1."
   ]
  },
  {
   "cell_type": "markdown",
   "id": "bea0f468-3df6-4722-aa2d-c04edb1b0608",
   "metadata": {},
   "source": [
    "- Make sure to normalize the columns in the training set as well as the test set using the same summary statistics values from the training set."
   ]
  },
  {
   "cell_type": "markdown",
   "id": "0f18a2e1-ae73-4499-af44-5f9fe72dd330",
   "metadata": {},
   "source": [
    "Replace the age and campaign columns with their normalized versions."
   ]
  },
  {
   "cell_type": "code",
   "execution_count": 263,
   "id": "ddfbb2c7-eec0-4223-8223-d7d1a7e47609",
   "metadata": {},
   "outputs": [],
   "source": [
    "features = [\"age\", \"campaign\"]\n",
    "\n",
    "for feature in features:\n",
    "    min_value = X_train[feature].min()\n",
    "    max_value = X_train[feature].max()\n",
    "    X_train[feature] = (X_train[feature] - min_value) / (max_value - min_value)\n",
    "    X_test[feature] = (X_test[feature] - min_value) / (max_value - min_value)"
   ]
  },
  {
   "cell_type": "code",
   "execution_count": 265,
   "id": "4a74ec1e-8cb9-4af9-827b-ae9845d80459",
   "metadata": {},
   "outputs": [],
   "source": [
    "features = ['age', 'campaign', 'marital_married', 'marital_single']"
   ]
  },
  {
   "cell_type": "code",
   "execution_count": 266,
   "id": "dcea53c1-8e2c-46fa-9e8d-47bf8182d8d6",
   "metadata": {},
   "outputs": [],
   "source": [
    "X_test['predicted_y'] = X_test.apply(lambda x: knn(features, x, k=3), axis=1)"
   ]
  },
  {
   "cell_type": "code",
   "execution_count": 267,
   "id": "f53d5257-1c61-40ae-b1a1-efa4fed8a2a2",
   "metadata": {},
   "outputs": [
    {
     "data": {
      "text/plain": [
       "55.472145397076254"
      ]
     },
     "execution_count": 267,
     "metadata": {},
     "output_type": "execute_result"
    }
   ],
   "source": [
    "(X_test['predicted_y'] == y_test).value_counts(normalize=True)[True] * 100"
   ]
  },
  {
   "cell_type": "code",
   "execution_count": 268,
   "id": "b62bc142-b37e-4869-b90b-ad195df4f99d",
   "metadata": {},
   "outputs": [
    {
     "name": "stdout",
     "output_type": "stream",
     "text": [
      "Accuracy of the model: 55.47%\n"
     ]
    }
   ],
   "source": [
    "def knn(features, test_input, k):\n",
    "    distance = 0\n",
    "    for feature in features:\n",
    "        distance += (X_train[feature] - test_input[feature])**2\n",
    "    X_train[\"distance\"] = (distance)**0.5\n",
    "    \n",
    "    prediction = y_train[X_train[\"distance\"].nsmallest(n=k).index].mode()[0]\n",
    "    return prediction\n",
    "\n",
    "\n",
    "features = [\"age\", \"campaign\"]\n",
    "\n",
    "for feature in features:\n",
    "    min_value = X_train[feature].min()\n",
    "    max_value = X_train[feature].max()\n",
    "    X_train[feature] = (X_train[feature] - min_value) / (max_value - min_value)\n",
    "    X_test[feature] = (X_test[feature] - min_value) / (max_value - min_value)\n",
    "\n",
    "X_test[\"predicted_y\"] = X_test.apply(lambda x: knn([\"age\", \"campaign\", \"marital_married\", \"marital_single\"], x, 3), axis=1)\n",
    "\n",
    "model_accuracy = (X_test[\"predicted_y\"] == y_test).value_counts(normalize=True)[True]*100\n",
    "print(f\"Accuracy of the model: {model_accuracy:.2f}%\")"
   ]
  },
  {
   "cell_type": "markdown",
   "id": "2514df5f-a925-486d-9b89-4b46a20f0231",
   "metadata": {},
   "source": [
    "As we suspected, our model's performance didn't improve very much. In fact, our model's accuracy dipped just a little, from 55.47% to 55.14%. If we were to randomly guess a particular data point's class, we would be correct 50% of the time since there are only two classes. So our model is only performing slightly better than a random guess right now."
   ]
  },
  {
   "cell_type": "markdown",
   "id": "2b26399b-3e20-4d4d-bf9c-7ab1a055ed6c",
   "metadata": {},
   "source": [
    "However, this is not a cause for concern. In future lessons, we'll learn how we can improve our model. It's important to bear in mind that building, training, and fine-tuning machine learning models is an iterative process."
   ]
  },
  {
   "cell_type": "markdown",
   "id": "00ef1dec-8be8-4d3c-a44b-6dfae93a5a5c",
   "metadata": {},
   "source": [
    "In this lesson, we learned:\n",
    "\n",
    "- What the K-Nearest Neighbors algorithm is.\n",
    "- How to implement it from scratch, both using a single feature and using multiple features.\n",
    "- About feature engineering, specifically:\n",
    "    - Encoding our categorical variables into numerical values, and\n",
    "    - Normalizing our features using min-max scaling.\n",
    "\n",
    "In the next lesson, we'll learn more about evaluating our models."
   ]
  },
  {
   "cell_type": "markdown",
   "id": "abdc564e-8b48-4794-89f7-1a47a6c56197",
   "metadata": {},
   "source": [
    "## Evaluating Model Performance"
   ]
  },
  {
   "cell_type": "markdown",
   "id": "10ce64b8-22db-4405-be56-a0b54d89412b",
   "metadata": {},
   "source": [
    "In the previous lesson, we implemented the K-Nearest Neighbors algorithm and trained a classifier to predict if a bank client would subscribe to the bank's product."
   ]
  },
  {
   "cell_type": "markdown",
   "id": "4aa17277-0151-4d35-b1d3-5c31885e8872",
   "metadata": {},
   "source": [
    "In this lesson, we'll build and train the classifier using scikit-learn and try to improve upon our previous model's performance."
   ]
  },
  {
   "cell_type": "markdown",
   "id": "8ad835e4-2c33-4819-93c1-84927127b804",
   "metadata": {},
   "source": [
    "We'll use the same dataset as last time. The [Bank Marketing Dataset](https://archive.ics.uci.edu/ml/datasets/bank+marketing) consists of the following columns:"
   ]
  },
  {
   "cell_type": "markdown",
   "id": "b83456a3-1b2a-456b-8bcc-f2509232d827",
   "metadata": {},
   "source": [
    "- age: (numeric)\n",
    "- job: type of job (categorical: 'admin.','blue collar','entrepreneur','housemaid','management','retired','self employed','services','student','technician','unemployed','unknown')\n",
    "- marital: marital status (categorical: 'divorced','married','single','unknown'; note: 'divorced' means divorced or widowed)\n",
    "- education: (categorical: 'basic.4y','basic.6y','basic.9y','high.school','illiterate','professional.course','university.degree','unknown')\n",
    "- default: has credit in default? (categorical: 'no','yes','unknown')\n",
    "- housing: has housing loan? (categorical: 'no','yes','unknown')\n",
    "- loan: has personal loan? (categorical: 'no','yes','unknown')\n",
    "- contact: contact communication type (categorical: 'cellular','telephone')\n",
    "- month: last contact month of year (categorical: 'jan', 'feb', 'mar', ..., 'nov', 'dec')\n",
    "- day_of_week: last contact day of the week (categorical: 'mon','tue','wed','thu','fri')\n",
    "- duration: last contact duration, in seconds (numeric)\n",
    "- campaign: number of contacts performed during this campaign and for this client (numeric, includes last contact)\n",
    "- pdays: number of days that passed after the client was last contacted from a previous campaign (numeric; 999 means client was not previously contacted)\n",
    "- previous: number of contacts performed before this campaign and for this client (numeric)\n",
    "- poutcome: outcome of the previous marketing campaign (categorical: 'failure','nonexistent','success')\n",
    "- emp.var.rate: employment variation rate - quarterly indicator (numeric)\n",
    "- cons.price.idx: consumer price index - monthly indicator (numeric)\n",
    "- cons.conf.idx: consumer confidence index - monthly indicator (numeric)\n",
    "- euribor3m: euribor 3 month rate - daily indicator (numeric)\n",
    "- nr.employed: number of employees - quarterly indicator (numeric)\n",
    "- y: has the client subscribed a term deposit? (binary: 'yes','no')"
   ]
  },
  {
   "cell_type": "markdown",
   "id": "5de12b12-4e64-4a7e-a92a-3c7d1f7ff9da",
   "metadata": {},
   "source": [
    "## Validation Set"
   ]
  },
  {
   "cell_type": "markdown",
   "id": "87d67026-5b20-4089-9680-a9294f6b65a5",
   "metadata": {},
   "source": [
    "We learned in the previous lesson that our data set doesn't contain any missing values. We don't currently need to wrangle our data any further. We can move on to preparing it for training our model by splitting it into training and test sets."
   ]
  },
  {
   "cell_type": "markdown",
   "id": "6b57eaa1-fb2f-4e65-bdfa-e21c6306513e",
   "metadata": {},
   "source": [
    "Our goal with training our model is to see how well it can perform on the test set or on unseen data. However, if we repeatedly evaluate the model on the test set and re-train it, we are introducing bias."
   ]
  },
  {
   "cell_type": "markdown",
   "id": "f0d397ae-082f-41d0-a956-ea6fc16be2de",
   "metadata": {},
   "source": [
    "Our model will start to indirectly learn from our test set."
   ]
  },
  {
   "cell_type": "markdown",
   "id": "08c88053-fecc-45e9-b91d-73de343a150c",
   "metadata": {},
   "source": [
    "In this situation, we won't be able to effectively judge how well our model performs on data it hasn't seen before."
   ]
  },
  {
   "cell_type": "markdown",
   "id": "f6334e01-29a3-4c88-9172-39e36ba90fac",
   "metadata": {},
   "source": [
    "That's why we need a buffer between our training and test sets. We want to evaluate our model and improve upon it without having to use the test set."
   ]
  },
  {
   "cell_type": "markdown",
   "id": "8c5155d6-4507-47b3-9bdf-e91d3c651873",
   "metadata": {},
   "source": [
    "We'll create a `validation set`, sometimes referred to as a `development set` or `dev set`."
   ]
  },
  {
   "cell_type": "markdown",
   "id": "0ce7e4f6-de52-48e1-8d3d-0e787d816cef",
   "metadata": {},
   "source": [
    "We can then train our model and evaluate it on the validation set. Depending on its performance on the validation set, we can re-train it with some tweaks and evaluate it again."
   ]
  },
  {
   "cell_type": "markdown",
   "id": "aacc3002-1990-4b5d-8134-78989bcbc748",
   "metadata": {},
   "source": [
    "Once we're satisfied with the model's performance on the validation set, we can evaluate it one last time on the test set."
   ]
  },
  {
   "cell_type": "markdown",
   "id": "feb4aa5a-c17e-465a-9592-b6b65636b105",
   "metadata": {},
   "source": [
    "We'll split that data set into three parts:"
   ]
  },
  {
   "cell_type": "markdown",
   "id": "5448c43d-ce6c-4bb5-9a5f-ad8f42ba4f0f",
   "metadata": {},
   "source": [
    "1. Training Set (60%)\n",
    "2. Validation Set (20%)\n",
    "3. Test Set (20%)"
   ]
  },
  {
   "cell_type": "markdown",
   "id": "dc4c28be-119d-4ece-bbec-96d57cc5f694",
   "metadata": {},
   "source": [
    "We'll use scikit-learn's [train_test_split()](https://scikit-learn.org/stable/modules/generated/sklearn.model_selection.train_test_split.html) to split the data set twice."
   ]
  },
  {
   "cell_type": "code",
   "execution_count": 319,
   "id": "f88a7c4f-653b-4cb8-adff-ff6c61dd7f47",
   "metadata": {},
   "outputs": [],
   "source": [
    "X = banking_df.drop('y', axis=1)\n",
    "y = banking_df['y']\n",
    "\n",
    "X_train, X_val, y_train, y_val = train_test_split(X, y, test_size=0.2, random_state=417)\n",
    "X_train, X_test, y_train, y_test = train_test_split(X_train, y_train, test_size=0.2 * X.shape[0]/X_train.shape[0], random_state=417)\n"
   ]
  },
  {
   "cell_type": "markdown",
   "id": "1d9960e6-b7de-4dcd-ad06-f6694dadf28f",
   "metadata": {},
   "source": [
    "## Building and Training a k-NN"
   ]
  },
  {
   "cell_type": "markdown",
   "id": "0cd64752-e98e-49a0-b408-8642e36f45a6",
   "metadata": {},
   "source": [
    "Now that we have our training set, we can build a classifier and fit the model to the data."
   ]
  },
  {
   "cell_type": "markdown",
   "id": "4b62a7c5-0036-4303-b642-326dd70e1c33",
   "metadata": {},
   "source": [
    "We learned in the first lesson that fitting a model is the same as training the model. The model learns from the data. However, when we implemented our model from scratch in the previous lesson, we learned that k-NNs don't really have a training phase."
   ]
  },
  {
   "cell_type": "markdown",
   "id": "479f75ff-6827-4901-9421-8cf81d060cdf",
   "metadata": {},
   "source": [
    "So how would we use scikit-learn to \"fit\" our model?"
   ]
  },
  {
   "cell_type": "markdown",
   "id": "0f0a9a9f-f9e9-4a97-b4d0-e49fa06af837",
   "metadata": {},
   "source": [
    "When we implemented a k-NN from scratch, we calculated the distance between observations. Across a large number of features and observations, this can be a computationally expensive task. Instead of a brute force approach, we can use different data structures to help speed that up."
   ]
  },
  {
   "cell_type": "markdown",
   "id": "7e3ad368-df15-47f9-9365-fc53fd849965",
   "metadata": {},
   "source": [
    "scikit-learn uses the training phase to set up such a data structure. For different algorithms, scikit-learn handles the training phase differently. This again brings up the point of experimenting without understanding an algorithm's inner workings. We wouldn't have learned about this distinction if we hadn't implemented a k-NN from scratch!"
   ]
  },
  {
   "cell_type": "markdown",
   "id": "3f5c9a29-2fdf-4c00-a89c-8869c573363b",
   "metadata": {},
   "source": [
    "Let's build our model!"
   ]
  },
  {
   "cell_type": "code",
   "execution_count": 274,
   "id": "b0df9e80-9ae1-48f9-9859-ef037dba7a56",
   "metadata": {},
   "outputs": [],
   "source": [
    "from sklearn.neighbors import KNeighborsClassifier\n",
    "\n",
    "# model = KNeighborsClassifier(n_neighbors=3)\n",
    "# model.fit(X_train, y_train)"
   ]
  },
  {
   "cell_type": "markdown",
   "id": "29870027-932a-4d62-a0c9-0af9cb247318",
   "metadata": {},
   "source": [
    "## Feature Engineering"
   ]
  },
  {
   "cell_type": "markdown",
   "id": "ed63d4d3-c67a-4d2c-b57f-d98c796643a1",
   "metadata": {},
   "source": [
    "Calling fit() on our training data produced an error on the previous screen."
   ]
  },
  {
   "cell_type": "markdown",
   "id": "742eb5cb-e833-4f3f-9f52-235280a0fd00",
   "metadata": {},
   "source": [
    "This is because we have categorical columns in our dataset that haven't yet been converted into dummy variables. Since a k-NN uses a distance metric, it can't work with string data."
   ]
  },
  {
   "cell_type": "markdown",
   "id": "abbf734b-2902-4b18-86fd-b56ff97ab457",
   "metadata": {},
   "source": [
    "We will next:\n",
    "\n",
    "1. Convert all our categorical columns into dummy variables.\n",
    "2. Normalize the features by scaling their values to the range [0, 1]."
   ]
  },
  {
   "cell_type": "markdown",
   "id": "6a2996f9-711e-4ab0-a674-87e93f93a389",
   "metadata": {},
   "source": [
    "n the previous lesson, we implemented the normalization from scratch. Now we'll use scikit-learn's [MinMaxScaler](https://scikit-learn.org/stable/modules/generated/sklearn.preprocessing.MinMaxScaler.html) method."
   ]
  },
  {
   "cell_type": "markdown",
   "id": "692a69de-3807-4490-8c56-a55faaa589bd",
   "metadata": {},
   "source": [
    " From a functional perspective, it works similar to the way we'd instantiate a model in scikit-learn and then call fit() on the data."
   ]
  },
  {
   "cell_type": "markdown",
   "id": "59c76920-84d7-4126-9430-0fc10b4efab1",
   "metadata": {},
   "source": [
    "However, fitting to the data is just the first step. sklearn.preprocessing.MinMaxScaler.fit() calculates the minimum and maximum values for each feature we input."
   ]
  },
  {
   "cell_type": "markdown",
   "id": "e62e3409-127b-4d09-9f01-8c6f3eb976db",
   "metadata": {},
   "source": [
    "We then need to transform those features, using sklearn.preprocessing.MinMaxScaler.transform() to normalize those features."
   ]
  },
  {
   "cell_type": "markdown",
   "id": "38312efb-0c16-46e5-be2b-09aeeccee112",
   "metadata": {},
   "source": [
    "scikit-learn provides us with a single function, sklearn.preprocessing.MinMaxScaler.fit_transform(), that allows us to carry out both operations."
   ]
  },
  {
   "cell_type": "code",
   "execution_count": 284,
   "id": "cc70a468-9ff4-4a1e-b183-6986911362f0",
   "metadata": {},
   "outputs": [
    {
     "data": {
      "text/html": [
       "<div>\n",
       "<style scoped>\n",
       "    .dataframe tbody tr th:only-of-type {\n",
       "        vertical-align: middle;\n",
       "    }\n",
       "\n",
       "    .dataframe tbody tr th {\n",
       "        vertical-align: top;\n",
       "    }\n",
       "\n",
       "    .dataframe thead th {\n",
       "        text-align: right;\n",
       "    }\n",
       "</style>\n",
       "<table border=\"1\" class=\"dataframe\">\n",
       "  <thead>\n",
       "    <tr style=\"text-align: right;\">\n",
       "      <th></th>\n",
       "      <th>age</th>\n",
       "      <th>job</th>\n",
       "      <th>marital</th>\n",
       "      <th>education</th>\n",
       "      <th>default</th>\n",
       "      <th>housing</th>\n",
       "      <th>loan</th>\n",
       "      <th>contact</th>\n",
       "      <th>month</th>\n",
       "      <th>day_of_week</th>\n",
       "      <th>...</th>\n",
       "      <th>campaign</th>\n",
       "      <th>pdays</th>\n",
       "      <th>previous</th>\n",
       "      <th>poutcome</th>\n",
       "      <th>emp.var.rate</th>\n",
       "      <th>cons.price.idx</th>\n",
       "      <th>cons.conf.idx</th>\n",
       "      <th>euribor3m</th>\n",
       "      <th>nr.employed</th>\n",
       "      <th>y</th>\n",
       "    </tr>\n",
       "  </thead>\n",
       "  <tbody>\n",
       "    <tr>\n",
       "      <th>0</th>\n",
       "      <td>40</td>\n",
       "      <td>admin.</td>\n",
       "      <td>married</td>\n",
       "      <td>basic.6y</td>\n",
       "      <td>no</td>\n",
       "      <td>no</td>\n",
       "      <td>no</td>\n",
       "      <td>telephone</td>\n",
       "      <td>may</td>\n",
       "      <td>mon</td>\n",
       "      <td>...</td>\n",
       "      <td>1</td>\n",
       "      <td>999</td>\n",
       "      <td>0</td>\n",
       "      <td>nonexistent</td>\n",
       "      <td>1.1</td>\n",
       "      <td>93.994</td>\n",
       "      <td>-36.4</td>\n",
       "      <td>4.857</td>\n",
       "      <td>5191.0</td>\n",
       "      <td>no</td>\n",
       "    </tr>\n",
       "    <tr>\n",
       "      <th>1</th>\n",
       "      <td>56</td>\n",
       "      <td>services</td>\n",
       "      <td>married</td>\n",
       "      <td>high.school</td>\n",
       "      <td>no</td>\n",
       "      <td>no</td>\n",
       "      <td>yes</td>\n",
       "      <td>telephone</td>\n",
       "      <td>may</td>\n",
       "      <td>mon</td>\n",
       "      <td>...</td>\n",
       "      <td>1</td>\n",
       "      <td>999</td>\n",
       "      <td>0</td>\n",
       "      <td>nonexistent</td>\n",
       "      <td>1.1</td>\n",
       "      <td>93.994</td>\n",
       "      <td>-36.4</td>\n",
       "      <td>4.857</td>\n",
       "      <td>5191.0</td>\n",
       "      <td>no</td>\n",
       "    </tr>\n",
       "    <tr>\n",
       "      <th>2</th>\n",
       "      <td>41</td>\n",
       "      <td>blue-collar</td>\n",
       "      <td>married</td>\n",
       "      <td>unknown</td>\n",
       "      <td>unknown</td>\n",
       "      <td>no</td>\n",
       "      <td>no</td>\n",
       "      <td>telephone</td>\n",
       "      <td>may</td>\n",
       "      <td>mon</td>\n",
       "      <td>...</td>\n",
       "      <td>1</td>\n",
       "      <td>999</td>\n",
       "      <td>0</td>\n",
       "      <td>nonexistent</td>\n",
       "      <td>1.1</td>\n",
       "      <td>93.994</td>\n",
       "      <td>-36.4</td>\n",
       "      <td>4.857</td>\n",
       "      <td>5191.0</td>\n",
       "      <td>no</td>\n",
       "    </tr>\n",
       "    <tr>\n",
       "      <th>3</th>\n",
       "      <td>57</td>\n",
       "      <td>housemaid</td>\n",
       "      <td>divorced</td>\n",
       "      <td>basic.4y</td>\n",
       "      <td>no</td>\n",
       "      <td>yes</td>\n",
       "      <td>no</td>\n",
       "      <td>telephone</td>\n",
       "      <td>may</td>\n",
       "      <td>mon</td>\n",
       "      <td>...</td>\n",
       "      <td>1</td>\n",
       "      <td>999</td>\n",
       "      <td>0</td>\n",
       "      <td>nonexistent</td>\n",
       "      <td>1.1</td>\n",
       "      <td>93.994</td>\n",
       "      <td>-36.4</td>\n",
       "      <td>4.857</td>\n",
       "      <td>5191.0</td>\n",
       "      <td>no</td>\n",
       "    </tr>\n",
       "    <tr>\n",
       "      <th>4</th>\n",
       "      <td>39</td>\n",
       "      <td>management</td>\n",
       "      <td>single</td>\n",
       "      <td>basic.9y</td>\n",
       "      <td>unknown</td>\n",
       "      <td>no</td>\n",
       "      <td>no</td>\n",
       "      <td>telephone</td>\n",
       "      <td>may</td>\n",
       "      <td>mon</td>\n",
       "      <td>...</td>\n",
       "      <td>1</td>\n",
       "      <td>999</td>\n",
       "      <td>0</td>\n",
       "      <td>nonexistent</td>\n",
       "      <td>1.1</td>\n",
       "      <td>93.994</td>\n",
       "      <td>-36.4</td>\n",
       "      <td>4.857</td>\n",
       "      <td>5191.0</td>\n",
       "      <td>no</td>\n",
       "    </tr>\n",
       "    <tr>\n",
       "      <th>...</th>\n",
       "      <td>...</td>\n",
       "      <td>...</td>\n",
       "      <td>...</td>\n",
       "      <td>...</td>\n",
       "      <td>...</td>\n",
       "      <td>...</td>\n",
       "      <td>...</td>\n",
       "      <td>...</td>\n",
       "      <td>...</td>\n",
       "      <td>...</td>\n",
       "      <td>...</td>\n",
       "      <td>...</td>\n",
       "      <td>...</td>\n",
       "      <td>...</td>\n",
       "      <td>...</td>\n",
       "      <td>...</td>\n",
       "      <td>...</td>\n",
       "      <td>...</td>\n",
       "      <td>...</td>\n",
       "      <td>...</td>\n",
       "      <td>...</td>\n",
       "    </tr>\n",
       "    <tr>\n",
       "      <th>10117</th>\n",
       "      <td>64</td>\n",
       "      <td>retired</td>\n",
       "      <td>divorced</td>\n",
       "      <td>professional.course</td>\n",
       "      <td>no</td>\n",
       "      <td>yes</td>\n",
       "      <td>no</td>\n",
       "      <td>cellular</td>\n",
       "      <td>nov</td>\n",
       "      <td>fri</td>\n",
       "      <td>...</td>\n",
       "      <td>3</td>\n",
       "      <td>999</td>\n",
       "      <td>0</td>\n",
       "      <td>nonexistent</td>\n",
       "      <td>-1.1</td>\n",
       "      <td>94.767</td>\n",
       "      <td>-50.8</td>\n",
       "      <td>1.028</td>\n",
       "      <td>4963.6</td>\n",
       "      <td>no</td>\n",
       "    </tr>\n",
       "    <tr>\n",
       "      <th>10118</th>\n",
       "      <td>37</td>\n",
       "      <td>admin.</td>\n",
       "      <td>married</td>\n",
       "      <td>university.degree</td>\n",
       "      <td>no</td>\n",
       "      <td>yes</td>\n",
       "      <td>no</td>\n",
       "      <td>cellular</td>\n",
       "      <td>nov</td>\n",
       "      <td>fri</td>\n",
       "      <td>...</td>\n",
       "      <td>1</td>\n",
       "      <td>999</td>\n",
       "      <td>0</td>\n",
       "      <td>nonexistent</td>\n",
       "      <td>-1.1</td>\n",
       "      <td>94.767</td>\n",
       "      <td>-50.8</td>\n",
       "      <td>1.028</td>\n",
       "      <td>4963.6</td>\n",
       "      <td>yes</td>\n",
       "    </tr>\n",
       "    <tr>\n",
       "      <th>10119</th>\n",
       "      <td>73</td>\n",
       "      <td>retired</td>\n",
       "      <td>married</td>\n",
       "      <td>professional.course</td>\n",
       "      <td>no</td>\n",
       "      <td>yes</td>\n",
       "      <td>no</td>\n",
       "      <td>cellular</td>\n",
       "      <td>nov</td>\n",
       "      <td>fri</td>\n",
       "      <td>...</td>\n",
       "      <td>1</td>\n",
       "      <td>999</td>\n",
       "      <td>0</td>\n",
       "      <td>nonexistent</td>\n",
       "      <td>-1.1</td>\n",
       "      <td>94.767</td>\n",
       "      <td>-50.8</td>\n",
       "      <td>1.028</td>\n",
       "      <td>4963.6</td>\n",
       "      <td>yes</td>\n",
       "    </tr>\n",
       "    <tr>\n",
       "      <th>10120</th>\n",
       "      <td>44</td>\n",
       "      <td>technician</td>\n",
       "      <td>married</td>\n",
       "      <td>professional.course</td>\n",
       "      <td>no</td>\n",
       "      <td>no</td>\n",
       "      <td>no</td>\n",
       "      <td>cellular</td>\n",
       "      <td>nov</td>\n",
       "      <td>fri</td>\n",
       "      <td>...</td>\n",
       "      <td>1</td>\n",
       "      <td>999</td>\n",
       "      <td>0</td>\n",
       "      <td>nonexistent</td>\n",
       "      <td>-1.1</td>\n",
       "      <td>94.767</td>\n",
       "      <td>-50.8</td>\n",
       "      <td>1.028</td>\n",
       "      <td>4963.6</td>\n",
       "      <td>yes</td>\n",
       "    </tr>\n",
       "    <tr>\n",
       "      <th>10121</th>\n",
       "      <td>74</td>\n",
       "      <td>retired</td>\n",
       "      <td>married</td>\n",
       "      <td>professional.course</td>\n",
       "      <td>no</td>\n",
       "      <td>yes</td>\n",
       "      <td>no</td>\n",
       "      <td>cellular</td>\n",
       "      <td>nov</td>\n",
       "      <td>fri</td>\n",
       "      <td>...</td>\n",
       "      <td>3</td>\n",
       "      <td>999</td>\n",
       "      <td>1</td>\n",
       "      <td>failure</td>\n",
       "      <td>-1.1</td>\n",
       "      <td>94.767</td>\n",
       "      <td>-50.8</td>\n",
       "      <td>1.028</td>\n",
       "      <td>4963.6</td>\n",
       "      <td>no</td>\n",
       "    </tr>\n",
       "  </tbody>\n",
       "</table>\n",
       "<p>10122 rows × 21 columns</p>\n",
       "</div>"
      ],
      "text/plain": [
       "       age          job   marital            education  default housing loan  \\\n",
       "0       40       admin.   married             basic.6y       no      no   no   \n",
       "1       56     services   married          high.school       no      no  yes   \n",
       "2       41  blue-collar   married              unknown  unknown      no   no   \n",
       "3       57    housemaid  divorced             basic.4y       no     yes   no   \n",
       "4       39   management    single             basic.9y  unknown      no   no   \n",
       "...    ...          ...       ...                  ...      ...     ...  ...   \n",
       "10117   64      retired  divorced  professional.course       no     yes   no   \n",
       "10118   37       admin.   married    university.degree       no     yes   no   \n",
       "10119   73      retired   married  professional.course       no     yes   no   \n",
       "10120   44   technician   married  professional.course       no      no   no   \n",
       "10121   74      retired   married  professional.course       no     yes   no   \n",
       "\n",
       "         contact month day_of_week  ...  campaign  pdays  previous  \\\n",
       "0      telephone   may         mon  ...         1    999         0   \n",
       "1      telephone   may         mon  ...         1    999         0   \n",
       "2      telephone   may         mon  ...         1    999         0   \n",
       "3      telephone   may         mon  ...         1    999         0   \n",
       "4      telephone   may         mon  ...         1    999         0   \n",
       "...          ...   ...         ...  ...       ...    ...       ...   \n",
       "10117   cellular   nov         fri  ...         3    999         0   \n",
       "10118   cellular   nov         fri  ...         1    999         0   \n",
       "10119   cellular   nov         fri  ...         1    999         0   \n",
       "10120   cellular   nov         fri  ...         1    999         0   \n",
       "10121   cellular   nov         fri  ...         3    999         1   \n",
       "\n",
       "          poutcome emp.var.rate  cons.price.idx  cons.conf.idx  euribor3m  \\\n",
       "0      nonexistent          1.1          93.994          -36.4      4.857   \n",
       "1      nonexistent          1.1          93.994          -36.4      4.857   \n",
       "2      nonexistent          1.1          93.994          -36.4      4.857   \n",
       "3      nonexistent          1.1          93.994          -36.4      4.857   \n",
       "4      nonexistent          1.1          93.994          -36.4      4.857   \n",
       "...            ...          ...             ...            ...        ...   \n",
       "10117  nonexistent         -1.1          94.767          -50.8      1.028   \n",
       "10118  nonexistent         -1.1          94.767          -50.8      1.028   \n",
       "10119  nonexistent         -1.1          94.767          -50.8      1.028   \n",
       "10120  nonexistent         -1.1          94.767          -50.8      1.028   \n",
       "10121      failure         -1.1          94.767          -50.8      1.028   \n",
       "\n",
       "       nr.employed    y  \n",
       "0           5191.0   no  \n",
       "1           5191.0   no  \n",
       "2           5191.0   no  \n",
       "3           5191.0   no  \n",
       "4           5191.0   no  \n",
       "...            ...  ...  \n",
       "10117       4963.6   no  \n",
       "10118       4963.6  yes  \n",
       "10119       4963.6  yes  \n",
       "10120       4963.6  yes  \n",
       "10121       4963.6   no  \n",
       "\n",
       "[10122 rows x 21 columns]"
      ]
     },
     "execution_count": 284,
     "metadata": {},
     "output_type": "execute_result"
    }
   ],
   "source": [
    "banking_df"
   ]
  },
  {
   "cell_type": "code",
   "execution_count": 323,
   "id": "6e50d1a4-e188-400e-8a43-90730bd70c91",
   "metadata": {},
   "outputs": [
    {
     "data": {
      "text/plain": [
       "array([[0.27777778, 0.02439024, 0.        , ..., 0.        , 0.        ,\n",
       "        0.        ],\n",
       "       [0.55555556, 0.02439024, 0.        , ..., 0.        , 0.        ,\n",
       "        0.        ],\n",
       "       [0.98611111, 0.02439024, 0.        , ..., 0.        , 0.        ,\n",
       "        0.        ],\n",
       "       ...,\n",
       "       [0.43055556, 0.        , 0.        , ..., 0.        , 1.        ,\n",
       "        0.        ],\n",
       "       [0.16666667, 0.12195122, 0.        , ..., 0.        , 0.        ,\n",
       "        0.        ],\n",
       "       [0.375     , 0.        , 1.        , ..., 0.        , 0.        ,\n",
       "        0.        ]])"
      ]
     },
     "execution_count": 323,
     "metadata": {},
     "output_type": "execute_result"
    }
   ],
   "source": [
    "from sklearn.preprocessing import MinMaxScaler\n",
    "scaler = MinMaxScaler()\n",
    "X_train = pd.get_dummies(X_train[['age', 'campaign', 'marital', 'education']], columns=['marital', 'education'], drop_first=True, dtype=int)\n",
    "X_train_scaled = scaler.fit_transform(X_train)\n",
    "X_train_scaled"
   ]
  },
  {
   "cell_type": "code",
   "execution_count": 305,
   "id": "b7f4cf3c-3df2-466a-a5b6-ce34fc1046ce",
   "metadata": {},
   "outputs": [
    {
     "data": {
      "text/plain": [
       "array(['age', 'campaign', 'marital_married', 'marital_single',\n",
       "       'marital_unknown', 'education_basic.6y', 'education_basic.9y',\n",
       "       'education_high.school', 'education_illiterate',\n",
       "       'education_professional.course', 'education_university.degree',\n",
       "       'education_unknown'], dtype=object)"
      ]
     },
     "execution_count": 305,
     "metadata": {},
     "output_type": "execute_result"
    }
   ],
   "source": [
    "scaler.get_feature_names_out()"
   ]
  },
  {
   "cell_type": "code",
   "execution_count": 306,
   "id": "6e52fdfd-0871-4ade-a899-d1cd3db04186",
   "metadata": {},
   "outputs": [
    {
     "data": {
      "text/html": [
       "<div>\n",
       "<style scoped>\n",
       "    .dataframe tbody tr th:only-of-type {\n",
       "        vertical-align: middle;\n",
       "    }\n",
       "\n",
       "    .dataframe tbody tr th {\n",
       "        vertical-align: top;\n",
       "    }\n",
       "\n",
       "    .dataframe thead th {\n",
       "        text-align: right;\n",
       "    }\n",
       "</style>\n",
       "<table border=\"1\" class=\"dataframe\">\n",
       "  <thead>\n",
       "    <tr style=\"text-align: right;\">\n",
       "      <th></th>\n",
       "      <th>age</th>\n",
       "      <th>campaign</th>\n",
       "      <th>marital_married</th>\n",
       "      <th>marital_single</th>\n",
       "      <th>marital_unknown</th>\n",
       "      <th>education_basic.6y</th>\n",
       "      <th>education_basic.9y</th>\n",
       "      <th>education_high.school</th>\n",
       "      <th>education_illiterate</th>\n",
       "      <th>education_professional.course</th>\n",
       "      <th>education_university.degree</th>\n",
       "      <th>education_unknown</th>\n",
       "    </tr>\n",
       "  </thead>\n",
       "  <tbody>\n",
       "    <tr>\n",
       "      <th>0</th>\n",
       "      <td>0.277778</td>\n",
       "      <td>0.024390</td>\n",
       "      <td>0.0</td>\n",
       "      <td>1.0</td>\n",
       "      <td>0.0</td>\n",
       "      <td>0.0</td>\n",
       "      <td>0.0</td>\n",
       "      <td>1.0</td>\n",
       "      <td>0.0</td>\n",
       "      <td>0.0</td>\n",
       "      <td>0.0</td>\n",
       "      <td>0.0</td>\n",
       "    </tr>\n",
       "    <tr>\n",
       "      <th>1</th>\n",
       "      <td>0.555556</td>\n",
       "      <td>0.024390</td>\n",
       "      <td>0.0</td>\n",
       "      <td>1.0</td>\n",
       "      <td>0.0</td>\n",
       "      <td>0.0</td>\n",
       "      <td>1.0</td>\n",
       "      <td>0.0</td>\n",
       "      <td>0.0</td>\n",
       "      <td>0.0</td>\n",
       "      <td>0.0</td>\n",
       "      <td>0.0</td>\n",
       "    </tr>\n",
       "    <tr>\n",
       "      <th>2</th>\n",
       "      <td>0.986111</td>\n",
       "      <td>0.024390</td>\n",
       "      <td>0.0</td>\n",
       "      <td>0.0</td>\n",
       "      <td>0.0</td>\n",
       "      <td>0.0</td>\n",
       "      <td>0.0</td>\n",
       "      <td>0.0</td>\n",
       "      <td>0.0</td>\n",
       "      <td>0.0</td>\n",
       "      <td>0.0</td>\n",
       "      <td>0.0</td>\n",
       "    </tr>\n",
       "    <tr>\n",
       "      <th>3</th>\n",
       "      <td>0.263889</td>\n",
       "      <td>0.121951</td>\n",
       "      <td>1.0</td>\n",
       "      <td>0.0</td>\n",
       "      <td>0.0</td>\n",
       "      <td>0.0</td>\n",
       "      <td>1.0</td>\n",
       "      <td>0.0</td>\n",
       "      <td>0.0</td>\n",
       "      <td>0.0</td>\n",
       "      <td>0.0</td>\n",
       "      <td>0.0</td>\n",
       "    </tr>\n",
       "    <tr>\n",
       "      <th>4</th>\n",
       "      <td>0.097222</td>\n",
       "      <td>0.000000</td>\n",
       "      <td>0.0</td>\n",
       "      <td>1.0</td>\n",
       "      <td>0.0</td>\n",
       "      <td>0.0</td>\n",
       "      <td>0.0</td>\n",
       "      <td>1.0</td>\n",
       "      <td>0.0</td>\n",
       "      <td>0.0</td>\n",
       "      <td>0.0</td>\n",
       "      <td>0.0</td>\n",
       "    </tr>\n",
       "    <tr>\n",
       "      <th>...</th>\n",
       "      <td>...</td>\n",
       "      <td>...</td>\n",
       "      <td>...</td>\n",
       "      <td>...</td>\n",
       "      <td>...</td>\n",
       "      <td>...</td>\n",
       "      <td>...</td>\n",
       "      <td>...</td>\n",
       "      <td>...</td>\n",
       "      <td>...</td>\n",
       "      <td>...</td>\n",
       "      <td>...</td>\n",
       "    </tr>\n",
       "    <tr>\n",
       "      <th>6067</th>\n",
       "      <td>0.236111</td>\n",
       "      <td>0.000000</td>\n",
       "      <td>0.0</td>\n",
       "      <td>1.0</td>\n",
       "      <td>0.0</td>\n",
       "      <td>0.0</td>\n",
       "      <td>0.0</td>\n",
       "      <td>1.0</td>\n",
       "      <td>0.0</td>\n",
       "      <td>0.0</td>\n",
       "      <td>0.0</td>\n",
       "      <td>0.0</td>\n",
       "    </tr>\n",
       "    <tr>\n",
       "      <th>6068</th>\n",
       "      <td>0.333333</td>\n",
       "      <td>0.024390</td>\n",
       "      <td>1.0</td>\n",
       "      <td>0.0</td>\n",
       "      <td>0.0</td>\n",
       "      <td>0.0</td>\n",
       "      <td>1.0</td>\n",
       "      <td>0.0</td>\n",
       "      <td>0.0</td>\n",
       "      <td>0.0</td>\n",
       "      <td>0.0</td>\n",
       "      <td>0.0</td>\n",
       "    </tr>\n",
       "    <tr>\n",
       "      <th>6069</th>\n",
       "      <td>0.430556</td>\n",
       "      <td>0.000000</td>\n",
       "      <td>0.0</td>\n",
       "      <td>1.0</td>\n",
       "      <td>0.0</td>\n",
       "      <td>0.0</td>\n",
       "      <td>0.0</td>\n",
       "      <td>0.0</td>\n",
       "      <td>0.0</td>\n",
       "      <td>0.0</td>\n",
       "      <td>1.0</td>\n",
       "      <td>0.0</td>\n",
       "    </tr>\n",
       "    <tr>\n",
       "      <th>6070</th>\n",
       "      <td>0.166667</td>\n",
       "      <td>0.121951</td>\n",
       "      <td>0.0</td>\n",
       "      <td>1.0</td>\n",
       "      <td>0.0</td>\n",
       "      <td>0.0</td>\n",
       "      <td>0.0</td>\n",
       "      <td>1.0</td>\n",
       "      <td>0.0</td>\n",
       "      <td>0.0</td>\n",
       "      <td>0.0</td>\n",
       "      <td>0.0</td>\n",
       "    </tr>\n",
       "    <tr>\n",
       "      <th>6071</th>\n",
       "      <td>0.375000</td>\n",
       "      <td>0.000000</td>\n",
       "      <td>1.0</td>\n",
       "      <td>0.0</td>\n",
       "      <td>0.0</td>\n",
       "      <td>0.0</td>\n",
       "      <td>0.0</td>\n",
       "      <td>1.0</td>\n",
       "      <td>0.0</td>\n",
       "      <td>0.0</td>\n",
       "      <td>0.0</td>\n",
       "      <td>0.0</td>\n",
       "    </tr>\n",
       "  </tbody>\n",
       "</table>\n",
       "<p>6072 rows × 12 columns</p>\n",
       "</div>"
      ],
      "text/plain": [
       "           age  campaign  marital_married  marital_single  marital_unknown  \\\n",
       "0     0.277778  0.024390              0.0             1.0              0.0   \n",
       "1     0.555556  0.024390              0.0             1.0              0.0   \n",
       "2     0.986111  0.024390              0.0             0.0              0.0   \n",
       "3     0.263889  0.121951              1.0             0.0              0.0   \n",
       "4     0.097222  0.000000              0.0             1.0              0.0   \n",
       "...        ...       ...              ...             ...              ...   \n",
       "6067  0.236111  0.000000              0.0             1.0              0.0   \n",
       "6068  0.333333  0.024390              1.0             0.0              0.0   \n",
       "6069  0.430556  0.000000              0.0             1.0              0.0   \n",
       "6070  0.166667  0.121951              0.0             1.0              0.0   \n",
       "6071  0.375000  0.000000              1.0             0.0              0.0   \n",
       "\n",
       "      education_basic.6y  education_basic.9y  education_high.school  \\\n",
       "0                    0.0                 0.0                    1.0   \n",
       "1                    0.0                 1.0                    0.0   \n",
       "2                    0.0                 0.0                    0.0   \n",
       "3                    0.0                 1.0                    0.0   \n",
       "4                    0.0                 0.0                    1.0   \n",
       "...                  ...                 ...                    ...   \n",
       "6067                 0.0                 0.0                    1.0   \n",
       "6068                 0.0                 1.0                    0.0   \n",
       "6069                 0.0                 0.0                    0.0   \n",
       "6070                 0.0                 0.0                    1.0   \n",
       "6071                 0.0                 0.0                    1.0   \n",
       "\n",
       "      education_illiterate  education_professional.course  \\\n",
       "0                      0.0                            0.0   \n",
       "1                      0.0                            0.0   \n",
       "2                      0.0                            0.0   \n",
       "3                      0.0                            0.0   \n",
       "4                      0.0                            0.0   \n",
       "...                    ...                            ...   \n",
       "6067                   0.0                            0.0   \n",
       "6068                   0.0                            0.0   \n",
       "6069                   0.0                            0.0   \n",
       "6070                   0.0                            0.0   \n",
       "6071                   0.0                            0.0   \n",
       "\n",
       "      education_university.degree  education_unknown  \n",
       "0                             0.0                0.0  \n",
       "1                             0.0                0.0  \n",
       "2                             0.0                0.0  \n",
       "3                             0.0                0.0  \n",
       "4                             0.0                0.0  \n",
       "...                           ...                ...  \n",
       "6067                          0.0                0.0  \n",
       "6068                          0.0                0.0  \n",
       "6069                          1.0                0.0  \n",
       "6070                          0.0                0.0  \n",
       "6071                          0.0                0.0  \n",
       "\n",
       "[6072 rows x 12 columns]"
      ]
     },
     "execution_count": 306,
     "metadata": {},
     "output_type": "execute_result"
    }
   ],
   "source": [
    "pd.DataFrame(encoder.fit_transform(train), columns=scaler.get_feature_names_out())"
   ]
  },
  {
   "cell_type": "code",
   "execution_count": 307,
   "id": "7b7559d0-44c4-476c-bde3-b8c629f7a645",
   "metadata": {},
   "outputs": [],
   "source": [
    "# from sklearn.preprocessing import MinMaxScaler\n",
    "\n",
    "# X_train = pd.get_dummies(data = X_train, columns = [\"marital\", \"default\"], drop_first = True)\n",
    "\n",
    "# scaler = MinMaxScaler()\n",
    "# X_train_scaled = scaler.fit_transform(X_train[[\"marital_married\", \"marital_single\", \"marital_unknown\", \"default_unknown\", \"age\", \"duration\"]])"
   ]
  },
  {
   "cell_type": "markdown",
   "id": "4de34679-4e8e-49cc-b1ff-218764a08f10",
   "metadata": {},
   "source": [
    "## Evaluating the Model on Validation Set"
   ]
  },
  {
   "cell_type": "markdown",
   "id": "b6286b22-de65-43b3-af97-fdb00b29af90",
   "metadata": {},
   "source": [
    "We can now build and train our model again. On this screen, we'll also evaluate our model on our validation set."
   ]
  },
  {
   "cell_type": "markdown",
   "id": "760c8c5c-0b0b-41bf-8506-657a71d856bf",
   "metadata": {},
   "source": [
    "Since we transformed some of the features in our training data in the previous screen, we need to make sure we transform those same features in our validation set."
   ]
  },
  {
   "cell_type": "markdown",
   "id": "8dfe7036-3649-48f4-ab95-a743af50a7c0",
   "metadata": {},
   "source": [
    "We don't need to use sklearn.preprocessing.MinMaxScaler.fit() again. Our scaler has already \"learned\" how to scale the training data and we can directly transform our validation (or test) data set using the already-defined scaler."
   ]
  },
  {
   "cell_type": "code",
   "execution_count": 320,
   "id": "04a3c14b-b76f-47c2-92ab-e28806727c44",
   "metadata": {},
   "outputs": [],
   "source": [
    "knn = KNeighborsClassifier(n_neighbors=1)\n",
    "knn.fit(X_train_scaled, y_train)\n",
    "\n",
    "X_val = pd.get_dummies(X_val[['age', 'campaign', 'marital', 'education']], columns=['marital', 'education'], drop_first=True, dtype=int)\n"
   ]
  },
  {
   "cell_type": "code",
   "execution_count": 329,
   "id": "75c8df42-e0ad-41f2-823d-01516215bae1",
   "metadata": {},
   "outputs": [
    {
     "data": {
      "text/html": [
       "<div>\n",
       "<style scoped>\n",
       "    .dataframe tbody tr th:only-of-type {\n",
       "        vertical-align: middle;\n",
       "    }\n",
       "\n",
       "    .dataframe tbody tr th {\n",
       "        vertical-align: top;\n",
       "    }\n",
       "\n",
       "    .dataframe thead th {\n",
       "        text-align: right;\n",
       "    }\n",
       "</style>\n",
       "<table border=\"1\" class=\"dataframe\">\n",
       "  <thead>\n",
       "    <tr style=\"text-align: right;\">\n",
       "      <th></th>\n",
       "      <th>age</th>\n",
       "      <th>campaign</th>\n",
       "      <th>marital_married</th>\n",
       "      <th>marital_single</th>\n",
       "      <th>marital_unknown</th>\n",
       "      <th>education_basic.6y</th>\n",
       "      <th>education_basic.9y</th>\n",
       "      <th>education_high.school</th>\n",
       "      <th>education_illiterate</th>\n",
       "      <th>education_professional.course</th>\n",
       "      <th>education_university.degree</th>\n",
       "      <th>education_unknown</th>\n",
       "    </tr>\n",
       "  </thead>\n",
       "  <tbody>\n",
       "    <tr>\n",
       "      <th>0</th>\n",
       "      <td>0.291667</td>\n",
       "      <td>0.024390</td>\n",
       "      <td>1.0</td>\n",
       "      <td>0.0</td>\n",
       "      <td>0.0</td>\n",
       "      <td>0.0</td>\n",
       "      <td>0.0</td>\n",
       "      <td>0.0</td>\n",
       "      <td>0.0</td>\n",
       "      <td>0.0</td>\n",
       "      <td>1.0</td>\n",
       "      <td>0.0</td>\n",
       "    </tr>\n",
       "    <tr>\n",
       "      <th>1</th>\n",
       "      <td>0.527778</td>\n",
       "      <td>0.048780</td>\n",
       "      <td>1.0</td>\n",
       "      <td>0.0</td>\n",
       "      <td>0.0</td>\n",
       "      <td>0.0</td>\n",
       "      <td>0.0</td>\n",
       "      <td>1.0</td>\n",
       "      <td>0.0</td>\n",
       "      <td>0.0</td>\n",
       "      <td>0.0</td>\n",
       "      <td>0.0</td>\n",
       "    </tr>\n",
       "    <tr>\n",
       "      <th>2</th>\n",
       "      <td>0.166667</td>\n",
       "      <td>0.000000</td>\n",
       "      <td>0.0</td>\n",
       "      <td>1.0</td>\n",
       "      <td>0.0</td>\n",
       "      <td>0.0</td>\n",
       "      <td>0.0</td>\n",
       "      <td>0.0</td>\n",
       "      <td>0.0</td>\n",
       "      <td>0.0</td>\n",
       "      <td>1.0</td>\n",
       "      <td>0.0</td>\n",
       "    </tr>\n",
       "    <tr>\n",
       "      <th>3</th>\n",
       "      <td>0.875000</td>\n",
       "      <td>0.024390</td>\n",
       "      <td>0.0</td>\n",
       "      <td>0.0</td>\n",
       "      <td>0.0</td>\n",
       "      <td>0.0</td>\n",
       "      <td>0.0</td>\n",
       "      <td>0.0</td>\n",
       "      <td>0.0</td>\n",
       "      <td>0.0</td>\n",
       "      <td>0.0</td>\n",
       "      <td>0.0</td>\n",
       "    </tr>\n",
       "    <tr>\n",
       "      <th>4</th>\n",
       "      <td>0.388889</td>\n",
       "      <td>0.024390</td>\n",
       "      <td>1.0</td>\n",
       "      <td>0.0</td>\n",
       "      <td>0.0</td>\n",
       "      <td>0.0</td>\n",
       "      <td>0.0</td>\n",
       "      <td>0.0</td>\n",
       "      <td>0.0</td>\n",
       "      <td>0.0</td>\n",
       "      <td>0.0</td>\n",
       "      <td>0.0</td>\n",
       "    </tr>\n",
       "    <tr>\n",
       "      <th>...</th>\n",
       "      <td>...</td>\n",
       "      <td>...</td>\n",
       "      <td>...</td>\n",
       "      <td>...</td>\n",
       "      <td>...</td>\n",
       "      <td>...</td>\n",
       "      <td>...</td>\n",
       "      <td>...</td>\n",
       "      <td>...</td>\n",
       "      <td>...</td>\n",
       "      <td>...</td>\n",
       "      <td>...</td>\n",
       "    </tr>\n",
       "    <tr>\n",
       "      <th>2020</th>\n",
       "      <td>0.263889</td>\n",
       "      <td>0.024390</td>\n",
       "      <td>1.0</td>\n",
       "      <td>0.0</td>\n",
       "      <td>0.0</td>\n",
       "      <td>0.0</td>\n",
       "      <td>0.0</td>\n",
       "      <td>0.0</td>\n",
       "      <td>0.0</td>\n",
       "      <td>0.0</td>\n",
       "      <td>1.0</td>\n",
       "      <td>0.0</td>\n",
       "    </tr>\n",
       "    <tr>\n",
       "      <th>2021</th>\n",
       "      <td>0.500000</td>\n",
       "      <td>0.000000</td>\n",
       "      <td>1.0</td>\n",
       "      <td>0.0</td>\n",
       "      <td>0.0</td>\n",
       "      <td>0.0</td>\n",
       "      <td>0.0</td>\n",
       "      <td>1.0</td>\n",
       "      <td>0.0</td>\n",
       "      <td>0.0</td>\n",
       "      <td>0.0</td>\n",
       "      <td>0.0</td>\n",
       "    </tr>\n",
       "    <tr>\n",
       "      <th>2022</th>\n",
       "      <td>0.333333</td>\n",
       "      <td>0.000000</td>\n",
       "      <td>1.0</td>\n",
       "      <td>0.0</td>\n",
       "      <td>0.0</td>\n",
       "      <td>0.0</td>\n",
       "      <td>0.0</td>\n",
       "      <td>0.0</td>\n",
       "      <td>0.0</td>\n",
       "      <td>0.0</td>\n",
       "      <td>0.0</td>\n",
       "      <td>0.0</td>\n",
       "    </tr>\n",
       "    <tr>\n",
       "      <th>2023</th>\n",
       "      <td>0.291667</td>\n",
       "      <td>0.121951</td>\n",
       "      <td>1.0</td>\n",
       "      <td>0.0</td>\n",
       "      <td>0.0</td>\n",
       "      <td>0.0</td>\n",
       "      <td>0.0</td>\n",
       "      <td>0.0</td>\n",
       "      <td>0.0</td>\n",
       "      <td>0.0</td>\n",
       "      <td>1.0</td>\n",
       "      <td>0.0</td>\n",
       "    </tr>\n",
       "    <tr>\n",
       "      <th>2024</th>\n",
       "      <td>0.291667</td>\n",
       "      <td>0.024390</td>\n",
       "      <td>1.0</td>\n",
       "      <td>0.0</td>\n",
       "      <td>0.0</td>\n",
       "      <td>0.0</td>\n",
       "      <td>0.0</td>\n",
       "      <td>1.0</td>\n",
       "      <td>0.0</td>\n",
       "      <td>0.0</td>\n",
       "      <td>0.0</td>\n",
       "      <td>0.0</td>\n",
       "    </tr>\n",
       "  </tbody>\n",
       "</table>\n",
       "<p>2025 rows × 12 columns</p>\n",
       "</div>"
      ],
      "text/plain": [
       "           age  campaign  marital_married  marital_single  marital_unknown  \\\n",
       "0     0.291667  0.024390              1.0             0.0              0.0   \n",
       "1     0.527778  0.048780              1.0             0.0              0.0   \n",
       "2     0.166667  0.000000              0.0             1.0              0.0   \n",
       "3     0.875000  0.024390              0.0             0.0              0.0   \n",
       "4     0.388889  0.024390              1.0             0.0              0.0   \n",
       "...        ...       ...              ...             ...              ...   \n",
       "2020  0.263889  0.024390              1.0             0.0              0.0   \n",
       "2021  0.500000  0.000000              1.0             0.0              0.0   \n",
       "2022  0.333333  0.000000              1.0             0.0              0.0   \n",
       "2023  0.291667  0.121951              1.0             0.0              0.0   \n",
       "2024  0.291667  0.024390              1.0             0.0              0.0   \n",
       "\n",
       "      education_basic.6y  education_basic.9y  education_high.school  \\\n",
       "0                    0.0                 0.0                    0.0   \n",
       "1                    0.0                 0.0                    1.0   \n",
       "2                    0.0                 0.0                    0.0   \n",
       "3                    0.0                 0.0                    0.0   \n",
       "4                    0.0                 0.0                    0.0   \n",
       "...                  ...                 ...                    ...   \n",
       "2020                 0.0                 0.0                    0.0   \n",
       "2021                 0.0                 0.0                    1.0   \n",
       "2022                 0.0                 0.0                    0.0   \n",
       "2023                 0.0                 0.0                    0.0   \n",
       "2024                 0.0                 0.0                    1.0   \n",
       "\n",
       "      education_illiterate  education_professional.course  \\\n",
       "0                      0.0                            0.0   \n",
       "1                      0.0                            0.0   \n",
       "2                      0.0                            0.0   \n",
       "3                      0.0                            0.0   \n",
       "4                      0.0                            0.0   \n",
       "...                    ...                            ...   \n",
       "2020                   0.0                            0.0   \n",
       "2021                   0.0                            0.0   \n",
       "2022                   0.0                            0.0   \n",
       "2023                   0.0                            0.0   \n",
       "2024                   0.0                            0.0   \n",
       "\n",
       "      education_university.degree  education_unknown  \n",
       "0                             1.0                0.0  \n",
       "1                             0.0                0.0  \n",
       "2                             1.0                0.0  \n",
       "3                             0.0                0.0  \n",
       "4                             0.0                0.0  \n",
       "...                           ...                ...  \n",
       "2020                          1.0                0.0  \n",
       "2021                          0.0                0.0  \n",
       "2022                          0.0                0.0  \n",
       "2023                          1.0                0.0  \n",
       "2024                          0.0                0.0  \n",
       "\n",
       "[2025 rows x 12 columns]"
      ]
     },
     "execution_count": 329,
     "metadata": {},
     "output_type": "execute_result"
    }
   ],
   "source": [
    "X_val_scaled = scaler.transform(X_val)\n",
    "pd.DataFrame(X_val_scaled, columns=scaler.get_feature_names_out())"
   ]
  },
  {
   "cell_type": "code",
   "execution_count": 330,
   "id": "d806847d-3d33-4fac-a7b4-309d226776f3",
   "metadata": {},
   "outputs": [
    {
     "data": {
      "text/plain": [
       "array([[0.29166667, 0.02439024, 1.        , ..., 0.        , 1.        ,\n",
       "        0.        ],\n",
       "       [0.52777778, 0.04878049, 1.        , ..., 0.        , 0.        ,\n",
       "        0.        ],\n",
       "       [0.16666667, 0.        , 0.        , ..., 0.        , 1.        ,\n",
       "        0.        ],\n",
       "       ...,\n",
       "       [0.33333333, 0.        , 1.        , ..., 0.        , 0.        ,\n",
       "        0.        ],\n",
       "       [0.29166667, 0.12195122, 1.        , ..., 0.        , 1.        ,\n",
       "        0.        ],\n",
       "       [0.29166667, 0.02439024, 1.        , ..., 0.        , 0.        ,\n",
       "        0.        ]])"
      ]
     },
     "execution_count": 330,
     "metadata": {},
     "output_type": "execute_result"
    }
   ],
   "source": [
    "X_val_scaled"
   ]
  },
  {
   "cell_type": "code",
   "execution_count": 331,
   "id": "348b1d4c-9791-4b39-9144-12b5846d3891",
   "metadata": {},
   "outputs": [
    {
     "data": {
      "text/plain": [
       "0.5397530864197531"
      ]
     },
     "execution_count": 331,
     "metadata": {},
     "output_type": "execute_result"
    }
   ],
   "source": [
    "knn.score(X_val_scaled, y_val)"
   ]
  },
  {
   "cell_type": "code",
   "execution_count": 333,
   "id": "2faa3db3-454f-4dbb-a696-6726ab5d4f65",
   "metadata": {},
   "outputs": [
    {
     "data": {
      "text/html": [
       "<style>#sk-container-id-1 {\n",
       "  /* Definition of color scheme common for light and dark mode */\n",
       "  --sklearn-color-text: black;\n",
       "  --sklearn-color-line: gray;\n",
       "  /* Definition of color scheme for unfitted estimators */\n",
       "  --sklearn-color-unfitted-level-0: #fff5e6;\n",
       "  --sklearn-color-unfitted-level-1: #f6e4d2;\n",
       "  --sklearn-color-unfitted-level-2: #ffe0b3;\n",
       "  --sklearn-color-unfitted-level-3: chocolate;\n",
       "  /* Definition of color scheme for fitted estimators */\n",
       "  --sklearn-color-fitted-level-0: #f0f8ff;\n",
       "  --sklearn-color-fitted-level-1: #d4ebff;\n",
       "  --sklearn-color-fitted-level-2: #b3dbfd;\n",
       "  --sklearn-color-fitted-level-3: cornflowerblue;\n",
       "\n",
       "  /* Specific color for light theme */\n",
       "  --sklearn-color-text-on-default-background: var(--sg-text-color, var(--theme-code-foreground, var(--jp-content-font-color1, black)));\n",
       "  --sklearn-color-background: var(--sg-background-color, var(--theme-background, var(--jp-layout-color0, white)));\n",
       "  --sklearn-color-border-box: var(--sg-text-color, var(--theme-code-foreground, var(--jp-content-font-color1, black)));\n",
       "  --sklearn-color-icon: #696969;\n",
       "\n",
       "  @media (prefers-color-scheme: dark) {\n",
       "    /* Redefinition of color scheme for dark theme */\n",
       "    --sklearn-color-text-on-default-background: var(--sg-text-color, var(--theme-code-foreground, var(--jp-content-font-color1, white)));\n",
       "    --sklearn-color-background: var(--sg-background-color, var(--theme-background, var(--jp-layout-color0, #111)));\n",
       "    --sklearn-color-border-box: var(--sg-text-color, var(--theme-code-foreground, var(--jp-content-font-color1, white)));\n",
       "    --sklearn-color-icon: #878787;\n",
       "  }\n",
       "}\n",
       "\n",
       "#sk-container-id-1 {\n",
       "  color: var(--sklearn-color-text);\n",
       "}\n",
       "\n",
       "#sk-container-id-1 pre {\n",
       "  padding: 0;\n",
       "}\n",
       "\n",
       "#sk-container-id-1 input.sk-hidden--visually {\n",
       "  border: 0;\n",
       "  clip: rect(1px 1px 1px 1px);\n",
       "  clip: rect(1px, 1px, 1px, 1px);\n",
       "  height: 1px;\n",
       "  margin: -1px;\n",
       "  overflow: hidden;\n",
       "  padding: 0;\n",
       "  position: absolute;\n",
       "  width: 1px;\n",
       "}\n",
       "\n",
       "#sk-container-id-1 div.sk-dashed-wrapped {\n",
       "  border: 1px dashed var(--sklearn-color-line);\n",
       "  margin: 0 0.4em 0.5em 0.4em;\n",
       "  box-sizing: border-box;\n",
       "  padding-bottom: 0.4em;\n",
       "  background-color: var(--sklearn-color-background);\n",
       "}\n",
       "\n",
       "#sk-container-id-1 div.sk-container {\n",
       "  /* jupyter's `normalize.less` sets `[hidden] { display: none; }`\n",
       "     but bootstrap.min.css set `[hidden] { display: none !important; }`\n",
       "     so we also need the `!important` here to be able to override the\n",
       "     default hidden behavior on the sphinx rendered scikit-learn.org.\n",
       "     See: https://github.com/scikit-learn/scikit-learn/issues/21755 */\n",
       "  display: inline-block !important;\n",
       "  position: relative;\n",
       "}\n",
       "\n",
       "#sk-container-id-1 div.sk-text-repr-fallback {\n",
       "  display: none;\n",
       "}\n",
       "\n",
       "div.sk-parallel-item,\n",
       "div.sk-serial,\n",
       "div.sk-item {\n",
       "  /* draw centered vertical line to link estimators */\n",
       "  background-image: linear-gradient(var(--sklearn-color-text-on-default-background), var(--sklearn-color-text-on-default-background));\n",
       "  background-size: 2px 100%;\n",
       "  background-repeat: no-repeat;\n",
       "  background-position: center center;\n",
       "}\n",
       "\n",
       "/* Parallel-specific style estimator block */\n",
       "\n",
       "#sk-container-id-1 div.sk-parallel-item::after {\n",
       "  content: \"\";\n",
       "  width: 100%;\n",
       "  border-bottom: 2px solid var(--sklearn-color-text-on-default-background);\n",
       "  flex-grow: 1;\n",
       "}\n",
       "\n",
       "#sk-container-id-1 div.sk-parallel {\n",
       "  display: flex;\n",
       "  align-items: stretch;\n",
       "  justify-content: center;\n",
       "  background-color: var(--sklearn-color-background);\n",
       "  position: relative;\n",
       "}\n",
       "\n",
       "#sk-container-id-1 div.sk-parallel-item {\n",
       "  display: flex;\n",
       "  flex-direction: column;\n",
       "}\n",
       "\n",
       "#sk-container-id-1 div.sk-parallel-item:first-child::after {\n",
       "  align-self: flex-end;\n",
       "  width: 50%;\n",
       "}\n",
       "\n",
       "#sk-container-id-1 div.sk-parallel-item:last-child::after {\n",
       "  align-self: flex-start;\n",
       "  width: 50%;\n",
       "}\n",
       "\n",
       "#sk-container-id-1 div.sk-parallel-item:only-child::after {\n",
       "  width: 0;\n",
       "}\n",
       "\n",
       "/* Serial-specific style estimator block */\n",
       "\n",
       "#sk-container-id-1 div.sk-serial {\n",
       "  display: flex;\n",
       "  flex-direction: column;\n",
       "  align-items: center;\n",
       "  background-color: var(--sklearn-color-background);\n",
       "  padding-right: 1em;\n",
       "  padding-left: 1em;\n",
       "}\n",
       "\n",
       "\n",
       "/* Toggleable style: style used for estimator/Pipeline/ColumnTransformer box that is\n",
       "clickable and can be expanded/collapsed.\n",
       "- Pipeline and ColumnTransformer use this feature and define the default style\n",
       "- Estimators will overwrite some part of the style using the `sk-estimator` class\n",
       "*/\n",
       "\n",
       "/* Pipeline and ColumnTransformer style (default) */\n",
       "\n",
       "#sk-container-id-1 div.sk-toggleable {\n",
       "  /* Default theme specific background. It is overwritten whether we have a\n",
       "  specific estimator or a Pipeline/ColumnTransformer */\n",
       "  background-color: var(--sklearn-color-background);\n",
       "}\n",
       "\n",
       "/* Toggleable label */\n",
       "#sk-container-id-1 label.sk-toggleable__label {\n",
       "  cursor: pointer;\n",
       "  display: block;\n",
       "  width: 100%;\n",
       "  margin-bottom: 0;\n",
       "  padding: 0.5em;\n",
       "  box-sizing: border-box;\n",
       "  text-align: center;\n",
       "}\n",
       "\n",
       "#sk-container-id-1 label.sk-toggleable__label-arrow:before {\n",
       "  /* Arrow on the left of the label */\n",
       "  content: \"▸\";\n",
       "  float: left;\n",
       "  margin-right: 0.25em;\n",
       "  color: var(--sklearn-color-icon);\n",
       "}\n",
       "\n",
       "#sk-container-id-1 label.sk-toggleable__label-arrow:hover:before {\n",
       "  color: var(--sklearn-color-text);\n",
       "}\n",
       "\n",
       "/* Toggleable content - dropdown */\n",
       "\n",
       "#sk-container-id-1 div.sk-toggleable__content {\n",
       "  max-height: 0;\n",
       "  max-width: 0;\n",
       "  overflow: hidden;\n",
       "  text-align: left;\n",
       "  /* unfitted */\n",
       "  background-color: var(--sklearn-color-unfitted-level-0);\n",
       "}\n",
       "\n",
       "#sk-container-id-1 div.sk-toggleable__content.fitted {\n",
       "  /* fitted */\n",
       "  background-color: var(--sklearn-color-fitted-level-0);\n",
       "}\n",
       "\n",
       "#sk-container-id-1 div.sk-toggleable__content pre {\n",
       "  margin: 0.2em;\n",
       "  border-radius: 0.25em;\n",
       "  color: var(--sklearn-color-text);\n",
       "  /* unfitted */\n",
       "  background-color: var(--sklearn-color-unfitted-level-0);\n",
       "}\n",
       "\n",
       "#sk-container-id-1 div.sk-toggleable__content.fitted pre {\n",
       "  /* unfitted */\n",
       "  background-color: var(--sklearn-color-fitted-level-0);\n",
       "}\n",
       "\n",
       "#sk-container-id-1 input.sk-toggleable__control:checked~div.sk-toggleable__content {\n",
       "  /* Expand drop-down */\n",
       "  max-height: 200px;\n",
       "  max-width: 100%;\n",
       "  overflow: auto;\n",
       "}\n",
       "\n",
       "#sk-container-id-1 input.sk-toggleable__control:checked~label.sk-toggleable__label-arrow:before {\n",
       "  content: \"▾\";\n",
       "}\n",
       "\n",
       "/* Pipeline/ColumnTransformer-specific style */\n",
       "\n",
       "#sk-container-id-1 div.sk-label input.sk-toggleable__control:checked~label.sk-toggleable__label {\n",
       "  color: var(--sklearn-color-text);\n",
       "  background-color: var(--sklearn-color-unfitted-level-2);\n",
       "}\n",
       "\n",
       "#sk-container-id-1 div.sk-label.fitted input.sk-toggleable__control:checked~label.sk-toggleable__label {\n",
       "  background-color: var(--sklearn-color-fitted-level-2);\n",
       "}\n",
       "\n",
       "/* Estimator-specific style */\n",
       "\n",
       "/* Colorize estimator box */\n",
       "#sk-container-id-1 div.sk-estimator input.sk-toggleable__control:checked~label.sk-toggleable__label {\n",
       "  /* unfitted */\n",
       "  background-color: var(--sklearn-color-unfitted-level-2);\n",
       "}\n",
       "\n",
       "#sk-container-id-1 div.sk-estimator.fitted input.sk-toggleable__control:checked~label.sk-toggleable__label {\n",
       "  /* fitted */\n",
       "  background-color: var(--sklearn-color-fitted-level-2);\n",
       "}\n",
       "\n",
       "#sk-container-id-1 div.sk-label label.sk-toggleable__label,\n",
       "#sk-container-id-1 div.sk-label label {\n",
       "  /* The background is the default theme color */\n",
       "  color: var(--sklearn-color-text-on-default-background);\n",
       "}\n",
       "\n",
       "/* On hover, darken the color of the background */\n",
       "#sk-container-id-1 div.sk-label:hover label.sk-toggleable__label {\n",
       "  color: var(--sklearn-color-text);\n",
       "  background-color: var(--sklearn-color-unfitted-level-2);\n",
       "}\n",
       "\n",
       "/* Label box, darken color on hover, fitted */\n",
       "#sk-container-id-1 div.sk-label.fitted:hover label.sk-toggleable__label.fitted {\n",
       "  color: var(--sklearn-color-text);\n",
       "  background-color: var(--sklearn-color-fitted-level-2);\n",
       "}\n",
       "\n",
       "/* Estimator label */\n",
       "\n",
       "#sk-container-id-1 div.sk-label label {\n",
       "  font-family: monospace;\n",
       "  font-weight: bold;\n",
       "  display: inline-block;\n",
       "  line-height: 1.2em;\n",
       "}\n",
       "\n",
       "#sk-container-id-1 div.sk-label-container {\n",
       "  text-align: center;\n",
       "}\n",
       "\n",
       "/* Estimator-specific */\n",
       "#sk-container-id-1 div.sk-estimator {\n",
       "  font-family: monospace;\n",
       "  border: 1px dotted var(--sklearn-color-border-box);\n",
       "  border-radius: 0.25em;\n",
       "  box-sizing: border-box;\n",
       "  margin-bottom: 0.5em;\n",
       "  /* unfitted */\n",
       "  background-color: var(--sklearn-color-unfitted-level-0);\n",
       "}\n",
       "\n",
       "#sk-container-id-1 div.sk-estimator.fitted {\n",
       "  /* fitted */\n",
       "  background-color: var(--sklearn-color-fitted-level-0);\n",
       "}\n",
       "\n",
       "/* on hover */\n",
       "#sk-container-id-1 div.sk-estimator:hover {\n",
       "  /* unfitted */\n",
       "  background-color: var(--sklearn-color-unfitted-level-2);\n",
       "}\n",
       "\n",
       "#sk-container-id-1 div.sk-estimator.fitted:hover {\n",
       "  /* fitted */\n",
       "  background-color: var(--sklearn-color-fitted-level-2);\n",
       "}\n",
       "\n",
       "/* Specification for estimator info (e.g. \"i\" and \"?\") */\n",
       "\n",
       "/* Common style for \"i\" and \"?\" */\n",
       "\n",
       ".sk-estimator-doc-link,\n",
       "a:link.sk-estimator-doc-link,\n",
       "a:visited.sk-estimator-doc-link {\n",
       "  float: right;\n",
       "  font-size: smaller;\n",
       "  line-height: 1em;\n",
       "  font-family: monospace;\n",
       "  background-color: var(--sklearn-color-background);\n",
       "  border-radius: 1em;\n",
       "  height: 1em;\n",
       "  width: 1em;\n",
       "  text-decoration: none !important;\n",
       "  margin-left: 1ex;\n",
       "  /* unfitted */\n",
       "  border: var(--sklearn-color-unfitted-level-1) 1pt solid;\n",
       "  color: var(--sklearn-color-unfitted-level-1);\n",
       "}\n",
       "\n",
       ".sk-estimator-doc-link.fitted,\n",
       "a:link.sk-estimator-doc-link.fitted,\n",
       "a:visited.sk-estimator-doc-link.fitted {\n",
       "  /* fitted */\n",
       "  border: var(--sklearn-color-fitted-level-1) 1pt solid;\n",
       "  color: var(--sklearn-color-fitted-level-1);\n",
       "}\n",
       "\n",
       "/* On hover */\n",
       "div.sk-estimator:hover .sk-estimator-doc-link:hover,\n",
       ".sk-estimator-doc-link:hover,\n",
       "div.sk-label-container:hover .sk-estimator-doc-link:hover,\n",
       ".sk-estimator-doc-link:hover {\n",
       "  /* unfitted */\n",
       "  background-color: var(--sklearn-color-unfitted-level-3);\n",
       "  color: var(--sklearn-color-background);\n",
       "  text-decoration: none;\n",
       "}\n",
       "\n",
       "div.sk-estimator.fitted:hover .sk-estimator-doc-link.fitted:hover,\n",
       ".sk-estimator-doc-link.fitted:hover,\n",
       "div.sk-label-container:hover .sk-estimator-doc-link.fitted:hover,\n",
       ".sk-estimator-doc-link.fitted:hover {\n",
       "  /* fitted */\n",
       "  background-color: var(--sklearn-color-fitted-level-3);\n",
       "  color: var(--sklearn-color-background);\n",
       "  text-decoration: none;\n",
       "}\n",
       "\n",
       "/* Span, style for the box shown on hovering the info icon */\n",
       ".sk-estimator-doc-link span {\n",
       "  display: none;\n",
       "  z-index: 9999;\n",
       "  position: relative;\n",
       "  font-weight: normal;\n",
       "  right: .2ex;\n",
       "  padding: .5ex;\n",
       "  margin: .5ex;\n",
       "  width: min-content;\n",
       "  min-width: 20ex;\n",
       "  max-width: 50ex;\n",
       "  color: var(--sklearn-color-text);\n",
       "  box-shadow: 2pt 2pt 4pt #999;\n",
       "  /* unfitted */\n",
       "  background: var(--sklearn-color-unfitted-level-0);\n",
       "  border: .5pt solid var(--sklearn-color-unfitted-level-3);\n",
       "}\n",
       "\n",
       ".sk-estimator-doc-link.fitted span {\n",
       "  /* fitted */\n",
       "  background: var(--sklearn-color-fitted-level-0);\n",
       "  border: var(--sklearn-color-fitted-level-3);\n",
       "}\n",
       "\n",
       ".sk-estimator-doc-link:hover span {\n",
       "  display: block;\n",
       "}\n",
       "\n",
       "/* \"?\"-specific style due to the `<a>` HTML tag */\n",
       "\n",
       "#sk-container-id-1 a.estimator_doc_link {\n",
       "  float: right;\n",
       "  font-size: 1rem;\n",
       "  line-height: 1em;\n",
       "  font-family: monospace;\n",
       "  background-color: var(--sklearn-color-background);\n",
       "  border-radius: 1rem;\n",
       "  height: 1rem;\n",
       "  width: 1rem;\n",
       "  text-decoration: none;\n",
       "  /* unfitted */\n",
       "  color: var(--sklearn-color-unfitted-level-1);\n",
       "  border: var(--sklearn-color-unfitted-level-1) 1pt solid;\n",
       "}\n",
       "\n",
       "#sk-container-id-1 a.estimator_doc_link.fitted {\n",
       "  /* fitted */\n",
       "  border: var(--sklearn-color-fitted-level-1) 1pt solid;\n",
       "  color: var(--sklearn-color-fitted-level-1);\n",
       "}\n",
       "\n",
       "/* On hover */\n",
       "#sk-container-id-1 a.estimator_doc_link:hover {\n",
       "  /* unfitted */\n",
       "  background-color: var(--sklearn-color-unfitted-level-3);\n",
       "  color: var(--sklearn-color-background);\n",
       "  text-decoration: none;\n",
       "}\n",
       "\n",
       "#sk-container-id-1 a.estimator_doc_link.fitted:hover {\n",
       "  /* fitted */\n",
       "  background-color: var(--sklearn-color-fitted-level-3);\n",
       "}\n",
       "</style><div id=\"sk-container-id-1\" class=\"sk-top-container\"><div class=\"sk-text-repr-fallback\"><pre>KNeighborsClassifier(n_neighbors=2000)</pre><b>In a Jupyter environment, please rerun this cell to show the HTML representation or trust the notebook. <br />On GitHub, the HTML representation is unable to render, please try loading this page with nbviewer.org.</b></div><div class=\"sk-container\" hidden><div class=\"sk-item\"><div class=\"sk-estimator fitted sk-toggleable\"><input class=\"sk-toggleable__control sk-hidden--visually\" id=\"sk-estimator-id-1\" type=\"checkbox\" checked><label for=\"sk-estimator-id-1\" class=\"sk-toggleable__label fitted sk-toggleable__label-arrow fitted\">&nbsp;&nbsp;KNeighborsClassifier<a class=\"sk-estimator-doc-link fitted\" rel=\"noreferrer\" target=\"_blank\" href=\"https://scikit-learn.org/1.4/modules/generated/sklearn.neighbors.KNeighborsClassifier.html\">?<span>Documentation for KNeighborsClassifier</span></a><span class=\"sk-estimator-doc-link fitted\">i<span>Fitted</span></span></label><div class=\"sk-toggleable__content fitted\"><pre>KNeighborsClassifier(n_neighbors=2000)</pre></div> </div></div></div></div>"
      ],
      "text/plain": [
       "KNeighborsClassifier(n_neighbors=2000)"
      ]
     },
     "execution_count": 333,
     "metadata": {},
     "output_type": "execute_result"
    }
   ],
   "source": [
    "knn = KNeighborsClassifier(n_neighbors=2000)\n",
    "knn.fit(X_train_scaled, y_train)"
   ]
  },
  {
   "cell_type": "code",
   "execution_count": 335,
   "id": "0d47c31f-2111-44cf-8fd0-2838369d0056",
   "metadata": {},
   "outputs": [
    {
     "data": {
      "text/plain": [
       "0.5674074074074074"
      ]
     },
     "execution_count": 335,
     "metadata": {},
     "output_type": "execute_result"
    }
   ],
   "source": [
    "knn.score(X_val_scaled, y_val)"
   ]
  },
  {
   "cell_type": "code",
   "execution_count": 347,
   "id": "abdc48fd-23ec-40dc-a97f-09d71325b0f8",
   "metadata": {},
   "outputs": [],
   "source": [
    "values = range(1, 200)\n",
    "accuracies = []\n",
    "best_k = None\n",
    "best_acc = None\n",
    "for k in values:\n",
    "    knn = KNeighborsClassifier(n_neighbors=k)\n",
    "    knn.fit(X_train_scaled, y_train)\n",
    "    acc = knn.score(X_val_scaled, y_val)\n",
    "    accuracies.append(acc)\n",
    "    if best_acc is None or acc > best_acc:\n",
    "        best_acc = acc\n",
    "        best_k = k\n",
    "    "
   ]
  },
  {
   "cell_type": "code",
   "execution_count": 351,
   "id": "01b8e5be-49cf-44e7-a899-1237752997cf",
   "metadata": {},
   "outputs": [
    {
     "data": {
      "text/plain": [
       "(100, 0.6148148148148148)"
      ]
     },
     "execution_count": 351,
     "metadata": {},
     "output_type": "execute_result"
    }
   ],
   "source": [
    "best_k, best_acc"
   ]
  },
  {
   "cell_type": "code",
   "execution_count": 350,
   "id": "a1d73c66-9545-43f2-b284-98a15c99f524",
   "metadata": {},
   "outputs": [
    {
     "data": {
      "image/png": "[encoded data removed]",
      "text/plain": [
       "<Figure size 640x480 with 1 Axes>"
      ]
     },
     "metadata": {},
     "output_type": "display_data"
    }
   ],
   "source": [
    "plt.plot(values, accuracies)\n",
    "plt.show()"
   ]
  },
  {
   "cell_type": "code",
   "execution_count": 352,
   "id": "b500eaa9-ffb6-4b80-ac76-27a71342c477",
   "metadata": {},
   "outputs": [
    {
     "name": "stdout",
     "output_type": "stream",
     "text": [
      "Accuracy of model evaluated on validation set with K = 1: 69.19%\n",
      "Accuracy of model evaluated on validation set with K = 2000: 59.46%\n"
     ]
    }
   ],
   "source": [
    "import pandas as pd\n",
    "from sklearn.model_selection import train_test_split\n",
    "from sklearn.preprocessing import MinMaxScaler\n",
    "from sklearn.neighbors import KNeighborsClassifier\n",
    "\n",
    "# banking_df = pd.read_csv(\"subscription_prediction.csv\")\n",
    "X = banking_df.drop([\"y\"], axis=1)\n",
    "y = banking_df[\"y\"]\n",
    "\n",
    "X_train, X_val, y_train, y_val = train_test_split(X, y, test_size=0.20, random_state = 417)\n",
    "X_train, X_test, y_train, y_test = train_test_split(X_train, y_train, test_size=0.20*X.shape[0]/X_train.shape[0], random_state = 417)\n",
    "\n",
    "X_train = pd.get_dummies(data = X_train, columns = [\"marital\", \"default\"], drop_first = True)\n",
    "\n",
    "scaler = MinMaxScaler()\n",
    "X_train_scaled = scaler.fit_transform(X_train[[\"marital_married\", \"marital_single\", \"marital_unknown\", \"default_unknown\", \"age\", \"duration\"]])\n",
    "\n",
    "\n",
    "knn = KNeighborsClassifier(n_neighbors = 1)\n",
    "knn.fit(X_train_scaled, y_train)\n",
    "\n",
    "X_val = pd.get_dummies(data = X_val, columns = [\"marital\", \"default\"], drop_first = True)\n",
    "\n",
    "X_val_scaled = scaler.transform(X_val[[\"marital_married\", \"marital_single\", \"marital_unknown\", \"default_unknown\", \"age\", \"duration\"]])\n",
    "\n",
    "val_accuracy = knn.score(X_val_scaled, y_val)\n",
    "print(f\"Accuracy of model evaluated on validation set with K = 1: {val_accuracy*100:.2f}%\")\n",
    "\n",
    "knn = KNeighborsClassifier(n_neighbors = 2000)\n",
    "knn.fit(X_train_scaled, y_train)\n",
    "\n",
    "val_accuracy = knn.score(X_val_scaled, y_val)\n",
    "print(f\"Accuracy of model evaluated on validation set with K = 2000: {val_accuracy*100:.2f}%\")"
   ]
  },
  {
   "cell_type": "markdown",
   "id": "a9c8c9e4-4f6a-4eda-b306-031901a16b70",
   "metadata": {},
   "source": [
    "## Underfitting and Overfitting"
   ]
  },
  {
   "cell_type": "markdown",
   "id": "14876e9f-03ca-498b-97cd-839c01b52368",
   "metadata": {},
   "source": [
    "In the previous screen, selecting two drastically different values for \r\n",
    "K\r\n",
    " results in different model accuracies. One performs much better than the other."
   ]
  },
  {
   "attachments": {
    "d6c13963-3cb2-4211-98c0-a17e0c2b8bbd.png": {
     "image/png": "[encoded data removed]"
    }
   },
   "cell_type": "markdown",
   "id": "9bf47927-8eac-44f7-9d93-85160976ae3c",
   "metadata": {},
   "source": [
    "![image.png](attachment:d6c13963-3cb2-4211-98c0-a17e0c2b8bbd.png)"
   ]
  },
  {
   "cell_type": "markdown",
   "id": "6e3dd30d-b560-4441-9678-37448ac2a841",
   "metadata": {},
   "source": [
    "This difference in performance highlights a crucial concept in machine learning: the balance between underfitting and overfitting. In machine learning, our goal is to create models that generalize well to new, unseen data. However, finding the right balance can be challenging, and two common issues that can arise are underfitting and overfitting."
   ]
  },
  {
   "cell_type": "markdown",
   "id": "2033cace-0268-4cee-a47f-67c8eb2840e3",
   "metadata": {},
   "source": [
    "Let's explore these concepts using the K-Nearest Neighbors (KNN) algorithm, focusing on how different values of \r\n",
    "K\r\n",
    " can lead to these issues:"
   ]
  },
  {
   "attachments": {
    "1489e094-dc06-4d68-b84b-354c42b98479.png": {
     "image/png": "[encoded data removed]"
    }
   },
   "cell_type": "markdown",
   "id": "81daa6a1-d188-4a4f-9b30-fd48661d0da6",
   "metadata": {},
   "source": [
    "![image.png](attachment:1489e094-dc06-4d68-b84b-354c42b98479.png)"
   ]
  },
  {
   "cell_type": "code",
   "execution_count": 353,
   "id": "760b6751-2994-4670-95ed-aece84491081",
   "metadata": {},
   "outputs": [
    {
     "name": "stdout",
     "output_type": "stream",
     "text": [
      "K=1: Train Accuracy: 1.0000, Test Accuracy: 0.9000\n",
      "K=5: Train Accuracy: 0.9313, Test Accuracy: 0.9350\n",
      "K=100: Train Accuracy: 0.8750, Test Accuracy: 0.9100\n"
     ]
    }
   ],
   "source": [
    "from sklearn.neighbors import KNeighborsClassifier\n",
    "from sklearn.model_selection import train_test_split\n",
    "from sklearn.datasets import make_classification\n",
    "\n",
    "# Create a synthetic dataset\n",
    "X, y = make_classification(n_samples=1000, n_features=2, n_informative=2, n_redundant=0, random_state=42)\n",
    "\n",
    "# Split the data into training and test sets\n",
    "X_train, X_test, y_train, y_test = train_test_split(X, y, test_size=0.2, random_state=42)\n",
    "\n",
    "# Function to evaluate model\n",
    "def evaluate_model(k):\n",
    "    knn = KNeighborsClassifier(n_neighbors=k)\n",
    "    knn.fit(X_train, y_train)\n",
    "    train_accuracy = knn.score(X_train, y_train)\n",
    "    test_accuracy = knn.score(X_test, y_test)\n",
    "    return train_accuracy, test_accuracy\n",
    "\n",
    "# Evaluate models with different k values\n",
    "k_1 = evaluate_model(1)\n",
    "k_5 = evaluate_model(5)\n",
    "k_100 = evaluate_model(100)\n",
    "\n",
    "print(f\"K=1: Train Accuracy: {k_1[0]:.4f}, Test Accuracy: {k_1[1]:.4f}\")\n",
    "print(f\"K=5: Train Accuracy: {k_5[0]:.4f}, Test Accuracy: {k_5[1]:.4f}\")\n",
    "print(f\"K=100: Train Accuracy: {k_100[0]:.4f}, Test Accuracy: {k_100[1]:.4f}\")"
   ]
  },
  {
   "cell_type": "markdown",
   "id": "08e86184-41a9-4514-8a12-dfaa4e9ab524",
   "metadata": {},
   "source": [
    "This code demonstrates how different values of K affect the model's performance:"
   ]
  },
  {
   "cell_type": "markdown",
   "id": "65946741-ba29-4a72-a571-82cafb42f0de",
   "metadata": {},
   "source": [
    "1. Overfitting (K=1): Train Accuracy: 1.0000, Test Accuracy: 0.9000\n",
    "    - The model has a perfect score on the training data (1.0000) but a lower score on the test data (0.9000).\n",
    "    - This indicates overfitting: the model has memorized the training data perfectly but doesn't generalize as well to new data."
   ]
  },
  {
   "cell_type": "markdown",
   "id": "16d8f30c-aa2c-4c76-a01c-d3d0f09e994f",
   "metadata": {},
   "source": [
    "2. Good Fit (K=5): Train Accuracy: 0.9313, Test Accuracy: 0.9350\n",
    "    - The model performs similarly on both training and test data, with the test accuracy even slightly higher.\n",
    "    - This suggests a good balance: the model generalizes well to new data."
   ]
  },
  {
   "cell_type": "markdown",
   "id": "bae10a75-c614-4155-a1de-44e5d2524ba3",
   "metadata": {},
   "source": [
    "3. Slight Underfitting (K=100):Train Accuracy: 0.8750, Test Accuracy: 0.9100\n",
    "    - Both accuracies are lower than K=5, indicating the model might be too simple.\n",
    "    - Interestingly, the test accuracy is higher than the training accuracy, which can happen with high K values as the model becomes very generalized."
   ]
  },
  {
   "cell_type": "markdown",
   "id": "8f8b7080-286e-487b-9fff-2747ebace9e5",
   "metadata": {},
   "source": [
    "Visual representation of decision boundaries:"
   ]
  },
  {
   "attachments": {
    "8c33680e-2be8-4413-ad1c-b5e0c98a5cb8.png": {
     "image/png": "[encoded data removed]"
    }
   },
   "cell_type": "markdown",
   "id": "c5cb2eb3-5c36-47f1-9bb7-1515512b66b9",
   "metadata": {},
   "source": [
    "![image.png](attachment:8c33680e-2be8-4413-ad1c-b5e0c98a5cb8.png)"
   ]
  },
  {
   "cell_type": "markdown",
   "id": "07c55d9c-7630-4b20-b2ea-8b0389a1d577",
   "metadata": {},
   "source": [
    "Good Fit: Balanced decision boundary"
   ]
  },
  {
   "attachments": {
    "c4d5e1f1-c301-4f71-8b62-a37408cdbfb4.png": {
     "image/png": "[encoded data removed]"
    }
   },
   "cell_type": "markdown",
   "id": "0773af7c-7e61-4305-8c37-5b90de5b77af",
   "metadata": {},
   "source": [
    "![image.png](attachment:c4d5e1f1-c301-4f71-8b62-a37408cdbfb4.png)"
   ]
  },
  {
   "cell_type": "markdown",
   "id": "12154367-3833-4f27-8392-c33bf0b8cc13",
   "metadata": {},
   "source": [
    "Overfitting: Overly complex decision boundary\r\n",
    "\r\n"
   ]
  },
  {
   "attachments": {
    "6aae24ad-6d9d-4913-99cc-5aa4e481d550.png": {
     "image/png": "[encoded data removed]"
    }
   },
   "cell_type": "markdown",
   "id": "6aee4fdb-bb22-4ddf-8f0d-3cf23da2333d",
   "metadata": {},
   "source": [
    "![image.png](attachment:6aae24ad-6d9d-4913-99cc-5aa4e481d550.png)"
   ]
  },
  {
   "cell_type": "markdown",
   "id": "5949f02a-c279-4374-9e19-2aca7ce21a5e",
   "metadata": {},
   "source": [
    "Underfitting: Overly simple decision boundary\r\n",
    "\r\n",
    "In practice, we aim to find the optimal K value that balances between overfitting and underfitting, resulting in a model that generalizes well to new data. This process often involves techniques like cross-validation, which we'll explore in future lessons."
   ]
  },
  {
   "cell_type": "markdown",
   "id": "4b4e1023-1a93-4930-a8c6-39f6618a939a",
   "metadata": {},
   "source": [
    "## Evaluating the Model on Test Set"
   ]
  },
  {
   "cell_type": "markdown",
   "id": "a570b340-aa0a-44af-a213-24cefec2c777",
   "metadata": {},
   "source": [
    "Let's evaluate our model on the test set."
   ]
  },
  {
   "cell_type": "markdown",
   "id": "3b621139-6a22-41c6-a1c5-43b0be1a7a76",
   "metadata": {},
   "source": [
    "1. Experiment with different features and values for \n",
    "K\n",
    ".\n",
    "\n",
    "    - 1.1. Evaluate the model's performance on the validation set for the different combinations.\n",
    "\n",
    "    - 1.2. Identify features and values for \n",
    "K\n",
    " that result in a reasonably good (to you) accuracy value.\n",
    "\n",
    "2. Using the features and values for \n",
    "K\n",
    " identified in the previous step, evaluate the model on the test set.\n",
    "\n",
    "    - 2.1. Normalize the test set before evaluating the model.\n",
    "\n",
    "    - 2.2. The model should be evaluated on the test set only once.\n",
    "\n"
   ]
  },
  {
   "cell_type": "code",
   "execution_count": 358,
   "id": "44c5fb57-2724-4a35-9bd5-4e6b7353bc73",
   "metadata": {},
   "outputs": [
    {
     "name": "stdout",
     "output_type": "stream",
     "text": [
      "0\n",
      "1\n",
      "Accuracy of model evaluated on training set with K = 5: 82.23%\n",
      "Accuracy of model evaluated on validation set with K = 5: 74.81%\n",
      "Accuracy of model evaluated on test set with K = 5: 75.51%\n"
     ]
    }
   ],
   "source": [
    "import pandas as pd\n",
    "from sklearn.model_selection import train_test_split\n",
    "from sklearn.preprocessing import MinMaxScaler\n",
    "from sklearn.neighbors import KNeighborsClassifier\n",
    "\n",
    "# banking_df = pd.read_csv(\"subscription_prediction.csv\")\n",
    "X = banking_df.drop([\"y\"], axis=1)\n",
    "y = banking_df[\"y\"]\n",
    "\n",
    "X_train, X_val, y_train, y_val = train_test_split(X, y, test_size=0.20, random_state = 417)\n",
    "X_train, X_test, y_train, y_test = train_test_split(X_train, y_train, test_size=0.20*X.shape[0]/X_train.shape[0], random_state = 417)\n",
    "\n",
    "X_train = pd.get_dummies(data = X_train, columns = [\"marital\", \"default\"], drop_first = True)\n",
    "X_val = pd.get_dummies(data = X_val, columns = [\"marital\", \"default\"], drop_first = True)\n",
    "\n",
    "scaler = MinMaxScaler()\n",
    "\n",
    "X_train_scaled = scaler.fit_transform(X_train[[\"marital_married\", \"marital_single\", \"marital_unknown\", \"default_unknown\", \"age\", \"duration\"]])\n",
    "\n",
    "X_val_scaled = scaler.transform(X_val[[\"marital_married\", \"marital_single\", \"marital_unknown\", \"default_unknown\", \"age\", \"duration\"]])\n",
    "print(0, 1, sep=\"\\n\")\n",
    "\n",
    "\n",
    "knn = KNeighborsClassifier(n_neighbors = 5)\n",
    "knn.fit(X_train_scaled, y_train)\n",
    "\n",
    "train_accuracy = knn.score(X_train_scaled, y_train)\n",
    "print(f\"Accuracy of model evaluated on training set with K = 5: {train_accuracy*100:.2f}%\")\n",
    "\n",
    "val_accuracy = knn.score(X_val_scaled, y_val)\n",
    "print(f\"Accuracy of model evaluated on validation set with K = 5: {val_accuracy*100:.2f}%\")\n",
    "\n",
    "X_test = pd.get_dummies(data = X_test, columns = [\"marital\", \"default\"], drop_first = True)\n",
    "\n",
    "X_test_scaled = scaler.transform(X_test[[\"marital_married\", \"marital_single\", \"marital_unknown\", \"default_unknown\", \"age\", \"duration\"]])\n",
    "\n",
    "test_accuracy = knn.score(X_test_scaled, y_test)\n",
    "print(f\"Accuracy of model evaluated on test set with K = 5: {test_accuracy*100:.2f}%\")"
   ]
  },
  {
   "cell_type": "markdown",
   "id": "8b2bc2f2-f31b-4920-a2c2-67bf0fd6596e",
   "metadata": {},
   "source": [
    "## Review\n",
    "In this lesson, we learned:\n",
    "\n",
    "- How to build and train the K-Nearest Neighbors algorithm using scikit-learn.\n",
    "- What a validation set is used for.\n",
    "- What overfitting and underfitting are.\n",
    "\n",
    "In the next lesson, we will learn more about improving our model's performance."
   ]
  },
  {
   "cell_type": "markdown",
   "id": "98a99c5a-8674-4f9e-bcc4-7994218745b5",
   "metadata": {},
   "source": [
    "## Hyperparameter Optimization"
   ]
  },
  {
   "cell_type": "markdown",
   "id": "b55d3f48-69b7-4bea-9fa8-c9800ec45c48",
   "metadata": {},
   "source": [
    "We previously built and trained a K-Nearest Neighbors classifier using scikit-learn. We also learned about the importance of a validation set."
   ]
  },
  {
   "cell_type": "markdown",
   "id": "7f1d8929-c40e-4bde-8a4b-12135f988f08",
   "metadata": {},
   "source": [
    "Now we'll learn how to improve a machine learning model's performance."
   ]
  },
  {
   "cell_type": "markdown",
   "id": "95801cc1-f13d-4bb5-af7b-ce166efe6fa6",
   "metadata": {},
   "source": [
    "We'll use the same dataset as last time. The [Bank Marketing Dataset](https://archive.ics.uci.edu/ml/datasets/bank+marketing) consists of the following columns:"
   ]
  },
  {
   "cell_type": "markdown",
   "id": "3069e884-02b5-4e10-bc50-7e1dc0b971ac",
   "metadata": {},
   "source": [
    "- age: (numeric)\n",
    "- job: type of job (categorical: 'admin.','blue collar','entrepreneur','housemaid','management','retired','self employed','services','student','technician','unemployed','unknown')\n",
    "- marital: marital status (categorical: 'divorced','married','single','unknown'; note: 'divorced' means divorced or widowed)\n",
    "- education: (categorical: 'basic.4y','basic.6y','basic.9y','high.school','illiterate','professional.course','university.degree','unknown')\n",
    "- default: has credit in default? (categorical: 'no','yes','unknown')\n",
    "- housing: has housing loan? (categorical: 'no','yes','unknown')\n",
    "- loan: has personal loan? (categorical: 'no','yes','unknown')\n",
    "- contact: contact communication type (categorical: 'cellular','telephone')\n",
    "- month: last contact month of year (categorical: 'jan', 'feb', 'mar', ..., 'nov', 'dec')\n",
    "- day_of_week: last contact day of the week (categorical: 'mon','tue','wed','thu','fri')\n",
    "- duration: last contact duration, in seconds (numeric).\n",
    "- campaign: number of contacts performed during this campaign and for this client (numeric, includes last contact)\n",
    "- pdays: number of days passed after the client was last contacted from a previous campaign (numeric; 999 means client was not previously contacted)\n",
    "- previous: number of contacts performed before this campaign and for this client (numeric)\n",
    "- poutcome: outcome of the previous marketing campaign (categorical: 'failure','nonexistent','success')\n",
    "- emp.var.rate: employment variation rate - quarterly indicator (numeric)\n",
    "- cons.price.idx: consumer price index - monthly indicator (numeric)\n",
    "- cons.conf.idx: consumer confidence index - monthly indicator (numeric)\n",
    "- euribor3m: euribor 3 month rate - daily indicator (numeric)\n",
    "- nr.employed: number of employees - quarterly indicator (numeric)\n",
    "- y: has the client subscribed a term deposit? (binary: 'yes','no')"
   ]
  },
  {
   "cell_type": "code",
   "execution_count": 373,
   "id": "0ae12112-37a3-4041-aeb5-3e9e58b34c32",
   "metadata": {},
   "outputs": [],
   "source": [
    "banking_df = pd.read_csv('../../Datasets/subscription_prediction.csv')\n",
    "banking_df['y'] = banking_df['y'].apply(lambda x: 1 if x == 'yes' else 0)\n",
    "\n",
    "\n",
    "banking_df = pd.get_dummies(data = banking_df, drop_first = True)\n"
   ]
  },
  {
   "cell_type": "markdown",
   "id": "72a87bb9-dd27-4eaf-8ca7-727bdbd70426",
   "metadata": {},
   "source": [
    "## Feature Selection"
   ]
  },
  {
   "cell_type": "markdown",
   "id": "12b4b7e1-fa71-4b2a-9c50-e7b049a82b2e",
   "metadata": {},
   "source": [
    "We previously either used all the features in our dataset to build and train a model or randomly selected a handful of them."
   ]
  },
  {
   "cell_type": "markdown",
   "id": "2183cf19-98f5-4c09-8b22-06d15c466452",
   "metadata": {},
   "source": [
    "While both can be appropriate approaches to train a model, they aren't necessarily the best ones. We've already observed how our models didn't always perform as well as we'd hoped in either of those scenarios."
   ]
  },
  {
   "cell_type": "markdown",
   "id": "61364cc7-ae23-4219-8733-83492d6c2f8a",
   "metadata": {},
   "source": [
    "Not all features in a dataset might be relevant to a model's performance. Identifying and removing such features in the data preparation step, before training a model, can not only boost its performance, but also reduce the computational cost. The latter is especially important when we have to work with large datasets and complex machine learning models."
   ]
  },
  {
   "cell_type": "markdown",
   "id": "61ad8aca-c672-457a-8538-26f015704866",
   "metadata": {},
   "source": [
    "There are several ways we can identify and select relevant features:\r\n",
    "\r\n"
   ]
  },
  {
   "cell_type": "markdown",
   "id": "52ccc2de-010f-441d-a0ef-c71e8ee9cf0d",
   "metadata": {},
   "source": [
    "- Random selection.\n",
    "    - We've utilized this in the previous lesson by selecting features at random."
   ]
  },
  {
   "cell_type": "markdown",
   "id": "827f5a83-df43-4548-af8e-c1514d41b1de",
   "metadata": {},
   "source": [
    "- Domain Expertise.\n",
    "    - For example, one of the features is euribor3m. A reasonable understanding of what Euribor is could inform of us whether it is likely to have any impact on the prediction."
   ]
  },
  {
   "cell_type": "markdown",
   "id": "6d90f511-27af-4a02-b46f-7c2b99498aca",
   "metadata": {},
   "source": [
    "- Identifying features that are strongly correlated to our target variable."
   ]
  },
  {
   "cell_type": "markdown",
   "id": "0fd74f4d-48ad-422c-b3d5-5809da9af580",
   "metadata": {},
   "source": [
    "We'll learn about other approaches later. For now, we'll calculate the Pearson Correlation Coefficient on our columns to identify which features are strongly correlated to the target variable."
   ]
  },
  {
   "cell_type": "markdown",
   "id": "a00d3b72-4897-41de-b697-b236bcbd6688",
   "metadata": {},
   "source": [
    "We could also plot the heat map for those values to make it easier to identify those features. Since the categorical columns of our dataset have been one-hot encoded, we have over fifty features in our dataset right now. Creating a heat map using all those pairs will make it difficult to identify correlations."
   ]
  },
  {
   "cell_type": "markdown",
   "id": "9f3f00b7-5fe0-4432-9546-b053256a738b",
   "metadata": {},
   "source": [
    "Instead, we'll select five features based on the highest absolute values of Pearson's r."
   ]
  },
  {
   "cell_type": "code",
   "execution_count": 384,
   "id": "6d1171b6-bec2-4790-b9ea-75b7dfd2367c",
   "metadata": {},
   "outputs": [],
   "source": [
    "correlations = banking_df.corr()\n",
    "five_features = correlations['y'].sort_values(key=abs, ascending=False)[1:6].index\n",
    "X = banking_df[five_features]\n",
    "y = banking_df['y']\n",
    "\n",
    "X_train, X_val, y_train, y_val = train_test_split(X, y, test_size=0.2, random_state=417)\n",
    "X_train, X_test, y_train, y_test = train_test_split(X_train, y_train, test_size=0.2 *X.shape[0]/X_train.shape[0], random_state=417)\n",
    "\n",
    "scaler = MinMaxScaler()\n",
    "X_train_scaled = scaler.fit_transform(X_train)\n",
    "X_val_scaled = scaler.transform(X_val)\n",
    "X_test_scaled = scaler.transform(X_test)"
   ]
  },
  {
   "cell_type": "code",
   "execution_count": 396,
   "id": "4d647519-83a0-4a29-b651-22ffad08adce",
   "metadata": {},
   "outputs": [
    {
     "data": {
      "text/plain": [
       "nr.employed    -0.468524\n",
       "duration        0.468197\n",
       "euribor3m      -0.445328\n",
       "emp.var.rate   -0.429680\n",
       "pdays          -0.317997\n",
       "Name: y, dtype: float64"
      ]
     },
     "execution_count": 396,
     "metadata": {},
     "output_type": "execute_result"
    }
   ],
   "source": [
    "correlations['y'].sort_values(key=abs, ascending=False)[1:6]"
   ]
  },
  {
   "cell_type": "code",
   "execution_count": 398,
   "id": "98be518b-2800-44c8-886b-82f48df5c18a",
   "metadata": {},
   "outputs": [],
   "source": [
    "scaler = MinMaxScaler()\n",
    "X_train_scaled = scaler.fit_transform(X_train)\n",
    "X_val_scaled = scaler.transform(X_val)\n",
    "X_test_scaled = scaler.transform(X_test)"
   ]
  },
  {
   "cell_type": "code",
   "execution_count": 410,
   "id": "6cbedddf-15d9-4f2a-abfd-f8a701de8002",
   "metadata": {},
   "outputs": [
    {
     "name": "stdout",
     "output_type": "stream",
     "text": [
      "nr.employed             0.468524\n",
      "duration                0.468197\n",
      "euribor3m               0.445328\n",
      "emp.var.rate            0.429680\n",
      "pdays                   0.317997\n",
      "poutcome_success        0.307181\n",
      "previous                0.263903\n",
      "poutcome_nonexistent    0.258487\n",
      "contact_telephone       0.253479\n",
      "cons.price.idx          0.202009\n",
      "month_may               0.185177\n",
      "default_unknown         0.172503\n",
      "month_oct               0.157058\n",
      "month_mar               0.147276\n",
      "Name: y, dtype: float64\n"
     ]
    }
   ],
   "source": [
    "correlations = abs(banking_df.corr())\n",
    "\n",
    "# Identify top 5 features, excluding y itself, that correlate strongly with y.\n",
    "top_5_features = correlations[\"y\"].sort_values(ascending=False)[1:6].index\n",
    "\n",
    "print(correlations[\"y\"].sort_values(ascending=False)[1:15])\n"
   ]
  },
  {
   "cell_type": "code",
   "execution_count": 401,
   "id": "72f5c20b-e6ae-458d-8343-f90bca8a156d",
   "metadata": {},
   "outputs": [],
   "source": [
    "X = banking_df.copy()\n",
    "y = X.pop(\"y\")\n",
    "\n",
    "# Label encoding for categoricals\n",
    "for colname in X.select_dtypes(\"object\"):\n",
    "    X[colname], _ = X[colname].factorize()\n",
    "\n",
    "# All discrete features should now have integer dtypes (double-check this before using MI!)\n",
    "discrete_features = X.dtypes == int\n"
   ]
  },
  {
   "cell_type": "code",
   "execution_count": 405,
   "id": "5537789f-7b2b-40d4-b034-58dbc9274ea9",
   "metadata": {},
   "outputs": [
    {
     "data": {
      "text/plain": [
       "duration                0.181800\n",
       "euribor3m               0.168926\n",
       "cons.conf.idx           0.149626\n",
       "cons.price.idx          0.142482\n",
       "nr.employed             0.137542\n",
       "emp.var.rate            0.121678\n",
       "pdays                   0.066146\n",
       "poutcome_success        0.062480\n",
       "previous                0.050071\n",
       "poutcome_nonexistent    0.035285\n",
       "Name: MI Scores, dtype: float64"
      ]
     },
     "execution_count": 405,
     "metadata": {},
     "output_type": "execute_result"
    }
   ],
   "source": [
    "from sklearn.feature_selection import mutual_info_regression\n",
    "\n",
    "def make_mi_scores(X, y, discrete_features):\n",
    "    mi_scores = mutual_info_regression(X, y, discrete_features=discrete_features)\n",
    "    mi_scores = pd.Series(mi_scores, name=\"MI Scores\", index=X.columns)\n",
    "    mi_scores = mi_scores.sort_values(ascending=False)\n",
    "    return mi_scores\n",
    "\n",
    "mi_scores = make_mi_scores(X, y, discrete_features)\n",
    "mi_scores[:10]  # show a few features with their MI scores"
   ]
  },
  {
   "cell_type": "code",
   "execution_count": 406,
   "id": "0fa9ecd0-6d3f-4504-9bcb-919eea68d740",
   "metadata": {},
   "outputs": [
    {
     "data": {
      "image/png": "[encoded data removed]",
      "text/plain": [
       "<Figure size 800x500 with 1 Axes>"
      ]
     },
     "metadata": {},
     "output_type": "display_data"
    }
   ],
   "source": [
    "def plot_mi_scores(scores):\n",
    "    scores = scores.sort_values(ascending=True)\n",
    "    width = np.arange(len(scores))\n",
    "    ticks = list(scores.index)\n",
    "    plt.barh(width, scores)\n",
    "    plt.yticks(width, ticks)\n",
    "    plt.title(\"Mutual Information Scores\")\n",
    "\n",
    "\n",
    "plt.figure(dpi=100, figsize=(8, 5))\n",
    "plot_mi_scores(mi_scores[:10])"
   ]
  },
  {
   "cell_type": "markdown",
   "id": "6c5cfefe-3bc5-410f-b853-5cde1ecd8792",
   "metadata": {},
   "source": [
    "## Training and Evaluating the Model"
   ]
  },
  {
   "cell_type": "markdown",
   "id": "55e2d791-ae5c-4532-8bfc-bc39a9eca8f6",
   "metadata": {},
   "source": [
    "We previously selected some features based on how strongly they correlated to the target variable. It's important to note that calculating the Pearson's r is not an ideal approach."
   ]
  },
  {
   "cell_type": "markdown",
   "id": "7953a071-9f45-4279-b36a-2de92ee94e66",
   "metadata": {},
   "source": [
    "It's a measure of linear correlation between variables. Therefore, it will fail to capture any non-linear relationships. Additionally, the dummy variables aren't technically continuous. "
   ]
  },
  {
   "cell_type": "markdown",
   "id": "39bf8c1b-e161-407b-8619-794a21838d12",
   "metadata": {},
   "source": [
    "There are alternative approaches (such as [Cramér's V](https://en.wikipedia.org/wiki/Cram%C3%A9r%27s_V)) that are more suitable than Pearson's correlation coefficient when working with categorical columns. We won't discuss that here, however."
   ]
  },
  {
   "cell_type": "markdown",
   "id": "f6f05034-0a4d-47d0-ab82-0e361dacca50",
   "metadata": {},
   "source": [
    "Let's train our model and then evaluate it on the validation set. We'll try multiple values for \r\n",
    "K\r\n",
    " when evaluating our model."
   ]
  },
  {
   "cell_type": "code",
   "execution_count": null,
   "id": "b9f06dda-5fe6-4587-82e2-beba5ee6e5af",
   "metadata": {},
   "outputs": [],
   "source": []
  }
 ],
 "metadata": {
  "kernelspec": {
   "display_name": "Python 3 (ipykernel)",
   "language": "python",
   "name": "python3"
  },
  "language_info": {
   "codemirror_mode": {
    "name": "ipython",
    "version": 3
   },
   "file_extension": ".py",
   "mimetype": "text/x-python",
   "name": "python",
   "nbconvert_exporter": "python",
   "pygments_lexer": "ipython3",
   "version": "3.12.4"
  }
 },
 "nbformat": 4,
 "nbformat_minor": 5
}
