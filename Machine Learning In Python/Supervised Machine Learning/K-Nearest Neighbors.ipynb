{
 "cells": [
  {
   "cell_type": "markdown",
   "id": "04937cd8-9507-4948-901b-d15f074ad8b2",
   "metadata": {},
   "source": [
    "# Introduction to K-Nearest Neighbors"
   ]
  },
  {
   "cell_type": "markdown",
   "id": "4ee9db30-f895-4d4f-bf54-0ba1e2413d2d",
   "metadata": {},
   "source": [
    "## Introduction to the Dataset"
   ]
  },
  {
   "cell_type": "markdown",
   "id": "7614e5b4-5b94-4e3a-8f3a-20a8eca97b27",
   "metadata": {},
   "source": [
    "In the previous lesson, we looked at the machine learning workflow and trained a simple classifier to predict if a patient has breast cancer. We learned how we can quickly prototype a machine learning model and experiment with it to get reasonable results."
   ]
  },
  {
   "attachments": {
    "5982c7df-f2b1-492b-a5fe-a5874cb597aa.png": {
     "image/png": "[encoded data removed]"
    }
   },
   "cell_type": "markdown",
   "id": "7cfd4e82-98e8-4eb5-bacb-3b0cdf52186a",
   "metadata": {},
   "source": [
    "![image.png](attachment:5982c7df-f2b1-492b-a5fe-a5874cb597aa.png)"
   ]
  },
  {
   "cell_type": "markdown",
   "id": "75a44ed3-0889-48dd-a4aa-970cf2fc000b",
   "metadata": {},
   "source": [
    "While there is a benefit to being able to quickly experiment and iterate, not understanding how the algorithm for a model actually works can impact the outcome of those random experiments."
   ]
  },
  {
   "cell_type": "markdown",
   "id": "59678120-58e2-4aa8-8d8d-f94b447d9ac9",
   "metadata": {},
   "source": [
    "In this lesson, we'll learn a different machine learning algorithm and implement it from scratch. We'll use it to build and train a classifier that can predict whether a bank customer will subscribe to a term deposit or not."
   ]
  },
  {
   "cell_type": "markdown",
   "id": "aea7bb50-3683-4065-a5e1-9e599fbb37fe",
   "metadata": {},
   "source": [
    "We'll use a modified version of the [Bank Marketing Dataset](https://archive.ics.uci.edu/ml/datasets/bank+marketing). It contains data on customers of a Portuguese banking institution that ran marketing campaigns to assess whether customers would subscribe to their product. The dataset consists of 21 columns, including the target variable:\r\n",
    "\r\n"
   ]
  },
  {
   "cell_type": "markdown",
   "id": "2f800106-cb0d-4831-b957-95eaa9387572",
   "metadata": {},
   "source": [
    "- age: (numeric)\n",
    "- job: type of job (categorical: 'admin','blue collar','entrepreneur','housemaid','management','retired','self employed','services','student','technician','unemployed','unknown')\n",
    "- marital: marital status (categorical: 'divorced','married','single','unknown'; note: 'divorced' means divorced or widowed)\n",
    "- education: (categorical: 'basic.4y','basic.6y','basic.9y','high.school','illiterate','professional.course','university.degree','unknown')\n",
    "- default: has credit in default? (categorical: 'no','yes','unknown')\n",
    "- housing: has housing loan? (categorical: 'no','yes','unknown')\n",
    "- loan: has personal loan? (categorical: 'no','yes','unknown')\n",
    "- contact: contact communication type (categorical: 'cellular','telephone')\n",
    "- month: last contact month of year (categorical: 'jan', 'feb', 'mar', ..., 'nov', 'dec')\n",
    "- day_of_week: last contact day of the week (categorical: 'mon','tue','wed','thu','fri')\n",
    "- duration: last contact duration, in seconds (numeric).\n",
    "- campaign: number of contacts performed during this campaign and for this client (numeric, includes last contact)\n",
    "- pdays: number of days that passed by after the client was last contacted from a previous campaign (numeric; 999 means client was not previously contacted)\n",
    "- previous: number of contacts performed before this campaign and for this client (numeric)\n",
    "- poutcome: outcome of the previous marketing campaign (categorical: 'failure','nonexistent','success')\n",
    "- emp.var.rate: employment variation rate - quarterly indicator (numeric)\n",
    "- cons.price.idx: consumer price index - monthly indicator (numeric)\n",
    "- cons.conf.idx: consumer confidence index - monthly indicator (numeric)\n",
    "- euribor3m: euribor 3 month rate - daily indicator (numeric)\n",
    "- nr.employed: number of employees - quarterly indicator (numeric)\n",
    "- y: has the client subscribed a term deposit? (binary: 'yes','no')"
   ]
  },
  {
   "cell_type": "code",
   "execution_count": 1,
   "id": "3c2917db-bcd7-48e1-a1a6-1435f7450569",
   "metadata": {},
   "outputs": [],
   "source": [
    "import pandas as pd\n",
    "import numpy as np\n",
    "import matplotlib.pyplot as plt"
   ]
  },
  {
   "cell_type": "code",
   "execution_count": 2,
   "id": "b0144fe0-5e9d-4410-9c90-6a95823a3404",
   "metadata": {},
   "outputs": [
    {
     "data": {
      "text/html": [
       "<div>\n",
       "<style scoped>\n",
       "    .dataframe tbody tr th:only-of-type {\n",
       "        vertical-align: middle;\n",
       "    }\n",
       "\n",
       "    .dataframe tbody tr th {\n",
       "        vertical-align: top;\n",
       "    }\n",
       "\n",
       "    .dataframe thead th {\n",
       "        text-align: right;\n",
       "    }\n",
       "</style>\n",
       "<table border=\"1\" class=\"dataframe\">\n",
       "  <thead>\n",
       "    <tr style=\"text-align: right;\">\n",
       "      <th></th>\n",
       "      <th>age</th>\n",
       "      <th>job</th>\n",
       "      <th>marital</th>\n",
       "      <th>education</th>\n",
       "      <th>default</th>\n",
       "      <th>housing</th>\n",
       "      <th>loan</th>\n",
       "      <th>contact</th>\n",
       "      <th>month</th>\n",
       "      <th>day_of_week</th>\n",
       "      <th>...</th>\n",
       "      <th>campaign</th>\n",
       "      <th>pdays</th>\n",
       "      <th>previous</th>\n",
       "      <th>poutcome</th>\n",
       "      <th>emp.var.rate</th>\n",
       "      <th>cons.price.idx</th>\n",
       "      <th>cons.conf.idx</th>\n",
       "      <th>euribor3m</th>\n",
       "      <th>nr.employed</th>\n",
       "      <th>y</th>\n",
       "    </tr>\n",
       "  </thead>\n",
       "  <tbody>\n",
       "    <tr>\n",
       "      <th>0</th>\n",
       "      <td>40</td>\n",
       "      <td>admin.</td>\n",
       "      <td>married</td>\n",
       "      <td>basic.6y</td>\n",
       "      <td>no</td>\n",
       "      <td>no</td>\n",
       "      <td>no</td>\n",
       "      <td>telephone</td>\n",
       "      <td>may</td>\n",
       "      <td>mon</td>\n",
       "      <td>...</td>\n",
       "      <td>1</td>\n",
       "      <td>999</td>\n",
       "      <td>0</td>\n",
       "      <td>nonexistent</td>\n",
       "      <td>1.1</td>\n",
       "      <td>93.994</td>\n",
       "      <td>-36.4</td>\n",
       "      <td>4.857</td>\n",
       "      <td>5191.0</td>\n",
       "      <td>no</td>\n",
       "    </tr>\n",
       "    <tr>\n",
       "      <th>1</th>\n",
       "      <td>56</td>\n",
       "      <td>services</td>\n",
       "      <td>married</td>\n",
       "      <td>high.school</td>\n",
       "      <td>no</td>\n",
       "      <td>no</td>\n",
       "      <td>yes</td>\n",
       "      <td>telephone</td>\n",
       "      <td>may</td>\n",
       "      <td>mon</td>\n",
       "      <td>...</td>\n",
       "      <td>1</td>\n",
       "      <td>999</td>\n",
       "      <td>0</td>\n",
       "      <td>nonexistent</td>\n",
       "      <td>1.1</td>\n",
       "      <td>93.994</td>\n",
       "      <td>-36.4</td>\n",
       "      <td>4.857</td>\n",
       "      <td>5191.0</td>\n",
       "      <td>no</td>\n",
       "    </tr>\n",
       "    <tr>\n",
       "      <th>2</th>\n",
       "      <td>41</td>\n",
       "      <td>blue-collar</td>\n",
       "      <td>married</td>\n",
       "      <td>unknown</td>\n",
       "      <td>unknown</td>\n",
       "      <td>no</td>\n",
       "      <td>no</td>\n",
       "      <td>telephone</td>\n",
       "      <td>may</td>\n",
       "      <td>mon</td>\n",
       "      <td>...</td>\n",
       "      <td>1</td>\n",
       "      <td>999</td>\n",
       "      <td>0</td>\n",
       "      <td>nonexistent</td>\n",
       "      <td>1.1</td>\n",
       "      <td>93.994</td>\n",
       "      <td>-36.4</td>\n",
       "      <td>4.857</td>\n",
       "      <td>5191.0</td>\n",
       "      <td>no</td>\n",
       "    </tr>\n",
       "    <tr>\n",
       "      <th>3</th>\n",
       "      <td>57</td>\n",
       "      <td>housemaid</td>\n",
       "      <td>divorced</td>\n",
       "      <td>basic.4y</td>\n",
       "      <td>no</td>\n",
       "      <td>yes</td>\n",
       "      <td>no</td>\n",
       "      <td>telephone</td>\n",
       "      <td>may</td>\n",
       "      <td>mon</td>\n",
       "      <td>...</td>\n",
       "      <td>1</td>\n",
       "      <td>999</td>\n",
       "      <td>0</td>\n",
       "      <td>nonexistent</td>\n",
       "      <td>1.1</td>\n",
       "      <td>93.994</td>\n",
       "      <td>-36.4</td>\n",
       "      <td>4.857</td>\n",
       "      <td>5191.0</td>\n",
       "      <td>no</td>\n",
       "    </tr>\n",
       "    <tr>\n",
       "      <th>4</th>\n",
       "      <td>39</td>\n",
       "      <td>management</td>\n",
       "      <td>single</td>\n",
       "      <td>basic.9y</td>\n",
       "      <td>unknown</td>\n",
       "      <td>no</td>\n",
       "      <td>no</td>\n",
       "      <td>telephone</td>\n",
       "      <td>may</td>\n",
       "      <td>mon</td>\n",
       "      <td>...</td>\n",
       "      <td>1</td>\n",
       "      <td>999</td>\n",
       "      <td>0</td>\n",
       "      <td>nonexistent</td>\n",
       "      <td>1.1</td>\n",
       "      <td>93.994</td>\n",
       "      <td>-36.4</td>\n",
       "      <td>4.857</td>\n",
       "      <td>5191.0</td>\n",
       "      <td>no</td>\n",
       "    </tr>\n",
       "  </tbody>\n",
       "</table>\n",
       "<p>5 rows × 21 columns</p>\n",
       "</div>"
      ],
      "text/plain": [
       "   age          job   marital    education  default housing loan    contact  \\\n",
       "0   40       admin.   married     basic.6y       no      no   no  telephone   \n",
       "1   56     services   married  high.school       no      no  yes  telephone   \n",
       "2   41  blue-collar   married      unknown  unknown      no   no  telephone   \n",
       "3   57    housemaid  divorced     basic.4y       no     yes   no  telephone   \n",
       "4   39   management    single     basic.9y  unknown      no   no  telephone   \n",
       "\n",
       "  month day_of_week  ...  campaign  pdays  previous     poutcome emp.var.rate  \\\n",
       "0   may         mon  ...         1    999         0  nonexistent          1.1   \n",
       "1   may         mon  ...         1    999         0  nonexistent          1.1   \n",
       "2   may         mon  ...         1    999         0  nonexistent          1.1   \n",
       "3   may         mon  ...         1    999         0  nonexistent          1.1   \n",
       "4   may         mon  ...         1    999         0  nonexistent          1.1   \n",
       "\n",
       "   cons.price.idx  cons.conf.idx  euribor3m  nr.employed   y  \n",
       "0          93.994          -36.4      4.857       5191.0  no  \n",
       "1          93.994          -36.4      4.857       5191.0  no  \n",
       "2          93.994          -36.4      4.857       5191.0  no  \n",
       "3          93.994          -36.4      4.857       5191.0  no  \n",
       "4          93.994          -36.4      4.857       5191.0  no  \n",
       "\n",
       "[5 rows x 21 columns]"
      ]
     },
     "execution_count": 2,
     "metadata": {},
     "output_type": "execute_result"
    }
   ],
   "source": [
    "banking_df = pd.read_csv('../../Datasets/subscription_prediction.csv')\n",
    "banking_df.head()"
   ]
  },
  {
   "cell_type": "code",
   "execution_count": 3,
   "id": "48f3c2f7-be30-46cc-b1b5-2c6993b429df",
   "metadata": {},
   "outputs": [
    {
     "data": {
      "text/html": [
       "<div>\n",
       "<style scoped>\n",
       "    .dataframe tbody tr th:only-of-type {\n",
       "        vertical-align: middle;\n",
       "    }\n",
       "\n",
       "    .dataframe tbody tr th {\n",
       "        vertical-align: top;\n",
       "    }\n",
       "\n",
       "    .dataframe thead th {\n",
       "        text-align: right;\n",
       "    }\n",
       "</style>\n",
       "<table border=\"1\" class=\"dataframe\">\n",
       "  <thead>\n",
       "    <tr style=\"text-align: right;\">\n",
       "      <th></th>\n",
       "      <th>job</th>\n",
       "      <th>marital</th>\n",
       "      <th>education</th>\n",
       "      <th>default</th>\n",
       "      <th>housing</th>\n",
       "      <th>loan</th>\n",
       "      <th>contact</th>\n",
       "      <th>month</th>\n",
       "      <th>day_of_week</th>\n",
       "      <th>poutcome</th>\n",
       "      <th>y</th>\n",
       "    </tr>\n",
       "  </thead>\n",
       "  <tbody>\n",
       "    <tr>\n",
       "      <th>0</th>\n",
       "      <td>admin.</td>\n",
       "      <td>married</td>\n",
       "      <td>basic.6y</td>\n",
       "      <td>no</td>\n",
       "      <td>no</td>\n",
       "      <td>no</td>\n",
       "      <td>telephone</td>\n",
       "      <td>may</td>\n",
       "      <td>mon</td>\n",
       "      <td>nonexistent</td>\n",
       "      <td>no</td>\n",
       "    </tr>\n",
       "    <tr>\n",
       "      <th>1</th>\n",
       "      <td>services</td>\n",
       "      <td>married</td>\n",
       "      <td>high.school</td>\n",
       "      <td>no</td>\n",
       "      <td>no</td>\n",
       "      <td>yes</td>\n",
       "      <td>telephone</td>\n",
       "      <td>may</td>\n",
       "      <td>mon</td>\n",
       "      <td>nonexistent</td>\n",
       "      <td>no</td>\n",
       "    </tr>\n",
       "    <tr>\n",
       "      <th>2</th>\n",
       "      <td>blue-collar</td>\n",
       "      <td>married</td>\n",
       "      <td>unknown</td>\n",
       "      <td>unknown</td>\n",
       "      <td>no</td>\n",
       "      <td>no</td>\n",
       "      <td>telephone</td>\n",
       "      <td>may</td>\n",
       "      <td>mon</td>\n",
       "      <td>nonexistent</td>\n",
       "      <td>no</td>\n",
       "    </tr>\n",
       "    <tr>\n",
       "      <th>3</th>\n",
       "      <td>housemaid</td>\n",
       "      <td>divorced</td>\n",
       "      <td>basic.4y</td>\n",
       "      <td>no</td>\n",
       "      <td>yes</td>\n",
       "      <td>no</td>\n",
       "      <td>telephone</td>\n",
       "      <td>may</td>\n",
       "      <td>mon</td>\n",
       "      <td>nonexistent</td>\n",
       "      <td>no</td>\n",
       "    </tr>\n",
       "    <tr>\n",
       "      <th>4</th>\n",
       "      <td>management</td>\n",
       "      <td>single</td>\n",
       "      <td>basic.9y</td>\n",
       "      <td>unknown</td>\n",
       "      <td>no</td>\n",
       "      <td>no</td>\n",
       "      <td>telephone</td>\n",
       "      <td>may</td>\n",
       "      <td>mon</td>\n",
       "      <td>nonexistent</td>\n",
       "      <td>no</td>\n",
       "    </tr>\n",
       "    <tr>\n",
       "      <th>...</th>\n",
       "      <td>...</td>\n",
       "      <td>...</td>\n",
       "      <td>...</td>\n",
       "      <td>...</td>\n",
       "      <td>...</td>\n",
       "      <td>...</td>\n",
       "      <td>...</td>\n",
       "      <td>...</td>\n",
       "      <td>...</td>\n",
       "      <td>...</td>\n",
       "      <td>...</td>\n",
       "    </tr>\n",
       "    <tr>\n",
       "      <th>10117</th>\n",
       "      <td>retired</td>\n",
       "      <td>divorced</td>\n",
       "      <td>professional.course</td>\n",
       "      <td>no</td>\n",
       "      <td>yes</td>\n",
       "      <td>no</td>\n",
       "      <td>cellular</td>\n",
       "      <td>nov</td>\n",
       "      <td>fri</td>\n",
       "      <td>nonexistent</td>\n",
       "      <td>no</td>\n",
       "    </tr>\n",
       "    <tr>\n",
       "      <th>10118</th>\n",
       "      <td>admin.</td>\n",
       "      <td>married</td>\n",
       "      <td>university.degree</td>\n",
       "      <td>no</td>\n",
       "      <td>yes</td>\n",
       "      <td>no</td>\n",
       "      <td>cellular</td>\n",
       "      <td>nov</td>\n",
       "      <td>fri</td>\n",
       "      <td>nonexistent</td>\n",
       "      <td>yes</td>\n",
       "    </tr>\n",
       "    <tr>\n",
       "      <th>10119</th>\n",
       "      <td>retired</td>\n",
       "      <td>married</td>\n",
       "      <td>professional.course</td>\n",
       "      <td>no</td>\n",
       "      <td>yes</td>\n",
       "      <td>no</td>\n",
       "      <td>cellular</td>\n",
       "      <td>nov</td>\n",
       "      <td>fri</td>\n",
       "      <td>nonexistent</td>\n",
       "      <td>yes</td>\n",
       "    </tr>\n",
       "    <tr>\n",
       "      <th>10120</th>\n",
       "      <td>technician</td>\n",
       "      <td>married</td>\n",
       "      <td>professional.course</td>\n",
       "      <td>no</td>\n",
       "      <td>no</td>\n",
       "      <td>no</td>\n",
       "      <td>cellular</td>\n",
       "      <td>nov</td>\n",
       "      <td>fri</td>\n",
       "      <td>nonexistent</td>\n",
       "      <td>yes</td>\n",
       "    </tr>\n",
       "    <tr>\n",
       "      <th>10121</th>\n",
       "      <td>retired</td>\n",
       "      <td>married</td>\n",
       "      <td>professional.course</td>\n",
       "      <td>no</td>\n",
       "      <td>yes</td>\n",
       "      <td>no</td>\n",
       "      <td>cellular</td>\n",
       "      <td>nov</td>\n",
       "      <td>fri</td>\n",
       "      <td>failure</td>\n",
       "      <td>no</td>\n",
       "    </tr>\n",
       "  </tbody>\n",
       "</table>\n",
       "<p>10122 rows × 11 columns</p>\n",
       "</div>"
      ],
      "text/plain": [
       "               job   marital            education  default housing loan  \\\n",
       "0           admin.   married             basic.6y       no      no   no   \n",
       "1         services   married          high.school       no      no  yes   \n",
       "2      blue-collar   married              unknown  unknown      no   no   \n",
       "3        housemaid  divorced             basic.4y       no     yes   no   \n",
       "4       management    single             basic.9y  unknown      no   no   \n",
       "...            ...       ...                  ...      ...     ...  ...   \n",
       "10117      retired  divorced  professional.course       no     yes   no   \n",
       "10118       admin.   married    university.degree       no     yes   no   \n",
       "10119      retired   married  professional.course       no     yes   no   \n",
       "10120   technician   married  professional.course       no      no   no   \n",
       "10121      retired   married  professional.course       no     yes   no   \n",
       "\n",
       "         contact month day_of_week     poutcome    y  \n",
       "0      telephone   may         mon  nonexistent   no  \n",
       "1      telephone   may         mon  nonexistent   no  \n",
       "2      telephone   may         mon  nonexistent   no  \n",
       "3      telephone   may         mon  nonexistent   no  \n",
       "4      telephone   may         mon  nonexistent   no  \n",
       "...          ...   ...         ...          ...  ...  \n",
       "10117   cellular   nov         fri  nonexistent   no  \n",
       "10118   cellular   nov         fri  nonexistent  yes  \n",
       "10119   cellular   nov         fri  nonexistent  yes  \n",
       "10120   cellular   nov         fri  nonexistent  yes  \n",
       "10121   cellular   nov         fri      failure   no  \n",
       "\n",
       "[10122 rows x 11 columns]"
      ]
     },
     "execution_count": 3,
     "metadata": {},
     "output_type": "execute_result"
    }
   ],
   "source": [
    "# Select the categorical features\n",
    "banking_df.select_dtypes(include='O')"
   ]
  },
  {
   "cell_type": "code",
   "execution_count": 4,
   "id": "9a8a9094-5e3b-4890-ac76-2ea4b3179483",
   "metadata": {},
   "outputs": [
    {
     "data": {
      "text/html": [
       "<div>\n",
       "<style scoped>\n",
       "    .dataframe tbody tr th:only-of-type {\n",
       "        vertical-align: middle;\n",
       "    }\n",
       "\n",
       "    .dataframe tbody tr th {\n",
       "        vertical-align: top;\n",
       "    }\n",
       "\n",
       "    .dataframe thead th {\n",
       "        text-align: right;\n",
       "    }\n",
       "</style>\n",
       "<table border=\"1\" class=\"dataframe\">\n",
       "  <thead>\n",
       "    <tr style=\"text-align: right;\">\n",
       "      <th></th>\n",
       "      <th>age</th>\n",
       "      <th>duration</th>\n",
       "      <th>campaign</th>\n",
       "      <th>pdays</th>\n",
       "      <th>previous</th>\n",
       "      <th>emp.var.rate</th>\n",
       "      <th>cons.price.idx</th>\n",
       "      <th>cons.conf.idx</th>\n",
       "      <th>euribor3m</th>\n",
       "      <th>nr.employed</th>\n",
       "    </tr>\n",
       "  </thead>\n",
       "  <tbody>\n",
       "    <tr>\n",
       "      <th>0</th>\n",
       "      <td>40</td>\n",
       "      <td>151</td>\n",
       "      <td>1</td>\n",
       "      <td>999</td>\n",
       "      <td>0</td>\n",
       "      <td>1.1</td>\n",
       "      <td>93.994</td>\n",
       "      <td>-36.4</td>\n",
       "      <td>4.857</td>\n",
       "      <td>5191.0</td>\n",
       "    </tr>\n",
       "    <tr>\n",
       "      <th>1</th>\n",
       "      <td>56</td>\n",
       "      <td>307</td>\n",
       "      <td>1</td>\n",
       "      <td>999</td>\n",
       "      <td>0</td>\n",
       "      <td>1.1</td>\n",
       "      <td>93.994</td>\n",
       "      <td>-36.4</td>\n",
       "      <td>4.857</td>\n",
       "      <td>5191.0</td>\n",
       "    </tr>\n",
       "    <tr>\n",
       "      <th>2</th>\n",
       "      <td>41</td>\n",
       "      <td>217</td>\n",
       "      <td>1</td>\n",
       "      <td>999</td>\n",
       "      <td>0</td>\n",
       "      <td>1.1</td>\n",
       "      <td>93.994</td>\n",
       "      <td>-36.4</td>\n",
       "      <td>4.857</td>\n",
       "      <td>5191.0</td>\n",
       "    </tr>\n",
       "    <tr>\n",
       "      <th>3</th>\n",
       "      <td>57</td>\n",
       "      <td>293</td>\n",
       "      <td>1</td>\n",
       "      <td>999</td>\n",
       "      <td>0</td>\n",
       "      <td>1.1</td>\n",
       "      <td>93.994</td>\n",
       "      <td>-36.4</td>\n",
       "      <td>4.857</td>\n",
       "      <td>5191.0</td>\n",
       "    </tr>\n",
       "    <tr>\n",
       "      <th>4</th>\n",
       "      <td>39</td>\n",
       "      <td>195</td>\n",
       "      <td>1</td>\n",
       "      <td>999</td>\n",
       "      <td>0</td>\n",
       "      <td>1.1</td>\n",
       "      <td>93.994</td>\n",
       "      <td>-36.4</td>\n",
       "      <td>4.857</td>\n",
       "      <td>5191.0</td>\n",
       "    </tr>\n",
       "    <tr>\n",
       "      <th>...</th>\n",
       "      <td>...</td>\n",
       "      <td>...</td>\n",
       "      <td>...</td>\n",
       "      <td>...</td>\n",
       "      <td>...</td>\n",
       "      <td>...</td>\n",
       "      <td>...</td>\n",
       "      <td>...</td>\n",
       "      <td>...</td>\n",
       "      <td>...</td>\n",
       "    </tr>\n",
       "    <tr>\n",
       "      <th>10117</th>\n",
       "      <td>64</td>\n",
       "      <td>151</td>\n",
       "      <td>3</td>\n",
       "      <td>999</td>\n",
       "      <td>0</td>\n",
       "      <td>-1.1</td>\n",
       "      <td>94.767</td>\n",
       "      <td>-50.8</td>\n",
       "      <td>1.028</td>\n",
       "      <td>4963.6</td>\n",
       "    </tr>\n",
       "    <tr>\n",
       "      <th>10118</th>\n",
       "      <td>37</td>\n",
       "      <td>281</td>\n",
       "      <td>1</td>\n",
       "      <td>999</td>\n",
       "      <td>0</td>\n",
       "      <td>-1.1</td>\n",
       "      <td>94.767</td>\n",
       "      <td>-50.8</td>\n",
       "      <td>1.028</td>\n",
       "      <td>4963.6</td>\n",
       "    </tr>\n",
       "    <tr>\n",
       "      <th>10119</th>\n",
       "      <td>73</td>\n",
       "      <td>334</td>\n",
       "      <td>1</td>\n",
       "      <td>999</td>\n",
       "      <td>0</td>\n",
       "      <td>-1.1</td>\n",
       "      <td>94.767</td>\n",
       "      <td>-50.8</td>\n",
       "      <td>1.028</td>\n",
       "      <td>4963.6</td>\n",
       "    </tr>\n",
       "    <tr>\n",
       "      <th>10120</th>\n",
       "      <td>44</td>\n",
       "      <td>442</td>\n",
       "      <td>1</td>\n",
       "      <td>999</td>\n",
       "      <td>0</td>\n",
       "      <td>-1.1</td>\n",
       "      <td>94.767</td>\n",
       "      <td>-50.8</td>\n",
       "      <td>1.028</td>\n",
       "      <td>4963.6</td>\n",
       "    </tr>\n",
       "    <tr>\n",
       "      <th>10121</th>\n",
       "      <td>74</td>\n",
       "      <td>239</td>\n",
       "      <td>3</td>\n",
       "      <td>999</td>\n",
       "      <td>1</td>\n",
       "      <td>-1.1</td>\n",
       "      <td>94.767</td>\n",
       "      <td>-50.8</td>\n",
       "      <td>1.028</td>\n",
       "      <td>4963.6</td>\n",
       "    </tr>\n",
       "  </tbody>\n",
       "</table>\n",
       "<p>10122 rows × 10 columns</p>\n",
       "</div>"
      ],
      "text/plain": [
       "       age  duration  campaign  pdays  previous  emp.var.rate  cons.price.idx  \\\n",
       "0       40       151         1    999         0           1.1          93.994   \n",
       "1       56       307         1    999         0           1.1          93.994   \n",
       "2       41       217         1    999         0           1.1          93.994   \n",
       "3       57       293         1    999         0           1.1          93.994   \n",
       "4       39       195         1    999         0           1.1          93.994   \n",
       "...    ...       ...       ...    ...       ...           ...             ...   \n",
       "10117   64       151         3    999         0          -1.1          94.767   \n",
       "10118   37       281         1    999         0          -1.1          94.767   \n",
       "10119   73       334         1    999         0          -1.1          94.767   \n",
       "10120   44       442         1    999         0          -1.1          94.767   \n",
       "10121   74       239         3    999         1          -1.1          94.767   \n",
       "\n",
       "       cons.conf.idx  euribor3m  nr.employed  \n",
       "0              -36.4      4.857       5191.0  \n",
       "1              -36.4      4.857       5191.0  \n",
       "2              -36.4      4.857       5191.0  \n",
       "3              -36.4      4.857       5191.0  \n",
       "4              -36.4      4.857       5191.0  \n",
       "...              ...        ...          ...  \n",
       "10117          -50.8      1.028       4963.6  \n",
       "10118          -50.8      1.028       4963.6  \n",
       "10119          -50.8      1.028       4963.6  \n",
       "10120          -50.8      1.028       4963.6  \n",
       "10121          -50.8      1.028       4963.6  \n",
       "\n",
       "[10122 rows x 10 columns]"
      ]
     },
     "execution_count": 4,
     "metadata": {},
     "output_type": "execute_result"
    }
   ],
   "source": [
    "# select numerical values\n",
    "banking_df.select_dtypes(exclude='O')"
   ]
  },
  {
   "cell_type": "code",
   "execution_count": 5,
   "id": "7bc63eaa-3d9f-48fb-b677-49b96d90f666",
   "metadata": {},
   "outputs": [
    {
     "data": {
      "text/plain": [
       "object     11\n",
       "int64       5\n",
       "float64     5\n",
       "Name: count, dtype: int64"
      ]
     },
     "execution_count": 5,
     "metadata": {},
     "output_type": "execute_result"
    }
   ],
   "source": [
    "banking_df.dtypes.value_counts()"
   ]
  },
  {
   "cell_type": "code",
   "execution_count": 6,
   "id": "a74d0594-2321-41cd-95f6-3e0727b55030",
   "metadata": {},
   "outputs": [
    {
     "data": {
      "text/plain": [
       "(10122, 21)"
      ]
     },
     "execution_count": 6,
     "metadata": {},
     "output_type": "execute_result"
    }
   ],
   "source": [
    "banking_df.shape"
   ]
  },
  {
   "cell_type": "code",
   "execution_count": 7,
   "id": "536ccccf-2e88-4f75-80a0-f921913921cd",
   "metadata": {},
   "outputs": [
    {
     "data": {
      "text/plain": [
       "age               0\n",
       "job               0\n",
       "marital           0\n",
       "education         0\n",
       "default           0\n",
       "housing           0\n",
       "loan              0\n",
       "contact           0\n",
       "month             0\n",
       "day_of_week       0\n",
       "duration          0\n",
       "campaign          0\n",
       "pdays             0\n",
       "previous          0\n",
       "poutcome          0\n",
       "emp.var.rate      0\n",
       "cons.price.idx    0\n",
       "cons.conf.idx     0\n",
       "euribor3m         0\n",
       "nr.employed       0\n",
       "y                 0\n",
       "dtype: int64"
      ]
     },
     "execution_count": 7,
     "metadata": {},
     "output_type": "execute_result"
    }
   ],
   "source": [
    "# check misssing values\n",
    "banking_df.isnull().sum()"
   ]
  },
  {
   "cell_type": "code",
   "execution_count": 8,
   "id": "f5f5cd53-1de9-457f-80e7-b66fe3280cda",
   "metadata": {},
   "outputs": [
    {
     "data": {
      "text/plain": [
       "y\n",
       "no     5482\n",
       "yes    4640\n",
       "Name: count, dtype: int64"
      ]
     },
     "execution_count": 8,
     "metadata": {},
     "output_type": "execute_result"
    }
   ],
   "source": [
    "banking_df['y'].value_counts()"
   ]
  },
  {
   "cell_type": "code",
   "execution_count": 9,
   "id": "30d733da-ab34-47ef-8c7f-6696c4811a63",
   "metadata": {},
   "outputs": [
    {
     "data": {
      "text/html": [
       "<div>\n",
       "<style scoped>\n",
       "    .dataframe tbody tr th:only-of-type {\n",
       "        vertical-align: middle;\n",
       "    }\n",
       "\n",
       "    .dataframe tbody tr th {\n",
       "        vertical-align: top;\n",
       "    }\n",
       "\n",
       "    .dataframe thead th {\n",
       "        text-align: right;\n",
       "    }\n",
       "</style>\n",
       "<table border=\"1\" class=\"dataframe\">\n",
       "  <thead>\n",
       "    <tr style=\"text-align: right;\">\n",
       "      <th></th>\n",
       "      <th>age</th>\n",
       "      <th>duration</th>\n",
       "      <th>campaign</th>\n",
       "      <th>pdays</th>\n",
       "      <th>previous</th>\n",
       "      <th>emp.var.rate</th>\n",
       "      <th>cons.price.idx</th>\n",
       "      <th>cons.conf.idx</th>\n",
       "      <th>euribor3m</th>\n",
       "      <th>nr.employed</th>\n",
       "    </tr>\n",
       "  </thead>\n",
       "  <tbody>\n",
       "    <tr>\n",
       "      <th>count</th>\n",
       "      <td>10122.000000</td>\n",
       "      <td>10122.000000</td>\n",
       "      <td>10122.000000</td>\n",
       "      <td>10122.000000</td>\n",
       "      <td>10122.000000</td>\n",
       "      <td>10122.000000</td>\n",
       "      <td>10122.000000</td>\n",
       "      <td>10122.000000</td>\n",
       "      <td>10122.000000</td>\n",
       "      <td>10122.000000</td>\n",
       "    </tr>\n",
       "    <tr>\n",
       "      <th>mean</th>\n",
       "      <td>40.313673</td>\n",
       "      <td>373.414049</td>\n",
       "      <td>2.369789</td>\n",
       "      <td>896.476882</td>\n",
       "      <td>0.297471</td>\n",
       "      <td>-0.432671</td>\n",
       "      <td>93.492407</td>\n",
       "      <td>-40.250573</td>\n",
       "      <td>3.035134</td>\n",
       "      <td>5138.838975</td>\n",
       "    </tr>\n",
       "    <tr>\n",
       "      <th>std</th>\n",
       "      <td>11.855014</td>\n",
       "      <td>353.277755</td>\n",
       "      <td>2.472392</td>\n",
       "      <td>302.175859</td>\n",
       "      <td>0.680535</td>\n",
       "      <td>1.714657</td>\n",
       "      <td>0.628615</td>\n",
       "      <td>5.271326</td>\n",
       "      <td>1.884191</td>\n",
       "      <td>85.859595</td>\n",
       "    </tr>\n",
       "    <tr>\n",
       "      <th>min</th>\n",
       "      <td>17.000000</td>\n",
       "      <td>0.000000</td>\n",
       "      <td>1.000000</td>\n",
       "      <td>0.000000</td>\n",
       "      <td>0.000000</td>\n",
       "      <td>-3.400000</td>\n",
       "      <td>92.201000</td>\n",
       "      <td>-50.800000</td>\n",
       "      <td>0.634000</td>\n",
       "      <td>4963.600000</td>\n",
       "    </tr>\n",
       "    <tr>\n",
       "      <th>25%</th>\n",
       "      <td>31.000000</td>\n",
       "      <td>140.000000</td>\n",
       "      <td>1.000000</td>\n",
       "      <td>999.000000</td>\n",
       "      <td>0.000000</td>\n",
       "      <td>-1.800000</td>\n",
       "      <td>92.963000</td>\n",
       "      <td>-42.700000</td>\n",
       "      <td>1.252000</td>\n",
       "      <td>5076.200000</td>\n",
       "    </tr>\n",
       "    <tr>\n",
       "      <th>50%</th>\n",
       "      <td>38.000000</td>\n",
       "      <td>252.000000</td>\n",
       "      <td>2.000000</td>\n",
       "      <td>999.000000</td>\n",
       "      <td>0.000000</td>\n",
       "      <td>-0.100000</td>\n",
       "      <td>93.444000</td>\n",
       "      <td>-41.800000</td>\n",
       "      <td>4.076000</td>\n",
       "      <td>5191.000000</td>\n",
       "    </tr>\n",
       "    <tr>\n",
       "      <th>75%</th>\n",
       "      <td>48.000000</td>\n",
       "      <td>498.000000</td>\n",
       "      <td>3.000000</td>\n",
       "      <td>999.000000</td>\n",
       "      <td>0.000000</td>\n",
       "      <td>1.400000</td>\n",
       "      <td>93.994000</td>\n",
       "      <td>-36.400000</td>\n",
       "      <td>4.959000</td>\n",
       "      <td>5228.100000</td>\n",
       "    </tr>\n",
       "    <tr>\n",
       "      <th>max</th>\n",
       "      <td>98.000000</td>\n",
       "      <td>4199.000000</td>\n",
       "      <td>42.000000</td>\n",
       "      <td>999.000000</td>\n",
       "      <td>6.000000</td>\n",
       "      <td>1.400000</td>\n",
       "      <td>94.767000</td>\n",
       "      <td>-26.900000</td>\n",
       "      <td>5.045000</td>\n",
       "      <td>5228.100000</td>\n",
       "    </tr>\n",
       "  </tbody>\n",
       "</table>\n",
       "</div>"
      ],
      "text/plain": [
       "                age      duration      campaign         pdays      previous  \\\n",
       "count  10122.000000  10122.000000  10122.000000  10122.000000  10122.000000   \n",
       "mean      40.313673    373.414049      2.369789    896.476882      0.297471   \n",
       "std       11.855014    353.277755      2.472392    302.175859      0.680535   \n",
       "min       17.000000      0.000000      1.000000      0.000000      0.000000   \n",
       "25%       31.000000    140.000000      1.000000    999.000000      0.000000   \n",
       "50%       38.000000    252.000000      2.000000    999.000000      0.000000   \n",
       "75%       48.000000    498.000000      3.000000    999.000000      0.000000   \n",
       "max       98.000000   4199.000000     42.000000    999.000000      6.000000   \n",
       "\n",
       "       emp.var.rate  cons.price.idx  cons.conf.idx     euribor3m   nr.employed  \n",
       "count  10122.000000    10122.000000   10122.000000  10122.000000  10122.000000  \n",
       "mean      -0.432671       93.492407     -40.250573      3.035134   5138.838975  \n",
       "std        1.714657        0.628615       5.271326      1.884191     85.859595  \n",
       "min       -3.400000       92.201000     -50.800000      0.634000   4963.600000  \n",
       "25%       -1.800000       92.963000     -42.700000      1.252000   5076.200000  \n",
       "50%       -0.100000       93.444000     -41.800000      4.076000   5191.000000  \n",
       "75%        1.400000       93.994000     -36.400000      4.959000   5228.100000  \n",
       "max        1.400000       94.767000     -26.900000      5.045000   5228.100000  "
      ]
     },
     "execution_count": 9,
     "metadata": {},
     "output_type": "execute_result"
    }
   ],
   "source": [
    "banking_df.describe()"
   ]
  },
  {
   "cell_type": "markdown",
   "id": "b8c4f58d-e2ad-4cdd-abca-7e655dcdd2cf",
   "metadata": {},
   "source": [
    "## K-Nearest Neighbors (k-NN)"
   ]
  },
  {
   "cell_type": "markdown",
   "id": "be7ed37a-e7f3-4993-9776-0d96a8995a77",
   "metadata": {},
   "source": [
    "Upon exploring the data, we discovered that the dataset has:"
   ]
  },
  {
   "cell_type": "markdown",
   "id": "17ba00f5-d177-43e3-be72-7c149f4b92b7",
   "metadata": {},
   "source": [
    "- 10122 observations, 20 features, and 1 target variable.\n",
    "- No missing values in the dataset.\n",
    "- 5482 customers who didn't subscribe and 4640 who did.\n",
    "- 10 categorical columns and 10 numeric columns, excluding the target column."
   ]
  },
  {
   "cell_type": "markdown",
   "id": "e439ff4a-cc88-448c-83e6-bff74942309c",
   "metadata": {},
   "source": [
    "If we explore our dataset further, we could ask several questions to better analyze it. For example:"
   ]
  },
  {
   "cell_type": "markdown",
   "id": "569ad2d5-f6ce-4227-99fa-1e802ceb8c37",
   "metadata": {},
   "source": [
    "- How many customers under the age of 30 subscribed to the product?\n",
    "- Were the customers who subscribed contacted more often than those who weren't during the marketing campaign?\n",
    "- Which customers were contacted more often before this campaign?"
   ]
  },
  {
   "cell_type": "markdown",
   "id": "be1610e4-ef03-46ec-8cf0-1074d0509000",
   "metadata": {},
   "source": [
    "We could potentially answer each of these questions ourselves and develop a complex set of rules that could tell us which customers are likely to subscribe given all the features available to us.\r\n",
    "\r\n"
   ]
  },
  {
   "cell_type": "markdown",
   "id": "cc6bee08-41a5-4b72-ab30-c6296c87f556",
   "metadata": {},
   "source": [
    "Let's look at a visual representation of the above. The following plot depicts customers who subscribed (purple) and those who didn't (blue). Our two axes correspond to two features. For example, one could be age and another campaign."
   ]
  },
  {
   "attachments": {
    "ad390314-b44e-4db3-82b1-3eb03e061014.png": {
     "image/png": "[encoded data removed]"
    }
   },
   "cell_type": "markdown",
   "id": "8cf186fc-6b9b-4d54-8c90-3a3a811bf15d",
   "metadata": {},
   "source": [
    "![image.png](attachment:ad390314-b44e-4db3-82b1-3eb03e061014.png)"
   ]
  },
  {
   "cell_type": "markdown",
   "id": "c0b2d365-0d7e-4192-b1cb-0731a278c8d3",
   "metadata": {},
   "source": [
    "Each customer is a data point in a 2-dimensional feature space and is defined by two numerical values. If we know the age of a customer and how many times they were contacted during the campaign, we can locate that point in that space."
   ]
  },
  {
   "cell_type": "markdown",
   "id": "c2af8b4c-a1c3-41a4-8315-af36b87ec870",
   "metadata": {},
   "source": [
    "The proximity of those customers in the feature space can tell us how similar they are to one another in relation to their label. For example, let's say that 3 out of 5 customers who are 30 to 32 years old and were contacted 2 to 4 times during the campaign subscribed to the product. In the plot, the data points for those customers would be relatively close to one another. We could say that customers within that age and campaign range of values are more likely to subscribe to the bank's product."
   ]
  },
  {
   "cell_type": "markdown",
   "id": "65001c57-f889-4607-b57c-4116dbda82a8",
   "metadata": {},
   "source": [
    "That's the kind of rule we could develop through our analysis and by looking at the data points in the feature space."
   ]
  },
  {
   "attachments": {
    "9f615637-a208-4d5b-83ab-7b1f51e41231.png": {
     "image/png": "[encoded data removed]"
    }
   },
   "cell_type": "markdown",
   "id": "cde20602-500c-430a-abc3-e1f7b75e6638",
   "metadata": {},
   "source": [
    "![image.png](attachment:9f615637-a208-4d5b-83ab-7b1f51e41231.png)"
   ]
  },
  {
   "cell_type": "markdown",
   "id": "79912c74-0ba1-4a01-a493-46f0bc54ba17",
   "metadata": {},
   "source": [
    "What if we add another customer (blue dot) to our feature space above?"
   ]
  },
  {
   "attachments": {
    "d4b03bcc-7d18-453e-bcc0-6ba07c7f550c.png": {
     "image/png": "[encoded data removed]"
    }
   },
   "cell_type": "markdown",
   "id": "2a8fafff-380b-492e-9e89-4c483f9cd154",
   "metadata": {},
   "source": [
    "![image.png](attachment:d4b03bcc-7d18-453e-bcc0-6ba07c7f550c.png)"
   ]
  },
  {
   "cell_type": "markdown",
   "id": "1ef95816-1d54-4073-8867-556b83161790",
   "metadata": {},
   "source": [
    "How can we predict if this new customer is going to subscribe, given just those two features?"
   ]
  },
  {
   "cell_type": "markdown",
   "id": "e0741a68-13ee-4e77-873a-d17fdccc3809",
   "metadata": {},
   "source": [
    "With what we learned above, we can calculate the distance of that blue dot from all the other points and look at the ones closest to it. If a majority of the points closest to it are purple, we can classify the new point as purple. If they are blue, we can classify it as blue."
   ]
  },
  {
   "attachments": {
    "99dd64e4-efea-4d69-974d-05dc6d14b2de.png": {
     "image/png": "[encoded data removed]"
    }
   },
   "cell_type": "markdown",
   "id": "dae57a60-cf8b-4726-8fad-1e8db80dc33a",
   "metadata": {},
   "source": [
    "![image.png](attachment:99dd64e4-efea-4d69-974d-05dc6d14b2de.png)"
   ]
  },
  {
   "cell_type": "markdown",
   "id": "1e51b8ee-d234-4faf-976b-d16e0135f242",
   "metadata": {},
   "source": [
    "By looking at how closely-related those data points are in context of their labels, we are allowing those rules, like the ones we mentioned above, to develop on their own. This is the K-Nearest Neighbors algorithm."
   ]
  },
  {
   "cell_type": "markdown",
   "id": "113e6dbc-a3f6-4333-aab4-73e73ae8a451",
   "metadata": {},
   "source": [
    "1. For an unseen data point, the algorithm calculates the distance between that point and all the observations across all features in the training dataset.\n",
    "\n",
    "2. It sorts those distances in ascending order.\n",
    "\n",
    "3. It selects \n",
    "K\n",
    " observations with the smallest distances from the above step. These \n",
    "K\n",
    " observations are the K-nearest neighbors of that unseen data point."
   ]
  },
  {
   "cell_type": "markdown",
   "id": "15b09ae5-c28e-4a52-9698-c547c1600775",
   "metadata": {},
   "source": [
    "Note that there should be at least \r\n",
    "K\r\n",
    "≥\r\n",
    "1\r\n",
    " observations in the dataset."
   ]
  },
  {
   "cell_type": "markdown",
   "id": "a9616b4a-9999-461d-a965-13fba00b8b48",
   "metadata": {},
   "source": [
    "It calculates which labels of those neighbors is the most common, and assigns that label to the unseen data point."
   ]
  },
  {
   "cell_type": "markdown",
   "id": "6814854c-6c44-403c-b13a-2419417e9107",
   "metadata": {},
   "source": [
    "Before we implement the algorithm, let's prepare our data."
   ]
  },
  {
   "cell_type": "markdown",
   "id": "2b15a0ba-7c42-4836-ab7c-64edd3846c64",
   "metadata": {},
   "source": [
    "## Data Preparation"
   ]
  },
  {
   "cell_type": "markdown",
   "id": "67c01dc6-9ce7-400b-92b6-aab6cd855873",
   "metadata": {},
   "source": [
    "When we explored our data, we noticed that our target column, y, stores the labels as yes or no strings. While those are reasonable categories and we can continue working with them as is, we'll encode those strings as the numbers 0 for no and 1 for yes."
   ]
  },
  {
   "cell_type": "markdown",
   "id": "5ec03ca7-500d-4ee1-9cd8-99fb5546618d",
   "metadata": {},
   "source": [
    "In the previous lesson, we learned how to split the dataset into a training and test set. Instead of using scikit-learn's `train_test_split()` function, we'll implement the split ourselves. We'll opt for a `85-15%` split."
   ]
  },
  {
   "cell_type": "markdown",
   "id": "69267799-4be9-4653-abbc-5a4d22d234cf",
   "metadata": {},
   "source": [
    "In order to split the dataset, we could take a direct approach of selecting the first N observations as the training set and the rest as the test set. But that poses a problem.  We don't know how many observations of those N have a label of 0 and how many have a label of 1."
   ]
  },
  {
   "cell_type": "markdown",
   "id": "403ae27e-2d8c-4edc-8d69-acba2af31324",
   "metadata": {},
   "source": [
    "Let's say N = 100. What if, out of those 100, only 5 observations had a label of 1?"
   ]
  },
  {
   "cell_type": "markdown",
   "id": "6c58ea7d-554e-4e58-8c60-cc772be60ac0",
   "metadata": {},
   "source": [
    "When the dataset is imbalanced, a machine learning model might struggle to accurately predict the labels because it hasn't had enough information to learn to distinguish between the classes. Ideally, the model should have enough data corresponding to each class so it can learn from the data effectively."
   ]
  },
  {
   "cell_type": "markdown",
   "id": "a3154f98-5bfd-4647-a384-ec142dacb18e",
   "metadata": {},
   "source": [
    "Even though our dataset has a reasonably balanced class distribution, we need to make sure that both the train and test sets have a similar percentage of subscribed customers."
   ]
  },
  {
   "cell_type": "markdown",
   "id": "b0d526b9-ecda-4ad7-b5b1-3295cf325d4c",
   "metadata": {},
   "source": [
    "The data collection process can also introduce certain biases. It's possible that the clients were selected in a specific order. For example, the collection process could've added the newest clients first. If we were to select the first N observations, we could be introducing bias into our model. That's why, when creating our training and test sets, randomly selecting observations is important, as it can help reduce any such biases."
   ]
  },
  {
   "cell_type": "markdown",
   "id": "14ce3c79-2047-46f6-85be-2f14942d34d6",
   "metadata": {},
   "source": [
    "Fortunately for us, this isn't complicated to implement in pandas."
   ]
  },
  {
   "cell_type": "code",
   "execution_count": 10,
   "id": "9445645e-616f-4134-a5bc-58ce48eb7cfe",
   "metadata": {},
   "outputs": [],
   "source": [
    "banking_df['y'] = banking_df['y'].apply(lambda x: 1 if x == 'yes' else 0)\n",
    "\n",
    "# Randomize the sample\n",
    "train_df = banking_df.sample(frac=0.85,random_state=417)\n",
    "test_df = banking_df.drop(train_df.index)"
   ]
  },
  {
   "cell_type": "code",
   "execution_count": 11,
   "id": "8c844962-5b81-4fc1-b3d8-baeb33ffcf93",
   "metadata": {},
   "outputs": [
    {
     "data": {
      "text/plain": [
       "y\n",
       "0    54.159257\n",
       "1    45.840743\n",
       "Name: proportion, dtype: float64"
      ]
     },
     "execution_count": 11,
     "metadata": {},
     "output_type": "execute_result"
    }
   ],
   "source": [
    "banking_df['y'].value_counts(normalize=True) * 100"
   ]
  },
  {
   "cell_type": "code",
   "execution_count": 12,
   "id": "1ca299aa-f696-45f3-ab5e-7ea1a469320e",
   "metadata": {},
   "outputs": [
    {
     "data": {
      "text/plain": [
       "y\n",
       "0    54.009763\n",
       "1    45.990237\n",
       "Name: proportion, dtype: float64"
      ]
     },
     "execution_count": 12,
     "metadata": {},
     "output_type": "execute_result"
    }
   ],
   "source": [
    "train_df['y'].value_counts(normalize=True) * 100"
   ]
  },
  {
   "cell_type": "code",
   "execution_count": 13,
   "id": "2b0420ab-c8b9-48e4-9b17-663d286e0b72",
   "metadata": {},
   "outputs": [
    {
     "data": {
      "text/plain": [
       "y\n",
       "0    55.006588\n",
       "1    44.993412\n",
       "Name: proportion, dtype: float64"
      ]
     },
     "execution_count": 13,
     "metadata": {},
     "output_type": "execute_result"
    }
   ],
   "source": [
    "test_df['y'].value_counts(normalize=True) * 100"
   ]
  },
  {
   "cell_type": "code",
   "execution_count": 14,
   "id": "c242a8e6-7ff0-43fe-b9f5-0893f3fec992",
   "metadata": {},
   "outputs": [],
   "source": [
    "X_train = train_df.drop('y', axis=1)\n",
    "X_test = test_df.drop('y', axis=1)\n",
    "y_train = train_df['y']\n",
    "y_test = test_df['y']"
   ]
  },
  {
   "cell_type": "markdown",
   "id": "aa75359a-bcca-47f9-981e-a06ef98a0844",
   "metadata": {},
   "source": [
    "## k-NN for One Feature"
   ]
  },
  {
   "cell_type": "markdown",
   "id": "182ea921-09ae-4768-bf7c-aa81ee6dd420",
   "metadata": {},
   "source": [
    "Now that we have our training and test sets, we can implement our algorithm!"
   ]
  },
  {
   "cell_type": "markdown",
   "id": "484d0249-9163-443d-9a1a-02042369a16b",
   "metadata": {},
   "source": [
    "Before we begin, we need to select a `distance metric` to calculate the distance between observations."
   ]
  },
  {
   "attachments": {
    "4da2482b-977a-4f49-9a3b-e676622140f4.png": {
     "image/png": "[encoded data removed]"
    }
   },
   "cell_type": "markdown",
   "id": "0cdce70a-3f06-485c-9483-89c91c431fea",
   "metadata": {},
   "source": [
    "![image.png](attachment:4da2482b-977a-4f49-9a3b-e676622140f4.png)s:"
   ]
  },
  {
   "attachments": {
    "59cf62e1-17d4-4e61-8f7f-e9915bda1ac9.png": {
     "image/png": "[encoded data removed]"
    }
   },
   "cell_type": "markdown",
   "id": "635e9438-5843-4d20-8265-a60514cd1dd3",
   "metadata": {},
   "source": [
    "![image.png](attachment:59cf62e1-17d4-4e61-8f7f-e9915bda1ac9.png)"
   ]
  },
  {
   "cell_type": "markdown",
   "id": "cb6d3eef-90af-4fa3-b244-d58790917ebf",
   "metadata": {},
   "source": [
    "When we are working with only one feature, the above formula simplifies to:"
   ]
  },
  {
   "attachments": {
    "b9400f88-78e5-4478-a177-b5a6be2e2612.png": {
     "image/png": "[encoded data removed]"
    }
   },
   "cell_type": "markdown",
   "id": "a47b92dd-a633-401d-a76b-cdbece209719",
   "metadata": {},
   "source": [
    "![image.png](attachment:b9400f88-78e5-4478-a177-b5a6be2e2612.png)"
   ]
  },
  {
   "cell_type": "markdown",
   "id": "12ad935a-108d-48af-84de-16af20b2644a",
   "metadata": {},
   "source": [
    "We'll implement our algorithm with this distance metric. You're encouraged to learn about some of the other distance metrics that can be used as well:"
   ]
  },
  {
   "cell_type": "markdown",
   "id": "c076551d-70e2-4fb4-ad51-7a65eba1bbec",
   "metadata": {},
   "source": [
    "- [Manhattan distance](https://en.wikipedia.org/wiki/Taxicab_geometry)\n",
    "- [Minkowski distance](https://en.wikipedia.org/wiki/Minkowski_distance)\n",
    "- [Hamming distance](https://en.wikipedia.org/wiki/Hamming_distance)"
   ]
  },
  {
   "cell_type": "markdown",
   "id": "8ddb002e-98e7-4354-84e0-9fc766ff3149",
   "metadata": {},
   "source": [
    "As per the algorithm, we'll calculate how far an unseen observation is from all the observations in the training data for a specific feature."
   ]
  },
  {
   "cell_type": "markdown",
   "id": "0ff59837-408e-4e9d-90ce-bf084c840cad",
   "metadata": {},
   "source": [
    "But wait a minute. We learned that a machine learning model is trained over some data and then the trained model can be used to classify unseen data."
   ]
  },
  {
   "cell_type": "markdown",
   "id": "7079b78c-2492-4608-8d9c-227dc19ac741",
   "metadata": {},
   "source": [
    "Why are we using an unseen observation to implement the k-NN algorithm? Aren't we training the model using unseen data?"
   ]
  },
  {
   "cell_type": "markdown",
   "id": "db6b975b-b1d1-4edf-8f96-7de5de56661f",
   "metadata": {},
   "source": [
    "K-nearest neighbors is a bit of a unique case. It works at the time of prediction and it doesn't technically have a \"training phase.\" The model classifies every new input by comparing it to its neighbors. Those neighbors are from the training set."
   ]
  },
  {
   "cell_type": "markdown",
   "id": "59bb0f66-dcf2-4bfa-970c-a7b58cef458e",
   "metadata": {},
   "source": [
    "As a result, the algorithm can be time-consuming depending on the number of observations and features in our dataset."
   ]
  },
  {
   "cell_type": "markdown",
   "id": "79a3ec27-29df-4981-8a05-890fb6711887",
   "metadata": {},
   "source": [
    "So why did we have to create a separate test set?"
   ]
  },
  {
   "cell_type": "markdown",
   "id": "9cf94193-2670-43d9-aa94-38f40b890dda",
   "metadata": {},
   "source": [
    "Even though there's no training phase, the algorithm does rely on an unseen observation to be able to make a prediction. In the next exercise, we'll use a random value from our test set to implement the algorithm."
   ]
  },
  {
   "cell_type": "code",
   "execution_count": 113,
   "id": "088b3f33-f2eb-4469-8247-f176779850d3",
   "metadata": {},
   "outputs": [],
   "source": [
    "def knn(feature, single_test_input, k):\n",
    "    X_train['distance'] = abs(X_train[feature] - single_test_input[feature])\n",
    "    prediction = y_train[X_train['distance'].nsmallest(n=k).index].mode()[0]\n",
    "    return prediction"
   ]
  },
  {
   "cell_type": "code",
   "execution_count": 120,
   "id": "d9ee946d-43d5-47d0-b3f6-fcba72a98e89",
   "metadata": {},
   "outputs": [
    {
     "data": {
      "text/plain": [
       "0"
      ]
     },
     "execution_count": 120,
     "metadata": {},
     "output_type": "execute_result"
    }
   ],
   "source": [
    "feature = 'age'\n",
    "knn('age', X_test, k=3)"
   ]
  },
  {
   "cell_type": "code",
   "execution_count": 118,
   "id": "5460d47f-d8c6-4294-9eb4-c3f663cb14fe",
   "metadata": {},
   "outputs": [
    {
     "data": {
      "text/plain": [
       "1"
      ]
     },
     "execution_count": 118,
     "metadata": {},
     "output_type": "execute_result"
    }
   ],
   "source": [
    "knn(feature, test, 3)"
   ]
  },
  {
   "cell_type": "markdown",
   "id": "24e50ed3-fea8-4cdf-b4af-d64853825bb0",
   "metadata": {},
   "source": [
    "## Evaluating the Model"
   ]
  },
  {
   "cell_type": "markdown",
   "id": "22252b40-6886-47da-a70f-133f26502ef0",
   "metadata": {},
   "source": [
    "On the previous screen, we implemented the algorithm and used it to classify a sample input from the test set."
   ]
  },
  {
   "cell_type": "markdown",
   "id": "8966b81c-53b8-4676-87d3-7e8fce0de81e",
   "metadata": {},
   "source": [
    "We'll now evaluate our model's performance by calculating how accurately it is able to correctly classify a given value. We can calculate the accuracy by comparing how many predictions the model gets correct compared to the total number of predictions."
   ]
  },
  {
   "attachments": {
    "5a6a037f-cb2b-4eaf-9868-3476d711d12a.png": {
     "image/png": "[encoded data removed]"
    }
   },
   "cell_type": "markdown",
   "id": "60a6c287-1741-4325-aea8-d615457e6133",
   "metadata": {},
   "source": [
    "![image.png](attachment:5a6a037f-cb2b-4eaf-9868-3476d711d12a.png)"
   ]
  },
  {
   "cell_type": "markdown",
   "id": "6333e103-8343-4fa3-a077-6b6b92032f2f",
   "metadata": {},
   "source": [
    "In order to do that, we'll classify every data point in our test set and compare the predictions to the actual labels for those data points."
   ]
  },
  {
   "cell_type": "code",
   "execution_count": 128,
   "id": "17acea8d-8bbb-4867-8dfe-4247a9ab9033",
   "metadata": {},
   "outputs": [],
   "source": [
    "X_test['age_predicted_y'] = X_test.apply(lambda x: knn('age', x, k=3), axis=1)"
   ]
  },
  {
   "cell_type": "code",
   "execution_count": 133,
   "id": "85cf95c7-15e8-4df4-8045-c1d35e05dcd9",
   "metadata": {},
   "outputs": [
    {
     "data": {
      "text/plain": [
       "0.538866930171278"
      ]
     },
     "execution_count": 133,
     "metadata": {},
     "output_type": "execute_result"
    }
   ],
   "source": [
    "correct_preds = (X_test['age_predicted_y'] == y_test).sum()\n",
    "total = X_test.shape[0]\n",
    "accuracy = correct_preds / total\n",
    "accuracy"
   ]
  },
  {
   "cell_type": "code",
   "execution_count": 138,
   "id": "86412000-5475-4e8f-84c2-a4ba59e9e6fa",
   "metadata": {},
   "outputs": [
    {
     "name": "stdout",
     "output_type": "stream",
     "text": [
      "Accuracy of model trained on the column 'age': 53.89%\n"
     ]
    }
   ],
   "source": [
    "model_accuracy = (X_test[\"age_predicted_y\"] == y_test).value_counts(normalize=True)[True]*100\n",
    "print(f\"Accuracy of model trained on the column 'age': {model_accuracy:.2f}%\")"
   ]
  },
  {
   "cell_type": "code",
   "execution_count": 136,
   "id": "072d56e9-cb28-4680-91c2-b26b7b84a8a9",
   "metadata": {},
   "outputs": [
    {
     "name": "stdout",
     "output_type": "stream",
     "text": [
      "Accuracy of model trained on the column 'campaign': 55.14%\n"
     ]
    }
   ],
   "source": [
    "# using the campgain feature\n",
    "\n",
    "X_test['campaign_predicted_y'] = X_test.apply(lambda x: knn('campaign', x, k=3), axis=1)\n",
    "\n",
    "model_accuracy = (X_test[\"campaign_predicted_y\"] == y_test).value_counts(normalize=True)[True]*100\n",
    "print(f\"Accuracy of model trained on the column 'campaign': {model_accuracy:.2f}%\")"
   ]
  },
  {
   "cell_type": "code",
   "execution_count": 137,
   "id": "1e41b514-49a3-4f1d-8e66-1f52747a6205",
   "metadata": {},
   "outputs": [
    {
     "data": {
      "text/plain": [
       "True     0.551383\n",
       "False    0.448617\n",
       "Name: proportion, dtype: float64"
      ]
     },
     "execution_count": 137,
     "metadata": {},
     "output_type": "execute_result"
    }
   ],
   "source": [
    "(X_test[\"campaign_predicted_y\"] == y_test).value_counts(normalize=True)"
   ]
  },
  {
   "cell_type": "markdown",
   "id": "7604e7a7-9c61-4d64-aa2a-83334f9bcc0c",
   "metadata": {},
   "source": [
    "## Feature Engineering I"
   ]
  },
  {
   "cell_type": "markdown",
   "id": "b128b1bf-36db-4269-810e-e2b1f7ee46c0",
   "metadata": {},
   "source": [
    "For a single feature, age, our model got an accuracy of ~54%! It's not performing too well."
   ]
  },
  {
   "cell_type": "markdown",
   "id": "52500fdb-1cd7-468a-981b-ba1c44feb862",
   "metadata": {},
   "source": [
    "Fortunately, we don't have to rely on using just one feature at a time. We can use multiple at the same time, which might improve our model's performance."
   ]
  },
  {
   "cell_type": "markdown",
   "id": "71b758f6-2b2c-4bf9-9987-fbad827e9c20",
   "metadata": {},
   "source": [
    "When building machine learning models, we'll often have to transform features so they can be effectively used to train models and yield better performance. The process of transforming those features is called feature engineering. Feature engineering will often be part of the data preparation step of the machine learning workflow."
   ]
  },
  {
   "cell_type": "markdown",
   "id": "2084f2f5-8773-4268-b723-c2f285825fa0",
   "metadata": {},
   "source": [
    "We'll work through a couple of commonly used techniques in this lesson."
   ]
  },
  {
   "cell_type": "markdown",
   "id": "c495a51e-ef2e-4e97-b4c7-4da6963752c7",
   "metadata": {},
   "source": [
    "Both age and campaign are numerical features. There are several categorical variables in our data set as well. However, all the categorical variables in our data set contain string values."
   ]
  },
  {
   "cell_type": "markdown",
   "id": "8908d970-f569-480b-9021-944a56bfe7e3",
   "metadata": {},
   "source": [
    "We can't calculate the distance between two strings. That's another limitation of the k-nearest neighbor algorithm. We can work around it without much effort."
   ]
  },
  {
   "cell_type": "markdown",
   "id": "083b4f07-ee6c-4d59-b029-2a1278adf7d7",
   "metadata": {},
   "source": [
    "Just like we encoded the yes and no values as 0 and 1 for our target variable, we can encode our categorical features."
   ]
  },
  {
   "cell_type": "markdown",
   "id": "07bbd736-3b77-4f3e-a9fe-e70b27f92466",
   "metadata": {},
   "source": [
    "What values could we use for the categories in the marital column, for example? Maybe 1 to 4 for all 4 categories?"
   ]
  },
  {
   "attachments": {
    "c18bd749-fd29-4e98-ac7b-bdef7dbe5be8.png": {
     "image/png": "[encoded data removed]"
    }
   },
   "cell_type": "markdown",
   "id": "cdf395db-8c9e-45b8-a243-d92a8a7a7eab",
   "metadata": {},
   "source": [
    "![image.png](attachment:c18bd749-fd29-4e98-ac7b-bdef7dbe5be8.png)"
   ]
  },
  {
   "cell_type": "markdown",
   "id": "81da67d6-67fc-485a-854b-47b364c63240",
   "metadata": {},
   "source": [
    "While that sounds like a good approach, it's not suitable in practice."
   ]
  },
  {
   "cell_type": "markdown",
   "id": "94535876-2b98-4f78-bdd8-49acbb8d6a05",
   "metadata": {},
   "source": [
    "We're calculating the distance between the feature(s) of two observations. By assigning each category a unique number, we're inadvertently turning the feature into an ordinal variable. The distance between a 4 and a 1 is higher than that between a 1 and a 2, even though there is no inherent order or rank to those categories."
   ]
  },
  {
   "cell_type": "markdown",
   "id": "1059ce06-90ab-444e-aa72-98f9f7f2735d",
   "metadata": {},
   "source": [
    "An alternative approach is to convert each category into its own column. For every observation in each column, we set a binary value, 0 or 1, for that observation, depending on how the observation was originally categorized."
   ]
  },
  {
   "cell_type": "markdown",
   "id": "f93686cd-b61c-45de-96c3-47814b6f2982",
   "metadata": {},
   "source": [
    "This is what the outcome would look like:"
   ]
  },
  {
   "attachments": {
    "fd1d49fb-9516-4f2b-82d2-a436d4c8b0d2.png": {
     "image/png": "[encoded data removed]"
    }
   },
   "cell_type": "markdown",
   "id": "285f0f06-46ca-4207-af20-49df4adb6a6a",
   "metadata": {},
   "source": [
    "![image.png](attachment:fd1d49fb-9516-4f2b-82d2-a436d4c8b0d2.png)"
   ]
  },
  {
   "cell_type": "markdown",
   "id": "1b03755d-94a8-48f5-bd75-a2d313d81b34",
   "metadata": {},
   "source": [
    "Each row above represents an observation. The Marital column lists the category for each observation. The rest of the columns store a 0 or 1, depending on the category for that observation."
   ]
  },
  {
   "cell_type": "markdown",
   "id": "79938bf6-8e10-4c36-b3ac-b835210fbb9e",
   "metadata": {},
   "source": [
    "This process is known as one-hot encoding. The new columns that get created in this process are called dummy variables."
   ]
  },
  {
   "cell_type": "markdown",
   "id": "b2faf66e-a3ff-4c77-9a18-b9dfe8b27d28",
   "metadata": {},
   "source": [
    "There are two ways we can implement one-hot encoding. We discussed the first way above. The second way is to drop the first category encountered when performing one-hot encoding instead of creating a dummy variable for it. This is possible because we can encode n categories of a categorical column with just n-1 dummy variables. Using this approach, any observation with a 0 for each dummy variable indicates that the observation belongs to the category that's been dropped. For example, if Unknown is the first category encountered in the Marital column, it will be dropped and produce the following table:"
   ]
  },
  {
   "cell_type": "markdown",
   "id": "436e0a94-0a1b-4933-b946-dfb17eff5357",
   "metadata": {},
   "source": [
    "Notice how the Unknown observation has a 0 value for each dummy variable created. This shows us how four categories can be encoded with just three dummy variables.\n",
    "\n",
    "We will convert the marital categorical column in our dataset to dummy variables using the second approach."
   ]
  },
  {
   "cell_type": "code",
   "execution_count": 164,
   "id": "8cc3f2e7-11c6-432c-b346-deaab942fdd6",
   "metadata": {},
   "outputs": [],
   "source": [
    "banking_df_copy = banking_df.copy()\n",
    "banking_df_copy = pd.get_dummies(banking_df_copy, columns=['marital'], drop_first=True, dtype=int)"
   ]
  },
  {
   "cell_type": "markdown",
   "id": "d4d0935c-28f5-4c29-8c38-07f0643cdc5d",
   "metadata": {},
   "source": [
    "## k-NN for Multiple Features"
   ]
  },
  {
   "cell_type": "markdown",
   "id": "d4a03420-c6ea-4a08-8da8-2312f2c6496f",
   "metadata": {},
   "source": [
    "We'll now implement the k-nearest neighbor algorithm for multiple features."
   ]
  },
  {
   "cell_type": "markdown",
   "id": "914f4c4d-fddd-4e9b-ae35-e5eb43b7245b",
   "metadata": {},
   "source": [
    "The only change we need to make is to our distance calculation. As we discussed on the fourth screen, the Euclidean distance for \r\n",
    "n\r\n",
    " features is calculated as:"
   ]
  },
  {
   "attachments": {
    "aa1ccd85-0fe0-4f8e-a75e-77907d3219d7.png": {
     "image/png": "[encoded data removed]"
    }
   },
   "cell_type": "markdown",
   "id": "2e031783-d44a-4321-be53-58084bae7ab3",
   "metadata": {},
   "source": [
    "![image.png](attachment:aa1ccd85-0fe0-4f8e-a75e-77907d3219d7.png)"
   ]
  },
  {
   "attachments": {
    "b3ae0ffd-9ed5-4194-aea1-077bba9720e7.png": {
     "image/png": "[encoded data removed]"
    }
   },
   "cell_type": "markdown",
   "id": "3f9e65f6-c9b6-48ca-ad35-4057fdfc7caa",
   "metadata": {},
   "source": [
    "![image.png](attachment:b3ae0ffd-9ed5-4194-aea1-077bba9720e7.png)"
   ]
  },
  {
   "cell_type": "markdown",
   "id": "5eb5fb8c-6cdf-4c2a-968c-7013f6cd2852",
   "metadata": {},
   "source": [
    "We'll modify our knn() function to account for this and select the following features for the model:"
   ]
  },
  {
   "cell_type": "markdown",
   "id": "5b95d8da-871f-405e-bd1b-fed30112e139",
   "metadata": {},
   "source": [
    "- age\n",
    "- campaign\n",
    "- marital_married\n",
    "- marital_single"
   ]
  },
  {
   "cell_type": "code",
   "execution_count": 198,
   "id": "38f92e4f-a203-496e-b6c5-d626f1c911cf",
   "metadata": {},
   "outputs": [],
   "source": [
    "from sklearn.model_selection import train_test_split\n",
    "X = banking_df_copy.drop('duration', axis=1)\n",
    "y = banking_df_copy['duration']\n",
    "X_train, X_test, y_train, y_test = train_test_split(X, y, random_state=417)"
   ]
  },
  {
   "cell_type": "code",
   "execution_count": 199,
   "id": "ae910015-0698-4250-9aaf-eca3180f9bed",
   "metadata": {},
   "outputs": [
    {
     "data": {
      "text/plain": [
       "((7591, 22), (2531, 22), (7591,), (2531,))"
      ]
     },
     "execution_count": 199,
     "metadata": {},
     "output_type": "execute_result"
    }
   ],
   "source": [
    "X_train.shape, X_test.shape, y_train.shape, y_test.shape"
   ]
  },
  {
   "cell_type": "code",
   "execution_count": 200,
   "id": "f620bfc2-ba4c-4214-a92f-8029a596d67f",
   "metadata": {},
   "outputs": [
    {
     "data": {
      "text/html": [
       "<div>\n",
       "<style scoped>\n",
       "    .dataframe tbody tr th:only-of-type {\n",
       "        vertical-align: middle;\n",
       "    }\n",
       "\n",
       "    .dataframe tbody tr th {\n",
       "        vertical-align: top;\n",
       "    }\n",
       "\n",
       "    .dataframe thead th {\n",
       "        text-align: right;\n",
       "    }\n",
       "</style>\n",
       "<table border=\"1\" class=\"dataframe\">\n",
       "  <thead>\n",
       "    <tr style=\"text-align: right;\">\n",
       "      <th></th>\n",
       "      <th>age</th>\n",
       "      <th>job</th>\n",
       "      <th>education</th>\n",
       "      <th>default</th>\n",
       "      <th>housing</th>\n",
       "      <th>loan</th>\n",
       "      <th>contact</th>\n",
       "      <th>month</th>\n",
       "      <th>day_of_week</th>\n",
       "      <th>campaign</th>\n",
       "      <th>...</th>\n",
       "      <th>poutcome</th>\n",
       "      <th>emp.var.rate</th>\n",
       "      <th>cons.price.idx</th>\n",
       "      <th>cons.conf.idx</th>\n",
       "      <th>euribor3m</th>\n",
       "      <th>nr.employed</th>\n",
       "      <th>y</th>\n",
       "      <th>marital_married</th>\n",
       "      <th>marital_single</th>\n",
       "      <th>marital_unknown</th>\n",
       "    </tr>\n",
       "  </thead>\n",
       "  <tbody>\n",
       "    <tr>\n",
       "      <th>7472</th>\n",
       "      <td>38</td>\n",
       "      <td>technician</td>\n",
       "      <td>university.degree</td>\n",
       "      <td>no</td>\n",
       "      <td>yes</td>\n",
       "      <td>no</td>\n",
       "      <td>cellular</td>\n",
       "      <td>may</td>\n",
       "      <td>tue</td>\n",
       "      <td>2</td>\n",
       "      <td>...</td>\n",
       "      <td>nonexistent</td>\n",
       "      <td>-1.8</td>\n",
       "      <td>92.893</td>\n",
       "      <td>-46.2</td>\n",
       "      <td>1.266</td>\n",
       "      <td>5099.1</td>\n",
       "      <td>0</td>\n",
       "      <td>1</td>\n",
       "      <td>0</td>\n",
       "      <td>0</td>\n",
       "    </tr>\n",
       "    <tr>\n",
       "      <th>3408</th>\n",
       "      <td>55</td>\n",
       "      <td>retired</td>\n",
       "      <td>high.school</td>\n",
       "      <td>no</td>\n",
       "      <td>yes</td>\n",
       "      <td>yes</td>\n",
       "      <td>cellular</td>\n",
       "      <td>jul</td>\n",
       "      <td>tue</td>\n",
       "      <td>3</td>\n",
       "      <td>...</td>\n",
       "      <td>nonexistent</td>\n",
       "      <td>1.4</td>\n",
       "      <td>93.918</td>\n",
       "      <td>-42.7</td>\n",
       "      <td>4.961</td>\n",
       "      <td>5228.1</td>\n",
       "      <td>0</td>\n",
       "      <td>1</td>\n",
       "      <td>0</td>\n",
       "      <td>0</td>\n",
       "    </tr>\n",
       "    <tr>\n",
       "      <th>5851</th>\n",
       "      <td>29</td>\n",
       "      <td>technician</td>\n",
       "      <td>university.degree</td>\n",
       "      <td>no</td>\n",
       "      <td>no</td>\n",
       "      <td>yes</td>\n",
       "      <td>cellular</td>\n",
       "      <td>apr</td>\n",
       "      <td>mon</td>\n",
       "      <td>1</td>\n",
       "      <td>...</td>\n",
       "      <td>nonexistent</td>\n",
       "      <td>-1.8</td>\n",
       "      <td>93.075</td>\n",
       "      <td>-47.1</td>\n",
       "      <td>1.405</td>\n",
       "      <td>5099.1</td>\n",
       "      <td>0</td>\n",
       "      <td>0</td>\n",
       "      <td>1</td>\n",
       "      <td>0</td>\n",
       "    </tr>\n",
       "    <tr>\n",
       "      <th>9132</th>\n",
       "      <td>80</td>\n",
       "      <td>retired</td>\n",
       "      <td>basic.4y</td>\n",
       "      <td>no</td>\n",
       "      <td>yes</td>\n",
       "      <td>yes</td>\n",
       "      <td>cellular</td>\n",
       "      <td>apr</td>\n",
       "      <td>wed</td>\n",
       "      <td>2</td>\n",
       "      <td>...</td>\n",
       "      <td>nonexistent</td>\n",
       "      <td>-1.8</td>\n",
       "      <td>93.749</td>\n",
       "      <td>-34.6</td>\n",
       "      <td>0.642</td>\n",
       "      <td>5008.7</td>\n",
       "      <td>1</td>\n",
       "      <td>0</td>\n",
       "      <td>0</td>\n",
       "      <td>0</td>\n",
       "    </tr>\n",
       "    <tr>\n",
       "      <th>3790</th>\n",
       "      <td>45</td>\n",
       "      <td>blue-collar</td>\n",
       "      <td>basic.4y</td>\n",
       "      <td>no</td>\n",
       "      <td>no</td>\n",
       "      <td>no</td>\n",
       "      <td>cellular</td>\n",
       "      <td>aug</td>\n",
       "      <td>fri</td>\n",
       "      <td>2</td>\n",
       "      <td>...</td>\n",
       "      <td>nonexistent</td>\n",
       "      <td>1.4</td>\n",
       "      <td>93.444</td>\n",
       "      <td>-36.1</td>\n",
       "      <td>4.966</td>\n",
       "      <td>5228.1</td>\n",
       "      <td>1</td>\n",
       "      <td>1</td>\n",
       "      <td>0</td>\n",
       "      <td>0</td>\n",
       "    </tr>\n",
       "    <tr>\n",
       "      <th>...</th>\n",
       "      <td>...</td>\n",
       "      <td>...</td>\n",
       "      <td>...</td>\n",
       "      <td>...</td>\n",
       "      <td>...</td>\n",
       "      <td>...</td>\n",
       "      <td>...</td>\n",
       "      <td>...</td>\n",
       "      <td>...</td>\n",
       "      <td>...</td>\n",
       "      <td>...</td>\n",
       "      <td>...</td>\n",
       "      <td>...</td>\n",
       "      <td>...</td>\n",
       "      <td>...</td>\n",
       "      <td>...</td>\n",
       "      <td>...</td>\n",
       "      <td>...</td>\n",
       "      <td>...</td>\n",
       "      <td>...</td>\n",
       "      <td>...</td>\n",
       "    </tr>\n",
       "    <tr>\n",
       "      <th>6460</th>\n",
       "      <td>32</td>\n",
       "      <td>admin.</td>\n",
       "      <td>university.degree</td>\n",
       "      <td>no</td>\n",
       "      <td>yes</td>\n",
       "      <td>yes</td>\n",
       "      <td>cellular</td>\n",
       "      <td>may</td>\n",
       "      <td>thu</td>\n",
       "      <td>1</td>\n",
       "      <td>...</td>\n",
       "      <td>nonexistent</td>\n",
       "      <td>-1.8</td>\n",
       "      <td>92.893</td>\n",
       "      <td>-46.2</td>\n",
       "      <td>1.327</td>\n",
       "      <td>5099.1</td>\n",
       "      <td>0</td>\n",
       "      <td>0</td>\n",
       "      <td>1</td>\n",
       "      <td>0</td>\n",
       "    </tr>\n",
       "    <tr>\n",
       "      <th>8588</th>\n",
       "      <td>34</td>\n",
       "      <td>admin.</td>\n",
       "      <td>university.degree</td>\n",
       "      <td>no</td>\n",
       "      <td>no</td>\n",
       "      <td>no</td>\n",
       "      <td>cellular</td>\n",
       "      <td>oct</td>\n",
       "      <td>thu</td>\n",
       "      <td>1</td>\n",
       "      <td>...</td>\n",
       "      <td>nonexistent</td>\n",
       "      <td>-3.4</td>\n",
       "      <td>92.431</td>\n",
       "      <td>-26.9</td>\n",
       "      <td>0.722</td>\n",
       "      <td>5017.5</td>\n",
       "      <td>1</td>\n",
       "      <td>1</td>\n",
       "      <td>0</td>\n",
       "      <td>0</td>\n",
       "    </tr>\n",
       "    <tr>\n",
       "      <th>5614</th>\n",
       "      <td>32</td>\n",
       "      <td>unemployed</td>\n",
       "      <td>university.degree</td>\n",
       "      <td>no</td>\n",
       "      <td>no</td>\n",
       "      <td>no</td>\n",
       "      <td>cellular</td>\n",
       "      <td>apr</td>\n",
       "      <td>wed</td>\n",
       "      <td>1</td>\n",
       "      <td>...</td>\n",
       "      <td>nonexistent</td>\n",
       "      <td>-1.8</td>\n",
       "      <td>93.075</td>\n",
       "      <td>-47.1</td>\n",
       "      <td>1.415</td>\n",
       "      <td>5099.1</td>\n",
       "      <td>1</td>\n",
       "      <td>0</td>\n",
       "      <td>1</td>\n",
       "      <td>0</td>\n",
       "    </tr>\n",
       "    <tr>\n",
       "      <th>8205</th>\n",
       "      <td>87</td>\n",
       "      <td>retired</td>\n",
       "      <td>basic.4y</td>\n",
       "      <td>no</td>\n",
       "      <td>no</td>\n",
       "      <td>no</td>\n",
       "      <td>cellular</td>\n",
       "      <td>aug</td>\n",
       "      <td>fri</td>\n",
       "      <td>1</td>\n",
       "      <td>...</td>\n",
       "      <td>nonexistent</td>\n",
       "      <td>-2.9</td>\n",
       "      <td>92.201</td>\n",
       "      <td>-31.4</td>\n",
       "      <td>0.849</td>\n",
       "      <td>5076.2</td>\n",
       "      <td>1</td>\n",
       "      <td>0</td>\n",
       "      <td>0</td>\n",
       "      <td>0</td>\n",
       "    </tr>\n",
       "    <tr>\n",
       "      <th>5784</th>\n",
       "      <td>33</td>\n",
       "      <td>self-employed</td>\n",
       "      <td>university.degree</td>\n",
       "      <td>no</td>\n",
       "      <td>yes</td>\n",
       "      <td>no</td>\n",
       "      <td>cellular</td>\n",
       "      <td>apr</td>\n",
       "      <td>fri</td>\n",
       "      <td>2</td>\n",
       "      <td>...</td>\n",
       "      <td>nonexistent</td>\n",
       "      <td>-1.8</td>\n",
       "      <td>93.075</td>\n",
       "      <td>-47.1</td>\n",
       "      <td>1.405</td>\n",
       "      <td>5099.1</td>\n",
       "      <td>0</td>\n",
       "      <td>0</td>\n",
       "      <td>1</td>\n",
       "      <td>0</td>\n",
       "    </tr>\n",
       "  </tbody>\n",
       "</table>\n",
       "<p>2531 rows × 22 columns</p>\n",
       "</div>"
      ],
      "text/plain": [
       "      age            job          education default housing loan   contact  \\\n",
       "7472   38     technician  university.degree      no     yes   no  cellular   \n",
       "3408   55        retired        high.school      no     yes  yes  cellular   \n",
       "5851   29     technician  university.degree      no      no  yes  cellular   \n",
       "9132   80        retired           basic.4y      no     yes  yes  cellular   \n",
       "3790   45    blue-collar           basic.4y      no      no   no  cellular   \n",
       "...   ...            ...                ...     ...     ...  ...       ...   \n",
       "6460   32         admin.  university.degree      no     yes  yes  cellular   \n",
       "8588   34         admin.  university.degree      no      no   no  cellular   \n",
       "5614   32     unemployed  university.degree      no      no   no  cellular   \n",
       "8205   87        retired           basic.4y      no      no   no  cellular   \n",
       "5784   33  self-employed  university.degree      no     yes   no  cellular   \n",
       "\n",
       "     month day_of_week  campaign  ...     poutcome  emp.var.rate  \\\n",
       "7472   may         tue         2  ...  nonexistent          -1.8   \n",
       "3408   jul         tue         3  ...  nonexistent           1.4   \n",
       "5851   apr         mon         1  ...  nonexistent          -1.8   \n",
       "9132   apr         wed         2  ...  nonexistent          -1.8   \n",
       "3790   aug         fri         2  ...  nonexistent           1.4   \n",
       "...    ...         ...       ...  ...          ...           ...   \n",
       "6460   may         thu         1  ...  nonexistent          -1.8   \n",
       "8588   oct         thu         1  ...  nonexistent          -3.4   \n",
       "5614   apr         wed         1  ...  nonexistent          -1.8   \n",
       "8205   aug         fri         1  ...  nonexistent          -2.9   \n",
       "5784   apr         fri         2  ...  nonexistent          -1.8   \n",
       "\n",
       "     cons.price.idx  cons.conf.idx  euribor3m  nr.employed  y  \\\n",
       "7472         92.893          -46.2      1.266       5099.1  0   \n",
       "3408         93.918          -42.7      4.961       5228.1  0   \n",
       "5851         93.075          -47.1      1.405       5099.1  0   \n",
       "9132         93.749          -34.6      0.642       5008.7  1   \n",
       "3790         93.444          -36.1      4.966       5228.1  1   \n",
       "...             ...            ...        ...          ... ..   \n",
       "6460         92.893          -46.2      1.327       5099.1  0   \n",
       "8588         92.431          -26.9      0.722       5017.5  1   \n",
       "5614         93.075          -47.1      1.415       5099.1  1   \n",
       "8205         92.201          -31.4      0.849       5076.2  1   \n",
       "5784         93.075          -47.1      1.405       5099.1  0   \n",
       "\n",
       "      marital_married  marital_single  marital_unknown  \n",
       "7472                1               0                0  \n",
       "3408                1               0                0  \n",
       "5851                0               1                0  \n",
       "9132                0               0                0  \n",
       "3790                1               0                0  \n",
       "...               ...             ...              ...  \n",
       "6460                0               1                0  \n",
       "8588                1               0                0  \n",
       "5614                0               1                0  \n",
       "8205                0               0                0  \n",
       "5784                0               1                0  \n",
       "\n",
       "[2531 rows x 22 columns]"
      ]
     },
     "execution_count": 200,
     "metadata": {},
     "output_type": "execute_result"
    }
   ],
   "source": [
    "X_test"
   ]
  },
  {
   "cell_type": "code",
   "execution_count": 224,
   "id": "9a519a50-2b4a-479c-a107-51585e380fca",
   "metadata": {},
   "outputs": [],
   "source": [
    "def knn(features, single_test_input, k):\n",
    "    X_train['distance'] = sum([(X_train[feature] - single_test_input[feature]) ** 2 for feature in features]) ** 0.5\n",
    "    # prediction = y_train[X_train['distance'].nsmallest(n=k).index].mean() for regression\n",
    "    prediction = y_train[X_train['distance'].nsmallest(n=k).index].mode()[0]\n",
    "    return prediction"
   ]
  },
  {
   "cell_type": "code",
   "execution_count": 220,
   "id": "9e8af1a7-f363-482d-aba5-498faeb3e109",
   "metadata": {},
   "outputs": [
    {
     "data": {
      "text/plain": [
       "5"
      ]
     },
     "execution_count": 220,
     "metadata": {},
     "output_type": "execute_result"
    }
   ],
   "source": [
    "sum([2, 3])"
   ]
  },
  {
   "cell_type": "code",
   "execution_count": 221,
   "id": "355907da-9861-4f5e-9fa8-99585f85f912",
   "metadata": {},
   "outputs": [],
   "source": [
    "features = ['age', 'campaign', 'marital_married', 'marital_single']"
   ]
  },
  {
   "cell_type": "code",
   "execution_count": 222,
   "id": "58a1e0b3-29ab-41b2-8f6e-1bc89d650be3",
   "metadata": {},
   "outputs": [],
   "source": [
    "y_preds = X_test.head().apply(lambda x: knn(features, x, k=3), axis=1)"
   ]
  },
  {
   "cell_type": "code",
   "execution_count": 223,
   "id": "57cd87bd-f22e-406c-8f5c-b3559ff186f3",
   "metadata": {},
   "outputs": [
    {
     "data": {
      "text/plain": [
       "7472    650.666667\n",
       "3408    160.000000\n",
       "5851    380.000000\n",
       "9132    299.333333\n",
       "3790    462.000000\n",
       "dtype: float64"
      ]
     },
     "execution_count": 223,
     "metadata": {},
     "output_type": "execute_result"
    }
   ],
   "source": [
    "y_preds"
   ]
  },
  {
   "cell_type": "code",
   "execution_count": 218,
   "id": "c7660a67-e64e-4406-9f1e-ce51492a03f7",
   "metadata": {},
   "outputs": [
    {
     "data": {
      "text/plain": [
       "7472    118\n",
       "3408    394\n",
       "5851    222\n",
       "9132    654\n",
       "3790    507\n",
       "Name: duration, dtype: int64"
      ]
     },
     "execution_count": 218,
     "metadata": {},
     "output_type": "execute_result"
    }
   ],
   "source": [
    "y_test.head()"
   ]
  },
  {
   "cell_type": "code",
   "execution_count": null,
   "id": "99f52a8e-3a54-4770-844c-eb0eb3ef3bd6",
   "metadata": {},
   "outputs": [],
   "source": []
  }
 ],
 "metadata": {
  "kernelspec": {
   "display_name": "Python 3 (ipykernel)",
   "language": "python",
   "name": "python3"
  },
  "language_info": {
   "codemirror_mode": {
    "name": "ipython",
    "version": 3
   },
   "file_extension": ".py",
   "mimetype": "text/x-python",
   "name": "python",
   "nbconvert_exporter": "python",
   "pygments_lexer": "ipython3",
   "version": "3.12.4"
  }
 },
 "nbformat": 4,
 "nbformat_minor": 5
}
