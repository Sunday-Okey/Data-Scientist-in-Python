{
 "cells": [
  {
   "cell_type": "markdown",
   "id": "19eda6d1-b344-4e5d-a108-236ae18c8131",
   "metadata": {},
   "source": [
    "# Significance Testing"
   ]
  },
  {
   "cell_type": "markdown",
   "id": "4da2d4fe-f040-45e0-9e3b-b9db2199eb1c",
   "metadata": {},
   "source": [
    "## Hypothesis Testing"
   ]
  },
  {
   "cell_type": "markdown",
   "id": "29f8e65c-fc9c-4f80-8dbb-5d19ccc2ef2f",
   "metadata": {},
   "source": [
    "In this lesson, we'll learn about hypothesis testing and statistical significance. A hypothesis is a pattern or rule about a process that we can test. We use hypothesis testing to determine if a change we made had a meaningful impact or not."
   ]
  },
  {
   "cell_type": "markdown",
   "id": "502dc382-ed01-458b-9606-049f65c827ff",
   "metadata": {},
   "source": [
    "You can use hypothesis testing to help you determine the following:"
   ]
  },
  {
   "cell_type": "markdown",
   "id": "893de8cd-bb45-444b-b1af-7030403c4f09",
   "metadata": {},
   "source": [
    "- If a new banner ad on a website caused a drop in the user engagement\n",
    "- If raising the price of a product caused a drop in sales\n",
    "- If a new weight loss pill helped people lose more weight"
   ]
  },
  {
   "cell_type": "markdown",
   "id": "6fd877b0-2e00-4c11-9fa3-de548e86fa46",
   "metadata": {},
   "source": [
    "Observing a decrease in user engagement or sales after instituting a change doesn't automatically mean that the change was the cause. Hypothesis testing allows us to calculate the probability that random chance was responsible for the difference in outcome. Every process has some inherent amount of randomness that we can't measure and understanding the role of chance helps us reach a more likely conclusion."
   ]
  },
  {
   "cell_type": "markdown",
   "id": "7cf5eed7-eaa6-4c30-b928-53507158247a",
   "metadata": {},
   "source": [
    "Let's begin with a null hypothesis that describes the status quo, then state an alternative hypothesis. We use the alternate hypothesis in comparison with the null hypothesis to decide which describes the data better. In the end, we need to do one of the folllowing:"
   ]
  },
  {
   "cell_type": "markdown",
   "id": "28215848-33bd-4a16-a54d-2d950330b8f9",
   "metadata": {},
   "source": [
    "- Reject the null hypothesis\n",
    "- Fail to reject the null hypothesis"
   ]
  },
  {
   "cell_type": "markdown",
   "id": "0de7c381-82f6-4a58-aa4c-973eaef7ee37",
   "metadata": {},
   "source": [
    "We can frame each of the studies above as these rival pairs of hypotheses:\n"
   ]
  },
  {
   "cell_type": "markdown",
   "id": "576fd3af-ecc7-48a0-b4ca-163be04c5f63",
   "metadata": {},
   "source": [
    "- If a new banner ad on a website caused a drop in user engagement:\n",
    "    - Null hypothesis: Users who saw the banner ad spent the same amount of time on the website as those who didn't.\n",
    "    - Alternative hypothesis: Users who saw the banner ad spent less time on the website than those who didn't.\n",
    "- If raising the price of a product caused a drop in sales:\n",
    "    - Null hypothesis: the number of purchases was the same at the lower price as it was at the higher price.\n",
    "    - Alternative hypothesis: The number of purchases was lower at the higher price than it was at the lower price.\n",
    "- If a new weight loss pill helped people lose more weight:\n",
    "    - Null hypothesis: Patients who went on the weight loss pill didn't lose any additional weight compared to those who did not take the pill.\n",
    "    - Alternative hypothesis: Patients who went on the weight loss pill lost more weight than those who didn't.\n"
   ]
  },
  {
   "cell_type": "markdown",
   "id": "d57b76ab-045e-4b18-9f47-bc26c1f5ce34",
   "metadata": {},
   "source": [
    "Let's focus on the third scenario and use data to determine if a weight loss pill helped people lose weight."
   ]
  },
  {
   "cell_type": "markdown",
   "id": "3186d68e-2c65-4dd5-949b-6ac53cce76c9",
   "metadata": {},
   "source": [
    "## Research Design"
   ]
  },
  {
   "cell_type": "markdown",
   "id": "56566167-c3e1-4cd0-9751-c686bff1d5a6",
   "metadata": {},
   "source": [
    "To help us determine if the weight loss pill was effective, we conducted a study with 100 volunteers and split them into two groups randomly:"
   ]
  },
  {
   "cell_type": "markdown",
   "id": "c96b92cf-129c-4224-bc5c-ab365376e299",
   "metadata": {},
   "source": [
    "- Group A received a placebo to consume on a daily basis.\n",
    "- Group B received the actual weight loss pill to consume on a daily basis"
   ]
  },
  {
   "cell_type": "markdown",
   "id": "30e4be4d-5876-4cc2-ac2a-cd0411734343",
   "metadata": {},
   "source": [
    "Both groups received instructions not to change anything else about their diets. Group A is referred to as the control group while group B is referred to as the treatment group. This type of study is called a [blind experiment](https://en.wikipedia.org/wiki/Blind_experiment) since the participants didn't know which pill they were receiving. This helps us reduce the potential bias that is introduced when participants know which pill they were given. For example, participants who are aware they are given the weight loss pill may try to add healthier foods to their diet to help them lose more weight. Both groups were weighed before the study began and a month after the study ended."
   ]
  },
  {
   "cell_type": "markdown",
   "id": "4e75edb1-152a-419d-9ab3-1874ce6ea1cc",
   "metadata": {},
   "source": [
    "Understanding the research design for a study is an important first step that impacts the rest of your analysis. It helps us uncover potential flaws in the study that we need to keep in mind as we dive deeper. The weight loss pill study we conducted is known as an experimental study. Experimental studies usually involve bringing in participants, instructing them to perform certain tasks, and observing them. A key part of running an experimental study is random assignment, which involves assigning participants in the study to random groups without revealing which group each participant is assigned. Before exploring and analyzing a dataset, it's important to understand how the study was conducted. Flaws within the study can lead you to the wrong conclusions."
   ]
  },
  {
   "cell_type": "markdown",
   "id": "82739114-7a31-4e28-a380-5c3ccd255450",
   "metadata": {},
   "source": [
    "## Statistical Significance"
   ]
  },
  {
   "cell_type": "markdown",
   "id": "9253bee3-d574-4edc-a788-998cf75230bd",
   "metadata": {},
   "source": [
    "Statistics helps determine if the difference in the weight lost is because of random chance or an actual difference in the outcomes. If there is a meaningful difference, we say that the results are statistically significant. We'll dive into what this means over the course of this lesson."
   ]
  },
  {
   "cell_type": "markdown",
   "id": "27b66a50-64fa-49a4-a280-5e1c217ffac7",
   "metadata": {},
   "source": [
    "Now that we're familiar with the study, let's state our null and alternative hypotheses more precisely. Our null hypothesis should describe the default position of skepticism, which is that there's no statistically significant difference between the outcomes of the 2 groups. Ultimately, it should state that any difference is due to random chance. Our alternative hypothesis should state that there is in fact a statistically significant difference between the outcomes of the 2 groups."
   ]
  },
  {
   "cell_type": "markdown",
   "id": "d73bbc79-509e-425c-a273-6e663bbd97bf",
   "metadata": {},
   "source": [
    "- Null hypothesis: participants who consumed the weight loss pills lost the same amount of weight as those who didn't take the pill.\r",
    "- \n",
    "Alternative hypothesis: participants who consumed the weight loss pills lost more weight than those who didn't take the pill."
   ]
  },
  {
   "cell_type": "markdown",
   "id": "af5f600a-908d-45a1-acd1-ed85b472ae2a",
   "metadata": {},
   "source": [
    "The lists `weight_lost_a` and `weight_lost_b` contain the amount of weight (in pounds) that the participants in each group lost. Let's explore and become more familiar with the data."
   ]
  },
  {
   "cell_type": "code",
   "execution_count": 1,
   "id": "cd421ec5-0c88-4421-b52e-ac714dedfc59",
   "metadata": {},
   "outputs": [],
   "source": [
    "import numpy as np\n",
    "import pandas as pd\n",
    "import matplotlib.pyplot as plt"
   ]
  },
  {
   "cell_type": "code",
   "execution_count": 3,
   "id": "8b0a2fd3-220c-4869-8cbc-d3787f926e78",
   "metadata": {},
   "outputs": [
    {
     "name": "stdout",
     "output_type": "stream",
     "text": [
      "[[ 3.  5.]\n",
      " [ 2.  4.]\n",
      " [ 3.  5.]\n",
      " [ 4.  5.]\n",
      " [ 3.  4.]\n",
      " [ 2.  5.]\n",
      " [ 2.  7.]\n",
      " [ 2.  5.]\n",
      " [ 1.  4.]\n",
      " [ 3.  3.]\n",
      " [ 2.  3.]\n",
      " [ 3.  5.]\n",
      " [ 1. 10.]\n",
      " [ 3.  3.]\n",
      " [ 4.  4.]\n",
      " [ 1.  9.]\n",
      " [ 3.  7.]\n",
      " [ 2.  6.]\n",
      " [ 1.  9.]\n",
      " [ 3.  4.]\n",
      " [ 4.  2.]\n",
      " [ 3.  5.]\n",
      " [ 2.  7.]\n",
      " [ 3.  7.]\n",
      " [ 7.  7.]\n",
      " [ 2.  5.]\n",
      " [ 3.  4.]\n",
      " [ 2.  8.]\n",
      " [ 5.  9.]\n",
      " [ 1.  6.]\n",
      " [ 1.  7.]\n",
      " [ 1.  6.]\n",
      " [ 3.  7.]\n",
      " [ 2.  6.]\n",
      " [ 4.  3.]\n",
      " [10.  5.]\n",
      " [ 2.  5.]\n",
      " [ 3.  4.]\n",
      " [ 2.  2.]\n",
      " [ 5.  3.]\n",
      " [ 6.  3.]\n",
      " [ 2.  5.]\n",
      " [ 3.  6.]\n",
      " [ 2.  9.]\n",
      " [ 3.  7.]\n",
      " [ 4.  6.]\n",
      " [ 1.  4.]\n",
      " [ 3.  5.]\n",
      " [ 3.  4.]\n",
      " [ 1.  3.]]\n"
     ]
    }
   ],
   "source": [
    "data = np.genfromtxt(\"../../Datasets/weight_loss.csv\", delimiter=\",\")\n",
    "print(data)\n",
    "\n",
    "mean_group_a = data[:, 0].mean()\n",
    "mean_group_b = data[:, 1].mean()"
   ]
  },
  {
   "cell_type": "code",
   "execution_count": 4,
   "id": "d30a88fd-8e85-4139-9b2e-0491f61b1905",
   "metadata": {},
   "outputs": [
    {
     "data": {
      "text/plain": [
       "(2.82, 5.34)"
      ]
     },
     "execution_count": 4,
     "metadata": {},
     "output_type": "execute_result"
    }
   ],
   "source": [
    "mean_group_a, mean_group_b"
   ]
  },
  {
   "cell_type": "markdown",
   "id": "da69bca0-f370-4b7f-9ff3-df16edc48c5d",
   "metadata": {},
   "source": [
    "## Test Statistic"
   ]
  },
  {
   "cell_type": "markdown",
   "id": "ce27038b-c971-403f-b5fe-7f36d159a07c",
   "metadata": {},
   "source": [
    "To determine which hypothesis accurately describes the data, we need to frame the hypotheses quantitatively. The first step is to decide a test statistic, which is a numerical value that summarizes the data and one we can use in statistical formulas. The test statistic runs a statistical test that determines whether the difference between the groups was due to random chance."
   ]
  },
  {
   "cell_type": "markdown",
   "id": "bc67cbfc-879a-4806-a6d7-5ed422801aa5",
   "metadata": {},
   "source": [
    "Since we want to know if the amount of weight lost between the groups is significantly different, we will use the difference in the means(also known as the mean difference) of weight lost for each group as the test statistic."
   ]
  },
  {
   "cell_type": "markdown",
   "id": "66f41a06-f801-4e3e-a680-049a0a6686fb",
   "metadata": {},
   "source": [
    "The following symbol is used to represent the sample mean in statistics:"
   ]
  },
  {
   "attachments": {
    "611e85ea-41f3-4d9b-8a4a-d2138063ade2.png": {
     "image/png": "[encoded data removed]"
    }
   },
   "cell_type": "markdown",
   "id": "a377400a-fd63-4005-8ef4-c884a8ced4f5",
   "metadata": {},
   "source": [
    "![image.png](attachment:611e85ea-41f3-4d9b-8a4a-d2138063ade2.png)"
   ]
  },
  {
   "cell_type": "markdown",
   "id": "3802db8d-0df5-40d7-8ef7-1f7c13ddbdd5",
   "metadata": {},
   "source": [
    "to denote the mean of group A and"
   ]
  },
  {
   "attachments": {
    "89675659-78b1-4639-a0ad-c0e361f983f6.png": {
     "image/png": "[encoded data removed]"
    }
   },
   "cell_type": "markdown",
   "id": "e8d31434-954b-4d64-acd6-a828c3549dba",
   "metadata": {},
   "source": [
    "![image.png](attachment:89675659-78b1-4639-a0ad-c0e361f983f6.png)"
   ]
  },
  {
   "cell_type": "markdown",
   "id": "f5400d0f-4408-41e9-845e-62f50a27f370",
   "metadata": {},
   "source": [
    "to denote the mean of group B. For the mean difference, we'll subtract the mean of group A from group B:"
   ]
  },
  {
   "attachments": {
    "6fbb5f45-e776-4a6d-bf31-11ea9de8c2d4.png": {
     "image/png": "[encoded data removed]"
    }
   },
   "cell_type": "markdown",
   "id": "82ad0cea-802e-45e5-a9f3-3a6e70f598ec",
   "metadata": {},
   "source": [
    "![image.png](attachment:6fbb5f45-e776-4a6d-bf31-11ea9de8c2d4.png)"
   ]
  },
  {
   "cell_type": "markdown",
   "id": "48dfab8d-2ad7-4fc9-9180-b30a1e2c068b",
   "metadata": {},
   "source": [
    "Now that we have decided on a test statistic, we can rewrite our hypotheses to be more precise:"
   ]
  },
  {
   "attachments": {
    "3c98e6bb-a9bc-4886-b9e1-2a8acb597d45.png": {
     "image/png": "[encoded data removed]"
    }
   },
   "cell_type": "markdown",
   "id": "5cd855e9-ba24-4a52-aaa4-dde0729b243b",
   "metadata": {},
   "source": [
    "![image.png](attachment:3c98e6bb-a9bc-4886-b9e1-2a8acb597d45.png)"
   ]
  },
  {
   "cell_type": "markdown",
   "id": "c131d17e-bdfd-4792-ad42-dee9689ba1d1",
   "metadata": {},
   "source": [
    "Note that while we've stated our hypotheses as equations, we're not simply calculating the difference and matching the result to hypothesis. We're instead using a statistical test to determine which of these statements better describes the data."
   ]
  },
  {
   "cell_type": "code",
   "execution_count": 5,
   "id": "07f83d71-0cbb-4b1a-a28b-dcf21528d801",
   "metadata": {},
   "outputs": [
    {
     "data": {
      "text/plain": [
       "2.52"
      ]
     },
     "execution_count": 5,
     "metadata": {},
     "output_type": "execute_result"
    }
   ],
   "source": [
    "mean_group_b - mean_group_a"
   ]
  },
  {
   "cell_type": "markdown",
   "id": "23617dfd-4f28-4759-9f73-4ad3f40e82b1",
   "metadata": {},
   "source": [
    "##  Permutation Test"
   ]
  },
  {
   "cell_type": "markdown",
   "id": "9f3748e1-a130-4407-a1d0-c8a369ff1f04",
   "metadata": {},
   "source": [
    "Now that we have a test statistic, we need to decide on a statistical test. The purpose of a statistical test is to work out the likelihood that the result we achieved was due to random chance."
   ]
  },
  {
   "cell_type": "markdown",
   "id": "191cd936-a31b-4574-bdd9-4573f597b61c",
   "metadata": {},
   "source": [
    "The permutation test is a statistical test that involves rerunning the study many times and recalculating the test statistic for each iteration. The goal is to calculate a distribution of the test statistics over these many iterations. This distribution is called the sampling distribution and it approximates the full range of possible test statistics under the null hypothesis. We can then benchmark the test statistic we observed in the data (a mean difference of 2.52) to determine how likely it is to observe this mean difference under the null hypothesis. If the null hypothesis is true, that the weight loss pill doesn't help people lose more weight, then the observed mean difference of 2.52 should be quite common in the sampling distribution. If it's instead extremely rare, then we should reject the null hypothesis instead."
   ]
  },
  {
   "cell_type": "markdown",
   "id": "08c69055-b9de-4bc8-b693-2d8552d275f5",
   "metadata": {},
   "source": [
    "To simulate rerunning the study, we randomly reassign each data point (weight lost) to either group A or group B. We keep track of the recalculated test statistics as a separate list. By re-randomizing the groups that the weight loss values belong to, we're simulating what randomly generated groupings of these weight loss values would look like. We then use these randomly generated groupings to understand how rare the groupings in our actual data were."
   ]
  },
  {
   "cell_type": "markdown",
   "id": "83a9de3e-8477-4d87-bd9f-6a0e82152a23",
   "metadata": {},
   "source": [
    "Ideally, the number of times we re-randomize the groups that each data point belongs to matches the total number of possible permutations. Usually, the number of total permutations is too high for even powerful supercomputers to calculate within a reasonable time frame. While we'll use 1000 iterations for now, in later lessons we'll learn how to quantify the tradeoff we make between accuracy and speed to determine the optimal number of iterations."
   ]
  },
  {
   "cell_type": "markdown",
   "id": "2694d1cb-b41e-4315-8cda-8f7aad826789",
   "metadata": {},
   "source": [
    "Since we'll be randomizing the groups each value belongs to, we created a list named all_values that contains just the weight loss values."
   ]
  },
  {
   "cell_type": "code",
   "execution_count": 6,
   "id": "a147cf39-00c5-4ab7-9a10-495dc4f234c0",
   "metadata": {},
   "outputs": [
    {
     "data": {
      "text/plain": [
       "array([[ 3.,  5.],\n",
       "       [ 2.,  4.],\n",
       "       [ 3.,  5.],\n",
       "       [ 4.,  5.],\n",
       "       [ 3.,  4.],\n",
       "       [ 2.,  5.],\n",
       "       [ 2.,  7.],\n",
       "       [ 2.,  5.],\n",
       "       [ 1.,  4.],\n",
       "       [ 3.,  3.],\n",
       "       [ 2.,  3.],\n",
       "       [ 3.,  5.],\n",
       "       [ 1., 10.],\n",
       "       [ 3.,  3.],\n",
       "       [ 4.,  4.],\n",
       "       [ 1.,  9.],\n",
       "       [ 3.,  7.],\n",
       "       [ 2.,  6.],\n",
       "       [ 1.,  9.],\n",
       "       [ 3.,  4.],\n",
       "       [ 4.,  2.],\n",
       "       [ 3.,  5.],\n",
       "       [ 2.,  7.],\n",
       "       [ 3.,  7.],\n",
       "       [ 7.,  7.],\n",
       "       [ 2.,  5.],\n",
       "       [ 3.,  4.],\n",
       "       [ 2.,  8.],\n",
       "       [ 5.,  9.],\n",
       "       [ 1.,  6.],\n",
       "       [ 1.,  7.],\n",
       "       [ 1.,  6.],\n",
       "       [ 3.,  7.],\n",
       "       [ 2.,  6.],\n",
       "       [ 4.,  3.],\n",
       "       [10.,  5.],\n",
       "       [ 2.,  5.],\n",
       "       [ 3.,  4.],\n",
       "       [ 2.,  2.],\n",
       "       [ 5.,  3.],\n",
       "       [ 6.,  3.],\n",
       "       [ 2.,  5.],\n",
       "       [ 3.,  6.],\n",
       "       [ 2.,  9.],\n",
       "       [ 3.,  7.],\n",
       "       [ 4.,  6.],\n",
       "       [ 1.,  4.],\n",
       "       [ 3.,  5.],\n",
       "       [ 3.,  4.],\n",
       "       [ 1.,  3.]])"
      ]
     },
     "execution_count": 6,
     "metadata": {},
     "output_type": "execute_result"
    }
   ],
   "source": [
    "data"
   ]
  },
  {
   "cell_type": "code",
   "execution_count": 12,
   "id": "7e0837f6-ddc1-477e-9887-a319fdea43d1",
   "metadata": {},
   "outputs": [],
   "source": [
    "import itertools\n",
    "all_values = list(itertools.chain(*data.tolist()))"
   ]
  },
  {
   "cell_type": "code",
   "execution_count": 16,
   "id": "d5b494ee-5e23-483a-b45d-18899a23566f",
   "metadata": {},
   "outputs": [],
   "source": [
    "mean_differences = []\n",
    "\n",
    "for i in range(1000):\n",
    "    group_a = []\n",
    "    group_b = []\n",
    "\n",
    "    for weight in all_values:\n",
    "        random_val = np.random.rand()\n",
    "        if random_val >= 0.5:\n",
    "            group_a.append(weight)\n",
    "        else:\n",
    "            group_b.append(weight)\n",
    "\n",
    "    mean_group_a = np.mean(group_a)\n",
    "    mean_group_b = np.mean(group_b)\n",
    "\n",
    "    iteration_mean_difference = mean_group_b - mean_group_a\n",
    "    mean_differences.append(iteration_mean_difference)"
   ]
  },
  {
   "cell_type": "code",
   "execution_count": 17,
   "id": "89d27ca3-8e9a-4b00-b7a9-a85c3b023914",
   "metadata": {},
   "outputs": [
    {
     "data": {
      "image/png": "[encoded data removed]",
      "text/plain": [
       "<Figure size 640x480 with 1 Axes>"
      ]
     },
     "metadata": {},
     "output_type": "display_data"
    }
   ],
   "source": [
    "plt.hist(mean_differences)\n",
    "plt.show()"
   ]
  },
  {
   "cell_type": "markdown",
   "id": "b8b9993b-d74b-4d9b-a01d-b3107a567294",
   "metadata": {},
   "source": [
    "## Sampling Distribution"
   ]
  },
  {
   "cell_type": "markdown",
   "id": "6a249873-c698-4325-a8e9-5319c789a5db",
   "metadata": {},
   "source": [
    "By randomly assigning participants to group A or group B, we account for the effect of random chance. Someone in group B who just happened to lose more weight (but not because of the pills) makes the results look better than they were. By creating many permutations, we're able to see all possible configurations of this error. Creating a histogram enables us to see how likely different values of our test statistic are if we repeated our experiment many times."
   ]
  },
  {
   "cell_type": "markdown",
   "id": "a90cbb8c-acb5-4628-9423-8c5a29e42795",
   "metadata": {},
   "source": [
    "The histogram we generated in the previous step using Matplotlib is a visual representation of the sampling distribution. Let's now create a dictionary that contains the values in the sampling distribution so we can benchmark our observed test statistic against it."
   ]
  },
  {
   "cell_type": "markdown",
   "id": "c73d846c-4fbf-45a7-a509-150e12a21a12",
   "metadata": {},
   "source": [
    "The keys in the dictionary should be the test statistic and the values should be their frequency:"
   ]
  },
  {
   "cell_type": "markdown",
   "id": "266d604e-1184-417f-a133-b2d963db11ee",
   "metadata": {},
   "source": [
    "{\n",
    "    0.34943639291465356: 3,\n",
    "    -0.55702280912364888: 2, \n",
    "    -0.14942528735632177: 1\n",
    "    ....\n",
    "}"
   ]
  },
  {
   "cell_type": "markdown",
   "id": "991ed060-ad63-4b44-b4f4-a1a6f25d06dd",
   "metadata": {},
   "source": [
    "First we need to count how frequently each value in the list, mean_differences, occurs. As we loop over mean_differences, we need a way to check if the test statistic is already in our dictionary:"
   ]
  },
  {
   "cell_type": "markdown",
   "id": "ee968f9a-afc3-4712-93eb-c6c44be89140",
   "metadata": {},
   "source": [
    "- If it is, we look up the value at that key, add 1 to it, and assign the new value to the key.\n",
    "- If it isn't, we add the key to the dictionary and assign the value 1 to it."
   ]
  },
  {
   "cell_type": "markdown",
   "id": "cffa22ec-4d97-41a1-a279-f8f53f272017",
   "metadata": {},
   "source": [
    "We'll dive more into how to accomplish this in the next step."
   ]
  },
  {
   "cell_type": "markdown",
   "id": "2358b080-a15c-4890-af5d-6e01a9649bf4",
   "metadata": {},
   "source": [
    "## Dictionary Representation of a Distribution"
   ]
  },
  {
   "cell_type": "markdown",
   "id": "1be870c2-56d5-46a1-9084-0519983464ef",
   "metadata": {},
   "source": [
    "To check if a key exists in a dictionary, we need to use the [get() method](https://docs.python.org/3/library/stdtypes.html#dict.get) to:"
   ]
  },
  {
   "cell_type": "markdown",
   "id": "c5effeca-fa3b-49d4-931a-e986ac315b2c",
   "metadata": {},
   "source": [
    "- return the value at the specified key if it exists in the dictionary or\r",
    "- \n",
    "return another value we specify instead."
   ]
  },
  {
   "cell_type": "markdown",
   "id": "df2fc315-d213-43cb-9499-73d4338d8168",
   "metadata": {},
   "source": [
    " Here are the parameters the method takes in:"
   ]
  },
  {
   "cell_type": "markdown",
   "id": "f6729134-0e27-46e8-8b7a-3892c125541d",
   "metadata": {},
   "source": [
    "- The required parameter is the key we want to look up.\n",
    "- The optional parameter is the default value we want returned if the key is not found."
   ]
  },
  {
   "cell_type": "markdown",
   "id": "51055407-bbfa-44b3-938b-63b99370b628",
   "metadata": {},
   "source": [
    "In the following code block, we use the get method and set the default value to False:"
   ]
  },
  {
   "cell_type": "code",
   "execution_count": 18,
   "id": "5a7dbc69-d230-4b69-a348-ded9f8bb77d9",
   "metadata": {},
   "outputs": [],
   "source": [
    "empty = {}\n",
    "\n",
    "# Since \"a\" isn't a key in empty, the value False is returned.\n",
    "key_a = empty.get(\"a\", False)\n",
    "\n",
    "empty[\"b\"] = \"boat\"\n",
    "\n",
    "# key_b is the value for the key \"b\" in empty.\n",
    "key_b = empty.get(\"b\", False)\n",
    "# \"boat\" is assigned to key_b."
   ]
  },
  {
   "cell_type": "markdown",
   "id": "8076644f-da4c-4c45-95b1-8e632aa4f639",
   "metadata": {},
   "source": [
    "We can use the value returned from the get() method in an if statement to express our logic:"
   ]
  },
  {
   "cell_type": "code",
   "execution_count": 19,
   "id": "e6bd4320-fa49-4d8c-a668-3f2a65e2c8ec",
   "metadata": {},
   "outputs": [],
   "source": [
    "empty = {\"c\": 1}\n",
    "if empty.get(\"c\", False):\n",
    "    # If in the dictionary, grab the value, increment by 1, reassign.\n",
    "    val = empty.get(\"c\")\n",
    "    inc = val + 1\n",
    "    empty[\"c\"] = inc\n",
    "else:\n",
    "    # If not in the dictionary, assign `1` as the value to that key.\n",
    "    empty[\"c\"] = 1"
   ]
  },
  {
   "cell_type": "code",
   "execution_count": 20,
   "id": "101ed8c4-20e7-4dbb-be50-71f7cb2e960b",
   "metadata": {},
   "outputs": [],
   "source": [
    "sampling_distribution = {}\n",
    "\n",
    "for val in mean_differences:\n",
    "    sampling_distribution[val]  = sampling_distribution.get(val, 0) + 1"
   ]
  },
  {
   "cell_type": "code",
   "execution_count": 24,
   "id": "be29ec18-1e3e-4064-8a33-d8534313bc8f",
   "metadata": {},
   "outputs": [
    {
     "data": {
      "text/plain": [
       "0.34943639291465356"
      ]
     },
     "execution_count": 24,
     "metadata": {},
     "output_type": "execute_result"
    }
   ],
   "source": [
    "max(sampling_distribution, key=sampling_distribution.get)"
   ]
  },
  {
   "cell_type": "markdown",
   "id": "f69514a1-9a4e-4040-bec6-56e716f71980",
   "metadata": {},
   "source": [
    "## P Value"
   ]
  },
  {
   "cell_type": "markdown",
   "id": "aa4f60d2-5e3b-41e7-a80a-3b70718e95ab",
   "metadata": {},
   "source": [
    "In the sampling distribution we generated, most of the values are closely centered around the mean difference of 0. This means that if it were purely up to chance, both groups would have lost the same amount of weight (the null hypothesis). But since the observed test statistic is not near 0, it could mean that the weight loss pills could be responsible for the mean difference in the study."
   ]
  },
  {
   "cell_type": "markdown",
   "id": "2636dcbd-8fea-4d0e-9478-6180f132dadc",
   "metadata": {},
   "source": [
    "We can now use the sampling distribution to determine the number of times a value of 2.52 or higher appeared in our simulations. If we divide that frequency by 1000, we'll have the probability of observing a mean difference of 2.52 or higher purely due to random chance."
   ]
  },
  {
   "cell_type": "markdown",
   "id": "90b9aa46-f5bc-4651-a896-5d2b7d3f7c75",
   "metadata": {},
   "source": [
    "This probability is called the `p value`. If this value is high, it means that the difference in the amount of weight both groups lost could have easily happened randomly and the weight loss pills probably didn't play a role. On the other hand, a low p value implies that there's an incredibly small probability that the mean difference we observed was because of random chance."
   ]
  },
  {
   "cell_type": "markdown",
   "id": "23286c2c-72e4-45c1-ad56-239145259393",
   "metadata": {},
   "source": [
    "In general, it's good practice to set the p value threshold before conducting the study:"
   ]
  },
  {
   "cell_type": "markdown",
   "id": "4181e5b6-e112-4299-a12f-ca1b0d8ac0a2",
   "metadata": {},
   "source": [
    "- If the p value is less than the threshold, we:\n",
    "    - reject the null hypothesis that there's no difference in the mean amount of weight lost by participants in both groups; and\n",
    "    - conclude that there is some evidence that the weight loss pill does affect the amount of weight people lost.\n",
    "\n",
    "- If the p value is greater than the threshold, we:\n",
    "    - fail to reject the null hypothesis that there's no difference in the mean amount of weight lost by participants in both groups,\n",
    "    - conclude that the weight loss pill doesn't seem to be effective in helping people lose weight."
   ]
  },
  {
   "cell_type": "markdown",
   "id": "5477fe76-62b5-4440-b235-23d517fb8f68",
   "metadata": {},
   "source": [
    "The most common p value threshold is 0.05 or 5%, which is what we'll use in this lesson. Although .05 is an arbitrary threshold, it means that there's only a 5% chance that the results are due to random chance, which most researchers are comfortable with."
   ]
  },
  {
   "cell_type": "code",
   "execution_count": 26,
   "id": "3eab1370-c027-4905-8903-e0f5d8f757c3",
   "metadata": {},
   "outputs": [
    {
     "data": {
      "text/plain": [
       "0.0"
      ]
     },
     "execution_count": 26,
     "metadata": {},
     "output_type": "execute_result"
    }
   ],
   "source": [
    "frequencies = []\n",
    "\n",
    "for key in sampling_distribution:\n",
    "    if key >= 2.52:\n",
    "        frequencies.append(sampling_distribution[key])\n",
    "\n",
    "p_value = sum(frequencies) / 1000\n",
    "p_value"
   ]
  },
  {
   "cell_type": "markdown",
   "id": "a1773156-56f6-4971-ad48-e90556e8564d",
   "metadata": {},
   "source": [
    "## Caveats"
   ]
  },
  {
   "cell_type": "markdown",
   "id": "5f6e6ea9-c6ad-4089-82af-9b8c92779646",
   "metadata": {},
   "source": [
    "Since the p value of 0 is less than the threshold we set of 0.05, we conclude that the difference in weight lost can't be attributed to random chance alone. We therefore reject the null hypothesis. A few caveats:"
   ]
  },
  {
   "cell_type": "markdown",
   "id": "12977c24-a83f-4b58-bd53-d169000a6dbc",
   "metadata": {},
   "source": [
    "- Research design is incredibly important and can lead to inaccurate results. For example, if the participants in group A realized they were given placebo sugar pills, they may modify their behavior and affect the outcome.\n",
    "- The p value threshold you set can also affect the conclusion you reach.\n",
    "    - If you set too high of a p value threshold, you may reject the null hypothesis incorrectly. This is known as a [type I error](https://en.wikipedia.org/wiki/Type_I_and_type_II_errors).\n",
    "    - If you set too low of a p value threshold, you may fail to reject the null hypothesis incorrectly. This is known as a [type II error](https://en.wikipedia.org/wiki/Type_I_and_type_II_errors).\n"
   ]
  },
  {
   "cell_type": "markdown",
   "id": "88416a14-6966-454c-9e54-a5fd2b9975ff",
   "metadata": {},
   "source": [
    "## Next Steps\r\n",
    "In this lesson, we explored hypothesis testing and the basics of statistical significance using a study that closely represents real world studies. In the next lesson, we'll learn about the chi squared distribution and the chi squared test."
   ]
  },
  {
   "cell_type": "code",
   "execution_count": null,
   "id": "afea1365-b138-4b1f-bafb-87f331d93140",
   "metadata": {},
   "outputs": [],
   "source": []
  }
 ],
 "metadata": {
  "kernelspec": {
   "display_name": "Python 3 (ipykernel)",
   "language": "python",
   "name": "python3"
  },
  "language_info": {
   "codemirror_mode": {
    "name": "ipython",
    "version": 3
   },
   "file_extension": ".py",
   "mimetype": "text/x-python",
   "name": "python",
   "nbconvert_exporter": "python",
   "pygments_lexer": "ipython3",
   "version": "3.12.4"
  }
 },
 "nbformat": 4,
 "nbformat_minor": 5
}
