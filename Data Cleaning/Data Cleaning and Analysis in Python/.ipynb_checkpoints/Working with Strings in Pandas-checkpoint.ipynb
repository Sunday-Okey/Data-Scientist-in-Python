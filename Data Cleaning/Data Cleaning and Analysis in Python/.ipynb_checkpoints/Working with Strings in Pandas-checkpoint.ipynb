{
 "cells": [
  {
   "cell_type": "markdown",
   "id": "d7666b9a-802c-43f1-a585-0aeddd3ee478",
   "metadata": {},
   "source": [
    "## Working with Strings in Pandas"
   ]
  },
  {
   "cell_type": "markdown",
   "id": "77ffda30-a336-4ac2-b3ed-782aa626206d",
   "metadata": {},
   "source": [
    "In the previous lesson, we learned how to use the apply() and map() methods to apply a function to a series or dataframe. While we could certainly use these methods to clean strings in columns, pandas has built in many vectorized string methods that can perform these tasks quicker and with less keystrokes."
   ]
  },
  {
   "cell_type": "markdown",
   "id": "a8f52cb4-7fb1-4817-9b77-f56b41a28be1",
   "metadata": {},
   "source": [
    "In this lesson, we'll learn a couple other string cleaning tasks such as:\n",
    "\n",
    "- Finding specific strings or substrings in columns\n",
    "- Extracting substrings from unstructured data\n",
    "- Removing strings or substrings from a series"
   ]
  },
  {
   "cell_type": "code",
   "execution_count": null,
   "id": "cdea1616-57f0-4623-acf2-e45251013436",
   "metadata": {},
   "outputs": [],
   "source": []
  }
 ],
 "metadata": {
  "kernelspec": {
   "display_name": "Python 3 (ipykernel)",
   "language": "python",
   "name": "python3"
  },
  "language_info": {
   "codemirror_mode": {
    "name": "ipython",
    "version": 3
   },
   "file_extension": ".py",
   "mimetype": "text/x-python",
   "name": "python",
   "nbconvert_exporter": "python",
   "pygments_lexer": "ipython3",
   "version": "3.12.4"
  }
 },
 "nbformat": 4,
 "nbformat_minor": 5
}
