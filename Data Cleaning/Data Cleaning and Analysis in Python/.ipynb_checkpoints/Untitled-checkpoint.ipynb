{
 "cells": [
  {
   "cell_type": "markdown",
   "id": "60d7b064-dfce-464f-bb76-c99a8a7ac360",
   "metadata": {},
   "source": [
    "## Working With Missing And Duplicate Data"
   ]
  },
  {
   "cell_type": "markdown",
   "id": "03e2c6fb-9fcf-4f74-a8d2-47622fbeb180",
   "metadata": {},
   "source": [
    "As we near the end of our course, we'll cover a topic that's essential to any data cleaning workflow - handling missing and duplicate data."
   ]
  },
  {
   "cell_type": "markdown",
   "id": "ea4ee35b-1cde-4703-b189-3a99ebefd96b",
   "metadata": {},
   "source": [
    "Missing or duplicate data may exist in a data set for a number of different reasons. Sometimes, missing or duplicate data is introduced as we perform cleaning and transformation tasks such as:"
   ]
  },
  {
   "cell_type": "markdown",
   "id": "9a1e77e8-8a8a-4cc4-8a6c-00e3136e3622",
   "metadata": {},
   "source": [
    "- Combining data\n",
    "- Reindexing data\n",
    "- Reshaping data"
   ]
  },
  {
   "cell_type": "markdown",
   "id": "e666c4e3-451e-48d5-bd0a-7f1ea6bdd75f",
   "metadata": {},
   "source": [
    "Other times, it exists in the original data set for reasons such as:"
   ]
  },
  {
   "cell_type": "markdown",
   "id": "1d718669-bc4e-4fb3-ba62-00ee1829733c",
   "metadata": {},
   "source": [
    "- User input error\n",
    "- Data storage or conversion issues"
   ]
  },
  {
   "cell_type": "markdown",
   "id": "fa80cb02-5064-470d-aaf4-0d8c45b1dc79",
   "metadata": {},
   "source": [
    "In the case of missing values, they may also exist in the original data set to purposely indicate that data is unavailable."
   ]
  },
  {
   "cell_type": "code",
   "execution_count": null,
   "id": "3eeb8962-3f64-4b22-9b22-9996392ec9a3",
   "metadata": {},
   "outputs": [],
   "source": []
  }
 ],
 "metadata": {
  "kernelspec": {
   "display_name": "Python 3 (ipykernel)",
   "language": "python",
   "name": "python3"
  },
  "language_info": {
   "codemirror_mode": {
    "name": "ipython",
    "version": 3
   },
   "file_extension": ".py",
   "mimetype": "text/x-python",
   "name": "python",
   "nbconvert_exporter": "python",
   "pygments_lexer": "ipython3",
   "version": "3.12.4"
  }
 },
 "nbformat": 4,
 "nbformat_minor": 5
}
