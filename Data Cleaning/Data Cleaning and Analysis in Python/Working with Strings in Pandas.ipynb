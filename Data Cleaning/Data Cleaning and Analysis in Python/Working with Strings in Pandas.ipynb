{
 "cells": [
  {
   "cell_type": "markdown",
   "id": "d7666b9a-802c-43f1-a585-0aeddd3ee478",
   "metadata": {},
   "source": [
    "## Working with Strings in Pandas"
   ]
  },
  {
   "cell_type": "markdown",
   "id": "77ffda30-a336-4ac2-b3ed-782aa626206d",
   "metadata": {},
   "source": [
    "In the previous lesson, we learned how to use the apply() and map() methods to apply a function to a series or dataframe. While we could certainly use these methods to clean strings in columns, pandas has built in many vectorized string methods that can perform these tasks quicker and with less keystrokes."
   ]
  },
  {
   "cell_type": "markdown",
   "id": "a8f52cb4-7fb1-4817-9b77-f56b41a28be1",
   "metadata": {},
   "source": [
    "In this lesson, we'll learn a couple other string cleaning tasks such as:\n",
    "\n",
    "- Finding specific strings or substrings in columns\n",
    "- Extracting substrings from unstructured data\n",
    "- Removing strings or substrings from a series"
   ]
  },
  {
   "cell_type": "markdown",
   "id": "e408d74c-1388-4954-af48-fb7abd37ce69",
   "metadata": {},
   "source": [
    "As we learn these tasks, we'll also work to build intuition around how these string methods operate so that you can explore methods we haven't explicitly covered on your own."
   ]
  },
  {
   "cell_type": "markdown",
   "id": "28be0439-7873-4b8e-b173-e8a554223b13",
   "metadata": {},
   "source": [
    "We'll work with the 2015 World Happiness Report again and additional economic data from the World Bank. You can find the data set [here](https://www.kaggle.com/datasets/kaggle/world-development-indicators). Here's a preview of the data set:"
   ]
  },
  {
   "cell_type": "code",
   "execution_count": 1,
   "id": "cefdcad8-8e09-4430-9799-2bbd7308dd98",
   "metadata": {},
   "outputs": [],
   "source": [
    "import pandas as pd\n",
    "import numpy as np\n",
    "import matplotlib.pyplot as plt"
   ]
  },
  {
   "cell_type": "markdown",
   "id": "f4db1c99-b3f6-4227-a404-3a14762fec26",
   "metadata": {},
   "source": [
    "Below are descriptions for the columns we'll be working with:"
   ]
  },
  {
   "cell_type": "code",
   "execution_count": 2,
   "id": "4959378d-1f91-4a24-bfc4-ed00a05e3dfb",
   "metadata": {},
   "outputs": [
    {
     "data": {
      "text/html": [
       "<div>\n",
       "<style scoped>\n",
       "    .dataframe tbody tr th:only-of-type {\n",
       "        vertical-align: middle;\n",
       "    }\n",
       "\n",
       "    .dataframe tbody tr th {\n",
       "        vertical-align: top;\n",
       "    }\n",
       "\n",
       "    .dataframe thead th {\n",
       "        text-align: right;\n",
       "    }\n",
       "</style>\n",
       "<table border=\"1\" class=\"dataframe\">\n",
       "  <thead>\n",
       "    <tr style=\"text-align: right;\">\n",
       "      <th></th>\n",
       "      <th>Country</th>\n",
       "      <th>Region</th>\n",
       "      <th>Happiness Rank</th>\n",
       "      <th>Happiness Score</th>\n",
       "      <th>Standard Error</th>\n",
       "      <th>Economy (GDP per Capita)</th>\n",
       "      <th>Family</th>\n",
       "      <th>Health (Life Expectancy)</th>\n",
       "      <th>Freedom</th>\n",
       "      <th>Trust (Government Corruption)</th>\n",
       "      <th>Generosity</th>\n",
       "      <th>Dystopia Residual</th>\n",
       "    </tr>\n",
       "  </thead>\n",
       "  <tbody>\n",
       "    <tr>\n",
       "      <th>0</th>\n",
       "      <td>Switzerland</td>\n",
       "      <td>Western Europe</td>\n",
       "      <td>1</td>\n",
       "      <td>7.587</td>\n",
       "      <td>0.03411</td>\n",
       "      <td>1.39651</td>\n",
       "      <td>1.34951</td>\n",
       "      <td>0.94143</td>\n",
       "      <td>0.66557</td>\n",
       "      <td>0.41978</td>\n",
       "      <td>0.29678</td>\n",
       "      <td>2.51738</td>\n",
       "    </tr>\n",
       "    <tr>\n",
       "      <th>1</th>\n",
       "      <td>Iceland</td>\n",
       "      <td>Western Europe</td>\n",
       "      <td>2</td>\n",
       "      <td>7.561</td>\n",
       "      <td>0.04884</td>\n",
       "      <td>1.30232</td>\n",
       "      <td>1.40223</td>\n",
       "      <td>0.94784</td>\n",
       "      <td>0.62877</td>\n",
       "      <td>0.14145</td>\n",
       "      <td>0.43630</td>\n",
       "      <td>2.70201</td>\n",
       "    </tr>\n",
       "    <tr>\n",
       "      <th>2</th>\n",
       "      <td>Denmark</td>\n",
       "      <td>Western Europe</td>\n",
       "      <td>3</td>\n",
       "      <td>7.527</td>\n",
       "      <td>0.03328</td>\n",
       "      <td>1.32548</td>\n",
       "      <td>1.36058</td>\n",
       "      <td>0.87464</td>\n",
       "      <td>0.64938</td>\n",
       "      <td>0.48357</td>\n",
       "      <td>0.34139</td>\n",
       "      <td>2.49204</td>\n",
       "    </tr>\n",
       "    <tr>\n",
       "      <th>3</th>\n",
       "      <td>Norway</td>\n",
       "      <td>Western Europe</td>\n",
       "      <td>4</td>\n",
       "      <td>7.522</td>\n",
       "      <td>0.03880</td>\n",
       "      <td>1.45900</td>\n",
       "      <td>1.33095</td>\n",
       "      <td>0.88521</td>\n",
       "      <td>0.66973</td>\n",
       "      <td>0.36503</td>\n",
       "      <td>0.34699</td>\n",
       "      <td>2.46531</td>\n",
       "    </tr>\n",
       "    <tr>\n",
       "      <th>4</th>\n",
       "      <td>Canada</td>\n",
       "      <td>North America</td>\n",
       "      <td>5</td>\n",
       "      <td>7.427</td>\n",
       "      <td>0.03553</td>\n",
       "      <td>1.32629</td>\n",
       "      <td>1.32261</td>\n",
       "      <td>0.90563</td>\n",
       "      <td>0.63297</td>\n",
       "      <td>0.32957</td>\n",
       "      <td>0.45811</td>\n",
       "      <td>2.45176</td>\n",
       "    </tr>\n",
       "  </tbody>\n",
       "</table>\n",
       "</div>"
      ],
      "text/plain": [
       "       Country          Region  Happiness Rank  Happiness Score  \\\n",
       "0  Switzerland  Western Europe               1            7.587   \n",
       "1      Iceland  Western Europe               2            7.561   \n",
       "2      Denmark  Western Europe               3            7.527   \n",
       "3       Norway  Western Europe               4            7.522   \n",
       "4       Canada   North America               5            7.427   \n",
       "\n",
       "   Standard Error  Economy (GDP per Capita)   Family  \\\n",
       "0         0.03411                   1.39651  1.34951   \n",
       "1         0.04884                   1.30232  1.40223   \n",
       "2         0.03328                   1.32548  1.36058   \n",
       "3         0.03880                   1.45900  1.33095   \n",
       "4         0.03553                   1.32629  1.32261   \n",
       "\n",
       "   Health (Life Expectancy)  Freedom  Trust (Government Corruption)  \\\n",
       "0                   0.94143  0.66557                        0.41978   \n",
       "1                   0.94784  0.62877                        0.14145   \n",
       "2                   0.87464  0.64938                        0.48357   \n",
       "3                   0.88521  0.66973                        0.36503   \n",
       "4                   0.90563  0.63297                        0.32957   \n",
       "\n",
       "   Generosity  Dystopia Residual  \n",
       "0     0.29678            2.51738  \n",
       "1     0.43630            2.70201  \n",
       "2     0.34139            2.49204  \n",
       "3     0.34699            2.46531  \n",
       "4     0.45811            2.45176  "
      ]
     },
     "execution_count": 2,
     "metadata": {},
     "output_type": "execute_result"
    }
   ],
   "source": [
    "happiness2015 = pd.read_csv('../../Datasets/World_Happiness_2015.csv')\n",
    "happiness2015.head()"
   ]
  },
  {
   "cell_type": "code",
   "execution_count": 3,
   "id": "7d6152d0-92dc-45bf-9edc-e53e6c602a3a",
   "metadata": {},
   "outputs": [
    {
     "data": {
      "text/html": [
       "<div>\n",
       "<style scoped>\n",
       "    .dataframe tbody tr th:only-of-type {\n",
       "        vertical-align: middle;\n",
       "    }\n",
       "\n",
       "    .dataframe tbody tr th {\n",
       "        vertical-align: top;\n",
       "    }\n",
       "\n",
       "    .dataframe thead th {\n",
       "        text-align: right;\n",
       "    }\n",
       "</style>\n",
       "<table border=\"1\" class=\"dataframe\">\n",
       "  <thead>\n",
       "    <tr style=\"text-align: right;\">\n",
       "      <th></th>\n",
       "      <th>CountryCode</th>\n",
       "      <th>ShortName</th>\n",
       "      <th>TableName</th>\n",
       "      <th>LongName</th>\n",
       "      <th>Alpha2Code</th>\n",
       "      <th>CurrencyUnit</th>\n",
       "      <th>SpecialNotes</th>\n",
       "      <th>Region</th>\n",
       "      <th>IncomeGroup</th>\n",
       "      <th>Wb2Code</th>\n",
       "      <th>...</th>\n",
       "      <th>GovernmentAccountingConcept</th>\n",
       "      <th>ImfDataDisseminationStandard</th>\n",
       "      <th>LatestPopulationCensus</th>\n",
       "      <th>LatestHouseholdSurvey</th>\n",
       "      <th>SourceOfMostRecentIncomeAndExpenditureData</th>\n",
       "      <th>VitalRegistrationComplete</th>\n",
       "      <th>LatestAgriculturalCensus</th>\n",
       "      <th>LatestIndustrialData</th>\n",
       "      <th>LatestTradeData</th>\n",
       "      <th>LatestWaterWithdrawalData</th>\n",
       "    </tr>\n",
       "  </thead>\n",
       "  <tbody>\n",
       "    <tr>\n",
       "      <th>0</th>\n",
       "      <td>AFG</td>\n",
       "      <td>Afghanistan</td>\n",
       "      <td>Afghanistan</td>\n",
       "      <td>Islamic State of Afghanistan</td>\n",
       "      <td>AF</td>\n",
       "      <td>Afghan afghani</td>\n",
       "      <td>Fiscal year end: March 20; reporting period fo...</td>\n",
       "      <td>South Asia</td>\n",
       "      <td>Low income</td>\n",
       "      <td>AF</td>\n",
       "      <td>...</td>\n",
       "      <td>Consolidated central government</td>\n",
       "      <td>General Data Dissemination System (GDDS)</td>\n",
       "      <td>1979</td>\n",
       "      <td>Multiple Indicator Cluster Survey (MICS), 2010/11</td>\n",
       "      <td>Integrated household survey (IHS), 2008</td>\n",
       "      <td>NaN</td>\n",
       "      <td>2013/14</td>\n",
       "      <td>NaN</td>\n",
       "      <td>2013.0</td>\n",
       "      <td>2000.0</td>\n",
       "    </tr>\n",
       "    <tr>\n",
       "      <th>1</th>\n",
       "      <td>ALB</td>\n",
       "      <td>Albania</td>\n",
       "      <td>Albania</td>\n",
       "      <td>Republic of Albania</td>\n",
       "      <td>AL</td>\n",
       "      <td>Albanian lek</td>\n",
       "      <td>NaN</td>\n",
       "      <td>Europe &amp; Central Asia</td>\n",
       "      <td>Upper middle income</td>\n",
       "      <td>AL</td>\n",
       "      <td>...</td>\n",
       "      <td>Budgetary central government</td>\n",
       "      <td>General Data Dissemination System (GDDS)</td>\n",
       "      <td>2011</td>\n",
       "      <td>Demographic and Health Survey (DHS), 2008/09</td>\n",
       "      <td>Living Standards Measurement Study Survey (LSM...</td>\n",
       "      <td>Yes</td>\n",
       "      <td>2012</td>\n",
       "      <td>2011.0</td>\n",
       "      <td>2013.0</td>\n",
       "      <td>2006.0</td>\n",
       "    </tr>\n",
       "    <tr>\n",
       "      <th>2</th>\n",
       "      <td>DZA</td>\n",
       "      <td>Algeria</td>\n",
       "      <td>Algeria</td>\n",
       "      <td>People's Democratic Republic of Algeria</td>\n",
       "      <td>DZ</td>\n",
       "      <td>Algerian dinar</td>\n",
       "      <td>NaN</td>\n",
       "      <td>Middle East &amp; North Africa</td>\n",
       "      <td>Upper middle income</td>\n",
       "      <td>DZ</td>\n",
       "      <td>...</td>\n",
       "      <td>Budgetary central government</td>\n",
       "      <td>General Data Dissemination System (GDDS)</td>\n",
       "      <td>2008</td>\n",
       "      <td>Multiple Indicator Cluster Survey (MICS), 2012</td>\n",
       "      <td>Integrated household survey (IHS), 1995</td>\n",
       "      <td>NaN</td>\n",
       "      <td>NaN</td>\n",
       "      <td>2010.0</td>\n",
       "      <td>2013.0</td>\n",
       "      <td>2001.0</td>\n",
       "    </tr>\n",
       "    <tr>\n",
       "      <th>3</th>\n",
       "      <td>ASM</td>\n",
       "      <td>American Samoa</td>\n",
       "      <td>American Samoa</td>\n",
       "      <td>American Samoa</td>\n",
       "      <td>AS</td>\n",
       "      <td>U.S. dollar</td>\n",
       "      <td>NaN</td>\n",
       "      <td>East Asia &amp; Pacific</td>\n",
       "      <td>Upper middle income</td>\n",
       "      <td>AS</td>\n",
       "      <td>...</td>\n",
       "      <td>NaN</td>\n",
       "      <td>NaN</td>\n",
       "      <td>2010</td>\n",
       "      <td>NaN</td>\n",
       "      <td>NaN</td>\n",
       "      <td>Yes</td>\n",
       "      <td>2007</td>\n",
       "      <td>NaN</td>\n",
       "      <td>NaN</td>\n",
       "      <td>NaN</td>\n",
       "    </tr>\n",
       "    <tr>\n",
       "      <th>4</th>\n",
       "      <td>ADO</td>\n",
       "      <td>Andorra</td>\n",
       "      <td>Andorra</td>\n",
       "      <td>Principality of Andorra</td>\n",
       "      <td>AD</td>\n",
       "      <td>Euro</td>\n",
       "      <td>NaN</td>\n",
       "      <td>Europe &amp; Central Asia</td>\n",
       "      <td>High income: nonOECD</td>\n",
       "      <td>AD</td>\n",
       "      <td>...</td>\n",
       "      <td>NaN</td>\n",
       "      <td>NaN</td>\n",
       "      <td>2011. Population data compiled from administra...</td>\n",
       "      <td>NaN</td>\n",
       "      <td>NaN</td>\n",
       "      <td>Yes</td>\n",
       "      <td>NaN</td>\n",
       "      <td>NaN</td>\n",
       "      <td>2006.0</td>\n",
       "      <td>NaN</td>\n",
       "    </tr>\n",
       "  </tbody>\n",
       "</table>\n",
       "<p>5 rows × 31 columns</p>\n",
       "</div>"
      ],
      "text/plain": [
       "  CountryCode       ShortName       TableName  \\\n",
       "0         AFG     Afghanistan     Afghanistan   \n",
       "1         ALB         Albania         Albania   \n",
       "2         DZA         Algeria         Algeria   \n",
       "3         ASM  American Samoa  American Samoa   \n",
       "4         ADO         Andorra         Andorra   \n",
       "\n",
       "                                  LongName Alpha2Code    CurrencyUnit  \\\n",
       "0             Islamic State of Afghanistan         AF  Afghan afghani   \n",
       "1                      Republic of Albania         AL    Albanian lek   \n",
       "2  People's Democratic Republic of Algeria         DZ  Algerian dinar   \n",
       "3                           American Samoa         AS     U.S. dollar   \n",
       "4                  Principality of Andorra         AD            Euro   \n",
       "\n",
       "                                        SpecialNotes  \\\n",
       "0  Fiscal year end: March 20; reporting period fo...   \n",
       "1                                                NaN   \n",
       "2                                                NaN   \n",
       "3                                                NaN   \n",
       "4                                                NaN   \n",
       "\n",
       "                       Region           IncomeGroup Wb2Code  ...  \\\n",
       "0                  South Asia            Low income      AF  ...   \n",
       "1       Europe & Central Asia   Upper middle income      AL  ...   \n",
       "2  Middle East & North Africa   Upper middle income      DZ  ...   \n",
       "3         East Asia & Pacific   Upper middle income      AS  ...   \n",
       "4       Europe & Central Asia  High income: nonOECD      AD  ...   \n",
       "\n",
       "       GovernmentAccountingConcept              ImfDataDisseminationStandard  \\\n",
       "0  Consolidated central government  General Data Dissemination System (GDDS)   \n",
       "1     Budgetary central government  General Data Dissemination System (GDDS)   \n",
       "2     Budgetary central government  General Data Dissemination System (GDDS)   \n",
       "3                              NaN                                       NaN   \n",
       "4                              NaN                                       NaN   \n",
       "\n",
       "                              LatestPopulationCensus  \\\n",
       "0                                               1979   \n",
       "1                                               2011   \n",
       "2                                               2008   \n",
       "3                                               2010   \n",
       "4  2011. Population data compiled from administra...   \n",
       "\n",
       "                               LatestHouseholdSurvey  \\\n",
       "0  Multiple Indicator Cluster Survey (MICS), 2010/11   \n",
       "1       Demographic and Health Survey (DHS), 2008/09   \n",
       "2     Multiple Indicator Cluster Survey (MICS), 2012   \n",
       "3                                                NaN   \n",
       "4                                                NaN   \n",
       "\n",
       "          SourceOfMostRecentIncomeAndExpenditureData  \\\n",
       "0            Integrated household survey (IHS), 2008   \n",
       "1  Living Standards Measurement Study Survey (LSM...   \n",
       "2            Integrated household survey (IHS), 1995   \n",
       "3                                                NaN   \n",
       "4                                                NaN   \n",
       "\n",
       "  VitalRegistrationComplete LatestAgriculturalCensus LatestIndustrialData  \\\n",
       "0                       NaN                  2013/14                  NaN   \n",
       "1                       Yes                     2012               2011.0   \n",
       "2                       NaN                      NaN               2010.0   \n",
       "3                       Yes                     2007                  NaN   \n",
       "4                       Yes                      NaN                  NaN   \n",
       "\n",
       "  LatestTradeData LatestWaterWithdrawalData  \n",
       "0          2013.0                    2000.0  \n",
       "1          2013.0                    2006.0  \n",
       "2          2013.0                    2001.0  \n",
       "3             NaN                       NaN  \n",
       "4          2006.0                       NaN  \n",
       "\n",
       "[5 rows x 31 columns]"
      ]
     },
     "execution_count": 3,
     "metadata": {},
     "output_type": "execute_result"
    }
   ],
   "source": [
    "world_dev = pd.read_csv(\"../../Datasets/World_dev.csv\")\n",
    "world_dev.head()"
   ]
  },
  {
   "cell_type": "markdown",
   "id": "c5d2af20-7a3b-45b0-bc77-2a44e9379b5b",
   "metadata": {},
   "source": [
    "Below are descriptions for the columns we'll be working with:"
   ]
  },
  {
   "cell_type": "markdown",
   "id": "2c6de24a-8a69-40b7-8a43-da8df10a6eed",
   "metadata": {},
   "source": [
    "- ShortName - Name of the country\n",
    "- Region - The region the country belongs to\n",
    "- IncomeGroup - The income group the country belongs to, based on Gross National Income (GNI) per capita\n",
    "- CurrencyUnit - Name of country's currency\n",
    "- SourceOfMostRecentIncomeAndExpenditureData - The name of the survey used to collect the income and expenditure data\n",
    "- SpecialNotes - Contains any miscellaneous notes about the data"
   ]
  },
  {
   "cell_type": "code",
   "execution_count": 4,
   "id": "d4136465-4d5c-47b5-aa6f-19bbd8e054e3",
   "metadata": {},
   "outputs": [
    {
     "data": {
      "text/plain": [
       "(158, 12)"
      ]
     },
     "execution_count": 4,
     "metadata": {},
     "output_type": "execute_result"
    }
   ],
   "source": [
    "happiness2015.shape"
   ]
  },
  {
   "cell_type": "code",
   "execution_count": 5,
   "id": "6257438f-d52e-4e8a-b163-36610c047e7f",
   "metadata": {},
   "outputs": [
    {
     "data": {
      "text/plain": [
       "(247, 31)"
      ]
     },
     "execution_count": 5,
     "metadata": {},
     "output_type": "execute_result"
    }
   ],
   "source": [
    "world_dev.shape"
   ]
  },
  {
   "cell_type": "code",
   "execution_count": 6,
   "id": "fb570396-7c59-4ce6-b8ef-6dafe5836815",
   "metadata": {},
   "outputs": [
    {
     "data": {
      "text/html": [
       "<div>\n",
       "<style scoped>\n",
       "    .dataframe tbody tr th:only-of-type {\n",
       "        vertical-align: middle;\n",
       "    }\n",
       "\n",
       "    .dataframe tbody tr th {\n",
       "        vertical-align: top;\n",
       "    }\n",
       "\n",
       "    .dataframe thead th {\n",
       "        text-align: right;\n",
       "    }\n",
       "</style>\n",
       "<table border=\"1\" class=\"dataframe\">\n",
       "  <thead>\n",
       "    <tr style=\"text-align: right;\">\n",
       "      <th></th>\n",
       "      <th>Country</th>\n",
       "      <th>Region_x</th>\n",
       "      <th>Happiness Rank</th>\n",
       "      <th>Happiness Score</th>\n",
       "      <th>Standard Error</th>\n",
       "      <th>Economy (GDP per Capita)</th>\n",
       "      <th>Family</th>\n",
       "      <th>Health (Life Expectancy)</th>\n",
       "      <th>Freedom</th>\n",
       "      <th>Trust (Government Corruption)</th>\n",
       "      <th>...</th>\n",
       "      <th>GovernmentAccountingConcept</th>\n",
       "      <th>ImfDataDisseminationStandard</th>\n",
       "      <th>LatestPopulationCensus</th>\n",
       "      <th>LatestHouseholdSurvey</th>\n",
       "      <th>SourceOfMostRecentIncomeAndExpenditureData</th>\n",
       "      <th>VitalRegistrationComplete</th>\n",
       "      <th>LatestAgriculturalCensus</th>\n",
       "      <th>LatestIndustrialData</th>\n",
       "      <th>LatestTradeData</th>\n",
       "      <th>LatestWaterWithdrawalData</th>\n",
       "    </tr>\n",
       "  </thead>\n",
       "  <tbody>\n",
       "    <tr>\n",
       "      <th>0</th>\n",
       "      <td>Switzerland</td>\n",
       "      <td>Western Europe</td>\n",
       "      <td>1</td>\n",
       "      <td>7.587</td>\n",
       "      <td>0.03411</td>\n",
       "      <td>1.39651</td>\n",
       "      <td>1.34951</td>\n",
       "      <td>0.94143</td>\n",
       "      <td>0.66557</td>\n",
       "      <td>0.41978</td>\n",
       "      <td>...</td>\n",
       "      <td>Consolidated central government</td>\n",
       "      <td>Special Data Dissemination Standard (SDDS)</td>\n",
       "      <td>2010</td>\n",
       "      <td>NaN</td>\n",
       "      <td>Expenditure survey/budget survey (ES/BS), 2004</td>\n",
       "      <td>Yes</td>\n",
       "      <td>2008</td>\n",
       "      <td>2010.0</td>\n",
       "      <td>2013.0</td>\n",
       "      <td>2000.0</td>\n",
       "    </tr>\n",
       "    <tr>\n",
       "      <th>1</th>\n",
       "      <td>Iceland</td>\n",
       "      <td>Western Europe</td>\n",
       "      <td>2</td>\n",
       "      <td>7.561</td>\n",
       "      <td>0.04884</td>\n",
       "      <td>1.30232</td>\n",
       "      <td>1.40223</td>\n",
       "      <td>0.94784</td>\n",
       "      <td>0.62877</td>\n",
       "      <td>0.14145</td>\n",
       "      <td>...</td>\n",
       "      <td>Consolidated central government</td>\n",
       "      <td>Special Data Dissemination Standard (SDDS)</td>\n",
       "      <td>2011</td>\n",
       "      <td>NaN</td>\n",
       "      <td>Integrated household survey (IHS), 2010</td>\n",
       "      <td>Yes</td>\n",
       "      <td>2010</td>\n",
       "      <td>2005.0</td>\n",
       "      <td>2013.0</td>\n",
       "      <td>2005.0</td>\n",
       "    </tr>\n",
       "    <tr>\n",
       "      <th>2</th>\n",
       "      <td>Denmark</td>\n",
       "      <td>Western Europe</td>\n",
       "      <td>3</td>\n",
       "      <td>7.527</td>\n",
       "      <td>0.03328</td>\n",
       "      <td>1.32548</td>\n",
       "      <td>1.36058</td>\n",
       "      <td>0.87464</td>\n",
       "      <td>0.64938</td>\n",
       "      <td>0.48357</td>\n",
       "      <td>...</td>\n",
       "      <td>Consolidated central government</td>\n",
       "      <td>Special Data Dissemination Standard (SDDS)</td>\n",
       "      <td>2011</td>\n",
       "      <td>NaN</td>\n",
       "      <td>Income tax registers (ITR), 2010</td>\n",
       "      <td>Yes</td>\n",
       "      <td>2010</td>\n",
       "      <td>2010.0</td>\n",
       "      <td>2013.0</td>\n",
       "      <td>2009.0</td>\n",
       "    </tr>\n",
       "    <tr>\n",
       "      <th>3</th>\n",
       "      <td>Norway</td>\n",
       "      <td>Western Europe</td>\n",
       "      <td>4</td>\n",
       "      <td>7.522</td>\n",
       "      <td>0.03880</td>\n",
       "      <td>1.45900</td>\n",
       "      <td>1.33095</td>\n",
       "      <td>0.88521</td>\n",
       "      <td>0.66973</td>\n",
       "      <td>0.36503</td>\n",
       "      <td>...</td>\n",
       "      <td>Consolidated central government</td>\n",
       "      <td>Special Data Dissemination Standard (SDDS)</td>\n",
       "      <td>2011</td>\n",
       "      <td>NaN</td>\n",
       "      <td>Income survey (IS), 2010</td>\n",
       "      <td>Yes</td>\n",
       "      <td>2010</td>\n",
       "      <td>2010.0</td>\n",
       "      <td>2013.0</td>\n",
       "      <td>2006.0</td>\n",
       "    </tr>\n",
       "    <tr>\n",
       "      <th>4</th>\n",
       "      <td>Canada</td>\n",
       "      <td>North America</td>\n",
       "      <td>5</td>\n",
       "      <td>7.427</td>\n",
       "      <td>0.03553</td>\n",
       "      <td>1.32629</td>\n",
       "      <td>1.32261</td>\n",
       "      <td>0.90563</td>\n",
       "      <td>0.63297</td>\n",
       "      <td>0.32957</td>\n",
       "      <td>...</td>\n",
       "      <td>Consolidated central government</td>\n",
       "      <td>Special Data Dissemination Standard (SDDS)</td>\n",
       "      <td>2011</td>\n",
       "      <td>NaN</td>\n",
       "      <td>Labor force survey (LFS), 2010</td>\n",
       "      <td>Yes</td>\n",
       "      <td>2011</td>\n",
       "      <td>2011.0</td>\n",
       "      <td>2013.0</td>\n",
       "      <td>1986.0</td>\n",
       "    </tr>\n",
       "  </tbody>\n",
       "</table>\n",
       "<p>5 rows × 43 columns</p>\n",
       "</div>"
      ],
      "text/plain": [
       "       Country        Region_x  Happiness Rank  Happiness Score  \\\n",
       "0  Switzerland  Western Europe               1            7.587   \n",
       "1      Iceland  Western Europe               2            7.561   \n",
       "2      Denmark  Western Europe               3            7.527   \n",
       "3       Norway  Western Europe               4            7.522   \n",
       "4       Canada   North America               5            7.427   \n",
       "\n",
       "   Standard Error  Economy (GDP per Capita)   Family  \\\n",
       "0         0.03411                   1.39651  1.34951   \n",
       "1         0.04884                   1.30232  1.40223   \n",
       "2         0.03328                   1.32548  1.36058   \n",
       "3         0.03880                   1.45900  1.33095   \n",
       "4         0.03553                   1.32629  1.32261   \n",
       "\n",
       "   Health (Life Expectancy)  Freedom  Trust (Government Corruption)  ...  \\\n",
       "0                   0.94143  0.66557                        0.41978  ...   \n",
       "1                   0.94784  0.62877                        0.14145  ...   \n",
       "2                   0.87464  0.64938                        0.48357  ...   \n",
       "3                   0.88521  0.66973                        0.36503  ...   \n",
       "4                   0.90563  0.63297                        0.32957  ...   \n",
       "\n",
       "       GovernmentAccountingConcept  \\\n",
       "0  Consolidated central government   \n",
       "1  Consolidated central government   \n",
       "2  Consolidated central government   \n",
       "3  Consolidated central government   \n",
       "4  Consolidated central government   \n",
       "\n",
       "                 ImfDataDisseminationStandard LatestPopulationCensus  \\\n",
       "0  Special Data Dissemination Standard (SDDS)                   2010   \n",
       "1  Special Data Dissemination Standard (SDDS)                   2011   \n",
       "2  Special Data Dissemination Standard (SDDS)                   2011   \n",
       "3  Special Data Dissemination Standard (SDDS)                   2011   \n",
       "4  Special Data Dissemination Standard (SDDS)                   2011   \n",
       "\n",
       "  LatestHouseholdSurvey      SourceOfMostRecentIncomeAndExpenditureData  \\\n",
       "0                   NaN  Expenditure survey/budget survey (ES/BS), 2004   \n",
       "1                   NaN         Integrated household survey (IHS), 2010   \n",
       "2                   NaN                Income tax registers (ITR), 2010   \n",
       "3                   NaN                        Income survey (IS), 2010   \n",
       "4                   NaN                  Labor force survey (LFS), 2010   \n",
       "\n",
       "  VitalRegistrationComplete LatestAgriculturalCensus LatestIndustrialData  \\\n",
       "0                       Yes                     2008               2010.0   \n",
       "1                       Yes                     2010               2005.0   \n",
       "2                       Yes                     2010               2010.0   \n",
       "3                       Yes                     2010               2010.0   \n",
       "4                       Yes                     2011               2011.0   \n",
       "\n",
       "  LatestTradeData LatestWaterWithdrawalData  \n",
       "0          2013.0                    2000.0  \n",
       "1          2013.0                    2005.0  \n",
       "2          2013.0                    2009.0  \n",
       "3          2013.0                    2006.0  \n",
       "4          2013.0                    1986.0  \n",
       "\n",
       "[5 rows x 43 columns]"
      ]
     },
     "execution_count": 6,
     "metadata": {},
     "output_type": "execute_result"
    }
   ],
   "source": [
    "# combine the dataframes\n",
    "merged = pd.merge(left=happiness2015, right=world_dev, how='left', left_on='Country',\n",
    "        right_on='ShortName')\n",
    "merged.head()"
   ]
  },
  {
   "cell_type": "code",
   "execution_count": 7,
   "id": "5c4aa634-99aa-46af-9b45-8cbbe0f2c5ac",
   "metadata": {},
   "outputs": [],
   "source": [
    "merged.rename({'SourceOfMostRecentIncomeAndExpenditureData':'IESurvey'},\n",
    "             axis=1, inplace=True)"
   ]
  },
  {
   "cell_type": "markdown",
   "id": "624d1aa3-c9f6-4bda-889f-5772c8b76ba3",
   "metadata": {},
   "source": [
    "##  Using Apply to Transform Strings"
   ]
  },
  {
   "cell_type": "markdown",
   "id": "93d4a371-ded3-4cc3-a566-ce6bec8683fd",
   "metadata": {},
   "source": [
    "In the last step, we combined happiness2015 and world_dev and assigned the result to merged. Below are the first five rows of merged (after removing some of the columns we don't need):\n"
   ]
  },
  {
   "cell_type": "code",
   "execution_count": 8,
   "id": "318333e8-814c-454b-ba97-3e987cd9b95d",
   "metadata": {},
   "outputs": [
    {
     "data": {
      "text/html": [
       "<div>\n",
       "<style scoped>\n",
       "    .dataframe tbody tr th:only-of-type {\n",
       "        vertical-align: middle;\n",
       "    }\n",
       "\n",
       "    .dataframe tbody tr th {\n",
       "        vertical-align: top;\n",
       "    }\n",
       "\n",
       "    .dataframe thead th {\n",
       "        text-align: right;\n",
       "    }\n",
       "</style>\n",
       "<table border=\"1\" class=\"dataframe\">\n",
       "  <thead>\n",
       "    <tr style=\"text-align: right;\">\n",
       "      <th></th>\n",
       "      <th>Country</th>\n",
       "      <th>Region_x</th>\n",
       "      <th>Happiness Rank</th>\n",
       "      <th>Happiness Score</th>\n",
       "      <th>Standard Error</th>\n",
       "      <th>Economy (GDP per Capita)</th>\n",
       "      <th>Family</th>\n",
       "      <th>Health (Life Expectancy)</th>\n",
       "      <th>Freedom</th>\n",
       "      <th>Trust (Government Corruption)</th>\n",
       "      <th>...</th>\n",
       "      <th>GovernmentAccountingConcept</th>\n",
       "      <th>ImfDataDisseminationStandard</th>\n",
       "      <th>LatestPopulationCensus</th>\n",
       "      <th>LatestHouseholdSurvey</th>\n",
       "      <th>IESurvey</th>\n",
       "      <th>VitalRegistrationComplete</th>\n",
       "      <th>LatestAgriculturalCensus</th>\n",
       "      <th>LatestIndustrialData</th>\n",
       "      <th>LatestTradeData</th>\n",
       "      <th>LatestWaterWithdrawalData</th>\n",
       "    </tr>\n",
       "  </thead>\n",
       "  <tbody>\n",
       "    <tr>\n",
       "      <th>0</th>\n",
       "      <td>Switzerland</td>\n",
       "      <td>Western Europe</td>\n",
       "      <td>1</td>\n",
       "      <td>7.587</td>\n",
       "      <td>0.03411</td>\n",
       "      <td>1.39651</td>\n",
       "      <td>1.34951</td>\n",
       "      <td>0.94143</td>\n",
       "      <td>0.66557</td>\n",
       "      <td>0.41978</td>\n",
       "      <td>...</td>\n",
       "      <td>Consolidated central government</td>\n",
       "      <td>Special Data Dissemination Standard (SDDS)</td>\n",
       "      <td>2010</td>\n",
       "      <td>NaN</td>\n",
       "      <td>Expenditure survey/budget survey (ES/BS), 2004</td>\n",
       "      <td>Yes</td>\n",
       "      <td>2008</td>\n",
       "      <td>2010.0</td>\n",
       "      <td>2013.0</td>\n",
       "      <td>2000.0</td>\n",
       "    </tr>\n",
       "    <tr>\n",
       "      <th>1</th>\n",
       "      <td>Iceland</td>\n",
       "      <td>Western Europe</td>\n",
       "      <td>2</td>\n",
       "      <td>7.561</td>\n",
       "      <td>0.04884</td>\n",
       "      <td>1.30232</td>\n",
       "      <td>1.40223</td>\n",
       "      <td>0.94784</td>\n",
       "      <td>0.62877</td>\n",
       "      <td>0.14145</td>\n",
       "      <td>...</td>\n",
       "      <td>Consolidated central government</td>\n",
       "      <td>Special Data Dissemination Standard (SDDS)</td>\n",
       "      <td>2011</td>\n",
       "      <td>NaN</td>\n",
       "      <td>Integrated household survey (IHS), 2010</td>\n",
       "      <td>Yes</td>\n",
       "      <td>2010</td>\n",
       "      <td>2005.0</td>\n",
       "      <td>2013.0</td>\n",
       "      <td>2005.0</td>\n",
       "    </tr>\n",
       "    <tr>\n",
       "      <th>2</th>\n",
       "      <td>Denmark</td>\n",
       "      <td>Western Europe</td>\n",
       "      <td>3</td>\n",
       "      <td>7.527</td>\n",
       "      <td>0.03328</td>\n",
       "      <td>1.32548</td>\n",
       "      <td>1.36058</td>\n",
       "      <td>0.87464</td>\n",
       "      <td>0.64938</td>\n",
       "      <td>0.48357</td>\n",
       "      <td>...</td>\n",
       "      <td>Consolidated central government</td>\n",
       "      <td>Special Data Dissemination Standard (SDDS)</td>\n",
       "      <td>2011</td>\n",
       "      <td>NaN</td>\n",
       "      <td>Income tax registers (ITR), 2010</td>\n",
       "      <td>Yes</td>\n",
       "      <td>2010</td>\n",
       "      <td>2010.0</td>\n",
       "      <td>2013.0</td>\n",
       "      <td>2009.0</td>\n",
       "    </tr>\n",
       "    <tr>\n",
       "      <th>3</th>\n",
       "      <td>Norway</td>\n",
       "      <td>Western Europe</td>\n",
       "      <td>4</td>\n",
       "      <td>7.522</td>\n",
       "      <td>0.03880</td>\n",
       "      <td>1.45900</td>\n",
       "      <td>1.33095</td>\n",
       "      <td>0.88521</td>\n",
       "      <td>0.66973</td>\n",
       "      <td>0.36503</td>\n",
       "      <td>...</td>\n",
       "      <td>Consolidated central government</td>\n",
       "      <td>Special Data Dissemination Standard (SDDS)</td>\n",
       "      <td>2011</td>\n",
       "      <td>NaN</td>\n",
       "      <td>Income survey (IS), 2010</td>\n",
       "      <td>Yes</td>\n",
       "      <td>2010</td>\n",
       "      <td>2010.0</td>\n",
       "      <td>2013.0</td>\n",
       "      <td>2006.0</td>\n",
       "    </tr>\n",
       "    <tr>\n",
       "      <th>4</th>\n",
       "      <td>Canada</td>\n",
       "      <td>North America</td>\n",
       "      <td>5</td>\n",
       "      <td>7.427</td>\n",
       "      <td>0.03553</td>\n",
       "      <td>1.32629</td>\n",
       "      <td>1.32261</td>\n",
       "      <td>0.90563</td>\n",
       "      <td>0.63297</td>\n",
       "      <td>0.32957</td>\n",
       "      <td>...</td>\n",
       "      <td>Consolidated central government</td>\n",
       "      <td>Special Data Dissemination Standard (SDDS)</td>\n",
       "      <td>2011</td>\n",
       "      <td>NaN</td>\n",
       "      <td>Labor force survey (LFS), 2010</td>\n",
       "      <td>Yes</td>\n",
       "      <td>2011</td>\n",
       "      <td>2011.0</td>\n",
       "      <td>2013.0</td>\n",
       "      <td>1986.0</td>\n",
       "    </tr>\n",
       "  </tbody>\n",
       "</table>\n",
       "<p>5 rows × 43 columns</p>\n",
       "</div>"
      ],
      "text/plain": [
       "       Country        Region_x  Happiness Rank  Happiness Score  \\\n",
       "0  Switzerland  Western Europe               1            7.587   \n",
       "1      Iceland  Western Europe               2            7.561   \n",
       "2      Denmark  Western Europe               3            7.527   \n",
       "3       Norway  Western Europe               4            7.522   \n",
       "4       Canada   North America               5            7.427   \n",
       "\n",
       "   Standard Error  Economy (GDP per Capita)   Family  \\\n",
       "0         0.03411                   1.39651  1.34951   \n",
       "1         0.04884                   1.30232  1.40223   \n",
       "2         0.03328                   1.32548  1.36058   \n",
       "3         0.03880                   1.45900  1.33095   \n",
       "4         0.03553                   1.32629  1.32261   \n",
       "\n",
       "   Health (Life Expectancy)  Freedom  Trust (Government Corruption)  ...  \\\n",
       "0                   0.94143  0.66557                        0.41978  ...   \n",
       "1                   0.94784  0.62877                        0.14145  ...   \n",
       "2                   0.87464  0.64938                        0.48357  ...   \n",
       "3                   0.88521  0.66973                        0.36503  ...   \n",
       "4                   0.90563  0.63297                        0.32957  ...   \n",
       "\n",
       "       GovernmentAccountingConcept  \\\n",
       "0  Consolidated central government   \n",
       "1  Consolidated central government   \n",
       "2  Consolidated central government   \n",
       "3  Consolidated central government   \n",
       "4  Consolidated central government   \n",
       "\n",
       "                 ImfDataDisseminationStandard LatestPopulationCensus  \\\n",
       "0  Special Data Dissemination Standard (SDDS)                   2010   \n",
       "1  Special Data Dissemination Standard (SDDS)                   2011   \n",
       "2  Special Data Dissemination Standard (SDDS)                   2011   \n",
       "3  Special Data Dissemination Standard (SDDS)                   2011   \n",
       "4  Special Data Dissemination Standard (SDDS)                   2011   \n",
       "\n",
       "  LatestHouseholdSurvey                                        IESurvey  \\\n",
       "0                   NaN  Expenditure survey/budget survey (ES/BS), 2004   \n",
       "1                   NaN         Integrated household survey (IHS), 2010   \n",
       "2                   NaN                Income tax registers (ITR), 2010   \n",
       "3                   NaN                        Income survey (IS), 2010   \n",
       "4                   NaN                  Labor force survey (LFS), 2010   \n",
       "\n",
       "  VitalRegistrationComplete LatestAgriculturalCensus LatestIndustrialData  \\\n",
       "0                       Yes                     2008               2010.0   \n",
       "1                       Yes                     2010               2005.0   \n",
       "2                       Yes                     2010               2010.0   \n",
       "3                       Yes                     2010               2010.0   \n",
       "4                       Yes                     2011               2011.0   \n",
       "\n",
       "  LatestTradeData LatestWaterWithdrawalData  \n",
       "0          2013.0                    2000.0  \n",
       "1          2013.0                    2005.0  \n",
       "2          2013.0                    2009.0  \n",
       "3          2013.0                    2006.0  \n",
       "4          2013.0                    1986.0  \n",
       "\n",
       "[5 rows x 43 columns]"
      ]
     },
     "execution_count": 8,
     "metadata": {},
     "output_type": "execute_result"
    }
   ],
   "source": [
    "merged.head()"
   ]
  },
  {
   "cell_type": "markdown",
   "id": "0a86991a-d76e-4301-8853-a73331a79e42",
   "metadata": {},
   "source": [
    "Let's work with the CurrencyUnit column first. Suppose we wanted to extract the unit of currency without the leading nationality. For example, instead of \"Danish krone\" or \"Norwegian krone\", we just needed \"krone\"."
   ]
  },
  {
   "cell_type": "markdown",
   "id": "e3e47acb-7f60-4452-832a-2d352c41b341",
   "metadata": {},
   "source": [
    "If we wanted to complete this task for just one of the strings, we could use Python's [string.split() method](https://docs.python.org/3/library/stdtypes.html):"
   ]
  },
  {
   "cell_type": "code",
   "execution_count": 9,
   "id": "320437f1-a38f-43b2-858e-f68d484fce74",
   "metadata": {},
   "outputs": [
    {
     "data": {
      "text/plain": [
       "'krone'"
      ]
     },
     "execution_count": 9,
     "metadata": {},
     "output_type": "execute_result"
    }
   ],
   "source": [
    "words = 'Danish krone'\n",
    "\n",
    "# Use the string.split() method to return the following list: ['Danish', 'krone']\n",
    "listwords = words.split()\n",
    "\n",
    "# Use the index -1 to return the last word of the list.\n",
    "listwords[-1]"
   ]
  },
  {
   "cell_type": "markdown",
   "id": "fdc6fb5b-c480-4280-9c75-055df9acfad2",
   "metadata": {},
   "source": [
    "Now, to repeat this task for each element in the Series, let's return to a concept we learned in the previous lesson - the [Series.apply() method](https://pandas.pydata.org/pandas-docs/stable/reference/api/pandas.Series.apply.html)."
   ]
  },
  {
   "cell_type": "code",
   "execution_count": 10,
   "id": "d62877ac-5df5-4828-b28d-e6b156d4dff4",
   "metadata": {},
   "outputs": [
    {
     "data": {
      "text/plain": [
       "0                 Swiss franc\n",
       "1               Iceland krona\n",
       "2                Danish krone\n",
       "3             Norwegian krone\n",
       "4             Canadian dollar\n",
       "                ...          \n",
       "153             Rwandan franc\n",
       "154    West African CFA franc\n",
       "155                       NaN\n",
       "156             Burundi franc\n",
       "157    West African CFA franc\n",
       "Name: CurrencyUnit, Length: 158, dtype: object"
      ]
     },
     "execution_count": 10,
     "metadata": {},
     "output_type": "execute_result"
    }
   ],
   "source": [
    "merged['CurrencyUnit']"
   ]
  },
  {
   "cell_type": "code",
   "execution_count": 11,
   "id": "cda1249b-7a7d-40b8-b4a0-b0f102557f12",
   "metadata": {},
   "outputs": [],
   "source": [
    "def extract(element):\n",
    "    return str(element).split()[-1]"
   ]
  },
  {
   "cell_type": "code",
   "execution_count": 12,
   "id": "b53a7ffa-1354-434b-9f1b-dbdbc57a1137",
   "metadata": {},
   "outputs": [],
   "source": [
    "merged['Currency Apply'] = merged['CurrencyUnit'].apply(extract)"
   ]
  },
  {
   "cell_type": "code",
   "execution_count": 13,
   "id": "113d2b08-3800-41fe-a47d-bfab4204124d",
   "metadata": {},
   "outputs": [
    {
     "data": {
      "text/plain": [
       "0                 Swiss franc\n",
       "1               Iceland krona\n",
       "2                Danish krone\n",
       "3             Norwegian krone\n",
       "4             Canadian dollar\n",
       "                ...          \n",
       "153             Rwandan franc\n",
       "154    West African CFA franc\n",
       "155                       NaN\n",
       "156             Burundi franc\n",
       "157    West African CFA franc\n",
       "Name: CurrencyUnit, Length: 158, dtype: object"
      ]
     },
     "execution_count": 13,
     "metadata": {},
     "output_type": "execute_result"
    }
   ],
   "source": [
    "merged['CurrencyUnit']"
   ]
  },
  {
   "cell_type": "code",
   "execution_count": 14,
   "id": "9a21046f-81fd-48d6-a549-0503f2e85a53",
   "metadata": {},
   "outputs": [
    {
     "data": {
      "text/plain": [
       "0     franc\n",
       "1     krona\n",
       "2     krone\n",
       "3     krone\n",
       "4    dollar\n",
       "Name: Currency Apply, dtype: object"
      ]
     },
     "execution_count": 14,
     "metadata": {},
     "output_type": "execute_result"
    }
   ],
   "source": [
    "merged['Currency Apply'].head()"
   ]
  },
  {
   "cell_type": "markdown",
   "id": "9aa74de7-4879-4aae-b03a-8eacf604a520",
   "metadata": {},
   "source": [
    "## Vectorized String Methods Overview"
   ]
  },
  {
   "cell_type": "markdown",
   "id": "c2b5e6a7-def1-497a-9d1b-99f949706020",
   "metadata": {},
   "source": [
    "In the last exercise, we extracted the last word of each element in the CurrencyUnit column using the Series.apply() method. However, we also learned in the last lesson that we should use built-in vectorized methods (if they exist) instead of the Series.apply() method for performance reasons."
   ]
  },
  {
   "cell_type": "markdown",
   "id": "fb072598-e20b-4334-9ede-0bdf0f73859c",
   "metadata": {},
   "source": [
    "Instead, we could've split each element in the CurrencyUnit column into a list of strings with the [Series.str.split() method](https://pandas.pydata.org/pandas-docs/stable/reference/api/pandas.Series.str.split.html), the vectorized equivalent of Python's string.split() method:"
   ]
  },
  {
   "attachments": {
    "7454de22-4430-4677-97ff-cd088496a120.png": {
     "image/png": "[encoded data removed]"
    }
   },
   "cell_type": "markdown",
   "id": "d9f7cbf4-31ba-4cce-9e33-52565071a69e",
   "metadata": {},
   "source": [
    "![image.png](attachment:7454de22-4430-4677-97ff-cd088496a120.png)"
   ]
  },
  {
   "cell_type": "markdown",
   "id": "b088c380-c764-47c0-8345-b1d29cd2c7c4",
   "metadata": {},
   "source": [
    "In fact, pandas has built in a number of vectorized methods that perform the same operations for strings in series as Python string methods."
   ]
  },
  {
   "cell_type": "markdown",
   "id": "ee134fd9-e9bc-43cf-a30d-9d70b104d5ce",
   "metadata": {},
   "source": [
    "Below are some common vectorized string methods, but you can find the full list [here](https://pandas.pydata.org/pandas-docs/stable/user_guide/text.html#method-summary):"
   ]
  },
  {
   "attachments": {
    "d05c423e-6672-4d0e-8ceb-52df14df0aae.png": {
     "image/png": "[encoded data removed]"
    }
   },
   "cell_type": "markdown",
   "id": "618961d0-989d-4c8f-aa4e-a4f582b19cb5",
   "metadata": {},
   "source": [
    "![image.png](attachment:d05c423e-6672-4d0e-8ceb-52df14df0aae.png)"
   ]
  },
  {
   "cell_type": "markdown",
   "id": "86fd9cb1-b09d-4e68-8b6d-c09be3360fd9",
   "metadata": {},
   "source": [
    "We access these vectorized string methods by adding a str between the Series name and method name:"
   ]
  },
  {
   "attachments": {
    "51075156-f84b-4e7e-aef2-da6e88816533.png": {
     "image/png": "[encoded data removed]"
    }
   },
   "cell_type": "markdown",
   "id": "b6604cb2-6fa2-4ae4-953a-6f8a310f03f2",
   "metadata": {},
   "source": [
    "![image.png](attachment:51075156-f84b-4e7e-aef2-da6e88816533.png)\n"
   ]
  },
  {
   "cell_type": "markdown",
   "id": "bc989611-844d-4271-82b1-ee314ac9deb1",
   "metadata": {},
   "source": [
    "The str attribute indicates that each object in the Series should be treated as a string, without us having to explicitly change the type to a string like we did when using the apply method."
   ]
  },
  {
   "cell_type": "markdown",
   "id": "5efa5238-ad4a-4fed-9fdb-852c2c952703",
   "metadata": {},
   "source": [
    "Note that we can also slice each element in the Series to extract characters, but we'd still need to use the str attribute. For example, below we access the first five characters in each element of the CurrencyUnit column:"
   ]
  },
  {
   "cell_type": "code",
   "execution_count": 18,
   "id": "8b453b0f-132a-4709-bcda-3ec870e451dd",
   "metadata": {},
   "outputs": [
    {
     "data": {
      "text/plain": [
       "0      Swiss\n",
       "1      Icela\n",
       "2      Danis\n",
       "3      Norwe\n",
       "4      Canad\n",
       "       ...  \n",
       "153    Rwand\n",
       "154    West \n",
       "155      NaN\n",
       "156    Burun\n",
       "157    West \n",
       "Name: CurrencyUnit, Length: 158, dtype: object"
      ]
     },
     "execution_count": 18,
     "metadata": {},
     "output_type": "execute_result"
    }
   ],
   "source": [
    "merged['CurrencyUnit'].str[0:5]"
   ]
  },
  {
   "cell_type": "markdown",
   "id": "63b5031b-2537-4669-a5bd-2bef138d8ea3",
   "metadata": {},
   "source": [
    "It's also good to know that vectorized string methods can be chained. For example, suppose we needed to split each element in the CurrencyUnit column into a list of strings using the Series.str.split() method and capitalize the letters using the Series.str.upper() method. You can use the following syntax to apply more than one method at once:"
   ]
  },
  {
   "cell_type": "code",
   "execution_count": 19,
   "id": "e7590b5e-8e6a-49a7-a8f3-45069f653dea",
   "metadata": {},
   "outputs": [
    {
     "data": {
      "text/plain": [
       "0                   [SWISS, FRANC]\n",
       "1                 [ICELAND, KRONA]\n",
       "2                  [DANISH, KRONE]\n",
       "3               [NORWEGIAN, KRONE]\n",
       "4               [CANADIAN, DOLLAR]\n",
       "                  ...             \n",
       "153               [RWANDAN, FRANC]\n",
       "154    [WEST, AFRICAN, CFA, FRANC]\n",
       "155                            NaN\n",
       "156               [BURUNDI, FRANC]\n",
       "157    [WEST, AFRICAN, CFA, FRANC]\n",
       "Name: CurrencyUnit, Length: 158, dtype: object"
      ]
     },
     "execution_count": 19,
     "metadata": {},
     "output_type": "execute_result"
    }
   ],
   "source": [
    "merged['CurrencyUnit'].str.upper().str.split()"
   ]
  },
  {
   "cell_type": "markdown",
   "id": "a5c283cc-cdca-4016-af7a-d4962537b57f",
   "metadata": {},
   "source": [
    "However, don't forget to include str before each method name, or you'll get an error!\n",
    "\n",
    "Below are the first five rows of the result:"
   ]
  },
  {
   "cell_type": "markdown",
   "id": "a47cc625-76bd-4213-b79f-eea9043db33f",
   "metadata": {},
   "source": [
    "Let's practice using vectorized string methods next."
   ]
  },
  {
   "cell_type": "code",
   "execution_count": 27,
   "id": "012f4418-98f6-4f55-8dc5-bfd53ffb61d6",
   "metadata": {},
   "outputs": [],
   "source": [
    "merged['Currency Vectorized'] = merged['CurrencyUnit'].str.split().str.get(1)"
   ]
  },
  {
   "cell_type": "code",
   "execution_count": 28,
   "id": "dc9d7dc1-fdaf-4cd5-b641-c63a3bd23edd",
   "metadata": {},
   "outputs": [
    {
     "data": {
      "text/plain": [
       "0     franc\n",
       "1     krona\n",
       "2     krone\n",
       "3     krone\n",
       "4    dollar\n",
       "Name: Currency Vectorized, dtype: object"
      ]
     },
     "execution_count": 28,
     "metadata": {},
     "output_type": "execute_result"
    }
   ],
   "source": [
    "merged['Currency Vectorized'].head()"
   ]
  },
  {
   "cell_type": "markdown",
   "id": "009b3343-41fc-4ca5-9efb-83442cc61695",
   "metadata": {},
   "source": [
    "## Exploring Missing Values with Vectorized String Methods"
   ]
  },
  {
   "cell_type": "markdown",
   "id": "a8070277-abfa-4413-b197-702b7f3f6471",
   "metadata": {},
   "source": [
    "We learned that using vectorized string methods results in:\n",
    "\n",
    "- Better performance\n",
    "- Code that is easier to read and write"
   ]
  },
  {
   "cell_type": "markdown",
   "id": "a5cfe828-5138-4db1-8962-669db828f7c9",
   "metadata": {},
   "source": [
    "Let's explore another benefit of using vectorized string methods next. Suppose we wanted to compute the length of each string in the CurrencyUnit column. If we use the Series.apply() method, what happens to the missing values in the column?"
   ]
  },
  {
   "cell_type": "markdown",
   "id": "2aa0d741-bd61-45af-b37b-265755e5a9ae",
   "metadata": {},
   "source": [
    "First, let's use the [Series.isnull() method](https://pandas.pydata.org/pandas-docs/stable/reference/api/pandas.Series.isnull.html) to confirm if there are any missing values in the column:"
   ]
  },
  {
   "cell_type": "code",
   "execution_count": 29,
   "id": "0105ec66-f2ae-4bf5-bc10-3aa94f2f00e4",
   "metadata": {},
   "outputs": [
    {
     "data": {
      "text/plain": [
       "13"
      ]
     },
     "execution_count": 29,
     "metadata": {},
     "output_type": "execute_result"
    }
   ],
   "source": [
    "merged['CurrencyUnit'].isnull().sum()"
   ]
  },
  {
   "cell_type": "markdown",
   "id": "21622b13-9596-4ea7-9851-2acd43abe296",
   "metadata": {},
   "source": [
    "So, we know that the CurrencyUnit column has 13 missing values.\r\n",
    "\r\n",
    "Next, let's create a function to return the length of each currency unit and apply it to the CurrencyUnit column:"
   ]
  },
  {
   "cell_type": "code",
   "execution_count": 30,
   "id": "24fce217-67a6-46b9-a318-18616a89ad16",
   "metadata": {},
   "outputs": [],
   "source": [
    "def compute_lengths(element):\n",
    "    return len(str(element))\n",
    "lengths_apply = merged['CurrencyUnit'].apply(compute_lengths)"
   ]
  },
  {
   "cell_type": "markdown",
   "id": "86f8b6d8-4881-4388-b4b3-5b31bc119ce0",
   "metadata": {},
   "source": [
    "Then, we can check the number of missing values in the result by setting the dropna parameter in the Series.value_counts() method to False:"
   ]
  },
  {
   "cell_type": "code",
   "execution_count": 31,
   "id": "f20cdb78-a720-4f39-88fa-4e14f3e884d9",
   "metadata": {},
   "outputs": [
    {
     "data": {
      "text/plain": [
       "CurrencyUnit\n",
       "14    21\n",
       "4     20\n",
       "12    17\n",
       "13    14\n",
       "3     13\n",
       "15    13\n",
       "16    12\n",
       "18     9\n",
       "17     9\n",
       "11     8\n",
       "22     7\n",
       "25     5\n",
       "19     3\n",
       "9      2\n",
       "26     1\n",
       "23     1\n",
       "10     1\n",
       "39     1\n",
       "20     1\n",
       "Name: count, dtype: int64"
      ]
     },
     "execution_count": 31,
     "metadata": {},
     "output_type": "execute_result"
    }
   ],
   "source": [
    "lengths_apply.value_counts(dropna=False)"
   ]
  },
  {
   "cell_type": "markdown",
   "id": "03b6a0cd-ed19-45e7-8d86-f209061e0c01",
   "metadata": {},
   "source": [
    "Since the original column had 13 missing values and NaN doesn't appear in the list of unique values above, we know our function must have treated NaN as a string and returned a length of 3 for each NaN value. This doesn't make sense - missing values shouldn't be treated as strings. They should instead have been excluded from the calculation."
   ]
  },
  {
   "cell_type": "markdown",
   "id": "c6136c40-e067-4b08-8513-8254cd03c748",
   "metadata": {},
   "source": [
    "If we wanted to exclude missing values, we'd have to update our function to something like this:"
   ]
  },
  {
   "cell_type": "code",
   "execution_count": 62,
   "id": "a6253c1a-9bd1-4680-9e72-04323a45c2aa",
   "metadata": {},
   "outputs": [],
   "source": [
    "def compute_lengths(element):\n",
    "        if pd.isna(element):\n",
    "            pass\n",
    "        else:\n",
    "            return len(str(element))"
   ]
  },
  {
   "cell_type": "code",
   "execution_count": 63,
   "id": "3f4dd9e7-b5fa-44e7-8e2d-8af60a74d3bc",
   "metadata": {},
   "outputs": [
    {
     "data": {
      "text/plain": [
       "0      11.0\n",
       "1      13.0\n",
       "2      12.0\n",
       "3      15.0\n",
       "4      15.0\n",
       "       ... \n",
       "153    13.0\n",
       "154    22.0\n",
       "155     NaN\n",
       "156    13.0\n",
       "157    22.0\n",
       "Name: CurrencyUnit, Length: 158, dtype: float64"
      ]
     },
     "execution_count": 63,
     "metadata": {},
     "output_type": "execute_result"
    }
   ],
   "source": [
    "merged['CurrencyUnit'].apply(compute_lengths)"
   ]
  },
  {
   "cell_type": "markdown",
   "id": "ba5c5b5a-7f08-4b05-a54d-e854209b6c33",
   "metadata": {},
   "source": [
    "Let's confirm the behavior of pandas' vectorized string methods next."
   ]
  },
  {
   "cell_type": "code",
   "execution_count": 64,
   "id": "97c3546b-fc06-435f-a2df-384a40d9a74c",
   "metadata": {},
   "outputs": [
    {
     "data": {
      "text/plain": [
       "0      11.0\n",
       "1      13.0\n",
       "2      12.0\n",
       "3      15.0\n",
       "4      15.0\n",
       "       ... \n",
       "153    13.0\n",
       "154    22.0\n",
       "155     NaN\n",
       "156    13.0\n",
       "157    22.0\n",
       "Name: CurrencyUnit, Length: 158, dtype: float64"
      ]
     },
     "execution_count": 64,
     "metadata": {},
     "output_type": "execute_result"
    }
   ],
   "source": [
    "merged['CurrencyUnit'].str.len()"
   ]
  },
  {
   "cell_type": "code",
   "execution_count": 67,
   "id": "ce80a2a1-7d81-4eff-b248-666ddb25a5fb",
   "metadata": {},
   "outputs": [
    {
     "data": {
      "text/plain": [
       "CurrencyUnit\n",
       "14.0    21\n",
       "4.0     20\n",
       "12.0    17\n",
       "13.0    14\n",
       "NaN     13\n",
       "15.0    13\n",
       "16.0    12\n",
       "18.0     9\n",
       "17.0     9\n",
       "11.0     8\n",
       "22.0     7\n",
       "25.0     5\n",
       "19.0     3\n",
       "9.0      2\n",
       "26.0     1\n",
       "23.0     1\n",
       "10.0     1\n",
       "39.0     1\n",
       "20.0     1\n",
       "Name: count, dtype: int64"
      ]
     },
     "execution_count": 67,
     "metadata": {},
     "output_type": "execute_result"
    }
   ],
   "source": [
    "lengths = merged['CurrencyUnit'].str.len()\n",
    "lengths.value_counts(dropna=False)"
   ]
  },
  {
   "cell_type": "markdown",
   "id": "27e0e2c7-0fd8-45d6-9787-34a6f5ae0487",
   "metadata": {},
   "source": [
    "Series.str.len() method excluded the NaNs and didn't treat them as strings."
   ]
  },
  {
   "cell_type": "markdown",
   "id": "bf3c225e-0d66-4067-8a67-52fce7a4c61f",
   "metadata": {},
   "source": [
    "## Finding Specific Words in Strings"
   ]
  },
  {
   "cell_type": "markdown",
   "id": "5e8b5c47-8214-46c0-b9f9-4cb4416a91b0",
   "metadata": {},
   "source": [
    "In the last exercise, we identified a third benefit of using vectorized string methods - they exclude missing values:\n"
   ]
  },
  {
   "cell_type": "markdown",
   "id": "dc40a00f-5f5b-46c2-af59-04d418cc76cf",
   "metadata": {},
   "source": [
    "\n",
    "- Better performance\n",
    "- Code that is easier to read and write\n",
    "- Automatically excludes missing values"
   ]
  },
  {
   "cell_type": "markdown",
   "id": "049d9b02-4736-4660-a24c-70917b50e72e",
   "metadata": {},
   "source": [
    "Now that we know the benefits of using vectorized string methods, let's practice using them for specific data cleaning tasks."
   ]
  },
  {
   "cell_type": "markdown",
   "id": "33347ced-fa02-4ac6-8dec-15d2e51de04c",
   "metadata": {},
   "source": [
    "Suppose we needed to parse the elements of a Series to find a string or substring that doesn't appear in the same position in each string. For example, let's look at the SpecialNotes column. A number of rows mention \"national accounts\", but the words appear in different places in each comment:"
   ]
  },
  {
   "cell_type": "markdown",
   "id": "88a993da-2c9a-4f38-b870-2f6d233cfddb",
   "metadata": {},
   "source": [
    "April 2013 database update: Based on IMF data, national accounts data were revised for 2000 onward; the **base year** changed to 2002.\r\n",
    "Based on IMF data, national accounts data have been revised for 2005 onward; the new base year is 2005."
   ]
  },
  {
   "cell_type": "markdown",
   "id": "ee6c40e1-94d0-421f-acad-6aac63a7c460",
   "metadata": {},
   "source": [
    "If we wanted to determine how many comments contain this phrase, could we split them into lists? Since the formats are different, how could we tell which element contains the \"national accounts\" phrase?"
   ]
  },
  {
   "cell_type": "markdown",
   "id": "36a7a0ac-b945-48dc-a8d1-8800a3f87d1d",
   "metadata": {},
   "source": [
    "We can handle problems like this with regular expressions, or regex for short. A regular expression is a sequence of characters that defines a search pattern, used to match characters in a string:"
   ]
  },
  {
   "attachments": {
    "4992fea9-4c83-4638-bc60-47bdabeecee0.png": {
     "image/png": "[encoded data removed]"
    }
   },
   "cell_type": "markdown",
   "id": "0b743c37-8e7b-4307-957c-534b6cdbd18b",
   "metadata": {},
   "source": [
    "![image.png](attachment:4992fea9-4c83-4638-bc60-47bdabeecee0.png)"
   ]
  },
  {
   "cell_type": "markdown",
   "id": "ac9b1f83-1ff4-4391-b294-6080481fd4f1",
   "metadata": {},
   "source": [
    "In pandas, regular expression is integrated with vectorized string methods to make finding and extracting patterns of characters easier. However, the rules for creating regular expressions can be quite complex, so don't worry about memorizing them. In this lesson, we'll provide guidance on how to create the regex we need to use for the exercises, but you can also follow along using [this documentation](https://docs.python.org/3/library/re.html)."
   ]
  },
  {
   "cell_type": "code",
   "execution_count": 68,
   "id": "914a6f15-0d83-49b1-bcc5-e2abef474701",
   "metadata": {},
   "outputs": [],
   "source": [
    "pattern = r\"[Nn]ational accounts\""
   ]
  },
  {
   "cell_type": "code",
   "execution_count": 70,
   "id": "cb9e8aee-42b1-498a-8398-8c85f43e9456",
   "metadata": {},
   "outputs": [
    {
     "data": {
      "text/plain": [
       "0       NaN\n",
       "1       NaN\n",
       "2       NaN\n",
       "3       NaN\n",
       "4      True\n",
       "       ... \n",
       "153    True\n",
       "154     NaN\n",
       "155     NaN\n",
       "156     NaN\n",
       "157    True\n",
       "Name: SpecialNotes, Length: 158, dtype: object"
      ]
     },
     "execution_count": 70,
     "metadata": {},
     "output_type": "execute_result"
    }
   ],
   "source": [
    "merged['SpecialNotes'].str.contains(pattern)"
   ]
  },
  {
   "cell_type": "code",
   "execution_count": 71,
   "id": "f645b504-97c3-4d98-ba1b-b915df2c17bb",
   "metadata": {},
   "outputs": [
    {
     "name": "stdout",
     "output_type": "stream",
     "text": [
      "0     NaN\n",
      "1     NaN\n",
      "2     NaN\n",
      "3     NaN\n",
      "4    True\n",
      "Name: SpecialNotes, dtype: object\n"
     ]
    }
   ],
   "source": [
    "pattern = r\"[Nn]ational accounts\"\n",
    "\n",
    "\n",
    "national_accounts = merged['SpecialNotes'].str.contains(pattern)\n",
    "print(national_accounts.head())"
   ]
  },
  {
   "cell_type": "markdown",
   "id": "813e945d-3c8c-431c-a171-a34bc582c3f0",
   "metadata": {},
   "source": [
    "In the last screen, we used the Series.str.contains() method to see if a specific phrase appeared in a series. The result was a series containing True, False, and missing values:"
   ]
  },
  {
   "cell_type": "code",
   "execution_count": 72,
   "id": "a6f0390c-d745-4bbf-8a0a-372da8fd1f69",
   "metadata": {},
   "outputs": [
    {
     "data": {
      "text/plain": [
       "SpecialNotes\n",
       "NaN      65\n",
       "True     54\n",
       "False    39\n",
       "Name: count, dtype: int64"
      ]
     },
     "execution_count": 72,
     "metadata": {},
     "output_type": "execute_result"
    }
   ],
   "source": [
    "national_accounts = merged['SpecialNotes'].str.contains(r\"[Nn]ational accounts\")\n",
    "\n",
    "#Return the value counts for each value in the Series, including missing values.\n",
    "national_accounts.value_counts(dropna=False)"
   ]
  },
  {
   "cell_type": "markdown",
   "id": "835a03a2-a0b5-4030-a2c7-8efa1a1e6ba4",
   "metadata": {},
   "source": [
    "Now, we should be able to use boolean indexing to return only the rows that contain \"national accounts\" or \"National accounts\" in the SpecialNotes column:"
   ]
  },
  {
   "cell_type": "code",
   "execution_count": 73,
   "id": "4b5f5664-a64c-45bf-ba48-afb41646c795",
   "metadata": {},
   "outputs": [
    {
     "ename": "ValueError",
     "evalue": "Cannot mask with non-boolean array containing NA / NaN values",
     "output_type": "error",
     "traceback": [
      "\u001b[1;31m---------------------------------------------------------------------------\u001b[0m",
      "\u001b[1;31mValueError\u001b[0m                                Traceback (most recent call last)",
      "Cell \u001b[1;32mIn[73], line 1\u001b[0m\n\u001b[1;32m----> 1\u001b[0m \u001b[43mmerged\u001b[49m\u001b[43m[\u001b[49m\u001b[43mnational_accounts\u001b[49m\u001b[43m]\u001b[49m\n",
      "File \u001b[1;32mC:\\ProgramData\\anaconda3\\Lib\\site-packages\\pandas\\core\\frame.py:4092\u001b[0m, in \u001b[0;36mDataFrame.__getitem__\u001b[1;34m(self, key)\u001b[0m\n\u001b[0;32m   4089\u001b[0m     \u001b[38;5;28;01mreturn\u001b[39;00m \u001b[38;5;28mself\u001b[39m\u001b[38;5;241m.\u001b[39mwhere(key)\n\u001b[0;32m   4091\u001b[0m \u001b[38;5;66;03m# Do we have a (boolean) 1d indexer?\u001b[39;00m\n\u001b[1;32m-> 4092\u001b[0m \u001b[38;5;28;01mif\u001b[39;00m \u001b[43mcom\u001b[49m\u001b[38;5;241;43m.\u001b[39;49m\u001b[43mis_bool_indexer\u001b[49m\u001b[43m(\u001b[49m\u001b[43mkey\u001b[49m\u001b[43m)\u001b[49m:\n\u001b[0;32m   4093\u001b[0m     \u001b[38;5;28;01mreturn\u001b[39;00m \u001b[38;5;28mself\u001b[39m\u001b[38;5;241m.\u001b[39m_getitem_bool_array(key)\n\u001b[0;32m   4095\u001b[0m \u001b[38;5;66;03m# We are left with two options: a single key, and a collection of keys,\u001b[39;00m\n\u001b[0;32m   4096\u001b[0m \u001b[38;5;66;03m# We interpret tuples as collections only for non-MultiIndex\u001b[39;00m\n",
      "File \u001b[1;32mC:\\ProgramData\\anaconda3\\Lib\\site-packages\\pandas\\core\\common.py:136\u001b[0m, in \u001b[0;36mis_bool_indexer\u001b[1;34m(key)\u001b[0m\n\u001b[0;32m    132\u001b[0m     na_msg \u001b[38;5;241m=\u001b[39m \u001b[38;5;124m\"\u001b[39m\u001b[38;5;124mCannot mask with non-boolean array containing NA / NaN values\u001b[39m\u001b[38;5;124m\"\u001b[39m\n\u001b[0;32m    133\u001b[0m     \u001b[38;5;28;01mif\u001b[39;00m lib\u001b[38;5;241m.\u001b[39mis_bool_array(key_array, skipna\u001b[38;5;241m=\u001b[39m\u001b[38;5;28;01mTrue\u001b[39;00m):\n\u001b[0;32m    134\u001b[0m         \u001b[38;5;66;03m# Don't raise on e.g. [\"A\", \"B\", np.nan], see\u001b[39;00m\n\u001b[0;32m    135\u001b[0m         \u001b[38;5;66;03m#  test_loc_getitem_list_of_labels_categoricalindex_with_na\u001b[39;00m\n\u001b[1;32m--> 136\u001b[0m         \u001b[38;5;28;01mraise\u001b[39;00m \u001b[38;5;167;01mValueError\u001b[39;00m(na_msg)\n\u001b[0;32m    137\u001b[0m     \u001b[38;5;28;01mreturn\u001b[39;00m \u001b[38;5;28;01mFalse\u001b[39;00m\n\u001b[0;32m    138\u001b[0m \u001b[38;5;28;01mreturn\u001b[39;00m \u001b[38;5;28;01mTrue\u001b[39;00m\n",
      "\u001b[1;31mValueError\u001b[0m: Cannot mask with non-boolean array containing NA / NaN values"
     ]
    }
   ],
   "source": [
    "merged[national_accounts]"
   ]
  },
  {
   "cell_type": "markdown",
   "id": "1ba22cba-7201-4670-83e6-30ad4ff6cf5a",
   "metadata": {},
   "source": [
    "It looks like we got an error now because of the NaN values! One way we could fix this is to change the NaN values to False in national_accounts."
   ]
  },
  {
   "attachments": {
    "9f936b98-b3b2-4e43-9274-8f1519d9eae7.png": {
     "image/png": "[encoded data removed]"
    }
   },
   "cell_type": "markdown",
   "id": "80275775-1520-4a5c-8802-311fef23e706",
   "metadata": {},
   "source": [
    "![image.png](attachment:9f936b98-b3b2-4e43-9274-8f1519d9eae7.png)"
   ]
  },
  {
   "cell_type": "code",
   "execution_count": 78,
   "id": "04a166a4-1855-42b3-85d4-5480cf1d1f1c",
   "metadata": {},
   "outputs": [
    {
     "data": {
      "text/html": [
       "<div>\n",
       "<style scoped>\n",
       "    .dataframe tbody tr th:only-of-type {\n",
       "        vertical-align: middle;\n",
       "    }\n",
       "\n",
       "    .dataframe tbody tr th {\n",
       "        vertical-align: top;\n",
       "    }\n",
       "\n",
       "    .dataframe thead th {\n",
       "        text-align: right;\n",
       "    }\n",
       "</style>\n",
       "<table border=\"1\" class=\"dataframe\">\n",
       "  <thead>\n",
       "    <tr style=\"text-align: right;\">\n",
       "      <th></th>\n",
       "      <th>Country</th>\n",
       "      <th>Region_x</th>\n",
       "      <th>Happiness Rank</th>\n",
       "      <th>Happiness Score</th>\n",
       "      <th>Standard Error</th>\n",
       "      <th>Economy (GDP per Capita)</th>\n",
       "      <th>Family</th>\n",
       "      <th>Health (Life Expectancy)</th>\n",
       "      <th>Freedom</th>\n",
       "      <th>Trust (Government Corruption)</th>\n",
       "      <th>...</th>\n",
       "      <th>LatestPopulationCensus</th>\n",
       "      <th>LatestHouseholdSurvey</th>\n",
       "      <th>IESurvey</th>\n",
       "      <th>VitalRegistrationComplete</th>\n",
       "      <th>LatestAgriculturalCensus</th>\n",
       "      <th>LatestIndustrialData</th>\n",
       "      <th>LatestTradeData</th>\n",
       "      <th>LatestWaterWithdrawalData</th>\n",
       "      <th>Currency Apply</th>\n",
       "      <th>Currency Vectorized</th>\n",
       "    </tr>\n",
       "  </thead>\n",
       "  <tbody>\n",
       "    <tr>\n",
       "      <th>4</th>\n",
       "      <td>Canada</td>\n",
       "      <td>North America</td>\n",
       "      <td>5</td>\n",
       "      <td>7.427</td>\n",
       "      <td>0.03553</td>\n",
       "      <td>1.32629</td>\n",
       "      <td>1.32261</td>\n",
       "      <td>0.90563</td>\n",
       "      <td>0.63297</td>\n",
       "      <td>0.32957</td>\n",
       "      <td>...</td>\n",
       "      <td>2011</td>\n",
       "      <td>NaN</td>\n",
       "      <td>Labor force survey (LFS), 2010</td>\n",
       "      <td>Yes</td>\n",
       "      <td>2011</td>\n",
       "      <td>2011.0</td>\n",
       "      <td>2013.0</td>\n",
       "      <td>1986.0</td>\n",
       "      <td>dollar</td>\n",
       "      <td>dollar</td>\n",
       "    </tr>\n",
       "    <tr>\n",
       "      <th>7</th>\n",
       "      <td>Sweden</td>\n",
       "      <td>Western Europe</td>\n",
       "      <td>8</td>\n",
       "      <td>7.364</td>\n",
       "      <td>0.03157</td>\n",
       "      <td>1.33171</td>\n",
       "      <td>1.28907</td>\n",
       "      <td>0.91087</td>\n",
       "      <td>0.65980</td>\n",
       "      <td>0.43844</td>\n",
       "      <td>...</td>\n",
       "      <td>2011</td>\n",
       "      <td>NaN</td>\n",
       "      <td>Income survey (IS), 2005</td>\n",
       "      <td>Yes</td>\n",
       "      <td>2010</td>\n",
       "      <td>2010.0</td>\n",
       "      <td>2013.0</td>\n",
       "      <td>2007.0</td>\n",
       "      <td>krona</td>\n",
       "      <td>krona</td>\n",
       "    </tr>\n",
       "    <tr>\n",
       "      <th>8</th>\n",
       "      <td>New Zealand</td>\n",
       "      <td>Australia and New Zealand</td>\n",
       "      <td>9</td>\n",
       "      <td>7.286</td>\n",
       "      <td>0.03371</td>\n",
       "      <td>1.25018</td>\n",
       "      <td>1.31967</td>\n",
       "      <td>0.90837</td>\n",
       "      <td>0.63938</td>\n",
       "      <td>0.42922</td>\n",
       "      <td>...</td>\n",
       "      <td>2013</td>\n",
       "      <td>NaN</td>\n",
       "      <td>NaN</td>\n",
       "      <td>Yes</td>\n",
       "      <td>2012</td>\n",
       "      <td>2010.0</td>\n",
       "      <td>2013.0</td>\n",
       "      <td>2002.0</td>\n",
       "      <td>dollar</td>\n",
       "      <td>Zealand</td>\n",
       "    </tr>\n",
       "    <tr>\n",
       "      <th>9</th>\n",
       "      <td>Australia</td>\n",
       "      <td>Australia and New Zealand</td>\n",
       "      <td>10</td>\n",
       "      <td>7.284</td>\n",
       "      <td>0.04083</td>\n",
       "      <td>1.33358</td>\n",
       "      <td>1.30923</td>\n",
       "      <td>0.93156</td>\n",
       "      <td>0.65124</td>\n",
       "      <td>0.35637</td>\n",
       "      <td>...</td>\n",
       "      <td>2011</td>\n",
       "      <td>NaN</td>\n",
       "      <td>Expenditure survey/budget survey (ES/BS), 2003</td>\n",
       "      <td>Yes</td>\n",
       "      <td>2011</td>\n",
       "      <td>2011.0</td>\n",
       "      <td>2013.0</td>\n",
       "      <td>2000.0</td>\n",
       "      <td>dollar</td>\n",
       "      <td>dollar</td>\n",
       "    </tr>\n",
       "    <tr>\n",
       "      <th>14</th>\n",
       "      <td>United States</td>\n",
       "      <td>North America</td>\n",
       "      <td>15</td>\n",
       "      <td>7.119</td>\n",
       "      <td>0.03839</td>\n",
       "      <td>1.39451</td>\n",
       "      <td>1.24711</td>\n",
       "      <td>0.86179</td>\n",
       "      <td>0.54604</td>\n",
       "      <td>0.15890</td>\n",
       "      <td>...</td>\n",
       "      <td>2010</td>\n",
       "      <td>NaN</td>\n",
       "      <td>Labor force survey (LFS), 2010</td>\n",
       "      <td>Yes</td>\n",
       "      <td>2012</td>\n",
       "      <td>2008.0</td>\n",
       "      <td>2013.0</td>\n",
       "      <td>2005.0</td>\n",
       "      <td>dollar</td>\n",
       "      <td>dollar</td>\n",
       "    </tr>\n",
       "  </tbody>\n",
       "</table>\n",
       "<p>5 rows × 45 columns</p>\n",
       "</div>"
      ],
      "text/plain": [
       "          Country                   Region_x  Happiness Rank  Happiness Score  \\\n",
       "4          Canada              North America               5            7.427   \n",
       "7          Sweden             Western Europe               8            7.364   \n",
       "8     New Zealand  Australia and New Zealand               9            7.286   \n",
       "9       Australia  Australia and New Zealand              10            7.284   \n",
       "14  United States              North America              15            7.119   \n",
       "\n",
       "    Standard Error  Economy (GDP per Capita)   Family  \\\n",
       "4          0.03553                   1.32629  1.32261   \n",
       "7          0.03157                   1.33171  1.28907   \n",
       "8          0.03371                   1.25018  1.31967   \n",
       "9          0.04083                   1.33358  1.30923   \n",
       "14         0.03839                   1.39451  1.24711   \n",
       "\n",
       "    Health (Life Expectancy)  Freedom  Trust (Government Corruption)  ...  \\\n",
       "4                    0.90563  0.63297                        0.32957  ...   \n",
       "7                    0.91087  0.65980                        0.43844  ...   \n",
       "8                    0.90837  0.63938                        0.42922  ...   \n",
       "9                    0.93156  0.65124                        0.35637  ...   \n",
       "14                   0.86179  0.54604                        0.15890  ...   \n",
       "\n",
       "    LatestPopulationCensus  LatestHouseholdSurvey  \\\n",
       "4                     2011                    NaN   \n",
       "7                     2011                    NaN   \n",
       "8                     2013                    NaN   \n",
       "9                     2011                    NaN   \n",
       "14                    2010                    NaN   \n",
       "\n",
       "                                          IESurvey VitalRegistrationComplete  \\\n",
       "4                   Labor force survey (LFS), 2010                       Yes   \n",
       "7                         Income survey (IS), 2005                       Yes   \n",
       "8                                              NaN                       Yes   \n",
       "9   Expenditure survey/budget survey (ES/BS), 2003                       Yes   \n",
       "14                  Labor force survey (LFS), 2010                       Yes   \n",
       "\n",
       "   LatestAgriculturalCensus LatestIndustrialData LatestTradeData  \\\n",
       "4                      2011               2011.0          2013.0   \n",
       "7                      2010               2010.0          2013.0   \n",
       "8                      2012               2010.0          2013.0   \n",
       "9                      2011               2011.0          2013.0   \n",
       "14                     2012               2008.0          2013.0   \n",
       "\n",
       "   LatestWaterWithdrawalData Currency Apply Currency Vectorized  \n",
       "4                     1986.0         dollar              dollar  \n",
       "7                     2007.0          krona               krona  \n",
       "8                     2002.0         dollar             Zealand  \n",
       "9                     2000.0         dollar              dollar  \n",
       "14                    2005.0         dollar              dollar  \n",
       "\n",
       "[5 rows x 45 columns]"
      ]
     },
     "execution_count": 78,
     "metadata": {},
     "output_type": "execute_result"
    }
   ],
   "source": [
    "national_accounts = merged['SpecialNotes'].str.contains(pattern,na=False)\n",
    "merged_national_accounts = merged[national_accounts]\n",
    "merged_national_accounts.head()"
   ]
  },
  {
   "cell_type": "markdown",
   "id": "236c0d73-42d6-4cfa-86e1-f25a179e7bfe",
   "metadata": {},
   "source": [
    "##  Extracting Substrings from a Series"
   ]
  },
  {
   "cell_type": "markdown",
   "id": "a9e8cefa-966d-4922-8fc1-d2ec97b1301a",
   "metadata": {},
   "source": [
    "In the last screen, we learned how to use regular expressions and the Series.str.contains() method to search for patterns of characters in a column and index the dataframe based on the matches. Let's continue exploring the versatility of regular expressions while learning a new task - extracting characters from strings."
   ]
  },
  {
   "cell_type": "markdown",
   "id": "000aa804-f8f8-4216-9d61-194e32a861dd",
   "metadata": {},
   "source": [
    "Suppose we wanted to extract any year mentioned in the SpecialNotes column. Notice that the characters in a year follow a specific pattern:"
   ]
  },
  {
   "attachments": {
    "77b4f94e-bfa1-42ab-a6b3-810111472718.png": {
     "image/png": "[encoded data removed]"
    }
   },
   "cell_type": "markdown",
   "id": "af10f0cd-e883-4f13-be5b-6fa9ae48dce5",
   "metadata": {},
   "source": [
    "![image.png](attachment:77b4f94e-bfa1-42ab-a6b3-810111472718.png)\n"
   ]
  },
  {
   "cell_type": "markdown",
   "id": "2a161091-b900-40ca-a0e7-3197daecfbd8",
   "metadata": {},
   "source": [
    "The first digit can be either 1 or 2, while the last three digits can be any number between 0 and 9."
   ]
  },
  {
   "cell_type": "markdown",
   "id": "f1b33f70-ac37-4562-8e75-615c0e0e371b",
   "metadata": {},
   "source": [
    "With regular expressions, we use the following syntax to indicate a character could be a range of numbers:"
   ]
  },
  {
   "cell_type": "code",
   "execution_count": 79,
   "id": "6b4ae490-3899-4907-a674-37e5def9ec9c",
   "metadata": {},
   "outputs": [],
   "source": [
    "pattern = r\"[0-9]\""
   ]
  },
  {
   "cell_type": "markdown",
   "id": "13a1d237-922e-4157-8cd2-98016c436270",
   "metadata": {},
   "source": [
    "And we use the following syntax to indicate a character could be a range of letters:"
   ]
  },
  {
   "cell_type": "code",
   "execution_count": 80,
   "id": "658a7716-d80f-4e29-8069-7659f913f07f",
   "metadata": {},
   "outputs": [],
   "source": [
    "#lowercase letters\n",
    "pattern1 = r\"[a-z]\"\n",
    "\n",
    "#uppercase letters\n",
    "pattern2 = r\"[A-Z]\""
   ]
  },
  {
   "cell_type": "markdown",
   "id": "65d74099-9eba-4c3a-a373-05553b858308",
   "metadata": {},
   "source": [
    "We could also make these ranges more restrictive. For example, if we wanted to find a three character substring in a column that starts with a number between 1 and 6 and ends with two letters of any kind, we could use the following syntax:"
   ]
  },
  {
   "cell_type": "code",
   "execution_count": 81,
   "id": "5ee89a2d-279d-4c09-bdf3-01b03a3616f5",
   "metadata": {},
   "outputs": [],
   "source": [
    "pattern = r\"[1-6][a-z][a-z]\""
   ]
  },
  {
   "cell_type": "markdown",
   "id": "ef2eb9f5-5130-4a33-93a8-da1cf85d4a29",
   "metadata": {},
   "source": [
    "If we have a pattern that repeats, we can also use curly brackets { and } to indicate the number of times it repeats:"
   ]
  },
  {
   "cell_type": "markdown",
   "id": "25d2ca70-b25c-4cc2-9ec3-933316628508",
   "metadata": {},
   "source": [
    "pattern = r\"[1-6][a-z][a-z]\" = r\"[1-6][a-z]{2}\""
   ]
  },
  {
   "cell_type": "markdown",
   "id": "770183ce-27bf-41df-88d8-aef441be4b42",
   "metadata": {},
   "source": [
    "Let's use what we've learned to explore the [Series.str.extract() method](https://pandas.pydata.org/docs/reference/api/pandas.Series.str.extract.html)."
   ]
  },
  {
   "cell_type": "code",
   "execution_count": 88,
   "id": "2036299c-bd78-43d3-bac0-ddea8aac19e9",
   "metadata": {},
   "outputs": [],
   "source": [
    "pattern = r\"([1-2][0-9]{3})\""
   ]
  },
  {
   "cell_type": "code",
   "execution_count": 89,
   "id": "46b0ff45-7fc6-46c9-b4db-47b452cf6eea",
   "metadata": {},
   "outputs": [
    {
     "data": {
      "text/html": [
       "<div>\n",
       "<style scoped>\n",
       "    .dataframe tbody tr th:only-of-type {\n",
       "        vertical-align: middle;\n",
       "    }\n",
       "\n",
       "    .dataframe tbody tr th {\n",
       "        vertical-align: top;\n",
       "    }\n",
       "\n",
       "    .dataframe thead th {\n",
       "        text-align: right;\n",
       "    }\n",
       "</style>\n",
       "<table border=\"1\" class=\"dataframe\">\n",
       "  <thead>\n",
       "    <tr style=\"text-align: right;\">\n",
       "      <th></th>\n",
       "      <th>0</th>\n",
       "    </tr>\n",
       "  </thead>\n",
       "  <tbody>\n",
       "    <tr>\n",
       "      <th>0</th>\n",
       "      <td>NaN</td>\n",
       "    </tr>\n",
       "    <tr>\n",
       "      <th>1</th>\n",
       "      <td>NaN</td>\n",
       "    </tr>\n",
       "    <tr>\n",
       "      <th>2</th>\n",
       "      <td>NaN</td>\n",
       "    </tr>\n",
       "    <tr>\n",
       "      <th>3</th>\n",
       "      <td>NaN</td>\n",
       "    </tr>\n",
       "    <tr>\n",
       "      <th>4</th>\n",
       "      <td>NaN</td>\n",
       "    </tr>\n",
       "    <tr>\n",
       "      <th>...</th>\n",
       "      <td>...</td>\n",
       "    </tr>\n",
       "    <tr>\n",
       "      <th>153</th>\n",
       "      <td>2006</td>\n",
       "    </tr>\n",
       "    <tr>\n",
       "      <th>154</th>\n",
       "      <td>NaN</td>\n",
       "    </tr>\n",
       "    <tr>\n",
       "      <th>155</th>\n",
       "      <td>NaN</td>\n",
       "    </tr>\n",
       "    <tr>\n",
       "      <th>156</th>\n",
       "      <td>NaN</td>\n",
       "    </tr>\n",
       "    <tr>\n",
       "      <th>157</th>\n",
       "      <td>2013</td>\n",
       "    </tr>\n",
       "  </tbody>\n",
       "</table>\n",
       "<p>158 rows × 1 columns</p>\n",
       "</div>"
      ],
      "text/plain": [
       "        0\n",
       "0     NaN\n",
       "1     NaN\n",
       "2     NaN\n",
       "3     NaN\n",
       "4     NaN\n",
       "..    ...\n",
       "153  2006\n",
       "154   NaN\n",
       "155   NaN\n",
       "156   NaN\n",
       "157  2013\n",
       "\n",
       "[158 rows x 1 columns]"
      ]
     },
     "execution_count": 89,
     "metadata": {},
     "output_type": "execute_result"
    }
   ],
   "source": [
    "merged['SpecialNotes'].str.extract(pattern)"
   ]
  },
  {
   "cell_type": "markdown",
   "id": "4dc35dd4-d00f-4473-a074-146fe72fb042",
   "metadata": {},
   "source": [
    "In the last exercise, we learned how to identify more complex patterns with regular expressions and extract substrings from a column using that pattern.\r\n",
    "\r\n",
    "When we used the Series.str.extract() method, we enclosed our regular expression in parentheses. The parentheses indicate that only the character pattern matched should be extracted and returned in a series. We call this a capturing group."
   ]
  },
  {
   "attachments": {
    "79e6a45e-5de0-417e-bb67-4d3f012d042d.png": {
     "image/png": "[encoded data removed]"
    }
   },
   "cell_type": "markdown",
   "id": "3bd2ff7e-40d6-4ceb-a025-8d6b689666fb",
   "metadata": {},
   "source": [
    "![image.png](attachment:79e6a45e-5de0-417e-bb67-4d3f012d042d.png)"
   ]
  },
  {
   "cell_type": "markdown",
   "id": "1feded4f-4919-47bb-a3d1-06c043cc1878",
   "metadata": {},
   "source": [
    "If the capturing group doesn't exist in a row (or there is no match) the value in that row is set to NaN instead. As a result, the Series returned looked like this:"
   ]
  },
  {
   "attachments": {
    "6e19240c-bc87-4dde-b082-0835528c263e.png": {
     "image/png": "[encoded data removed]"
    }
   },
   "cell_type": "markdown",
   "id": "002ec66a-0518-47d9-b32a-f89c0a60dc50",
   "metadata": {},
   "source": [
    "![image.png](attachment:6e19240c-bc87-4dde-b082-0835528c263e.png)"
   ]
  },
  {
   "cell_type": "markdown",
   "id": "2973a862-8ab0-4b4a-a581-e4d1fdd55fc0",
   "metadata": {},
   "source": [
    "## Extracting All Matches of a Pattern from a Series"
   ]
  },
  {
   "cell_type": "markdown",
   "id": "eb45998c-f02f-4a2c-8b3e-b1c20be33bf2",
   "metadata": {},
   "source": [
    " In the last couple of screens, we learned we could use the Series.str.extract() method to extract a pattern of characters from a column as a dataframe. However, the Series.str.extract() method will only extract the first match of the pattern. If we wanted to extract all of the matches, we can use the [Series.str.extractall() method](http://pandas.pydata.org/pandas-docs/stable/reference/api/pandas.Series.str.extractall.html)."
   ]
  },
  {
   "cell_type": "markdown",
   "id": "cb9e9787-0fdf-429f-b985-0cbcef806c68",
   "metadata": {},
   "source": [
    "We'll demonstrate this method but, first, let's make the results easier to read by using the [df.set_index() method](https://pandas.pydata.org/pandas-docs/stable/reference/api/pandas.DataFrame.set_index.html) to set the Country column as the index."
   ]
  },
  {
   "cell_type": "code",
   "execution_count": 90,
   "id": "fb2f50cc-ba1d-4464-9c75-0fbf61c48357",
   "metadata": {},
   "outputs": [],
   "source": [
    "merged = merged.set_index('Country')"
   ]
  },
  {
   "cell_type": "markdown",
   "id": "4e57264e-bfc5-478e-9e1e-e204998f1749",
   "metadata": {},
   "source": [
    "Next, let's use the same regular expression from the last screen to extract all the years from the Special Notes column, except this time, we'll use a named capturing group. Using a named capturing group means that we can refer to the group by the specified name instead of just a number. We can use the following syntax to add a name: (?P<Column_Name>...)."
   ]
  },
  {
   "cell_type": "markdown",
   "id": "f6c55bab-e132-40c6-aef6-08db315d1ddd",
   "metadata": {},
   "source": [
    "Below, we name the capturing group Years:"
   ]
  },
  {
   "attachments": {
    "ce73cfcc-7fd7-4bb4-bdf5-87aba906f560.png": {
     "image/png": "[encoded data removed]"
    }
   },
   "cell_type": "markdown",
   "id": "54912f7c-eaec-4544-935b-70cffc20f67e",
   "metadata": {},
   "source": [
    "![image.png](attachment:ce73cfcc-7fd7-4bb4-bdf5-87aba906f560.png)"
   ]
  },
  {
   "cell_type": "markdown",
   "id": "4fb7a210-231c-4b13-b64d-e5c164f94231",
   "metadata": {},
   "source": [
    "Let's look at the IESurvey column next. This column has years in two different formats:"
   ]
  },
  {
   "cell_type": "markdown",
   "id": "7e594fe6-d4a7-40c4-a7fe-12c2a1f2eef9",
   "metadata": {},
   "source": [
    "Integrated household survey (IHS), 2012\n",
    "\r\n",
    "Integrated household survey (IHS), 2010/11"
   ]
  },
  {
   "cell_type": "code",
   "execution_count": 93,
   "id": "64843a65-53a6-43ef-b602-60215699d927",
   "metadata": {},
   "outputs": [
    {
     "data": {
      "text/html": [
       "<div>\n",
       "<style scoped>\n",
       "    .dataframe tbody tr th:only-of-type {\n",
       "        vertical-align: middle;\n",
       "    }\n",
       "\n",
       "    .dataframe tbody tr th {\n",
       "        vertical-align: top;\n",
       "    }\n",
       "\n",
       "    .dataframe thead th {\n",
       "        text-align: right;\n",
       "    }\n",
       "</style>\n",
       "<table border=\"1\" class=\"dataframe\">\n",
       "  <thead>\n",
       "    <tr style=\"text-align: right;\">\n",
       "      <th></th>\n",
       "      <th></th>\n",
       "      <th>Years</th>\n",
       "    </tr>\n",
       "    <tr>\n",
       "      <th>Country</th>\n",
       "      <th>match</th>\n",
       "      <th></th>\n",
       "    </tr>\n",
       "  </thead>\n",
       "  <tbody>\n",
       "    <tr>\n",
       "      <th rowspan=\"2\" valign=\"top\">Finland</th>\n",
       "      <th>0</th>\n",
       "      <td>1999</td>\n",
       "    </tr>\n",
       "    <tr>\n",
       "      <th>1</th>\n",
       "      <td>1999</td>\n",
       "    </tr>\n",
       "    <tr>\n",
       "      <th rowspan=\"3\" valign=\"top\">Netherlands</th>\n",
       "      <th>0</th>\n",
       "      <td>1999</td>\n",
       "    </tr>\n",
       "    <tr>\n",
       "      <th>1</th>\n",
       "      <td>2037</td>\n",
       "    </tr>\n",
       "    <tr>\n",
       "      <th>2</th>\n",
       "      <td>1999</td>\n",
       "    </tr>\n",
       "    <tr>\n",
       "      <th>...</th>\n",
       "      <th>...</th>\n",
       "      <td>...</td>\n",
       "    </tr>\n",
       "    <tr>\n",
       "      <th rowspan=\"2\" valign=\"top\">Rwanda</th>\n",
       "      <th>1</th>\n",
       "      <td>2011</td>\n",
       "    </tr>\n",
       "    <tr>\n",
       "      <th>2</th>\n",
       "      <td>2008</td>\n",
       "    </tr>\n",
       "    <tr>\n",
       "      <th rowspan=\"3\" valign=\"top\">Togo</th>\n",
       "      <th>0</th>\n",
       "      <td>2013</td>\n",
       "    </tr>\n",
       "    <tr>\n",
       "      <th>1</th>\n",
       "      <td>2000</td>\n",
       "    </tr>\n",
       "    <tr>\n",
       "      <th>2</th>\n",
       "      <td>2000</td>\n",
       "    </tr>\n",
       "  </tbody>\n",
       "</table>\n",
       "<p>164 rows × 1 columns</p>\n",
       "</div>"
      ],
      "text/plain": [
       "                  Years\n",
       "Country     match      \n",
       "Finland     0      1999\n",
       "            1      1999\n",
       "Netherlands 0      1999\n",
       "            1      2037\n",
       "            2      1999\n",
       "...                 ...\n",
       "Rwanda      1      2011\n",
       "            2      2008\n",
       "Togo        0      2013\n",
       "            1      2000\n",
       "            2      2000\n",
       "\n",
       "[164 rows x 1 columns]"
      ]
     },
     "execution_count": 93,
     "metadata": {},
     "output_type": "execute_result"
    }
   ],
   "source": [
    "pattern = r\"(?P<Years>[1-2][0-9]{3})\"\n",
    "merged['SpecialNotes'].str.extractall(pattern)"
   ]
  },
  {
   "cell_type": "code",
   "execution_count": 102,
   "id": "5e5fe5b5-d0b9-4a82-8e81-49ede989e835",
   "metadata": {},
   "outputs": [],
   "source": [
    "pattern = r\"(?P<Years>[1-2][0-9]{3})\"\n",
    "years = merged['IESurvey'].str.extractall(pattern)"
   ]
  },
  {
   "cell_type": "code",
   "execution_count": 106,
   "id": "71adc8de-0b78-41ff-9702-1dc414b025fc",
   "metadata": {},
   "outputs": [
    {
     "data": {
      "text/html": [
       "<div>\n",
       "<style scoped>\n",
       "    .dataframe tbody tr th:only-of-type {\n",
       "        vertical-align: middle;\n",
       "    }\n",
       "\n",
       "    .dataframe tbody tr th {\n",
       "        vertical-align: top;\n",
       "    }\n",
       "\n",
       "    .dataframe thead th {\n",
       "        text-align: right;\n",
       "    }\n",
       "</style>\n",
       "<table border=\"1\" class=\"dataframe\">\n",
       "  <thead>\n",
       "    <tr style=\"text-align: right;\">\n",
       "      <th></th>\n",
       "      <th></th>\n",
       "      <th>Years</th>\n",
       "    </tr>\n",
       "    <tr>\n",
       "      <th>Country</th>\n",
       "      <th>match</th>\n",
       "      <th></th>\n",
       "    </tr>\n",
       "  </thead>\n",
       "  <tbody>\n",
       "    <tr>\n",
       "      <th>Switzerland</th>\n",
       "      <th>0</th>\n",
       "      <td>2004</td>\n",
       "    </tr>\n",
       "    <tr>\n",
       "      <th>Iceland</th>\n",
       "      <th>0</th>\n",
       "      <td>2010</td>\n",
       "    </tr>\n",
       "    <tr>\n",
       "      <th>Denmark</th>\n",
       "      <th>0</th>\n",
       "      <td>2010</td>\n",
       "    </tr>\n",
       "    <tr>\n",
       "      <th>Norway</th>\n",
       "      <th>0</th>\n",
       "      <td>2010</td>\n",
       "    </tr>\n",
       "    <tr>\n",
       "      <th>Canada</th>\n",
       "      <th>0</th>\n",
       "      <td>2010</td>\n",
       "    </tr>\n",
       "    <tr>\n",
       "      <th>...</th>\n",
       "      <th>...</th>\n",
       "      <td>...</td>\n",
       "    </tr>\n",
       "    <tr>\n",
       "      <th>Afghanistan</th>\n",
       "      <th>0</th>\n",
       "      <td>2008</td>\n",
       "    </tr>\n",
       "    <tr>\n",
       "      <th>Rwanda</th>\n",
       "      <th>0</th>\n",
       "      <td>2010</td>\n",
       "    </tr>\n",
       "    <tr>\n",
       "      <th>Benin</th>\n",
       "      <th>0</th>\n",
       "      <td>2011</td>\n",
       "    </tr>\n",
       "    <tr>\n",
       "      <th>Burundi</th>\n",
       "      <th>0</th>\n",
       "      <td>2006</td>\n",
       "    </tr>\n",
       "    <tr>\n",
       "      <th>Togo</th>\n",
       "      <th>0</th>\n",
       "      <td>2011</td>\n",
       "    </tr>\n",
       "  </tbody>\n",
       "</table>\n",
       "<p>130 rows × 1 columns</p>\n",
       "</div>"
      ],
      "text/plain": [
       "                  Years\n",
       "Country     match      \n",
       "Switzerland 0      2004\n",
       "Iceland     0      2010\n",
       "Denmark     0      2010\n",
       "Norway      0      2010\n",
       "Canada      0      2010\n",
       "...                 ...\n",
       "Afghanistan 0      2008\n",
       "Rwanda      0      2010\n",
       "Benin       0      2011\n",
       "Burundi     0      2006\n",
       "Togo        0      2011\n",
       "\n",
       "[130 rows x 1 columns]"
      ]
     },
     "execution_count": 106,
     "metadata": {},
     "output_type": "execute_result"
    }
   ],
   "source": [
    "years"
   ]
  },
  {
   "cell_type": "code",
   "execution_count": 104,
   "id": "60e8c5d7-ac54-4c4d-947b-f058fa564701",
   "metadata": {},
   "outputs": [
    {
     "data": {
      "text/plain": [
       "Years\n",
       "2012    33\n",
       "2010    28\n",
       "2011    22\n",
       "2013    12\n",
       "2009     8\n",
       "2005     6\n",
       "2008     6\n",
       "2007     4\n",
       "2004     3\n",
       "1995     1\n",
       "2002     1\n",
       "1998     1\n",
       "1999     1\n",
       "1992     1\n",
       "2000     1\n",
       "2003     1\n",
       "2006     1\n",
       "Name: count, dtype: int64"
      ]
     },
     "execution_count": 104,
     "metadata": {},
     "output_type": "execute_result"
    }
   ],
   "source": [
    "years['Years'].value_counts()"
   ]
  },
  {
   "cell_type": "code",
   "execution_count": 105,
   "id": "5aa34cf5-ae55-44fb-983a-b5a490ff027a",
   "metadata": {},
   "outputs": [
    {
     "data": {
      "text/plain": [
       "Country\n",
       "Switzerland       Expenditure survey/budget survey (ES/BS), 2004\n",
       "Iceland                  Integrated household survey (IHS), 2010\n",
       "Denmark                         Income tax registers (ITR), 2010\n",
       "Norway                                  Income survey (IS), 2010\n",
       "Canada                            Labor force survey (LFS), 2010\n",
       "                                     ...                        \n",
       "Rwanda                Integrated household survey (IHS), 2010/11\n",
       "Benin          Core Welfare Indicator Questionnaire Survey (C...\n",
       "Syria                                                        NaN\n",
       "Burundi        Core Welfare Indicator Questionnaire Survey (C...\n",
       "Togo           Core Welfare Indicator Questionnaire Survey (C...\n",
       "Name: IESurvey, Length: 158, dtype: object"
      ]
     },
     "execution_count": 105,
     "metadata": {},
     "output_type": "execute_result"
    }
   ],
   "source": [
    "merged['IESurvey']"
   ]
  },
  {
   "cell_type": "markdown",
   "id": "c0ae4434-1f05-4406-b2b5-8b0d675d2192",
   "metadata": {},
   "source": [
    "## Extracting More Than One Group of Patterns from a Series"
   ]
  },
  {
   "cell_type": "markdown",
   "id": "38b40ea5-ea4e-479e-9885-51d4d4265bac",
   "metadata": {},
   "source": [
    "When we tried to extract all of the years from the IESurvey column using the extractall method in the last exercise, we were unsuccessful because some of our years had the following format:"
   ]
  },
  {
   "attachments": {
    "9ae96077-1345-4d36-840a-75068a6623e9.png": {
     "image/png": "[encoded data removed]"
    }
   },
   "cell_type": "markdown",
   "id": "e28e3482-adca-4426-92f5-edf9970118d6",
   "metadata": {},
   "source": [
    "![image.png](attachment:9ae96077-1345-4d36-840a-75068a6623e9.png)"
   ]
  },
  {
   "cell_type": "markdown",
   "id": "cf9c3a25-86da-48fa-bdf2-d043db3f7881",
   "metadata": {},
   "source": [
    "Because our regular expression only accounted for the pattern highlighted below, we created a dataframe with just the first year in each row:"
   ]
  },
  {
   "attachments": {
    "072a26c8-4967-47f1-9e9a-3afbc3b264e1.png": {
     "image/png": "[encoded data removed]"
    }
   },
   "cell_type": "markdown",
   "id": "253b4d5c-6a33-4609-9ef4-80b7c8aebbf7",
   "metadata": {},
   "source": [
    "![image.png](attachment:072a26c8-4967-47f1-9e9a-3afbc3b264e1.png)"
   ]
  },
  {
   "cell_type": "markdown",
   "id": "e4707b6c-3376-4cd8-9077-f0a6103a7349",
   "metadata": {},
   "source": [
    "If we wanted to extract the second, abbreviated year, we'd have to specify two more groups - one to extract the / and one to extract the last two digits."
   ]
  },
  {
   "attachments": {
    "df5913b4-111c-4544-8b5e-0dc8156bd347.png": {
     "image/png": "[encoded data removed]"
    }
   },
   "cell_type": "markdown",
   "id": "63628fde-1585-43d8-822d-ccc553e56fbb",
   "metadata": {},
   "source": [
    "![image.png](attachment:df5913b4-111c-4544-8b5e-0dc8156bd347.png)"
   ]
  },
  {
   "cell_type": "markdown",
   "id": "816055db-74ce-46a6-b732-d7def130989e",
   "metadata": {},
   "source": [
    "Let's add those two groups to our regex and try to extract them again:"
   ]
  },
  {
   "cell_type": "code",
   "execution_count": 109,
   "id": "2242f486-f9d1-4f7e-a393-e83ecc7e24bc",
   "metadata": {},
   "outputs": [],
   "source": [
    "pattern = r\"(?P<First_Year>[1-2][0-9]{3})(/)?(?P<Second_Year>[0-9]{2})?\"\n",
    "years = merged['IESurvey'].str.extractall(pattern)"
   ]
  },
  {
   "cell_type": "markdown",
   "id": "1e570257-c8e2-4922-a405-a339ce09cccd",
   "metadata": {},
   "source": [
    "Note that we also added a question mark, ?, after each of the two new groups to indicate that a match for those groups is optional. This allows us to extract years listed in the yyyy format AND the yyyy/yy format at once."
   ]
  },
  {
   "cell_type": "markdown",
   "id": "2f48f5a2-cab5-487b-89c3-de177927e43a",
   "metadata": {},
   "source": [
    "Below are the first five rows:"
   ]
  },
  {
   "cell_type": "code",
   "execution_count": 110,
   "id": "095d1b67-a988-4e09-9c2a-2f626dfe7436",
   "metadata": {},
   "outputs": [
    {
     "data": {
      "text/html": [
       "<div>\n",
       "<style scoped>\n",
       "    .dataframe tbody tr th:only-of-type {\n",
       "        vertical-align: middle;\n",
       "    }\n",
       "\n",
       "    .dataframe tbody tr th {\n",
       "        vertical-align: top;\n",
       "    }\n",
       "\n",
       "    .dataframe thead th {\n",
       "        text-align: right;\n",
       "    }\n",
       "</style>\n",
       "<table border=\"1\" class=\"dataframe\">\n",
       "  <thead>\n",
       "    <tr style=\"text-align: right;\">\n",
       "      <th></th>\n",
       "      <th></th>\n",
       "      <th>First_Year</th>\n",
       "      <th>1</th>\n",
       "      <th>Second_Year</th>\n",
       "    </tr>\n",
       "    <tr>\n",
       "      <th>Country</th>\n",
       "      <th>match</th>\n",
       "      <th></th>\n",
       "      <th></th>\n",
       "      <th></th>\n",
       "    </tr>\n",
       "  </thead>\n",
       "  <tbody>\n",
       "    <tr>\n",
       "      <th>Switzerland</th>\n",
       "      <th>0</th>\n",
       "      <td>2004</td>\n",
       "      <td>NaN</td>\n",
       "      <td>NaN</td>\n",
       "    </tr>\n",
       "    <tr>\n",
       "      <th>Iceland</th>\n",
       "      <th>0</th>\n",
       "      <td>2010</td>\n",
       "      <td>NaN</td>\n",
       "      <td>NaN</td>\n",
       "    </tr>\n",
       "    <tr>\n",
       "      <th>Denmark</th>\n",
       "      <th>0</th>\n",
       "      <td>2010</td>\n",
       "      <td>NaN</td>\n",
       "      <td>NaN</td>\n",
       "    </tr>\n",
       "    <tr>\n",
       "      <th>Norway</th>\n",
       "      <th>0</th>\n",
       "      <td>2010</td>\n",
       "      <td>NaN</td>\n",
       "      <td>NaN</td>\n",
       "    </tr>\n",
       "    <tr>\n",
       "      <th>Canada</th>\n",
       "      <th>0</th>\n",
       "      <td>2010</td>\n",
       "      <td>NaN</td>\n",
       "      <td>NaN</td>\n",
       "    </tr>\n",
       "  </tbody>\n",
       "</table>\n",
       "</div>"
      ],
      "text/plain": [
       "                  First_Year    1 Second_Year\n",
       "Country     match                            \n",
       "Switzerland 0           2004  NaN         NaN\n",
       "Iceland     0           2010  NaN         NaN\n",
       "Denmark     0           2010  NaN         NaN\n",
       "Norway      0           2010  NaN         NaN\n",
       "Canada      0           2010  NaN         NaN"
      ]
     },
     "execution_count": 110,
     "metadata": {},
     "output_type": "execute_result"
    }
   ],
   "source": [
    "years.head()"
   ]
  },
  {
   "cell_type": "markdown",
   "id": "9baa17b1-905f-48e8-ad14-1a3cc97a7f4d",
   "metadata": {},
   "source": [
    "If we sort the values, we can confirm that we also extracted years in the yyyy/yy format:"
   ]
  },
  {
   "cell_type": "code",
   "execution_count": 113,
   "id": "a51dd883-d43e-42c7-9a8b-d54acaaa14e2",
   "metadata": {},
   "outputs": [
    {
     "data": {
      "text/html": [
       "<div>\n",
       "<style scoped>\n",
       "    .dataframe tbody tr th:only-of-type {\n",
       "        vertical-align: middle;\n",
       "    }\n",
       "\n",
       "    .dataframe tbody tr th {\n",
       "        vertical-align: top;\n",
       "    }\n",
       "\n",
       "    .dataframe thead th {\n",
       "        text-align: right;\n",
       "    }\n",
       "</style>\n",
       "<table border=\"1\" class=\"dataframe\">\n",
       "  <thead>\n",
       "    <tr style=\"text-align: right;\">\n",
       "      <th></th>\n",
       "      <th></th>\n",
       "      <th>First_Year</th>\n",
       "      <th>1</th>\n",
       "      <th>Second_Year</th>\n",
       "    </tr>\n",
       "    <tr>\n",
       "      <th>Country</th>\n",
       "      <th>match</th>\n",
       "      <th></th>\n",
       "      <th></th>\n",
       "      <th></th>\n",
       "    </tr>\n",
       "  </thead>\n",
       "  <tbody>\n",
       "    <tr>\n",
       "      <th>Kenya</th>\n",
       "      <th>0</th>\n",
       "      <td>2005</td>\n",
       "      <td>/</td>\n",
       "      <td>06</td>\n",
       "    </tr>\n",
       "    <tr>\n",
       "      <th>Angola</th>\n",
       "      <th>0</th>\n",
       "      <td>2008</td>\n",
       "      <td>/</td>\n",
       "      <td>09</td>\n",
       "    </tr>\n",
       "    <tr>\n",
       "      <th>Mozambique</th>\n",
       "      <th>0</th>\n",
       "      <td>2008</td>\n",
       "      <td>/</td>\n",
       "      <td>09</td>\n",
       "    </tr>\n",
       "    <tr>\n",
       "      <th>Nigeria</th>\n",
       "      <th>0</th>\n",
       "      <td>2009</td>\n",
       "      <td>/</td>\n",
       "      <td>10</td>\n",
       "    </tr>\n",
       "    <tr>\n",
       "      <th>Mali</th>\n",
       "      <th>0</th>\n",
       "      <td>2009</td>\n",
       "      <td>/</td>\n",
       "      <td>10</td>\n",
       "    </tr>\n",
       "  </tbody>\n",
       "</table>\n",
       "</div>"
      ],
      "text/plain": [
       "                 First_Year  1 Second_Year\n",
       "Country    match                          \n",
       "Kenya      0           2005  /          06\n",
       "Angola     0           2008  /          09\n",
       "Mozambique 0           2008  /          09\n",
       "Nigeria    0           2009  /          10\n",
       "Mali       0           2009  /          10"
      ]
     },
     "execution_count": 113,
     "metadata": {},
     "output_type": "execute_result"
    }
   ],
   "source": [
    "years.sort_values('Second_Year').head()"
   ]
  },
  {
   "cell_type": "markdown",
   "id": "9fa5b9e2-77ab-4f77-ae58-40b0a956a7d0",
   "metadata": {},
   "source": [
    "The dataframe returned has three columns - one for each capturing group specified in pattern. Because we didn't name the second group, (/), the capturing group number, 1, was used as the column name."
   ]
  },
  {
   "cell_type": "markdown",
   "id": "35167748-8008-495e-b8a5-6dac978d36d0",
   "metadata": {},
   "source": [
    "In the next exercise, we'll extract just the years from the IESurvey column. Then, we'll reformat the second year so that it contains all four digits of the year, not just the last two, so that it looks like the dataframe below:"
   ]
  },
  {
   "attachments": {
    "58fab8b4-afc4-45a9-b669-2d4e092cd768.png": {
     "image/png": "[encoded data removed]"
    }
   },
   "cell_type": "markdown",
   "id": "76e3a578-1dab-4fc3-8230-6debbf51cbf2",
   "metadata": {},
   "source": [
    "![image.png](attachment:58fab8b4-afc4-45a9-b669-2d4e092cd768.png)"
   ]
  },
  {
   "cell_type": "markdown",
   "id": "f08b70a4-6385-496d-85d5-ec9625411567",
   "metadata": {},
   "source": [
    "We've already created a regular expression that extracts the pattern \"yyyy/yy\" and saved it to a variable called pattern. Notice that we didn't enclose /? in parentheses so that the resulting dataframe will only contain a First_Year and Second_Year column."
   ]
  },
  {
   "cell_type": "code",
   "execution_count": 114,
   "id": "8eae92c1-2e0e-4af2-9014-c96235d116ac",
   "metadata": {},
   "outputs": [],
   "source": [
    "pattern = r\"(?P<First_Year>[1-2][0-9]{3})/?(?P<Second_Year>[0-9]{2})?\"\n",
    "years = merged['IESurvey'].str.extractall(pattern)"
   ]
  },
  {
   "cell_type": "code",
   "execution_count": 115,
   "id": "1af417cc-3b9a-4f9d-b2c4-b890a8e744bd",
   "metadata": {},
   "outputs": [
    {
     "data": {
      "text/html": [
       "<div>\n",
       "<style scoped>\n",
       "    .dataframe tbody tr th:only-of-type {\n",
       "        vertical-align: middle;\n",
       "    }\n",
       "\n",
       "    .dataframe tbody tr th {\n",
       "        vertical-align: top;\n",
       "    }\n",
       "\n",
       "    .dataframe thead th {\n",
       "        text-align: right;\n",
       "    }\n",
       "</style>\n",
       "<table border=\"1\" class=\"dataframe\">\n",
       "  <thead>\n",
       "    <tr style=\"text-align: right;\">\n",
       "      <th></th>\n",
       "      <th></th>\n",
       "      <th>First_Year</th>\n",
       "      <th>Second_Year</th>\n",
       "    </tr>\n",
       "    <tr>\n",
       "      <th>Country</th>\n",
       "      <th>match</th>\n",
       "      <th></th>\n",
       "      <th></th>\n",
       "    </tr>\n",
       "  </thead>\n",
       "  <tbody>\n",
       "    <tr>\n",
       "      <th>Switzerland</th>\n",
       "      <th>0</th>\n",
       "      <td>2004</td>\n",
       "      <td>NaN</td>\n",
       "    </tr>\n",
       "    <tr>\n",
       "      <th>Iceland</th>\n",
       "      <th>0</th>\n",
       "      <td>2010</td>\n",
       "      <td>NaN</td>\n",
       "    </tr>\n",
       "    <tr>\n",
       "      <th>Denmark</th>\n",
       "      <th>0</th>\n",
       "      <td>2010</td>\n",
       "      <td>NaN</td>\n",
       "    </tr>\n",
       "    <tr>\n",
       "      <th>Norway</th>\n",
       "      <th>0</th>\n",
       "      <td>2010</td>\n",
       "      <td>NaN</td>\n",
       "    </tr>\n",
       "    <tr>\n",
       "      <th>Canada</th>\n",
       "      <th>0</th>\n",
       "      <td>2010</td>\n",
       "      <td>NaN</td>\n",
       "    </tr>\n",
       "    <tr>\n",
       "      <th>...</th>\n",
       "      <th>...</th>\n",
       "      <td>...</td>\n",
       "      <td>...</td>\n",
       "    </tr>\n",
       "    <tr>\n",
       "      <th>Afghanistan</th>\n",
       "      <th>0</th>\n",
       "      <td>2008</td>\n",
       "      <td>NaN</td>\n",
       "    </tr>\n",
       "    <tr>\n",
       "      <th>Rwanda</th>\n",
       "      <th>0</th>\n",
       "      <td>2010</td>\n",
       "      <td>11</td>\n",
       "    </tr>\n",
       "    <tr>\n",
       "      <th>Benin</th>\n",
       "      <th>0</th>\n",
       "      <td>2011</td>\n",
       "      <td>12</td>\n",
       "    </tr>\n",
       "    <tr>\n",
       "      <th>Burundi</th>\n",
       "      <th>0</th>\n",
       "      <td>2006</td>\n",
       "      <td>NaN</td>\n",
       "    </tr>\n",
       "    <tr>\n",
       "      <th>Togo</th>\n",
       "      <th>0</th>\n",
       "      <td>2011</td>\n",
       "      <td>NaN</td>\n",
       "    </tr>\n",
       "  </tbody>\n",
       "</table>\n",
       "<p>130 rows × 2 columns</p>\n",
       "</div>"
      ],
      "text/plain": [
       "                  First_Year Second_Year\n",
       "Country     match                       \n",
       "Switzerland 0           2004         NaN\n",
       "Iceland     0           2010         NaN\n",
       "Denmark     0           2010         NaN\n",
       "Norway      0           2010         NaN\n",
       "Canada      0           2010         NaN\n",
       "...                      ...         ...\n",
       "Afghanistan 0           2008         NaN\n",
       "Rwanda      0           2010          11\n",
       "Benin       0           2011          12\n",
       "Burundi     0           2006         NaN\n",
       "Togo        0           2011         NaN\n",
       "\n",
       "[130 rows x 2 columns]"
      ]
     },
     "execution_count": 115,
     "metadata": {},
     "output_type": "execute_result"
    }
   ],
   "source": [
    "years"
   ]
  },
  {
   "cell_type": "code",
   "execution_count": 119,
   "id": "c80cab01-6d9f-4e14-ae31-5bd89c1f175a",
   "metadata": {},
   "outputs": [],
   "source": [
    "years['Second_Year'] = years['First_Year'].str[:2] + years['Second_Year']"
   ]
  },
  {
   "cell_type": "code",
   "execution_count": 120,
   "id": "73c9eec3-f2d9-466c-bcf8-12a006b98702",
   "metadata": {},
   "outputs": [
    {
     "data": {
      "text/html": [
       "<div>\n",
       "<style scoped>\n",
       "    .dataframe tbody tr th:only-of-type {\n",
       "        vertical-align: middle;\n",
       "    }\n",
       "\n",
       "    .dataframe tbody tr th {\n",
       "        vertical-align: top;\n",
       "    }\n",
       "\n",
       "    .dataframe thead th {\n",
       "        text-align: right;\n",
       "    }\n",
       "</style>\n",
       "<table border=\"1\" class=\"dataframe\">\n",
       "  <thead>\n",
       "    <tr style=\"text-align: right;\">\n",
       "      <th></th>\n",
       "      <th></th>\n",
       "      <th>First_Year</th>\n",
       "      <th>Second_Year</th>\n",
       "    </tr>\n",
       "    <tr>\n",
       "      <th>Country</th>\n",
       "      <th>match</th>\n",
       "      <th></th>\n",
       "      <th></th>\n",
       "    </tr>\n",
       "  </thead>\n",
       "  <tbody>\n",
       "    <tr>\n",
       "      <th>Switzerland</th>\n",
       "      <th>0</th>\n",
       "      <td>2004</td>\n",
       "      <td>NaN</td>\n",
       "    </tr>\n",
       "    <tr>\n",
       "      <th>Iceland</th>\n",
       "      <th>0</th>\n",
       "      <td>2010</td>\n",
       "      <td>NaN</td>\n",
       "    </tr>\n",
       "    <tr>\n",
       "      <th>Denmark</th>\n",
       "      <th>0</th>\n",
       "      <td>2010</td>\n",
       "      <td>NaN</td>\n",
       "    </tr>\n",
       "    <tr>\n",
       "      <th>Norway</th>\n",
       "      <th>0</th>\n",
       "      <td>2010</td>\n",
       "      <td>NaN</td>\n",
       "    </tr>\n",
       "    <tr>\n",
       "      <th>Canada</th>\n",
       "      <th>0</th>\n",
       "      <td>2010</td>\n",
       "      <td>NaN</td>\n",
       "    </tr>\n",
       "  </tbody>\n",
       "</table>\n",
       "</div>"
      ],
      "text/plain": [
       "                  First_Year Second_Year\n",
       "Country     match                       \n",
       "Switzerland 0           2004         NaN\n",
       "Iceland     0           2010         NaN\n",
       "Denmark     0           2010         NaN\n",
       "Norway      0           2010         NaN\n",
       "Canada      0           2010         NaN"
      ]
     },
     "execution_count": 120,
     "metadata": {},
     "output_type": "execute_result"
    }
   ],
   "source": [
    "years.head()"
   ]
  },
  {
   "cell_type": "markdown",
   "id": "d5ac6e2d-0120-48b3-addb-720d0e0102ce",
   "metadata": {},
   "source": [
    "## Challenge: Clean a String Column, Aggregate the Data, and Plot the Results"
   ]
  },
  {
   "cell_type": "markdown",
   "id": "6d40d6fd-7eb3-421a-8984-c2f9df83b50a",
   "metadata": {},
   "source": [
    "Let's summarize what we learned about the Series.str.extractall() method and pandas string operations in the last exercise:"
   ]
  },
  {
   "cell_type": "markdown",
   "id": "bdc68ade-23b4-426e-a4ba-1cb128fb0293",
   "metadata": {},
   "source": [
    "Let's summarize what we learned about the Series.str.extractall() method and pandas string operations in the last exercise:"
   ]
  },
  {
   "cell_type": "markdown",
   "id": "5c4733d7-aac3-49c5-aa0f-ecea4724697c",
   "metadata": {},
   "source": [
    "1. If part of the regex isn't grouped using parantheses, (), it won't be extracted.\n",
    "2. When we add a string to a column using the plus sign, +, pandas will add that string to every value in the column. Note that the strings will be added together without any spaces."
   ]
  },
  {
   "cell_type": "markdown",
   "id": "a35c89bd-1eed-4ed4-b859-aac94df21ad8",
   "metadata": {},
   "source": [
    "Unfortunately, there are too many possible string cleaning tasks for us to review each one in detail. However, now that we have a general understanding of how string methods operate, we can apply our knowledge to tasks we haven't covered explicitly in this lesson."
   ]
  },
  {
   "cell_type": "markdown",
   "id": "27854535-fec8-4c27-b0d0-7b259f2a79c5",
   "metadata": {},
   "source": [
    "Next, we'll group merged by the IncomeGroup column and plot the results. First, however, we would like to clean the values in the IncomeGroup column to a standardized format shown in the table below."
   ]
  },
  {
   "cell_type": "code",
   "execution_count": 122,
   "id": "de0ca30f-46cd-4112-8eae-7e28556a91d8",
   "metadata": {},
   "outputs": [
    {
     "data": {
      "text/plain": [
       "IncomeGroup\n",
       "Upper middle income     39\n",
       "Lower middle income     35\n",
       "High income: OECD       30\n",
       "Low income              24\n",
       "High income: nonOECD    17\n",
       "Name: count, dtype: int64"
      ]
     },
     "execution_count": 122,
     "metadata": {},
     "output_type": "execute_result"
    }
   ],
   "source": [
    "merged['IncomeGroup'].value_counts()"
   ]
  },
  {
   "cell_type": "code",
   "execution_count": 129,
   "id": "16db151e-38a3-4465-b49a-6eee570050a5",
   "metadata": {},
   "outputs": [
    {
     "data": {
      "text/plain": [
       "Country\n",
       "Bangladesh                  Lower middle income\n",
       "Iran                        Upper middle income\n",
       "Ukraine                     Lower middle income\n",
       "Iraq                        Upper middle income\n",
       "South Africa                Upper middle income\n",
       "Ghana                       Lower middle income\n",
       "Zimbabwe                             Low income\n",
       "Liberia                              Low income\n",
       "India                       Lower middle income\n",
       "Sudan                       Lower middle income\n",
       "Haiti                                Low income\n",
       "Congo (Kinshasa)                            NaN\n",
       "Nepal                                Low income\n",
       "Ethiopia                             Low income\n",
       "Sierra Leone                         Low income\n",
       "Mauritania                  Lower middle income\n",
       "Kenya                       Lower middle income\n",
       "Djibouti                    Lower middle income\n",
       "Armenia                     Lower middle income\n",
       "Botswana                    Upper middle income\n",
       "Myanmar                     Lower middle income\n",
       "Georgia                     Lower middle income\n",
       "Malawi                               Low income\n",
       "Sri Lanka                   Lower middle income\n",
       "Cameroon                    Lower middle income\n",
       "Bulgaria                    Upper middle income\n",
       "Egypt                       Lower middle income\n",
       "Yemen                       Lower middle income\n",
       "Angola                      Upper middle income\n",
       "Mali                                 Low income\n",
       "Congo (Brazzaville)                         NaN\n",
       "Comoros                              Low income\n",
       "Uganda                               Low income\n",
       "Senegal                     Lower middle income\n",
       "Gabon                       Upper middle income\n",
       "Niger                                Low income\n",
       "Cambodia                             Low income\n",
       "Tanzania                             Low income\n",
       "Madagascar                           Low income\n",
       "Central African Republic             Low income\n",
       "Chad                                 Low income\n",
       "Guinea                               Low income\n",
       "Ivory Coast                                 NaN\n",
       "Burkina Faso                         Low income\n",
       "Afghanistan                          Low income\n",
       "Rwanda                               Low income\n",
       "Benin                                Low income\n",
       "Syria                                       NaN\n",
       "Burundi                              Low income\n",
       "Togo                                 Low income\n",
       "Name: IncomeGroup, dtype: object"
      ]
     },
     "execution_count": 129,
     "metadata": {},
     "output_type": "execute_result"
    }
   ],
   "source": [
    "merged['IncomeGroup'].tail(50)"
   ]
  },
  {
   "cell_type": "code",
   "execution_count": 150,
   "id": "e32bcb2b-c4a0-44a4-8bf4-5615817737ab",
   "metadata": {},
   "outputs": [
    {
     "data": {
      "text/plain": [
       "IncomeGroup\n",
       "UPPER MIDDLE    39\n",
       "LOWER MIDDLE    35\n",
       "HIGH OECD       30\n",
       "LOW             24\n",
       "HIGH NONOECD    17\n",
       "Name: count, dtype: int64"
      ]
     },
     "execution_count": 150,
     "metadata": {},
     "output_type": "execute_result"
    }
   ],
   "source": [
    "first = merged['IncomeGroup'].str.split('income').str[0].str.strip()\n",
    "last = merged['IncomeGroup'].str.split('income').str[1].str.strip()\n",
    "final = first + last\n",
    "final = final.str.replace(': ', ' ').str.upper()\n",
    "merged['IncomeGroupCleaned'] = final\n",
    "final.value_counts()"
   ]
  },
  {
   "cell_type": "code",
   "execution_count": 149,
   "id": "ac23885c-bbff-47dd-8700-f1087917e8bc",
   "metadata": {},
   "outputs": [
    {
     "data": {
      "text/html": [
       "<div>\n",
       "<style scoped>\n",
       "    .dataframe tbody tr th:only-of-type {\n",
       "        vertical-align: middle;\n",
       "    }\n",
       "\n",
       "    .dataframe tbody tr th {\n",
       "        vertical-align: top;\n",
       "    }\n",
       "\n",
       "    .dataframe thead th {\n",
       "        text-align: right;\n",
       "    }\n",
       "</style>\n",
       "<table border=\"1\" class=\"dataframe\">\n",
       "  <thead>\n",
       "    <tr style=\"text-align: right;\">\n",
       "      <th></th>\n",
       "      <th>Happiness Score</th>\n",
       "    </tr>\n",
       "    <tr>\n",
       "      <th>IncomeGroup</th>\n",
       "      <th></th>\n",
       "    </tr>\n",
       "  </thead>\n",
       "  <tbody>\n",
       "    <tr>\n",
       "      <th>High income: OECD</th>\n",
       "      <td>6.674000</td>\n",
       "    </tr>\n",
       "    <tr>\n",
       "      <th>High income: nonOECD</th>\n",
       "      <td>6.250765</td>\n",
       "    </tr>\n",
       "    <tr>\n",
       "      <th>Low income</th>\n",
       "      <td>3.925625</td>\n",
       "    </tr>\n",
       "    <tr>\n",
       "      <th>Lower middle income</th>\n",
       "      <td>4.927971</td>\n",
       "    </tr>\n",
       "    <tr>\n",
       "      <th>Upper middle income</th>\n",
       "      <td>5.426718</td>\n",
       "    </tr>\n",
       "  </tbody>\n",
       "</table>\n",
       "</div>"
      ],
      "text/plain": [
       "                      Happiness Score\n",
       "IncomeGroup                          \n",
       "High income: OECD            6.674000\n",
       "High income: nonOECD         6.250765\n",
       "Low income                   3.925625\n",
       "Lower middle income          4.927971\n",
       "Upper middle income          5.426718"
      ]
     },
     "execution_count": 149,
     "metadata": {},
     "output_type": "execute_result"
    }
   ],
   "source": [
    "pv_income"
   ]
  },
  {
   "cell_type": "code",
   "execution_count": 152,
   "id": "07648c53-160d-4bd6-9805-00f1614fd470",
   "metadata": {},
   "outputs": [
    {
     "data": {
      "image/png": "[encoded data removed]",
      "text/plain": [
       "<Figure size 640x480 with 1 Axes>"
      ]
     },
     "metadata": {},
     "output_type": "display_data"
    }
   ],
   "source": [
    "pv_incomes = merged.pivot_table(index='IncomeGroupCleaned', values='Happiness Score')\n",
    "pv_incomes.plot(kind='bar', ylim=(0,10), rot=30)\n",
    "# plt.xticks(rotation=30)\n",
    "plt.show()"
   ]
  },
  {
   "cell_type": "code",
   "execution_count": 153,
   "id": "4f6b3639-2c9f-41b5-a262-081fa342eba7",
   "metadata": {},
   "outputs": [
    {
     "data": {
      "image/png": "[encoded data removed]",
      "text/plain": [
       "<Figure size 640x480 with 1 Axes>"
      ]
     },
     "metadata": {},
     "output_type": "display_data"
    }
   ],
   "source": [
    "merged['IncomeGroup'] = merged['IncomeGroup'].str.replace(' income', '').str.replace(':', '').str.upper()\n",
    "pv_incomes = merged.pivot_table(values='Happiness Score', index='IncomeGroup')\n",
    "pv_incomes.plot(kind='bar', rot=30, ylim=(0,10))\n",
    "plt.show()"
   ]
  },
  {
   "cell_type": "markdown",
   "id": "f99baab2-e303-498b-b178-7f7f8a6642d6",
   "metadata": {},
   "source": [
    "In this lesson, we explored the benefits of using vectorized string methods, along with a couple methods that can be used to perform tasks such as finding substrings, extracting substrings, and removing substrings from columns. You can find the full list of vectorized string methods [here](https://pandas.pydata.org/pandas-docs/stable/user_guide/text.html#method-summary). We encourage you to explore more string methods or string cleaning tasks independently.\r\n",
    "\r\n",
    "In the next lesson, we'll return to another important data cleaning task - how to handle missing values."
   ]
  },
  {
   "cell_type": "code",
   "execution_count": null,
   "id": "f1e7a49c-eddb-410f-bcaf-2e09f854fe0a",
   "metadata": {},
   "outputs": [],
   "source": []
  }
 ],
 "metadata": {
  "kernelspec": {
   "display_name": "Python 3 (ipykernel)",
   "language": "python",
   "name": "python3"
  },
  "language_info": {
   "codemirror_mode": {
    "name": "ipython",
    "version": 3
   },
   "file_extension": ".py",
   "mimetype": "text/x-python",
   "name": "python",
   "nbconvert_exporter": "python",
   "pygments_lexer": "ipython3",
   "version": "3.12.4"
  }
 },
 "nbformat": 4,
 "nbformat_minor": 5
}
